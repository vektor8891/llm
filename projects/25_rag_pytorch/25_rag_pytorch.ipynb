{
  "cells": [
    {
      "cell_type": "markdown",
      "metadata": {
        "id": "view-in-github",
        "colab_type": "text"
      },
      "source": [
        "<a href=\"https://colab.research.google.com/github/vektor8891/llm/blob/main/projects/25_rag_pytorch/25_rag_pytorch.ipynb\" target=\"_parent\"><img src=\"https://colab.research.google.com/assets/colab-badge.svg\" alt=\"Open In Colab\"/></a>"
      ]
    },
    {
      "cell_type": "markdown",
      "source": [
        "# RAG with PyTorch"
      ],
      "metadata": {
        "id": "HQw37WFrtpNT"
      },
      "id": "HQw37WFrtpNT"
    },
    {
      "cell_type": "markdown",
      "source": [
        "## Defining helper functions"
      ],
      "metadata": {
        "id": "zdio5kZdtsYc"
      },
      "id": "zdio5kZdtsYc"
    },
    {
      "cell_type": "code",
      "execution_count": 1,
      "id": "167effb6",
      "metadata": {
        "id": "167effb6"
      },
      "outputs": [],
      "source": [
        "from sklearn.manifold import TSNE\n",
        "import matplotlib.pyplot as plt\n",
        "import numpy as np\n",
        "\n",
        "def tsne_plot(data, plot):\n",
        "    # Apply t-SNE to reduce to 3D\n",
        "    tsne = TSNE(n_components=3, random_state=42, perplexity=min(50, data.shape[0] - 1))  # Using 50 or less based on data size\n",
        "    data_3d = tsne.fit_transform(data)\n",
        "\n",
        "    # Plotting\n",
        "    fig = plt.figure(figsize=(10, 7))\n",
        "    ax = fig.add_subplot(111, projection='3d')\n",
        "\n",
        "    # Assign colors for each point based on its index\n",
        "    colors = plt.cm.rainbow(np.linspace(0, 1, len(data_3d)))\n",
        "    for idx, point in zip(range(len(data_3d)), data_3d):\n",
        "        ax.scatter(point[0], point[1], point[2], color=colors[idx], label=f'{plot} {idx+1}')\n",
        "\n",
        "    # Adding labels and titles\n",
        "    ax.set_xlabel('TSNE Component 1')\n",
        "    ax.set_ylabel('TSNE Component 2')\n",
        "    ax.set_zlabel('TSNE Component 3')\n",
        "    plt.title('3D t-SNE Visualization of '+ plot +' Embeddings')\n",
        "    plt.legend(title=plot +' Index', bbox_to_anchor=(1.05, 1), loc='upper left')\n",
        "    plt.show()"
      ]
    },
    {
      "cell_type": "markdown",
      "source": [
        "## Embeddings using BERT and PyTorch Hub"
      ],
      "metadata": {
        "id": "wKdJ9zTov2fS"
      },
      "id": "wKdJ9zTov2fS"
    },
    {
      "cell_type": "code",
      "source": [
        "from transformers import BertTokenizer\n",
        "tokenizer = BertTokenizer.from_pretrained('bert-base-uncased')"
      ],
      "metadata": {
        "id": "4N_Cbg-QuPDm",
        "outputId": "e0e28cf4-8ec7-4365-8b54-53b2bb017a5d",
        "colab": {
          "base_uri": "https://localhost:8080/",
          "height": 145,
          "referenced_widgets": [
            "7f537f1d127a455c8e814a63c65e2348",
            "ee2bc5d2605344f4ad8f86d6f035f221",
            "93e879ce14144cd8916007ef8086b758",
            "08f04cc455a047f8a1dad4a254548603",
            "3770476ad3e1446aa32823c77b76cd41",
            "48272a4b6c714db9b89112170cfe3e04",
            "7df6d8989c77460da6d8c1dc8670d4a7",
            "b6c218edfe354ae3816d57b255eb9ce9",
            "c3d69127520e487ab67d094f58443e24",
            "903551b8154d49fa814210f512f93c53",
            "8b4eb44a50d24145907116ca91716553",
            "be6f2457a60749f28054e4d68b97fd3d",
            "017d9079dde84c079ba1df936daa2d74",
            "41e02ae1e7a946c6a8500d8507346d1e",
            "dbfa018fa57b4ff2a07808cebe32171f",
            "5370af39f0e54220ac42e414f61afca2",
            "0851e6757f6148dba2445cad892e4e1b",
            "1f7822a1fd8340879ede26fef5ef8824",
            "a436aa389b5848f883bbc2ab38b750fa",
            "0167c4744c6e499d9a2193dd569b51e2",
            "136eada8ed894913b146a9586a42c7f5",
            "114f4d94a7d0459f8e207541bf30a4fb",
            "110f75638b81476fb8875f8f4f701a0a",
            "6b617a13da9e4878b9ac5d3132e8138b",
            "5f91be0cbc154179836aa6d15a80a443",
            "86ad8b14be72481490405a09e22c646c",
            "c064e9b13932484da11837488d12317a",
            "f985aa5c250045e28a7e0e098ff79a7e",
            "e9387b8bb1834d25bad056786238d2c8",
            "fcd35dd178204ca59205a66d25d0c2ac",
            "c6c4b4aa81504d16a7155eb12a832877",
            "46faa9944aad4ae1967925c80bf4265a",
            "be41c0d636c54a9184a04a7a6de35c90",
            "63016bb6ba854794900e16caf13f4b7a",
            "8416c65f12344f32a9f5cedb5fa380ed",
            "2122b276160f484a833a78b4d0d04143",
            "9da905f9db8b4b47bf6a38ad0505ca18",
            "9e8c3258c94848168bdb25b1b2b1643f",
            "0a54e8215a2e476d98c7678ba2094d3e",
            "baefc44d39bb4da0a999da739e0bf8b2",
            "119487b8a2b2420694b968152b191404",
            "00d46f837f8f41b187cb9eb83d7d92cf",
            "15347f896678422fb86478434ad997a4",
            "379e8415355b4800802443e825fe76c5"
          ]
        }
      },
      "id": "4N_Cbg-QuPDm",
      "execution_count": 2,
      "outputs": [
        {
          "output_type": "display_data",
          "data": {
            "text/plain": [
              "tokenizer_config.json:   0%|          | 0.00/48.0 [00:00<?, ?B/s]"
            ],
            "application/vnd.jupyter.widget-view+json": {
              "version_major": 2,
              "version_minor": 0,
              "model_id": "7f537f1d127a455c8e814a63c65e2348"
            }
          },
          "metadata": {}
        },
        {
          "output_type": "display_data",
          "data": {
            "text/plain": [
              "vocab.txt:   0%|          | 0.00/232k [00:00<?, ?B/s]"
            ],
            "application/vnd.jupyter.widget-view+json": {
              "version_major": 2,
              "version_minor": 0,
              "model_id": "be6f2457a60749f28054e4d68b97fd3d"
            }
          },
          "metadata": {}
        },
        {
          "output_type": "display_data",
          "data": {
            "text/plain": [
              "tokenizer.json:   0%|          | 0.00/466k [00:00<?, ?B/s]"
            ],
            "application/vnd.jupyter.widget-view+json": {
              "version_major": 2,
              "version_minor": 0,
              "model_id": "110f75638b81476fb8875f8f4f701a0a"
            }
          },
          "metadata": {}
        },
        {
          "output_type": "display_data",
          "data": {
            "text/plain": [
              "config.json:   0%|          | 0.00/570 [00:00<?, ?B/s]"
            ],
            "application/vnd.jupyter.widget-view+json": {
              "version_major": 2,
              "version_minor": 0,
              "model_id": "63016bb6ba854794900e16caf13f4b7a"
            }
          },
          "metadata": {}
        }
      ]
    },
    {
      "cell_type": "code",
      "source": [
        "# Input text to get embeddings for\n",
        "input_text = [(\"This is an example sentence for BERT embeddings.\", \"How do you like it \"),(\"There are other models\")]"
      ],
      "metadata": {
        "id": "uGdTeNMXv9gp"
      },
      "id": "uGdTeNMXv9gp",
      "execution_count": 3,
      "outputs": []
    },
    {
      "cell_type": "markdown",
      "source": [
        "### Tokenization"
      ],
      "metadata": {
        "id": "bDfkZq3qwHC7"
      },
      "id": "bDfkZq3qwHC7"
    },
    {
      "cell_type": "code",
      "source": [
        "input_ids = tokenizer.batch_encode_plus(input_text,add_special_tokens=True,padding=True,truncation=True)\n",
        "input_ids"
      ],
      "metadata": {
        "id": "jGL7TUkIwDwe",
        "outputId": "b0e950f2-55b3-47a4-8ff9-d7a8266806f2",
        "colab": {
          "base_uri": "https://localhost:8080/"
        }
      },
      "id": "jGL7TUkIwDwe",
      "execution_count": 4,
      "outputs": [
        {
          "output_type": "execute_result",
          "data": {
            "text/plain": [
              "{'input_ids': [[101, 2023, 2003, 2019, 2742, 6251, 2005, 14324, 7861, 8270, 4667, 2015, 1012, 102, 2129, 2079, 2017, 2066, 2009, 102], [101, 2045, 2024, 2060, 4275, 102, 0, 0, 0, 0, 0, 0, 0, 0, 0, 0, 0, 0, 0, 0]], 'token_type_ids': [[0, 0, 0, 0, 0, 0, 0, 0, 0, 0, 0, 0, 0, 0, 1, 1, 1, 1, 1, 1], [0, 0, 0, 0, 0, 0, 0, 0, 0, 0, 0, 0, 0, 0, 0, 0, 0, 0, 0, 0]], 'attention_mask': [[1, 1, 1, 1, 1, 1, 1, 1, 1, 1, 1, 1, 1, 1, 1, 1, 1, 1, 1, 1], [1, 1, 1, 1, 1, 1, 0, 0, 0, 0, 0, 0, 0, 0, 0, 0, 0, 0, 0, 0]]}"
            ]
          },
          "metadata": {},
          "execution_count": 4
        }
      ]
    },
    {
      "cell_type": "markdown",
      "source": [
        "### Text decoding and verification"
      ],
      "metadata": {
        "id": "um5Ibfeexvc0"
      },
      "id": "um5Ibfeexvc0"
    },
    {
      "cell_type": "code",
      "source": [
        "text=tokenizer.decode(input_ids['input_ids'][0])\n",
        "print(text)\n",
        "print(f\"length {len(text.split())}\")"
      ],
      "metadata": {
        "id": "KERvaUNdw6Qs",
        "outputId": "c4503043-df80-4f62-931e-3355f82b952c",
        "colab": {
          "base_uri": "https://localhost:8080/"
        }
      },
      "id": "KERvaUNdw6Qs",
      "execution_count": 5,
      "outputs": [
        {
          "output_type": "stream",
          "name": "stdout",
          "text": [
            "[CLS] this is an example sentence for bert embeddings. [SEP] how do you like it [SEP]\n",
            "length 16\n"
          ]
        }
      ]
    },
    {
      "cell_type": "code",
      "source": [
        "input_ids['attention_mask']"
      ],
      "metadata": {
        "id": "yAhzdOzrw9EZ",
        "outputId": "7bd34aad-8f76-439c-9b6b-ebf457f2e4a8",
        "colab": {
          "base_uri": "https://localhost:8080/"
        }
      },
      "id": "yAhzdOzrw9EZ",
      "execution_count": 6,
      "outputs": [
        {
          "output_type": "execute_result",
          "data": {
            "text/plain": [
              "[[1, 1, 1, 1, 1, 1, 1, 1, 1, 1, 1, 1, 1, 1, 1, 1, 1, 1, 1, 1],\n",
              " [1, 1, 1, 1, 1, 1, 0, 0, 0, 0, 0, 0, 0, 0, 0, 0, 0, 0, 0, 0]]"
            ]
          },
          "metadata": {},
          "execution_count": 6
        }
      ]
    },
    {
      "cell_type": "markdown",
      "source": [
        "### Device and Convert Tensor"
      ],
      "metadata": {
        "id": "0GiYi5YYzqCO"
      },
      "id": "0GiYi5YYzqCO"
    },
    {
      "cell_type": "code",
      "source": [
        "import torch\n",
        "\n",
        "DEVICE = torch.device(\"cuda\" if torch.cuda.is_available() else \"cpu\")\n",
        "DEVICE"
      ],
      "metadata": {
        "id": "9saZDzuSzn-O",
        "outputId": "4f0feb1b-62db-433f-8d1c-8b3b4bcc678d",
        "colab": {
          "base_uri": "https://localhost:8080/"
        }
      },
      "id": "9saZDzuSzn-O",
      "execution_count": 7,
      "outputs": [
        {
          "output_type": "execute_result",
          "data": {
            "text/plain": [
              "device(type='cpu')"
            ]
          },
          "metadata": {},
          "execution_count": 7
        }
      ]
    },
    {
      "cell_type": "code",
      "source": [
        "input_ids_tensors = torch.tensor(input_ids['input_ids']).to(DEVICE)\n",
        "mask_tensors = torch.tensor(input_ids['attention_mask']).to(DEVICE)"
      ],
      "metadata": {
        "id": "2OdWX0iXztTI"
      },
      "id": "2OdWX0iXztTI",
      "execution_count": 8,
      "outputs": []
    },
    {
      "cell_type": "markdown",
      "source": [
        "### Loading the BERT model"
      ],
      "metadata": {
        "id": "mq9gP0qlz-ab"
      },
      "id": "mq9gP0qlz-ab"
    },
    {
      "cell_type": "code",
      "source": [
        "from transformers import BertModel\n",
        "bert_model = BertModel.from_pretrained('bert-base-uncased')"
      ],
      "metadata": {
        "id": "6Us2MvyWztdR",
        "outputId": "a4d1ac10-a9c3-4bb2-a6df-de309017d793",
        "colab": {
          "base_uri": "https://localhost:8080/",
          "height": 49,
          "referenced_widgets": [
            "08622e1fc1954402ae423defb27120ae",
            "b5ecdc9741914d1ab83c1801826872f4",
            "e281c17133304feb8a826ab89f5fe6e5",
            "b25b7491fb6643169b2e06a52015bba5",
            "b5d4299dff23434ca5d33c1f850dbe9f",
            "69b354a2b16a40f4be17a9e2ed2ddd97",
            "e614648d25464c609be9f7a32522d878",
            "050bf86f20f34ef7ad0c3a167d472c10",
            "a7de6495b1a04b6e9a3fac09f9941ef0",
            "5631a950de034b1e8d0e1df82079665b",
            "17a995a64da049a4a63a5d07ac902949"
          ]
        }
      },
      "id": "6Us2MvyWztdR",
      "execution_count": 9,
      "outputs": [
        {
          "output_type": "display_data",
          "data": {
            "text/plain": [
              "model.safetensors:   0%|          | 0.00/440M [00:00<?, ?B/s]"
            ],
            "application/vnd.jupyter.widget-view+json": {
              "version_major": 2,
              "version_minor": 0,
              "model_id": "08622e1fc1954402ae423defb27120ae"
            }
          },
          "metadata": {}
        }
      ]
    },
    {
      "cell_type": "code",
      "source": [
        "bert_model.to(DEVICE)"
      ],
      "metadata": {
        "id": "t0NThFD90AfS",
        "outputId": "6c6c082f-c695-4f0e-ea4e-c93e649d2783",
        "colab": {
          "base_uri": "https://localhost:8080/"
        }
      },
      "id": "t0NThFD90AfS",
      "execution_count": 10,
      "outputs": [
        {
          "output_type": "execute_result",
          "data": {
            "text/plain": [
              "BertModel(\n",
              "  (embeddings): BertEmbeddings(\n",
              "    (word_embeddings): Embedding(30522, 768, padding_idx=0)\n",
              "    (position_embeddings): Embedding(512, 768)\n",
              "    (token_type_embeddings): Embedding(2, 768)\n",
              "    (LayerNorm): LayerNorm((768,), eps=1e-12, elementwise_affine=True)\n",
              "    (dropout): Dropout(p=0.1, inplace=False)\n",
              "  )\n",
              "  (encoder): BertEncoder(\n",
              "    (layer): ModuleList(\n",
              "      (0-11): 12 x BertLayer(\n",
              "        (attention): BertAttention(\n",
              "          (self): BertSdpaSelfAttention(\n",
              "            (query): Linear(in_features=768, out_features=768, bias=True)\n",
              "            (key): Linear(in_features=768, out_features=768, bias=True)\n",
              "            (value): Linear(in_features=768, out_features=768, bias=True)\n",
              "            (dropout): Dropout(p=0.1, inplace=False)\n",
              "          )\n",
              "          (output): BertSelfOutput(\n",
              "            (dense): Linear(in_features=768, out_features=768, bias=True)\n",
              "            (LayerNorm): LayerNorm((768,), eps=1e-12, elementwise_affine=True)\n",
              "            (dropout): Dropout(p=0.1, inplace=False)\n",
              "          )\n",
              "        )\n",
              "        (intermediate): BertIntermediate(\n",
              "          (dense): Linear(in_features=768, out_features=3072, bias=True)\n",
              "          (intermediate_act_fn): GELUActivation()\n",
              "        )\n",
              "        (output): BertOutput(\n",
              "          (dense): Linear(in_features=3072, out_features=768, bias=True)\n",
              "          (LayerNorm): LayerNorm((768,), eps=1e-12, elementwise_affine=True)\n",
              "          (dropout): Dropout(p=0.1, inplace=False)\n",
              "        )\n",
              "      )\n",
              "    )\n",
              "  )\n",
              "  (pooler): BertPooler(\n",
              "    (dense): Linear(in_features=768, out_features=768, bias=True)\n",
              "    (activation): Tanh()\n",
              "  )\n",
              ")"
            ]
          },
          "metadata": {},
          "execution_count": 10
        }
      ]
    },
    {
      "cell_type": "code",
      "source": [
        "word_embding=bert_model(input_ids_tensors,mask_tensors)"
      ],
      "metadata": {
        "id": "Ec_MZDuu0CG7"
      },
      "id": "Ec_MZDuu0CG7",
      "execution_count": 11,
      "outputs": []
    },
    {
      "cell_type": "markdown",
      "source": [
        "### Generating aggregated mean embeddings using BERT for RAG"
      ],
      "metadata": {
        "id": "vG5QbtDN0FNw"
      },
      "id": "vG5QbtDN0FNw"
    },
    {
      "cell_type": "code",
      "source": [
        "from tqdm import tqdm\n",
        "\n",
        "# Initialize a list to store the mean embeddings for each input sequence\n",
        "aggregated_mean_embeddings = []\n",
        "\n",
        "# Loop over each pair of input_ids and attention_masks\n",
        "for token_ids, attention_mask in tqdm(zip(input_ids['input_ids'], input_ids['attention_mask'])):\n",
        "    # Convert list of token ids and attention mask to tensors\n",
        "    token_ids_tensor = torch.tensor([token_ids]).to(DEVICE)\n",
        "    attention_mask_tensor = torch.tensor([attention_mask]).to(DEVICE)\n",
        "    print(\"token_ids_tensor shape:\",token_ids_tensor.shape, attention_mask_tensor.shape)  # Print the shapes of the input tensors\n",
        "    with torch.no_grad():  # Disable gradient calculations for faster execution\n",
        "        # Retrieve the batch of word embeddings from the BERT model\n",
        "        embeddings = bert_model(token_ids_tensor, attention_mask=attention_mask_tensor)[0].squeeze(0)\n",
        "        print(\"Word embeddings shape:\", embeddings.shape)\n",
        "\n",
        "        # Count and print the number of zero-padding embeddings\n",
        "        num_zero_paddings = (attention_mask_tensor == 0).sum().item()\n",
        "        print(\"Number of zero padding embeddings:\", num_zero_paddings)\n",
        "\n",
        "        # Create a mask for positions that are not zero-padded\n",
        "        valid_embeddings_mask = attention_mask_tensor[0] != 0\n",
        "        print(\"valid_embeddings_mask:\",valid_embeddings_mask)\n",
        "\n",
        "        # Filter out the embeddings corresponding to zero-padded positions\n",
        "        filtered_embeddings = embeddings[valid_embeddings_mask, :]\n",
        "        print(\"Word embeddings after zero padding embeddings removed:\", filtered_embeddings.shape)\n",
        "\n",
        "        # Compute the mean of the filtered embeddings\n",
        "        mean_embedding = filtered_embeddings.mean(axis=0)\n",
        "        print(\"Mean embedding shape:\", mean_embedding.shape)\n",
        "\n",
        "        # Append the mean embedding to the list, adding a batch dimension\n",
        "        aggregated_mean_embeddings.append(mean_embedding.unsqueeze(0))\n",
        "\n",
        "# Concatenate all mean embeddings to form a single tensor\n",
        "aggregated_mean_embeddings = torch.cat(aggregated_mean_embeddings)\n",
        "print('All mean embeddings shape:', aggregated_mean_embeddings.shape)"
      ],
      "metadata": {
        "id": "LDZrCuzK0DUm",
        "outputId": "e2b6f3d2-0576-408b-af93-95f439fdc32f",
        "colab": {
          "base_uri": "https://localhost:8080/"
        }
      },
      "id": "LDZrCuzK0DUm",
      "execution_count": 12,
      "outputs": [
        {
          "output_type": "stream",
          "name": "stderr",
          "text": [
            "1it [00:00,  5.74it/s]"
          ]
        },
        {
          "output_type": "stream",
          "name": "stdout",
          "text": [
            "token_ids_tensor shape: torch.Size([1, 20]) torch.Size([1, 20])\n",
            "Word embeddings shape: torch.Size([20, 768])\n",
            "Number of zero padding embeddings: 0\n",
            "valid_embeddings_mask: tensor([True, True, True, True, True, True, True, True, True, True, True, True,\n",
            "        True, True, True, True, True, True, True, True])\n",
            "Word embeddings after zero padding embeddings removed: torch.Size([20, 768])\n",
            "Mean embedding shape: torch.Size([768])\n",
            "token_ids_tensor shape: torch.Size([1, 20]) torch.Size([1, 20])\n"
          ]
        },
        {
          "output_type": "stream",
          "name": "stderr",
          "text": [
            "2it [00:00,  5.63it/s]"
          ]
        },
        {
          "output_type": "stream",
          "name": "stdout",
          "text": [
            "Word embeddings shape: torch.Size([20, 768])\n",
            "Number of zero padding embeddings: 14\n",
            "valid_embeddings_mask: tensor([ True,  True,  True,  True,  True,  True, False, False, False, False,\n",
            "        False, False, False, False, False, False, False, False, False, False])\n",
            "Word embeddings after zero padding embeddings removed: torch.Size([6, 768])\n",
            "Mean embedding shape: torch.Size([768])\n",
            "All mean embeddings shape: torch.Size([2, 768])\n"
          ]
        },
        {
          "output_type": "stream",
          "name": "stderr",
          "text": [
            "\n"
          ]
        }
      ]
    },
    {
      "cell_type": "code",
      "source": [
        "def aggregate_embeddings(input_ids, attention_masks, bert_model=bert_model):\n",
        "    \"\"\"\n",
        "    Converts token indices and masks to word embeddings, filters out zero-padded embeddings,\n",
        "    and aggregates them by computing the mean embedding for each input sequence.\n",
        "\n",
        "    \"\"\"\n",
        "    mean_embeddings = []\n",
        "    # Process each sequence in the batch\n",
        "    print('number of inputs',len(input_ids))\n",
        "    for input_id, mask in tqdm(zip(input_ids, attention_masks)):\n",
        "        input_ids_tensor = torch.tensor([input_id]).to(DEVICE)\n",
        "        mask_tensor = torch.tensor([mask]).to(DEVICE)\n",
        "\n",
        "        with torch.no_grad():\n",
        "            # Obtain the word embeddings from the BERT model\n",
        "            word_embeddings = bert_model(input_ids_tensor, attention_mask=mask_tensor)[0].squeeze(0)\n",
        "\n",
        "            # Filter out the embeddings at positions where the mask is zero\n",
        "            valid_embeddings_mask=mask_tensor[0] != 0\n",
        "            valid_embeddings = word_embeddings[valid_embeddings_mask,:]\n",
        "            # Compute the mean of the filtered embeddings\n",
        "            mean_embedding = valid_embeddings.mean(dim=0)\n",
        "            mean_embeddings.append(mean_embedding.unsqueeze(0))\n",
        "\n",
        "    # Concatenate the mean embeddings from all sequences in the batch\n",
        "    aggregated_mean_embeddings = torch.cat(mean_embeddings)\n",
        "    return aggregated_mean_embeddings"
      ],
      "metadata": {
        "id": "5zqHoIGG0G5p"
      },
      "id": "5zqHoIGG0G5p",
      "execution_count": 13,
      "outputs": []
    },
    {
      "cell_type": "code",
      "source": [
        "def text_to_emb(list_of_text,max_input=512):\n",
        "    data_token_index  = tokenizer.batch_encode_plus(list_of_text, add_special_tokens=True,padding=True,truncation=True,max_length=max_input)\n",
        "    question_embeddings=aggregate_embeddings(data_token_index['input_ids'], data_token_index['attention_mask'])\n",
        "    return question_embeddings"
      ],
      "metadata": {
        "id": "rzOHtsRA0l0-"
      },
      "id": "rzOHtsRA0l0-",
      "execution_count": 14,
      "outputs": []
    },
    {
      "cell_type": "markdown",
      "source": [
        "## Convert questions and the song lyrics into embeddings\n"
      ],
      "metadata": {
        "id": "pbJ2KooI0qXD"
      },
      "id": "pbJ2KooI0qXD"
    },
    {
      "cell_type": "code",
      "source": [
        "import re\n",
        "def process_song(song):\n",
        "    # Remove line breaks from the song\n",
        "    song_new = re.sub(r'[\\n]', ' ', song)\n",
        "\n",
        "    # Remove single quotes from the song\n",
        "    song_new = [song_new.replace(\"\\'\", \"\")]\n",
        "\n",
        "    return song_new"
      ],
      "metadata": {
        "id": "sHxUVY040nPP"
      },
      "id": "sHxUVY040nPP",
      "execution_count": 15,
      "outputs": []
    },
    {
      "cell_type": "code",
      "source": [
        "song_questions = [\n",
        "    \"Does this song contain any violent themes, such as references to guns, killing, or physical aggression? Example: Does the song describe or promote physical violence, like fighting or shootings?\",\n",
        "    \"Are there any explicit lyrics or bad words used in this song that might be considered offensive or inappropriate? Example: Does the song use language commonly recognized as profanity or derogatory terms?\",\n",
        "    \"Is the overall content of this song suitable for children, considering its themes, language, and messages? Example: Are there elements in the song that could be deemed too mature or unsuitable for young listeners?\",\n",
        "    \"Does this song explicitly mention weapons, such as guns, knives, or other similar items? Example: Are specific types of weapons described or glorified in the lyrics?\",\n",
        "    \"Are the messages conveyed in this song positive and uplifting for children? Example: Does the song promote values like kindness, friendship, and positivity?\",\n",
        "    \"Does this song include any sexual content, references to sexual behavior, or suggestive language? Example: Are there lyrics that explicitly or implicitly discuss sexual themes or experiences?\",\n",
        "    \"Does this song offer any educational value, such as teaching the alphabet, basic math, or other learning content? Example: Are there educational segments in the song that could help children learn fundamental skills like the ABCs or counting?\",\n",
        "    \"Does this song promote emotional resilience and social skills among children? Example: Does the song include themes of overcoming challenges or building friendships?\"\n",
        "]"
      ],
      "metadata": {
        "id": "vvABJlxy0s_U"
      },
      "id": "vvABJlxy0s_U",
      "execution_count": 16,
      "outputs": []
    },
    {
      "cell_type": "code",
      "source": [
        "embeddings_questions=street=text_to_emb(song_questions)"
      ],
      "metadata": {
        "id": "s6-H5PbK0wIX",
        "outputId": "5eaa5dc3-7798-4d6e-d36a-f1e8b0f39090",
        "colab": {
          "base_uri": "https://localhost:8080/"
        }
      },
      "id": "s6-H5PbK0wIX",
      "execution_count": 17,
      "outputs": [
        {
          "output_type": "stream",
          "name": "stdout",
          "text": [
            "number of inputs 8\n"
          ]
        },
        {
          "output_type": "stream",
          "name": "stderr",
          "text": [
            "8it [00:01,  4.34it/s]\n"
          ]
        }
      ]
    },
    {
      "cell_type": "code",
      "source": [
        "tsne_plot(embeddings_questions, \"Question\")"
      ],
      "metadata": {
        "id": "V8qmwC_G0096",
        "outputId": "c88f10ca-6c8e-487f-e2d6-72430e95bc2f",
        "colab": {
          "base_uri": "https://localhost:8080/",
          "height": 598
        }
      },
      "id": "V8qmwC_G0096",
      "execution_count": 18,
      "outputs": [
        {
          "output_type": "display_data",
          "data": {
            "text/plain": [
              "<Figure size 1000x700 with 1 Axes>"
            ],
            "image/png": "[encoded data removed]"
          },
          "metadata": {}
        }
      ]
    },
    {
      "cell_type": "code",
      "source": [
        "yes_responses = [\n",
        "    \"Yes, this song contains violent themes, including references to guns, killing, or physical aggression, and is not suitable for children.\",\n",
        "    \"Yes, this song includes explicit lyrics or bad words that might be considered offensive or inappropriate for young audiences.\",\n",
        "    \"No, the overall content of this song is not suitable for children as it includes themes, language, and messages that are too mature or unsuitable for young listeners.\",\n",
        "    \"Yes, this song explicitly mentions weapons, such as guns and knives, which could be disturbing or inappropriate for children’s entertainment.\",\n",
        "    \"Yes, the messages conveyed in this song are positive and uplifting, promoting values like kindness, friendship, and positivity, beneficial for children.\",\n",
        "    \"Yes, this song includes sexual content and references to sexual behavior or suggestive language, which are inappropriate for a child-friendly environment.\",\n",
        "    \"Yes, this song offers significant educational value, including segments that teach the alphabet, basic math, and other learning content, making it both fun and educational for children.\",\n",
        "    \"Yes, this song promotes emotional resilience and social skills, incorporating themes about overcoming challenges and building friendships, which are essential for children's development.\"\n",
        "]"
      ],
      "metadata": {
        "id": "jrCxJqXq03K_"
      },
      "id": "jrCxJqXq03K_",
      "execution_count": 19,
      "outputs": []
    },
    {
      "cell_type": "code",
      "source": [
        "embeddings_responses = text_to_emb(yes_responses)"
      ],
      "metadata": {
        "id": "yoTnYB401xY8",
        "outputId": "9efdfd6f-651f-4f10-b5bc-1e3b6c206eec",
        "colab": {
          "base_uri": "https://localhost:8080/"
        }
      },
      "id": "yoTnYB401xY8",
      "execution_count": 20,
      "outputs": [
        {
          "output_type": "stream",
          "name": "stdout",
          "text": [
            "number of inputs 8\n"
          ]
        },
        {
          "output_type": "stream",
          "name": "stderr",
          "text": [
            "8it [00:01,  6.86it/s]\n"
          ]
        }
      ]
    },
    {
      "cell_type": "code",
      "source": [
        "tsne_plot(embeddings_responses, \"Response\")"
      ],
      "metadata": {
        "id": "uxtnnkRy1yfM",
        "outputId": "9a6a6d12-6699-4f3d-e9eb-5eb4030cfac8",
        "colab": {
          "base_uri": "https://localhost:8080/",
          "height": 598
        }
      },
      "id": "uxtnnkRy1yfM",
      "execution_count": 21,
      "outputs": [
        {
          "output_type": "display_data",
          "data": {
            "text/plain": [
              "<Figure size 1000x700 with 1 Axes>"
            ],
            "image/png": "[encoded data removed]"
          },
          "metadata": {}
        }
      ]
    },
    {
      "cell_type": "code",
      "source": [
        "song_rage = \"\"\"\n",
        "This time the bullet cold rocked ya yeah\n",
        "A yellow ribbon instead of a swastika\n",
        "Nothing proper about ya propaganda\n",
        "Fools follow rules when the set command ya\n",
        "Said it was blue when ya blood was read yeah\n",
        "That's how you got a bullet blasted through ya head\n",
        "Blasted through ya head blasted through ya head\n",
        "I give a shout out to the living dead\n",
        "Who stood and watched as the feds cold centralized\n",
        "So serene on the screen he was mesmerized\n",
        "Cellular the phones sounding a death tone\n",
        "Corporations cold turn ya to stone before ya realize\n",
        "They load the clip in omnicolour\n",
        "Said they pack the 9 they fire it at prime time\n",
        "The sleeping gas every home was like alcatraz\n",
        "And mutha f**kas lost their minds\n",
        "Just victims of the in house drive by\n",
        "They say jump you say how high yeah\n",
        "Just victims of the in house drive by\n",
        "They say jump you say how high\n",
        "Jumping sheld off\n",
        "Yeh just cream for\n",
        "\n",
        "Just victims of the in house drive by\n",
        "They say jump you say how high yeah\n",
        "Just victims of the in house drive by\n",
        "They say jump you say how high\n",
        "Checka checka check it out\n",
        "Load load the clip wow each other\n",
        "Said they pack the 9 they fire it at prime time\n",
        "The sleeping gas every home was like alcatraz\n",
        "And mutha f**kas lost their minds\n",
        "No escape from the mass mind rape\n",
        "Play it again jack and then rewind the tape\n",
        "And then play it again and again and again\n",
        "Until ya mind is locked in\n",
        "Believing all the lies that they're telling ya\n",
        "Buying all the products that they're selling ya\n",
        "They say jump and ya say how high\n",
        "Ya brain dead you got a f**king bullet in ya head\n",
        "Just victims of the in house drive by\n",
        "They say jump you say how high yeah\n",
        "Just victims of the in house drive by\n",
        "They say jump you say how high\n",
        "Ya standing in line believing the lies\n",
        "Ya bowing down to the flag ya got a bullet in ya head\n",
        "Am i standing in line am i believing the lies\n",
        "I'm bowing down to the flag i got a bullet in my head\n",
        "Bullet in ya head bullet in ya head\n",
        "Bullet in ya head bullet in ya head\n",
        "A bullet in ya head a bullet in ya head\n",
        "A bullet in ya head a bullet in ya head\n",
        "A bullet in ya head a bullet in ya head\n",
        "A bullet in ya head a bullet in ya head\n",
        "A bullet in ya head a bullet in ya head\n",
        "A bullet in ya head you gotta bullet in your f**king head\n",
        "Yeah yeah\n",
        "\"\"\""
      ],
      "metadata": {
        "id": "tU1wtLLj10bt"
      },
      "id": "tU1wtLLj10bt",
      "execution_count": 22,
      "outputs": []
    },
    {
      "cell_type": "code",
      "source": [
        "song_rage=process_song(song_rage)\n",
        "embeddings_rage=text_to_emb(song_rage)\n",
        "embeddings_rage.shape"
      ],
      "metadata": {
        "id": "kdsQnP-g2QUt",
        "outputId": "baa9edb5-3a2d-48e2-a433-95c45b74fdfe",
        "colab": {
          "base_uri": "https://localhost:8080/"
        }
      },
      "id": "kdsQnP-g2QUt",
      "execution_count": 23,
      "outputs": [
        {
          "output_type": "stream",
          "name": "stdout",
          "text": [
            "number of inputs 1\n"
          ]
        },
        {
          "output_type": "stream",
          "name": "stderr",
          "text": [
            "1it [00:01,  1.47s/it]\n"
          ]
        },
        {
          "output_type": "execute_result",
          "data": {
            "text/plain": [
              "torch.Size([1, 768])"
            ]
          },
          "metadata": {},
          "execution_count": 23
        }
      ]
    },
    {
      "cell_type": "code",
      "source": [
        "sesame_street = \"\"\"\n",
        "Sunny day\n",
        "Sweepin' the clouds away\n",
        "On my way to where the air is sweet\n",
        "Can you tell me how to get\n",
        "How to get to Sesame Street?\n",
        "\n",
        "Come and play\n",
        "Everything's A-okay\n",
        "Friendly neighbors there\n",
        "That's where we meet\n",
        "Can you tell me how to get\n",
        "How to get to Sesame Street?\n",
        "\n",
        "It's a magic carpet ride\n",
        "Every door will open wide\n",
        "To happy people like you\n",
        "Happy people like\n",
        "What a beautiful\n",
        "\n",
        "Sunny day\n",
        "Sweepin' the clouds away\n",
        "On my way to where the air is sweet\n",
        "Can you tell me how to get\n",
        "How to get to Sesame Street?\n",
        "How to get to Sesame Street?\n",
        "How to get to Sesame Street?\n",
        "How to get to Sesame Street?\n",
        "How to get to Sesame Street?\n",
        "\"\"\""
      ],
      "metadata": {
        "id": "g9b22HvE2T9k"
      },
      "id": "g9b22HvE2T9k",
      "execution_count": 24,
      "outputs": []
    },
    {
      "cell_type": "code",
      "source": [
        "song_sesame_street= process_song(sesame_street)\n",
        "embeddings_sesame_street=text_to_emb(song_sesame_street)"
      ],
      "metadata": {
        "id": "VhQVlrRp2ZjZ",
        "outputId": "7f8d3465-eda4-4c90-d028-1dfe6f3253f9",
        "colab": {
          "base_uri": "https://localhost:8080/"
        }
      },
      "id": "VhQVlrRp2ZjZ",
      "execution_count": 25,
      "outputs": [
        {
          "output_type": "stream",
          "name": "stdout",
          "text": [
            "number of inputs 1\n"
          ]
        },
        {
          "output_type": "stream",
          "name": "stderr",
          "text": [
            "1it [00:00,  2.19it/s]\n"
          ]
        }
      ]
    },
    {
      "cell_type": "code",
      "source": [
        "straight_outta_compton_lyrics = \"\"\"\n",
        "You are now about to witness the strength of street knowledge\n",
        "Straight outta Compton, crazy motherfucker named Ice Cube\n",
        "From the gang called Niggaz With Attitudes\n",
        "When I'm called off, I got a sawed off\n",
        "Squeeze the trigger, and bodies are hauled off\n",
        "You too, boy, if ya fuck with me\n",
        "The police are gonna have to come and get me\n",
        "Off yo' ass, that's how I'm goin' out\n",
        "For the punk motherfuckers, that's showin' out\n",
        "Niggas start to mumble, they wanna rumble\n",
        "Mix 'em and cook 'em in a pot like gumbo\n",
        "Goin' off on a motherfucker like that\n",
        "With a gat that's pointed at yo' ass\n",
        "So give it up smooth\n",
        "Ain't no tellin' when I'm down for a jack move\n",
        "Here's a murder rap to keep yo' dancin'\n",
        "With a crime record like Charles Manson\n",
        "AK-47 is the tool\n",
        "Don't make me act the motherfuckin' fool\n",
        "Me you can go toe to toe, no maybe\n",
        "I'm knockin' niggas out tha box daily\n",
        "Yo, weekly, monthly and yearly\n",
        "Until them dumb motherfuckers see clearly\n",
        "That I'm down with the capital C-P-T\n",
        "Boy, you can't fuck with me\n",
        "So when I'm in your neighborhood, you better duck\n",
        "'Cause Ice Cube is crazy as fuck\n",
        "As I leave, believe I'm stompin'\n",
        "But when I come back, boy, I'm comin' straight outta Compton\n",
        "Yo, Ren\n",
        "Whassup?\n",
        "Tell 'em where you from!\n",
        "Straight outta Compton, another crazy ass nigga\n",
        "More punks I smoke, yo, my rep gets bigger\n",
        "I'm a bad motherfucker and you know this\n",
        "But the pussy ass niggas don't show this\n",
        "But I don't give a fuck, I'ma make my snaps\n",
        "If not from the records, from jackin' the crops\n",
        "Just like burglary, the definition is jackin'\n",
        "And when illegally armed, it's called 'packin'\n",
        "Shoot a motherfucker in a minute\n",
        "I find a good piece o' pussy, I go up in it\n",
        "So if you're at a show in the front row\n",
        "I'ma call you a bitch or dirty-ass ho\n",
        "You'll probably get mad like a bitch is supposed to\n",
        "But that shows me, slut, you're composed to\n",
        "A crazy motherfucker from the street\n",
        "Attitude legit 'cause I'm tearin' up shit\n",
        "MC Ren controls the automatic\n",
        "For any dumb motherfucker that starts static\n",
        "Not the right-hand 'cause I'm the hand itself\n",
        "Every time I pull a AK off the shelf\n",
        "The security is maximum and that's a law\n",
        "R-E-N spells Ren but I'm raw\n",
        "See, 'cause I'm the motherfuckin' villain\n",
        "The definition is clear, you're the witness of a killin'\n",
        "That's takin' place without a clue\n",
        "And once you're on the scope, your ass is through\n",
        "Look, you might take it as a trip\n",
        "But a nigga like Ren is on a gangsta tip\n",
        "Straight outta Compton\n",
        "Eazy is his name, and the boy is comin'\n",
        "Straight outta Compton\n",
        "Is a brother that'll smother yo' mother\n",
        "And make ya sister think I love her\n",
        "Dangerous motherfucker raises hell\n",
        "And if I ever get caught, I make bail\n",
        "See, I don't give a fuck, that's the problem\n",
        "I see a motherfuckin' cop, I don't dodge him\n",
        "But I'm smart, lay low, creep a while\n",
        "And when I see a punk pass, I smile\n",
        "To me, it's kinda funny, the attitude showin' a nigga drivin'\n",
        "But don't know where the fuck he's going, just rollin'\n",
        "Lookin' for the one they call Eazy\n",
        "But here's a flash, they never seize me\n",
        "Ruthless! Never seen like a shadow in the dark\n",
        "Except when I unload, see I'll get over the hesitation\n",
        "And hear the scream of the one who got the last penetration\n",
        "Give a little gust of wind and I'm jettin'\n",
        "But leave a memory no one'll be forgettin'\n",
        "So what about the bitch who got shot? Fuck her!\n",
        "You think I give a damn about a bitch? I ain't a sucker!\n",
        "This is the autobiography of the E, and if you ever fuck with me\n",
        "You'll get taken by a stupid dope brother who will smother\n",
        "Word to the motherfucker, straight outta Compton\n",
        "Damn, that shit was dope!\n",
        "\"\"\""
      ],
      "metadata": {
        "id": "4E2XoHdt2c3W"
      },
      "id": "4E2XoHdt2c3W",
      "execution_count": 26,
      "outputs": []
    },
    {
      "cell_type": "code",
      "source": [
        "straight_outta_compton_lyrics= process_song(straight_outta_compton_lyrics)\n",
        "embeddings_compton=text_to_emb(straight_outta_compton_lyrics)"
      ],
      "metadata": {
        "id": "f3LpBm4p2rTK",
        "outputId": "6657fe16-15e3-4ea8-9bcc-922b3de34d50",
        "colab": {
          "base_uri": "https://localhost:8080/"
        }
      },
      "id": "f3LpBm4p2rTK",
      "execution_count": 27,
      "outputs": [
        {
          "output_type": "stream",
          "name": "stdout",
          "text": [
            "number of inputs 1\n"
          ]
        },
        {
          "output_type": "stream",
          "name": "stderr",
          "text": [
            "1it [00:02,  2.18s/it]\n"
          ]
        }
      ]
    },
    {
      "cell_type": "code",
      "source": [
        "my_shoe_lyrics=\"\"\"Barney is a dinosaur from our imagination\n",
        "And when he's tall\n",
        "He's what we call a dinosaur sensation\n",
        "Barney's friends are big and small\n",
        "They come from lots of places\n",
        "After school they meet to play\n",
        "And sing with happy faces\n",
        "Barney shows us lots of things\n",
        "Like how to play pretend\n",
        "ABC's, and 123's\n",
        "And how to be a friend\n",
        "Barney comes to play with us\n",
        "Whenever we may need him\n",
        "Barney can be your friend too\n",
        "If you just make-believe him!\"\"\""
      ],
      "metadata": {
        "id": "8tWMUpZk2tks"
      },
      "id": "8tWMUpZk2tks",
      "execution_count": 28,
      "outputs": []
    },
    {
      "cell_type": "code",
      "source": [
        "my_shoe_lyrics= process_song(my_shoe_lyrics)\n",
        "embeddings_my_shoe=text_to_emb(my_shoe_lyrics)"
      ],
      "metadata": {
        "id": "lCJt0Xss2vO8",
        "outputId": "9d2399a5-e823-47cc-d54e-81a8f2adc0f0",
        "colab": {
          "base_uri": "https://localhost:8080/"
        }
      },
      "id": "lCJt0Xss2vO8",
      "execution_count": 29,
      "outputs": [
        {
          "output_type": "stream",
          "name": "stdout",
          "text": [
            "number of inputs 1\n"
          ]
        },
        {
          "output_type": "stream",
          "name": "stderr",
          "text": [
            "1it [00:00,  3.20it/s]\n"
          ]
        }
      ]
    },
    {
      "cell_type": "code",
      "source": [
        "songs = [song_rage, song_sesame_street, straight_outta_compton_lyrics, my_shoe_lyrics]\n",
        "embeddings = [text_to_emb(song) for song in songs]\n",
        "all_embeddings = np.vstack(embeddings)"
      ],
      "metadata": {
        "id": "kqWL-nBX2w76",
        "outputId": "9e40c673-7638-464f-8cc7-c78b1521c823",
        "colab": {
          "base_uri": "https://localhost:8080/"
        }
      },
      "id": "kqWL-nBX2w76",
      "execution_count": 30,
      "outputs": [
        {
          "output_type": "stream",
          "name": "stdout",
          "text": [
            "number of inputs 1\n"
          ]
        },
        {
          "output_type": "stream",
          "name": "stderr",
          "text": [
            "1it [00:01,  1.42s/it]\n"
          ]
        },
        {
          "output_type": "stream",
          "name": "stdout",
          "text": [
            "number of inputs 1\n"
          ]
        },
        {
          "output_type": "stream",
          "name": "stderr",
          "text": [
            "1it [00:00,  2.35it/s]\n"
          ]
        },
        {
          "output_type": "stream",
          "name": "stdout",
          "text": [
            "number of inputs 1\n"
          ]
        },
        {
          "output_type": "stream",
          "name": "stderr",
          "text": [
            "1it [00:02,  2.10s/it]\n"
          ]
        },
        {
          "output_type": "stream",
          "name": "stdout",
          "text": [
            "number of inputs 1\n"
          ]
        },
        {
          "output_type": "stream",
          "name": "stderr",
          "text": [
            "1it [00:00,  2.07it/s]\n"
          ]
        }
      ]
    },
    {
      "cell_type": "code",
      "source": [
        "tsne_plot(all_embeddings, \"Song\")"
      ],
      "metadata": {
        "id": "uAsQySx02yKd",
        "outputId": "c6a82dac-c6f2-43aa-972c-78c14fb21565",
        "colab": {
          "base_uri": "https://localhost:8080/",
          "height": 598
        }
      },
      "id": "uAsQySx02yKd",
      "execution_count": 31,
      "outputs": [
        {
          "output_type": "display_data",
          "data": {
            "text/plain": [
              "<Figure size 1000x700 with 1 Axes>"
            ],
            "image/png": "[encoded data removed]"
          },
          "metadata": {}
        }
      ]
    },
    {
      "cell_type": "markdown",
      "source": [
        "# Understanding the dot product"
      ],
      "metadata": {
        "id": "K4UrywO724sL"
      },
      "id": "K4UrywO724sL"
    },
    {
      "cell_type": "code",
      "source": [
        "dot_product = embeddings_questions@embeddings_rage.T\n",
        "dot_product = dot_product.reshape(-1)\n",
        "sorted_indices = torch.argsort(dot_product,descending=True)\n",
        "sorted_indices=sorted_indices.tolist()"
      ],
      "metadata": {
        "id": "InV8uG3_20IE"
      },
      "id": "InV8uG3_20IE",
      "execution_count": 32,
      "outputs": []
    },
    {
      "cell_type": "code",
      "source": [
        "for indices in  sorted_indices[0:3]:\n",
        "    print(yes_responses[indices])"
      ],
      "metadata": {
        "id": "GAm92hFCDzwU",
        "outputId": "41a5155b-8439-4c16-f894-b7aaead29902",
        "colab": {
          "base_uri": "https://localhost:8080/"
        }
      },
      "id": "GAm92hFCDzwU",
      "execution_count": 33,
      "outputs": [
        {
          "output_type": "stream",
          "name": "stdout",
          "text": [
            "Yes, this song includes explicit lyrics or bad words that might be considered offensive or inappropriate for young audiences.\n",
            "Yes, this song explicitly mentions weapons, such as guns and knives, which could be disturbing or inappropriate for children’s entertainment.\n",
            "Yes, this song includes sexual content and references to sexual behavior or suggestive language, which are inappropriate for a child-friendly environment.\n"
          ]
        }
      ]
    },
    {
      "cell_type": "code",
      "source": [
        "def RAG_QA(embeddings_questions, embeddings, n_responses=3):\n",
        "    # Calculate the dot product between the question embeddings and the provided embeddings (transpose of the second matrix for proper alignment).\n",
        "    dot_product = embeddings_questions @ embeddings.T\n",
        "\n",
        "    # Reshape the dot product results to a 1D tensor for easier processing.\n",
        "    dot_product = dot_product.reshape(-1)\n",
        "\n",
        "    # Sort the indices of the dot product results in descending order (setting descending to False should be True for typical similarity tasks).\n",
        "    sorted_indices = torch.argsort(dot_product, descending=True)\n",
        "\n",
        "    # Convert sorted indices to a list for easier iteration.\n",
        "    sorted_indices = sorted_indices.tolist()\n",
        "\n",
        "    # Print the top 'n_responses' responses from the sorted list, which correspond to the highest dot product values.\n",
        "    for index in sorted_indices[:n_responses]:\n",
        "        print(yes_responses[index])"
      ],
      "metadata": {
        "id": "Q0x31wpLD1Cd"
      },
      "id": "Q0x31wpLD1Cd",
      "execution_count": 34,
      "outputs": []
    },
    {
      "cell_type": "code",
      "source": [
        "RAG_QA(embeddings_questions, embeddings_sesame_street)"
      ],
      "metadata": {
        "id": "yf1PoniYD5SX",
        "outputId": "a2118dd9-41ce-4b30-ba92-b86fe254bb9b",
        "colab": {
          "base_uri": "https://localhost:8080/"
        }
      },
      "id": "yf1PoniYD5SX",
      "execution_count": 35,
      "outputs": [
        {
          "output_type": "stream",
          "name": "stdout",
          "text": [
            "Yes, the messages conveyed in this song are positive and uplifting, promoting values like kindness, friendship, and positivity, beneficial for children.\n",
            "Yes, this song offers significant educational value, including segments that teach the alphabet, basic math, and other learning content, making it both fun and educational for children.\n",
            "Yes, this song includes explicit lyrics or bad words that might be considered offensive or inappropriate for young audiences.\n"
          ]
        }
      ]
    },
    {
      "cell_type": "code",
      "source": [
        "RAG_QA(embeddings_questions, embeddings_compton)"
      ],
      "metadata": {
        "id": "XqsDtyu6D6t_",
        "outputId": "f63bba55-d780-40db-e528-f268ac5290bc",
        "colab": {
          "base_uri": "https://localhost:8080/"
        }
      },
      "id": "XqsDtyu6D6t_",
      "execution_count": 36,
      "outputs": [
        {
          "output_type": "stream",
          "name": "stdout",
          "text": [
            "Yes, this song includes explicit lyrics or bad words that might be considered offensive or inappropriate for young audiences.\n",
            "Yes, this song contains violent themes, including references to guns, killing, or physical aggression, and is not suitable for children.\n",
            "Yes, this song includes sexual content and references to sexual behavior or suggestive language, which are inappropriate for a child-friendly environment.\n"
          ]
        }
      ]
    },
    {
      "cell_type": "code",
      "source": [
        "RAG_QA(embeddings_questions, embeddings_my_shoe)"
      ],
      "metadata": {
        "id": "FK2Ux1d3EBdz",
        "outputId": "1fd49012-0e1d-4835-c9fa-0ccfdee460b9",
        "colab": {
          "base_uri": "https://localhost:8080/"
        }
      },
      "id": "FK2Ux1d3EBdz",
      "execution_count": 38,
      "outputs": [
        {
          "output_type": "stream",
          "name": "stdout",
          "text": [
            "Yes, this song offers significant educational value, including segments that teach the alphabet, basic math, and other learning content, making it both fun and educational for children.\n",
            "Yes, this song includes explicit lyrics or bad words that might be considered offensive or inappropriate for young audiences.\n",
            "Yes, the messages conveyed in this song are positive and uplifting, promoting values like kindness, friendship, and positivity, beneficial for children.\n"
          ]
        }
      ]
    },
    {
      "cell_type": "markdown",
      "source": [
        "## Exercise"
      ],
      "metadata": {
        "id": "NVE_37M4EKQz"
      },
      "id": "NVE_37M4EKQz"
    },
    {
      "cell_type": "code",
      "source": [
        "def RAG_QA_cosine(embeddings, n_responses=3):\n",
        "    # Calculate the magnitudes (norms) of the question and response embeddings\n",
        "    question_norms = torch.norm(embeddings_questions, dim=1, keepdim=True)\n",
        "    response_norms = torch.norm(embeddings, dim=1, keepdim=True)\n",
        "\n",
        "    # Calculate the dot product between the question embeddings and the provided embeddings (transpose of the second matrix for proper alignment)\n",
        "    dot_product = torch.mm(embeddings_questions, embeddings.T)\n",
        "\n",
        "    # Calculate cosine similarity by dividing the dot product by the product of the magnitudes\n",
        "    cosine_similarity = dot_product / (question_norms * response_norms.T)\n",
        "\n",
        "    # Flatten the cosine similarity tensor to a 1D tensor for easier processing\n",
        "    cosine_similarity = cosine_similarity.reshape(-1)\n",
        "\n",
        "    # Sort the indices of the cosine similarity results in descending order to get the indices with the highest similarity\n",
        "    sorted_indices = torch.argsort(cosine_similarity, descending=True)\n",
        "\n",
        "    # Convert sorted indices to a list for easier iteration\n",
        "    sorted_indices = sorted_indices.tolist()\n",
        "\n",
        "    # Print the top 'n_responses' responses from the sorted list, which correspond to the highest cosine similarity values\n",
        "    for index in sorted_indices[:n_responses]:\n",
        "        print(yes_responses[index])  # Ensure 'responses' is defined and accessible in your scope"
      ],
      "metadata": {
        "id": "whrWY1KZEFf7"
      },
      "id": "whrWY1KZEFf7",
      "execution_count": 42,
      "outputs": []
    },
    {
      "cell_type": "code",
      "source": [
        "RAG_QA_cosine(embeddings_my_shoe, n_responses=3)"
      ],
      "metadata": {
        "id": "2inblZMyEZTH",
        "outputId": "66773489-3f7f-42a8-a348-95923a93fde8",
        "colab": {
          "base_uri": "https://localhost:8080/"
        }
      },
      "id": "2inblZMyEZTH",
      "execution_count": 43,
      "outputs": [
        {
          "output_type": "stream",
          "name": "stdout",
          "text": [
            "Yes, this song offers significant educational value, including segments that teach the alphabet, basic math, and other learning content, making it both fun and educational for children.\n",
            "Yes, the messages conveyed in this song are positive and uplifting, promoting values like kindness, friendship, and positivity, beneficial for children.\n",
            "No, the overall content of this song is not suitable for children as it includes themes, language, and messages that are too mature or unsuitable for young listeners.\n"
          ]
        }
      ]
    },
    {
      "cell_type": "code",
      "source": [
        "! pip freeze > requirements.txt"
      ],
      "metadata": {
        "id": "cn81xw4sEhPv"
      },
      "id": "cn81xw4sEhPv",
      "execution_count": 44,
      "outputs": []
    }
  ],
  "metadata": {
    "language_info": {
      "name": "python"
    },
    "colab": {
      "provenance": [],
      "include_colab_link": true
    },
    "kernelspec": {
      "name": "python3",
      "display_name": "Python 3"
    },
    "widgets": {
      "application/vnd.jupyter.widget-state+json": {
        "7f537f1d127a455c8e814a63c65e2348": {
          "model_module": "@jupyter-widgets/controls",
          "model_name": "HBoxModel",
          "model_module_version": "1.5.0",
          "state": {
            "_dom_classes": [],
            "_model_module": "@jupyter-widgets/controls",
            "_model_module_version": "1.5.0",
            "_model_name": "HBoxModel",
            "_view_count": null,
            "_view_module": "@jupyter-widgets/controls",
            "_view_module_version": "1.5.0",
            "_view_name": "HBoxView",
            "box_style": "",
            "children": [
              "IPY_MODEL_ee2bc5d2605344f4ad8f86d6f035f221",
              "IPY_MODEL_93e879ce14144cd8916007ef8086b758",
              "IPY_MODEL_08f04cc455a047f8a1dad4a254548603"
            ],
            "layout": "IPY_MODEL_3770476ad3e1446aa32823c77b76cd41"
          }
        },
        "ee2bc5d2605344f4ad8f86d6f035f221": {
          "model_module": "@jupyter-widgets/controls",
          "model_name": "HTMLModel",
          "model_module_version": "1.5.0",
          "state": {
            "_dom_classes": [],
            "_model_module": "@jupyter-widgets/controls",
            "_model_module_version": "1.5.0",
            "_model_name": "HTMLModel",
            "_view_count": null,
            "_view_module": "@jupyter-widgets/controls",
            "_view_module_version": "1.5.0",
            "_view_name": "HTMLView",
            "description": "",
            "description_tooltip": null,
            "layout": "IPY_MODEL_48272a4b6c714db9b89112170cfe3e04",
            "placeholder": "​",
            "style": "IPY_MODEL_7df6d8989c77460da6d8c1dc8670d4a7",
            "value": "tokenizer_config.json: 100%"
          }
        },
        "93e879ce14144cd8916007ef8086b758": {
          "model_module": "@jupyter-widgets/controls",
          "model_name": "FloatProgressModel",
          "model_module_version": "1.5.0",
          "state": {
            "_dom_classes": [],
            "_model_module": "@jupyter-widgets/controls",
            "_model_module_version": "1.5.0",
            "_model_name": "FloatProgressModel",
            "_view_count": null,
            "_view_module": "@jupyter-widgets/controls",
            "_view_module_version": "1.5.0",
            "_view_name": "ProgressView",
            "bar_style": "success",
            "description": "",
            "description_tooltip": null,
            "layout": "IPY_MODEL_b6c218edfe354ae3816d57b255eb9ce9",
            "max": 48,
            "min": 0,
            "orientation": "horizontal",
            "style": "IPY_MODEL_c3d69127520e487ab67d094f58443e24",
            "value": 48
          }
        },
        "08f04cc455a047f8a1dad4a254548603": {
          "model_module": "@jupyter-widgets/controls",
          "model_name": "HTMLModel",
          "model_module_version": "1.5.0",
          "state": {
            "_dom_classes": [],
            "_model_module": "@jupyter-widgets/controls",
            "_model_module_version": "1.5.0",
            "_model_name": "HTMLModel",
            "_view_count": null,
            "_view_module": "@jupyter-widgets/controls",
            "_view_module_version": "1.5.0",
            "_view_name": "HTMLView",
            "description": "",
            "description_tooltip": null,
            "layout": "IPY_MODEL_903551b8154d49fa814210f512f93c53",
            "placeholder": "​",
            "style": "IPY_MODEL_8b4eb44a50d24145907116ca91716553",
            "value": " 48.0/48.0 [00:00&lt;00:00, 875B/s]"
          }
        },
        "3770476ad3e1446aa32823c77b76cd41": {
          "model_module": "@jupyter-widgets/base",
          "model_name": "LayoutModel",
          "model_module_version": "1.2.0",
          "state": {
            "_model_module": "@jupyter-widgets/base",
            "_model_module_version": "1.2.0",
            "_model_name": "LayoutModel",
            "_view_count": null,
            "_view_module": "@jupyter-widgets/base",
            "_view_module_version": "1.2.0",
            "_view_name": "LayoutView",
            "align_content": null,
            "align_items": null,
            "align_self": null,
            "border": null,
            "bottom": null,
            "display": null,
            "flex": null,
            "flex_flow": null,
            "grid_area": null,
            "grid_auto_columns": null,
            "grid_auto_flow": null,
            "grid_auto_rows": null,
            "grid_column": null,
            "grid_gap": null,
            "grid_row": null,
            "grid_template_areas": null,
            "grid_template_columns": null,
            "grid_template_rows": null,
            "height": null,
            "justify_content": null,
            "justify_items": null,
            "left": null,
            "margin": null,
            "max_height": null,
            "max_width": null,
            "min_height": null,
            "min_width": null,
            "object_fit": null,
            "object_position": null,
            "order": null,
            "overflow": null,
            "overflow_x": null,
            "overflow_y": null,
            "padding": null,
            "right": null,
            "top": null,
            "visibility": null,
            "width": null
          }
        },
        "48272a4b6c714db9b89112170cfe3e04": {
          "model_module": "@jupyter-widgets/base",
          "model_name": "LayoutModel",
          "model_module_version": "1.2.0",
          "state": {
            "_model_module": "@jupyter-widgets/base",
            "_model_module_version": "1.2.0",
            "_model_name": "LayoutModel",
            "_view_count": null,
            "_view_module": "@jupyter-widgets/base",
            "_view_module_version": "1.2.0",
            "_view_name": "LayoutView",
            "align_content": null,
            "align_items": null,
            "align_self": null,
            "border": null,
            "bottom": null,
            "display": null,
            "flex": null,
            "flex_flow": null,
            "grid_area": null,
            "grid_auto_columns": null,
            "grid_auto_flow": null,
            "grid_auto_rows": null,
            "grid_column": null,
            "grid_gap": null,
            "grid_row": null,
            "grid_template_areas": null,
            "grid_template_columns": null,
            "grid_template_rows": null,
            "height": null,
            "justify_content": null,
            "justify_items": null,
            "left": null,
            "margin": null,
            "max_height": null,
            "max_width": null,
            "min_height": null,
            "min_width": null,
            "object_fit": null,
            "object_position": null,
            "order": null,
            "overflow": null,
            "overflow_x": null,
            "overflow_y": null,
            "padding": null,
            "right": null,
            "top": null,
            "visibility": null,
            "width": null
          }
        },
        "7df6d8989c77460da6d8c1dc8670d4a7": {
          "model_module": "@jupyter-widgets/controls",
          "model_name": "DescriptionStyleModel",
          "model_module_version": "1.5.0",
          "state": {
            "_model_module": "@jupyter-widgets/controls",
            "_model_module_version": "1.5.0",
            "_model_name": "DescriptionStyleModel",
            "_view_count": null,
            "_view_module": "@jupyter-widgets/base",
            "_view_module_version": "1.2.0",
            "_view_name": "StyleView",
            "description_width": ""
          }
        },
        "b6c218edfe354ae3816d57b255eb9ce9": {
          "model_module": "@jupyter-widgets/base",
          "model_name": "LayoutModel",
          "model_module_version": "1.2.0",
          "state": {
            "_model_module": "@jupyter-widgets/base",
            "_model_module_version": "1.2.0",
            "_model_name": "LayoutModel",
            "_view_count": null,
            "_view_module": "@jupyter-widgets/base",
            "_view_module_version": "1.2.0",
            "_view_name": "LayoutView",
            "align_content": null,
            "align_items": null,
            "align_self": null,
            "border": null,
            "bottom": null,
            "display": null,
            "flex": null,
            "flex_flow": null,
            "grid_area": null,
            "grid_auto_columns": null,
            "grid_auto_flow": null,
            "grid_auto_rows": null,
            "grid_column": null,
            "grid_gap": null,
            "grid_row": null,
            "grid_template_areas": null,
            "grid_template_columns": null,
            "grid_template_rows": null,
            "height": null,
            "justify_content": null,
            "justify_items": null,
            "left": null,
            "margin": null,
            "max_height": null,
            "max_width": null,
            "min_height": null,
            "min_width": null,
            "object_fit": null,
            "object_position": null,
            "order": null,
            "overflow": null,
            "overflow_x": null,
            "overflow_y": null,
            "padding": null,
            "right": null,
            "top": null,
            "visibility": null,
            "width": null
          }
        },
        "c3d69127520e487ab67d094f58443e24": {
          "model_module": "@jupyter-widgets/controls",
          "model_name": "ProgressStyleModel",
          "model_module_version": "1.5.0",
          "state": {
            "_model_module": "@jupyter-widgets/controls",
            "_model_module_version": "1.5.0",
            "_model_name": "ProgressStyleModel",
            "_view_count": null,
            "_view_module": "@jupyter-widgets/base",
            "_view_module_version": "1.2.0",
            "_view_name": "StyleView",
            "bar_color": null,
            "description_width": ""
          }
        },
        "903551b8154d49fa814210f512f93c53": {
          "model_module": "@jupyter-widgets/base",
          "model_name": "LayoutModel",
          "model_module_version": "1.2.0",
          "state": {
            "_model_module": "@jupyter-widgets/base",
            "_model_module_version": "1.2.0",
            "_model_name": "LayoutModel",
            "_view_count": null,
            "_view_module": "@jupyter-widgets/base",
            "_view_module_version": "1.2.0",
            "_view_name": "LayoutView",
            "align_content": null,
            "align_items": null,
            "align_self": null,
            "border": null,
            "bottom": null,
            "display": null,
            "flex": null,
            "flex_flow": null,
            "grid_area": null,
            "grid_auto_columns": null,
            "grid_auto_flow": null,
            "grid_auto_rows": null,
            "grid_column": null,
            "grid_gap": null,
            "grid_row": null,
            "grid_template_areas": null,
            "grid_template_columns": null,
            "grid_template_rows": null,
            "height": null,
            "justify_content": null,
            "justify_items": null,
            "left": null,
            "margin": null,
            "max_height": null,
            "max_width": null,
            "min_height": null,
            "min_width": null,
            "object_fit": null,
            "object_position": null,
            "order": null,
            "overflow": null,
            "overflow_x": null,
            "overflow_y": null,
            "padding": null,
            "right": null,
            "top": null,
            "visibility": null,
            "width": null
          }
        },
        "8b4eb44a50d24145907116ca91716553": {
          "model_module": "@jupyter-widgets/controls",
          "model_name": "DescriptionStyleModel",
          "model_module_version": "1.5.0",
          "state": {
            "_model_module": "@jupyter-widgets/controls",
            "_model_module_version": "1.5.0",
            "_model_name": "DescriptionStyleModel",
            "_view_count": null,
            "_view_module": "@jupyter-widgets/base",
            "_view_module_version": "1.2.0",
            "_view_name": "StyleView",
            "description_width": ""
          }
        },
        "be6f2457a60749f28054e4d68b97fd3d": {
          "model_module": "@jupyter-widgets/controls",
          "model_name": "HBoxModel",
          "model_module_version": "1.5.0",
          "state": {
            "_dom_classes": [],
            "_model_module": "@jupyter-widgets/controls",
            "_model_module_version": "1.5.0",
            "_model_name": "HBoxModel",
            "_view_count": null,
            "_view_module": "@jupyter-widgets/controls",
            "_view_module_version": "1.5.0",
            "_view_name": "HBoxView",
            "box_style": "",
            "children": [
              "IPY_MODEL_017d9079dde84c079ba1df936daa2d74",
              "IPY_MODEL_41e02ae1e7a946c6a8500d8507346d1e",
              "IPY_MODEL_dbfa018fa57b4ff2a07808cebe32171f"
            ],
            "layout": "IPY_MODEL_5370af39f0e54220ac42e414f61afca2"
          }
        },
        "017d9079dde84c079ba1df936daa2d74": {
          "model_module": "@jupyter-widgets/controls",
          "model_name": "HTMLModel",
          "model_module_version": "1.5.0",
          "state": {
            "_dom_classes": [],
            "_model_module": "@jupyter-widgets/controls",
            "_model_module_version": "1.5.0",
            "_model_name": "HTMLModel",
            "_view_count": null,
            "_view_module": "@jupyter-widgets/controls",
            "_view_module_version": "1.5.0",
            "_view_name": "HTMLView",
            "description": "",
            "description_tooltip": null,
            "layout": "IPY_MODEL_0851e6757f6148dba2445cad892e4e1b",
            "placeholder": "​",
            "style": "IPY_MODEL_1f7822a1fd8340879ede26fef5ef8824",
            "value": "vocab.txt: 100%"
          }
        },
        "41e02ae1e7a946c6a8500d8507346d1e": {
          "model_module": "@jupyter-widgets/controls",
          "model_name": "FloatProgressModel",
          "model_module_version": "1.5.0",
          "state": {
            "_dom_classes": [],
            "_model_module": "@jupyter-widgets/controls",
            "_model_module_version": "1.5.0",
            "_model_name": "FloatProgressModel",
            "_view_count": null,
            "_view_module": "@jupyter-widgets/controls",
            "_view_module_version": "1.5.0",
            "_view_name": "ProgressView",
            "bar_style": "success",
            "description": "",
            "description_tooltip": null,
            "layout": "IPY_MODEL_a436aa389b5848f883bbc2ab38b750fa",
            "max": 231508,
            "min": 0,
            "orientation": "horizontal",
            "style": "IPY_MODEL_0167c4744c6e499d9a2193dd569b51e2",
            "value": 231508
          }
        },
        "dbfa018fa57b4ff2a07808cebe32171f": {
          "model_module": "@jupyter-widgets/controls",
          "model_name": "HTMLModel",
          "model_module_version": "1.5.0",
          "state": {
            "_dom_classes": [],
            "_model_module": "@jupyter-widgets/controls",
            "_model_module_version": "1.5.0",
            "_model_name": "HTMLModel",
            "_view_count": null,
            "_view_module": "@jupyter-widgets/controls",
            "_view_module_version": "1.5.0",
            "_view_name": "HTMLView",
            "description": "",
            "description_tooltip": null,
            "layout": "IPY_MODEL_136eada8ed894913b146a9586a42c7f5",
            "placeholder": "​",
            "style": "IPY_MODEL_114f4d94a7d0459f8e207541bf30a4fb",
            "value": " 232k/232k [00:00&lt;00:00, 3.27MB/s]"
          }
        },
        "5370af39f0e54220ac42e414f61afca2": {
          "model_module": "@jupyter-widgets/base",
          "model_name": "LayoutModel",
          "model_module_version": "1.2.0",
          "state": {
            "_model_module": "@jupyter-widgets/base",
            "_model_module_version": "1.2.0",
            "_model_name": "LayoutModel",
            "_view_count": null,
            "_view_module": "@jupyter-widgets/base",
            "_view_module_version": "1.2.0",
            "_view_name": "LayoutView",
            "align_content": null,
            "align_items": null,
            "align_self": null,
            "border": null,
            "bottom": null,
            "display": null,
            "flex": null,
            "flex_flow": null,
            "grid_area": null,
            "grid_auto_columns": null,
            "grid_auto_flow": null,
            "grid_auto_rows": null,
            "grid_column": null,
            "grid_gap": null,
            "grid_row": null,
            "grid_template_areas": null,
            "grid_template_columns": null,
            "grid_template_rows": null,
            "height": null,
            "justify_content": null,
            "justify_items": null,
            "left": null,
            "margin": null,
            "max_height": null,
            "max_width": null,
            "min_height": null,
            "min_width": null,
            "object_fit": null,
            "object_position": null,
            "order": null,
            "overflow": null,
            "overflow_x": null,
            "overflow_y": null,
            "padding": null,
            "right": null,
            "top": null,
            "visibility": null,
            "width": null
          }
        },
        "0851e6757f6148dba2445cad892e4e1b": {
          "model_module": "@jupyter-widgets/base",
          "model_name": "LayoutModel",
          "model_module_version": "1.2.0",
          "state": {
            "_model_module": "@jupyter-widgets/base",
            "_model_module_version": "1.2.0",
            "_model_name": "LayoutModel",
            "_view_count": null,
            "_view_module": "@jupyter-widgets/base",
            "_view_module_version": "1.2.0",
            "_view_name": "LayoutView",
            "align_content": null,
            "align_items": null,
            "align_self": null,
            "border": null,
            "bottom": null,
            "display": null,
            "flex": null,
            "flex_flow": null,
            "grid_area": null,
            "grid_auto_columns": null,
            "grid_auto_flow": null,
            "grid_auto_rows": null,
            "grid_column": null,
            "grid_gap": null,
            "grid_row": null,
            "grid_template_areas": null,
            "grid_template_columns": null,
            "grid_template_rows": null,
            "height": null,
            "justify_content": null,
            "justify_items": null,
            "left": null,
            "margin": null,
            "max_height": null,
            "max_width": null,
            "min_height": null,
            "min_width": null,
            "object_fit": null,
            "object_position": null,
            "order": null,
            "overflow": null,
            "overflow_x": null,
            "overflow_y": null,
            "padding": null,
            "right": null,
            "top": null,
            "visibility": null,
            "width": null
          }
        },
        "1f7822a1fd8340879ede26fef5ef8824": {
          "model_module": "@jupyter-widgets/controls",
          "model_name": "DescriptionStyleModel",
          "model_module_version": "1.5.0",
          "state": {
            "_model_module": "@jupyter-widgets/controls",
            "_model_module_version": "1.5.0",
            "_model_name": "DescriptionStyleModel",
            "_view_count": null,
            "_view_module": "@jupyter-widgets/base",
            "_view_module_version": "1.2.0",
            "_view_name": "StyleView",
            "description_width": ""
          }
        },
        "a436aa389b5848f883bbc2ab38b750fa": {
          "model_module": "@jupyter-widgets/base",
          "model_name": "LayoutModel",
          "model_module_version": "1.2.0",
          "state": {
            "_model_module": "@jupyter-widgets/base",
            "_model_module_version": "1.2.0",
            "_model_name": "LayoutModel",
            "_view_count": null,
            "_view_module": "@jupyter-widgets/base",
            "_view_module_version": "1.2.0",
            "_view_name": "LayoutView",
            "align_content": null,
            "align_items": null,
            "align_self": null,
            "border": null,
            "bottom": null,
            "display": null,
            "flex": null,
            "flex_flow": null,
            "grid_area": null,
            "grid_auto_columns": null,
            "grid_auto_flow": null,
            "grid_auto_rows": null,
            "grid_column": null,
            "grid_gap": null,
            "grid_row": null,
            "grid_template_areas": null,
            "grid_template_columns": null,
            "grid_template_rows": null,
            "height": null,
            "justify_content": null,
            "justify_items": null,
            "left": null,
            "margin": null,
            "max_height": null,
            "max_width": null,
            "min_height": null,
            "min_width": null,
            "object_fit": null,
            "object_position": null,
            "order": null,
            "overflow": null,
            "overflow_x": null,
            "overflow_y": null,
            "padding": null,
            "right": null,
            "top": null,
            "visibility": null,
            "width": null
          }
        },
        "0167c4744c6e499d9a2193dd569b51e2": {
          "model_module": "@jupyter-widgets/controls",
          "model_name": "ProgressStyleModel",
          "model_module_version": "1.5.0",
          "state": {
            "_model_module": "@jupyter-widgets/controls",
            "_model_module_version": "1.5.0",
            "_model_name": "ProgressStyleModel",
            "_view_count": null,
            "_view_module": "@jupyter-widgets/base",
            "_view_module_version": "1.2.0",
            "_view_name": "StyleView",
            "bar_color": null,
            "description_width": ""
          }
        },
        "136eada8ed894913b146a9586a42c7f5": {
          "model_module": "@jupyter-widgets/base",
          "model_name": "LayoutModel",
          "model_module_version": "1.2.0",
          "state": {
            "_model_module": "@jupyter-widgets/base",
            "_model_module_version": "1.2.0",
            "_model_name": "LayoutModel",
            "_view_count": null,
            "_view_module": "@jupyter-widgets/base",
            "_view_module_version": "1.2.0",
            "_view_name": "LayoutView",
            "align_content": null,
            "align_items": null,
            "align_self": null,
            "border": null,
            "bottom": null,
            "display": null,
            "flex": null,
            "flex_flow": null,
            "grid_area": null,
            "grid_auto_columns": null,
            "grid_auto_flow": null,
            "grid_auto_rows": null,
            "grid_column": null,
            "grid_gap": null,
            "grid_row": null,
            "grid_template_areas": null,
            "grid_template_columns": null,
            "grid_template_rows": null,
            "height": null,
            "justify_content": null,
            "justify_items": null,
            "left": null,
            "margin": null,
            "max_height": null,
            "max_width": null,
            "min_height": null,
            "min_width": null,
            "object_fit": null,
            "object_position": null,
            "order": null,
            "overflow": null,
            "overflow_x": null,
            "overflow_y": null,
            "padding": null,
            "right": null,
            "top": null,
            "visibility": null,
            "width": null
          }
        },
        "114f4d94a7d0459f8e207541bf30a4fb": {
          "model_module": "@jupyter-widgets/controls",
          "model_name": "DescriptionStyleModel",
          "model_module_version": "1.5.0",
          "state": {
            "_model_module": "@jupyter-widgets/controls",
            "_model_module_version": "1.5.0",
            "_model_name": "DescriptionStyleModel",
            "_view_count": null,
            "_view_module": "@jupyter-widgets/base",
            "_view_module_version": "1.2.0",
            "_view_name": "StyleView",
            "description_width": ""
          }
        },
        "110f75638b81476fb8875f8f4f701a0a": {
          "model_module": "@jupyter-widgets/controls",
          "model_name": "HBoxModel",
          "model_module_version": "1.5.0",
          "state": {
            "_dom_classes": [],
            "_model_module": "@jupyter-widgets/controls",
            "_model_module_version": "1.5.0",
            "_model_name": "HBoxModel",
            "_view_count": null,
            "_view_module": "@jupyter-widgets/controls",
            "_view_module_version": "1.5.0",
            "_view_name": "HBoxView",
            "box_style": "",
            "children": [
              "IPY_MODEL_6b617a13da9e4878b9ac5d3132e8138b",
              "IPY_MODEL_5f91be0cbc154179836aa6d15a80a443",
              "IPY_MODEL_86ad8b14be72481490405a09e22c646c"
            ],
            "layout": "IPY_MODEL_c064e9b13932484da11837488d12317a"
          }
        },
        "6b617a13da9e4878b9ac5d3132e8138b": {
          "model_module": "@jupyter-widgets/controls",
          "model_name": "HTMLModel",
          "model_module_version": "1.5.0",
          "state": {
            "_dom_classes": [],
            "_model_module": "@jupyter-widgets/controls",
            "_model_module_version": "1.5.0",
            "_model_name": "HTMLModel",
            "_view_count": null,
            "_view_module": "@jupyter-widgets/controls",
            "_view_module_version": "1.5.0",
            "_view_name": "HTMLView",
            "description": "",
            "description_tooltip": null,
            "layout": "IPY_MODEL_f985aa5c250045e28a7e0e098ff79a7e",
            "placeholder": "​",
            "style": "IPY_MODEL_e9387b8bb1834d25bad056786238d2c8",
            "value": "tokenizer.json: 100%"
          }
        },
        "5f91be0cbc154179836aa6d15a80a443": {
          "model_module": "@jupyter-widgets/controls",
          "model_name": "FloatProgressModel",
          "model_module_version": "1.5.0",
          "state": {
            "_dom_classes": [],
            "_model_module": "@jupyter-widgets/controls",
            "_model_module_version": "1.5.0",
            "_model_name": "FloatProgressModel",
            "_view_count": null,
            "_view_module": "@jupyter-widgets/controls",
            "_view_module_version": "1.5.0",
            "_view_name": "ProgressView",
            "bar_style": "success",
            "description": "",
            "description_tooltip": null,
            "layout": "IPY_MODEL_fcd35dd178204ca59205a66d25d0c2ac",
            "max": 466062,
            "min": 0,
            "orientation": "horizontal",
            "style": "IPY_MODEL_c6c4b4aa81504d16a7155eb12a832877",
            "value": 466062
          }
        },
        "86ad8b14be72481490405a09e22c646c": {
          "model_module": "@jupyter-widgets/controls",
          "model_name": "HTMLModel",
          "model_module_version": "1.5.0",
          "state": {
            "_dom_classes": [],
            "_model_module": "@jupyter-widgets/controls",
            "_model_module_version": "1.5.0",
            "_model_name": "HTMLModel",
            "_view_count": null,
            "_view_module": "@jupyter-widgets/controls",
            "_view_module_version": "1.5.0",
            "_view_name": "HTMLView",
            "description": "",
            "description_tooltip": null,
            "layout": "IPY_MODEL_46faa9944aad4ae1967925c80bf4265a",
            "placeholder": "​",
            "style": "IPY_MODEL_be41c0d636c54a9184a04a7a6de35c90",
            "value": " 466k/466k [00:00&lt;00:00, 2.94MB/s]"
          }
        },
        "c064e9b13932484da11837488d12317a": {
          "model_module": "@jupyter-widgets/base",
          "model_name": "LayoutModel",
          "model_module_version": "1.2.0",
          "state": {
            "_model_module": "@jupyter-widgets/base",
            "_model_module_version": "1.2.0",
            "_model_name": "LayoutModel",
            "_view_count": null,
            "_view_module": "@jupyter-widgets/base",
            "_view_module_version": "1.2.0",
            "_view_name": "LayoutView",
            "align_content": null,
            "align_items": null,
            "align_self": null,
            "border": null,
            "bottom": null,
            "display": null,
            "flex": null,
            "flex_flow": null,
            "grid_area": null,
            "grid_auto_columns": null,
            "grid_auto_flow": null,
            "grid_auto_rows": null,
            "grid_column": null,
            "grid_gap": null,
            "grid_row": null,
            "grid_template_areas": null,
            "grid_template_columns": null,
            "grid_template_rows": null,
            "height": null,
            "justify_content": null,
            "justify_items": null,
            "left": null,
            "margin": null,
            "max_height": null,
            "max_width": null,
            "min_height": null,
            "min_width": null,
            "object_fit": null,
            "object_position": null,
            "order": null,
            "overflow": null,
            "overflow_x": null,
            "overflow_y": null,
            "padding": null,
            "right": null,
            "top": null,
            "visibility": null,
            "width": null
          }
        },
        "f985aa5c250045e28a7e0e098ff79a7e": {
          "model_module": "@jupyter-widgets/base",
          "model_name": "LayoutModel",
          "model_module_version": "1.2.0",
          "state": {
            "_model_module": "@jupyter-widgets/base",
            "_model_module_version": "1.2.0",
            "_model_name": "LayoutModel",
            "_view_count": null,
            "_view_module": "@jupyter-widgets/base",
            "_view_module_version": "1.2.0",
            "_view_name": "LayoutView",
            "align_content": null,
            "align_items": null,
            "align_self": null,
            "border": null,
            "bottom": null,
            "display": null,
            "flex": null,
            "flex_flow": null,
            "grid_area": null,
            "grid_auto_columns": null,
            "grid_auto_flow": null,
            "grid_auto_rows": null,
            "grid_column": null,
            "grid_gap": null,
            "grid_row": null,
            "grid_template_areas": null,
            "grid_template_columns": null,
            "grid_template_rows": null,
            "height": null,
            "justify_content": null,
            "justify_items": null,
            "left": null,
            "margin": null,
            "max_height": null,
            "max_width": null,
            "min_height": null,
            "min_width": null,
            "object_fit": null,
            "object_position": null,
            "order": null,
            "overflow": null,
            "overflow_x": null,
            "overflow_y": null,
            "padding": null,
            "right": null,
            "top": null,
            "visibility": null,
            "width": null
          }
        },
        "e9387b8bb1834d25bad056786238d2c8": {
          "model_module": "@jupyter-widgets/controls",
          "model_name": "DescriptionStyleModel",
          "model_module_version": "1.5.0",
          "state": {
            "_model_module": "@jupyter-widgets/controls",
            "_model_module_version": "1.5.0",
            "_model_name": "DescriptionStyleModel",
            "_view_count": null,
            "_view_module": "@jupyter-widgets/base",
            "_view_module_version": "1.2.0",
            "_view_name": "StyleView",
            "description_width": ""
          }
        },
        "fcd35dd178204ca59205a66d25d0c2ac": {
          "model_module": "@jupyter-widgets/base",
          "model_name": "LayoutModel",
          "model_module_version": "1.2.0",
          "state": {
            "_model_module": "@jupyter-widgets/base",
            "_model_module_version": "1.2.0",
            "_model_name": "LayoutModel",
            "_view_count": null,
            "_view_module": "@jupyter-widgets/base",
            "_view_module_version": "1.2.0",
            "_view_name": "LayoutView",
            "align_content": null,
            "align_items": null,
            "align_self": null,
            "border": null,
            "bottom": null,
            "display": null,
            "flex": null,
            "flex_flow": null,
            "grid_area": null,
            "grid_auto_columns": null,
            "grid_auto_flow": null,
            "grid_auto_rows": null,
            "grid_column": null,
            "grid_gap": null,
            "grid_row": null,
            "grid_template_areas": null,
            "grid_template_columns": null,
            "grid_template_rows": null,
            "height": null,
            "justify_content": null,
            "justify_items": null,
            "left": null,
            "margin": null,
            "max_height": null,
            "max_width": null,
            "min_height": null,
            "min_width": null,
            "object_fit": null,
            "object_position": null,
            "order": null,
            "overflow": null,
            "overflow_x": null,
            "overflow_y": null,
            "padding": null,
            "right": null,
            "top": null,
            "visibility": null,
            "width": null
          }
        },
        "c6c4b4aa81504d16a7155eb12a832877": {
          "model_module": "@jupyter-widgets/controls",
          "model_name": "ProgressStyleModel",
          "model_module_version": "1.5.0",
          "state": {
            "_model_module": "@jupyter-widgets/controls",
            "_model_module_version": "1.5.0",
            "_model_name": "ProgressStyleModel",
            "_view_count": null,
            "_view_module": "@jupyter-widgets/base",
            "_view_module_version": "1.2.0",
            "_view_name": "StyleView",
            "bar_color": null,
            "description_width": ""
          }
        },
        "46faa9944aad4ae1967925c80bf4265a": {
          "model_module": "@jupyter-widgets/base",
          "model_name": "LayoutModel",
          "model_module_version": "1.2.0",
          "state": {
            "_model_module": "@jupyter-widgets/base",
            "_model_module_version": "1.2.0",
            "_model_name": "LayoutModel",
            "_view_count": null,
            "_view_module": "@jupyter-widgets/base",
            "_view_module_version": "1.2.0",
            "_view_name": "LayoutView",
            "align_content": null,
            "align_items": null,
            "align_self": null,
            "border": null,
            "bottom": null,
            "display": null,
            "flex": null,
            "flex_flow": null,
            "grid_area": null,
            "grid_auto_columns": null,
            "grid_auto_flow": null,
            "grid_auto_rows": null,
            "grid_column": null,
            "grid_gap": null,
            "grid_row": null,
            "grid_template_areas": null,
            "grid_template_columns": null,
            "grid_template_rows": null,
            "height": null,
            "justify_content": null,
            "justify_items": null,
            "left": null,
            "margin": null,
            "max_height": null,
            "max_width": null,
            "min_height": null,
            "min_width": null,
            "object_fit": null,
            "object_position": null,
            "order": null,
            "overflow": null,
            "overflow_x": null,
            "overflow_y": null,
            "padding": null,
            "right": null,
            "top": null,
            "visibility": null,
            "width": null
          }
        },
        "be41c0d636c54a9184a04a7a6de35c90": {
          "model_module": "@jupyter-widgets/controls",
          "model_name": "DescriptionStyleModel",
          "model_module_version": "1.5.0",
          "state": {
            "_model_module": "@jupyter-widgets/controls",
            "_model_module_version": "1.5.0",
            "_model_name": "DescriptionStyleModel",
            "_view_count": null,
            "_view_module": "@jupyter-widgets/base",
            "_view_module_version": "1.2.0",
            "_view_name": "StyleView",
            "description_width": ""
          }
        },
        "63016bb6ba854794900e16caf13f4b7a": {
          "model_module": "@jupyter-widgets/controls",
          "model_name": "HBoxModel",
          "model_module_version": "1.5.0",
          "state": {
            "_dom_classes": [],
            "_model_module": "@jupyter-widgets/controls",
            "_model_module_version": "1.5.0",
            "_model_name": "HBoxModel",
            "_view_count": null,
            "_view_module": "@jupyter-widgets/controls",
            "_view_module_version": "1.5.0",
            "_view_name": "HBoxView",
            "box_style": "",
            "children": [
              "IPY_MODEL_8416c65f12344f32a9f5cedb5fa380ed",
              "IPY_MODEL_2122b276160f484a833a78b4d0d04143",
              "IPY_MODEL_9da905f9db8b4b47bf6a38ad0505ca18"
            ],
            "layout": "IPY_MODEL_9e8c3258c94848168bdb25b1b2b1643f"
          }
        },
        "8416c65f12344f32a9f5cedb5fa380ed": {
          "model_module": "@jupyter-widgets/controls",
          "model_name": "HTMLModel",
          "model_module_version": "1.5.0",
          "state": {
            "_dom_classes": [],
            "_model_module": "@jupyter-widgets/controls",
            "_model_module_version": "1.5.0",
            "_model_name": "HTMLModel",
            "_view_count": null,
            "_view_module": "@jupyter-widgets/controls",
            "_view_module_version": "1.5.0",
            "_view_name": "HTMLView",
            "description": "",
            "description_tooltip": null,
            "layout": "IPY_MODEL_0a54e8215a2e476d98c7678ba2094d3e",
            "placeholder": "​",
            "style": "IPY_MODEL_baefc44d39bb4da0a999da739e0bf8b2",
            "value": "config.json: 100%"
          }
        },
        "2122b276160f484a833a78b4d0d04143": {
          "model_module": "@jupyter-widgets/controls",
          "model_name": "FloatProgressModel",
          "model_module_version": "1.5.0",
          "state": {
            "_dom_classes": [],
            "_model_module": "@jupyter-widgets/controls",
            "_model_module_version": "1.5.0",
            "_model_name": "FloatProgressModel",
            "_view_count": null,
            "_view_module": "@jupyter-widgets/controls",
            "_view_module_version": "1.5.0",
            "_view_name": "ProgressView",
            "bar_style": "success",
            "description": "",
            "description_tooltip": null,
            "layout": "IPY_MODEL_119487b8a2b2420694b968152b191404",
            "max": 570,
            "min": 0,
            "orientation": "horizontal",
            "style": "IPY_MODEL_00d46f837f8f41b187cb9eb83d7d92cf",
            "value": 570
          }
        },
        "9da905f9db8b4b47bf6a38ad0505ca18": {
          "model_module": "@jupyter-widgets/controls",
          "model_name": "HTMLModel",
          "model_module_version": "1.5.0",
          "state": {
            "_dom_classes": [],
            "_model_module": "@jupyter-widgets/controls",
            "_model_module_version": "1.5.0",
            "_model_name": "HTMLModel",
            "_view_count": null,
            "_view_module": "@jupyter-widgets/controls",
            "_view_module_version": "1.5.0",
            "_view_name": "HTMLView",
            "description": "",
            "description_tooltip": null,
            "layout": "IPY_MODEL_15347f896678422fb86478434ad997a4",
            "placeholder": "​",
            "style": "IPY_MODEL_379e8415355b4800802443e825fe76c5",
            "value": " 570/570 [00:00&lt;00:00, 16.6kB/s]"
          }
        },
        "9e8c3258c94848168bdb25b1b2b1643f": {
          "model_module": "@jupyter-widgets/base",
          "model_name": "LayoutModel",
          "model_module_version": "1.2.0",
          "state": {
            "_model_module": "@jupyter-widgets/base",
            "_model_module_version": "1.2.0",
            "_model_name": "LayoutModel",
            "_view_count": null,
            "_view_module": "@jupyter-widgets/base",
            "_view_module_version": "1.2.0",
            "_view_name": "LayoutView",
            "align_content": null,
            "align_items": null,
            "align_self": null,
            "border": null,
            "bottom": null,
            "display": null,
            "flex": null,
            "flex_flow": null,
            "grid_area": null,
            "grid_auto_columns": null,
            "grid_auto_flow": null,
            "grid_auto_rows": null,
            "grid_column": null,
            "grid_gap": null,
            "grid_row": null,
            "grid_template_areas": null,
            "grid_template_columns": null,
            "grid_template_rows": null,
            "height": null,
            "justify_content": null,
            "justify_items": null,
            "left": null,
            "margin": null,
            "max_height": null,
            "max_width": null,
            "min_height": null,
            "min_width": null,
            "object_fit": null,
            "object_position": null,
            "order": null,
            "overflow": null,
            "overflow_x": null,
            "overflow_y": null,
            "padding": null,
            "right": null,
            "top": null,
            "visibility": null,
            "width": null
          }
        },
        "0a54e8215a2e476d98c7678ba2094d3e": {
          "model_module": "@jupyter-widgets/base",
          "model_name": "LayoutModel",
          "model_module_version": "1.2.0",
          "state": {
            "_model_module": "@jupyter-widgets/base",
            "_model_module_version": "1.2.0",
            "_model_name": "LayoutModel",
            "_view_count": null,
            "_view_module": "@jupyter-widgets/base",
            "_view_module_version": "1.2.0",
            "_view_name": "LayoutView",
            "align_content": null,
            "align_items": null,
            "align_self": null,
            "border": null,
            "bottom": null,
            "display": null,
            "flex": null,
            "flex_flow": null,
            "grid_area": null,
            "grid_auto_columns": null,
            "grid_auto_flow": null,
            "grid_auto_rows": null,
            "grid_column": null,
            "grid_gap": null,
            "grid_row": null,
            "grid_template_areas": null,
            "grid_template_columns": null,
            "grid_template_rows": null,
            "height": null,
            "justify_content": null,
            "justify_items": null,
            "left": null,
            "margin": null,
            "max_height": null,
            "max_width": null,
            "min_height": null,
            "min_width": null,
            "object_fit": null,
            "object_position": null,
            "order": null,
            "overflow": null,
            "overflow_x": null,
            "overflow_y": null,
            "padding": null,
            "right": null,
            "top": null,
            "visibility": null,
            "width": null
          }
        },
        "baefc44d39bb4da0a999da739e0bf8b2": {
          "model_module": "@jupyter-widgets/controls",
          "model_name": "DescriptionStyleModel",
          "model_module_version": "1.5.0",
          "state": {
            "_model_module": "@jupyter-widgets/controls",
            "_model_module_version": "1.5.0",
            "_model_name": "DescriptionStyleModel",
            "_view_count": null,
            "_view_module": "@jupyter-widgets/base",
            "_view_module_version": "1.2.0",
            "_view_name": "StyleView",
            "description_width": ""
          }
        },
        "119487b8a2b2420694b968152b191404": {
          "model_module": "@jupyter-widgets/base",
          "model_name": "LayoutModel",
          "model_module_version": "1.2.0",
          "state": {
            "_model_module": "@jupyter-widgets/base",
            "_model_module_version": "1.2.0",
            "_model_name": "LayoutModel",
            "_view_count": null,
            "_view_module": "@jupyter-widgets/base",
            "_view_module_version": "1.2.0",
            "_view_name": "LayoutView",
            "align_content": null,
            "align_items": null,
            "align_self": null,
            "border": null,
            "bottom": null,
            "display": null,
            "flex": null,
            "flex_flow": null,
            "grid_area": null,
            "grid_auto_columns": null,
            "grid_auto_flow": null,
            "grid_auto_rows": null,
            "grid_column": null,
            "grid_gap": null,
            "grid_row": null,
            "grid_template_areas": null,
            "grid_template_columns": null,
            "grid_template_rows": null,
            "height": null,
            "justify_content": null,
            "justify_items": null,
            "left": null,
            "margin": null,
            "max_height": null,
            "max_width": null,
            "min_height": null,
            "min_width": null,
            "object_fit": null,
            "object_position": null,
            "order": null,
            "overflow": null,
            "overflow_x": null,
            "overflow_y": null,
            "padding": null,
            "right": null,
            "top": null,
            "visibility": null,
            "width": null
          }
        },
        "00d46f837f8f41b187cb9eb83d7d92cf": {
          "model_module": "@jupyter-widgets/controls",
          "model_name": "ProgressStyleModel",
          "model_module_version": "1.5.0",
          "state": {
            "_model_module": "@jupyter-widgets/controls",
            "_model_module_version": "1.5.0",
            "_model_name": "ProgressStyleModel",
            "_view_count": null,
            "_view_module": "@jupyter-widgets/base",
            "_view_module_version": "1.2.0",
            "_view_name": "StyleView",
            "bar_color": null,
            "description_width": ""
          }
        },
        "15347f896678422fb86478434ad997a4": {
          "model_module": "@jupyter-widgets/base",
          "model_name": "LayoutModel",
          "model_module_version": "1.2.0",
          "state": {
            "_model_module": "@jupyter-widgets/base",
            "_model_module_version": "1.2.0",
            "_model_name": "LayoutModel",
            "_view_count": null,
            "_view_module": "@jupyter-widgets/base",
            "_view_module_version": "1.2.0",
            "_view_name": "LayoutView",
            "align_content": null,
            "align_items": null,
            "align_self": null,
            "border": null,
            "bottom": null,
            "display": null,
            "flex": null,
            "flex_flow": null,
            "grid_area": null,
            "grid_auto_columns": null,
            "grid_auto_flow": null,
            "grid_auto_rows": null,
            "grid_column": null,
            "grid_gap": null,
            "grid_row": null,
            "grid_template_areas": null,
            "grid_template_columns": null,
            "grid_template_rows": null,
            "height": null,
            "justify_content": null,
            "justify_items": null,
            "left": null,
            "margin": null,
            "max_height": null,
            "max_width": null,
            "min_height": null,
            "min_width": null,
            "object_fit": null,
            "object_position": null,
            "order": null,
            "overflow": null,
            "overflow_x": null,
            "overflow_y": null,
            "padding": null,
            "right": null,
            "top": null,
            "visibility": null,
            "width": null
          }
        },
        "379e8415355b4800802443e825fe76c5": {
          "model_module": "@jupyter-widgets/controls",
          "model_name": "DescriptionStyleModel",
          "model_module_version": "1.5.0",
          "state": {
            "_model_module": "@jupyter-widgets/controls",
            "_model_module_version": "1.5.0",
            "_model_name": "DescriptionStyleModel",
            "_view_count": null,
            "_view_module": "@jupyter-widgets/base",
            "_view_module_version": "1.2.0",
            "_view_name": "StyleView",
            "description_width": ""
          }
        },
        "08622e1fc1954402ae423defb27120ae": {
          "model_module": "@jupyter-widgets/controls",
          "model_name": "HBoxModel",
          "model_module_version": "1.5.0",
          "state": {
            "_dom_classes": [],
            "_model_module": "@jupyter-widgets/controls",
            "_model_module_version": "1.5.0",
            "_model_name": "HBoxModel",
            "_view_count": null,
            "_view_module": "@jupyter-widgets/controls",
            "_view_module_version": "1.5.0",
            "_view_name": "HBoxView",
            "box_style": "",
            "children": [
              "IPY_MODEL_b5ecdc9741914d1ab83c1801826872f4",
              "IPY_MODEL_e281c17133304feb8a826ab89f5fe6e5",
              "IPY_MODEL_b25b7491fb6643169b2e06a52015bba5"
            ],
            "layout": "IPY_MODEL_b5d4299dff23434ca5d33c1f850dbe9f"
          }
        },
        "b5ecdc9741914d1ab83c1801826872f4": {
          "model_module": "@jupyter-widgets/controls",
          "model_name": "HTMLModel",
          "model_module_version": "1.5.0",
          "state": {
            "_dom_classes": [],
            "_model_module": "@jupyter-widgets/controls",
            "_model_module_version": "1.5.0",
            "_model_name": "HTMLModel",
            "_view_count": null,
            "_view_module": "@jupyter-widgets/controls",
            "_view_module_version": "1.5.0",
            "_view_name": "HTMLView",
            "description": "",
            "description_tooltip": null,
            "layout": "IPY_MODEL_69b354a2b16a40f4be17a9e2ed2ddd97",
            "placeholder": "​",
            "style": "IPY_MODEL_e614648d25464c609be9f7a32522d878",
            "value": "model.safetensors: 100%"
          }
        },
        "e281c17133304feb8a826ab89f5fe6e5": {
          "model_module": "@jupyter-widgets/controls",
          "model_name": "FloatProgressModel",
          "model_module_version": "1.5.0",
          "state": {
            "_dom_classes": [],
            "_model_module": "@jupyter-widgets/controls",
            "_model_module_version": "1.5.0",
            "_model_name": "FloatProgressModel",
            "_view_count": null,
            "_view_module": "@jupyter-widgets/controls",
            "_view_module_version": "1.5.0",
            "_view_name": "ProgressView",
            "bar_style": "success",
            "description": "",
            "description_tooltip": null,
            "layout": "IPY_MODEL_050bf86f20f34ef7ad0c3a167d472c10",
            "max": 440449768,
            "min": 0,
            "orientation": "horizontal",
            "style": "IPY_MODEL_a7de6495b1a04b6e9a3fac09f9941ef0",
            "value": 440449768
          }
        },
        "b25b7491fb6643169b2e06a52015bba5": {
          "model_module": "@jupyter-widgets/controls",
          "model_name": "HTMLModel",
          "model_module_version": "1.5.0",
          "state": {
            "_dom_classes": [],
            "_model_module": "@jupyter-widgets/controls",
            "_model_module_version": "1.5.0",
            "_model_name": "HTMLModel",
            "_view_count": null,
            "_view_module": "@jupyter-widgets/controls",
            "_view_module_version": "1.5.0",
            "_view_name": "HTMLView",
            "description": "",
            "description_tooltip": null,
            "layout": "IPY_MODEL_5631a950de034b1e8d0e1df82079665b",
            "placeholder": "​",
            "style": "IPY_MODEL_17a995a64da049a4a63a5d07ac902949",
            "value": " 440M/440M [00:10&lt;00:00, 50.8MB/s]"
          }
        },
        "b5d4299dff23434ca5d33c1f850dbe9f": {
          "model_module": "@jupyter-widgets/base",
          "model_name": "LayoutModel",
          "model_module_version": "1.2.0",
          "state": {
            "_model_module": "@jupyter-widgets/base",
            "_model_module_version": "1.2.0",
            "_model_name": "LayoutModel",
            "_view_count": null,
            "_view_module": "@jupyter-widgets/base",
            "_view_module_version": "1.2.0",
            "_view_name": "LayoutView",
            "align_content": null,
            "align_items": null,
            "align_self": null,
            "border": null,
            "bottom": null,
            "display": null,
            "flex": null,
            "flex_flow": null,
            "grid_area": null,
            "grid_auto_columns": null,
            "grid_auto_flow": null,
            "grid_auto_rows": null,
            "grid_column": null,
            "grid_gap": null,
            "grid_row": null,
            "grid_template_areas": null,
            "grid_template_columns": null,
            "grid_template_rows": null,
            "height": null,
            "justify_content": null,
            "justify_items": null,
            "left": null,
            "margin": null,
            "max_height": null,
            "max_width": null,
            "min_height": null,
            "min_width": null,
            "object_fit": null,
            "object_position": null,
            "order": null,
            "overflow": null,
            "overflow_x": null,
            "overflow_y": null,
            "padding": null,
            "right": null,
            "top": null,
            "visibility": null,
            "width": null
          }
        },
        "69b354a2b16a40f4be17a9e2ed2ddd97": {
          "model_module": "@jupyter-widgets/base",
          "model_name": "LayoutModel",
          "model_module_version": "1.2.0",
          "state": {
            "_model_module": "@jupyter-widgets/base",
            "_model_module_version": "1.2.0",
            "_model_name": "LayoutModel",
            "_view_count": null,
            "_view_module": "@jupyter-widgets/base",
            "_view_module_version": "1.2.0",
            "_view_name": "LayoutView",
            "align_content": null,
            "align_items": null,
            "align_self": null,
            "border": null,
            "bottom": null,
            "display": null,
            "flex": null,
            "flex_flow": null,
            "grid_area": null,
            "grid_auto_columns": null,
            "grid_auto_flow": null,
            "grid_auto_rows": null,
            "grid_column": null,
            "grid_gap": null,
            "grid_row": null,
            "grid_template_areas": null,
            "grid_template_columns": null,
            "grid_template_rows": null,
            "height": null,
            "justify_content": null,
            "justify_items": null,
            "left": null,
            "margin": null,
            "max_height": null,
            "max_width": null,
            "min_height": null,
            "min_width": null,
            "object_fit": null,
            "object_position": null,
            "order": null,
            "overflow": null,
            "overflow_x": null,
            "overflow_y": null,
            "padding": null,
            "right": null,
            "top": null,
            "visibility": null,
            "width": null
          }
        },
        "e614648d25464c609be9f7a32522d878": {
          "model_module": "@jupyter-widgets/controls",
          "model_name": "DescriptionStyleModel",
          "model_module_version": "1.5.0",
          "state": {
            "_model_module": "@jupyter-widgets/controls",
            "_model_module_version": "1.5.0",
            "_model_name": "DescriptionStyleModel",
            "_view_count": null,
            "_view_module": "@jupyter-widgets/base",
            "_view_module_version": "1.2.0",
            "_view_name": "StyleView",
            "description_width": ""
          }
        },
        "050bf86f20f34ef7ad0c3a167d472c10": {
          "model_module": "@jupyter-widgets/base",
          "model_name": "LayoutModel",
          "model_module_version": "1.2.0",
          "state": {
            "_model_module": "@jupyter-widgets/base",
            "_model_module_version": "1.2.0",
            "_model_name": "LayoutModel",
            "_view_count": null,
            "_view_module": "@jupyter-widgets/base",
            "_view_module_version": "1.2.0",
            "_view_name": "LayoutView",
            "align_content": null,
            "align_items": null,
            "align_self": null,
            "border": null,
            "bottom": null,
            "display": null,
            "flex": null,
            "flex_flow": null,
            "grid_area": null,
            "grid_auto_columns": null,
            "grid_auto_flow": null,
            "grid_auto_rows": null,
            "grid_column": null,
            "grid_gap": null,
            "grid_row": null,
            "grid_template_areas": null,
            "grid_template_columns": null,
            "grid_template_rows": null,
            "height": null,
            "justify_content": null,
            "justify_items": null,
            "left": null,
            "margin": null,
            "max_height": null,
            "max_width": null,
            "min_height": null,
            "min_width": null,
            "object_fit": null,
            "object_position": null,
            "order": null,
            "overflow": null,
            "overflow_x": null,
            "overflow_y": null,
            "padding": null,
            "right": null,
            "top": null,
            "visibility": null,
            "width": null
          }
        },
        "a7de6495b1a04b6e9a3fac09f9941ef0": {
          "model_module": "@jupyter-widgets/controls",
          "model_name": "ProgressStyleModel",
          "model_module_version": "1.5.0",
          "state": {
            "_model_module": "@jupyter-widgets/controls",
            "_model_module_version": "1.5.0",
            "_model_name": "ProgressStyleModel",
            "_view_count": null,
            "_view_module": "@jupyter-widgets/base",
            "_view_module_version": "1.2.0",
            "_view_name": "StyleView",
            "bar_color": null,
            "description_width": ""
          }
        },
        "5631a950de034b1e8d0e1df82079665b": {
          "model_module": "@jupyter-widgets/base",
          "model_name": "LayoutModel",
          "model_module_version": "1.2.0",
          "state": {
            "_model_module": "@jupyter-widgets/base",
            "_model_module_version": "1.2.0",
            "_model_name": "LayoutModel",
            "_view_count": null,
            "_view_module": "@jupyter-widgets/base",
            "_view_module_version": "1.2.0",
            "_view_name": "LayoutView",
            "align_content": null,
            "align_items": null,
            "align_self": null,
            "border": null,
            "bottom": null,
            "display": null,
            "flex": null,
            "flex_flow": null,
            "grid_area": null,
            "grid_auto_columns": null,
            "grid_auto_flow": null,
            "grid_auto_rows": null,
            "grid_column": null,
            "grid_gap": null,
            "grid_row": null,
            "grid_template_areas": null,
            "grid_template_columns": null,
            "grid_template_rows": null,
            "height": null,
            "justify_content": null,
            "justify_items": null,
            "left": null,
            "margin": null,
            "max_height": null,
            "max_width": null,
            "min_height": null,
            "min_width": null,
            "object_fit": null,
            "object_position": null,
            "order": null,
            "overflow": null,
            "overflow_x": null,
            "overflow_y": null,
            "padding": null,
            "right": null,
            "top": null,
            "visibility": null,
            "width": null
          }
        },
        "17a995a64da049a4a63a5d07ac902949": {
          "model_module": "@jupyter-widgets/controls",
          "model_name": "DescriptionStyleModel",
          "model_module_version": "1.5.0",
          "state": {
            "_model_module": "@jupyter-widgets/controls",
            "_model_module_version": "1.5.0",
            "_model_name": "DescriptionStyleModel",
            "_view_count": null,
            "_view_module": "@jupyter-widgets/base",
            "_view_module_version": "1.2.0",
            "_view_name": "StyleView",
            "description_width": ""
          }
        }
      }
    }
  },
  "nbformat": 4,
  "nbformat_minor": 5
}