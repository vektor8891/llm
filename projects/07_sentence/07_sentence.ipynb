{
  "cells": [
    {
      "cell_type": "markdown",
      "metadata": {
        "id": "view-in-github",
        "colab_type": "text"
      },
      "source": [
        "<a href=\"https://colab.research.google.com/github/vektor8891/llm/blob/main/projects/07_sentence/07_sentence.ipynb\" target=\"_parent\"><img src=\"https://colab.research.google.com/assets/colab-badge.svg\" alt=\"Open In Colab\"/></a>"
      ]
    },
    {
      "cell_type": "code",
      "execution_count": 1,
      "metadata": {
        "id": "MFdQXsFqJOzD"
      },
      "outputs": [],
      "source": [
        "# State machine (transition model) with 3 states:\n",
        "# 1. State h = -1:\n",
        "#   - Maintains itself when x = 1\n",
        "#   - Proceeds to the h = 0 state if x = -1\n",
        "# 2. State h = 0:\n",
        "#   - Moves to h = -1 state when x = 1\n",
        "#   - Advances to the h = 1 when x = -1\n",
        "# 3. State h = 1:\n",
        "#   - Sustains its position when x = -1\n",
        "#   - Transitions to h = 0 state when x = 1"
      ]
    },
    {
      "cell_type": "code",
      "source": [
        " W_xh=torch.tensor(-10.0)\n",
        " W_hh=torch.tensor(10.0)\n",
        " b_h=torch.tensor(0.0)\n",
        " x_t=1\n",
        " h_prev=torch.tensor(-1)\n",
        "\n",
        " X=[1,1,-1,-1,1,1]\n",
        " H=[-1,-1,0,1,0,-1]"
      ],
      "metadata": {
        "id": "KQ0jN1TiLG-2"
      },
      "execution_count": null,
      "outputs": []
    }
  ],
  "metadata": {
    "kernelspec": {
      "display_name": ".venv",
      "language": "python",
      "name": "python3"
    },
    "language_info": {
      "codemirror_mode": {
        "name": "ipython",
        "version": 3
      },
      "file_extension": ".py",
      "mimetype": "text/x-python",
      "name": "python",
      "nbconvert_exporter": "python",
      "pygments_lexer": "ipython3",
      "version": "3.13.2"
    },
    "colab": {
      "provenance": [],
      "include_colab_link": true
    }
  },
  "nbformat": 4,
  "nbformat_minor": 0
}