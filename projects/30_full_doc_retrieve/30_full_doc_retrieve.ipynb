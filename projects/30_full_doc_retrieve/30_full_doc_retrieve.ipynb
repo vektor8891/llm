{
  "cells": [
    {
      "cell_type": "markdown",
      "metadata": {
        "id": "view-in-github",
        "colab_type": "text"
      },
      "source": [
        "<a href=\"https://colab.research.google.com/github/vektor8891/llm/blob/main/projects/30_full_doc_retrieve/30_full_doc_retrieve.ipynb\" target=\"_parent\"><img src=\"https://colab.research.google.com/assets/colab-badge.svg\" alt=\"Open In Colab\"/></a>"
      ]
    },
    {
      "cell_type": "markdown",
      "source": [
        "# Put Whole Document into Prompt and Ask the Model"
      ],
      "metadata": {
        "id": "Zh2C7BdF1Ky2"
      },
      "id": "Zh2C7BdF1Ky2"
    },
    {
      "cell_type": "markdown",
      "source": [
        "## Build LLM"
      ],
      "metadata": {
        "id": "y6jbUP1b1UuV"
      },
      "id": "y6jbUP1b1UuV"
    },
    {
      "cell_type": "code",
      "source": [
        "def llm_model(model_id):\n",
        "    parameters = {\n",
        "        GenParams.MAX_NEW_TOKENS: 256,  # this controls the maximum number of tokens in the generated output\n",
        "        GenParams.TEMPERATURE: 0.5, # this randomness or creativity of the model's responses\n",
        "    }\n",
        "\n",
        "    credentials = {\n",
        "        \"url\": \"https://us-south.ml.cloud.ibm.com\"\n",
        "    }\n",
        "\n",
        "    project_id = \"skills-network\"\n",
        "\n",
        "    model = ModelInference(\n",
        "        model_id=model_id,\n",
        "        params=parameters,\n",
        "        credentials=credentials,\n",
        "        project_id=project_id\n",
        "    )\n",
        "\n",
        "    llm = WatsonxLLM(watsonx_model = model)\n",
        "    return llm"
      ],
      "metadata": {
        "id": "frzqJ_l51Kl7"
      },
      "id": "frzqJ_l51Kl7",
      "execution_count": null,
      "outputs": []
    },
    {
      "cell_type": "code",
      "execution_count": null,
      "id": "d5f7557c",
      "metadata": {
        "id": "d5f7557c"
      },
      "outputs": [],
      "source": [
        "print(\"Hello, World!\")"
      ]
    }
  ],
  "metadata": {
    "language_info": {
      "name": "python"
    },
    "colab": {
      "provenance": [],
      "include_colab_link": true
    }
  },
  "nbformat": 4,
  "nbformat_minor": 5
}