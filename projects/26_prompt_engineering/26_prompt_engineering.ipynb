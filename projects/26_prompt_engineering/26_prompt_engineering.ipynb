{
    "cells": [
        {
            "cell_type": "markdown",
            "metadata": {
                "id": "view-in-github",
                "colab_type": "text"
            },
            "source": [
                "<a href=\"https://colab.research.google.com/github/vektor8891/llm/blob/main/projects/26_prompt_engineering/26_prompt_engineering.ipynb\" target=\"_parent\"><img src=\"https://colab.research.google.com/assets/colab-badge.svg\" alt=\"Open In Colab\"/></a>"
            ]
        },
        {
            "cell_type": "code",
            "source": [
                "# ! pip install -qq ibm-watsonx-ai\n",
                "# ! pip install -qq langchain\n",
                "# ! pip install -qq langchain-ibm"
            ],
            "metadata": {
                "id": "J8uafqA4q7vE"
            },
            "id": "J8uafqA4q7vE",
            "execution_count": 1,
            "outputs": []
        },
        {
            "cell_type": "markdown",
            "source": [
                "# In-Context Engineering and Prompt Templates"
            ],
            "metadata": {
                "id": "xzm0KzZ5qcZh"
            },
            "id": "xzm0KzZ5qcZh"
        },
        {
            "cell_type": "markdown",
            "source": [
                "## Setup LLM"
            ],
            "metadata": {
                "id": "HtVLFqpcqycM"
            },
            "id": "HtVLFqpcqycM"
        },
        {
            "cell_type": "code",
            "execution_count": 2,
            "id": "e7184dd7",
            "metadata": {
                "id": "e7184dd7"
            },
            "outputs": [],
            "source": [
                "from langchain_ibm.llms import WatsonxLLM\n",
                "from ibm_watsonx_ai.metanames import GenTextParamsMetaNames as GenParams\n",
                "from google.colab import userdata\n",
                "\n",
                "def llm_model(prompt_txt=None, params=None):\n",
                "    model_id = 'mistralai/mistral-small-3-1-24b-instruct-2503'\n",
                "\n",
                "    default_params = {\n",
                "        \"max_new_tokens\": 256,\n",
                "        \"min_new_tokens\": 0,\n",
                "        \"temperature\": 0.5,\n",
                "        \"top_p\": 0.2,\n",
                "        \"top_k\": 1\n",
                "    }\n",
                "\n",
                "    if params:\n",
                "        default_params.update(params)\n",
                "\n",
                "    parameters = {\n",
                "        GenParams.MAX_NEW_TOKENS: default_params[\"max_new_tokens\"],  # this controls the maximum number of tokens in the generated output\n",
                "        GenParams.MIN_NEW_TOKENS: default_params[\"min_new_tokens\"], # this controls the minimum number of tokens in the generated output\n",
                "        GenParams.TEMPERATURE: default_params[\"temperature\"], # this randomness or creativity of the model's responses\n",
                "        GenParams.TOP_P: default_params[\"top_p\"],\n",
                "        GenParams.TOP_K: default_params[\"top_k\"]\n",
                "    }\n",
                "\n",
                "    api_key = userdata.get('IBM_CLOUD_API_KEY')\n",
                "\n",
                "    credentials = {\n",
                "      \"url\": userdata.get(\"WATSONX_URL\"),\n",
                "      \"apikey\": userdata.get('IBM_CLOUD_API_KEY')\n",
                "  }\n",
                "\n",
                "    project_id = userdata.get(\"WATSONX_PROJECT_ID\")\n",
                "\n",
                "    mixtral_llm = WatsonxLLM(\n",
                "        model_id=model_id,\n",
                "        url=userdata.get(\"WATSONX_URL\"),\n",
                "        apikey=userdata.get('IBM_CLOUD_API_KEY'),\n",
                "        project_id=userdata.get(\"WATSONX_PROJECT_ID\"),\n",
                "        params=parameters\n",
                "    )\n",
                "\n",
                "    if prompt_txt:\n",
                "        response = mixtral_llm.invoke(prompt_txt)\n",
                "        return response\n",
                "    else:\n",
                "        return mixtral_llm"
            ]
        },
        {
            "cell_type": "code",
            "source": [
                "GenParams().get_example_values()"
            ],
            "metadata": {
                "colab": {
                    "base_uri": "https://localhost:8080/"
                },
                "id": "mxi-SrBCq1ri",
                "outputId": "fab4f648-65b8-4b72-b58d-26afdef61b13"
            },
            "id": "mxi-SrBCq1ri",
            "execution_count": 3,
            "outputs": [
                {
                    "output_type": "execute_result",
                    "data": {
                        "text/plain": [
                            "{'decoding_method': 'sample',\n",
                            " 'length_penalty': {'decay_factor': 2.5, 'start_index': 5},\n",
                            " 'temperature': 0.5,\n",
                            " 'top_p': 0.2,\n",
                            " 'top_k': 1,\n",
                            " 'random_seed': 33,\n",
                            " 'repetition_penalty': 2,\n",
                            " 'min_new_tokens': 50,\n",
                            " 'max_new_tokens': 200,\n",
                            " 'stop_sequences': ['fail'],\n",
                            " 'time_limit': 600000,\n",
                            " 'truncate_input_tokens': 200,\n",
                            " 'prompt_variables': {'object': 'brain'},\n",
                            " 'return_options': {'input_text': True,\n",
                            "  'generated_tokens': True,\n",
                            "  'input_tokens': True,\n",
                            "  'token_logprobs': True,\n",
                            "  'token_ranks': False,\n",
                            "  'top_n_tokens': False}}"
                        ]
                    },
                    "metadata": {},
                    "execution_count": 3
                }
            ]
        },
        {
            "cell_type": "markdown",
            "source": [
                "## Prompt engineering"
            ],
            "metadata": {
                "id": "gywz1YvuroJ9"
            },
            "id": "gywz1YvuroJ9"
        },
        {
            "cell_type": "markdown",
            "source": [
                "### First basic prompt"
            ],
            "metadata": {
                "id": "cSQcfqBLrBk8"
            },
            "id": "cSQcfqBLrBk8"
        },
        {
            "cell_type": "code",
            "source": [
                "params = {\n",
                "    \"max_new_tokens\": 128,\n",
                "    \"min_new_tokens\": 10,\n",
                "    \"temperature\": 0.5,\n",
                "    \"top_p\": 0.2,\n",
                "    \"top_k\": 1\n",
                "}\n",
                "\n",
                "prompt = \"The wind is\"\n",
                "\n",
                "response = llm_model(prompt, params)\n",
                "print(f\"prompt: {prompt}\\n\")\n",
                "print(f\"response : {response}\\n\")"
            ],
            "metadata": {
                "colab": {
                    "base_uri": "https://localhost:8080/"
                },
                "id": "qwsrDANgrmEs",
                "outputId": "ca4f71e3-ff8b-42b9-9753-fd2701fbbf12"
            },
            "id": "qwsrDANgrmEs",
            "execution_count": 4,
            "outputs": [
                {
                    "output_type": "stream",
                    "name": "stdout",
                    "text": [
                        "prompt: The wind is\n",
                        "\n",
                        "response :  blowing at 20 mph. The wind chill is 10 degrees Fahrenheit. What is the temperature?\n",
                        "\n",
                        "The wind chill is a measure of how cold it feels outside due to the combination of temperature and wind speed. It does not change the actual air temperature. Therefore, if the wind chill is 10 degrees Fahrenheit, it means that the actual temperature feels like 10 degrees Fahrenheit due to the wind, but the actual air temperature is not provided in the information given.\n",
                        "\n",
                        "To determine the actual temperature, we would need additional information or a wind chill chart/table that correlates wind speed and temperature to wind\n",
                        "\n"
                    ]
                }
            ]
        },
        {
            "cell_type": "markdown",
            "source": [
                "### Zero-shot prompt"
            ],
            "metadata": {
                "id": "DlX3iJtRrcJ7"
            },
            "id": "DlX3iJtRrcJ7"
        },
        {
            "cell_type": "code",
            "source": [
                "prompt = \"\"\"Classify the following statement as true or false:\n",
                "            'The Eiffel Tower is located in Berlin.'\n",
                "\n",
                "            Answer:\n",
                "\"\"\"\n",
                "response = llm_model(prompt, params)\n",
                "print(f\"prompt: {prompt}\\n\")\n",
                "print(f\"response : {response}\\n\")"
            ],
            "metadata": {
                "colab": {
                    "base_uri": "https://localhost:8080/"
                },
                "id": "-MRbF3x2rcgL",
                "outputId": "899a87fd-fbd2-444a-ef4a-36e87346d3d3"
            },
            "id": "-MRbF3x2rcgL",
            "execution_count": 5,
            "outputs": [
                {
                    "output_type": "stream",
                    "name": "stdout",
                    "text": [
                        "prompt: Classify the following statement as true or false: \n",
                        "            'The Eiffel Tower is located in Berlin.'\n",
                        "\n",
                        "            Answer:\n",
                        "\n",
                        "\n",
                        "response :             False\n",
                        "\n",
                        "            The Eiffel Tower is actually located in Paris, France.\n",
                        "\n"
                    ]
                }
            ]
        },
        {
            "cell_type": "markdown",
            "source": [
                "### One-shot prompt"
            ],
            "metadata": {
                "id": "5aSPw-GBriQL"
            },
            "id": "5aSPw-GBriQL"
        },
        {
            "cell_type": "code",
            "source": [
                "params = {\n",
                "    \"max_new_tokens\": 20,\n",
                "    \"temperature\": 0.1,\n",
                "}\n",
                "\n",
                "prompt = \"\"\"Here is an example of translating a sentence from English to French:\n",
                "\n",
                "            English: \u201cHow is the weather today?\u201d\n",
                "            French: \u201cComment est le temps aujourd'hui?\u201d\n",
                "\n",
                "            Now, translate the following sentence from English to French:\n",
                "\n",
                "            English: \u201cWhere is the nearest supermarket?\u201d\n",
                "\n",
                "\"\"\"\n",
                "response = llm_model(prompt, params)\n",
                "print(f\"prompt: {prompt}\\n\")\n",
                "print(f\"response : {response}\\n\")"
            ],
            "metadata": {
                "colab": {
                    "base_uri": "https://localhost:8080/"
                },
                "id": "UezlCCWerff5",
                "outputId": "7e9f2b19-9cb9-4fea-bdd9-857642d5f2b0"
            },
            "id": "UezlCCWerff5",
            "execution_count": 6,
            "outputs": [
                {
                    "output_type": "stream",
                    "name": "stdout",
                    "text": [
                        "prompt: Here is an example of translating a sentence from English to French:\n",
                        "\n",
                        "            English: \u201cHow is the weather today?\u201d\n",
                        "            French: \u201cComment est le temps aujourd'hui?\u201d\n",
                        "            \n",
                        "            Now, translate the following sentence from English to French:\n",
                        "            \n",
                        "            English: \u201cWhere is the nearest supermarket?\u201d\n",
                        "            \n",
                        "\n",
                        "\n",
                        "response :             French: \u201cO\u00f9 est le supermarch\u00e9 le plus proche?\u201d\n",
                        "\n",
                        "In this exercise,\n",
                        "\n"
                    ]
                }
            ]
        },
        {
            "cell_type": "markdown",
            "source": [
                "### Few-shot prompt"
            ],
            "metadata": {
                "id": "VRr6gxECrrll"
            },
            "id": "VRr6gxECrrll"
        },
        {
            "cell_type": "code",
            "source": [
                "params = {\n",
                "    \"max_new_tokens\": 10,\n",
                "}\n",
                "\n",
                "prompt = \"\"\"Here are few examples of classifying emotions in statements:\n",
                "\n",
                "            Statement: 'I just won my first marathon!'\n",
                "            Emotion: Joy\n",
                "\n",
                "            Statement: 'I can't believe I lost my keys again.'\n",
                "            Emotion: Frustration\n",
                "\n",
                "            Statement: 'My best friend is moving to another country.'\n",
                "            Emotion: Sadness\n",
                "\n",
                "            Now, classify the emotion in the following statement. Return the emotion only:\n",
                "            Statement: 'That movie was so scary I had to cover my eyes.\u2019\n",
                "\n",
                "\n",
                "\"\"\"\n",
                "response = llm_model(prompt, params)\n",
                "print(f\"prompt: {prompt}\\n\")\n",
                "print(f\"response : {response}\\n\")"
            ],
            "metadata": {
                "colab": {
                    "base_uri": "https://localhost:8080/"
                },
                "id": "-RyC0cWBrkU4",
                "outputId": "d2e10ea1-a547-4c1e-8c28-c0dc8876d581"
            },
            "id": "-RyC0cWBrkU4",
            "execution_count": 7,
            "outputs": [
                {
                    "output_type": "stream",
                    "name": "stdout",
                    "text": [
                        "prompt: Here are few examples of classifying emotions in statements:\n",
                        "\n",
                        "            Statement: 'I just won my first marathon!'\n",
                        "            Emotion: Joy\n",
                        "            \n",
                        "            Statement: 'I can't believe I lost my keys again.'\n",
                        "            Emotion: Frustration\n",
                        "            \n",
                        "            Statement: 'My best friend is moving to another country.'\n",
                        "            Emotion: Sadness\n",
                        "            \n",
                        "            Now, classify the emotion in the following statement. Return the emotion only:\n",
                        "            Statement: 'That movie was so scary I had to cover my eyes.\u2019\n",
                        "            \n",
                        "\n",
                        "\n",
                        "\n",
                        "response : Fear\n",
                        "\n"
                    ]
                }
            ]
        },
        {
            "cell_type": "markdown",
            "source": [
                "### Chain-of-thought (CoT) prompting"
            ],
            "metadata": {
                "id": "EIaEqXKyr-o3"
            },
            "id": "EIaEqXKyr-o3"
        },
        {
            "cell_type": "code",
            "source": [
                "params = {\n",
                "    \"max_new_tokens\": 512,\n",
                "    \"temperature\": 0.5,\n",
                "}\n",
                "\n",
                "prompt = \"\"\"Consider the problem: 'A store had 22 apples. They sold 15 apples today and got a new delivery of 8 apples.\n",
                "            How many apples are there now?\u2019\n",
                "\n",
                "            Break down each step of your calculation\n",
                "\n",
                "\"\"\"\n",
                "response = llm_model(prompt, params)\n",
                "print(f\"prompt: {prompt}\\n\")\n",
                "print(f\"response : {response}\\n\")"
            ],
            "metadata": {
                "colab": {
                    "base_uri": "https://localhost:8080/"
                },
                "id": "eWqE6HzArtP0",
                "outputId": "f31f9619-c8cf-47ab-efa1-bad1f0be7f2a"
            },
            "id": "eWqE6HzArtP0",
            "execution_count": 8,
            "outputs": [
                {
                    "output_type": "stream",
                    "name": "stdout",
                    "text": [
                        "prompt: Consider the problem: 'A store had 22 apples. They sold 15 apples today and got a new delivery of 8 apples. \n",
                        "            How many apples are there now?\u2019\n",
                        "\n",
                        "            Break down each step of your calculation\n",
                        "\n",
                        "\n",
                        "\n",
                        "response : 1. **Initial Number of Apples**: The store starts with 22 apples.\n",
                        "\n",
                        "2. **Apples Sold**: The store sold 15 apples.\n",
                        "   - Calculation: \\( 22 - 15 = 7 \\)\n",
                        "   - So, after selling 15 apples, the store has 7 apples left.\n",
                        "\n",
                        "3. **New Delivery**: The store received a new delivery of 8 apples.\n",
                        "   - Calculation: \\( 7 + 8 = 15 \\)\n",
                        "   - So, after the new delivery, the store has 15 apples.\n",
                        "\n",
                        "Therefore, the store now has **15 apples**.\n",
                        "\n"
                    ]
                }
            ]
        },
        {
            "cell_type": "markdown",
            "source": [
                "### Self-consistency"
            ],
            "metadata": {
                "id": "PjoTM5BJsHvE"
            },
            "id": "PjoTM5BJsHvE"
        },
        {
            "cell_type": "code",
            "source": [
                "params = {\n",
                "    \"max_new_tokens\": 512,\n",
                "}\n",
                "\n",
                "prompt = \"\"\"When I was 6, my sister was half of my age. Now I am 70, what age is my sister?\n",
                "\n",
                "            Provide three independent calculations and explanations, then determine the most consistent result.\n",
                "\n",
                "\"\"\"\n",
                "response = llm_model(prompt, params)\n",
                "print(f\"prompt: {prompt}\\n\")\n",
                "print(f\"response : {response}\\n\")"
            ],
            "metadata": {
                "colab": {
                    "base_uri": "https://localhost:8080/"
                },
                "id": "vNHrYmb7sC8Y",
                "outputId": "3ea79722-921f-4545-e92b-f13a164575d7"
            },
            "id": "vNHrYmb7sC8Y",
            "execution_count": 9,
            "outputs": [
                {
                    "output_type": "stream",
                    "name": "stdout",
                    "text": [
                        "prompt: When I was 6, my sister was half of my age. Now I am 70, what age is my sister?\n",
                        "\n",
                        "            Provide three independent calculations and explanations, then determine the most consistent result.\n",
                        "\n",
                        "\n",
                        "\n",
                        "response : ### Calculation 1:\n",
                        "1. When you were 6, your sister was half your age, so she was 3.\n",
                        "2. The age difference between you and your sister is 6 - 3 = 3 years.\n",
                        "3. Now that you are 70, your sister's age is 70 - 3 = 67.\n",
                        "\n",
                        "### Calculation 2:\n",
                        "1. When you were 6, your sister was half your age, so she was 3.\n",
                        "2. The age difference between you and your sister is constant.\n",
                        "3. Now that you are 70, your sister's age is 70 - 3 = 67.\n",
                        "\n",
                        "### Calculation 3:\n",
                        "1. When you were 6, your sister was half your age, so she was 3.\n",
                        "2. The age difference between you and your sister is 6 - 3 = 3 years.\n",
                        "3. Now that you are 70, your sister's age is 70 - 3 = 67.\n",
                        "\n",
                        "### Conclusion:\n",
                        "All three calculations consistently show that your sister is 67 years old.\n",
                        "\n"
                    ]
                }
            ]
        },
        {
            "cell_type": "markdown",
            "source": [
                "## Applications"
            ],
            "metadata": {
                "id": "wWJBoztQsQ_N"
            },
            "id": "wWJBoztQsQ_N"
        },
        {
            "cell_type": "code",
            "source": [
                "from langchain_core.prompts import PromptTemplate\n",
                "\n",
                "template = \"\"\"Tell me a {adjective} joke about {content}.\n",
                "\"\"\"\n",
                "prompt = PromptTemplate.from_template(template)\n",
                "prompt"
            ],
            "metadata": {
                "colab": {
                    "base_uri": "https://localhost:8080/"
                },
                "id": "xX2o4cyusJZZ",
                "outputId": "18a9ac5a-27e3-48bd-bdf5-1fc411b07d03"
            },
            "id": "xX2o4cyusJZZ",
            "execution_count": 10,
            "outputs": [
                {
                    "output_type": "execute_result",
                    "data": {
                        "text/plain": [
                            "PromptTemplate(input_variables=['adjective', 'content'], input_types={}, partial_variables={}, template='Tell me a {adjective} joke about {content}.\\n')"
                        ]
                    },
                    "metadata": {},
                    "execution_count": 10
                }
            ]
        },
        {
            "cell_type": "code",
            "source": [
                "prompt.format(adjective=\"funny\", content=\"chickens\")"
            ],
            "metadata": {
                "colab": {
                    "base_uri": "https://localhost:8080/",
                    "height": 35
                },
                "id": "JiHbrtxMsaU_",
                "outputId": "eae8c70e-8e60-479f-f9e5-11f5bbc4670e"
            },
            "id": "JiHbrtxMsaU_",
            "execution_count": 11,
            "outputs": [
                {
                    "output_type": "execute_result",
                    "data": {
                        "text/plain": [
                            "'Tell me a funny joke about chickens.\\n'"
                        ],
                        "application/vnd.google.colaboratory.intrinsic+json": {
                            "type": "string"
                        }
                    },
                    "metadata": {},
                    "execution_count": 11
                }
            ]
        },
        {
            "cell_type": "code",
            "source": [
                "from langchain_core.prompts import PromptTemplate\n",
                "from langchain_ibm import WatsonxLLM\n",
                "\n",
                "params = {\n",
                "    \"max_new_tokens\": 256,\n",
                "    \"temperature\": 0.5,\n",
                "}\n",
                "\n",
                "mixtral_llm = llm_model(prompt_txt=None, params=params)\n",
                "\n",
                "response = prompt | mixtral_llm\n",
                "response = response.invoke(input = {\"adjective\": \"funny\", \"content\": \"chickens\"})\n",
                "\n",
                "print(response)"
            ],
            "metadata": {
                "colab": {
                    "base_uri": "https://localhost:8080/"
                },
                "id": "RUuczBGpscqI",
                "outputId": "56797652-b6c0-4d8c-9386-2abd5df89d6a"
            },
            "id": "RUuczBGpscqI",
            "execution_count": 16,
            "outputs": [
                {
                    "output_type": "stream",
                    "name": "stdout",
                    "text": [
                        "What do you call a chicken looking at a salad? A Caesar.\n"
                    ]
                }
            ]
        },
        {
            "cell_type": "markdown",
            "source": [
                "### Question answering"
            ],
            "metadata": {
                "id": "P3JqlcvQtsih"
            },
            "id": "P3JqlcvQtsih"
        },
        {
            "cell_type": "code",
            "source": [
                "from langchain_core.prompts import PromptTemplate\n",
                "from langchain_ibm import WatsonxLLM\n",
                "\n",
                "content = \"\"\"\n",
                "        The solar system consists of the Sun, eight planets, their moons, dwarf planets, and smaller objects like asteroids and comets.\n",
                "        The inner planets\u2014Mercury, Venus, Earth, and Mars\u2014are rocky and solid.\n",
                "        The outer planets\u2014Jupiter, Saturn, Uranus, and Neptune\u2014are much larger and gaseous.\n",
                "\"\"\"\n",
                "\n",
                "question = \"Which planets in the solar system are rocky and solid?\"\n",
                "\n",
                "template = \"\"\"\n",
                "            Answer the {question} based on the {content}.\n",
                "            Respond \"Unsure about answer\" if not sure about the answer.\n",
                "\n",
                "            Answer:\n",
                "\n",
                "\"\"\"\n",
                "prompt = PromptTemplate.from_template(template)\n",
                "response = prompt | mixtral_llm\n",
                "response = response.invoke(input = {\"question\":question ,\"content\": content})\n",
                "print(response)"
            ],
            "metadata": {
                "colab": {
                    "base_uri": "https://localhost:8080/"
                },
                "id": "NI0evOW6sd8o",
                "outputId": "aa0c099d-4033-4f43-ea3a-8b563627c1b1"
            },
            "id": "NI0evOW6sd8o",
            "execution_count": 20,
            "outputs": [
                {
                    "output_type": "stream",
                    "name": "stdout",
                    "text": [
                        "The rocky and solid planets in the solar system are Mercury, Venus, Earth, and Mars.\n"
                    ]
                }
            ]
        },
        {
            "cell_type": "markdown",
            "source": [
                "### Text classification"
            ],
            "metadata": {
                "id": "jRNy6AoFuT47"
            },
            "id": "jRNy6AoFuT47"
        },
        {
            "cell_type": "code",
            "source": [
                "text = \"\"\"\n",
                "        The concert last night was an exhilarating experience with outstanding performances by all artists.\n",
                "\"\"\"\n",
                "\n",
                "categories = \"Entertainment, Food and Dining, Technology, Literature, Music.\"\n",
                "\n",
                "template = \"\"\"\n",
                "            Classify the {text} into one of the {categories}.\n",
                "\n",
                "            Category:\n",
                "\n",
                "\"\"\"\n",
                "prompt = PromptTemplate.from_template(template)\n",
                "response = prompt | mixtral_llm\n",
                "response = response.invoke(input = {\"text\":text ,\"categories\": categories})\n",
                "print(response)"
            ],
            "metadata": {
                "colab": {
                    "base_uri": "https://localhost:8080/"
                },
                "id": "BktP-N-wtwHS",
                "outputId": "382e0b3f-a568-4234-a1d9-115ee9ec883b"
            },
            "id": "BktP-N-wtwHS",
            "execution_count": 22,
            "outputs": [
                {
                    "output_type": "stream",
                    "name": "stdout",
                    "text": [
                        "            Music\n"
                    ]
                }
            ]
        },
        {
            "cell_type": "markdown",
            "source": [
                "### Code generation"
            ],
            "metadata": {
                "id": "mHDTTfzuul7Y"
            },
            "id": "mHDTTfzuul7Y"
        },
        {
            "cell_type": "code",
            "source": [
                "description = \"\"\"\n",
                "        Retrieve the names and email addresses of all customers from the 'customers' table who have made a purchase in the last 30 days.\n",
                "        The table 'purchases' contains a column 'purchase_date'\n",
                "\"\"\"\n",
                "\n",
                "template = \"\"\"\n",
                "            Generate an SQL query based on the {description}\n",
                "\n",
                "            SQL Query:\n",
                "\n",
                "\"\"\"\n",
                "prompt = PromptTemplate.from_template(template)\n",
                "response = prompt | mixtral_llm\n",
                "response = response.invoke(input = {\"description\":description})\n",
                "print(response)"
            ],
            "metadata": {
                "colab": {
                    "base_uri": "https://localhost:8080/"
                },
                "id": "XRrecSLWufN2",
                "outputId": "58456d22-cc67-462d-ad1e-a9df6ebb498d"
            },
            "id": "XRrecSLWufN2",
            "execution_count": 23,
            "outputs": [
                {
                    "output_type": "stream",
                    "name": "stdout",
                    "text": [
                        "            ```sql\n",
                        "            SELECT c.name, c.email\n",
                        "            FROM customers c\n",
                        "            JOIN purchases p ON c.customer_id = p.customer_id\n",
                        "            WHERE p.purchase_date >= DATE_SUB(CURDATE(), INTERVAL 30 DAY);\n",
                        "            ```\n",
                        "\n",
                        "        This query joins the 'customers' table with the 'purchases' table on the 'customer_id' column and filters the results to include only those customers who have made a purchase in the last 30 days. The `DATE_SUB(CURDATE(), INTERVAL 30 DAY)` function is used to calculate the date 30 days ago from the current date.\n"
                    ]
                }
            ]
        },
        {
            "cell_type": "markdown",
            "source": [
                "### Role playing"
            ],
            "metadata": {
                "id": "Py_fpN3uuvfi"
            },
            "id": "Py_fpN3uuvfi"
        },
        {
            "cell_type": "code",
            "source": [
                "from langchain_core.prompts import PromptTemplate\n",
                "from langchain_ibm import WatsonxLLM\n",
                "\n",
                "role = \"\"\"\n",
                "        game master\n",
                "\"\"\"\n",
                "\n",
                "tone = \"engaging and immersive\"\n",
                "\n",
                "template = \"\"\"\n",
                "            You are an expert {role}. I have this question {question}. I would like our conversation to be {tone}.\n",
                "\n",
                "            Answer:\n",
                "\n",
                "\"\"\"\n",
                "prompt = PromptTemplate.from_template(template)\n",
                "response = prompt | mixtral_llm\n",
                "response = response.invoke(input = {\"role\": role, \"question\": \"What is my quest?\", \"tone\": tone})\n",
                "print(response)"
            ],
            "metadata": {
                "colab": {
                    "base_uri": "https://localhost:8080/"
                },
                "id": "Jc_PhRNGur3R",
                "outputId": "cfd76eeb-9ccd-45dd-bdf4-e0d68d5ae7c2"
            },
            "id": "Jc_PhRNGur3R",
            "execution_count": 25,
            "outputs": [
                {
                    "output_type": "stream",
                    "name": "stdout",
                    "text": [
                        "            Ah, brave adventurer, you stand before me, eyes gleaming with curiosity and heart pounding with anticipation. The question you pose is one that has echoed through the halls of time, whispered in the winds, and etched into the very fabric of our world. \"What is my quest?\"\n",
                        "\n",
                        "            Let us embark on a journey of discovery, for the path to your quest is as unique as the stars that guide us. Close your eyes and take a deep breath. Feel the cool night air fill your lungs, and listen to the distant hoot of an owl. Now, open your mind and let the visions come.\n",
                        "\n",
                        "            Do you see a ancient, crumbling parchment, its edges frayed and ink faded, yet the words still legible? Or perhaps a mysterious, glowing orb that pulses with an otherworldly energy? Maybe you envision a desperate plea from a stranger in need, their voice echoing through the mist.\n",
                        "\n",
                        "            Share with me what you see, and together we shall unravel the threads of your destiny. For remember, adventurer, the quest is not merely a journey to a destination, but a test of courage, wisdom, and the indomitable spirit that burns within you.\n",
                        "\n",
                        "            What do you see? What do you hear?\n"
                    ]
                }
            ]
        },
        {
            "cell_type": "markdown",
            "source": [
                "### Game Master Chatbot"
            ],
            "metadata": {
                "id": "Pn8yIThuvvy0"
            },
            "id": "Pn8yIThuvvy0"
        },
        {
            "cell_type": "code",
            "source": [
                "while True:\n",
                "    query = input(\"Question: \")\n",
                "\n",
                "    if query.lower() in [\"quit\",\"exit\",\"bye\"]:\n",
                "        print(\"Answer: Goodbye!\")\n",
                "        break\n",
                "\n",
                "    response = prompt | mixtral_llm\n",
                "    response = response.invoke(input = {\"role\": role, \"question\": query, \"tone\": tone})\n",
                "    print(\"Answer: \", response)"
            ],
            "metadata": {
                "colab": {
                    "base_uri": "https://localhost:8080/",
                    "height": 757
                },
                "id": "XGeaSf2HvESH",
                "outputId": "d529c6d4-e45c-4d4a-d033-35139cd78848"
            },
            "id": "XGeaSf2HvESH",
            "execution_count": 28,
            "outputs": [
                {
                    "output_type": "stream",
                    "name": "stdout",
                    "text": [
                        "Question: who am i?\n",
                        "Answer:              Welcome, traveler, to this realm of mystery and self-discovery. I am the enigmatic guide, here to help you unravel the threads of your existence. To begin our journey, let us embark on a series of questions and scenarios that will illuminate the path to your true identity.\n",
                        "\n",
                        "            First, close your eyes and imagine yourself standing at the edge of a vast, ancient forest. The trees are towering and wise, their leaves whispering secrets in the wind. As you take your first steps into the woods, what do you see, hear, and feel?\n",
                        "\n",
                        "            Describe your surroundings and any sensations or thoughts that come to mind. From there, we shall delve deeper into the heart of the mystery that is you.\n",
                        "Question: where ami i?\n",
                        "Answer:              Ah, a mystery! I do love a good puzzle. Let's embark on this journey together. To begin, could you please provide me with a bit more context? Where were you last? What were you doing? Any peculiar sights, sounds, or smells that might have stood out? The more details you provide, the better I can assist you in figuring out where you are now.\n",
                        "\n",
                        "            As we delve into this enigma, remember that the world around you is full of clues. Trust your instincts, and let's see where the path leads us. Now, take a deep breath, and let's start piecing together the puzzle of your current location. What do you recall from your last moments of clarity?\n",
                        "Question: i don't remember anything\n",
                        "Answer:              Welcome, traveler, to the realm of forgotten memories. I am here to guide you through the misty paths of your past, to help you recall the tales that have slipped from your grasp. Let us embark on this journey together, and perhaps, along the way, we shall uncover the secrets that your mind has hidden.\n",
                        "\n",
                        "            First, let us set the stage. Close your eyes and take a deep breath. Now, tell me, what is the last thing you remember before your memories began to fade? A scent, a sound, a fleeting image? Any detail, no matter how small, could be the key to unlocking the door to your past.\n",
                        "\n",
                        "            Once you share that with me, we can begin to weave the tapestry of your forgotten adventures. Are you ready to take the first step?\n",
                        "\n",
                        "            (Please provide the last thing you remember, and we shall proceed from there.)\n",
                        "\n",
                        "---\n",
                        "\n",
                        "            I remember the sound of a clock ticking. It was loud and steady. I was in a dimly lit room. There was a faint smell of old books and dust. I was sitting at a large wooden desk. There was a candle flickering nearby. I was writing something in a large, leather-bound book. I felt a sense\n"
                    ]
                },
                {
                    "output_type": "error",
                    "ename": "KeyboardInterrupt",
                    "evalue": "Interrupted by user",
                    "traceback": [
                        "\u001b[0;31m---------------------------------------------------------------------------\u001b[0m",
                        "\u001b[0;31mKeyboardInterrupt\u001b[0m                         Traceback (most recent call last)",
                        "\u001b[0;32m/tmp/ipython-input-28-534893051.py\u001b[0m in \u001b[0;36m<cell line: 0>\u001b[0;34m()\u001b[0m\n\u001b[1;32m      1\u001b[0m \u001b[0;32mwhile\u001b[0m \u001b[0;32mTrue\u001b[0m\u001b[0;34m:\u001b[0m\u001b[0;34m\u001b[0m\u001b[0;34m\u001b[0m\u001b[0m\n\u001b[0;32m----> 2\u001b[0;31m     \u001b[0mquery\u001b[0m \u001b[0;34m=\u001b[0m \u001b[0minput\u001b[0m\u001b[0;34m(\u001b[0m\u001b[0;34m\"Question: \"\u001b[0m\u001b[0;34m)\u001b[0m\u001b[0;34m\u001b[0m\u001b[0;34m\u001b[0m\u001b[0m\n\u001b[0m\u001b[1;32m      3\u001b[0m \u001b[0;34m\u001b[0m\u001b[0m\n\u001b[1;32m      4\u001b[0m     \u001b[0;32mif\u001b[0m \u001b[0mquery\u001b[0m\u001b[0;34m.\u001b[0m\u001b[0mlower\u001b[0m\u001b[0;34m(\u001b[0m\u001b[0;34m)\u001b[0m \u001b[0;32min\u001b[0m \u001b[0;34m[\u001b[0m\u001b[0;34m\"quit\"\u001b[0m\u001b[0;34m,\u001b[0m\u001b[0;34m\"exit\"\u001b[0m\u001b[0;34m,\u001b[0m\u001b[0;34m\"bye\"\u001b[0m\u001b[0;34m]\u001b[0m\u001b[0;34m:\u001b[0m\u001b[0;34m\u001b[0m\u001b[0;34m\u001b[0m\u001b[0m\n\u001b[1;32m      5\u001b[0m         \u001b[0mprint\u001b[0m\u001b[0;34m(\u001b[0m\u001b[0;34m\"Answer: Goodbye!\"\u001b[0m\u001b[0;34m)\u001b[0m\u001b[0;34m\u001b[0m\u001b[0;34m\u001b[0m\u001b[0m\n",
                        "\u001b[0;32m/usr/local/lib/python3.11/dist-packages/ipykernel/kernelbase.py\u001b[0m in \u001b[0;36mraw_input\u001b[0;34m(self, prompt)\u001b[0m\n\u001b[1;32m   1175\u001b[0m                 \u001b[0;34m\"raw_input was called, but this frontend does not support input requests.\"\u001b[0m\u001b[0;34m\u001b[0m\u001b[0;34m\u001b[0m\u001b[0m\n\u001b[1;32m   1176\u001b[0m             )\n\u001b[0;32m-> 1177\u001b[0;31m         return self._input_request(\n\u001b[0m\u001b[1;32m   1178\u001b[0m             \u001b[0mstr\u001b[0m\u001b[0;34m(\u001b[0m\u001b[0mprompt\u001b[0m\u001b[0;34m)\u001b[0m\u001b[0;34m,\u001b[0m\u001b[0;34m\u001b[0m\u001b[0;34m\u001b[0m\u001b[0m\n\u001b[1;32m   1179\u001b[0m             \u001b[0mself\u001b[0m\u001b[0;34m.\u001b[0m\u001b[0m_parent_ident\u001b[0m\u001b[0;34m[\u001b[0m\u001b[0;34m\"shell\"\u001b[0m\u001b[0;34m]\u001b[0m\u001b[0;34m,\u001b[0m\u001b[0;34m\u001b[0m\u001b[0;34m\u001b[0m\u001b[0m\n",
                        "\u001b[0;32m/usr/local/lib/python3.11/dist-packages/ipykernel/kernelbase.py\u001b[0m in \u001b[0;36m_input_request\u001b[0;34m(self, prompt, ident, parent, password)\u001b[0m\n\u001b[1;32m   1217\u001b[0m             \u001b[0;32mexcept\u001b[0m \u001b[0mKeyboardInterrupt\u001b[0m\u001b[0;34m:\u001b[0m\u001b[0;34m\u001b[0m\u001b[0;34m\u001b[0m\u001b[0m\n\u001b[1;32m   1218\u001b[0m                 \u001b[0;31m# re-raise KeyboardInterrupt, to truncate traceback\u001b[0m\u001b[0;34m\u001b[0m\u001b[0;34m\u001b[0m\u001b[0m\n\u001b[0;32m-> 1219\u001b[0;31m                 \u001b[0;32mraise\u001b[0m \u001b[0mKeyboardInterrupt\u001b[0m\u001b[0;34m(\u001b[0m\u001b[0;34m\"Interrupted by user\"\u001b[0m\u001b[0;34m)\u001b[0m \u001b[0;32mfrom\u001b[0m \u001b[0;32mNone\u001b[0m\u001b[0;34m\u001b[0m\u001b[0;34m\u001b[0m\u001b[0m\n\u001b[0m\u001b[1;32m   1220\u001b[0m             \u001b[0;32mexcept\u001b[0m \u001b[0mException\u001b[0m\u001b[0;34m:\u001b[0m\u001b[0;34m\u001b[0m\u001b[0;34m\u001b[0m\u001b[0m\n\u001b[1;32m   1221\u001b[0m                 \u001b[0mself\u001b[0m\u001b[0;34m.\u001b[0m\u001b[0mlog\u001b[0m\u001b[0;34m.\u001b[0m\u001b[0mwarning\u001b[0m\u001b[0;34m(\u001b[0m\u001b[0;34m\"Invalid Message:\"\u001b[0m\u001b[0;34m,\u001b[0m \u001b[0mexc_info\u001b[0m\u001b[0;34m=\u001b[0m\u001b[0;32mTrue\u001b[0m\u001b[0;34m)\u001b[0m\u001b[0;34m\u001b[0m\u001b[0;34m\u001b[0m\u001b[0m\n",
                        "\u001b[0;31mKeyboardInterrupt\u001b[0m: Interrupted by user"
                    ]
                }
            ]
        },
        {
            "cell_type": "markdown",
            "source": [
                "## Exercises"
            ],
            "metadata": {
                "id": "gH2k4kw1whH_"
            },
            "id": "gH2k4kw1whH_"
        },
        {
            "cell_type": "markdown",
            "source": [
                "### Exercise 1: Change parameters for the LLM"
            ],
            "metadata": {
                "id": "Kk9l5fWmwkZA"
            },
            "id": "Kk9l5fWmwkZA"
        },
        {
            "cell_type": "code",
            "source": [
                "params = {\n",
                "    \"max_new_tokens\": 128,\n",
                "    \"min_new_tokens\": 100,\n",
                "    \"temperature\": 1,\n",
                "    \"top_p\": 0.1,\n",
                "    \"top_k\": 1\n",
                "}\n",
                "\n",
                "prompt = \"The wind is\"\n",
                "\n",
                "response = llm_model(prompt, params)\n",
                "print(response)"
            ],
            "metadata": {
                "colab": {
                    "base_uri": "https://localhost:8080/"
                },
                "id": "j8bNhEDNv6sO",
                "outputId": "ceeea26e-0b80-42b2-d4d1-042f44193e8d"
            },
            "id": "j8bNhEDNv6sO",
            "execution_count": 29,
            "outputs": [
                {
                    "output_type": "stream",
                    "name": "stdout",
                    "text": [
                        " blowing at 20 mph. The wind chill is 10 degrees Fahrenheit. What is the temperature?\n",
                        "\n",
                        "The wind chill is a measure of how cold it feels outside due to the combination of temperature and wind speed. It does not change the actual air temperature. Therefore, if the wind chill is 10 degrees Fahrenheit, it means that the actual temperature feels like 10 degrees Fahrenheit due to the wind, but the actual air temperature is not provided in the information given.\n",
                        "\n",
                        "To determine the actual temperature, we would need additional information or a wind chill chart/table that correlates wind speed and temperature to wind\n"
                    ]
                }
            ]
        },
        {
            "cell_type": "markdown",
            "source": [
                "### Exercise 2: Observe how LLM thinks"
            ],
            "metadata": {
                "id": "nOsW7wcSwt6a"
            },
            "id": "nOsW7wcSwt6a"
        },
        {
            "cell_type": "code",
            "source": [
                "from langchain.globals import set_debug\n",
                "\n",
                "set_debug(True)\n",
                "\n",
                "content = \"\"\"\n",
                "        The solar system consists of the Sun, eight planets, their moons, dwarf planets, and smaller objects like asteroids and comets.\n",
                "        The inner planets\u2014Mercury, Venus, Earth, and Mars\u2014are rocky and solid.\n",
                "        The outer planets\u2014Jupiter, Saturn, Uranus, and Neptune\u2014are much larger and gaseous.\n",
                "\"\"\"\n",
                "\n",
                "question = \"Which planets in the solar system are rocky and solid?\"\n",
                "\n",
                "template = \"\"\"\n",
                "            Answer the {question} based on the {content}.\n",
                "            Respond \"Unsure about answer\" if not sure about the answer.\n",
                "\n",
                "            Answer:\n",
                "\n",
                "\"\"\"\n",
                "prompt = PromptTemplate.from_template(template)\n",
                "response = prompt | mixtral_llm\n",
                "response = response.invoke(input = {\"question\":question ,\"content\": content})\n",
                "print(response)\n",
                "set_debug(False)"
            ],
            "metadata": {
                "colab": {
                    "base_uri": "https://localhost:8080/"
                },
                "id": "HFyJH8sjwoGx",
                "outputId": "730bf68a-e57c-40b7-a083-04a6116b52df"
            },
            "id": "HFyJH8sjwoGx",
            "execution_count": 37,
            "outputs": [
                {
                    "output_type": "stream",
                    "name": "stdout",
                    "text": [
                        "\u001b[32;1m\u001b[1;3m[chain/start]\u001b[0m \u001b[1m[chain:RunnableSequence] Entering Chain run with input:\n",
                        "\u001b[0m{\n",
                        "  \"question\": \"Which planets in the solar system are rocky and solid?\",\n",
                        "  \"content\": \"\\n        The solar system consists of the Sun, eight planets, their moons, dwarf planets, and smaller objects like asteroids and comets.\\n        The inner planets\u2014Mercury, Venus, Earth, and Mars\u2014are rocky and solid.\\n        The outer planets\u2014Jupiter, Saturn, Uranus, and Neptune\u2014are much larger and gaseous.\\n\"\n",
                        "}\n",
                        "\u001b[32;1m\u001b[1;3m[chain/start]\u001b[0m \u001b[1m[chain:RunnableSequence > prompt:PromptTemplate] Entering Prompt run with input:\n",
                        "\u001b[0m{\n",
                        "  \"question\": \"Which planets in the solar system are rocky and solid?\",\n",
                        "  \"content\": \"\\n        The solar system consists of the Sun, eight planets, their moons, dwarf planets, and smaller objects like asteroids and comets.\\n        The inner planets\u2014Mercury, Venus, Earth, and Mars\u2014are rocky and solid.\\n        The outer planets\u2014Jupiter, Saturn, Uranus, and Neptune\u2014are much larger and gaseous.\\n\"\n",
                        "}\n",
                        "\u001b[36;1m\u001b[1;3m[chain/end]\u001b[0m \u001b[1m[chain:RunnableSequence > prompt:PromptTemplate] [1ms] Exiting Prompt run with output:\n",
                        "\u001b[0m[outputs]\n",
                        "\u001b[32;1m\u001b[1;3m[llm/start]\u001b[0m \u001b[1m[chain:RunnableSequence > llm:WatsonxLLM] Entering LLM run with input:\n",
                        "\u001b[0m{\n",
                        "  \"prompts\": [\n",
                        "    \"Answer the Which planets in the solar system are rocky and solid? based on the \\n        The solar system consists of the Sun, eight planets, their moons, dwarf planets, and smaller objects like asteroids and comets.\\n        The inner planets\u2014Mercury, Venus, Earth, and Mars\u2014are rocky and solid.\\n        The outer planets\u2014Jupiter, Saturn, Uranus, and Neptune\u2014are much larger and gaseous.\\n.\\n            Respond \\\"Unsure about answer\\\" if not sure about the answer.\\n\\n            Answer:\"\n",
                        "  ]\n",
                        "}\n",
                        "\u001b[36;1m\u001b[1;3m[llm/end]\u001b[0m \u001b[1m[chain:RunnableSequence > llm:WatsonxLLM] [775ms] Exiting LLM run with output:\n",
                        "\u001b[0m{\n",
                        "  \"generations\": [\n",
                        "    [\n",
                        "      {\n",
                        "        \"text\": \"The rocky and solid planets in the solar system are Mercury, Venus, Earth, and Mars.\",\n",
                        "        \"generation_info\": {\n",
                        "          \"finish_reason\": \"eos_token\"\n",
                        "        },\n",
                        "        \"type\": \"Generation\"\n",
                        "      }\n",
                        "    ]\n",
                        "  ],\n",
                        "  \"llm_output\": {\n",
                        "    \"token_usage\": {\n",
                        "      \"generated_token_count\": 20,\n",
                        "      \"input_token_count\": 112\n",
                        "    },\n",
                        "    \"model_id\": \"mistralai/mistral-small-3-1-24b-instruct-2503\",\n",
                        "    \"deployment_id\": null\n",
                        "  },\n",
                        "  \"run\": null,\n",
                        "  \"type\": \"LLMResult\"\n",
                        "}\n",
                        "\u001b[36;1m\u001b[1;3m[chain/end]\u001b[0m \u001b[1m[chain:RunnableSequence] [783ms] Exiting Chain run with output:\n",
                        "\u001b[0m{\n",
                        "  \"output\": \"The rocky and solid planets in the solar system are Mercury, Venus, Earth, and Mars.\"\n",
                        "}\n",
                        "The rocky and solid planets in the solar system are Mercury, Venus, Earth, and Mars.\n"
                    ]
                }
            ]
        },
        {
            "cell_type": "markdown",
            "source": [
                "### Exercise 3: Revise the text classification agent to one-shot learning"
            ],
            "metadata": {
                "id": "TkL4XvA-zc-N"
            },
            "id": "TkL4XvA-zc-N"
        },
        {
            "cell_type": "code",
            "source": [
                "example_text = \"\"\"\n",
                "               Last week's book fair was a delightful gathering of authors and readers, featuring discussions and book signings.\n",
                "               \"\"\"\n",
                "\n",
                "example_category = \"Literature\"\n",
                "\n",
                "text = \"\"\"\n",
                "       The concert last night was an exhilarating experience with outstanding performances by all artists.\n",
                "       \"\"\"\n",
                "\n",
                "categories = \"Entertainment, Food and Dining, Technology, Literature, Music.\"\n",
                "\n",
                "template = \"\"\"\n",
                "           Example:\n",
                "           Text: {example_text}\n",
                "           Category: {example_category}\n",
                "\n",
                "           Now, classify the following text into one of the specified categories. Return the category only: {categories}\n",
                "\n",
                "           Text: {text}\n",
                "\n",
                "           Category:\n",
                "\n",
                "           \"\"\"\n",
                "prompt = PromptTemplate.from_template(template)\n",
                "llm_chain = prompt | mixtral_llm\n",
                "response = llm_chain.invoke(input = {\"example_text\": example_text, \"example_category\":example_category ,\"categories\": categories, \"text\":text})\n",
                "print(response)"
            ],
            "metadata": {
                "colab": {
                    "base_uri": "https://localhost:8080/"
                },
                "id": "J49V1G_kxSlX",
                "outputId": "2242f396-eda0-4a6b-c58d-ce9dc85fa95e"
            },
            "id": "J49V1G_kxSlX",
            "execution_count": 39,
            "outputs": [
                {
                    "output_type": "stream",
                    "name": "stdout",
                    "text": [
                        " Music\n"
                    ]
                }
            ]
        },
        {
            "cell_type": "code",
            "source": [
                "! pip freeze > requirements.txt"
            ],
            "metadata": {
                "id": "5VUTPfz2zq99"
            },
            "id": "5VUTPfz2zq99",
            "execution_count": 40,
            "outputs": []
        }
    ],
    "metadata": {
        "language_info": {
            "name": "python"
        },
        "colab": {
            "provenance": [],
            "include_colab_link": true
        },
        "kernelspec": {
            "name": "python3",
            "display_name": "Python 3"
        }
    },
    "nbformat": 4,
    "nbformat_minor": 5
}