{
 "cells": [
  {
   "cell_type": "code",
   "execution_count": null,
   "id": "e7184dd7",
   "metadata": {},
   "outputs": [],
   "source": [
    "print(2)"
   ]
  }
 ],
 "metadata": {
  "language_info": {
   "name": "python"
  }
 },
 "nbformat": 4,
 "nbformat_minor": 5
}
