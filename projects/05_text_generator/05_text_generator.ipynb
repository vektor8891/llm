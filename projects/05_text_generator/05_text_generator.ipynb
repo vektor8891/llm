{
  "cells": [
    {
      "cell_type": "markdown",
      "metadata": {
        "id": "view-in-github",
        "colab_type": "text"
      },
      "source": [
        "<a href=\"https://colab.research.google.com/github/vektor8891/llm/blob/main/projects/05_text_generator/05_text_generator.ipynb\" target=\"_parent\"><img src=\"https://colab.research.google.com/assets/colab-badge.svg\" alt=\"Open In Colab\"/></a>"
      ]
    },
    {
      "cell_type": "code",
      "source": [
        "# !pip install torchtext==0.15.1"
      ],
      "metadata": {
        "id": "jHB8SLpDAgDG"
      },
      "execution_count": 35,
      "outputs": []
    },
    {
      "cell_type": "markdown",
      "source": [
        "## Defining helper functions"
      ],
      "metadata": {
        "id": "tfiXW5qV9RWD"
      }
    },
    {
      "cell_type": "code",
      "execution_count": 1,
      "metadata": {
        "id": "UNFd_kJl9NRq"
      },
      "outputs": [],
      "source": [
        "def preprocess_string(s):\n",
        "    import re\n",
        "\n",
        "    # Remove all non-word characters (everything except numbers and letters)\n",
        "    s = re.sub(r\"[^\\w\\s]\", '', s)\n",
        "    # Replace all runs of whitespaces with no space\n",
        "    s = re.sub(r\"\\s+\", '', s)\n",
        "    # replace digits with no space\n",
        "    s = re.sub(r\"\\d\", '', s)\n",
        "\n",
        "    return s"
      ]
    },
    {
      "cell_type": "markdown",
      "source": [
        "## Language modeling"
      ],
      "metadata": {
        "id": "m986CE019bD6"
      }
    },
    {
      "cell_type": "code",
      "source": [
        "song= \"\"\"We are no strangers to love\n",
        "You know the rules and so do I\n",
        "A full commitments what Im thinking of\n",
        "You wouldnt get this from any other guy\n",
        "I just wanna tell you how Im feeling\n",
        "Gotta make you understand\n",
        "Never gonna give you up\n",
        "Never gonna let you down\n",
        "Never gonna run around and desert you\n",
        "Never gonna make you cry\n",
        "Never gonna say goodbye\n",
        "Never gonna tell a lie and hurt you\n",
        "Weve known each other for so long\n",
        "Your hearts been aching but youre too shy to say it\n",
        "Inside we both know whats been going on\n",
        "We know the game and were gonna play it\n",
        "And if you ask me how Im feeling\n",
        "Dont tell me youre too blind to see\n",
        "Never gonna give you up\n",
        "Never gonna let you down\n",
        "Never gonna run around and desert you\n",
        "Never gonna make you cry\n",
        "Never gonna say goodbye\n",
        "Never gonna tell a lie and hurt you\n",
        "Never gonna give you up\n",
        "Never gonna let you down\n",
        "Never gonna run around and desert you\n",
        "Never gonna make you cry\n",
        "Never gonna say goodbye\n",
        "Never gonna tell a lie and hurt you\n",
        "Weve known each other for so long\n",
        "Your hearts been aching but youre too shy to say it\n",
        "Inside we both know whats been going on\n",
        "We know the game and were gonna play it\n",
        "I just wanna tell you how Im feeling\n",
        "Gotta make you understand\n",
        "Never gonna give you up\n",
        "Never gonna let you down\n",
        "Never gonna run around and desert you\n",
        "Never gonna make you cry\n",
        "Never gonna say goodbye\n",
        "Never gonna tell a lie and hurt you\n",
        "Never gonna give you up\n",
        "Never gonna let you down\n",
        "Never gonna run around and desert you\n",
        "Never gonna make you cry\n",
        "Never gonna say goodbye\n",
        "Never gonna tell a lie and hurt you\n",
        "Never gonna give you up\n",
        "Never gonna let you down\n",
        "Never gonna run around and desert you\n",
        "Never gonna make you cry\n",
        "Never gonna say goodbye\n",
        "Never gonna tell a lie and hurt you\"\"\""
      ],
      "metadata": {
        "id": "YEho9PiF9WLd"
      },
      "execution_count": 2,
      "outputs": []
    },
    {
      "cell_type": "code",
      "source": [
        "import nltk\n",
        "nltk.download('punkt_tab')\n",
        "from nltk.tokenize import word_tokenize\n",
        "\n",
        "def preprocess(words):\n",
        "    import string\n",
        "    tokens=word_tokenize(words)\n",
        "    tokens=[preprocess_string(w)   for w in tokens]\n",
        "    return [w.lower()  for w in tokens if len(w)!=0 or not(w in string.punctuation) ]\n",
        "\n",
        "tokens=preprocess(song)"
      ],
      "metadata": {
        "colab": {
          "base_uri": "https://localhost:8080/"
        },
        "id": "UNySYiC69e-x",
        "outputId": "83be8c1e-25a9-444b-9462-a2c17d15fb7a"
      },
      "execution_count": 102,
      "outputs": [
        {
          "output_type": "stream",
          "name": "stderr",
          "text": [
            "[nltk_data] Downloading package punkt_tab to /root/nltk_data...\n",
            "[nltk_data]   Package punkt_tab is already up-to-date!\n"
          ]
        }
      ]
    },
    {
      "cell_type": "code",
      "source": [
        "tokens[0:10]"
      ],
      "metadata": {
        "colab": {
          "base_uri": "https://localhost:8080/"
        },
        "id": "LfdLc1U39kFX",
        "outputId": "adfe83b4-56dc-4349-fa6d-161146bb2c88"
      },
      "execution_count": 7,
      "outputs": [
        {
          "output_type": "execute_result",
          "data": {
            "text/plain": [
              "['we', 'are', 'no', 'strangers', 'to', 'love', 'you', 'know', 'the', 'rules']"
            ]
          },
          "metadata": {},
          "execution_count": 7
        }
      ]
    },
    {
      "cell_type": "code",
      "source": [
        "# Create a frequency distribution of words\n",
        "fdist = nltk.FreqDist(tokens)\n",
        "fdist"
      ],
      "metadata": {
        "colab": {
          "base_uri": "https://localhost:8080/"
        },
        "id": "_v3pkHib91tf",
        "outputId": "b2f526fa-09c5-4f36-db17-6a919a051400"
      },
      "execution_count": 8,
      "outputs": [
        {
          "output_type": "execute_result",
          "data": {
            "text/plain": [
              "FreqDist({'na': 40, 'gon': 38, 'you': 37, 'never': 36, 'and': 16, 'tell': 9, 'make': 8, 'say': 8, 'a': 7, 'give': 6, ...})"
            ]
          },
          "metadata": {},
          "execution_count": 8
        }
      ]
    },
    {
      "cell_type": "code",
      "source": [
        "import matplotlib.pyplot as plt\n",
        "\n",
        "plt.bar(list(fdist.keys())[0:10],list(fdist.values())[0:10])\n",
        "plt.xlabel(\"Words\")\n",
        "plt.ylabel(\"Frequency\")\n",
        "plt.show()"
      ],
      "metadata": {
        "colab": {
          "base_uri": "https://localhost:8080/",
          "height": 449
        },
        "id": "VcBbIJZy9_lB",
        "outputId": "2d3d1b25-7547-4294-c4b9-cfd8418e382b"
      },
      "execution_count": 9,
      "outputs": [
        {
          "output_type": "display_data",
          "data": {
            "text/plain": [
              "<Figure size 640x480 with 1 Axes>"
            ],
            "image/png": "[encoded data removed]"
          },
          "metadata": {}
        }
      ]
    },
    {
      "cell_type": "markdown",
      "source": [
        "## Unigram model"
      ],
      "metadata": {
        "id": "PVJBcpHE-L3_"
      }
    },
    {
      "cell_type": "code",
      "source": [
        "#total count of each word\n",
        "C=sum(fdist.values())\n",
        "C"
      ],
      "metadata": {
        "colab": {
          "base_uri": "https://localhost:8080/"
        },
        "id": "Gojl5jp4-G-a",
        "outputId": "54209c6b-9782-4c62-822e-ea648f4a1fa9"
      },
      "execution_count": 10,
      "outputs": [
        {
          "output_type": "execute_result",
          "data": {
            "text/plain": [
              "385"
            ]
          },
          "metadata": {},
          "execution_count": 10
        }
      ]
    },
    {
      "cell_type": "code",
      "source": [
        "fdist['strangers']/C"
      ],
      "metadata": {
        "colab": {
          "base_uri": "https://localhost:8080/"
        },
        "id": "-7DpwjwT-OiY",
        "outputId": "04c3a05d-15ce-4de7-e822-854b62799717"
      },
      "execution_count": 11,
      "outputs": [
        {
          "output_type": "execute_result",
          "data": {
            "text/plain": [
              "0.0025974025974025974"
            ]
          },
          "metadata": {},
          "execution_count": 11
        }
      ]
    },
    {
      "cell_type": "code",
      "source": [
        "vocabulary=set(tokens)"
      ],
      "metadata": {
        "id": "9cYGCTG1-QOR"
      },
      "execution_count": 12,
      "outputs": []
    },
    {
      "cell_type": "markdown",
      "source": [
        "##  Bigram model"
      ],
      "metadata": {
        "id": "JlQa_ILQ-XvA"
      }
    },
    {
      "cell_type": "code",
      "source": [
        "bigrams = nltk.bigrams(tokens)\n",
        "bigrams"
      ],
      "metadata": {
        "colab": {
          "base_uri": "https://localhost:8080/"
        },
        "id": "QfMcC1Ke-Rqr",
        "outputId": "404ffa94-c6d4-4a5e-844a-4d0f4c677c8f"
      },
      "execution_count": 14,
      "outputs": [
        {
          "output_type": "execute_result",
          "data": {
            "text/plain": [
              "<generator object bigrams at 0x7d75ae6083c0>"
            ]
          },
          "metadata": {},
          "execution_count": 14
        }
      ]
    },
    {
      "cell_type": "code",
      "source": [
        "my_bigrams=list(nltk.bigrams(tokens))"
      ],
      "metadata": {
        "id": "2xjFaRds-SZ4"
      },
      "execution_count": 15,
      "outputs": []
    },
    {
      "cell_type": "code",
      "source": [
        "my_bigrams[0:10]"
      ],
      "metadata": {
        "colab": {
          "base_uri": "https://localhost:8080/"
        },
        "id": "J4O3EBLP-dJg",
        "outputId": "ce4a6e01-1f98-4f74-8d49-8bd3cdda0204"
      },
      "execution_count": 16,
      "outputs": [
        {
          "output_type": "execute_result",
          "data": {
            "text/plain": [
              "[('we', 'are'),\n",
              " ('are', 'no'),\n",
              " ('no', 'strangers'),\n",
              " ('strangers', 'to'),\n",
              " ('to', 'love'),\n",
              " ('love', 'you'),\n",
              " ('you', 'know'),\n",
              " ('know', 'the'),\n",
              " ('the', 'rules'),\n",
              " ('rules', 'and')]"
            ]
          },
          "metadata": {},
          "execution_count": 16
        }
      ]
    },
    {
      "cell_type": "code",
      "source": [
        "freq_bigrams  = nltk.FreqDist(nltk.bigrams(tokens))\n",
        "freq_bigrams"
      ],
      "metadata": {
        "colab": {
          "base_uri": "https://localhost:8080/"
        },
        "id": "aTNqLiwV-eWp",
        "outputId": "8d9f3693-b828-44d9-da47-17cb6712f220"
      },
      "execution_count": 17,
      "outputs": [
        {
          "output_type": "execute_result",
          "data": {
            "text/plain": [
              "FreqDist({('gon', 'na'): 38, ('never', 'gon'): 36, ('you', 'never'): 9, ('na', 'tell'): 8, ('make', 'you'): 8, ('na', 'give'): 6, ('give', 'you'): 6, ('you', 'up'): 6, ('up', 'never'): 6, ('na', 'let'): 6, ...})"
            ]
          },
          "metadata": {},
          "execution_count": 17
        }
      ]
    },
    {
      "cell_type": "code",
      "source": [
        "freq_bigrams[('we', 'are')]"
      ],
      "metadata": {
        "colab": {
          "base_uri": "https://localhost:8080/"
        },
        "id": "TGwhEl_j-hkx",
        "outputId": "46c3ab33-43cb-47ce-cd3c-a41b312981c8"
      },
      "execution_count": 18,
      "outputs": [
        {
          "output_type": "execute_result",
          "data": {
            "text/plain": [
              "1"
            ]
          },
          "metadata": {},
          "execution_count": 18
        }
      ]
    },
    {
      "cell_type": "code",
      "source": [
        "for my_bigram in  my_bigrams[0:10]:\n",
        "    print(my_bigram)\n",
        "    print(freq_bigrams[my_bigram])"
      ],
      "metadata": {
        "colab": {
          "base_uri": "https://localhost:8080/"
        },
        "id": "U0farPa7-jSF",
        "outputId": "ea16154b-7d5d-4377-e2e4-ccae0a83745e"
      },
      "execution_count": 19,
      "outputs": [
        {
          "output_type": "stream",
          "name": "stdout",
          "text": [
            "('we', 'are')\n",
            "1\n",
            "('are', 'no')\n",
            "1\n",
            "('no', 'strangers')\n",
            "1\n",
            "('strangers', 'to')\n",
            "1\n",
            "('to', 'love')\n",
            "1\n",
            "('love', 'you')\n",
            "1\n",
            "('you', 'know')\n",
            "1\n",
            "('know', 'the')\n",
            "3\n",
            "('the', 'rules')\n",
            "1\n",
            "('rules', 'and')\n",
            "1\n"
          ]
        }
      ]
    },
    {
      "cell_type": "code",
      "source": [
        "word=\"strangers\"\n",
        "vocab_probabilities={}\n",
        "for next_word in vocabulary:\n",
        "    vocab_probabilities[next_word]=freq_bigrams[(word,next_word)]/fdist[word]\n",
        "\n",
        "vocab_probabilities=sorted(vocab_probabilities.items(), key=lambda x:x[1],reverse=True)\n",
        "vocab_probabilities[0:4]"
      ],
      "metadata": {
        "colab": {
          "base_uri": "https://localhost:8080/"
        },
        "id": "ZthB6mWs-lNU",
        "outputId": "0e6cfc8b-0c75-46e7-a6c2-338d5c536088"
      },
      "execution_count": 20,
      "outputs": [
        {
          "output_type": "execute_result",
          "data": {
            "text/plain": [
              "[('to', 1.0), ('wouldnt', 0.0), ('a', 0.0), ('got', 0.0)]"
            ]
          },
          "metadata": {},
          "execution_count": 20
        }
      ]
    },
    {
      "cell_type": "code",
      "source": [
        "def make_predictions(my_words, freq_grams, normlize=1, vocabulary=vocabulary):\n",
        "    \"\"\"\n",
        "    Generate predictions for the conditional probability of the next word given a sequence.\n",
        "\n",
        "    Args:\n",
        "        my_words (list): A list of words in the input sequence.\n",
        "        freq_grams (dict): A dictionary containing frequency of n-grams.\n",
        "        normlize (int): A normalization factor for calculating probabilities.\n",
        "        vocabulary (list): A list of words in the vocabulary.\n",
        "\n",
        "    Returns:\n",
        "        list: A list of predicted words along with their probabilities, sorted in descending order.\n",
        "    \"\"\"\n",
        "\n",
        "    vocab_probabilities = {}  # Initialize a dictionary to store predicted word probabilities\n",
        "\n",
        "    context_size = len(list(freq_grams.keys())[0])  # Determine the context size from n-grams keys\n",
        "\n",
        "    # Preprocess input words and take only the relevant context words\n",
        "    my_tokens = preprocess(my_words)[0:context_size - 1]\n",
        "\n",
        "    # Calculate probabilities for each word in the vocabulary given the context\n",
        "    for next_word in vocabulary:\n",
        "        temp = my_tokens.copy()\n",
        "        temp.append(next_word)  # Add the next word to the context\n",
        "\n",
        "        # Calculate the conditional probability using the frequency information\n",
        "        if normlize!=0:\n",
        "            vocab_probabilities[next_word] = freq_grams[tuple(temp)] / normlize\n",
        "        else:\n",
        "            vocab_probabilities[next_word] = freq_grams[tuple(temp)]\n",
        "    # Sort the predicted words based on their probabilities in descending order\n",
        "    vocab_probabilities = sorted(vocab_probabilities.items(), key=lambda x: x[1], reverse=True)\n",
        "\n",
        "    return vocab_probabilities  # Return the sorted list of predicted words and their probabilities"
      ],
      "metadata": {
        "id": "GYxJw2fV-qRO"
      },
      "execution_count": 21,
      "outputs": []
    },
    {
      "cell_type": "code",
      "source": [
        "my_words=\"are\"\n",
        "\n",
        "vocab_probabilities=make_predictions(my_words,freq_bigrams,normlize=fdist['i'])\n",
        "vocab_probabilities[0:10]"
      ],
      "metadata": {
        "colab": {
          "base_uri": "https://localhost:8080/"
        },
        "id": "iHzmcQBg-uR4",
        "outputId": "954010ba-4170-4813-b88e-5e991e80c701"
      },
      "execution_count": 23,
      "outputs": [
        {
          "output_type": "execute_result",
          "data": {
            "text/plain": [
              "[('no', 0.3333333333333333),\n",
              " ('wouldnt', 0.0),\n",
              " ('a', 0.0),\n",
              " ('got', 0.0),\n",
              " ('each', 0.0),\n",
              " ('ask', 0.0),\n",
              " ('understand', 0.0),\n",
              " ('ta', 0.0),\n",
              " ('but', 0.0),\n",
              " ('cry', 0.0)]"
            ]
          },
          "metadata": {},
          "execution_count": 23
        }
      ]
    },
    {
      "cell_type": "code",
      "source": [
        "vocab_probabilities[0][0]"
      ],
      "metadata": {
        "colab": {
          "base_uri": "https://localhost:8080/",
          "height": 35
        },
        "id": "bjmh_VKH-wVj",
        "outputId": "0c04a28a-ac32-4029-b7ec-2f2f3afa6116"
      },
      "execution_count": 24,
      "outputs": [
        {
          "output_type": "execute_result",
          "data": {
            "text/plain": [
              "'no'"
            ],
            "application/vnd.google.colaboratory.intrinsic+json": {
              "type": "string"
            }
          },
          "metadata": {},
          "execution_count": 24
        }
      ]
    },
    {
      "cell_type": "code",
      "source": [
        "my_song=\"\"\n",
        "for w in tokens[0:100]:\n",
        "  my_word=make_predictions(w,freq_bigrams)[0][0]\n",
        "  my_song+=\" \"+my_word\n",
        "my_song"
      ],
      "metadata": {
        "colab": {
          "base_uri": "https://localhost:8080/",
          "height": 53
        },
        "id": "pFJwboX4-5Vd",
        "outputId": "636277e6-8a48-4ef7-d259-cf4ca1757eae"
      },
      "execution_count": 26,
      "outputs": [
        {
          "output_type": "execute_result",
          "data": {
            "text/plain": [
              "' both no strangers to say you never the game and hurt long i just lie commitments what im feeling of you never get this from any other for i just wan na tell a never im feeling got ta make you never never gon na tell you never never gon na tell you never never gon na tell around and hurt you never gon na tell you never never gon na tell goodbye never gon na tell a lie and hurt you never known each other for so long your hearts been aching but youre too shy to say goodbye'"
            ],
            "application/vnd.google.colaboratory.intrinsic+json": {
              "type": "string"
            }
          },
          "metadata": {},
          "execution_count": 26
        }
      ]
    },
    {
      "cell_type": "code",
      "source": [
        "my_song=\"i\"\n",
        "\n",
        "for i in range(100):\n",
        "    my_word=make_predictions(my_word,freq_bigrams)[0][0]\n",
        "    my_song+=\" \"+my_word\n",
        "\n",
        "my_song"
      ],
      "metadata": {
        "colab": {
          "base_uri": "https://localhost:8080/",
          "height": 53
        },
        "id": "BergEdvT_C4J",
        "outputId": "18e4dd93-f4e8-452b-b5fa-8953e46abfb3"
      },
      "execution_count": 29,
      "outputs": [
        {
          "output_type": "execute_result",
          "data": {
            "text/plain": [
              "'i never gon na tell a lie and hurt you never gon na tell a lie and hurt you never gon na tell a lie and hurt you never gon na tell a lie and hurt you never gon na tell a lie and hurt you never gon na tell a lie and hurt you never gon na tell a lie and hurt you never gon na tell a lie and hurt you never gon na tell a lie and hurt you never gon na tell a lie and hurt you never gon na tell a lie and hurt you never'"
            ],
            "application/vnd.google.colaboratory.intrinsic+json": {
              "type": "string"
            }
          },
          "metadata": {},
          "execution_count": 29
        }
      ]
    },
    {
      "cell_type": "markdown",
      "source": [
        "## Trigram model"
      ],
      "metadata": {
        "id": "fxkoogIj-3rf"
      }
    },
    {
      "cell_type": "code",
      "source": [
        "freq_trigrams = nltk.FreqDist(nltk.trigrams(tokens))\n",
        "freq_trigrams"
      ],
      "metadata": {
        "colab": {
          "base_uri": "https://localhost:8080/"
        },
        "id": "Zu2UnYGa_N3n",
        "outputId": "cf5e360c-ea32-4a42-dd81-df177310bab7"
      },
      "execution_count": 30,
      "outputs": [
        {
          "output_type": "execute_result",
          "data": {
            "text/plain": [
              "FreqDist({('never', 'gon', 'na'): 36, ('you', 'never', 'gon'): 9, ('gon', 'na', 'give'): 6, ('na', 'give', 'you'): 6, ('give', 'you', 'up'): 6, ('you', 'up', 'never'): 6, ('up', 'never', 'gon'): 6, ('gon', 'na', 'let'): 6, ('na', 'let', 'you'): 6, ('let', 'you', 'down'): 6, ...})"
            ]
          },
          "metadata": {},
          "execution_count": 30
        }
      ]
    },
    {
      "cell_type": "code",
      "source": [
        "make_predictions(\"so do\",freq_trigrams,normlize=freq_bigrams[('do','i')] )[0:10]"
      ],
      "metadata": {
        "colab": {
          "base_uri": "https://localhost:8080/"
        },
        "id": "edXVFV2a_Ri8",
        "outputId": "39451f7d-10da-4877-8fb1-1ad97e5cb442"
      },
      "execution_count": 31,
      "outputs": [
        {
          "output_type": "execute_result",
          "data": {
            "text/plain": [
              "[('i', 1.0),\n",
              " ('wouldnt', 0.0),\n",
              " ('a', 0.0),\n",
              " ('got', 0.0),\n",
              " ('each', 0.0),\n",
              " ('ask', 0.0),\n",
              " ('understand', 0.0),\n",
              " ('ta', 0.0),\n",
              " ('but', 0.0),\n",
              " ('cry', 0.0)]"
            ]
          },
          "metadata": {},
          "execution_count": 31
        }
      ]
    },
    {
      "cell_type": "code",
      "source": [
        "my_song=\"\"\n",
        "\n",
        "w1=tokens[0]\n",
        "for w2 in tokens[0:100]:\n",
        "    gram=w1+' '+w2\n",
        "    my_word=make_predictions(gram,freq_trigrams )[0][0]\n",
        "    my_song+=\" \"+my_word\n",
        "    w1=w2\n",
        "\n",
        "my_song"
      ],
      "metadata": {
        "colab": {
          "base_uri": "https://localhost:8080/",
          "height": 53
        },
        "id": "sDS3Eka9_T4k",
        "outputId": "a7916704-5890-4d02-812d-15291f5aa96e"
      },
      "execution_count": 32,
      "outputs": [
        {
          "output_type": "execute_result",
          "data": {
            "text/plain": [
              "' wouldnt no strangers to love you know the game and so do i a full commitments what im thinking of you wouldnt get this from any other guy i just wan na tell a how im feeling got ta make you cry never gon na give you up never gon na give you down never gon na give around and desert you never gon na give you cry never gon na give goodbye never gon na give a lie and hurt you never known each other for so long your hearts been aching but youre too shy to say it'"
            ],
            "application/vnd.google.colaboratory.intrinsic+json": {
              "type": "string"
            }
          },
          "metadata": {},
          "execution_count": 32
        }
      ]
    },
    {
      "cell_type": "markdown",
      "source": [
        "Challenges of histogram-based methods:\n",
        "\n",
        "1. Exponencially increasing number of bins (e.g. in N-word vocabulary, Unigram model has $N$ bins and Bigram model has $N^2$ bins etc).\n",
        "2. Limitated contextual understanding / not able to capture intricate word relationships (e.g. **don’t like** ~ **dislike**).\n"
      ],
      "metadata": {
        "id": "if25YUa__jdO"
      }
    },
    {
      "cell_type": "code",
      "source": [],
      "metadata": {
        "id": "2FektBC4ACoP"
      },
      "execution_count": null,
      "outputs": []
    },
    {
      "cell_type": "markdown",
      "source": [
        "# Feedforward Neural Networks (FNNs) for language models"
      ],
      "metadata": {
        "id": "rRpBsPMm_fA9"
      }
    },
    {
      "cell_type": "code",
      "source": [
        "from torchtext.data.utils import get_tokenizer\n",
        "\n",
        "tokenizer = get_tokenizer(\"basic_english\")\n",
        "tokens=tokenizer(song)"
      ],
      "metadata": {
        "id": "OkVpBEoI_X9x"
      },
      "execution_count": 36,
      "outputs": []
    },
    {
      "cell_type": "markdown",
      "source": [
        "## Indexing"
      ],
      "metadata": {
        "id": "pXFIuSCNB6ZF"
      }
    },
    {
      "cell_type": "code",
      "source": [
        "from torchtext.vocab import build_vocab_from_iterator\n",
        "\n",
        "# Create a vocabulary from text tokens\n",
        "\n",
        "# tokenize the 'song' text using the provided tokenizer.\n",
        "# The map function applies the tokenizer to each word in the 'song' after splitting it.\n",
        "# The result is a list of tokens representing the words in the 'song'.\n",
        "tokenized_song = map(tokenizer, song.split())\n",
        "\n",
        "# Step 2: Vocabulary Building\n",
        "# The build_vocab_from_iterator function constructs a vocabulary from the tokenized text.\n",
        "# In this case, add a special token \"<unk>\" (unknown token) to handle out-of-vocabulary words.\n",
        "vocab = build_vocab_from_iterator(tokenized_song, specials=[\"<unk>\"])\n",
        "\n",
        "# Step 3: Set Default Index\n",
        "# Set the default index for the vocabulary to the index corresponding to the \"<unk>\" token.\n",
        "# This ensures that any unknown tokens in the future will be mapped to this index.\n",
        "vocab.set_default_index(vocab[\"<unk>\"])"
      ],
      "metadata": {
        "id": "2kLJMtB6Adjq"
      },
      "execution_count": 37,
      "outputs": []
    },
    {
      "cell_type": "code",
      "source": [
        "vocab(tokens[0:10])"
      ],
      "metadata": {
        "colab": {
          "base_uri": "https://localhost:8080/"
        },
        "id": "WmgFtWH_CEmA",
        "outputId": "3fbefc52-1baa-495d-de13-415ae07bc1df"
      },
      "execution_count": 39,
      "outputs": [
        {
          "output_type": "execute_result",
          "data": {
            "text/plain": [
              "['we', 'are', 'no', 'strangers', 'to', 'love', 'you', 'know', 'the', 'rules']"
            ]
          },
          "metadata": {},
          "execution_count": 39
        }
      ]
    },
    {
      "cell_type": "code",
      "source": [
        "text_pipeline = lambda x: vocab(tokenizer(x))\n",
        "text_pipeline(song)[0:10]"
      ],
      "metadata": {
        "colab": {
          "base_uri": "https://localhost:8080/"
        },
        "id": "nI2-uD94CMD1",
        "outputId": "1b666938-e4cb-42a6-e455-057346026b35"
      },
      "execution_count": 40,
      "outputs": [
        {
          "output_type": "execute_result",
          "data": {
            "text/plain": [
              "[21, 58, 70, 74, 25, 69, 2, 20, 31, 72]"
            ]
          },
          "metadata": {},
          "execution_count": 40
        }
      ]
    },
    {
      "cell_type": "code",
      "source": [
        "index_to_token = vocab.get_itos()\n",
        "index_to_token[0]"
      ],
      "metadata": {
        "colab": {
          "base_uri": "https://localhost:8080/",
          "height": 35
        },
        "id": "FqS7r4F4CPx4",
        "outputId": "8886e5d5-47b6-48b7-e1cc-21666a8c6543"
      },
      "execution_count": 43,
      "outputs": [
        {
          "output_type": "execute_result",
          "data": {
            "text/plain": [
              "'<unk>'"
            ],
            "application/vnd.google.colaboratory.intrinsic+json": {
              "type": "string"
            }
          },
          "metadata": {},
          "execution_count": 43
        }
      ]
    },
    {
      "cell_type": "markdown",
      "source": [
        "## Embedding layers"
      ],
      "metadata": {
        "id": "3u6dYJqQCWOb"
      }
    },
    {
      "cell_type": "code",
      "source": [
        "import torch.nn as nn\n",
        "\n",
        "embedding_dim=20\n",
        "vocab_size=len(vocab)\n",
        "embeddings = nn.Embedding(vocab_size, embedding_dim)"
      ],
      "metadata": {
        "id": "XgzLfdRHCRU9"
      },
      "execution_count": 44,
      "outputs": []
    },
    {
      "cell_type": "code",
      "source": [
        "import torch\n",
        "\n",
        "for n in range(2):\n",
        "    embedding=embeddings(torch.tensor(n))\n",
        "    print(\"word\",index_to_token[n])\n",
        "    print(\"index\",n)\n",
        "    print( \"embedding\", embedding)\n",
        "    print(\"embedding shape\", embedding.shape)"
      ],
      "metadata": {
        "colab": {
          "base_uri": "https://localhost:8080/"
        },
        "id": "tpNTvPbrChvc",
        "outputId": "7b69ebe9-1729-40d5-b2bd-c796163868d9"
      },
      "execution_count": 46,
      "outputs": [
        {
          "output_type": "stream",
          "name": "stdout",
          "text": [
            "word <unk>\n",
            "index 0\n",
            "embedding tensor([ 0.3628,  0.4222,  1.5373, -0.7966,  1.1816, -0.3817, -0.1848,  0.0559,\n",
            "        -0.1279,  0.5350, -0.3768,  1.0282,  0.5911,  1.4951,  0.8912,  0.0743,\n",
            "         1.4045,  0.0606, -0.5057,  0.1065], grad_fn=<EmbeddingBackward0>)\n",
            "embedding shape torch.Size([20])\n",
            "word gonna\n",
            "index 1\n",
            "embedding tensor([-0.9818, -0.5155, -0.6713, -0.1214,  0.5924,  0.3727,  0.5649,  1.8593,\n",
            "        -0.3827,  1.1428,  1.5055, -2.0444, -0.0742,  0.7773,  0.8325, -1.6351,\n",
            "         0.5015,  0.0811, -0.7901,  0.7183], grad_fn=<EmbeddingBackward0>)\n",
            "embedding shape torch.Size([20])\n"
          ]
        }
      ]
    },
    {
      "cell_type": "markdown",
      "source": [
        "## Generating context-target pairs (n-grams)"
      ],
      "metadata": {
        "id": "q1_TpOCFDGRP"
      }
    },
    {
      "cell_type": "code",
      "source": [
        "CONTEXT_SIZE=2\n",
        "\n",
        "ngrams = [\n",
        "    (\n",
        "        [tokens[i - j - 1] for j in range(CONTEXT_SIZE)],\n",
        "        tokens[i]\n",
        "    )\n",
        "    for i in range(CONTEXT_SIZE, len(tokens))\n",
        "]"
      ],
      "metadata": {
        "id": "IOrxm3zIC48x"
      },
      "execution_count": 47,
      "outputs": []
    },
    {
      "cell_type": "code",
      "source": [
        "context, target=ngrams[0]\n",
        "print(\"context\",context,\"target\",target)\n",
        "print(\"context index\",vocab(context),\"target index\",vocab([target]))"
      ],
      "metadata": {
        "colab": {
          "base_uri": "https://localhost:8080/"
        },
        "id": "v4iAeDmzDJaa",
        "outputId": "878a3b43-8ed7-403c-ebdd-487573061e3e"
      },
      "execution_count": 48,
      "outputs": [
        {
          "output_type": "stream",
          "name": "stdout",
          "text": [
            "context ['are', 'we'] target no\n",
            "context index [58, 21] target index [70]\n"
          ]
        }
      ]
    },
    {
      "cell_type": "code",
      "source": [
        "linear = nn.Linear(embedding_dim*CONTEXT_SIZE,128)\n",
        "linear"
      ],
      "metadata": {
        "colab": {
          "base_uri": "https://localhost:8080/"
        },
        "id": "mfcw0XRzDcoA",
        "outputId": "713157dc-623a-435b-b4fc-fd32a61f5a5e"
      },
      "execution_count": 50,
      "outputs": [
        {
          "output_type": "execute_result",
          "data": {
            "text/plain": [
              "Linear(in_features=40, out_features=128, bias=True)"
            ]
          },
          "metadata": {},
          "execution_count": 50
        }
      ]
    },
    {
      "cell_type": "code",
      "source": [
        "my_embeddings=embeddings(torch.tensor(vocab(context)))\n",
        "my_embeddings.shape"
      ],
      "metadata": {
        "colab": {
          "base_uri": "https://localhost:8080/"
        },
        "id": "_jVd4LdNDsc9",
        "outputId": "3f0fdca2-1a3d-4a38-ed15-c2c0d596bda4"
      },
      "execution_count": 57,
      "outputs": [
        {
          "output_type": "execute_result",
          "data": {
            "text/plain": [
              "torch.Size([2, 20])"
            ]
          },
          "metadata": {},
          "execution_count": 57
        }
      ]
    },
    {
      "cell_type": "code",
      "source": [
        "my_embeddings=my_embeddings.reshape(1,-1)\n",
        "my_embeddings.shape"
      ],
      "metadata": {
        "colab": {
          "base_uri": "https://localhost:8080/"
        },
        "id": "CDc9R-RIDvyc",
        "outputId": "35557c13-17b5-44a9-dd7a-dfee20bf6600"
      },
      "execution_count": 58,
      "outputs": [
        {
          "output_type": "execute_result",
          "data": {
            "text/plain": [
              "torch.Size([1, 40])"
            ]
          },
          "metadata": {},
          "execution_count": 58
        }
      ]
    },
    {
      "cell_type": "markdown",
      "source": [
        "## Batch function"
      ],
      "metadata": {
        "id": "LkPgOUgQEDTj"
      }
    },
    {
      "cell_type": "code",
      "source": [
        "from torch.utils.data import DataLoader\n",
        "\n",
        "device = torch.device(\"cuda\" if torch.cuda.is_available() else \"cpu\")\n",
        "CONTEXT_SIZE=3\n",
        "BATCH_SIZE=10\n",
        "EMBEDDING_DIM = 10\n",
        "\n",
        "def collate_batch(batch):\n",
        "    batch_size=len(batch)\n",
        "    context, target=[],[]\n",
        "    for i in range(CONTEXT_SIZE,batch_size):\n",
        "        target.append(vocab([batch[i]]))\n",
        "        context.append(vocab([batch[i-j-1] for j in range(CONTEXT_SIZE)]))\n",
        "\n",
        "    return   torch.tensor(context).to(device),  torch.tensor(target).to(device).reshape(-1)"
      ],
      "metadata": {
        "id": "9HKxEv-ID5Rs"
      },
      "execution_count": 75,
      "outputs": []
    },
    {
      "cell_type": "code",
      "source": [
        "Padding=BATCH_SIZE-len(tokens)%BATCH_SIZE\n",
        "tokens_pad=tokens+tokens[0:Padding]"
      ],
      "metadata": {
        "id": "0QovKsbmEG6A"
      },
      "execution_count": 76,
      "outputs": []
    },
    {
      "cell_type": "code",
      "source": [
        "dataloader = DataLoader(\n",
        "     tokens_pad, batch_size=BATCH_SIZE, shuffle=False, collate_fn=collate_batch\n",
        ")"
      ],
      "metadata": {
        "id": "ZAyMDOIPEVRa"
      },
      "execution_count": 77,
      "outputs": []
    },
    {
      "cell_type": "code",
      "source": [
        "tokens_pad"
      ],
      "metadata": {
        "id": "-zOSBzozLkEt",
        "outputId": "f9c007de-ca0c-4f22-c965-d24942836098",
        "colab": {
          "base_uri": "https://localhost:8080/"
        }
      },
      "execution_count": 107,
      "outputs": [
        {
          "output_type": "execute_result",
          "data": {
            "text/plain": [
              "['we',\n",
              " 'are',\n",
              " 'no',\n",
              " 'strangers',\n",
              " 'to',\n",
              " 'love',\n",
              " 'you',\n",
              " 'know',\n",
              " 'the',\n",
              " 'rules',\n",
              " 'and',\n",
              " 'so',\n",
              " 'do',\n",
              " 'i',\n",
              " 'a',\n",
              " 'full',\n",
              " 'commitments',\n",
              " 'what',\n",
              " 'im',\n",
              " 'thinking',\n",
              " 'of',\n",
              " 'you',\n",
              " 'wouldnt',\n",
              " 'get',\n",
              " 'this',\n",
              " 'from',\n",
              " 'any',\n",
              " 'other',\n",
              " 'guy',\n",
              " 'i',\n",
              " 'just',\n",
              " 'wanna',\n",
              " 'tell',\n",
              " 'you',\n",
              " 'how',\n",
              " 'im',\n",
              " 'feeling',\n",
              " 'gotta',\n",
              " 'make',\n",
              " 'you',\n",
              " 'understand',\n",
              " 'never',\n",
              " 'gonna',\n",
              " 'give',\n",
              " 'you',\n",
              " 'up',\n",
              " 'never',\n",
              " 'gonna',\n",
              " 'let',\n",
              " 'you',\n",
              " 'down',\n",
              " 'never',\n",
              " 'gonna',\n",
              " 'run',\n",
              " 'around',\n",
              " 'and',\n",
              " 'desert',\n",
              " 'you',\n",
              " 'never',\n",
              " 'gonna',\n",
              " 'make',\n",
              " 'you',\n",
              " 'cry',\n",
              " 'never',\n",
              " 'gonna',\n",
              " 'say',\n",
              " 'goodbye',\n",
              " 'never',\n",
              " 'gonna',\n",
              " 'tell',\n",
              " 'a',\n",
              " 'lie',\n",
              " 'and',\n",
              " 'hurt',\n",
              " 'you',\n",
              " 'weve',\n",
              " 'known',\n",
              " 'each',\n",
              " 'other',\n",
              " 'for',\n",
              " 'so',\n",
              " 'long',\n",
              " 'your',\n",
              " 'hearts',\n",
              " 'been',\n",
              " 'aching',\n",
              " 'but',\n",
              " 'youre',\n",
              " 'too',\n",
              " 'shy',\n",
              " 'to',\n",
              " 'say',\n",
              " 'it',\n",
              " 'inside',\n",
              " 'we',\n",
              " 'both',\n",
              " 'know',\n",
              " 'whats',\n",
              " 'been',\n",
              " 'going',\n",
              " 'on',\n",
              " 'we',\n",
              " 'know',\n",
              " 'the',\n",
              " 'game',\n",
              " 'and',\n",
              " 'were',\n",
              " 'gonna',\n",
              " 'play',\n",
              " 'it',\n",
              " 'and',\n",
              " 'if',\n",
              " 'you',\n",
              " 'ask',\n",
              " 'me',\n",
              " 'how',\n",
              " 'im',\n",
              " 'feeling',\n",
              " 'dont',\n",
              " 'tell',\n",
              " 'me',\n",
              " 'youre',\n",
              " 'too',\n",
              " 'blind',\n",
              " 'to',\n",
              " 'see',\n",
              " 'never',\n",
              " 'gonna',\n",
              " 'give',\n",
              " 'you',\n",
              " 'up',\n",
              " 'never',\n",
              " 'gonna',\n",
              " 'let',\n",
              " 'you',\n",
              " 'down',\n",
              " 'never',\n",
              " 'gonna',\n",
              " 'run',\n",
              " 'around',\n",
              " 'and',\n",
              " 'desert',\n",
              " 'you',\n",
              " 'never',\n",
              " 'gonna',\n",
              " 'make',\n",
              " 'you',\n",
              " 'cry',\n",
              " 'never',\n",
              " 'gonna',\n",
              " 'say',\n",
              " 'goodbye',\n",
              " 'never',\n",
              " 'gonna',\n",
              " 'tell',\n",
              " 'a',\n",
              " 'lie',\n",
              " 'and',\n",
              " 'hurt',\n",
              " 'you',\n",
              " 'never',\n",
              " 'gonna',\n",
              " 'give',\n",
              " 'you',\n",
              " 'up',\n",
              " 'never',\n",
              " 'gonna',\n",
              " 'let',\n",
              " 'you',\n",
              " 'down',\n",
              " 'never',\n",
              " 'gonna',\n",
              " 'run',\n",
              " 'around',\n",
              " 'and',\n",
              " 'desert',\n",
              " 'you',\n",
              " 'never',\n",
              " 'gonna',\n",
              " 'make',\n",
              " 'you',\n",
              " 'cry',\n",
              " 'never',\n",
              " 'gonna',\n",
              " 'say',\n",
              " 'goodbye',\n",
              " 'never',\n",
              " 'gonna',\n",
              " 'tell',\n",
              " 'a',\n",
              " 'lie',\n",
              " 'and',\n",
              " 'hurt',\n",
              " 'you',\n",
              " 'weve',\n",
              " 'known',\n",
              " 'each',\n",
              " 'other',\n",
              " 'for',\n",
              " 'so',\n",
              " 'long',\n",
              " 'your',\n",
              " 'hearts',\n",
              " 'been',\n",
              " 'aching',\n",
              " 'but',\n",
              " 'youre',\n",
              " 'too',\n",
              " 'shy',\n",
              " 'to',\n",
              " 'say',\n",
              " 'it',\n",
              " 'inside',\n",
              " 'we',\n",
              " 'both',\n",
              " 'know',\n",
              " 'whats',\n",
              " 'been',\n",
              " 'going',\n",
              " 'on',\n",
              " 'we',\n",
              " 'know',\n",
              " 'the',\n",
              " 'game',\n",
              " 'and',\n",
              " 'were',\n",
              " 'gonna',\n",
              " 'play',\n",
              " 'it',\n",
              " 'i',\n",
              " 'just',\n",
              " 'wanna',\n",
              " 'tell',\n",
              " 'you',\n",
              " 'how',\n",
              " 'im',\n",
              " 'feeling',\n",
              " 'gotta',\n",
              " 'make',\n",
              " 'you',\n",
              " 'understand',\n",
              " 'never',\n",
              " 'gonna',\n",
              " 'give',\n",
              " 'you',\n",
              " 'up',\n",
              " 'never',\n",
              " 'gonna',\n",
              " 'let',\n",
              " 'you',\n",
              " 'down',\n",
              " 'never',\n",
              " 'gonna',\n",
              " 'run',\n",
              " 'around',\n",
              " 'and',\n",
              " 'desert',\n",
              " 'you',\n",
              " 'never',\n",
              " 'gonna',\n",
              " 'make',\n",
              " 'you',\n",
              " 'cry',\n",
              " 'never',\n",
              " 'gonna',\n",
              " 'say',\n",
              " 'goodbye',\n",
              " 'never',\n",
              " 'gonna',\n",
              " 'tell',\n",
              " 'a',\n",
              " 'lie',\n",
              " 'and',\n",
              " 'hurt',\n",
              " 'you',\n",
              " 'never',\n",
              " 'gonna',\n",
              " 'give',\n",
              " 'you',\n",
              " 'up',\n",
              " 'never',\n",
              " 'gonna',\n",
              " 'let',\n",
              " 'you',\n",
              " 'down',\n",
              " 'never',\n",
              " 'gonna',\n",
              " 'run',\n",
              " 'around',\n",
              " 'and',\n",
              " 'desert',\n",
              " 'you',\n",
              " 'never',\n",
              " 'gonna',\n",
              " 'make',\n",
              " 'you',\n",
              " 'cry',\n",
              " 'never',\n",
              " 'gonna',\n",
              " 'say',\n",
              " 'goodbye',\n",
              " 'never',\n",
              " 'gonna',\n",
              " 'tell',\n",
              " 'a',\n",
              " 'lie',\n",
              " 'and',\n",
              " 'hurt',\n",
              " 'you',\n",
              " 'never',\n",
              " 'gonna',\n",
              " 'give',\n",
              " 'you',\n",
              " 'up',\n",
              " 'never',\n",
              " 'gonna',\n",
              " 'let',\n",
              " 'you',\n",
              " 'down',\n",
              " 'never',\n",
              " 'gonna',\n",
              " 'run',\n",
              " 'around',\n",
              " 'and',\n",
              " 'desert',\n",
              " 'you',\n",
              " 'never',\n",
              " 'gonna',\n",
              " 'make',\n",
              " 'you',\n",
              " 'cry',\n",
              " 'never',\n",
              " 'gonna',\n",
              " 'say',\n",
              " 'goodbye',\n",
              " 'never',\n",
              " 'gonna',\n",
              " 'tell',\n",
              " 'a',\n",
              " 'lie',\n",
              " 'and',\n",
              " 'hurt',\n",
              " 'you',\n",
              " 'we',\n",
              " 'are',\n",
              " 'no',\n",
              " 'strangers',\n",
              " 'to',\n",
              " 'love',\n",
              " 'you']"
            ]
          },
          "metadata": {},
          "execution_count": 107
        }
      ]
    },
    {
      "cell_type": "markdown",
      "source": [
        "## Multi-class neural network"
      ],
      "metadata": {
        "id": "yDzpstyXEe43"
      }
    },
    {
      "cell_type": "code",
      "source": [
        "import torch.nn.functional as F\n",
        "\n",
        "class NGramLanguageModeler(nn.Module):\n",
        "\n",
        "    def __init__(self, vocab_size, embedding_dim, context_size):\n",
        "        super(NGramLanguageModeler, self).__init__()\n",
        "        self.context_size=context_size\n",
        "        self.embedding_dim=embedding_dim\n",
        "        self.embeddings = nn.Embedding(vocab_size, embedding_dim)\n",
        "        self.linear1 = nn.Linear(context_size * embedding_dim, 128)\n",
        "        self.linear2 = nn.Linear(128, vocab_size)\n",
        "\n",
        "    def forward(self, inputs):\n",
        "        embeds = self.embeddings(inputs)\n",
        "        embeds=torch.reshape( embeds, (-1,self.context_size * self.embedding_dim))\n",
        "        out = F.relu(self.linear1(embeds))\n",
        "        out = self.linear2(out)\n",
        "\n",
        "        return out"
      ],
      "metadata": {
        "id": "leKpq2YZEWr7"
      },
      "execution_count": 78,
      "outputs": []
    },
    {
      "cell_type": "code",
      "source": [
        "model = NGramLanguageModeler(len(vocab), EMBEDDING_DIM, CONTEXT_SIZE).to(device)\n",
        "\n",
        "context, target=next(iter(dataloader))\n",
        "out=model(context)\n",
        "out.shape"
      ],
      "metadata": {
        "colab": {
          "base_uri": "https://localhost:8080/"
        },
        "id": "sgk9yBLCElvM",
        "outputId": "4c576a8c-0534-4e0b-b979-733cbf463068"
      },
      "execution_count": 79,
      "outputs": [
        {
          "output_type": "execute_result",
          "data": {
            "text/plain": [
              "torch.Size([7, 79])"
            ]
          },
          "metadata": {},
          "execution_count": 79
        }
      ]
    },
    {
      "cell_type": "code",
      "source": [
        "# Find the index with the highest probability\n",
        "predicted_index =torch.argmax(out,1)\n",
        "predicted_index"
      ],
      "metadata": {
        "colab": {
          "base_uri": "https://localhost:8080/"
        },
        "id": "MKcsVgN_EnIE",
        "outputId": "b20d3392-4334-4190-b466-5fca068c2c0a"
      },
      "execution_count": 82,
      "outputs": [
        {
          "output_type": "execute_result",
          "data": {
            "text/plain": [
              "tensor([67, 72, 18, 72, 23, 61, 61])"
            ]
          },
          "metadata": {},
          "execution_count": 82
        }
      ]
    },
    {
      "cell_type": "code",
      "source": [
        "# Find the corresponding token\n",
        "[index_to_token[i.item()] for i in  predicted_index]"
      ],
      "metadata": {
        "colab": {
          "base_uri": "https://localhost:8080/"
        },
        "id": "bNE9NTv7E5m6",
        "outputId": "4e657eb1-59c4-4d67-9002-f00111df6ddd"
      },
      "execution_count": 83,
      "outputs": [
        {
          "output_type": "execute_result",
          "data": {
            "text/plain": [
              "['guy', 'rules', 'run', 'rules', 'im', 'commitments', 'commitments']"
            ]
          },
          "metadata": {},
          "execution_count": 83
        }
      ]
    },
    {
      "cell_type": "code",
      "source": [
        "def write_song(model,number_of_words=100):\n",
        "    my_song=\"\"\n",
        "    for i in range(number_of_words):\n",
        "        with torch.no_grad():\n",
        "            context=torch.tensor(vocab([tokens[i-j-1] for j in range(CONTEXT_SIZE)])).to(device)\n",
        "            word_inx=torch.argmax(model(context))\n",
        "            my_song+=\" \"+index_to_token[word_inx.detach().item()]\n",
        "\n",
        "    return my_song\n",
        "\n",
        "write_song(model)"
      ],
      "metadata": {
        "colab": {
          "base_uri": "https://localhost:8080/",
          "height": 53
        },
        "id": "ySDuLrZvFUO8",
        "outputId": "de379b81-eaf3-440f-f45b-5f73b5079d0e"
      },
      "execution_count": 84,
      "outputs": [
        {
          "output_type": "execute_result",
          "data": {
            "text/plain": [
              "' rules but im guy rules run rules im commitments commitments ask both but im rules too rules it youre rules rules guy rules commitments rules are rules rules rules long rules rules your guy feeling but but both around tell commitments commitments feeling im rules it rules im rules known rules commitments im both your youre rules commitments im dont rules known youre commitments rules commitments known commitments let rules let commitments it make commitments rules to do rules commitments commitments but rules run strangers rules to but rules but it commitments to commitments commitments but tell known rules both'"
            ],
            "application/vnd.google.colaboratory.intrinsic+json": {
              "type": "string"
            }
          },
          "metadata": {},
          "execution_count": 84
        }
      ]
    },
    {
      "cell_type": "markdown",
      "source": [
        "## Training"
      ],
      "metadata": {
        "id": "3uWP6HSQFi0S"
      }
    },
    {
      "cell_type": "code",
      "source": [
        "# cross entropy loss between input logits and target\n",
        "criterion = torch.nn.CrossEntropyLoss()"
      ],
      "metadata": {
        "id": "60rMW5C0FdLU"
      },
      "execution_count": 86,
      "outputs": []
    },
    {
      "cell_type": "code",
      "source": [
        "def train(dataloader, model, number_of_epochs=100, show=10):\n",
        "    \"\"\"\n",
        "    Args:\n",
        "        dataloader (DataLoader): DataLoader containing training data.\n",
        "        model (nn.Module): Neural network model to be trained.\n",
        "        number_of_epochs (int, optional): Number of epochs for training. Default is 100.\n",
        "        show (int, optional): Interval for displaying progress. Default is 10.\n",
        "\n",
        "    Returns:\n",
        "        list: List containing loss values for each epoch.\n",
        "    \"\"\"\n",
        "\n",
        "    MY_LOSS = []  # List to store loss values for each epoch\n",
        "\n",
        "    # Iterate over the specified number of epochs\n",
        "    for epoch in tqdm(range(number_of_epochs)):\n",
        "        total_loss = 0  # Initialize total loss for the current epoch\n",
        "        my_song = \"\"    # Initialize a string to store the generated song\n",
        "\n",
        "        # Iterate over batches in the dataloader\n",
        "        for context, target in dataloader:\n",
        "            model.zero_grad()          # Zero the gradients to avoid accumulation\n",
        "            predicted = model(context)  # Forward pass through the model to get predictions\n",
        "            loss = criterion(predicted, target.reshape(-1))  # Calculate the loss\n",
        "            total_loss += loss.item()   # Accumulate the loss\n",
        "\n",
        "            loss.backward()    # Backpropagation to compute gradients\n",
        "            optimizer.step()   # Update model parameters using the optimizer\n",
        "\n",
        "        # Display progress and generate song at specified intervals\n",
        "        if epoch % show == 0:\n",
        "            my_song += write_song(model)  # Generate song using the model\n",
        "\n",
        "            print(\"Generated Song:\")\n",
        "            print(\"\\n\")\n",
        "            print(my_song)\n",
        "\n",
        "        MY_LOSS.append(total_loss/len(dataloader))  # Append the total loss for the epoch to MY_LOSS list\n",
        "\n",
        "    return MY_LOSS  # Return the list of  mean loss values for each epoch"
      ],
      "metadata": {
        "id": "VS8RBYqIFxZk"
      },
      "execution_count": 116,
      "outputs": []
    },
    {
      "cell_type": "code",
      "source": [
        "import torch.optim as optim\n",
        "from tqdm import tqdm\n",
        "\n",
        "\n",
        "my_loss_list=[]\n",
        "\n",
        "# Define the context size for the n-gram model\n",
        "CONTEXT_SIZE = 2\n",
        "\n",
        "# Create an instance of the NGramLanguageModeler class with specified parameters\n",
        "model_2 = NGramLanguageModeler(len(vocab), EMBEDDING_DIM, CONTEXT_SIZE).to(device)\n",
        "\n",
        "# Define the optimizer for training the model, using stochastic gradient descent (SGD)\n",
        "optimizer = optim.SGD(model_2.parameters(), lr=0.01)\n",
        "\n",
        "# Set up a learning rate scheduler using StepLR to adjust the learning rate during training\n",
        "scheduler = torch.optim.lr_scheduler.StepLR(optimizer, step_size=1.0, gamma=0.1)\n",
        "\n",
        "my_loss=train(dataloader,model_2)"
      ],
      "metadata": {
        "colab": {
          "base_uri": "https://localhost:8080/"
        },
        "id": "k41DRCFlFyGd",
        "outputId": "ca60e6a6-003a-4b8e-a2f2-e93b52af933b"
      },
      "execution_count": 90,
      "outputs": [
        {
          "output_type": "stream",
          "name": "stderr",
          "text": [
            "  3%|▎         | 3/100 [00:00<00:16,  6.00it/s]"
          ]
        },
        {
          "output_type": "stream",
          "name": "stdout",
          "text": [
            "Generated Song:\n",
            "\n",
            "\n",
            " you strangers you you you gonna gonna gonna to gonna each shy you blind been cry gonna each gonna cry run each been each how you gonna other gonna each you cry commitments gonna you commitments you each each hurt cry say gonna blind run been you both blind gotta you commitments gonna blind lie were each you gonna gonna blind never cry commitments you blind each blind gonna blind never you gonna each you you run each each both each each shy you going thinking just both and each dont run each you gotta been you thinking been cry\n"
          ]
        },
        {
          "output_type": "stream",
          "name": "stderr",
          "text": [
            " 13%|█▎        | 13/100 [00:01<00:08,  9.80it/s]"
          ]
        },
        {
          "output_type": "stream",
          "name": "stdout",
          "text": [
            "Generated Song:\n",
            "\n",
            "\n",
            " never never you you you gonna never gonna gonna gonna never you you never you you gonna gonna never you you you never never you you you never gonna never you you you you gonna never you you you you you never gonna never you never gonna gonna never you you never gonna never you and you you never gonna never you you never gonna never you never gonna never you gonna gonna you you never never gonna gonna never gonna gonna never never gonna never gonna gonna gonna you you gonna never never you you you you you never\n"
          ]
        },
        {
          "output_type": "stream",
          "name": "stderr",
          "text": [
            " 24%|██▍       | 24/100 [00:02<00:05, 14.18it/s]"
          ]
        },
        {
          "output_type": "stream",
          "name": "stdout",
          "text": [
            "Generated Song:\n",
            "\n",
            "\n",
            " never never you you you gonna never never and never and you you never you you and never never you you you never never you you you never gonna hurt you you you you never never you you you you never never gonna tell you never never gonna tell you you never gonna tell you and desert you never gonna tell you never never gonna tell you never gonna tell you gonna and hurt you never never and you you gonna gonna never never you never never gonna and you you gonna never never tell you you you you never\n"
          ]
        },
        {
          "output_type": "stream",
          "name": "stderr",
          "text": [
            " 34%|███▍      | 34/100 [00:02<00:03, 18.85it/s]"
          ]
        },
        {
          "output_type": "stream",
          "name": "stdout",
          "text": [
            "Generated Song:\n",
            "\n",
            "\n",
            " never never you you to gonna never never and never and you you never you you and never never you you you never never you hurt you never gonna hurt you you you you never never you you make you cry never gonna tell you never never gonna tell you you never gonna tell around and desert you never gonna tell you cry never gonna tell goodbye never gonna tell you lie and hurt you never never and you you gonna gonna never never you never never gonna and desert you gonna never never tell you you the you never\n"
          ]
        },
        {
          "output_type": "stream",
          "name": "stderr",
          "text": [
            " 45%|████▌     | 45/100 [00:03<00:02, 25.89it/s]"
          ]
        },
        {
          "output_type": "stream",
          "name": "stdout",
          "text": [
            "Generated Song:\n",
            "\n",
            "\n",
            " never never no strangers to gonna never never the game and you you never you you and never never you you you never never you hurt you never gonna hurt you cry you you never im you you make you cry never gonna tell you never never gonna tell you down never gonna tell around and desert you never gonna tell you cry never gonna tell goodbye never gonna tell you lie and hurt you never never each you you gonna gonna never hearts you aching but gonna too shy to gonna never never tell you you whats been never\n"
          ]
        },
        {
          "output_type": "stream",
          "name": "stderr",
          "text": [
            " 52%|█████▏    | 52/100 [00:03<00:01, 27.57it/s]"
          ]
        },
        {
          "output_type": "stream",
          "name": "stdout",
          "text": [
            "Generated Song:\n",
            "\n",
            "\n",
            " never never no strangers to gonna never never the game and you you never you lie and never never hurt you you never never you know you never gonna hurt you cry you you how im feeling you make you cry never gonna tell you up never gonna tell you down never gonna tell around and desert you never gonna tell you cry never gonna tell goodbye never gonna tell a lie and hurt you never never each other you gonna gonna never hearts you aching but youre too shy to gonna goodbye never we both you whats been going\n"
          ]
        },
        {
          "output_type": "stream",
          "name": "stderr",
          "text": [
            " 63%|██████▎   | 63/100 [00:04<00:02, 16.72it/s]"
          ]
        },
        {
          "output_type": "stream",
          "name": "stdout",
          "text": [
            "Generated Song:\n",
            "\n",
            "\n",
            " never im no strangers to gonna never never the game and you you never you lie and never never hurt the you never never you know you never gonna hurt you cry you you how im feeling you make you cry never gonna tell you up never gonna tell you down never gonna tell around and desert you never gonna tell you cry never gonna tell goodbye never gonna tell a lie and hurt you never never each other for cry gonna never hearts you aching but youre too shy to other goodbye never we both know whats been going\n"
          ]
        },
        {
          "output_type": "stream",
          "name": "stderr",
          "text": [
            " 74%|███████▍  | 74/100 [00:04<00:01, 17.00it/s]"
          ]
        },
        {
          "output_type": "stream",
          "name": "stdout",
          "text": [
            "Generated Song:\n",
            "\n",
            "\n",
            " never im no strangers to gonna never never the game and you you never you lie and never never know the you never never you know down never gonna i you cry you you how im feeling gotta make you cry never gonna tell you up never gonna tell you down never gonna tell around and desert you never gonna tell you cry never gonna tell goodbye never gonna tell a lie and hurt you never never each other for cry gonna never hearts been aching but youre too shy to other goodbye never we both know whats been going\n"
          ]
        },
        {
          "output_type": "stream",
          "name": "stderr",
          "text": [
            " 84%|████████▍ | 84/100 [00:05<00:00, 16.25it/s]"
          ]
        },
        {
          "output_type": "stream",
          "name": "stdout",
          "text": [
            "Generated Song:\n",
            "\n",
            "\n",
            " never im no strangers to love you never the game and you you never you lie and never im know the you never get you know down never guy i you cry tell you how im feeling gotta make you cry never gonna tell you up never gonna tell you down never gonna tell around and desert you never gonna tell you cry never gonna tell goodbye never gonna tell a lie and hurt you never known each other for cry make you hearts been aching but youre too shy to other goodbye inside we both know whats been going\n"
          ]
        },
        {
          "output_type": "stream",
          "name": "stderr",
          "text": [
            " 95%|█████████▌| 95/100 [00:06<00:00, 16.01it/s]"
          ]
        },
        {
          "output_type": "stream",
          "name": "stdout",
          "text": [
            "Generated Song:\n",
            "\n",
            "\n",
            " never are no strangers to love you never the game and you you never you lie and never im thinking the you never get you know down other guy i you cry tell you how im feeling gotta make you cry never gonna tell you up never gonna tell you down never gonna tell around and desert you never gonna tell you cry never gonna tell goodbye never gonna tell a lie and hurt you never known each other for cry make you hearts been aching but youre too shy to other goodbye inside we both know whats been going\n"
          ]
        },
        {
          "output_type": "stream",
          "name": "stderr",
          "text": [
            "100%|██████████| 100/100 [00:06<00:00, 15.11it/s]\n"
          ]
        }
      ]
    },
    {
      "cell_type": "code",
      "source": [
        "# save model\n",
        "save_path = '2gram.pth'\n",
        "torch.save(model_2.state_dict(), save_path)\n",
        "my_loss_list.append(my_loss)"
      ],
      "metadata": {
        "id": "KEIaPWJzF5B7"
      },
      "execution_count": 91,
      "outputs": []
    },
    {
      "cell_type": "code",
      "source": [
        "from sklearn.manifold import TSNE\n",
        "\n",
        "# use TSNE to visualize the structure of the word embeddings\n",
        "X = model_2.embeddings.weight.cpu().detach().numpy()\n",
        "tsne = TSNE(n_components=2, random_state=42)\n",
        "X_2d = tsne.fit_transform(X)\n",
        "\n",
        "labels = []\n",
        "\n",
        "for j in range(len(X_2d)):\n",
        "    if j < 20:\n",
        "        plt.scatter(X_2d[j, 0], X_2d[j, 1], label=index_to_token[j])\n",
        "        labels.append(index_to_token[j])\n",
        "        # Add words as annotations\n",
        "        plt.annotate(index_to_token[j],\n",
        "                     (X_2d[j, 0], X_2d[j, 1]),\n",
        "                     textcoords=\"offset points\",\n",
        "                     xytext=(0, 10),\n",
        "                     ha='center')\n",
        "    else:\n",
        "        plt.scatter(X_2d[j, 0], X_2d[j, 1])\n",
        "\n",
        "plt.legend(labels, loc='upper left', bbox_to_anchor=(1, 1))\n",
        "plt.show()"
      ],
      "metadata": {
        "colab": {
          "base_uri": "https://localhost:8080/",
          "height": 475
        },
        "id": "-09fuZnuHdvj",
        "outputId": "360adc4a-f04b-4840-c8a1-68cb211fa873"
      },
      "execution_count": 92,
      "outputs": [
        {
          "output_type": "display_data",
          "data": {
            "text/plain": [
              "<Figure size 640x480 with 1 Axes>"
            ],
            "image/png": "[encoded data removed]"
          },
          "metadata": {}
        }
      ]
    },
    {
      "cell_type": "code",
      "source": [
        "# Repeat process for context of four\n",
        "CONTEXT_SIZE=4\n",
        "model_4 = NGramLanguageModeler(len(vocab), EMBEDDING_DIM, CONTEXT_SIZE).to(device)\n",
        "optimizer = optim.SGD(model_4.parameters(), lr=0.01)\n",
        "scheduler = torch.optim.lr_scheduler.StepLR(optimizer, 1.0, gamma=0.1)\n",
        "my_loss=train(dataloader,model_4 )\n",
        "\n",
        "save_path = '4gram.pth'\n",
        "torch.save(model_4.state_dict(), save_path)\n",
        "\n",
        "my_loss_list.append(my_loss)"
      ],
      "metadata": {
        "colab": {
          "base_uri": "https://localhost:8080/"
        },
        "id": "nyl6WSzpHypG",
        "outputId": "02e8e5b8-5343-4d0e-f1ee-e29f85fe391c"
      },
      "execution_count": 93,
      "outputs": [
        {
          "output_type": "stream",
          "name": "stderr",
          "text": [
            "  4%|▍         | 4/100 [00:00<00:06, 15.09it/s]"
          ]
        },
        {
          "output_type": "stream",
          "name": "stdout",
          "text": [
            "Generated Song:\n",
            "\n",
            "\n",
            " going never never you know i you never around know aching lie you know i <unk> goodbye known to never this know going never to goodbye never never love goodbye i know you do lie know know never lie you you gonna you tell you you goodbye aching for you know never aching you you around tell you game you going you game never around you you what gonna tell you aching know know you going are this guy lie i i around <unk> i tell you aching goodbye you you you you to a you you love know know\n"
          ]
        },
        {
          "output_type": "stream",
          "name": "stderr",
          "text": [
            " 12%|█▏        | 12/100 [00:00<00:07, 11.58it/s]"
          ]
        },
        {
          "output_type": "stream",
          "name": "stdout",
          "text": [
            "Generated Song:\n",
            "\n",
            "\n",
            " never never never never gonna love you never never gonna gonna gonna you never you never gonna you you never never gonna make you never never never never never never you gonna you you never you never gonna gonna you you gonna gonna tell you never never gonna tell you never never gonna never you gonna never you never gonna make you never never gonna tell you never gonna tell you never gonna you you never never gonna gonna you you you never gonna gonna tell you gonna you you gonna never never gonna gonna you you you gonna and\n"
          ]
        },
        {
          "output_type": "stream",
          "name": "stderr",
          "text": [
            " 26%|██▌       | 26/100 [00:01<00:03, 24.26it/s]"
          ]
        },
        {
          "output_type": "stream",
          "name": "stdout",
          "text": [
            "Generated Song:\n",
            "\n",
            "\n",
            " never never never never and love you never never and and and you never you never never tell you and tell gonna make you never never never never never never you know tell a never im feeling gonna make you you gonna gonna tell you never never gonna let you down never gonna make around and desert you never gonna make you never never gonna say you never gonna tell a lie and you you never never gonna other you you you never gonna been aching you gonna too you gonna you never never gonna you know love been and\n"
          ]
        },
        {
          "output_type": "stream",
          "name": "stderr",
          "text": [
            " 38%|███▊      | 38/100 [00:01<00:01, 31.23it/s]"
          ]
        },
        {
          "output_type": "stream",
          "name": "stdout",
          "text": [
            "Generated Song:\n",
            "\n",
            "\n",
            " never never never never to love you never never and and and you never you never never let you how tell gonna make you never never never you never gotta been know tell a how im feeling gotta make you goodbye gonna gonna let you up never gonna let you down never gonna make around and desert you never gonna make you never never gonna say goodbye never gonna tell a lie and hurt you never never each other for you you never gonna been aching but youre too shy to you never never gonna both know whats been going\n"
          ]
        },
        {
          "output_type": "stream",
          "name": "stderr",
          "text": [
            " 46%|████▌     | 46/100 [00:02<00:01, 33.16it/s]"
          ]
        },
        {
          "output_type": "stream",
          "name": "stdout",
          "text": [
            "Generated Song:\n",
            "\n",
            "\n",
            " never never never never to love you know never and and and you weve a full never both you how tell gonna make you never never never other down gotta been been tell know how im feeling gotta make you goodbye gonna gonna let you up never gonna let you down never gonna run around and desert you never gonna make you cry never gonna say goodbye never gonna tell a lie and hurt you never known each other for so you feeling gonna been aching but youre too shy to you never never gonna both know whats been going\n"
          ]
        },
        {
          "output_type": "stream",
          "name": "stderr",
          "text": [
            " 54%|█████▍    | 54/100 [00:02<00:01, 33.61it/s]"
          ]
        },
        {
          "output_type": "stream",
          "name": "stdout",
          "text": [
            "Generated Song:\n",
            "\n",
            "\n",
            " never never never im to love you know never and and were you weve a full never what im thinking tell gonna make you never never never other guy i been been tell know how im feeling gotta make you goodbye gonna gonna let you up never gonna let you down never gonna run around and desert you never gonna make you cry never gonna say goodbye never gonna tell a lie and hurt you never known each other for so you feeling gonna been aching but youre too shy to see never and gonna both know whats been going\n"
          ]
        },
        {
          "output_type": "stream",
          "name": "stderr",
          "text": [
            " 66%|██████▌   | 66/100 [00:02<00:01, 33.65it/s]"
          ]
        },
        {
          "output_type": "stream",
          "name": "stdout",
          "text": [
            "Generated Song:\n",
            "\n",
            "\n",
            " never never how strangers to love you know the rules and were you weve a full commitments what im thinking tell gonna make you this never other other guy i been been tell know how im feeling gotta make you goodbye gonna gonna let you up never gonna let you down never gonna run around and desert you never gonna make you cry never gonna say goodbye never gonna tell a lie and hurt you never known each other for so you feeling to been aching but youre too shy to see never never we both know whats been going\n"
          ]
        },
        {
          "output_type": "stream",
          "name": "stderr",
          "text": [
            " 78%|███████▊  | 78/100 [00:03<00:00, 34.56it/s]"
          ]
        },
        {
          "output_type": "stream",
          "name": "stdout",
          "text": [
            "Generated Song:\n",
            "\n",
            "\n",
            " never never no strangers to love you know the rules and were you weve a full commitments what im thinking tell gonna make you this never any other guy i been been tell know how im feeling gotta make you goodbye gonna gonna let you up never gonna let you down never gonna run around and desert you never gonna make you cry never gonna say goodbye never gonna tell a lie and hurt you never known each other for so you feeling to been aching but youre too shy to see never never we both know whats been going\n"
          ]
        },
        {
          "output_type": "stream",
          "name": "stderr",
          "text": [
            " 86%|████████▌ | 86/100 [00:03<00:00, 34.72it/s]"
          ]
        },
        {
          "output_type": "stream",
          "name": "stdout",
          "text": [
            "Generated Song:\n",
            "\n",
            "\n",
            " never are no strangers to love you know the rules and were you weve a full commitments what im thinking tell gonna make you this from any other guy i been been tell know how im feeling gotta make you goodbye gonna gonna let you up never gonna let you down never gonna run around and desert you never gonna make you cry never gonna say goodbye never gonna tell a lie and hurt you never known each other for so you feeling to been aching but youre too shy to see never never we both know whats been going\n"
          ]
        },
        {
          "output_type": "stream",
          "name": "stderr",
          "text": [
            " 98%|█████████▊| 98/100 [00:03<00:00, 33.82it/s]"
          ]
        },
        {
          "output_type": "stream",
          "name": "stdout",
          "text": [
            "Generated Song:\n",
            "\n",
            "\n",
            " never are no strangers to love you know the rules and were you weve a full commitments what im thinking tell gonna make you this from any other guy i been been tell know how im feeling gotta make you goodbye im gonna let you up never gonna let you down never gonna run around and desert you never gonna make you cry never gonna say goodbye never gonna tell a lie and hurt you never known each other for so you feeling to been aching but youre too shy to see never never we both know whats been going\n"
          ]
        },
        {
          "output_type": "stream",
          "name": "stderr",
          "text": [
            "\r100%|██████████| 100/100 [00:03<00:00, 27.11it/s]\n"
          ]
        }
      ]
    },
    {
      "cell_type": "code",
      "source": [
        "X = model_4.embeddings.weight.cpu().detach().numpy()\n",
        "tsne = TSNE(n_components=2, random_state=42)\n",
        "X_2d = tsne.fit_transform(X)\n",
        "\n",
        "labels = []\n",
        "\n",
        "for j in range(len(X_2d)):\n",
        "    if j < 20:\n",
        "        plt.scatter(X_2d[j, 0], X_2d[j, 1], label=index_to_token[j])\n",
        "        labels.append(index_to_token[j])\n",
        "        # Add words as annotations\n",
        "        plt.annotate(index_to_token[j],\n",
        "                     (X_2d[j, 0], X_2d[j, 1]),\n",
        "                     textcoords=\"offset points\",\n",
        "                     xytext=(0, 10),\n",
        "                     ha='center')\n",
        "    else:\n",
        "        plt.scatter(X_2d[j, 0], X_2d[j, 1])\n",
        "\n",
        "plt.legend(labels, loc='upper left', bbox_to_anchor=(1, 1))\n",
        "plt.show()"
      ],
      "metadata": {
        "colab": {
          "base_uri": "https://localhost:8080/",
          "height": 467
        },
        "id": "I_LuXotfH9Bz",
        "outputId": "4011fe75-fd90-4381-bc32-fef3f008d729"
      },
      "execution_count": 94,
      "outputs": [
        {
          "output_type": "display_data",
          "data": {
            "text/plain": [
              "<Figure size 640x480 with 1 Axes>"
            ],
            "image/png": "[encoded data removed]"
          },
          "metadata": {}
        }
      ]
    },
    {
      "cell_type": "code",
      "source": [
        "# Repeat process for context of eight\n",
        "CONTEXT_SIZE=8\n",
        "model_8 = NGramLanguageModeler(len(vocab), EMBEDDING_DIM, CONTEXT_SIZE).to(device)\n",
        "optimizer = optim.SGD(model_8.parameters(), lr=0.01)\n",
        "\n",
        "scheduler = torch.optim.lr_scheduler.StepLR(optimizer, 1.0, gamma=0.1)\n",
        "my_loss=train(dataloader,model_8)\n",
        "\n",
        "save_path = '8gram.pth'\n",
        "torch.save(model_8.state_dict(), save_path)\n",
        "\n",
        "my_loss_list.append(my_loss)"
      ],
      "metadata": {
        "colab": {
          "base_uri": "https://localhost:8080/"
        },
        "id": "zDa5-tVFIBpm",
        "outputId": "50ec8e7e-7bbd-4e3d-c056-f542874db3ef"
      },
      "execution_count": 95,
      "outputs": [
        {
          "output_type": "stream",
          "name": "stderr",
          "text": [
            "  4%|▍         | 4/100 [00:00<00:02, 33.87it/s]"
          ]
        },
        {
          "output_type": "stream",
          "name": "stdout",
          "text": [
            "Generated Song:\n",
            "\n",
            "\n",
            " you you hurt you you you you you you you you you you you you wouldnt you you gotta you you the you you you you you you you you so you wouldnt you you you you you you you you you you aching you you gotta you a you you you you rules you you gotta you you gonna you you you you you a you you gotta you you you you you game you you you you you you gotta you you you get each you you game you make get you you you you you you the\n"
          ]
        },
        {
          "output_type": "stream",
          "name": "stderr",
          "text": [
            " 14%|█▍        | 14/100 [00:00<00:03, 22.00it/s]"
          ]
        },
        {
          "output_type": "stream",
          "name": "stdout",
          "text": [
            "Generated Song:\n",
            "\n",
            "\n",
            " never you make you you you you you you rules gonna tell never gonna you you you you you you you make you gonna you you you you gonna i gonna gonna tell you gonna you you never make you gonna you gonna you you you gonna tell let you down never gonna never around down gonna tell never gonna make you down never gonna never you you gonna tell a you never gonna you never you you you for so gonna gonna tell you gonna tell you gonna shy to make never you you you gonna you been going\n"
          ]
        },
        {
          "output_type": "stream",
          "name": "stderr",
          "text": [
            " 21%|██        | 21/100 [00:01<00:08,  9.56it/s]"
          ]
        },
        {
          "output_type": "stream",
          "name": "stdout",
          "text": [
            "Generated Song:\n",
            "\n",
            "\n",
            " never you make you up love you you the rules gonna down never gonna you i you i im thinking you make you tell you never you you guy i gonna gonna tell you gonna it you never make you gonna never gonna you you and gonna tell let you down never gonna run around and gonna tell never gonna make you down never gonna say around and gonna tell a lie never hurt you never you make other for so gonna tell tell you gonna down you too shy to make going i give you shy you been going\n"
          ]
        },
        {
          "output_type": "stream",
          "name": "stderr",
          "text": [
            " 35%|███▌      | 35/100 [00:02<00:03, 17.28it/s]"
          ]
        },
        {
          "output_type": "stream",
          "name": "stdout",
          "text": [
            "Generated Song:\n",
            "\n",
            "\n",
            " never you make you up love you you the rules gonna down never gonna you i you i im thinking you make you tell you never you you guy i gonna gonna tell you gonna too you never make you gonna never gonna say you and gonna tell let you down never gonna run around and gonna tell never gonna make you up never gonna say around and gonna tell a lie never hurt you never you to other for so gonna tell tell you gonna down you too shy to make going on give you shy you been going\n"
          ]
        },
        {
          "output_type": "stream",
          "name": "stderr",
          "text": [
            " 44%|████▍     | 44/100 [00:02<00:02, 20.87it/s]"
          ]
        },
        {
          "output_type": "stream",
          "name": "stdout",
          "text": [
            "Generated Song:\n",
            "\n",
            "\n",
            " never you make you up love you you the rules gonna down never play you i you i im thinking you make you tell you never hurt you guy i gonna been tell you gonna too you never make you gonna never gonna say you and gonna tell let you down never gonna run around and gonna tell never gonna make you up never gonna say around and gonna tell a lie never hurt you never you to other for so gonna tell tell you gonna down you too shy to make going on give you shy you been going\n"
          ]
        },
        {
          "output_type": "stream",
          "name": "stderr",
          "text": [
            " 53%|█████▎    | 53/100 [00:03<00:02, 20.47it/s]"
          ]
        },
        {
          "output_type": "stream",
          "name": "stdout",
          "text": [
            "Generated Song:\n",
            "\n",
            "\n",
            " never you make you up love you you the rules gonna down never play you i you i im thinking you make you tell you never hurt you guy i gonna been thinking you gonna too you dont make you gonna never gonna say you and gonna tell let you down never gonna run around and gonna tell never gonna make you up never gonna say around and gonna tell a lie never hurt you never you to other for so gonna tell tell you gonna down you too shy to make going on give you shy you been going\n"
          ]
        },
        {
          "output_type": "stream",
          "name": "stderr",
          "text": [
            " 66%|██████▌   | 66/100 [00:03<00:01, 25.69it/s]"
          ]
        },
        {
          "output_type": "stream",
          "name": "stdout",
          "text": [
            "Generated Song:\n",
            "\n",
            "\n",
            " never you make you up love you you the rules gonna down never play you i you i im thinking you make you tell you never hurt you guy i gonna too thinking you gonna too you dont make you gonna never gonna say you and gonna tell let you down never gonna run around and gonna tell never gonna make you up never gonna say around and gonna tell a lie never hurt you never you to other for so gonna tell tell you gonna down you too shy to other going on give you shy you been going\n"
          ]
        },
        {
          "output_type": "stream",
          "name": "stderr",
          "text": [
            " 78%|███████▊  | 78/100 [00:04<00:00, 32.29it/s]"
          ]
        },
        {
          "output_type": "stream",
          "name": "stdout",
          "text": [
            "Generated Song:\n",
            "\n",
            "\n",
            " never you make you up love you you the rules gonna down never play you i you i im thinking you make you tell you never hurt you guy i gonna too thinking you gonna too you dont make you gonna never gonna say you and gonna tell let you down never gonna run around and gonna tell never gonna make you up never gonna say around and gonna tell a lie never hurt you never you to other for so gonna tell tell you gonna down you too shy to other going on give you shy you been going\n"
          ]
        },
        {
          "output_type": "stream",
          "name": "stderr",
          "text": [
            " 86%|████████▌ | 86/100 [00:04<00:00, 32.49it/s]"
          ]
        },
        {
          "output_type": "stream",
          "name": "stdout",
          "text": [
            "Generated Song:\n",
            "\n",
            "\n",
            " never you make you up love you you the rules gonna down never play you i you hurt im thinking you make you tell you never hurt you guy i been too thinking you gonna too you dont make you gonna never gonna say you and gonna tell let you down never gonna run around and gonna tell never gonna make you up never gonna say around and gonna tell a lie never hurt you never you to other for so gonna tell tell you gonna down you too shy to other going on give you shy you been going\n"
          ]
        },
        {
          "output_type": "stream",
          "name": "stderr",
          "text": [
            " 98%|█████████▊| 98/100 [00:04<00:00, 34.42it/s]"
          ]
        },
        {
          "output_type": "stream",
          "name": "stdout",
          "text": [
            "Generated Song:\n",
            "\n",
            "\n",
            " never you make you up love you you the rules gonna down never play you i you hurt im thinking you make you tell you never hurt you guy i been too thinking for gonna too you dont make you gonna never gonna say you and gonna tell let you down never gonna run around and gonna tell never gonna make you up never gonna say around and gonna tell a lie never hurt you never you to other for so gonna tell tell you gonna down you too shy to other going on give you shy you been going\n"
          ]
        },
        {
          "output_type": "stream",
          "name": "stderr",
          "text": [
            "\r100%|██████████| 100/100 [00:04<00:00, 20.88it/s]\n"
          ]
        }
      ]
    },
    {
      "cell_type": "code",
      "source": [
        "# 1. show word embeddings from the created model\n",
        "# 2. reduce their dimensionality to 2D using t-SNE\n",
        "# 3. plot embeddings as a scatter plot\n",
        "# 4. annotate first 20 points with corresponding words\n",
        "X = model_8.embeddings.weight.cpu().detach().numpy()\n",
        "tsne = TSNE(n_components=2, random_state=42)\n",
        "X_2d = tsne.fit_transform(X)\n",
        "\n",
        "labels = []\n",
        "\n",
        "for j in range(len(X_2d)):\n",
        "    if j < 20:\n",
        "        plt.scatter(X_2d[j, 0], X_2d[j, 1], label=index_to_token[j])\n",
        "        labels.append(index_to_token[j])\n",
        "        # Add words as annotations\n",
        "        plt.annotate(index_to_token[j],\n",
        "                     (X_2d[j, 0], X_2d[j, 1]),\n",
        "                     textcoords=\"offset points\",\n",
        "                     xytext=(0, 10),\n",
        "                     ha='center')\n",
        "    else:\n",
        "        plt.scatter(X_2d[j, 0], X_2d[j, 1])\n",
        "\n",
        "plt.legend(labels, loc='upper left', bbox_to_anchor=(1, 1))\n",
        "plt.show()"
      ],
      "metadata": {
        "colab": {
          "base_uri": "https://localhost:8080/",
          "height": 467
        },
        "id": "Vj6QLIMUILG3",
        "outputId": "13a1c596-bc56-4195-9a8a-c01b51cd3b89"
      },
      "execution_count": 96,
      "outputs": [
        {
          "output_type": "display_data",
          "data": {
            "text/plain": [
              "<Figure size 640x480 with 1 Axes>"
            ],
            "image/png": "[encoded data removed]"
          },
          "metadata": {}
        }
      ]
    },
    {
      "cell_type": "code",
      "source": [
        "for (my_loss, model_name)in zip(my_loss_list,[\"2-gram\",\"4-gram\",\"8-gram\"]):\n",
        "    plt.plot(my_loss,label=\"Cross-entropy Loss - {}\".format(model_name))\n",
        "    plt.legend()"
      ],
      "metadata": {
        "colab": {
          "base_uri": "https://localhost:8080/",
          "height": 430
        },
        "id": "QFgR9K6ZIMwJ",
        "outputId": "56cfc913-2736-4b84-a3ce-1abf10ce2fa2"
      },
      "execution_count": 97,
      "outputs": [
        {
          "output_type": "display_data",
          "data": {
            "text/plain": [
              "<Figure size 640x480 with 1 Axes>"
            ],
            "image/png": "[encoded data removed]"
          },
          "metadata": {}
        }
      ]
    },
    {
      "cell_type": "markdown",
      "source": [
        "## Perplexity\n",
        "\n",
        "Perplexity is a measurement used to evaluate the effectiveness of language models or probability models.  It is derived from the concept of cross-entropy loss, which measures the dissimilarity between predicted probabilities and actual probabilities.\n",
        "\n",
        "$$\\text{Cross-Entropy Loss} = -\\sum_{i=1}^{N} y_i \\ln(p_i)$$\n",
        "\n",
        "$$\\text{Perplexity} = e^{\\frac{1}{N} \\text{Cross-Entropy Loss}}$$\n",
        "\n",
        "Lower perplexity indicates more accurate model predictions.\n",
        "\n",
        "Perplexity can be seen as an estimate of the average number of choices the model has for the next word or event in a sequence."
      ],
      "metadata": {
        "id": "vuCq50N-IvTf"
      }
    },
    {
      "cell_type": "code",
      "source": [
        "for (my_loss, model_name)in zip(my_loss_list,[\"2-gram\",\"4-gram\",\"8-gram\"]):\n",
        "    import numpy as np\n",
        "\n",
        "    # Calculate perplexity using the loss\n",
        "    perplexity = np.exp(my_loss)\n",
        "    plt.plot(perplexity,label=\"Perplexity - {}\".format(model_name))\n",
        "    plt.legend()"
      ],
      "metadata": {
        "id": "5CqSPMrnIsB-",
        "outputId": "c72f34a2-bc89-4d5d-a2dc-e6f12dc9a1a6",
        "colab": {
          "base_uri": "https://localhost:8080/",
          "height": 430
        }
      },
      "execution_count": 99,
      "outputs": [
        {
          "output_type": "display_data",
          "data": {
            "text/plain": [
              "<Figure size 640x480 with 1 Axes>"
            ],
            "image/png": "[encoded data removed]"
          },
          "metadata": {}
        }
      ]
    },
    {
      "cell_type": "markdown",
      "source": [
        "# Exercises"
      ],
      "metadata": {
        "id": "HBU4LmeYJd8A"
      }
    },
    {
      "cell_type": "code",
      "source": [
        "# Source a collection of nursery rhymes and compile them into a single text variable\n",
        "nursery_rhymes = \"\"\"\n",
        "Little Miss Muffet\n",
        "Sat on a tuffet,\n",
        "Eating her curds and whey;\n",
        "Along came a spider\n",
        "Who sat down beside her\n",
        "And frightened Miss Muffet away.\n",
        "\n",
        "Twinkle, twinkle, little star,\n",
        "How I wonder what you are!\n",
        "Up above the world so high,\n",
        "Like a diamond in the sky.\n",
        "\n",
        "Baa, baa, black sheep,\n",
        "Have you any wool?\n",
        "Yes sir, yes sir,\n",
        "Three bags full.\n",
        "\n",
        "Jack and Jill went up the hill\n",
        "To fetch a pail of water.\n",
        "Jack fell down and broke his crown,\n",
        "And Jill came tumbling after.\n",
        "\n",
        "Hickory dickory dock,\n",
        "The mouse ran up the clock.\n",
        "The clock struck one,\n",
        "The mouse ran down,\n",
        "Hickory dickory dock.\n",
        "\n",
        "Humpty Dumpty sat on a wall,\n",
        "Humpty Dumpty had a great fall.\n",
        "All the king's horses and all the king's men\n",
        "Couldn't put Humpty together again.\n",
        "\n",
        "Mary had a little lamb,\n",
        "Its fleece was white as snow;\n",
        "And everywhere that Mary went,\n",
        "The lamb was sure to go.\n",
        "\n",
        "Old MacDonald had a farm,\n",
        "E-I-E-I-O,\n",
        "And on his farm he had a cow,\n",
        "E-I-E-I-O.\n",
        "\n",
        "Itsy Bitsy Spider climbed up the waterspout.\n",
        "Down came the rain and washed the spider out.\n",
        "Out came the sun and dried up all the rain,\n",
        "And the Itsy Bitsy Spider climbed up the spout again.\n",
        "\n",
        "The wheels on the bus go round and round,\n",
        "Round and round,\n",
        "Round and round.\n",
        "The wheels on the bus go round and round,\n",
        "All through the town.\n",
        "\n",
        "\"\"\""
      ],
      "metadata": {
        "id": "k01iBPoPJWJZ"
      },
      "execution_count": 100,
      "outputs": []
    },
    {
      "cell_type": "code",
      "source": [
        "# Preprocess the text data to tokenize and create n-grams\n",
        "N=2\n",
        "tokens = preprocess(nursery_rhymes)\n",
        "ngrams = list(nltk.ngrams(tokens, N))"
      ],
      "metadata": {
        "id": "KKWJ0aSoJnCp"
      },
      "execution_count": 103,
      "outputs": []
    },
    {
      "cell_type": "code",
      "source": [
        "tokenized_rhymes = map(tokenizer, nursery_rhymes.split())\n",
        "vocab = build_vocab_from_iterator(tokenized_rhymes, specials=[\"<unk>\"])\n",
        "vocab.set_default_index(vocab[\"<unk>\"])\n",
        "index_to_token = vocab.get_itos()"
      ],
      "metadata": {
        "id": "s-i0RDybMd_E"
      },
      "execution_count": 119,
      "outputs": []
    },
    {
      "cell_type": "code",
      "source": [
        "Padding=BATCH_SIZE-len(tokens)%BATCH_SIZE\n",
        "tokens_pad=tokens+tokens[0:Padding]\n",
        "dataloader = DataLoader(\n",
        "     tokens_pad, batch_size=BATCH_SIZE, shuffle=False, collate_fn=collate_batch\n",
        ")"
      ],
      "metadata": {
        "id": "s4xOYUYOMtfT"
      },
      "execution_count": 120,
      "outputs": []
    },
    {
      "cell_type": "code",
      "source": [
        "# Train an N-gram language model using the provided code structure\n",
        "model = NGramLanguageModeler(len(vocab), EMBEDDING_DIM, CONTEXT_SIZE).to(device)\n",
        "optimizer = optim.SGD(model.parameters(), lr=0.01)\n",
        "scheduler = torch.optim.lr_scheduler.StepLR(optimizer, 1.0, gamma=0.1)\n",
        "loss_history = train(dataloader, model)"
      ],
      "metadata": {
        "id": "SalcBUEDJtrt",
        "outputId": "39d1a428-5139-4287-ccfd-1cc6f29e3854",
        "colab": {
          "base_uri": "https://localhost:8080/"
        }
      },
      "execution_count": 121,
      "outputs": [
        {
          "output_type": "stream",
          "name": "stderr",
          "text": [
            " 10%|█         | 10/100 [00:00<00:01, 47.21it/s]"
          ]
        },
        {
          "output_type": "stream",
          "name": "stdout",
          "text": [
            "Generated Song:\n",
            "\n",
            "\n",
            " wool came full bus sun after after diamond farm the bus . white sir s dumpty after after sun fell fell the sun washed diamond wall together what beside came tumbling s fell like after sun sir have came tumbling out wall along so little bus along cow sun in tumbling eating you what like s bus together fell wool had wool . tumbling s wool . clock you sun . diamond after everywhere so any s sun humpty tumbling after after diamond sir fell . wheels cow like waterspout hickory town sun town in came sun . bus after\n"
          ]
        },
        {
          "output_type": "stream",
          "name": "stderr",
          "text": [
            " 21%|██        | 21/100 [00:00<00:01, 47.67it/s]"
          ]
        },
        {
          "output_type": "stream",
          "name": "stdout",
          "text": [
            "Generated Song:\n",
            "\n",
            "\n",
            " the the the the the the the the the the round the the the the the the the the beside the the the the the the out the little the the the the the the the the the the world the the the the the the the the the the the the the the the the the the the sir the the the and down the the the the the the the the the round the s little down and the the the the the the little the the the the the the the the the the the the struck\n",
            "Generated Song:\n",
            "\n",
            "\n",
            " little miss the sir round the little the her curds round round the baa down little little up down beside down the round round round the out the little star her down the rain the little a the the world baa the baa out the baa the the baa baa the the s the the s the the yes sir and again round and down the down baa the hill down the the a round little s and down and the the great the round little round the hickory dickory the the the he the the the down clock struck\n"
          ]
        },
        {
          "output_type": "stream",
          "name": "stderr",
          "text": [
            " 38%|███▊      | 38/100 [00:00<00:01, 50.68it/s]"
          ]
        },
        {
          "output_type": "stream",
          "name": "stdout",
          "text": [
            "Generated Song:\n",
            "\n",
            "\n",
            " little miss the sir round the little star her curds round round the baa down little little up down beside down and round round round the out the little star her down little rain the little a the the world baa curds spider out the had the the baa baa the the s the baa s little the yes sir and everywhere round everywhere down the down baa the hill baa little the a round king s and down and clock the great the hickory little round the hickory dickory the the the he the the the down clock struck\n",
            "Generated Song:\n",
            "\n",
            "\n",
            " little miss the sir round the little star her curds round round the baa down bus little up down beside down and round round king the out the little star her down little rain the little a the the world baa curds spider out the had the the baa baa the round s the baa s little the yes sir and everywhere curds everywhere down the down baa the hill baa little the everywhere round king s and down and clock the great the yes little round the hickory dickory great the the he the the the down clock struck\n"
          ]
        },
        {
          "output_type": "stream",
          "name": "stderr",
          "text": [
            " 60%|██████    | 60/100 [00:01<00:00, 49.02it/s]"
          ]
        },
        {
          "output_type": "stream",
          "name": "stdout",
          "text": [
            "Generated Song:\n",
            "\n",
            "\n",
            " little miss the sir round the little star her curds round round the baa down bus little up down beside down and round round king the out the little star her down out rain the little a the the world baa curds spider out the had the the baa baa the round s the baa s little the yes sir and everywhere curds everywhere down the down baa the hill baa little the everywhere round king s and down and clock the great the yes little round the hickory dickory great the the he the the the down clock struck\n"
          ]
        },
        {
          "output_type": "stream",
          "name": "stderr",
          "text": [
            "\r 65%|██████▌   | 65/100 [00:01<00:00, 48.32it/s]"
          ]
        },
        {
          "output_type": "stream",
          "name": "stdout",
          "text": [
            "Generated Song:\n",
            "\n",
            "\n",
            " little miss the sir round the little star her curds round round the baa down bus little up down beside down and round round king the out the little star her down out rain the little a the the world baa curds spider out the had the the baa baa the round s the baa s little the yes sir and everywhere curds everywhere down the down baa the hill baa little the everywhere round king s and down and clock dumpty great the yes little round the hickory dickory great the the he the the the down clock struck\n"
          ]
        },
        {
          "output_type": "stream",
          "name": "stderr",
          "text": [
            " 76%|███████▌  | 76/100 [00:01<00:00, 42.47it/s]"
          ]
        },
        {
          "output_type": "stream",
          "name": "stdout",
          "text": [
            "Generated Song:\n",
            "\n",
            "\n",
            " little miss the sir round the little star her curds round round the baa down bus little up down beside down and round round king the out the little star her down out rain the little a the the world her curds spider out the had the the baa baa the round s great baa s little the yes sir and everywhere curds everywhere down everywhere down baa the hill baa little the everywhere round king s and down and clock dumpty great the yes little round the hickory dickory great the the he the the the down clock struck\n"
          ]
        },
        {
          "output_type": "stream",
          "name": "stderr",
          "text": [
            " 86%|████████▌ | 86/100 [00:01<00:00, 39.35it/s]"
          ]
        },
        {
          "output_type": "stream",
          "name": "stdout",
          "text": [
            "Generated Song:\n",
            "\n",
            "\n",
            " little miss the sir round the little star her curds round round the baa down bus little up down beside down and round round king the out the little star her down out rain the little a the the world her curds spider out the had the the baa baa the round s great baa s little the yes sir and everywhere curds everywhere down everywhere down baa the hill baa little the everywhere round king s and down and clock dumpty great the yes little round the hickory dickory great the the he the the the down clock struck\n"
          ]
        },
        {
          "output_type": "stream",
          "name": "stderr",
          "text": [
            " 98%|█████████▊| 98/100 [00:02<00:00, 38.06it/s]"
          ]
        },
        {
          "output_type": "stream",
          "name": "stdout",
          "text": [
            "Generated Song:\n",
            "\n",
            "\n",
            " little miss the sir round the little star her curds round round the baa down bus little up down beside down and round round king the out the little star her down out rain the little a the the world her curds spider out the had the the baa baa the round s great baa s little the yes sir and everywhere curds everywhere down everywhere down baa the hill baa little the everywhere round king s and down and clock dumpty great the yes little round the hickory dickory great the the he the the the down clock struck\n"
          ]
        },
        {
          "output_type": "stream",
          "name": "stderr",
          "text": [
            "\r100%|██████████| 100/100 [00:02<00:00, 43.76it/s]\n"
          ]
        }
      ]
    },
    {
      "cell_type": "code",
      "source": [
        "generated_rhyme = write_song(model)\n",
        "print(generated_rhyme)"
      ],
      "metadata": {
        "id": "d646m9KQKAU7",
        "outputId": "f10fbc1d-3d7c-4cb9-c705-6af5c4e28f83",
        "colab": {
          "base_uri": "https://localhost:8080/"
        }
      },
      "execution_count": 122,
      "outputs": [
        {
          "output_type": "stream",
          "name": "stdout",
          "text": [
            " little miss the sir round the little star her curds round round the baa down bus little up down beside down and round round king the out the little star her down out rain the little a the the world her curds spider out the had the the baa baa the round s great baa s little the yes sir and everywhere curds everywhere down everywhere down baa the hill baa little the everywhere round king s and down and clock dumpty great the yes little round the hickory dickory great the the he the the the down clock struck\n"
          ]
        }
      ]
    }
  ],
  "metadata": {
    "kernelspec": {
      "display_name": ".venv",
      "language": "python",
      "name": "python3"
    },
    "language_info": {
      "codemirror_mode": {
        "name": "ipython",
        "version": 3
      },
      "file_extension": ".py",
      "mimetype": "text/x-python",
      "name": "python",
      "nbconvert_exporter": "python",
      "pygments_lexer": "ipython3",
      "version": "3.13.2"
    },
    "colab": {
      "provenance": [],
      "include_colab_link": true
    }
  },
  "nbformat": 4,
  "nbformat_minor": 0
}