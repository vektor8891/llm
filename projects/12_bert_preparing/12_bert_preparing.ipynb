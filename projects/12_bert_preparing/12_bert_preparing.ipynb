{
  "cells": [
    {
      "cell_type": "markdown",
      "metadata": {
        "id": "view-in-github",
        "colab_type": "text"
      },
      "source": [
        "<a href=\"https://colab.research.google.com/github/vektor8891/llm/blob/main/projects/12_bert_preparing/12_bert_preparing.ipynb\" target=\"_parent\"><img src=\"https://colab.research.google.com/assets/colab-badge.svg\" alt=\"Open In Colab\"/></a>"
      ]
    },
    {
      "cell_type": "markdown",
      "source": [
        "# Data Loading and Text Processing for BERT\n",
        "\n",
        "## Tokenization and vocabulary building\n",
        "\n",
        "### Tokenization\n",
        "\n",
        "Components:\n",
        "\n",
        "- `tokenizer`: tokenizes text\n",
        "- `yield_tokens`: generator function that iterates through the data\n",
        "- `word_dict`: defines special tokens used in text processing, such as padding `[PAD]`, class `[CLS]`, separator `[SEP]`, mask `[MASK]`, and unknown `[UNK]`\n",
        "- `text_to_index`: converts text into a list of numerical indices based on the vocabulary\n",
        "- `index_to_en`: translates sequence of indices back into readable English text.\n",
        "\n",
        "Special tokens:\n",
        "\n",
        "- **`CLS` (Classification Token)**: Start of Sentence (SOS) marker\n",
        "- **`SEP` (Separator Token)**: End of Sentence (EOS) marker\n",
        "- **`PAD` (Padding Token)**: added to sequences to ensure all inputs are of equal length\n",
        "- **`MASK` (Masked Token)**: Utilized masked language modeling\n",
        "- **`UNK` (Unknown Token)**: placeholder for unknown words"
      ],
      "metadata": {
        "id": "E4TPkKxyDCS-"
      },
      "id": "E4TPkKxyDCS-"
    },
    {
      "cell_type": "code",
      "execution_count": null,
      "id": "7217d6ec",
      "metadata": {
        "id": "7217d6ec"
      },
      "outputs": [],
      "source": [
        "print(4)"
      ]
    }
  ],
  "metadata": {
    "language_info": {
      "name": "python"
    },
    "colab": {
      "provenance": [],
      "include_colab_link": true
    }
  },
  "nbformat": 4,
  "nbformat_minor": 5
}