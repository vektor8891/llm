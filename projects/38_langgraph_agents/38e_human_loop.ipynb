{
 "cells": [
  {
   "cell_type": "markdown",
   "id": "8ad976db-fb87-4a92-b0d2-06defc098339",
   "metadata": {},
   "source": [
    "# Lesson 5: Human in the Loop"
   ]
  },
  {
   "cell_type": "markdown",
   "id": "91d756c3-9c97-4155-9b56-8ecfed5f1876",
   "metadata": {},
   "source": [
    "Note: This notebook is running in a later version of langgraph that it was filmed with. The later version has a couple of key additions:\n",
    "- Additional state information is stored to memory and displayed when using `get_state()` or `get_state_history()`.\n",
    "- State is additionally stored every state transition while previously it was stored at an interrupt or at the end.\n",
    "These change the command output slightly, but are a useful addtion to the information available."
   ]
  },
  {
   "cell_type": "code",
   "execution_count": 1,
   "id": "f5762271-8736-4e94-9444-8c92bd0e8074",
   "metadata": {
    "height": 64
   },
   "outputs": [],
   "source": [
    "from dotenv import load_dotenv\n",
    "\n",
    "_ = load_dotenv()"
   ]
  },
  {
   "cell_type": "code",
   "execution_count": 2,
   "id": "d0168aee-bce9-4d60-b827-f86a88187e31",
   "metadata": {
    "height": 166
   },
   "outputs": [],
   "source": [
    "from langgraph.graph import StateGraph, END\n",
    "from typing import TypedDict, Annotated\n",
    "import operator\n",
    "from langchain_core.messages import AnyMessage, SystemMessage, HumanMessage, ToolMessage\n",
    "from langchain_openai import ChatOpenAI\n",
    "from langchain_community.tools.tavily_search import TavilySearchResults\n",
    "from langgraph.checkpoint.sqlite import SqliteSaver\n",
    "import sqlite3\n",
    "\n",
    "conn = sqlite3.connect(\":memory:\", check_same_thread=False)\n",
    "memory = SqliteSaver(conn)"
   ]
  },
  {
   "cell_type": "code",
   "execution_count": 3,
   "id": "2589c5b6-6cc2-4594-9a17-dccdcf676054",
   "metadata": {
    "height": 557
   },
   "outputs": [],
   "source": [
    "from uuid import uuid4\n",
    "from langchain_core.messages import AnyMessage, SystemMessage, HumanMessage, AIMessage\n",
    "\n",
    "\"\"\"\n",
    "In previous examples we've annotated the `messages` state key\n",
    "with the default `operator.add` or `+` reducer, which always\n",
    "appends new messages to the end of the existing messages array.\n",
    "\n",
    "Now, to support replacing existing messages, we annotate the\n",
    "`messages` key with a customer reducer function, which replaces\n",
    "messages with the same `id`, and appends them otherwise.\n",
    "\"\"\"\n",
    "def reduce_messages(left: list[AnyMessage], right: list[AnyMessage]) -> list[AnyMessage]:\n",
    "    # assign ids to messages that don't have them\n",
    "    for message in right:\n",
    "        if not message.id:\n",
    "            message.id = str(uuid4())\n",
    "    # merge the new messages with the existing messages\n",
    "    merged = left.copy()\n",
    "    for message in right:\n",
    "        for i, existing in enumerate(merged):\n",
    "            # replace any existing messages with the same id\n",
    "            if existing.id == message.id:\n",
    "                merged[i] = message\n",
    "                break\n",
    "        else:\n",
    "            # append any new messages to the end\n",
    "            merged.append(message)\n",
    "    return merged\n",
    "\n",
    "class AgentState(TypedDict):\n",
    "    messages: Annotated[list[AnyMessage], reduce_messages]"
   ]
  },
  {
   "cell_type": "code",
   "execution_count": 4,
   "id": "a2ba84ec-c172-4de7-ac55-e3158a531b23",
   "metadata": {
    "height": 30
   },
   "outputs": [
    {
     "name": "stderr",
     "output_type": "stream",
     "text": [
      "/var/folders/xf/7hwvtm5j57s6dtr8_dq1g97m0000gn/T/ipykernel_96902/4289725543.py:1: LangChainDeprecationWarning: The class `TavilySearchResults` was deprecated in LangChain 0.3.25 and will be removed in 1.0. An updated version of the class exists in the :class:`~langchain-tavily package and should be used instead. To use it run `pip install -U :class:`~langchain-tavily` and import as `from :class:`~langchain_tavily import TavilySearch``.\n",
      "  tool = TavilySearchResults(max_results=2)\n"
     ]
    }
   ],
   "source": [
    "tool = TavilySearchResults(max_results=2)"
   ]
  },
  {
   "cell_type": "markdown",
   "id": "d58320dc-c542-4a3c-bcf1-088909f9b075",
   "metadata": {},
   "source": [
    "## Manual human approval"
   ]
  },
  {
   "cell_type": "code",
   "execution_count": 5,
   "id": "46a0e94e-d015-4106-b439-dbcd2fcb8bb0",
   "metadata": {
    "height": 642
   },
   "outputs": [],
   "source": [
    "class Agent:\n",
    "    def __init__(self, model, tools, system=\"\", checkpointer=None):\n",
    "        self.system = system\n",
    "        graph = StateGraph(AgentState)\n",
    "        graph.add_node(\"llm\", self.call_openai)\n",
    "        graph.add_node(\"action\", self.take_action)\n",
    "        graph.add_conditional_edges(\"llm\", self.exists_action, {True: \"action\", False: END})\n",
    "        graph.add_edge(\"action\", \"llm\")\n",
    "        graph.set_entry_point(\"llm\")\n",
    "        self.graph = graph.compile(\n",
    "            checkpointer=checkpointer,\n",
    "            interrupt_before=[\"action\"]\n",
    "        )\n",
    "        self.tools = {t.name: t for t in tools}\n",
    "        self.model = model.bind_tools(tools)\n",
    "\n",
    "    def call_openai(self, state: AgentState):\n",
    "        messages = state['messages']\n",
    "        if self.system:\n",
    "            messages = [SystemMessage(content=self.system)] + messages\n",
    "        message = self.model.invoke(messages)\n",
    "        return {'messages': [message]}\n",
    "\n",
    "    def exists_action(self, state: AgentState):\n",
    "        print(state)\n",
    "        result = state['messages'][-1]\n",
    "        return len(result.tool_calls) > 0\n",
    "\n",
    "    def take_action(self, state: AgentState):\n",
    "        tool_calls = state['messages'][-1].tool_calls\n",
    "        results = []\n",
    "        for t in tool_calls:\n",
    "            print(f\"Calling: {t}\")\n",
    "            result = self.tools[t['name']].invoke(t['args'])\n",
    "            results.append(ToolMessage(tool_call_id=t['id'], name=t['name'], content=str(result)))\n",
    "        print(\"Back to the model!\")\n",
    "        return {'messages': results}"
   ]
  },
  {
   "cell_type": "code",
   "execution_count": 6,
   "id": "10084a02-2928-4945-9f7c-ad3f5b33caf7",
   "metadata": {
    "height": 132
   },
   "outputs": [],
   "source": [
    "prompt = \"\"\"You are a smart research assistant. Use the search engine to look up information. \\\n",
    "You are allowed to make multiple calls (either together or in sequence). \\\n",
    "Only look up information when you are sure of what you want. \\\n",
    "If you need to look up some information before asking a follow up question, you are allowed to do that!\n",
    "\"\"\"\n",
    "model = ChatOpenAI(model=\"gpt-3.5-turbo\")\n",
    "abot = Agent(model, [tool], system=prompt, checkpointer=memory)"
   ]
  },
  {
   "cell_type": "code",
   "execution_count": 7,
   "id": "714d1205-f8fc-4912-b148-2a45da99219c",
   "metadata": {
    "height": 98
   },
   "outputs": [
    {
     "name": "stdout",
     "output_type": "stream",
     "text": [
      "{'messages': [HumanMessage(content='Whats the weather in SF?', additional_kwargs={}, response_metadata={}, id='812343c2-a4e2-47c3-89a8-38043b550d90'), AIMessage(content='', additional_kwargs={'tool_calls': [{'id': 'call_8hed3PjdxD0p1snSAsdSzuiA', 'function': {'arguments': '{\"query\":\"current weather in San Francisco\"}', 'name': 'tavily_search_results_json'}, 'type': 'function'}], 'refusal': None}, response_metadata={'token_usage': {'completion_tokens': 22, 'prompt_tokens': 152, 'total_tokens': 174, 'completion_tokens_details': {'accepted_prediction_tokens': 0, 'audio_tokens': 0, 'reasoning_tokens': 0, 'rejected_prediction_tokens': 0}, 'prompt_tokens_details': {'audio_tokens': 0, 'cached_tokens': 0}}, 'model_name': 'gpt-3.5-turbo-0125', 'system_fingerprint': None, 'id': 'chatcmpl-BulNxwVqblFaIWI2nlkYc98JVx6cs', 'service_tier': 'default', 'finish_reason': 'tool_calls', 'logprobs': None}, id='run--586be969-8f6a-47f9-a44a-77ac3e9ac3ec-0', tool_calls=[{'name': 'tavily_search_results_json', 'args': {'query': 'current weather in San Francisco'}, 'id': 'call_8hed3PjdxD0p1snSAsdSzuiA', 'type': 'tool_call'}], usage_metadata={'input_tokens': 152, 'output_tokens': 22, 'total_tokens': 174, 'input_token_details': {'audio': 0, 'cache_read': 0}, 'output_token_details': {'audio': 0, 'reasoning': 0}})]}\n",
      "{'messages': [AIMessage(content='', additional_kwargs={'tool_calls': [{'id': 'call_8hed3PjdxD0p1snSAsdSzuiA', 'function': {'arguments': '{\"query\":\"current weather in San Francisco\"}', 'name': 'tavily_search_results_json'}, 'type': 'function'}], 'refusal': None}, response_metadata={'token_usage': {'completion_tokens': 22, 'prompt_tokens': 152, 'total_tokens': 174, 'completion_tokens_details': {'accepted_prediction_tokens': 0, 'audio_tokens': 0, 'reasoning_tokens': 0, 'rejected_prediction_tokens': 0}, 'prompt_tokens_details': {'audio_tokens': 0, 'cached_tokens': 0}}, 'model_name': 'gpt-3.5-turbo-0125', 'system_fingerprint': None, 'id': 'chatcmpl-BulNxwVqblFaIWI2nlkYc98JVx6cs', 'service_tier': 'default', 'finish_reason': 'tool_calls', 'logprobs': None}, id='run--586be969-8f6a-47f9-a44a-77ac3e9ac3ec-0', tool_calls=[{'name': 'tavily_search_results_json', 'args': {'query': 'current weather in San Francisco'}, 'id': 'call_8hed3PjdxD0p1snSAsdSzuiA', 'type': 'tool_call'}], usage_metadata={'input_tokens': 152, 'output_tokens': 22, 'total_tokens': 174, 'input_token_details': {'audio': 0, 'cache_read': 0}, 'output_token_details': {'audio': 0, 'reasoning': 0}})]}\n",
      "()\n"
     ]
    }
   ],
   "source": [
    "messages = [HumanMessage(content=\"Whats the weather in SF?\")]\n",
    "thread = {\"configurable\": {\"thread_id\": \"1\"}}\n",
    "for event in abot.graph.stream({\"messages\": messages}, thread):\n",
    "    for v in event.values():\n",
    "        print(v)"
   ]
  },
  {
   "cell_type": "code",
   "execution_count": 8,
   "id": "83588e70-254f-4f83-a510-c8ae81e729b0",
   "metadata": {
    "height": 30
   },
   "outputs": [
    {
     "data": {
      "text/plain": [
       "StateSnapshot(values={'messages': [HumanMessage(content='Whats the weather in SF?', additional_kwargs={}, response_metadata={}, id='812343c2-a4e2-47c3-89a8-38043b550d90'), AIMessage(content='', additional_kwargs={'tool_calls': [{'id': 'call_8hed3PjdxD0p1snSAsdSzuiA', 'function': {'arguments': '{\"query\":\"current weather in San Francisco\"}', 'name': 'tavily_search_results_json'}, 'type': 'function'}], 'refusal': None}, response_metadata={'token_usage': {'completion_tokens': 22, 'prompt_tokens': 152, 'total_tokens': 174, 'completion_tokens_details': {'accepted_prediction_tokens': 0, 'audio_tokens': 0, 'reasoning_tokens': 0, 'rejected_prediction_tokens': 0}, 'prompt_tokens_details': {'audio_tokens': 0, 'cached_tokens': 0}}, 'model_name': 'gpt-3.5-turbo-0125', 'system_fingerprint': None, 'id': 'chatcmpl-BulNxwVqblFaIWI2nlkYc98JVx6cs', 'service_tier': 'default', 'finish_reason': 'tool_calls', 'logprobs': None}, id='run--586be969-8f6a-47f9-a44a-77ac3e9ac3ec-0', tool_calls=[{'name': 'tavily_search_results_json', 'args': {'query': 'current weather in San Francisco'}, 'id': 'call_8hed3PjdxD0p1snSAsdSzuiA', 'type': 'tool_call'}], usage_metadata={'input_tokens': 152, 'output_tokens': 22, 'total_tokens': 174, 'input_token_details': {'audio': 0, 'cache_read': 0}, 'output_token_details': {'audio': 0, 'reasoning': 0}})]}, next=('action',), config={'configurable': {'thread_id': '1', 'checkpoint_ns': '', 'checkpoint_id': '1f064106-e6ab-6e16-8001-24659e6c2d39'}}, metadata={'source': 'loop', 'step': 1, 'parents': {}}, created_at='2025-07-18T19:50:18.322882+00:00', parent_config={'configurable': {'thread_id': '1', 'checkpoint_ns': '', 'checkpoint_id': '1f064106-dc6d-6526-8000-82dae0a485bf'}}, tasks=(PregelTask(id='e36d44fa-d557-798c-fe50-5f363ba55970', name='action', path=('__pregel_pull', 'action'), error=None, interrupts=(), state=None, result=None),), interrupts=())"
      ]
     },
     "execution_count": 8,
     "metadata": {},
     "output_type": "execute_result"
    }
   ],
   "source": [
    "abot.graph.get_state(thread)"
   ]
  },
  {
   "cell_type": "code",
   "execution_count": 9,
   "id": "6cb3ef4c-58b3-401b-b104-0d51e553d982",
   "metadata": {
    "height": 30
   },
   "outputs": [
    {
     "data": {
      "text/plain": [
       "('action',)"
      ]
     },
     "execution_count": 9,
     "metadata": {},
     "output_type": "execute_result"
    }
   ],
   "source": [
    "abot.graph.get_state(thread).next"
   ]
  },
  {
   "cell_type": "markdown",
   "id": "f1f404d5-a3be-42c1-9990-b1e1ee011163",
   "metadata": {},
   "source": [
    "### continue after interrupt"
   ]
  },
  {
   "cell_type": "code",
   "execution_count": 10,
   "id": "dc3293b7-a50c-43c8-a022-8975e1e444b8",
   "metadata": {
    "height": 64
   },
   "outputs": [
    {
     "name": "stdout",
     "output_type": "stream",
     "text": [
      "Calling: {'name': 'tavily_search_results_json', 'args': {'query': 'current weather in San Francisco'}, 'id': 'call_8hed3PjdxD0p1snSAsdSzuiA', 'type': 'tool_call'}\n",
      "Back to the model!\n",
      "{'messages': [ToolMessage(content=\"[{'title': 'San Francisco weather in July 2025 | Weather25.com', 'url': 'https://www.weather25.com/north-america/usa/california/san-francisco?page=month&month=July', 'content': 'weather25.com\\\\nSearch\\\\nweather in United States\\\\nRemove from your favorite locations\\\\nAdd to my locations\\\\nShare\\\\nweather in United States\\\\n\\\\n# San Francisco weather in July 2025\\\\n\\\\nOvercast\\\\nMist\\\\nOvercast\\\\nOvercast\\\\nPartly cloudy\\\\nCloudy\\\\nOvercast\\\\nClear\\\\nClear\\\\nSunny\\\\nOvercast\\\\nPatchy rain possible\\\\nPartly cloudy\\\\nClear\\\\n\\\\n## The average weather in San Francisco in July\\\\n\\\\nThe temperatures in San Francisco in July are comfortable with low of 14°C and and high up to 25°C. [...] | Sun | Mon | Tue | Wed | Thu | Fri | Sat |\\\\n| --- | --- | --- | --- | --- | --- | --- |\\\\n|  |  | 1 Cloudy 20° /12° | 2 Partly cloudy 20° /12° | 3 Sunny 20° /12° | 4 Sunny 20° /12° | 5 Sunny 20° /13° |\\\\n| 6 Sunny 19° /13° | 7 Mist 19° /12° | 8 Sunny 20° /12° | 9 Partly cloudy 20° /13° | 10 Partly cloudy 21° /13° | 11 Sunny 22° /13° | 12 Sunny 20° /13° | [...] | 13 Partly cloudy 19° /12° | 14 Partly cloudy 20° /13° | 15 Partly cloudy 20° /13° | 16 Sunny 20° /13° | 17 Partly cloudy 20° /12° | 18 Overcast 15° /13° | 19 Mist 14° /12° |\\\\n| 20 Overcast 14° /11° | 21 Overcast 18° /12° | 22 Partly cloudy 19° /14° | 23 Cloudy 18° /14° | 24 Overcast 18° /14° | 25 Sunny 17° /14° | 26 Sunny 18° /14° |\\\\n| 27 Sunny 18° /13° | 28 Overcast 19° /13° | 29 Patchy rain possible 18° /14° | 30 Partly cloudy 18° /14° | 31 Sunny 17° /14° |  |  |', 'score': 0.86331123}, {'title': 'San Francisco, CA Monthly Weather - AccuWeather', 'url': 'https://www.accuweather.com/en/us/san-francisco/94103/july-weather/347629', 'content': 'Get the monthly weather forecast for San Francisco, CA, including daily high/low, historical averages, to help you plan ahead.', 'score': 0.1543763}]\", name='tavily_search_results_json', id='0712e360-a832-4a2d-b69d-b0f96431748c', tool_call_id='call_8hed3PjdxD0p1snSAsdSzuiA')]}\n",
      "{'messages': [HumanMessage(content='Whats the weather in SF?', additional_kwargs={}, response_metadata={}, id='812343c2-a4e2-47c3-89a8-38043b550d90'), AIMessage(content='', additional_kwargs={'tool_calls': [{'id': 'call_8hed3PjdxD0p1snSAsdSzuiA', 'function': {'arguments': '{\"query\":\"current weather in San Francisco\"}', 'name': 'tavily_search_results_json'}, 'type': 'function'}], 'refusal': None}, response_metadata={'token_usage': {'completion_tokens': 22, 'prompt_tokens': 152, 'total_tokens': 174, 'completion_tokens_details': {'accepted_prediction_tokens': 0, 'audio_tokens': 0, 'reasoning_tokens': 0, 'rejected_prediction_tokens': 0}, 'prompt_tokens_details': {'audio_tokens': 0, 'cached_tokens': 0}}, 'model_name': 'gpt-3.5-turbo-0125', 'system_fingerprint': None, 'id': 'chatcmpl-BulNxwVqblFaIWI2nlkYc98JVx6cs', 'service_tier': 'default', 'finish_reason': 'tool_calls', 'logprobs': None}, id='run--586be969-8f6a-47f9-a44a-77ac3e9ac3ec-0', tool_calls=[{'name': 'tavily_search_results_json', 'args': {'query': 'current weather in San Francisco'}, 'id': 'call_8hed3PjdxD0p1snSAsdSzuiA', 'type': 'tool_call'}], usage_metadata={'input_tokens': 152, 'output_tokens': 22, 'total_tokens': 174, 'input_token_details': {'audio': 0, 'cache_read': 0}, 'output_token_details': {'audio': 0, 'reasoning': 0}}), ToolMessage(content=\"[{'title': 'San Francisco weather in July 2025 | Weather25.com', 'url': 'https://www.weather25.com/north-america/usa/california/san-francisco?page=month&month=July', 'content': 'weather25.com\\\\nSearch\\\\nweather in United States\\\\nRemove from your favorite locations\\\\nAdd to my locations\\\\nShare\\\\nweather in United States\\\\n\\\\n# San Francisco weather in July 2025\\\\n\\\\nOvercast\\\\nMist\\\\nOvercast\\\\nOvercast\\\\nPartly cloudy\\\\nCloudy\\\\nOvercast\\\\nClear\\\\nClear\\\\nSunny\\\\nOvercast\\\\nPatchy rain possible\\\\nPartly cloudy\\\\nClear\\\\n\\\\n## The average weather in San Francisco in July\\\\n\\\\nThe temperatures in San Francisco in July are comfortable with low of 14°C and and high up to 25°C. [...] | Sun | Mon | Tue | Wed | Thu | Fri | Sat |\\\\n| --- | --- | --- | --- | --- | --- | --- |\\\\n|  |  | 1 Cloudy 20° /12° | 2 Partly cloudy 20° /12° | 3 Sunny 20° /12° | 4 Sunny 20° /12° | 5 Sunny 20° /13° |\\\\n| 6 Sunny 19° /13° | 7 Mist 19° /12° | 8 Sunny 20° /12° | 9 Partly cloudy 20° /13° | 10 Partly cloudy 21° /13° | 11 Sunny 22° /13° | 12 Sunny 20° /13° | [...] | 13 Partly cloudy 19° /12° | 14 Partly cloudy 20° /13° | 15 Partly cloudy 20° /13° | 16 Sunny 20° /13° | 17 Partly cloudy 20° /12° | 18 Overcast 15° /13° | 19 Mist 14° /12° |\\\\n| 20 Overcast 14° /11° | 21 Overcast 18° /12° | 22 Partly cloudy 19° /14° | 23 Cloudy 18° /14° | 24 Overcast 18° /14° | 25 Sunny 17° /14° | 26 Sunny 18° /14° |\\\\n| 27 Sunny 18° /13° | 28 Overcast 19° /13° | 29 Patchy rain possible 18° /14° | 30 Partly cloudy 18° /14° | 31 Sunny 17° /14° |  |  |', 'score': 0.86331123}, {'title': 'San Francisco, CA Monthly Weather - AccuWeather', 'url': 'https://www.accuweather.com/en/us/san-francisco/94103/july-weather/347629', 'content': 'Get the monthly weather forecast for San Francisco, CA, including daily high/low, historical averages, to help you plan ahead.', 'score': 0.1543763}]\", name='tavily_search_results_json', id='0712e360-a832-4a2d-b69d-b0f96431748c', tool_call_id='call_8hed3PjdxD0p1snSAsdSzuiA'), AIMessage(content='The current weather in San Francisco shows overcast conditions with mist. The temperature ranges from a low of 14°C to a high of 25°C in July.', additional_kwargs={'refusal': None}, response_metadata={'token_usage': {'completion_tokens': 34, 'prompt_tokens': 843, 'total_tokens': 877, 'completion_tokens_details': {'accepted_prediction_tokens': 0, 'audio_tokens': 0, 'reasoning_tokens': 0, 'rejected_prediction_tokens': 0}, 'prompt_tokens_details': {'audio_tokens': 0, 'cached_tokens': 0}}, 'model_name': 'gpt-3.5-turbo-0125', 'system_fingerprint': None, 'id': 'chatcmpl-BulO888nqoeloULqcF95nGaOsmmuu', 'service_tier': 'default', 'finish_reason': 'stop', 'logprobs': None}, id='run--040e691b-8e29-4869-a169-42c901e7940f-0', usage_metadata={'input_tokens': 843, 'output_tokens': 34, 'total_tokens': 877, 'input_token_details': {'audio': 0, 'cache_read': 0}, 'output_token_details': {'audio': 0, 'reasoning': 0}})]}\n",
      "{'messages': [AIMessage(content='The current weather in San Francisco shows overcast conditions with mist. The temperature ranges from a low of 14°C to a high of 25°C in July.', additional_kwargs={'refusal': None}, response_metadata={'token_usage': {'completion_tokens': 34, 'prompt_tokens': 843, 'total_tokens': 877, 'completion_tokens_details': {'accepted_prediction_tokens': 0, 'audio_tokens': 0, 'reasoning_tokens': 0, 'rejected_prediction_tokens': 0}, 'prompt_tokens_details': {'audio_tokens': 0, 'cached_tokens': 0}}, 'model_name': 'gpt-3.5-turbo-0125', 'system_fingerprint': None, 'id': 'chatcmpl-BulO888nqoeloULqcF95nGaOsmmuu', 'service_tier': 'default', 'finish_reason': 'stop', 'logprobs': None}, id='run--040e691b-8e29-4869-a169-42c901e7940f-0', usage_metadata={'input_tokens': 843, 'output_tokens': 34, 'total_tokens': 877, 'input_token_details': {'audio': 0, 'cache_read': 0}, 'output_token_details': {'audio': 0, 'reasoning': 0}})]}\n"
     ]
    }
   ],
   "source": [
    "for event in abot.graph.stream(None, thread):\n",
    "    for v in event.values():\n",
    "        print(v)"
   ]
  },
  {
   "cell_type": "code",
   "execution_count": 11,
   "id": "0722c3d4-4cbf-43bf-81b0-50f634c4ce61",
   "metadata": {
    "height": 30
   },
   "outputs": [
    {
     "data": {
      "text/plain": [
       "StateSnapshot(values={'messages': [HumanMessage(content='Whats the weather in SF?', additional_kwargs={}, response_metadata={}, id='812343c2-a4e2-47c3-89a8-38043b550d90'), AIMessage(content='', additional_kwargs={'tool_calls': [{'id': 'call_8hed3PjdxD0p1snSAsdSzuiA', 'function': {'arguments': '{\"query\":\"current weather in San Francisco\"}', 'name': 'tavily_search_results_json'}, 'type': 'function'}], 'refusal': None}, response_metadata={'token_usage': {'completion_tokens': 22, 'prompt_tokens': 152, 'total_tokens': 174, 'completion_tokens_details': {'accepted_prediction_tokens': 0, 'audio_tokens': 0, 'reasoning_tokens': 0, 'rejected_prediction_tokens': 0}, 'prompt_tokens_details': {'audio_tokens': 0, 'cached_tokens': 0}}, 'model_name': 'gpt-3.5-turbo-0125', 'system_fingerprint': None, 'id': 'chatcmpl-BulNxwVqblFaIWI2nlkYc98JVx6cs', 'service_tier': 'default', 'finish_reason': 'tool_calls', 'logprobs': None}, id='run--586be969-8f6a-47f9-a44a-77ac3e9ac3ec-0', tool_calls=[{'name': 'tavily_search_results_json', 'args': {'query': 'current weather in San Francisco'}, 'id': 'call_8hed3PjdxD0p1snSAsdSzuiA', 'type': 'tool_call'}], usage_metadata={'input_tokens': 152, 'output_tokens': 22, 'total_tokens': 174, 'input_token_details': {'audio': 0, 'cache_read': 0}, 'output_token_details': {'audio': 0, 'reasoning': 0}}), ToolMessage(content=\"[{'title': 'San Francisco weather in July 2025 | Weather25.com', 'url': 'https://www.weather25.com/north-america/usa/california/san-francisco?page=month&month=July', 'content': 'weather25.com\\\\nSearch\\\\nweather in United States\\\\nRemove from your favorite locations\\\\nAdd to my locations\\\\nShare\\\\nweather in United States\\\\n\\\\n# San Francisco weather in July 2025\\\\n\\\\nOvercast\\\\nMist\\\\nOvercast\\\\nOvercast\\\\nPartly cloudy\\\\nCloudy\\\\nOvercast\\\\nClear\\\\nClear\\\\nSunny\\\\nOvercast\\\\nPatchy rain possible\\\\nPartly cloudy\\\\nClear\\\\n\\\\n## The average weather in San Francisco in July\\\\n\\\\nThe temperatures in San Francisco in July are comfortable with low of 14°C and and high up to 25°C. [...] | Sun | Mon | Tue | Wed | Thu | Fri | Sat |\\\\n| --- | --- | --- | --- | --- | --- | --- |\\\\n|  |  | 1 Cloudy 20° /12° | 2 Partly cloudy 20° /12° | 3 Sunny 20° /12° | 4 Sunny 20° /12° | 5 Sunny 20° /13° |\\\\n| 6 Sunny 19° /13° | 7 Mist 19° /12° | 8 Sunny 20° /12° | 9 Partly cloudy 20° /13° | 10 Partly cloudy 21° /13° | 11 Sunny 22° /13° | 12 Sunny 20° /13° | [...] | 13 Partly cloudy 19° /12° | 14 Partly cloudy 20° /13° | 15 Partly cloudy 20° /13° | 16 Sunny 20° /13° | 17 Partly cloudy 20° /12° | 18 Overcast 15° /13° | 19 Mist 14° /12° |\\\\n| 20 Overcast 14° /11° | 21 Overcast 18° /12° | 22 Partly cloudy 19° /14° | 23 Cloudy 18° /14° | 24 Overcast 18° /14° | 25 Sunny 17° /14° | 26 Sunny 18° /14° |\\\\n| 27 Sunny 18° /13° | 28 Overcast 19° /13° | 29 Patchy rain possible 18° /14° | 30 Partly cloudy 18° /14° | 31 Sunny 17° /14° |  |  |', 'score': 0.86331123}, {'title': 'San Francisco, CA Monthly Weather - AccuWeather', 'url': 'https://www.accuweather.com/en/us/san-francisco/94103/july-weather/347629', 'content': 'Get the monthly weather forecast for San Francisco, CA, including daily high/low, historical averages, to help you plan ahead.', 'score': 0.1543763}]\", name='tavily_search_results_json', id='0712e360-a832-4a2d-b69d-b0f96431748c', tool_call_id='call_8hed3PjdxD0p1snSAsdSzuiA'), AIMessage(content='The current weather in San Francisco shows overcast conditions with mist. The temperature ranges from a low of 14°C to a high of 25°C in July.', additional_kwargs={'refusal': None}, response_metadata={'token_usage': {'completion_tokens': 34, 'prompt_tokens': 843, 'total_tokens': 877, 'completion_tokens_details': {'accepted_prediction_tokens': 0, 'audio_tokens': 0, 'reasoning_tokens': 0, 'rejected_prediction_tokens': 0}, 'prompt_tokens_details': {'audio_tokens': 0, 'cached_tokens': 0}}, 'model_name': 'gpt-3.5-turbo-0125', 'system_fingerprint': None, 'id': 'chatcmpl-BulO888nqoeloULqcF95nGaOsmmuu', 'service_tier': 'default', 'finish_reason': 'stop', 'logprobs': None}, id='run--040e691b-8e29-4869-a169-42c901e7940f-0', usage_metadata={'input_tokens': 843, 'output_tokens': 34, 'total_tokens': 877, 'input_token_details': {'audio': 0, 'cache_read': 0}, 'output_token_details': {'audio': 0, 'reasoning': 0}})]}, next=(), config={'configurable': {'thread_id': '1', 'checkpoint_ns': '', 'checkpoint_id': '1f064107-519d-6d64-8003-b4fc3fe8448e'}}, metadata={'source': 'loop', 'step': 3, 'parents': {}}, created_at='2025-07-18T19:50:29.536881+00:00', parent_config={'configurable': {'thread_id': '1', 'checkpoint_ns': '', 'checkpoint_id': '1f064107-494a-636a-8002-807e6710efd9'}}, tasks=(), interrupts=())"
      ]
     },
     "execution_count": 11,
     "metadata": {},
     "output_type": "execute_result"
    }
   ],
   "source": [
    "abot.graph.get_state(thread)"
   ]
  },
  {
   "cell_type": "code",
   "execution_count": 12,
   "id": "6b2f82fe-3ec4-4917-be51-9fb10d1317fa",
   "metadata": {
    "height": 30
   },
   "outputs": [
    {
     "data": {
      "text/plain": [
       "()"
      ]
     },
     "execution_count": 12,
     "metadata": {},
     "output_type": "execute_result"
    }
   ],
   "source": [
    "abot.graph.get_state(thread).next"
   ]
  },
  {
   "cell_type": "code",
   "execution_count": 13,
   "id": "ee0fe1c7-77e2-499c-a2f9-1f739bb6ddf0",
   "metadata": {
    "height": 251
   },
   "outputs": [
    {
     "name": "stdout",
     "output_type": "stream",
     "text": [
      "{'messages': [HumanMessage(content='Whats the weather in LA?', additional_kwargs={}, response_metadata={}, id='5d3fcdaf-2a78-42d2-889d-07b62798fb34'), AIMessage(content='', additional_kwargs={'tool_calls': [{'id': 'call_8w4lZddPBnK8NWkw3l99SG4I', 'function': {'arguments': '{\"query\":\"weather in Los Angeles\"}', 'name': 'tavily_search_results_json'}, 'type': 'function'}], 'refusal': None}, response_metadata={'token_usage': {'completion_tokens': 21, 'prompt_tokens': 152, 'total_tokens': 173, 'completion_tokens_details': {'accepted_prediction_tokens': 0, 'audio_tokens': 0, 'reasoning_tokens': 0, 'rejected_prediction_tokens': 0}, 'prompt_tokens_details': {'audio_tokens': 0, 'cached_tokens': 0}}, 'model_name': 'gpt-3.5-turbo-0125', 'system_fingerprint': None, 'id': 'chatcmpl-BulO9ufBiH7bmEoMyvy6jaXKGDS7z', 'service_tier': 'default', 'finish_reason': 'tool_calls', 'logprobs': None}, id='run--2f52e68c-8625-4efe-aba6-40fa7bb4a9c8-0', tool_calls=[{'name': 'tavily_search_results_json', 'args': {'query': 'weather in Los Angeles'}, 'id': 'call_8w4lZddPBnK8NWkw3l99SG4I', 'type': 'tool_call'}], usage_metadata={'input_tokens': 152, 'output_tokens': 21, 'total_tokens': 173, 'input_token_details': {'audio': 0, 'cache_read': 0}, 'output_token_details': {'audio': 0, 'reasoning': 0}})]}\n",
      "{'messages': [AIMessage(content='', additional_kwargs={'tool_calls': [{'id': 'call_8w4lZddPBnK8NWkw3l99SG4I', 'function': {'arguments': '{\"query\":\"weather in Los Angeles\"}', 'name': 'tavily_search_results_json'}, 'type': 'function'}], 'refusal': None}, response_metadata={'token_usage': {'completion_tokens': 21, 'prompt_tokens': 152, 'total_tokens': 173, 'completion_tokens_details': {'accepted_prediction_tokens': 0, 'audio_tokens': 0, 'reasoning_tokens': 0, 'rejected_prediction_tokens': 0}, 'prompt_tokens_details': {'audio_tokens': 0, 'cached_tokens': 0}}, 'model_name': 'gpt-3.5-turbo-0125', 'system_fingerprint': None, 'id': 'chatcmpl-BulO9ufBiH7bmEoMyvy6jaXKGDS7z', 'service_tier': 'default', 'finish_reason': 'tool_calls', 'logprobs': None}, id='run--2f52e68c-8625-4efe-aba6-40fa7bb4a9c8-0', tool_calls=[{'name': 'tavily_search_results_json', 'args': {'query': 'weather in Los Angeles'}, 'id': 'call_8w4lZddPBnK8NWkw3l99SG4I', 'type': 'tool_call'}], usage_metadata={'input_tokens': 152, 'output_tokens': 21, 'total_tokens': 173, 'input_token_details': {'audio': 0, 'cache_read': 0}, 'output_token_details': {'audio': 0, 'reasoning': 0}})]}\n",
      "()\n",
      "\n",
      " StateSnapshot(values={'messages': [HumanMessage(content='Whats the weather in LA?', additional_kwargs={}, response_metadata={}, id='5d3fcdaf-2a78-42d2-889d-07b62798fb34'), AIMessage(content='', additional_kwargs={'tool_calls': [{'id': 'call_8w4lZddPBnK8NWkw3l99SG4I', 'function': {'arguments': '{\"query\":\"weather in Los Angeles\"}', 'name': 'tavily_search_results_json'}, 'type': 'function'}], 'refusal': None}, response_metadata={'token_usage': {'completion_tokens': 21, 'prompt_tokens': 152, 'total_tokens': 173, 'completion_tokens_details': {'accepted_prediction_tokens': 0, 'audio_tokens': 0, 'reasoning_tokens': 0, 'rejected_prediction_tokens': 0}, 'prompt_tokens_details': {'audio_tokens': 0, 'cached_tokens': 0}}, 'model_name': 'gpt-3.5-turbo-0125', 'system_fingerprint': None, 'id': 'chatcmpl-BulO9ufBiH7bmEoMyvy6jaXKGDS7z', 'service_tier': 'default', 'finish_reason': 'tool_calls', 'logprobs': None}, id='run--2f52e68c-8625-4efe-aba6-40fa7bb4a9c8-0', tool_calls=[{'name': 'tavily_search_results_json', 'args': {'query': 'weather in Los Angeles'}, 'id': 'call_8w4lZddPBnK8NWkw3l99SG4I', 'type': 'tool_call'}], usage_metadata={'input_tokens': 152, 'output_tokens': 21, 'total_tokens': 173, 'input_token_details': {'audio': 0, 'cache_read': 0}, 'output_token_details': {'audio': 0, 'reasoning': 0}})]}, next=('action',), config={'configurable': {'thread_id': '2', 'checkpoint_ns': '', 'checkpoint_id': '1f064107-55c1-63be-8001-1a9da5fdfbed'}}, metadata={'source': 'loop', 'step': 1, 'parents': {}}, created_at='2025-07-18T19:50:29.970815+00:00', parent_config={'configurable': {'thread_id': '2', 'checkpoint_ns': '', 'checkpoint_id': '1f064107-51d8-6f9a-8000-e4f20a3f0469'}}, tasks=(PregelTask(id='56c537ce-f84c-a82b-1a59-d90a50bc1b67', name='action', path=('__pregel_pull', 'action'), error=None, interrupts=(), state=None, result=None),), interrupts=()) \n",
      "\n",
      "Calling: {'name': 'tavily_search_results_json', 'args': {'query': 'weather in Los Angeles'}, 'id': 'call_8w4lZddPBnK8NWkw3l99SG4I', 'type': 'tool_call'}\n",
      "Back to the model!\n",
      "{'messages': [ToolMessage(content=\"[{'title': 'Weather Los Angeles in July 2025: Temperature & Climate', 'url': 'https://en.climate-data.org/north-america/united-states-of-america/california/los-angeles-714829/t/july-7/', 'content': '| 17\\\\\\\\. July | 24 °C | 76 °F | 31 °C | 89 °F | 18 °C | 64 °F | 0.0 mm | 0.0 inch. |\\\\n| 18\\\\\\\\. July | 24 °C | 76 °F | 31 °C | 89 °F | 18 °C | 65 °F | 0.1 mm | 0.0 inch. |\\\\n| 19\\\\\\\\. July | 25 °C | 76 °F | 32 °C | 89 °F | 18 °C | 65 °F | 0.0 mm | 0.0 inch. |\\\\n| 20\\\\\\\\. July | 25 °C | 76 °F | 32 °C | 89 °F | 18 °C | 65 °F | 0.2 mm | 0.0 inch. |\\\\n| 21\\\\\\\\. July | 25 °C | 76 °F | 32 °C | 89 °F | 18 °C | 65 °F | 0.0 mm | 0.0 inch. |\\\\n| 22\\\\\\\\. July | 25 °C | 76 °F | 32 °C | 90 °F | 18 °C | 65 °F | 0.2 mm | 0.0 inch. | [...] (89.5) °F\\\\n\\\\n | 31 °C\\\\n\\\\n(87.7) °F\\\\n\\\\n | 27.2 °C\\\\n\\\\n(81) °F\\\\n\\\\n | 23.1 °C\\\\n\\\\n(73.5) °F\\\\n\\\\n | 18.8 °C\\\\n\\\\n(65.9) °F\\\\n\\\\n |\\\\n| Precipitation / Rainfall mm (in) | 84\\\\n\\\\n(3)\\\\n\\\\n | 89\\\\n\\\\n(3)\\\\n\\\\n | 54\\\\n\\\\n(2)\\\\n\\\\n | 19\\\\n\\\\n(0)\\\\n\\\\n | 11\\\\n\\\\n(0)\\\\n\\\\n | 3\\\\n\\\\n(0)\\\\n\\\\n | 2\\\\n\\\\n(0)\\\\n\\\\n | 0\\\\n\\\\n(0)\\\\n\\\\n | 4\\\\n\\\\n(0)\\\\n\\\\n | 17\\\\n\\\\n(0)\\\\n\\\\n | 21\\\\n\\\\n(0)\\\\n\\\\n | 53\\\\n\\\\n(2) [...] |\\\\n| Min. Temperature °C (°F) | 6.7 °C\\\\n\\\\n(44.1) °F\\\\n\\\\n | 6.8 °C\\\\n\\\\n(44.2) °F\\\\n\\\\n | 8.3 °C\\\\n\\\\n(47) °F\\\\n\\\\n | 9.7 °C\\\\n\\\\n(49.5) °F\\\\n\\\\n | 12.3 °C\\\\n\\\\n(54.1) °F\\\\n\\\\n | 15 °C\\\\n\\\\n(58.9) °F\\\\n\\\\n | 17.9 °C\\\\n\\\\n(64.3) °F\\\\n\\\\n | 18.2 °C\\\\n\\\\n(64.8) °F\\\\n\\\\n | 17 °C\\\\n\\\\n(62.6) °F\\\\n\\\\n | 13.6 °C\\\\n\\\\n(56.5) °F\\\\n\\\\n | 9.8 °C\\\\n\\\\n(49.7) °F\\\\n\\\\n | 6.5 °C\\\\n\\\\n(43.8) °F\\\\n\\\\n |\\\\n| Max. Temperature °C (°F) | 19.5 °C\\\\n\\\\n(67.2) °F\\\\n\\\\n | 19.4 °C\\\\n\\\\n(66.9) °F\\\\n\\\\n | 21.4 °C\\\\n\\\\n(70.5) °F\\\\n\\\\n | 23.3 °C\\\\n\\\\n(73.9) °F\\\\n\\\\n | 25.2 °C\\\\n\\\\n(77.4) °F\\\\n\\\\n | 28.1 °C\\\\n\\\\n(82.6) °F\\\\n\\\\n | 31.3 °C\\\\n\\\\n(88.3) °F\\\\n\\\\n | 31.9 °C', 'score': 0.8976328}, {'title': 'Los Angeles weather in July 2025 | Weather25.com', 'url': 'https://www.weather25.com/north-america/usa/california/los-angeles?page=month&month=July', 'content': 'Friday Jul 18 Image 8: Partly cloudy 0 mm 28°/19°Saturday Jul 19 Image 9: Partly cloudy 0 mm 29°/18°Sunday Jul 20 Image 10: Partly cloudy 0 mm 29°/18°Monday Jul 21 Image 11: Cloudy 0 mm 28°/17°Tuesday Jul 22 Image 12: Sunny 0 mm 29°/19°Wednesday Jul 23 Image 13: Partly cloudy 0 mm 29°/20°Thursday Jul 24 Image 14: Cloudy 0 mm 31°/21°Friday Jul 25 Image 15: Sunny 0 mm 31°/22°Saturday Jul 26 Image 16: Sunny 0 mm 31°/23°Sunday Jul 27 Image 17: Sunny 0 mm 31°/22°Monday Jul 28 Image 18: Sunny 0 mm [...] | 27 Image 54: Sunny 31°/22° | 28 Image 55: Sunny 31°/22° | 29 Image 56: Sunny 31°/23° | 30 Image 57: Partly cloudy 31°/23° | 31 Image 58: Sunny 33°/24° |  |  |', 'score': 0.89030397}]\", name='tavily_search_results_json', id='a35b3c03-2ba6-4bb4-918c-8a936d4779d1', tool_call_id='call_8w4lZddPBnK8NWkw3l99SG4I')]}\n",
      "{'messages': [HumanMessage(content='Whats the weather in LA?', additional_kwargs={}, response_metadata={}, id='5d3fcdaf-2a78-42d2-889d-07b62798fb34'), AIMessage(content='', additional_kwargs={'tool_calls': [{'id': 'call_8w4lZddPBnK8NWkw3l99SG4I', 'function': {'arguments': '{\"query\":\"weather in Los Angeles\"}', 'name': 'tavily_search_results_json'}, 'type': 'function'}], 'refusal': None}, response_metadata={'token_usage': {'completion_tokens': 21, 'prompt_tokens': 152, 'total_tokens': 173, 'completion_tokens_details': {'accepted_prediction_tokens': 0, 'audio_tokens': 0, 'reasoning_tokens': 0, 'rejected_prediction_tokens': 0}, 'prompt_tokens_details': {'audio_tokens': 0, 'cached_tokens': 0}}, 'model_name': 'gpt-3.5-turbo-0125', 'system_fingerprint': None, 'id': 'chatcmpl-BulO9ufBiH7bmEoMyvy6jaXKGDS7z', 'service_tier': 'default', 'finish_reason': 'tool_calls', 'logprobs': None}, id='run--2f52e68c-8625-4efe-aba6-40fa7bb4a9c8-0', tool_calls=[{'name': 'tavily_search_results_json', 'args': {'query': 'weather in Los Angeles'}, 'id': 'call_8w4lZddPBnK8NWkw3l99SG4I', 'type': 'tool_call'}], usage_metadata={'input_tokens': 152, 'output_tokens': 21, 'total_tokens': 173, 'input_token_details': {'audio': 0, 'cache_read': 0}, 'output_token_details': {'audio': 0, 'reasoning': 0}}), ToolMessage(content=\"[{'title': 'Weather Los Angeles in July 2025: Temperature & Climate', 'url': 'https://en.climate-data.org/north-america/united-states-of-america/california/los-angeles-714829/t/july-7/', 'content': '| 17\\\\\\\\. July | 24 °C | 76 °F | 31 °C | 89 °F | 18 °C | 64 °F | 0.0 mm | 0.0 inch. |\\\\n| 18\\\\\\\\. July | 24 °C | 76 °F | 31 °C | 89 °F | 18 °C | 65 °F | 0.1 mm | 0.0 inch. |\\\\n| 19\\\\\\\\. July | 25 °C | 76 °F | 32 °C | 89 °F | 18 °C | 65 °F | 0.0 mm | 0.0 inch. |\\\\n| 20\\\\\\\\. July | 25 °C | 76 °F | 32 °C | 89 °F | 18 °C | 65 °F | 0.2 mm | 0.0 inch. |\\\\n| 21\\\\\\\\. July | 25 °C | 76 °F | 32 °C | 89 °F | 18 °C | 65 °F | 0.0 mm | 0.0 inch. |\\\\n| 22\\\\\\\\. July | 25 °C | 76 °F | 32 °C | 90 °F | 18 °C | 65 °F | 0.2 mm | 0.0 inch. | [...] (89.5) °F\\\\n\\\\n | 31 °C\\\\n\\\\n(87.7) °F\\\\n\\\\n | 27.2 °C\\\\n\\\\n(81) °F\\\\n\\\\n | 23.1 °C\\\\n\\\\n(73.5) °F\\\\n\\\\n | 18.8 °C\\\\n\\\\n(65.9) °F\\\\n\\\\n |\\\\n| Precipitation / Rainfall mm (in) | 84\\\\n\\\\n(3)\\\\n\\\\n | 89\\\\n\\\\n(3)\\\\n\\\\n | 54\\\\n\\\\n(2)\\\\n\\\\n | 19\\\\n\\\\n(0)\\\\n\\\\n | 11\\\\n\\\\n(0)\\\\n\\\\n | 3\\\\n\\\\n(0)\\\\n\\\\n | 2\\\\n\\\\n(0)\\\\n\\\\n | 0\\\\n\\\\n(0)\\\\n\\\\n | 4\\\\n\\\\n(0)\\\\n\\\\n | 17\\\\n\\\\n(0)\\\\n\\\\n | 21\\\\n\\\\n(0)\\\\n\\\\n | 53\\\\n\\\\n(2) [...] |\\\\n| Min. Temperature °C (°F) | 6.7 °C\\\\n\\\\n(44.1) °F\\\\n\\\\n | 6.8 °C\\\\n\\\\n(44.2) °F\\\\n\\\\n | 8.3 °C\\\\n\\\\n(47) °F\\\\n\\\\n | 9.7 °C\\\\n\\\\n(49.5) °F\\\\n\\\\n | 12.3 °C\\\\n\\\\n(54.1) °F\\\\n\\\\n | 15 °C\\\\n\\\\n(58.9) °F\\\\n\\\\n | 17.9 °C\\\\n\\\\n(64.3) °F\\\\n\\\\n | 18.2 °C\\\\n\\\\n(64.8) °F\\\\n\\\\n | 17 °C\\\\n\\\\n(62.6) °F\\\\n\\\\n | 13.6 °C\\\\n\\\\n(56.5) °F\\\\n\\\\n | 9.8 °C\\\\n\\\\n(49.7) °F\\\\n\\\\n | 6.5 °C\\\\n\\\\n(43.8) °F\\\\n\\\\n |\\\\n| Max. Temperature °C (°F) | 19.5 °C\\\\n\\\\n(67.2) °F\\\\n\\\\n | 19.4 °C\\\\n\\\\n(66.9) °F\\\\n\\\\n | 21.4 °C\\\\n\\\\n(70.5) °F\\\\n\\\\n | 23.3 °C\\\\n\\\\n(73.9) °F\\\\n\\\\n | 25.2 °C\\\\n\\\\n(77.4) °F\\\\n\\\\n | 28.1 °C\\\\n\\\\n(82.6) °F\\\\n\\\\n | 31.3 °C\\\\n\\\\n(88.3) °F\\\\n\\\\n | 31.9 °C', 'score': 0.8976328}, {'title': 'Los Angeles weather in July 2025 | Weather25.com', 'url': 'https://www.weather25.com/north-america/usa/california/los-angeles?page=month&month=July', 'content': 'Friday Jul 18 Image 8: Partly cloudy 0 mm 28°/19°Saturday Jul 19 Image 9: Partly cloudy 0 mm 29°/18°Sunday Jul 20 Image 10: Partly cloudy 0 mm 29°/18°Monday Jul 21 Image 11: Cloudy 0 mm 28°/17°Tuesday Jul 22 Image 12: Sunny 0 mm 29°/19°Wednesday Jul 23 Image 13: Partly cloudy 0 mm 29°/20°Thursday Jul 24 Image 14: Cloudy 0 mm 31°/21°Friday Jul 25 Image 15: Sunny 0 mm 31°/22°Saturday Jul 26 Image 16: Sunny 0 mm 31°/23°Sunday Jul 27 Image 17: Sunny 0 mm 31°/22°Monday Jul 28 Image 18: Sunny 0 mm [...] | 27 Image 54: Sunny 31°/22° | 28 Image 55: Sunny 31°/22° | 29 Image 56: Sunny 31°/23° | 30 Image 57: Partly cloudy 31°/23° | 31 Image 58: Sunny 33°/24° |  |  |', 'score': 0.89030397}]\", name='tavily_search_results_json', id='a35b3c03-2ba6-4bb4-918c-8a936d4779d1', tool_call_id='call_8w4lZddPBnK8NWkw3l99SG4I'), AIMessage(content='The weather in Los Angeles in July varies with temperatures ranging around 24-25°C (76-77°F) for the low and 31-33°C (88-91°F) for the high. Precipitation is minimal during this time with around 0-3 mm of rainfall.', additional_kwargs={'refusal': None}, response_metadata={'token_usage': {'completion_tokens': 61, 'prompt_tokens': 1476, 'total_tokens': 1537, 'completion_tokens_details': {'accepted_prediction_tokens': 0, 'audio_tokens': 0, 'reasoning_tokens': 0, 'rejected_prediction_tokens': 0}, 'prompt_tokens_details': {'audio_tokens': 0, 'cached_tokens': 0}}, 'model_name': 'gpt-3.5-turbo-0125', 'system_fingerprint': None, 'id': 'chatcmpl-BulOSGufzo9K8u1cFnRcXji5KdS5z', 'service_tier': 'default', 'finish_reason': 'stop', 'logprobs': None}, id='run--30a550a1-c42f-4ab5-afe1-2a05f567e3c5-0', usage_metadata={'input_tokens': 1476, 'output_tokens': 61, 'total_tokens': 1537, 'input_token_details': {'audio': 0, 'cache_read': 0}, 'output_token_details': {'audio': 0, 'reasoning': 0}})]}\n",
      "{'messages': [AIMessage(content='The weather in Los Angeles in July varies with temperatures ranging around 24-25°C (76-77°F) for the low and 31-33°C (88-91°F) for the high. Precipitation is minimal during this time with around 0-3 mm of rainfall.', additional_kwargs={'refusal': None}, response_metadata={'token_usage': {'completion_tokens': 61, 'prompt_tokens': 1476, 'total_tokens': 1537, 'completion_tokens_details': {'accepted_prediction_tokens': 0, 'audio_tokens': 0, 'reasoning_tokens': 0, 'rejected_prediction_tokens': 0}, 'prompt_tokens_details': {'audio_tokens': 0, 'cached_tokens': 0}}, 'model_name': 'gpt-3.5-turbo-0125', 'system_fingerprint': None, 'id': 'chatcmpl-BulOSGufzo9K8u1cFnRcXji5KdS5z', 'service_tier': 'default', 'finish_reason': 'stop', 'logprobs': None}, id='run--30a550a1-c42f-4ab5-afe1-2a05f567e3c5-0', usage_metadata={'input_tokens': 1476, 'output_tokens': 61, 'total_tokens': 1537, 'input_token_details': {'audio': 0, 'cache_read': 0}, 'output_token_details': {'audio': 0, 'reasoning': 0}})]}\n"
     ]
    }
   ],
   "source": [
    "messages = [HumanMessage(\"Whats the weather in LA?\")]\n",
    "thread = {\"configurable\": {\"thread_id\": \"2\"}}\n",
    "for event in abot.graph.stream({\"messages\": messages}, thread):\n",
    "    for v in event.values():\n",
    "        print(v)\n",
    "while abot.graph.get_state(thread).next:\n",
    "    print(\"\\n\", abot.graph.get_state(thread),\"\\n\")\n",
    "    _input = input(\"proceed?\")\n",
    "    if _input != \"y\":\n",
    "        print(\"aborting\")\n",
    "        break\n",
    "    for event in abot.graph.stream(None, thread):\n",
    "        for v in event.values():\n",
    "            print(v)"
   ]
  },
  {
   "cell_type": "markdown",
   "id": "7bbe5689-54ab-49ca-9055-6e5216abd523",
   "metadata": {},
   "source": [
    "## Modify State\n",
    "Run until the interrupt and then modify the state."
   ]
  },
  {
   "cell_type": "code",
   "execution_count": 14,
   "id": "98f303b1-a4d0-408c-8cc0-515ff980717f",
   "metadata": {
    "height": 98
   },
   "outputs": [
    {
     "name": "stdout",
     "output_type": "stream",
     "text": [
      "{'messages': [HumanMessage(content='Whats the weather in LA?', additional_kwargs={}, response_metadata={}, id='287694c6-1367-425e-b37e-db1aa731df5c'), AIMessage(content='', additional_kwargs={'tool_calls': [{'id': 'call_Cr4eE11mE1wqZeMhiDdSFmh7', 'function': {'arguments': '{\"query\":\"weather in Los Angeles\"}', 'name': 'tavily_search_results_json'}, 'type': 'function'}], 'refusal': None}, response_metadata={'token_usage': {'completion_tokens': 21, 'prompt_tokens': 152, 'total_tokens': 173, 'completion_tokens_details': {'accepted_prediction_tokens': 0, 'audio_tokens': 0, 'reasoning_tokens': 0, 'rejected_prediction_tokens': 0}, 'prompt_tokens_details': {'audio_tokens': 0, 'cached_tokens': 0}}, 'model_name': 'gpt-3.5-turbo-0125', 'system_fingerprint': None, 'id': 'chatcmpl-BulOTaI9Ij6l1SXPf2FrF0Qq7arHf', 'service_tier': 'default', 'finish_reason': 'tool_calls', 'logprobs': None}, id='run--e8cb2388-c3e7-4ee2-9a42-62d262618e60-0', tool_calls=[{'name': 'tavily_search_results_json', 'args': {'query': 'weather in Los Angeles'}, 'id': 'call_Cr4eE11mE1wqZeMhiDdSFmh7', 'type': 'tool_call'}], usage_metadata={'input_tokens': 152, 'output_tokens': 21, 'total_tokens': 173, 'input_token_details': {'audio': 0, 'cache_read': 0}, 'output_token_details': {'audio': 0, 'reasoning': 0}})]}\n",
      "{'messages': [AIMessage(content='', additional_kwargs={'tool_calls': [{'id': 'call_Cr4eE11mE1wqZeMhiDdSFmh7', 'function': {'arguments': '{\"query\":\"weather in Los Angeles\"}', 'name': 'tavily_search_results_json'}, 'type': 'function'}], 'refusal': None}, response_metadata={'token_usage': {'completion_tokens': 21, 'prompt_tokens': 152, 'total_tokens': 173, 'completion_tokens_details': {'accepted_prediction_tokens': 0, 'audio_tokens': 0, 'reasoning_tokens': 0, 'rejected_prediction_tokens': 0}, 'prompt_tokens_details': {'audio_tokens': 0, 'cached_tokens': 0}}, 'model_name': 'gpt-3.5-turbo-0125', 'system_fingerprint': None, 'id': 'chatcmpl-BulOTaI9Ij6l1SXPf2FrF0Qq7arHf', 'service_tier': 'default', 'finish_reason': 'tool_calls', 'logprobs': None}, id='run--e8cb2388-c3e7-4ee2-9a42-62d262618e60-0', tool_calls=[{'name': 'tavily_search_results_json', 'args': {'query': 'weather in Los Angeles'}, 'id': 'call_Cr4eE11mE1wqZeMhiDdSFmh7', 'type': 'tool_call'}], usage_metadata={'input_tokens': 152, 'output_tokens': 21, 'total_tokens': 173, 'input_token_details': {'audio': 0, 'cache_read': 0}, 'output_token_details': {'audio': 0, 'reasoning': 0}})]}\n",
      "()\n"
     ]
    }
   ],
   "source": [
    "messages = [HumanMessage(\"Whats the weather in LA?\")]\n",
    "thread = {\"configurable\": {\"thread_id\": \"3\"}}\n",
    "for event in abot.graph.stream({\"messages\": messages}, thread):\n",
    "    for v in event.values():\n",
    "        print(v)"
   ]
  },
  {
   "cell_type": "code",
   "execution_count": 15,
   "id": "bf4dcb93-6298-4cfd-b3ce-61dfac7fb35f",
   "metadata": {
    "height": 30
   },
   "outputs": [
    {
     "data": {
      "text/plain": [
       "StateSnapshot(values={'messages': [HumanMessage(content='Whats the weather in LA?', additional_kwargs={}, response_metadata={}, id='287694c6-1367-425e-b37e-db1aa731df5c'), AIMessage(content='', additional_kwargs={'tool_calls': [{'id': 'call_Cr4eE11mE1wqZeMhiDdSFmh7', 'function': {'arguments': '{\"query\":\"weather in Los Angeles\"}', 'name': 'tavily_search_results_json'}, 'type': 'function'}], 'refusal': None}, response_metadata={'token_usage': {'completion_tokens': 21, 'prompt_tokens': 152, 'total_tokens': 173, 'completion_tokens_details': {'accepted_prediction_tokens': 0, 'audio_tokens': 0, 'reasoning_tokens': 0, 'rejected_prediction_tokens': 0}, 'prompt_tokens_details': {'audio_tokens': 0, 'cached_tokens': 0}}, 'model_name': 'gpt-3.5-turbo-0125', 'system_fingerprint': None, 'id': 'chatcmpl-BulOTaI9Ij6l1SXPf2FrF0Qq7arHf', 'service_tier': 'default', 'finish_reason': 'tool_calls', 'logprobs': None}, id='run--e8cb2388-c3e7-4ee2-9a42-62d262618e60-0', tool_calls=[{'name': 'tavily_search_results_json', 'args': {'query': 'weather in Los Angeles'}, 'id': 'call_Cr4eE11mE1wqZeMhiDdSFmh7', 'type': 'tool_call'}], usage_metadata={'input_tokens': 152, 'output_tokens': 21, 'total_tokens': 173, 'input_token_details': {'audio': 0, 'cache_read': 0}, 'output_token_details': {'audio': 0, 'reasoning': 0}})]}, next=('action',), config={'configurable': {'thread_id': '3', 'checkpoint_ns': '', 'checkpoint_id': '1f064108-132a-6ff4-8001-4631f4ddb8b3'}}, metadata={'source': 'loop', 'step': 1, 'parents': {}}, created_at='2025-07-18T19:50:49.832201+00:00', parent_config={'configurable': {'thread_id': '3', 'checkpoint_ns': '', 'checkpoint_id': '1f064108-0d9e-6ab8-8000-ccec3ed3a2b2'}}, tasks=(PregelTask(id='49eb3b94-a18e-ccfc-8956-8a25d08f09e2', name='action', path=('__pregel_pull', 'action'), error=None, interrupts=(), state=None, result=None),), interrupts=())"
      ]
     },
     "execution_count": 15,
     "metadata": {},
     "output_type": "execute_result"
    }
   ],
   "source": [
    "abot.graph.get_state(thread)"
   ]
  },
  {
   "cell_type": "code",
   "execution_count": 16,
   "id": "932883a4-c722-42bb-aec0-b4f41c5c81a4",
   "metadata": {
    "height": 30
   },
   "outputs": [],
   "source": [
    "current_values = abot.graph.get_state(thread)"
   ]
  },
  {
   "cell_type": "code",
   "execution_count": 17,
   "id": "ff362f49-dcf1-4ea1-a86c-e516e9ab897d",
   "metadata": {
    "height": 30
   },
   "outputs": [
    {
     "data": {
      "text/plain": [
       "AIMessage(content='', additional_kwargs={'tool_calls': [{'id': 'call_Cr4eE11mE1wqZeMhiDdSFmh7', 'function': {'arguments': '{\"query\":\"weather in Los Angeles\"}', 'name': 'tavily_search_results_json'}, 'type': 'function'}], 'refusal': None}, response_metadata={'token_usage': {'completion_tokens': 21, 'prompt_tokens': 152, 'total_tokens': 173, 'completion_tokens_details': {'accepted_prediction_tokens': 0, 'audio_tokens': 0, 'reasoning_tokens': 0, 'rejected_prediction_tokens': 0}, 'prompt_tokens_details': {'audio_tokens': 0, 'cached_tokens': 0}}, 'model_name': 'gpt-3.5-turbo-0125', 'system_fingerprint': None, 'id': 'chatcmpl-BulOTaI9Ij6l1SXPf2FrF0Qq7arHf', 'service_tier': 'default', 'finish_reason': 'tool_calls', 'logprobs': None}, id='run--e8cb2388-c3e7-4ee2-9a42-62d262618e60-0', tool_calls=[{'name': 'tavily_search_results_json', 'args': {'query': 'weather in Los Angeles'}, 'id': 'call_Cr4eE11mE1wqZeMhiDdSFmh7', 'type': 'tool_call'}], usage_metadata={'input_tokens': 152, 'output_tokens': 21, 'total_tokens': 173, 'input_token_details': {'audio': 0, 'cache_read': 0}, 'output_token_details': {'audio': 0, 'reasoning': 0}})"
      ]
     },
     "execution_count": 17,
     "metadata": {},
     "output_type": "execute_result"
    }
   ],
   "source": [
    "current_values.values['messages'][-1]"
   ]
  },
  {
   "cell_type": "code",
   "execution_count": 18,
   "id": "a7e15a20-83d7-434c-8551-bce8dcc32be0",
   "metadata": {
    "height": 30
   },
   "outputs": [
    {
     "data": {
      "text/plain": [
       "[{'name': 'tavily_search_results_json',\n",
       "  'args': {'query': 'weather in Los Angeles'},\n",
       "  'id': 'call_Cr4eE11mE1wqZeMhiDdSFmh7',\n",
       "  'type': 'tool_call'}]"
      ]
     },
     "execution_count": 18,
     "metadata": {},
     "output_type": "execute_result"
    }
   ],
   "source": [
    "current_values.values['messages'][-1].tool_calls"
   ]
  },
  {
   "cell_type": "code",
   "execution_count": 19,
   "id": "54ab2c74-f32e-490c-a85d-932d11444210",
   "metadata": {
    "height": 115
   },
   "outputs": [],
   "source": [
    "_id = current_values.values['messages'][-1].tool_calls[0]['id']\n",
    "current_values.values['messages'][-1].tool_calls = [\n",
    "    {'name': 'tavily_search_results_json',\n",
    "  'args': {'query': 'current weather in Louisiana'},\n",
    "  'id': _id}\n",
    "]"
   ]
  },
  {
   "cell_type": "code",
   "execution_count": 20,
   "id": "a833d3ce-bd31-4319-811d-decff226b970",
   "metadata": {
    "height": 30
   },
   "outputs": [
    {
     "name": "stdout",
     "output_type": "stream",
     "text": [
      "{'messages': [HumanMessage(content='Whats the weather in LA?', additional_kwargs={}, response_metadata={}, id='287694c6-1367-425e-b37e-db1aa731df5c'), AIMessage(content='', additional_kwargs={'tool_calls': [{'id': 'call_Cr4eE11mE1wqZeMhiDdSFmh7', 'function': {'arguments': '{\"query\":\"weather in Los Angeles\"}', 'name': 'tavily_search_results_json'}, 'type': 'function'}], 'refusal': None}, response_metadata={'token_usage': {'completion_tokens': 21, 'prompt_tokens': 152, 'total_tokens': 173, 'completion_tokens_details': {'accepted_prediction_tokens': 0, 'audio_tokens': 0, 'reasoning_tokens': 0, 'rejected_prediction_tokens': 0}, 'prompt_tokens_details': {'audio_tokens': 0, 'cached_tokens': 0}}, 'model_name': 'gpt-3.5-turbo-0125', 'system_fingerprint': None, 'id': 'chatcmpl-BulOTaI9Ij6l1SXPf2FrF0Qq7arHf', 'service_tier': 'default', 'finish_reason': 'tool_calls', 'logprobs': None}, id='run--e8cb2388-c3e7-4ee2-9a42-62d262618e60-0', tool_calls=[{'name': 'tavily_search_results_json', 'args': {'query': 'current weather in Louisiana'}, 'id': 'call_Cr4eE11mE1wqZeMhiDdSFmh7'}], usage_metadata={'input_tokens': 152, 'output_tokens': 21, 'total_tokens': 173, 'input_token_details': {'audio': 0, 'cache_read': 0}, 'output_token_details': {'audio': 0, 'reasoning': 0}})]}\n"
     ]
    },
    {
     "data": {
      "text/plain": [
       "{'configurable': {'thread_id': '3',\n",
       "  'checkpoint_ns': '',\n",
       "  'checkpoint_id': '1f064108-5eb4-6416-8002-0fc87f65e2b9'}}"
      ]
     },
     "execution_count": 20,
     "metadata": {},
     "output_type": "execute_result"
    }
   ],
   "source": [
    "abot.graph.update_state(thread, current_values.values)"
   ]
  },
  {
   "cell_type": "code",
   "execution_count": 21,
   "id": "76e93cce-6eab-4c7c-ac64-e9993fdb30d6",
   "metadata": {
    "height": 30
   },
   "outputs": [
    {
     "data": {
      "text/plain": [
       "StateSnapshot(values={'messages': [HumanMessage(content='Whats the weather in LA?', additional_kwargs={}, response_metadata={}, id='287694c6-1367-425e-b37e-db1aa731df5c'), AIMessage(content='', additional_kwargs={'tool_calls': [{'id': 'call_Cr4eE11mE1wqZeMhiDdSFmh7', 'function': {'arguments': '{\"query\":\"weather in Los Angeles\"}', 'name': 'tavily_search_results_json'}, 'type': 'function'}], 'refusal': None}, response_metadata={'token_usage': {'completion_tokens': 21, 'prompt_tokens': 152, 'total_tokens': 173, 'completion_tokens_details': {'accepted_prediction_tokens': 0, 'audio_tokens': 0, 'reasoning_tokens': 0, 'rejected_prediction_tokens': 0}, 'prompt_tokens_details': {'audio_tokens': 0, 'cached_tokens': 0}}, 'model_name': 'gpt-3.5-turbo-0125', 'system_fingerprint': None, 'id': 'chatcmpl-BulOTaI9Ij6l1SXPf2FrF0Qq7arHf', 'service_tier': 'default', 'finish_reason': 'tool_calls', 'logprobs': None}, id='run--e8cb2388-c3e7-4ee2-9a42-62d262618e60-0', tool_calls=[{'name': 'tavily_search_results_json', 'args': {'query': 'current weather in Louisiana'}, 'id': 'call_Cr4eE11mE1wqZeMhiDdSFmh7', 'type': 'tool_call'}], usage_metadata={'input_tokens': 152, 'output_tokens': 21, 'total_tokens': 173, 'input_token_details': {'audio': 0, 'cache_read': 0}, 'output_token_details': {'audio': 0, 'reasoning': 0}})]}, next=('action',), config={'configurable': {'thread_id': '3', 'checkpoint_ns': '', 'checkpoint_id': '1f064108-5eb4-6416-8002-0fc87f65e2b9'}}, metadata={'source': 'update', 'step': 2, 'parents': {}}, created_at='2025-07-18T19:50:57.752769+00:00', parent_config={'configurable': {'thread_id': '3', 'checkpoint_ns': '', 'checkpoint_id': '1f064108-132a-6ff4-8001-4631f4ddb8b3'}}, tasks=(PregelTask(id='7730dcc9-6af9-4135-94ed-574077c7eee7', name='action', path=('__pregel_pull', 'action'), error=None, interrupts=(), state=None, result=None),), interrupts=())"
      ]
     },
     "execution_count": 21,
     "metadata": {},
     "output_type": "execute_result"
    }
   ],
   "source": [
    "abot.graph.get_state(thread)"
   ]
  },
  {
   "cell_type": "code",
   "execution_count": 22,
   "id": "fd2d0990-a932-423f-9ff3-5cada58c5f32",
   "metadata": {
    "height": 64
   },
   "outputs": [
    {
     "name": "stdout",
     "output_type": "stream",
     "text": [
      "Calling: {'name': 'tavily_search_results_json', 'args': {'query': 'current weather in Louisiana'}, 'id': 'call_Cr4eE11mE1wqZeMhiDdSFmh7', 'type': 'tool_call'}\n",
      "Back to the model!\n",
      "{'messages': [ToolMessage(content=\"[{'title': 'Louisiana weather in July 2025 - Weather25.com', 'url': 'https://www.weather25.com/north-america/usa/louisiana?page=month&month=July', 'content': '| Sun | Mon | Tue | Wed | Thu | Fri | Sat |\\\\n| --- | --- | --- | --- | --- | --- | --- |\\\\n|  |  | 1 Moderate or heavy rain shower 33° /25° | 2 Moderate or heavy rain shower 33° /25° | 3 Light rain shower 32° /25° | 4 Patchy rain possible 33° /25° | 5 Sunny 34° /25° | [...] weather25.com\\\\nSearch\\\\nweather in United States\\\\nRemove from your favorite locations\\\\nAdd to my locations\\\\nShare\\\\nweather in United States\\\\n\\\\n# Louisiana weather in July 2025\\\\n\\\\nCloudy\\\\nModerate or heavy rain shower\\\\nHeavy rain\\\\nFog\\\\nPatchy light drizzle\\\\nPatchy light rain with thunder\\\\nPatchy light rain\\\\nPatchy light rain with thunder\\\\nLight rain shower\\\\nPatchy light rain with thunder\\\\nPatchy rain possible\\\\nPartly cloudy\\\\nPatchy rain possible\\\\nPatchy rain possible\\\\n\\\\n## The average weather in Louisiana in July [...] Moderate or heavy rain shower\\\\nModerate or heavy rain shower\\\\nLight rain shower\\\\nPatchy rain possible\\\\nSunny\\\\nLight rain shower\\\\nLight rain shower\\\\nPartly cloudy\\\\nLight rain shower\\\\nModerate or heavy rain shower\\\\nLight rain shower\\\\nModerate or heavy rain shower\\\\nLight rain shower\\\\nModerate or heavy rain shower\\\\nModerate or heavy rain shower\\\\nPatchy rain possible\\\\nLight rain shower\\\\nCloudy\\\\nModerate or heavy rain shower\\\\nHeavy rain\\\\nFog\\\\nPatchy light drizzle\\\\nPatchy light rain with thunder\\\\nPatchy light rain', 'score': 0.838376}, {'title': 'Disturbance moves inland over Louisiana while tropics stay quiet', 'url': 'https://www.local10.com/weather/2025/07/18/disturbance-moves-inland-over-louisiana-while-tropics-stay-quiet/', 'content': 'Partly Cloudy icon\\\\nWPLG Local 10\\\\n\\\\nA heat advisory and a rip current statement in effect for 7 regions in the area\\\\n\\\\nSee the complete list\\\\n\\\\nWEATHER ALERT\\\\n\\\\nA heat advisory and a rip current statement in effect for 7 regions in the area\\\\n\\\\n###### Weather\\\\n\\\\nMichael Lowry, Hurricane Specialist and Storm Surge Expert\\\\n\\\\nPublished: July 18, 2025 at 10:46 AM\\\\n\\\\nUpdated: July 18, 2025 at 11:08 AM\\\\n\\\\nTags: Hurricane, Weather, Talking Tropics\\\\n\\\\n###### latest news [...] As we’ve discussed in previous newsletters, a change in the upper-level wind configuration as August approaches may begin to scour away some of the more hostile conditions we’ve seen so far across the tropical Atlantic. For now at least we don’t see any strong signals for development over the next few weeks.\\\\n\\\\nCLICK HERE to download the Local 10 Weather Authority’s 2025 hurricane survival guide.\\\\n\\\\nCopyright 2025 by WPLG Local10.com - All rights reserved.\\\\n\\\\n###### About The Author\\\\n\\\\nMichael Lowry [...] A flood threat remains over parts of Louisiana today through Saturday evening in 93L’s wake as residual rainfall could locally drop another 6 inches in places.', 'score': 0.79732054}]\", name='tavily_search_results_json', id='bc36e053-325e-4d28-bd52-d6e5daf34da7', tool_call_id='call_Cr4eE11mE1wqZeMhiDdSFmh7')]}\n",
      "{'messages': [HumanMessage(content='Whats the weather in LA?', additional_kwargs={}, response_metadata={}, id='287694c6-1367-425e-b37e-db1aa731df5c'), AIMessage(content='', additional_kwargs={'tool_calls': [{'id': 'call_Cr4eE11mE1wqZeMhiDdSFmh7', 'function': {'arguments': '{\"query\":\"weather in Los Angeles\"}', 'name': 'tavily_search_results_json'}, 'type': 'function'}], 'refusal': None}, response_metadata={'token_usage': {'completion_tokens': 21, 'prompt_tokens': 152, 'total_tokens': 173, 'completion_tokens_details': {'accepted_prediction_tokens': 0, 'audio_tokens': 0, 'reasoning_tokens': 0, 'rejected_prediction_tokens': 0}, 'prompt_tokens_details': {'audio_tokens': 0, 'cached_tokens': 0}}, 'model_name': 'gpt-3.5-turbo-0125', 'system_fingerprint': None, 'id': 'chatcmpl-BulOTaI9Ij6l1SXPf2FrF0Qq7arHf', 'service_tier': 'default', 'finish_reason': 'tool_calls', 'logprobs': None}, id='run--e8cb2388-c3e7-4ee2-9a42-62d262618e60-0', tool_calls=[{'name': 'tavily_search_results_json', 'args': {'query': 'current weather in Louisiana'}, 'id': 'call_Cr4eE11mE1wqZeMhiDdSFmh7', 'type': 'tool_call'}], usage_metadata={'input_tokens': 152, 'output_tokens': 21, 'total_tokens': 173, 'input_token_details': {'audio': 0, 'cache_read': 0}, 'output_token_details': {'audio': 0, 'reasoning': 0}}), ToolMessage(content=\"[{'title': 'Louisiana weather in July 2025 - Weather25.com', 'url': 'https://www.weather25.com/north-america/usa/louisiana?page=month&month=July', 'content': '| Sun | Mon | Tue | Wed | Thu | Fri | Sat |\\\\n| --- | --- | --- | --- | --- | --- | --- |\\\\n|  |  | 1 Moderate or heavy rain shower 33° /25° | 2 Moderate or heavy rain shower 33° /25° | 3 Light rain shower 32° /25° | 4 Patchy rain possible 33° /25° | 5 Sunny 34° /25° | [...] weather25.com\\\\nSearch\\\\nweather in United States\\\\nRemove from your favorite locations\\\\nAdd to my locations\\\\nShare\\\\nweather in United States\\\\n\\\\n# Louisiana weather in July 2025\\\\n\\\\nCloudy\\\\nModerate or heavy rain shower\\\\nHeavy rain\\\\nFog\\\\nPatchy light drizzle\\\\nPatchy light rain with thunder\\\\nPatchy light rain\\\\nPatchy light rain with thunder\\\\nLight rain shower\\\\nPatchy light rain with thunder\\\\nPatchy rain possible\\\\nPartly cloudy\\\\nPatchy rain possible\\\\nPatchy rain possible\\\\n\\\\n## The average weather in Louisiana in July [...] Moderate or heavy rain shower\\\\nModerate or heavy rain shower\\\\nLight rain shower\\\\nPatchy rain possible\\\\nSunny\\\\nLight rain shower\\\\nLight rain shower\\\\nPartly cloudy\\\\nLight rain shower\\\\nModerate or heavy rain shower\\\\nLight rain shower\\\\nModerate or heavy rain shower\\\\nLight rain shower\\\\nModerate or heavy rain shower\\\\nModerate or heavy rain shower\\\\nPatchy rain possible\\\\nLight rain shower\\\\nCloudy\\\\nModerate or heavy rain shower\\\\nHeavy rain\\\\nFog\\\\nPatchy light drizzle\\\\nPatchy light rain with thunder\\\\nPatchy light rain', 'score': 0.838376}, {'title': 'Disturbance moves inland over Louisiana while tropics stay quiet', 'url': 'https://www.local10.com/weather/2025/07/18/disturbance-moves-inland-over-louisiana-while-tropics-stay-quiet/', 'content': 'Partly Cloudy icon\\\\nWPLG Local 10\\\\n\\\\nA heat advisory and a rip current statement in effect for 7 regions in the area\\\\n\\\\nSee the complete list\\\\n\\\\nWEATHER ALERT\\\\n\\\\nA heat advisory and a rip current statement in effect for 7 regions in the area\\\\n\\\\n###### Weather\\\\n\\\\nMichael Lowry, Hurricane Specialist and Storm Surge Expert\\\\n\\\\nPublished: July 18, 2025 at 10:46 AM\\\\n\\\\nUpdated: July 18, 2025 at 11:08 AM\\\\n\\\\nTags: Hurricane, Weather, Talking Tropics\\\\n\\\\n###### latest news [...] As we’ve discussed in previous newsletters, a change in the upper-level wind configuration as August approaches may begin to scour away some of the more hostile conditions we’ve seen so far across the tropical Atlantic. For now at least we don’t see any strong signals for development over the next few weeks.\\\\n\\\\nCLICK HERE to download the Local 10 Weather Authority’s 2025 hurricane survival guide.\\\\n\\\\nCopyright 2025 by WPLG Local10.com - All rights reserved.\\\\n\\\\n###### About The Author\\\\n\\\\nMichael Lowry [...] A flood threat remains over parts of Louisiana today through Saturday evening in 93L’s wake as residual rainfall could locally drop another 6 inches in places.', 'score': 0.79732054}]\", name='tavily_search_results_json', id='bc36e053-325e-4d28-bd52-d6e5daf34da7', tool_call_id='call_Cr4eE11mE1wqZeMhiDdSFmh7'), AIMessage(content='It seems there was a misunderstanding in the search query. Let me correct that and look up the current weather in Los Angeles for you.', additional_kwargs={'tool_calls': [{'id': 'call_vNLwtcDQ843CGmJRTaaWChFE', 'function': {'arguments': '{\"query\":\"current weather in Los Angeles\"}', 'name': 'tavily_search_results_json'}, 'type': 'function'}], 'refusal': None}, response_metadata={'token_usage': {'completion_tokens': 50, 'prompt_tokens': 924, 'total_tokens': 974, 'completion_tokens_details': {'accepted_prediction_tokens': 0, 'audio_tokens': 0, 'reasoning_tokens': 0, 'rejected_prediction_tokens': 0}, 'prompt_tokens_details': {'audio_tokens': 0, 'cached_tokens': 0}}, 'model_name': 'gpt-3.5-turbo-0125', 'system_fingerprint': None, 'id': 'chatcmpl-BulOi2CjpL4ReHjG2mN0Jt9ImimSa', 'service_tier': 'default', 'finish_reason': 'tool_calls', 'logprobs': None}, id='run--67184bcb-409d-4dde-9bf9-316a5602a980-0', tool_calls=[{'name': 'tavily_search_results_json', 'args': {'query': 'current weather in Los Angeles'}, 'id': 'call_vNLwtcDQ843CGmJRTaaWChFE', 'type': 'tool_call'}], usage_metadata={'input_tokens': 924, 'output_tokens': 50, 'total_tokens': 974, 'input_token_details': {'audio': 0, 'cache_read': 0}, 'output_token_details': {'audio': 0, 'reasoning': 0}})]}\n",
      "{'messages': [AIMessage(content='It seems there was a misunderstanding in the search query. Let me correct that and look up the current weather in Los Angeles for you.', additional_kwargs={'tool_calls': [{'id': 'call_vNLwtcDQ843CGmJRTaaWChFE', 'function': {'arguments': '{\"query\":\"current weather in Los Angeles\"}', 'name': 'tavily_search_results_json'}, 'type': 'function'}], 'refusal': None}, response_metadata={'token_usage': {'completion_tokens': 50, 'prompt_tokens': 924, 'total_tokens': 974, 'completion_tokens_details': {'accepted_prediction_tokens': 0, 'audio_tokens': 0, 'reasoning_tokens': 0, 'rejected_prediction_tokens': 0}, 'prompt_tokens_details': {'audio_tokens': 0, 'cached_tokens': 0}}, 'model_name': 'gpt-3.5-turbo-0125', 'system_fingerprint': None, 'id': 'chatcmpl-BulOi2CjpL4ReHjG2mN0Jt9ImimSa', 'service_tier': 'default', 'finish_reason': 'tool_calls', 'logprobs': None}, id='run--67184bcb-409d-4dde-9bf9-316a5602a980-0', tool_calls=[{'name': 'tavily_search_results_json', 'args': {'query': 'current weather in Los Angeles'}, 'id': 'call_vNLwtcDQ843CGmJRTaaWChFE', 'type': 'tool_call'}], usage_metadata={'input_tokens': 924, 'output_tokens': 50, 'total_tokens': 974, 'input_token_details': {'audio': 0, 'cache_read': 0}, 'output_token_details': {'audio': 0, 'reasoning': 0}})]}\n",
      "()\n"
     ]
    }
   ],
   "source": [
    "for event in abot.graph.stream(None, thread):\n",
    "    for v in event.values():\n",
    "        print(v)"
   ]
  },
  {
   "cell_type": "markdown",
   "id": "e75b870b-e0df-46f1-b29b-fb151ebcbcc3",
   "metadata": {},
   "source": [
    "## Time Travel"
   ]
  },
  {
   "cell_type": "code",
   "execution_count": 23,
   "id": "27cde654-64e2-48bc-80a9-0ed668ccb7dc",
   "metadata": {
    "height": 98
   },
   "outputs": [
    {
     "name": "stdout",
     "output_type": "stream",
     "text": [
      "StateSnapshot(values={'messages': [HumanMessage(content='Whats the weather in LA?', additional_kwargs={}, response_metadata={}, id='287694c6-1367-425e-b37e-db1aa731df5c'), AIMessage(content='', additional_kwargs={'tool_calls': [{'id': 'call_Cr4eE11mE1wqZeMhiDdSFmh7', 'function': {'arguments': '{\"query\":\"weather in Los Angeles\"}', 'name': 'tavily_search_results_json'}, 'type': 'function'}], 'refusal': None}, response_metadata={'token_usage': {'completion_tokens': 21, 'prompt_tokens': 152, 'total_tokens': 173, 'completion_tokens_details': {'accepted_prediction_tokens': 0, 'audio_tokens': 0, 'reasoning_tokens': 0, 'rejected_prediction_tokens': 0}, 'prompt_tokens_details': {'audio_tokens': 0, 'cached_tokens': 0}}, 'model_name': 'gpt-3.5-turbo-0125', 'system_fingerprint': None, 'id': 'chatcmpl-BulOTaI9Ij6l1SXPf2FrF0Qq7arHf', 'service_tier': 'default', 'finish_reason': 'tool_calls', 'logprobs': None}, id='run--e8cb2388-c3e7-4ee2-9a42-62d262618e60-0', tool_calls=[{'name': 'tavily_search_results_json', 'args': {'query': 'current weather in Louisiana'}, 'id': 'call_Cr4eE11mE1wqZeMhiDdSFmh7', 'type': 'tool_call'}], usage_metadata={'input_tokens': 152, 'output_tokens': 21, 'total_tokens': 173, 'input_token_details': {'audio': 0, 'cache_read': 0}, 'output_token_details': {'audio': 0, 'reasoning': 0}}), ToolMessage(content=\"[{'title': 'Louisiana weather in July 2025 - Weather25.com', 'url': 'https://www.weather25.com/north-america/usa/louisiana?page=month&month=July', 'content': '| Sun | Mon | Tue | Wed | Thu | Fri | Sat |\\\\n| --- | --- | --- | --- | --- | --- | --- |\\\\n|  |  | 1 Moderate or heavy rain shower 33° /25° | 2 Moderate or heavy rain shower 33° /25° | 3 Light rain shower 32° /25° | 4 Patchy rain possible 33° /25° | 5 Sunny 34° /25° | [...] weather25.com\\\\nSearch\\\\nweather in United States\\\\nRemove from your favorite locations\\\\nAdd to my locations\\\\nShare\\\\nweather in United States\\\\n\\\\n# Louisiana weather in July 2025\\\\n\\\\nCloudy\\\\nModerate or heavy rain shower\\\\nHeavy rain\\\\nFog\\\\nPatchy light drizzle\\\\nPatchy light rain with thunder\\\\nPatchy light rain\\\\nPatchy light rain with thunder\\\\nLight rain shower\\\\nPatchy light rain with thunder\\\\nPatchy rain possible\\\\nPartly cloudy\\\\nPatchy rain possible\\\\nPatchy rain possible\\\\n\\\\n## The average weather in Louisiana in July [...] Moderate or heavy rain shower\\\\nModerate or heavy rain shower\\\\nLight rain shower\\\\nPatchy rain possible\\\\nSunny\\\\nLight rain shower\\\\nLight rain shower\\\\nPartly cloudy\\\\nLight rain shower\\\\nModerate or heavy rain shower\\\\nLight rain shower\\\\nModerate or heavy rain shower\\\\nLight rain shower\\\\nModerate or heavy rain shower\\\\nModerate or heavy rain shower\\\\nPatchy rain possible\\\\nLight rain shower\\\\nCloudy\\\\nModerate or heavy rain shower\\\\nHeavy rain\\\\nFog\\\\nPatchy light drizzle\\\\nPatchy light rain with thunder\\\\nPatchy light rain', 'score': 0.838376}, {'title': 'Disturbance moves inland over Louisiana while tropics stay quiet', 'url': 'https://www.local10.com/weather/2025/07/18/disturbance-moves-inland-over-louisiana-while-tropics-stay-quiet/', 'content': 'Partly Cloudy icon\\\\nWPLG Local 10\\\\n\\\\nA heat advisory and a rip current statement in effect for 7 regions in the area\\\\n\\\\nSee the complete list\\\\n\\\\nWEATHER ALERT\\\\n\\\\nA heat advisory and a rip current statement in effect for 7 regions in the area\\\\n\\\\n###### Weather\\\\n\\\\nMichael Lowry, Hurricane Specialist and Storm Surge Expert\\\\n\\\\nPublished: July 18, 2025 at 10:46 AM\\\\n\\\\nUpdated: July 18, 2025 at 11:08 AM\\\\n\\\\nTags: Hurricane, Weather, Talking Tropics\\\\n\\\\n###### latest news [...] As we’ve discussed in previous newsletters, a change in the upper-level wind configuration as August approaches may begin to scour away some of the more hostile conditions we’ve seen so far across the tropical Atlantic. For now at least we don’t see any strong signals for development over the next few weeks.\\\\n\\\\nCLICK HERE to download the Local 10 Weather Authority’s 2025 hurricane survival guide.\\\\n\\\\nCopyright 2025 by WPLG Local10.com - All rights reserved.\\\\n\\\\n###### About The Author\\\\n\\\\nMichael Lowry [...] A flood threat remains over parts of Louisiana today through Saturday evening in 93L’s wake as residual rainfall could locally drop another 6 inches in places.', 'score': 0.79732054}]\", name='tavily_search_results_json', id='bc36e053-325e-4d28-bd52-d6e5daf34da7', tool_call_id='call_Cr4eE11mE1wqZeMhiDdSFmh7'), AIMessage(content='It seems there was a misunderstanding in the search query. Let me correct that and look up the current weather in Los Angeles for you.', additional_kwargs={'tool_calls': [{'id': 'call_vNLwtcDQ843CGmJRTaaWChFE', 'function': {'arguments': '{\"query\":\"current weather in Los Angeles\"}', 'name': 'tavily_search_results_json'}, 'type': 'function'}], 'refusal': None}, response_metadata={'token_usage': {'completion_tokens': 50, 'prompt_tokens': 924, 'total_tokens': 974, 'completion_tokens_details': {'accepted_prediction_tokens': 0, 'audio_tokens': 0, 'reasoning_tokens': 0, 'rejected_prediction_tokens': 0}, 'prompt_tokens_details': {'audio_tokens': 0, 'cached_tokens': 0}}, 'model_name': 'gpt-3.5-turbo-0125', 'system_fingerprint': None, 'id': 'chatcmpl-BulOi2CjpL4ReHjG2mN0Jt9ImimSa', 'service_tier': 'default', 'finish_reason': 'tool_calls', 'logprobs': None}, id='run--67184bcb-409d-4dde-9bf9-316a5602a980-0', tool_calls=[{'name': 'tavily_search_results_json', 'args': {'query': 'current weather in Los Angeles'}, 'id': 'call_vNLwtcDQ843CGmJRTaaWChFE', 'type': 'tool_call'}], usage_metadata={'input_tokens': 924, 'output_tokens': 50, 'total_tokens': 974, 'input_token_details': {'audio': 0, 'cache_read': 0}, 'output_token_details': {'audio': 0, 'reasoning': 0}})]}, next=('action',), config={'configurable': {'thread_id': '3', 'checkpoint_ns': '', 'checkpoint_id': '1f064108-a1ba-6576-8004-cbabcca9cb8c'}}, metadata={'source': 'loop', 'step': 4, 'parents': {}}, created_at='2025-07-18T19:51:04.780711+00:00', parent_config={'configurable': {'thread_id': '3', 'checkpoint_ns': '', 'checkpoint_id': '1f064108-93a9-6630-8003-339aea8bc236'}}, tasks=(PregelTask(id='6b214382-edef-a400-9037-fc8f17d29a80', name='action', path=('__pregel_pull', 'action'), error=None, interrupts=(), state=None, result=None),), interrupts=())\n",
      "--\n",
      "StateSnapshot(values={'messages': [HumanMessage(content='Whats the weather in LA?', additional_kwargs={}, response_metadata={}, id='287694c6-1367-425e-b37e-db1aa731df5c'), AIMessage(content='', additional_kwargs={'tool_calls': [{'id': 'call_Cr4eE11mE1wqZeMhiDdSFmh7', 'function': {'arguments': '{\"query\":\"weather in Los Angeles\"}', 'name': 'tavily_search_results_json'}, 'type': 'function'}], 'refusal': None}, response_metadata={'token_usage': {'completion_tokens': 21, 'prompt_tokens': 152, 'total_tokens': 173, 'completion_tokens_details': {'accepted_prediction_tokens': 0, 'audio_tokens': 0, 'reasoning_tokens': 0, 'rejected_prediction_tokens': 0}, 'prompt_tokens_details': {'audio_tokens': 0, 'cached_tokens': 0}}, 'model_name': 'gpt-3.5-turbo-0125', 'system_fingerprint': None, 'id': 'chatcmpl-BulOTaI9Ij6l1SXPf2FrF0Qq7arHf', 'service_tier': 'default', 'finish_reason': 'tool_calls', 'logprobs': None}, id='run--e8cb2388-c3e7-4ee2-9a42-62d262618e60-0', tool_calls=[{'name': 'tavily_search_results_json', 'args': {'query': 'current weather in Louisiana'}, 'id': 'call_Cr4eE11mE1wqZeMhiDdSFmh7', 'type': 'tool_call'}], usage_metadata={'input_tokens': 152, 'output_tokens': 21, 'total_tokens': 173, 'input_token_details': {'audio': 0, 'cache_read': 0}, 'output_token_details': {'audio': 0, 'reasoning': 0}}), ToolMessage(content=\"[{'title': 'Louisiana weather in July 2025 - Weather25.com', 'url': 'https://www.weather25.com/north-america/usa/louisiana?page=month&month=July', 'content': '| Sun | Mon | Tue | Wed | Thu | Fri | Sat |\\\\n| --- | --- | --- | --- | --- | --- | --- |\\\\n|  |  | 1 Moderate or heavy rain shower 33° /25° | 2 Moderate or heavy rain shower 33° /25° | 3 Light rain shower 32° /25° | 4 Patchy rain possible 33° /25° | 5 Sunny 34° /25° | [...] weather25.com\\\\nSearch\\\\nweather in United States\\\\nRemove from your favorite locations\\\\nAdd to my locations\\\\nShare\\\\nweather in United States\\\\n\\\\n# Louisiana weather in July 2025\\\\n\\\\nCloudy\\\\nModerate or heavy rain shower\\\\nHeavy rain\\\\nFog\\\\nPatchy light drizzle\\\\nPatchy light rain with thunder\\\\nPatchy light rain\\\\nPatchy light rain with thunder\\\\nLight rain shower\\\\nPatchy light rain with thunder\\\\nPatchy rain possible\\\\nPartly cloudy\\\\nPatchy rain possible\\\\nPatchy rain possible\\\\n\\\\n## The average weather in Louisiana in July [...] Moderate or heavy rain shower\\\\nModerate or heavy rain shower\\\\nLight rain shower\\\\nPatchy rain possible\\\\nSunny\\\\nLight rain shower\\\\nLight rain shower\\\\nPartly cloudy\\\\nLight rain shower\\\\nModerate or heavy rain shower\\\\nLight rain shower\\\\nModerate or heavy rain shower\\\\nLight rain shower\\\\nModerate or heavy rain shower\\\\nModerate or heavy rain shower\\\\nPatchy rain possible\\\\nLight rain shower\\\\nCloudy\\\\nModerate or heavy rain shower\\\\nHeavy rain\\\\nFog\\\\nPatchy light drizzle\\\\nPatchy light rain with thunder\\\\nPatchy light rain', 'score': 0.838376}, {'title': 'Disturbance moves inland over Louisiana while tropics stay quiet', 'url': 'https://www.local10.com/weather/2025/07/18/disturbance-moves-inland-over-louisiana-while-tropics-stay-quiet/', 'content': 'Partly Cloudy icon\\\\nWPLG Local 10\\\\n\\\\nA heat advisory and a rip current statement in effect for 7 regions in the area\\\\n\\\\nSee the complete list\\\\n\\\\nWEATHER ALERT\\\\n\\\\nA heat advisory and a rip current statement in effect for 7 regions in the area\\\\n\\\\n###### Weather\\\\n\\\\nMichael Lowry, Hurricane Specialist and Storm Surge Expert\\\\n\\\\nPublished: July 18, 2025 at 10:46 AM\\\\n\\\\nUpdated: July 18, 2025 at 11:08 AM\\\\n\\\\nTags: Hurricane, Weather, Talking Tropics\\\\n\\\\n###### latest news [...] As we’ve discussed in previous newsletters, a change in the upper-level wind configuration as August approaches may begin to scour away some of the more hostile conditions we’ve seen so far across the tropical Atlantic. For now at least we don’t see any strong signals for development over the next few weeks.\\\\n\\\\nCLICK HERE to download the Local 10 Weather Authority’s 2025 hurricane survival guide.\\\\n\\\\nCopyright 2025 by WPLG Local10.com - All rights reserved.\\\\n\\\\n###### About The Author\\\\n\\\\nMichael Lowry [...] A flood threat remains over parts of Louisiana today through Saturday evening in 93L’s wake as residual rainfall could locally drop another 6 inches in places.', 'score': 0.79732054}]\", name='tavily_search_results_json', id='bc36e053-325e-4d28-bd52-d6e5daf34da7', tool_call_id='call_Cr4eE11mE1wqZeMhiDdSFmh7')]}, next=('llm',), config={'configurable': {'thread_id': '3', 'checkpoint_ns': '', 'checkpoint_id': '1f064108-93a9-6630-8003-339aea8bc236'}}, metadata={'source': 'loop', 'step': 3, 'parents': {}}, created_at='2025-07-18T19:51:03.305762+00:00', parent_config={'configurable': {'thread_id': '3', 'checkpoint_ns': '', 'checkpoint_id': '1f064108-5eb4-6416-8002-0fc87f65e2b9'}}, tasks=(PregelTask(id='c5a15414-b4ca-8fe0-1b57-5cbf52aad3ec', name='llm', path=('__pregel_pull', 'llm'), error=None, interrupts=(), state=None, result={'messages': [AIMessage(content='It seems there was a misunderstanding in the search query. Let me correct that and look up the current weather in Los Angeles for you.', additional_kwargs={'tool_calls': [{'id': 'call_vNLwtcDQ843CGmJRTaaWChFE', 'function': {'arguments': '{\"query\":\"current weather in Los Angeles\"}', 'name': 'tavily_search_results_json'}, 'type': 'function'}], 'refusal': None}, response_metadata={'token_usage': {'completion_tokens': 50, 'prompt_tokens': 924, 'total_tokens': 974, 'completion_tokens_details': {'accepted_prediction_tokens': 0, 'audio_tokens': 0, 'reasoning_tokens': 0, 'rejected_prediction_tokens': 0}, 'prompt_tokens_details': {'audio_tokens': 0, 'cached_tokens': 0}}, 'model_name': 'gpt-3.5-turbo-0125', 'system_fingerprint': None, 'id': 'chatcmpl-BulOi2CjpL4ReHjG2mN0Jt9ImimSa', 'service_tier': 'default', 'finish_reason': 'tool_calls', 'logprobs': None}, id='run--67184bcb-409d-4dde-9bf9-316a5602a980-0', tool_calls=[{'name': 'tavily_search_results_json', 'args': {'query': 'current weather in Los Angeles'}, 'id': 'call_vNLwtcDQ843CGmJRTaaWChFE', 'type': 'tool_call'}], usage_metadata={'input_tokens': 924, 'output_tokens': 50, 'total_tokens': 974, 'input_token_details': {'audio': 0, 'cache_read': 0}, 'output_token_details': {'audio': 0, 'reasoning': 0}})]}),), interrupts=())\n",
      "--\n",
      "StateSnapshot(values={'messages': [HumanMessage(content='Whats the weather in LA?', additional_kwargs={}, response_metadata={}, id='287694c6-1367-425e-b37e-db1aa731df5c'), AIMessage(content='', additional_kwargs={'tool_calls': [{'id': 'call_Cr4eE11mE1wqZeMhiDdSFmh7', 'function': {'arguments': '{\"query\":\"weather in Los Angeles\"}', 'name': 'tavily_search_results_json'}, 'type': 'function'}], 'refusal': None}, response_metadata={'token_usage': {'completion_tokens': 21, 'prompt_tokens': 152, 'total_tokens': 173, 'completion_tokens_details': {'accepted_prediction_tokens': 0, 'audio_tokens': 0, 'reasoning_tokens': 0, 'rejected_prediction_tokens': 0}, 'prompt_tokens_details': {'audio_tokens': 0, 'cached_tokens': 0}}, 'model_name': 'gpt-3.5-turbo-0125', 'system_fingerprint': None, 'id': 'chatcmpl-BulOTaI9Ij6l1SXPf2FrF0Qq7arHf', 'service_tier': 'default', 'finish_reason': 'tool_calls', 'logprobs': None}, id='run--e8cb2388-c3e7-4ee2-9a42-62d262618e60-0', tool_calls=[{'name': 'tavily_search_results_json', 'args': {'query': 'current weather in Louisiana'}, 'id': 'call_Cr4eE11mE1wqZeMhiDdSFmh7', 'type': 'tool_call'}], usage_metadata={'input_tokens': 152, 'output_tokens': 21, 'total_tokens': 173, 'input_token_details': {'audio': 0, 'cache_read': 0}, 'output_token_details': {'audio': 0, 'reasoning': 0}})]}, next=('action',), config={'configurable': {'thread_id': '3', 'checkpoint_ns': '', 'checkpoint_id': '1f064108-5eb4-6416-8002-0fc87f65e2b9'}}, metadata={'source': 'update', 'step': 2, 'parents': {}}, created_at='2025-07-18T19:50:57.752769+00:00', parent_config={'configurable': {'thread_id': '3', 'checkpoint_ns': '', 'checkpoint_id': '1f064108-132a-6ff4-8001-4631f4ddb8b3'}}, tasks=(PregelTask(id='7730dcc9-6af9-4135-94ed-574077c7eee7', name='action', path=('__pregel_pull', 'action'), error=None, interrupts=(), state=None, result={'messages': [ToolMessage(content=\"[{'title': 'Louisiana weather in July 2025 - Weather25.com', 'url': 'https://www.weather25.com/north-america/usa/louisiana?page=month&month=July', 'content': '| Sun | Mon | Tue | Wed | Thu | Fri | Sat |\\\\n| --- | --- | --- | --- | --- | --- | --- |\\\\n|  |  | 1 Moderate or heavy rain shower 33° /25° | 2 Moderate or heavy rain shower 33° /25° | 3 Light rain shower 32° /25° | 4 Patchy rain possible 33° /25° | 5 Sunny 34° /25° | [...] weather25.com\\\\nSearch\\\\nweather in United States\\\\nRemove from your favorite locations\\\\nAdd to my locations\\\\nShare\\\\nweather in United States\\\\n\\\\n# Louisiana weather in July 2025\\\\n\\\\nCloudy\\\\nModerate or heavy rain shower\\\\nHeavy rain\\\\nFog\\\\nPatchy light drizzle\\\\nPatchy light rain with thunder\\\\nPatchy light rain\\\\nPatchy light rain with thunder\\\\nLight rain shower\\\\nPatchy light rain with thunder\\\\nPatchy rain possible\\\\nPartly cloudy\\\\nPatchy rain possible\\\\nPatchy rain possible\\\\n\\\\n## The average weather in Louisiana in July [...] Moderate or heavy rain shower\\\\nModerate or heavy rain shower\\\\nLight rain shower\\\\nPatchy rain possible\\\\nSunny\\\\nLight rain shower\\\\nLight rain shower\\\\nPartly cloudy\\\\nLight rain shower\\\\nModerate or heavy rain shower\\\\nLight rain shower\\\\nModerate or heavy rain shower\\\\nLight rain shower\\\\nModerate or heavy rain shower\\\\nModerate or heavy rain shower\\\\nPatchy rain possible\\\\nLight rain shower\\\\nCloudy\\\\nModerate or heavy rain shower\\\\nHeavy rain\\\\nFog\\\\nPatchy light drizzle\\\\nPatchy light rain with thunder\\\\nPatchy light rain', 'score': 0.838376}, {'title': 'Disturbance moves inland over Louisiana while tropics stay quiet', 'url': 'https://www.local10.com/weather/2025/07/18/disturbance-moves-inland-over-louisiana-while-tropics-stay-quiet/', 'content': 'Partly Cloudy icon\\\\nWPLG Local 10\\\\n\\\\nA heat advisory and a rip current statement in effect for 7 regions in the area\\\\n\\\\nSee the complete list\\\\n\\\\nWEATHER ALERT\\\\n\\\\nA heat advisory and a rip current statement in effect for 7 regions in the area\\\\n\\\\n###### Weather\\\\n\\\\nMichael Lowry, Hurricane Specialist and Storm Surge Expert\\\\n\\\\nPublished: July 18, 2025 at 10:46 AM\\\\n\\\\nUpdated: July 18, 2025 at 11:08 AM\\\\n\\\\nTags: Hurricane, Weather, Talking Tropics\\\\n\\\\n###### latest news [...] As we’ve discussed in previous newsletters, a change in the upper-level wind configuration as August approaches may begin to scour away some of the more hostile conditions we’ve seen so far across the tropical Atlantic. For now at least we don’t see any strong signals for development over the next few weeks.\\\\n\\\\nCLICK HERE to download the Local 10 Weather Authority’s 2025 hurricane survival guide.\\\\n\\\\nCopyright 2025 by WPLG Local10.com - All rights reserved.\\\\n\\\\n###### About The Author\\\\n\\\\nMichael Lowry [...] A flood threat remains over parts of Louisiana today through Saturday evening in 93L’s wake as residual rainfall could locally drop another 6 inches in places.', 'score': 0.79732054}]\", name='tavily_search_results_json', tool_call_id='call_Cr4eE11mE1wqZeMhiDdSFmh7')]}),), interrupts=())\n",
      "--\n",
      "StateSnapshot(values={'messages': [HumanMessage(content='Whats the weather in LA?', additional_kwargs={}, response_metadata={}, id='287694c6-1367-425e-b37e-db1aa731df5c'), AIMessage(content='', additional_kwargs={'tool_calls': [{'id': 'call_Cr4eE11mE1wqZeMhiDdSFmh7', 'function': {'arguments': '{\"query\":\"weather in Los Angeles\"}', 'name': 'tavily_search_results_json'}, 'type': 'function'}], 'refusal': None}, response_metadata={'token_usage': {'completion_tokens': 21, 'prompt_tokens': 152, 'total_tokens': 173, 'completion_tokens_details': {'accepted_prediction_tokens': 0, 'audio_tokens': 0, 'reasoning_tokens': 0, 'rejected_prediction_tokens': 0}, 'prompt_tokens_details': {'audio_tokens': 0, 'cached_tokens': 0}}, 'model_name': 'gpt-3.5-turbo-0125', 'system_fingerprint': None, 'id': 'chatcmpl-BulOTaI9Ij6l1SXPf2FrF0Qq7arHf', 'service_tier': 'default', 'finish_reason': 'tool_calls', 'logprobs': None}, id='run--e8cb2388-c3e7-4ee2-9a42-62d262618e60-0', tool_calls=[{'name': 'tavily_search_results_json', 'args': {'query': 'weather in Los Angeles'}, 'id': 'call_Cr4eE11mE1wqZeMhiDdSFmh7', 'type': 'tool_call'}], usage_metadata={'input_tokens': 152, 'output_tokens': 21, 'total_tokens': 173, 'input_token_details': {'audio': 0, 'cache_read': 0}, 'output_token_details': {'audio': 0, 'reasoning': 0}})]}, next=('action',), config={'configurable': {'thread_id': '3', 'checkpoint_ns': '', 'checkpoint_id': '1f064108-132a-6ff4-8001-4631f4ddb8b3'}}, metadata={'source': 'loop', 'step': 1, 'parents': {}}, created_at='2025-07-18T19:50:49.832201+00:00', parent_config={'configurable': {'thread_id': '3', 'checkpoint_ns': '', 'checkpoint_id': '1f064108-0d9e-6ab8-8000-ccec3ed3a2b2'}}, tasks=(PregelTask(id='49eb3b94-a18e-ccfc-8956-8a25d08f09e2', name='action', path=('__pregel_pull', 'action'), error=None, interrupts=(), state=None, result=None),), interrupts=())\n",
      "--\n",
      "StateSnapshot(values={'messages': [HumanMessage(content='Whats the weather in LA?', additional_kwargs={}, response_metadata={}, id='287694c6-1367-425e-b37e-db1aa731df5c')]}, next=('llm',), config={'configurable': {'thread_id': '3', 'checkpoint_ns': '', 'checkpoint_id': '1f064108-0d9e-6ab8-8000-ccec3ed3a2b2'}}, metadata={'source': 'loop', 'step': 0, 'parents': {}}, created_at='2025-07-18T19:50:49.250464+00:00', parent_config={'configurable': {'thread_id': '3', 'checkpoint_ns': '', 'checkpoint_id': '1f064108-0d9b-6912-bfff-837fb856caf2'}}, tasks=(PregelTask(id='c69e91b2-958f-a5ad-2a4a-f52641edb91f', name='llm', path=('__pregel_pull', 'llm'), error=None, interrupts=(), state=None, result={'messages': [AIMessage(content='', additional_kwargs={'tool_calls': [{'id': 'call_Cr4eE11mE1wqZeMhiDdSFmh7', 'function': {'arguments': '{\"query\":\"weather in Los Angeles\"}', 'name': 'tavily_search_results_json'}, 'type': 'function'}], 'refusal': None}, response_metadata={'token_usage': {'completion_tokens': 21, 'prompt_tokens': 152, 'total_tokens': 173, 'completion_tokens_details': {'accepted_prediction_tokens': 0, 'audio_tokens': 0, 'reasoning_tokens': 0, 'rejected_prediction_tokens': 0}, 'prompt_tokens_details': {'audio_tokens': 0, 'cached_tokens': 0}}, 'model_name': 'gpt-3.5-turbo-0125', 'system_fingerprint': None, 'id': 'chatcmpl-BulOTaI9Ij6l1SXPf2FrF0Qq7arHf', 'service_tier': 'default', 'finish_reason': 'tool_calls', 'logprobs': None}, id='run--e8cb2388-c3e7-4ee2-9a42-62d262618e60-0', tool_calls=[{'name': 'tavily_search_results_json', 'args': {'query': 'weather in Los Angeles'}, 'id': 'call_Cr4eE11mE1wqZeMhiDdSFmh7', 'type': 'tool_call'}], usage_metadata={'input_tokens': 152, 'output_tokens': 21, 'total_tokens': 173, 'input_token_details': {'audio': 0, 'cache_read': 0}, 'output_token_details': {'audio': 0, 'reasoning': 0}})]}),), interrupts=())\n",
      "--\n",
      "StateSnapshot(values={'messages': []}, next=('__start__',), config={'configurable': {'thread_id': '3', 'checkpoint_ns': '', 'checkpoint_id': '1f064108-0d9b-6912-bfff-837fb856caf2'}}, metadata={'source': 'input', 'step': -1, 'parents': {}}, created_at='2025-07-18T19:50:49.249189+00:00', parent_config=None, tasks=(PregelTask(id='4c50d218-7350-c926-2cd1-f6e5eaa8bea6', name='__start__', path=('__pregel_pull', '__start__'), error=None, interrupts=(), state=None, result={'messages': [HumanMessage(content='Whats the weather in LA?', additional_kwargs={}, response_metadata={})]}),), interrupts=())\n",
      "--\n"
     ]
    }
   ],
   "source": [
    "states = []\n",
    "for state in abot.graph.get_state_history(thread):\n",
    "    print(state)\n",
    "    print('--')\n",
    "    states.append(state)"
   ]
  },
  {
   "cell_type": "markdown",
   "id": "449896c8-6ec6-4166-b640-9cd1530336a0",
   "metadata": {},
   "source": [
    "To fetch the same state as was filmed, the offset below is changed to `-3` from `-1`. This accounts for the initial state `__start__` and the first state that are now stored to state memory with the latest version of software."
   ]
  },
  {
   "cell_type": "code",
   "execution_count": 24,
   "id": "4871f644-b131-4065-b7ce-b82c20a41f11",
   "metadata": {
    "height": 30
   },
   "outputs": [],
   "source": [
    "to_replay = states[-3]"
   ]
  },
  {
   "cell_type": "code",
   "execution_count": 25,
   "id": "8c3d8070-3f36-4cf0-a677-508e54359c8f",
   "metadata": {
    "height": 30
   },
   "outputs": [
    {
     "data": {
      "text/plain": [
       "StateSnapshot(values={'messages': [HumanMessage(content='Whats the weather in LA?', additional_kwargs={}, response_metadata={}, id='287694c6-1367-425e-b37e-db1aa731df5c'), AIMessage(content='', additional_kwargs={'tool_calls': [{'id': 'call_Cr4eE11mE1wqZeMhiDdSFmh7', 'function': {'arguments': '{\"query\":\"weather in Los Angeles\"}', 'name': 'tavily_search_results_json'}, 'type': 'function'}], 'refusal': None}, response_metadata={'token_usage': {'completion_tokens': 21, 'prompt_tokens': 152, 'total_tokens': 173, 'completion_tokens_details': {'accepted_prediction_tokens': 0, 'audio_tokens': 0, 'reasoning_tokens': 0, 'rejected_prediction_tokens': 0}, 'prompt_tokens_details': {'audio_tokens': 0, 'cached_tokens': 0}}, 'model_name': 'gpt-3.5-turbo-0125', 'system_fingerprint': None, 'id': 'chatcmpl-BulOTaI9Ij6l1SXPf2FrF0Qq7arHf', 'service_tier': 'default', 'finish_reason': 'tool_calls', 'logprobs': None}, id='run--e8cb2388-c3e7-4ee2-9a42-62d262618e60-0', tool_calls=[{'name': 'tavily_search_results_json', 'args': {'query': 'weather in Los Angeles'}, 'id': 'call_Cr4eE11mE1wqZeMhiDdSFmh7', 'type': 'tool_call'}], usage_metadata={'input_tokens': 152, 'output_tokens': 21, 'total_tokens': 173, 'input_token_details': {'audio': 0, 'cache_read': 0}, 'output_token_details': {'audio': 0, 'reasoning': 0}})]}, next=('action',), config={'configurable': {'thread_id': '3', 'checkpoint_ns': '', 'checkpoint_id': '1f064108-132a-6ff4-8001-4631f4ddb8b3'}}, metadata={'source': 'loop', 'step': 1, 'parents': {}}, created_at='2025-07-18T19:50:49.832201+00:00', parent_config={'configurable': {'thread_id': '3', 'checkpoint_ns': '', 'checkpoint_id': '1f064108-0d9e-6ab8-8000-ccec3ed3a2b2'}}, tasks=(PregelTask(id='49eb3b94-a18e-ccfc-8956-8a25d08f09e2', name='action', path=('__pregel_pull', 'action'), error=None, interrupts=(), state=None, result=None),), interrupts=())"
      ]
     },
     "execution_count": 25,
     "metadata": {},
     "output_type": "execute_result"
    }
   ],
   "source": [
    "to_replay"
   ]
  },
  {
   "cell_type": "code",
   "execution_count": 26,
   "id": "98f3be1d-cc4c-41fa-9863-3e386e88e305",
   "metadata": {
    "height": 64
   },
   "outputs": [
    {
     "name": "stdout",
     "output_type": "stream",
     "text": [
      "Calling: {'name': 'tavily_search_results_json', 'args': {'query': 'weather in Los Angeles'}, 'id': 'call_Cr4eE11mE1wqZeMhiDdSFmh7', 'type': 'tool_call'}\n",
      "Back to the model!\n",
      "{'messages': [ToolMessage(content=\"[{'title': 'Weather Los Angeles in July 2025: Temperature & Climate', 'url': 'https://en.climate-data.org/north-america/united-states-of-america/california/los-angeles-714829/t/july-7/', 'content': '| 17\\\\\\\\. July | 24 °C | 76 °F | 31 °C | 89 °F | 18 °C | 64 °F | 0.0 mm | 0.0 inch. |\\\\n| 18\\\\\\\\. July | 24 °C | 76 °F | 31 °C | 89 °F | 18 °C | 65 °F | 0.1 mm | 0.0 inch. |\\\\n| 19\\\\\\\\. July | 25 °C | 76 °F | 32 °C | 89 °F | 18 °C | 65 °F | 0.0 mm | 0.0 inch. |\\\\n| 20\\\\\\\\. July | 25 °C | 76 °F | 32 °C | 89 °F | 18 °C | 65 °F | 0.2 mm | 0.0 inch. |\\\\n| 21\\\\\\\\. July | 25 °C | 76 °F | 32 °C | 89 °F | 18 °C | 65 °F | 0.0 mm | 0.0 inch. |\\\\n| 22\\\\\\\\. July | 25 °C | 76 °F | 32 °C | 90 °F | 18 °C | 65 °F | 0.2 mm | 0.0 inch. | [...] (89.5) °F\\\\n\\\\n | 31 °C\\\\n\\\\n(87.7) °F\\\\n\\\\n | 27.2 °C\\\\n\\\\n(81) °F\\\\n\\\\n | 23.1 °C\\\\n\\\\n(73.5) °F\\\\n\\\\n | 18.8 °C\\\\n\\\\n(65.9) °F\\\\n\\\\n |\\\\n| Precipitation / Rainfall mm (in) | 84\\\\n\\\\n(3)\\\\n\\\\n | 89\\\\n\\\\n(3)\\\\n\\\\n | 54\\\\n\\\\n(2)\\\\n\\\\n | 19\\\\n\\\\n(0)\\\\n\\\\n | 11\\\\n\\\\n(0)\\\\n\\\\n | 3\\\\n\\\\n(0)\\\\n\\\\n | 2\\\\n\\\\n(0)\\\\n\\\\n | 0\\\\n\\\\n(0)\\\\n\\\\n | 4\\\\n\\\\n(0)\\\\n\\\\n | 17\\\\n\\\\n(0)\\\\n\\\\n | 21\\\\n\\\\n(0)\\\\n\\\\n | 53\\\\n\\\\n(2) [...] |\\\\n| Min. Temperature °C (°F) | 6.7 °C\\\\n\\\\n(44.1) °F\\\\n\\\\n | 6.8 °C\\\\n\\\\n(44.2) °F\\\\n\\\\n | 8.3 °C\\\\n\\\\n(47) °F\\\\n\\\\n | 9.7 °C\\\\n\\\\n(49.5) °F\\\\n\\\\n | 12.3 °C\\\\n\\\\n(54.1) °F\\\\n\\\\n | 15 °C\\\\n\\\\n(58.9) °F\\\\n\\\\n | 17.9 °C\\\\n\\\\n(64.3) °F\\\\n\\\\n | 18.2 °C\\\\n\\\\n(64.8) °F\\\\n\\\\n | 17 °C\\\\n\\\\n(62.6) °F\\\\n\\\\n | 13.6 °C\\\\n\\\\n(56.5) °F\\\\n\\\\n | 9.8 °C\\\\n\\\\n(49.7) °F\\\\n\\\\n | 6.5 °C\\\\n\\\\n(43.8) °F\\\\n\\\\n |\\\\n| Max. Temperature °C (°F) | 19.5 °C\\\\n\\\\n(67.2) °F\\\\n\\\\n | 19.4 °C\\\\n\\\\n(66.9) °F\\\\n\\\\n | 21.4 °C\\\\n\\\\n(70.5) °F\\\\n\\\\n | 23.3 °C\\\\n\\\\n(73.9) °F\\\\n\\\\n | 25.2 °C\\\\n\\\\n(77.4) °F\\\\n\\\\n | 28.1 °C\\\\n\\\\n(82.6) °F\\\\n\\\\n | 31.3 °C\\\\n\\\\n(88.3) °F\\\\n\\\\n | 31.9 °C', 'score': 0.8976328}, {'title': 'Los Angeles weather in July 2025 | Weather25.com', 'url': 'https://www.weather25.com/north-america/usa/california/los-angeles?page=month&month=July', 'content': 'Friday Jul 18 Image 8: Partly cloudy 0 mm 28°/19°Saturday Jul 19 Image 9: Partly cloudy 0 mm 29°/18°Sunday Jul 20 Image 10: Partly cloudy 0 mm 29°/18°Monday Jul 21 Image 11: Cloudy 0 mm 28°/17°Tuesday Jul 22 Image 12: Sunny 0 mm 29°/19°Wednesday Jul 23 Image 13: Partly cloudy 0 mm 29°/20°Thursday Jul 24 Image 14: Cloudy 0 mm 31°/21°Friday Jul 25 Image 15: Sunny 0 mm 31°/22°Saturday Jul 26 Image 16: Sunny 0 mm 31°/23°Sunday Jul 27 Image 17: Sunny 0 mm 31°/22°Monday Jul 28 Image 18: Sunny 0 mm [...] | 27 Image 54: Sunny 31°/22° | 28 Image 55: Sunny 31°/22° | 29 Image 56: Sunny 31°/23° | 30 Image 57: Partly cloudy 31°/23° | 31 Image 58: Sunny 33°/24° |  |  |', 'score': 0.89030397}]\", name='tavily_search_results_json', id='41540d7e-61b1-4e27-afbc-be652d90cb26', tool_call_id='call_Cr4eE11mE1wqZeMhiDdSFmh7')]}\n",
      "{'messages': [HumanMessage(content='Whats the weather in LA?', additional_kwargs={}, response_metadata={}, id='287694c6-1367-425e-b37e-db1aa731df5c'), AIMessage(content='', additional_kwargs={'tool_calls': [{'id': 'call_Cr4eE11mE1wqZeMhiDdSFmh7', 'function': {'arguments': '{\"query\":\"weather in Los Angeles\"}', 'name': 'tavily_search_results_json'}, 'type': 'function'}], 'refusal': None}, response_metadata={'token_usage': {'completion_tokens': 21, 'prompt_tokens': 152, 'total_tokens': 173, 'completion_tokens_details': {'accepted_prediction_tokens': 0, 'audio_tokens': 0, 'reasoning_tokens': 0, 'rejected_prediction_tokens': 0}, 'prompt_tokens_details': {'audio_tokens': 0, 'cached_tokens': 0}}, 'model_name': 'gpt-3.5-turbo-0125', 'system_fingerprint': None, 'id': 'chatcmpl-BulOTaI9Ij6l1SXPf2FrF0Qq7arHf', 'service_tier': 'default', 'finish_reason': 'tool_calls', 'logprobs': None}, id='run--e8cb2388-c3e7-4ee2-9a42-62d262618e60-0', tool_calls=[{'name': 'tavily_search_results_json', 'args': {'query': 'weather in Los Angeles'}, 'id': 'call_Cr4eE11mE1wqZeMhiDdSFmh7', 'type': 'tool_call'}], usage_metadata={'input_tokens': 152, 'output_tokens': 21, 'total_tokens': 173, 'input_token_details': {'audio': 0, 'cache_read': 0}, 'output_token_details': {'audio': 0, 'reasoning': 0}}), ToolMessage(content=\"[{'title': 'Weather Los Angeles in July 2025: Temperature & Climate', 'url': 'https://en.climate-data.org/north-america/united-states-of-america/california/los-angeles-714829/t/july-7/', 'content': '| 17\\\\\\\\. July | 24 °C | 76 °F | 31 °C | 89 °F | 18 °C | 64 °F | 0.0 mm | 0.0 inch. |\\\\n| 18\\\\\\\\. July | 24 °C | 76 °F | 31 °C | 89 °F | 18 °C | 65 °F | 0.1 mm | 0.0 inch. |\\\\n| 19\\\\\\\\. July | 25 °C | 76 °F | 32 °C | 89 °F | 18 °C | 65 °F | 0.0 mm | 0.0 inch. |\\\\n| 20\\\\\\\\. July | 25 °C | 76 °F | 32 °C | 89 °F | 18 °C | 65 °F | 0.2 mm | 0.0 inch. |\\\\n| 21\\\\\\\\. July | 25 °C | 76 °F | 32 °C | 89 °F | 18 °C | 65 °F | 0.0 mm | 0.0 inch. |\\\\n| 22\\\\\\\\. July | 25 °C | 76 °F | 32 °C | 90 °F | 18 °C | 65 °F | 0.2 mm | 0.0 inch. | [...] (89.5) °F\\\\n\\\\n | 31 °C\\\\n\\\\n(87.7) °F\\\\n\\\\n | 27.2 °C\\\\n\\\\n(81) °F\\\\n\\\\n | 23.1 °C\\\\n\\\\n(73.5) °F\\\\n\\\\n | 18.8 °C\\\\n\\\\n(65.9) °F\\\\n\\\\n |\\\\n| Precipitation / Rainfall mm (in) | 84\\\\n\\\\n(3)\\\\n\\\\n | 89\\\\n\\\\n(3)\\\\n\\\\n | 54\\\\n\\\\n(2)\\\\n\\\\n | 19\\\\n\\\\n(0)\\\\n\\\\n | 11\\\\n\\\\n(0)\\\\n\\\\n | 3\\\\n\\\\n(0)\\\\n\\\\n | 2\\\\n\\\\n(0)\\\\n\\\\n | 0\\\\n\\\\n(0)\\\\n\\\\n | 4\\\\n\\\\n(0)\\\\n\\\\n | 17\\\\n\\\\n(0)\\\\n\\\\n | 21\\\\n\\\\n(0)\\\\n\\\\n | 53\\\\n\\\\n(2) [...] |\\\\n| Min. Temperature °C (°F) | 6.7 °C\\\\n\\\\n(44.1) °F\\\\n\\\\n | 6.8 °C\\\\n\\\\n(44.2) °F\\\\n\\\\n | 8.3 °C\\\\n\\\\n(47) °F\\\\n\\\\n | 9.7 °C\\\\n\\\\n(49.5) °F\\\\n\\\\n | 12.3 °C\\\\n\\\\n(54.1) °F\\\\n\\\\n | 15 °C\\\\n\\\\n(58.9) °F\\\\n\\\\n | 17.9 °C\\\\n\\\\n(64.3) °F\\\\n\\\\n | 18.2 °C\\\\n\\\\n(64.8) °F\\\\n\\\\n | 17 °C\\\\n\\\\n(62.6) °F\\\\n\\\\n | 13.6 °C\\\\n\\\\n(56.5) °F\\\\n\\\\n | 9.8 °C\\\\n\\\\n(49.7) °F\\\\n\\\\n | 6.5 °C\\\\n\\\\n(43.8) °F\\\\n\\\\n |\\\\n| Max. Temperature °C (°F) | 19.5 °C\\\\n\\\\n(67.2) °F\\\\n\\\\n | 19.4 °C\\\\n\\\\n(66.9) °F\\\\n\\\\n | 21.4 °C\\\\n\\\\n(70.5) °F\\\\n\\\\n | 23.3 °C\\\\n\\\\n(73.9) °F\\\\n\\\\n | 25.2 °C\\\\n\\\\n(77.4) °F\\\\n\\\\n | 28.1 °C\\\\n\\\\n(82.6) °F\\\\n\\\\n | 31.3 °C\\\\n\\\\n(88.3) °F\\\\n\\\\n | 31.9 °C', 'score': 0.8976328}, {'title': 'Los Angeles weather in July 2025 | Weather25.com', 'url': 'https://www.weather25.com/north-america/usa/california/los-angeles?page=month&month=July', 'content': 'Friday Jul 18 Image 8: Partly cloudy 0 mm 28°/19°Saturday Jul 19 Image 9: Partly cloudy 0 mm 29°/18°Sunday Jul 20 Image 10: Partly cloudy 0 mm 29°/18°Monday Jul 21 Image 11: Cloudy 0 mm 28°/17°Tuesday Jul 22 Image 12: Sunny 0 mm 29°/19°Wednesday Jul 23 Image 13: Partly cloudy 0 mm 29°/20°Thursday Jul 24 Image 14: Cloudy 0 mm 31°/21°Friday Jul 25 Image 15: Sunny 0 mm 31°/22°Saturday Jul 26 Image 16: Sunny 0 mm 31°/23°Sunday Jul 27 Image 17: Sunny 0 mm 31°/22°Monday Jul 28 Image 18: Sunny 0 mm [...] | 27 Image 54: Sunny 31°/22° | 28 Image 55: Sunny 31°/22° | 29 Image 56: Sunny 31°/23° | 30 Image 57: Partly cloudy 31°/23° | 31 Image 58: Sunny 33°/24° |  |  |', 'score': 0.89030397}]\", name='tavily_search_results_json', id='41540d7e-61b1-4e27-afbc-be652d90cb26', tool_call_id='call_Cr4eE11mE1wqZeMhiDdSFmh7'), AIMessage(content='The current weather in Los Angeles shows temperatures ranging between 24°C to 25°C (76°F to 76°F) with a mix of sunny and partly cloudy conditions. There is no precipitation expected at the moment.', additional_kwargs={'refusal': None}, response_metadata={'token_usage': {'completion_tokens': 45, 'prompt_tokens': 1476, 'total_tokens': 1521, 'completion_tokens_details': {'accepted_prediction_tokens': 0, 'audio_tokens': 0, 'reasoning_tokens': 0, 'rejected_prediction_tokens': 0}, 'prompt_tokens_details': {'audio_tokens': 0, 'cached_tokens': 0}}, 'model_name': 'gpt-3.5-turbo-0125', 'system_fingerprint': None, 'id': 'chatcmpl-BulOz4vNBZy0hdrpLH0jHAG4G54tn', 'service_tier': 'default', 'finish_reason': 'stop', 'logprobs': None}, id='run--2713a704-5ba9-44e0-b6ca-37f01c74f27b-0', usage_metadata={'input_tokens': 1476, 'output_tokens': 45, 'total_tokens': 1521, 'input_token_details': {'audio': 0, 'cache_read': 0}, 'output_token_details': {'audio': 0, 'reasoning': 0}})]}\n",
      "{'messages': [AIMessage(content='The current weather in Los Angeles shows temperatures ranging between 24°C to 25°C (76°F to 76°F) with a mix of sunny and partly cloudy conditions. There is no precipitation expected at the moment.', additional_kwargs={'refusal': None}, response_metadata={'token_usage': {'completion_tokens': 45, 'prompt_tokens': 1476, 'total_tokens': 1521, 'completion_tokens_details': {'accepted_prediction_tokens': 0, 'audio_tokens': 0, 'reasoning_tokens': 0, 'rejected_prediction_tokens': 0}, 'prompt_tokens_details': {'audio_tokens': 0, 'cached_tokens': 0}}, 'model_name': 'gpt-3.5-turbo-0125', 'system_fingerprint': None, 'id': 'chatcmpl-BulOz4vNBZy0hdrpLH0jHAG4G54tn', 'service_tier': 'default', 'finish_reason': 'stop', 'logprobs': None}, id='run--2713a704-5ba9-44e0-b6ca-37f01c74f27b-0', usage_metadata={'input_tokens': 1476, 'output_tokens': 45, 'total_tokens': 1521, 'input_token_details': {'audio': 0, 'cache_read': 0}, 'output_token_details': {'audio': 0, 'reasoning': 0}})]}\n"
     ]
    }
   ],
   "source": [
    "for event in abot.graph.stream(None, to_replay.config):\n",
    "    for k, v in event.items():\n",
    "        print(v)"
   ]
  },
  {
   "cell_type": "markdown",
   "id": "005353dc-630b-4b40-ab19-56c57ac06611",
   "metadata": {},
   "source": [
    "## Go back in time and edit"
   ]
  },
  {
   "cell_type": "code",
   "execution_count": 27,
   "id": "0ad8a6cc-65d4-4ce7-87aa-4e67d7c23d7b",
   "metadata": {
    "height": 30
   },
   "outputs": [
    {
     "data": {
      "text/plain": [
       "StateSnapshot(values={'messages': [HumanMessage(content='Whats the weather in LA?', additional_kwargs={}, response_metadata={}, id='287694c6-1367-425e-b37e-db1aa731df5c'), AIMessage(content='', additional_kwargs={'tool_calls': [{'id': 'call_Cr4eE11mE1wqZeMhiDdSFmh7', 'function': {'arguments': '{\"query\":\"weather in Los Angeles\"}', 'name': 'tavily_search_results_json'}, 'type': 'function'}], 'refusal': None}, response_metadata={'token_usage': {'completion_tokens': 21, 'prompt_tokens': 152, 'total_tokens': 173, 'completion_tokens_details': {'accepted_prediction_tokens': 0, 'audio_tokens': 0, 'reasoning_tokens': 0, 'rejected_prediction_tokens': 0}, 'prompt_tokens_details': {'audio_tokens': 0, 'cached_tokens': 0}}, 'model_name': 'gpt-3.5-turbo-0125', 'system_fingerprint': None, 'id': 'chatcmpl-BulOTaI9Ij6l1SXPf2FrF0Qq7arHf', 'service_tier': 'default', 'finish_reason': 'tool_calls', 'logprobs': None}, id='run--e8cb2388-c3e7-4ee2-9a42-62d262618e60-0', tool_calls=[{'name': 'tavily_search_results_json', 'args': {'query': 'weather in Los Angeles'}, 'id': 'call_Cr4eE11mE1wqZeMhiDdSFmh7', 'type': 'tool_call'}], usage_metadata={'input_tokens': 152, 'output_tokens': 21, 'total_tokens': 173, 'input_token_details': {'audio': 0, 'cache_read': 0}, 'output_token_details': {'audio': 0, 'reasoning': 0}})]}, next=('action',), config={'configurable': {'thread_id': '3', 'checkpoint_ns': '', 'checkpoint_id': '1f064108-132a-6ff4-8001-4631f4ddb8b3'}}, metadata={'source': 'loop', 'step': 1, 'parents': {}}, created_at='2025-07-18T19:50:49.832201+00:00', parent_config={'configurable': {'thread_id': '3', 'checkpoint_ns': '', 'checkpoint_id': '1f064108-0d9e-6ab8-8000-ccec3ed3a2b2'}}, tasks=(PregelTask(id='49eb3b94-a18e-ccfc-8956-8a25d08f09e2', name='action', path=('__pregel_pull', 'action'), error=None, interrupts=(), state=None, result=None),), interrupts=())"
      ]
     },
     "execution_count": 27,
     "metadata": {},
     "output_type": "execute_result"
    }
   ],
   "source": [
    "to_replay"
   ]
  },
  {
   "cell_type": "code",
   "execution_count": 28,
   "id": "592b5e62-a203-433c-92a0-3783f490cde1",
   "metadata": {
    "height": 81
   },
   "outputs": [],
   "source": [
    "_id = to_replay.values['messages'][-1].tool_calls[0]['id']\n",
    "to_replay.values['messages'][-1].tool_calls = [{'name': 'tavily_search_results_json',\n",
    "  'args': {'query': 'current weather in LA, accuweather'},\n",
    "  'id': _id}]"
   ]
  },
  {
   "cell_type": "code",
   "execution_count": 29,
   "id": "14fa923c-7e4f-42d1-965f-0f8ccd50fbd7",
   "metadata": {
    "height": 30
   },
   "outputs": [
    {
     "name": "stdout",
     "output_type": "stream",
     "text": [
      "{'messages': [HumanMessage(content='Whats the weather in LA?', additional_kwargs={}, response_metadata={}, id='287694c6-1367-425e-b37e-db1aa731df5c'), AIMessage(content='', additional_kwargs={'tool_calls': [{'id': 'call_Cr4eE11mE1wqZeMhiDdSFmh7', 'function': {'arguments': '{\"query\":\"weather in Los Angeles\"}', 'name': 'tavily_search_results_json'}, 'type': 'function'}], 'refusal': None}, response_metadata={'token_usage': {'completion_tokens': 21, 'prompt_tokens': 152, 'total_tokens': 173, 'completion_tokens_details': {'accepted_prediction_tokens': 0, 'audio_tokens': 0, 'reasoning_tokens': 0, 'rejected_prediction_tokens': 0}, 'prompt_tokens_details': {'audio_tokens': 0, 'cached_tokens': 0}}, 'model_name': 'gpt-3.5-turbo-0125', 'system_fingerprint': None, 'id': 'chatcmpl-BulOTaI9Ij6l1SXPf2FrF0Qq7arHf', 'service_tier': 'default', 'finish_reason': 'tool_calls', 'logprobs': None}, id='run--e8cb2388-c3e7-4ee2-9a42-62d262618e60-0', tool_calls=[{'name': 'tavily_search_results_json', 'args': {'query': 'current weather in LA, accuweather'}, 'id': 'call_Cr4eE11mE1wqZeMhiDdSFmh7'}], usage_metadata={'input_tokens': 152, 'output_tokens': 21, 'total_tokens': 173, 'input_token_details': {'audio': 0, 'cache_read': 0}, 'output_token_details': {'audio': 0, 'reasoning': 0}})]}\n"
     ]
    }
   ],
   "source": [
    "branch_state = abot.graph.update_state(to_replay.config, to_replay.values)"
   ]
  },
  {
   "cell_type": "code",
   "execution_count": 30,
   "id": "570c6245-2837-4ac5-983b-95f61f3ac10d",
   "metadata": {
    "height": 81
   },
   "outputs": [
    {
     "name": "stdout",
     "output_type": "stream",
     "text": [
      "Calling: {'name': 'tavily_search_results_json', 'args': {'query': 'current weather in LA, accuweather'}, 'id': 'call_Cr4eE11mE1wqZeMhiDdSFmh7', 'type': 'tool_call'}\n",
      "Back to the model!\n",
      "{'messages': [ToolMessage(content=\"[{'title': '2025 - West Los Angeles, CA Monthly Weather | AccuWeather', 'url': 'https://www.accuweather.com/en/us/west-los-angeles/90025/july-weather/2142540', 'content': 'Get the monthly weather forecast for West Los Angeles, CA, including daily high/low, historical averages, to help you plan ahead.', 'score': 0.43223172}, {'title': 'Los Angeles, CA Monthly Weather - AccuWeather', 'url': 'https://www.accuweather.com/en/us/los-angeles/90012/july-weather/347625', 'content': 'Get the monthly weather forecast for Los Angeles, CA, including daily high/low, historical averages, to help you plan ahead.', 'score': 0.25305763}]\", name='tavily_search_results_json', id='15f3682e-6f28-43a7-bc3e-34d3b189d373', tool_call_id='call_Cr4eE11mE1wqZeMhiDdSFmh7')]}\n",
      "{'messages': [HumanMessage(content='Whats the weather in LA?', additional_kwargs={}, response_metadata={}, id='287694c6-1367-425e-b37e-db1aa731df5c'), AIMessage(content='', additional_kwargs={'tool_calls': [{'id': 'call_Cr4eE11mE1wqZeMhiDdSFmh7', 'function': {'arguments': '{\"query\":\"weather in Los Angeles\"}', 'name': 'tavily_search_results_json'}, 'type': 'function'}], 'refusal': None}, response_metadata={'token_usage': {'completion_tokens': 21, 'prompt_tokens': 152, 'total_tokens': 173, 'completion_tokens_details': {'accepted_prediction_tokens': 0, 'audio_tokens': 0, 'reasoning_tokens': 0, 'rejected_prediction_tokens': 0}, 'prompt_tokens_details': {'audio_tokens': 0, 'cached_tokens': 0}}, 'model_name': 'gpt-3.5-turbo-0125', 'system_fingerprint': None, 'id': 'chatcmpl-BulOTaI9Ij6l1SXPf2FrF0Qq7arHf', 'service_tier': 'default', 'finish_reason': 'tool_calls', 'logprobs': None}, id='run--e8cb2388-c3e7-4ee2-9a42-62d262618e60-0', tool_calls=[{'name': 'tavily_search_results_json', 'args': {'query': 'current weather in LA, accuweather'}, 'id': 'call_Cr4eE11mE1wqZeMhiDdSFmh7', 'type': 'tool_call'}], usage_metadata={'input_tokens': 152, 'output_tokens': 21, 'total_tokens': 173, 'input_token_details': {'audio': 0, 'cache_read': 0}, 'output_token_details': {'audio': 0, 'reasoning': 0}}), ToolMessage(content=\"[{'title': '2025 - West Los Angeles, CA Monthly Weather | AccuWeather', 'url': 'https://www.accuweather.com/en/us/west-los-angeles/90025/july-weather/2142540', 'content': 'Get the monthly weather forecast for West Los Angeles, CA, including daily high/low, historical averages, to help you plan ahead.', 'score': 0.43223172}, {'title': 'Los Angeles, CA Monthly Weather - AccuWeather', 'url': 'https://www.accuweather.com/en/us/los-angeles/90012/july-weather/347625', 'content': 'Get the monthly weather forecast for Los Angeles, CA, including daily high/low, historical averages, to help you plan ahead.', 'score': 0.25305763}]\", name='tavily_search_results_json', id='15f3682e-6f28-43a7-bc3e-34d3b189d373', tool_call_id='call_Cr4eE11mE1wqZeMhiDdSFmh7'), AIMessage(content='I found information about the monthly weather forecast for Los Angeles, CA. Would you like me to check the current weather specifically for today?', additional_kwargs={'refusal': None}, response_metadata={'token_usage': {'completion_tokens': 28, 'prompt_tokens': 366, 'total_tokens': 394, 'completion_tokens_details': {'accepted_prediction_tokens': 0, 'audio_tokens': 0, 'reasoning_tokens': 0, 'rejected_prediction_tokens': 0}, 'prompt_tokens_details': {'audio_tokens': 0, 'cached_tokens': 0}}, 'model_name': 'gpt-3.5-turbo-0125', 'system_fingerprint': None, 'id': 'chatcmpl-BulP9iGuINUltsBdS5rYOSbqZTjzN', 'service_tier': 'default', 'finish_reason': 'stop', 'logprobs': None}, id='run--00daf162-980c-487a-8e43-8b5bc995f41c-0', usage_metadata={'input_tokens': 366, 'output_tokens': 28, 'total_tokens': 394, 'input_token_details': {'audio': 0, 'cache_read': 0}, 'output_token_details': {'audio': 0, 'reasoning': 0}})]}\n",
      "{'messages': [AIMessage(content='I found information about the monthly weather forecast for Los Angeles, CA. Would you like me to check the current weather specifically for today?', additional_kwargs={'refusal': None}, response_metadata={'token_usage': {'completion_tokens': 28, 'prompt_tokens': 366, 'total_tokens': 394, 'completion_tokens_details': {'accepted_prediction_tokens': 0, 'audio_tokens': 0, 'reasoning_tokens': 0, 'rejected_prediction_tokens': 0}, 'prompt_tokens_details': {'audio_tokens': 0, 'cached_tokens': 0}}, 'model_name': 'gpt-3.5-turbo-0125', 'system_fingerprint': None, 'id': 'chatcmpl-BulP9iGuINUltsBdS5rYOSbqZTjzN', 'service_tier': 'default', 'finish_reason': 'stop', 'logprobs': None}, id='run--00daf162-980c-487a-8e43-8b5bc995f41c-0', usage_metadata={'input_tokens': 366, 'output_tokens': 28, 'total_tokens': 394, 'input_token_details': {'audio': 0, 'cache_read': 0}, 'output_token_details': {'audio': 0, 'reasoning': 0}})]}\n"
     ]
    }
   ],
   "source": [
    "for event in abot.graph.stream(None, branch_state):\n",
    "    for k, v in event.items():\n",
    "        if k != \"__end__\":\n",
    "            print(v)"
   ]
  },
  {
   "cell_type": "markdown",
   "id": "f1016ce7-368d-4922-9044-fcdfd47c273b",
   "metadata": {},
   "source": [
    "## Add message to a state at a given time"
   ]
  },
  {
   "cell_type": "code",
   "execution_count": 31,
   "id": "6b910915-b087-4d35-afff-0ec30a5852f1",
   "metadata": {
    "height": 30
   },
   "outputs": [
    {
     "data": {
      "text/plain": [
       "StateSnapshot(values={'messages': [HumanMessage(content='Whats the weather in LA?', additional_kwargs={}, response_metadata={}, id='287694c6-1367-425e-b37e-db1aa731df5c'), AIMessage(content='', additional_kwargs={'tool_calls': [{'id': 'call_Cr4eE11mE1wqZeMhiDdSFmh7', 'function': {'arguments': '{\"query\":\"weather in Los Angeles\"}', 'name': 'tavily_search_results_json'}, 'type': 'function'}], 'refusal': None}, response_metadata={'token_usage': {'completion_tokens': 21, 'prompt_tokens': 152, 'total_tokens': 173, 'completion_tokens_details': {'accepted_prediction_tokens': 0, 'audio_tokens': 0, 'reasoning_tokens': 0, 'rejected_prediction_tokens': 0}, 'prompt_tokens_details': {'audio_tokens': 0, 'cached_tokens': 0}}, 'model_name': 'gpt-3.5-turbo-0125', 'system_fingerprint': None, 'id': 'chatcmpl-BulOTaI9Ij6l1SXPf2FrF0Qq7arHf', 'service_tier': 'default', 'finish_reason': 'tool_calls', 'logprobs': None}, id='run--e8cb2388-c3e7-4ee2-9a42-62d262618e60-0', tool_calls=[{'name': 'tavily_search_results_json', 'args': {'query': 'current weather in LA, accuweather'}, 'id': 'call_Cr4eE11mE1wqZeMhiDdSFmh7'}], usage_metadata={'input_tokens': 152, 'output_tokens': 21, 'total_tokens': 173, 'input_token_details': {'audio': 0, 'cache_read': 0}, 'output_token_details': {'audio': 0, 'reasoning': 0}})]}, next=('action',), config={'configurable': {'thread_id': '3', 'checkpoint_ns': '', 'checkpoint_id': '1f064108-132a-6ff4-8001-4631f4ddb8b3'}}, metadata={'source': 'loop', 'step': 1, 'parents': {}}, created_at='2025-07-18T19:50:49.832201+00:00', parent_config={'configurable': {'thread_id': '3', 'checkpoint_ns': '', 'checkpoint_id': '1f064108-0d9e-6ab8-8000-ccec3ed3a2b2'}}, tasks=(PregelTask(id='49eb3b94-a18e-ccfc-8956-8a25d08f09e2', name='action', path=('__pregel_pull', 'action'), error=None, interrupts=(), state=None, result=None),), interrupts=())"
      ]
     },
     "execution_count": 31,
     "metadata": {},
     "output_type": "execute_result"
    }
   ],
   "source": [
    "to_replay"
   ]
  },
  {
   "cell_type": "code",
   "execution_count": 32,
   "id": "c4feb6cc-5129-4a99-bb45-851bc07b5709",
   "metadata": {
    "height": 30
   },
   "outputs": [],
   "source": [
    "_id = to_replay.values['messages'][-1].tool_calls[0]['id']"
   ]
  },
  {
   "cell_type": "code",
   "execution_count": 33,
   "id": "e85a02b4-96cc-4b01-8792-397a774eb499",
   "metadata": {
    "height": 98
   },
   "outputs": [],
   "source": [
    "state_update = {\"messages\": [ToolMessage(\n",
    "    tool_call_id=_id,\n",
    "    name=\"tavily_search_results_json\",\n",
    "    content=\"54 degree celcius\",\n",
    ")]}"
   ]
  },
  {
   "cell_type": "code",
   "execution_count": 34,
   "id": "ae8b86a6-5e20-4252-b1d8-009b8318345a",
   "metadata": {
    "height": 81
   },
   "outputs": [],
   "source": [
    "branch_and_add = abot.graph.update_state(\n",
    "    to_replay.config, \n",
    "    state_update, \n",
    "    as_node=\"action\")"
   ]
  },
  {
   "cell_type": "code",
   "execution_count": 35,
   "id": "af925917-b746-48c9-ac74-62fefbe5246c",
   "metadata": {
    "height": 64
   },
   "outputs": [
    {
     "name": "stdout",
     "output_type": "stream",
     "text": [
      "{'messages': [HumanMessage(content='Whats the weather in LA?', additional_kwargs={}, response_metadata={}, id='287694c6-1367-425e-b37e-db1aa731df5c'), AIMessage(content='', additional_kwargs={'tool_calls': [{'id': 'call_Cr4eE11mE1wqZeMhiDdSFmh7', 'function': {'arguments': '{\"query\":\"weather in Los Angeles\"}', 'name': 'tavily_search_results_json'}, 'type': 'function'}], 'refusal': None}, response_metadata={'token_usage': {'completion_tokens': 21, 'prompt_tokens': 152, 'total_tokens': 173, 'completion_tokens_details': {'accepted_prediction_tokens': 0, 'audio_tokens': 0, 'reasoning_tokens': 0, 'rejected_prediction_tokens': 0}, 'prompt_tokens_details': {'audio_tokens': 0, 'cached_tokens': 0}}, 'model_name': 'gpt-3.5-turbo-0125', 'system_fingerprint': None, 'id': 'chatcmpl-BulOTaI9Ij6l1SXPf2FrF0Qq7arHf', 'service_tier': 'default', 'finish_reason': 'tool_calls', 'logprobs': None}, id='run--e8cb2388-c3e7-4ee2-9a42-62d262618e60-0', tool_calls=[{'name': 'tavily_search_results_json', 'args': {'query': 'weather in Los Angeles'}, 'id': 'call_Cr4eE11mE1wqZeMhiDdSFmh7', 'type': 'tool_call'}], usage_metadata={'input_tokens': 152, 'output_tokens': 21, 'total_tokens': 173, 'input_token_details': {'audio': 0, 'cache_read': 0}, 'output_token_details': {'audio': 0, 'reasoning': 0}}), ToolMessage(content='54 degree celcius', name='tavily_search_results_json', id='9c34a534-9041-4b74-bcf9-626256acaa08', tool_call_id='call_Cr4eE11mE1wqZeMhiDdSFmh7'), AIMessage(content='The weather in Los Angeles is currently 54 degrees Celsius.', additional_kwargs={'refusal': None}, response_metadata={'token_usage': {'completion_tokens': 13, 'prompt_tokens': 190, 'total_tokens': 203, 'completion_tokens_details': {'accepted_prediction_tokens': 0, 'audio_tokens': 0, 'reasoning_tokens': 0, 'rejected_prediction_tokens': 0}, 'prompt_tokens_details': {'audio_tokens': 0, 'cached_tokens': 0}}, 'model_name': 'gpt-3.5-turbo-0125', 'system_fingerprint': None, 'id': 'chatcmpl-BulPAc8a7hvC0FUGnVzABC9Gq7FH0', 'service_tier': 'default', 'finish_reason': 'stop', 'logprobs': None}, id='run--44402ad4-66a5-41b7-b0fb-05e8d85dc138-0', usage_metadata={'input_tokens': 190, 'output_tokens': 13, 'total_tokens': 203, 'input_token_details': {'audio': 0, 'cache_read': 0}, 'output_token_details': {'audio': 0, 'reasoning': 0}})]}\n",
      "{'messages': [AIMessage(content='The weather in Los Angeles is currently 54 degrees Celsius.', additional_kwargs={'refusal': None}, response_metadata={'token_usage': {'completion_tokens': 13, 'prompt_tokens': 190, 'total_tokens': 203, 'completion_tokens_details': {'accepted_prediction_tokens': 0, 'audio_tokens': 0, 'reasoning_tokens': 0, 'rejected_prediction_tokens': 0}, 'prompt_tokens_details': {'audio_tokens': 0, 'cached_tokens': 0}}, 'model_name': 'gpt-3.5-turbo-0125', 'system_fingerprint': None, 'id': 'chatcmpl-BulPAc8a7hvC0FUGnVzABC9Gq7FH0', 'service_tier': 'default', 'finish_reason': 'stop', 'logprobs': None}, id='run--44402ad4-66a5-41b7-b0fb-05e8d85dc138-0', usage_metadata={'input_tokens': 190, 'output_tokens': 13, 'total_tokens': 203, 'input_token_details': {'audio': 0, 'cache_read': 0}, 'output_token_details': {'audio': 0, 'reasoning': 0}})]}\n"
     ]
    }
   ],
   "source": [
    "for event in abot.graph.stream(None, branch_and_add):\n",
    "    for k, v in event.items():\n",
    "        print(v)"
   ]
  },
  {
   "cell_type": "markdown",
   "id": "a6b1de51-f1dd-4719-89e6-01c21d2b304e",
   "metadata": {},
   "source": [
    "# Extra Practice"
   ]
  },
  {
   "cell_type": "markdown",
   "id": "31e06033-59fd-4d6b-8891-fb8bc2d7a037",
   "metadata": {},
   "source": [
    "## Build a small graph\n",
    "This is a small simple graph you can tinker with if you want more insight into controlling state memory."
   ]
  },
  {
   "cell_type": "code",
   "execution_count": 36,
   "id": "7614683e-1c13-4518-b464-263fb91be761",
   "metadata": {
    "height": 64
   },
   "outputs": [],
   "source": [
    "from dotenv import load_dotenv\n",
    "\n",
    "_ = load_dotenv()"
   ]
  },
  {
   "cell_type": "code",
   "execution_count": 37,
   "id": "efbef86a-75fe-416f-99ab-70b181d934dc",
   "metadata": {
    "height": 81
   },
   "outputs": [],
   "source": [
    "from langgraph.graph import StateGraph, END\n",
    "from typing import TypedDict, Annotated\n",
    "import operator\n",
    "from langgraph.checkpoint.sqlite import SqliteSaver"
   ]
  },
  {
   "cell_type": "markdown",
   "id": "67c972f7-5a14-49da-9d82-37105a6637ed",
   "metadata": {},
   "source": [
    "Define a simple 2 node graph with the following state:\n",
    "-`lnode`: last node\n",
    "-`scratch`: a scratchpad location\n",
    "-`count` : a counter that is incremented each step"
   ]
  },
  {
   "cell_type": "code",
   "execution_count": 38,
   "id": "b846f637-5e98-4a7d-9ca0-5144302b7cef",
   "metadata": {
    "height": 81
   },
   "outputs": [],
   "source": [
    "class AgentState(TypedDict):\n",
    "    lnode: str\n",
    "    scratch: str\n",
    "    count: Annotated[int, operator.add]"
   ]
  },
  {
   "cell_type": "code",
   "execution_count": 39,
   "id": "b8bb1c6d-41b7-4f5b-807b-ecbdec82d8d6",
   "metadata": {
    "height": 183
   },
   "outputs": [],
   "source": [
    "def node1(state: AgentState):\n",
    "    print(f\"node1, count:{state['count']}\")\n",
    "    return {\"lnode\": \"node_1\",\n",
    "            \"count\": 1,\n",
    "           }\n",
    "def node2(state: AgentState):\n",
    "    print(f\"node2, count:{state['count']}\")\n",
    "    return {\"lnode\": \"node_2\",\n",
    "            \"count\": 1,\n",
    "           }"
   ]
  },
  {
   "cell_type": "markdown",
   "id": "6adc403b-10d2-4a6c-bd21-c84bb8e0c8fc",
   "metadata": {},
   "source": [
    "The graph goes N1->N2->N1... but breaks after count reaches 3."
   ]
  },
  {
   "cell_type": "code",
   "execution_count": 40,
   "id": "b2c6d249-4793-41c5-8e80-40f1eedc4baf",
   "metadata": {
    "height": 47
   },
   "outputs": [],
   "source": [
    "def should_continue(state):\n",
    "    return state[\"count\"] < 3"
   ]
  },
  {
   "cell_type": "code",
   "execution_count": 41,
   "id": "4e3721d9-4508-48fa-9be0-93af20144072",
   "metadata": {
    "height": 166
   },
   "outputs": [
    {
     "data": {
      "text/plain": [
       "<langgraph.graph.state.StateGraph at 0x11855e3f0>"
      ]
     },
     "execution_count": 41,
     "metadata": {},
     "output_type": "execute_result"
    }
   ],
   "source": [
    "builder = StateGraph(AgentState)\n",
    "builder.add_node(\"Node1\", node1)\n",
    "builder.add_node(\"Node2\", node2)\n",
    "\n",
    "builder.add_edge(\"Node1\", \"Node2\")\n",
    "builder.add_conditional_edges(\"Node2\", \n",
    "                              should_continue, \n",
    "                              {True: \"Node1\", False: END})\n",
    "builder.set_entry_point(\"Node1\")"
   ]
  },
  {
   "cell_type": "code",
   "execution_count": 44,
   "id": "8d35d70c-daeb-49c1-9b7c-90cc2a7ca142",
   "metadata": {
    "height": 47
   },
   "outputs": [],
   "source": [
    "conn = sqlite3.connect(\":memory:\", check_same_thread=False)\n",
    "memory = SqliteSaver(conn)\n",
    "graph = builder.compile(checkpointer=memory)"
   ]
  },
  {
   "cell_type": "markdown",
   "id": "c57051f5-f7fb-4be5-a2f5-21cb1aa4fecb",
   "metadata": {},
   "source": [
    "### Run it!\n",
    "Now, set the thread and run!"
   ]
  },
  {
   "cell_type": "code",
   "execution_count": 45,
   "id": "edba3a1a-84a7-45eb-a6ee-74a612b68d54",
   "metadata": {
    "height": 47
   },
   "outputs": [
    {
     "name": "stdout",
     "output_type": "stream",
     "text": [
      "node1, count:0\n",
      "node2, count:1\n",
      "node1, count:2\n",
      "node2, count:3\n"
     ]
    },
    {
     "data": {
      "text/plain": [
       "{'lnode': 'node_2', 'scratch': 'hi', 'count': 4}"
      ]
     },
     "execution_count": 45,
     "metadata": {},
     "output_type": "execute_result"
    }
   ],
   "source": [
    "thread = {\"configurable\": {\"thread_id\": str(1)}}\n",
    "graph.invoke({\"count\":0, \"scratch\":\"hi\"},thread)"
   ]
  },
  {
   "cell_type": "markdown",
   "id": "2ce7b035-bfdb-4642-8750-47d188277423",
   "metadata": {},
   "source": [
    "### Look at current state"
   ]
  },
  {
   "cell_type": "markdown",
   "id": "43324904-a6f4-4299-86de-e0218e4cb225",
   "metadata": {},
   "source": [
    "Get the current state. Note the `values` which are the AgentState. Note the `config` and the `thread_ts`. You will be using those to refer to snapshots below."
   ]
  },
  {
   "cell_type": "code",
   "execution_count": 46,
   "id": "f2513b41-31b2-46e6-84f6-0c519f697973",
   "metadata": {
    "height": 30
   },
   "outputs": [
    {
     "data": {
      "text/plain": [
       "StateSnapshot(values={'lnode': 'node_2', 'scratch': 'hi', 'count': 4}, next=(), config={'configurable': {'thread_id': '1', 'checkpoint_ns': '', 'checkpoint_id': '1f06410b-beaf-6c0a-8004-d66f69a04182'}}, metadata={'source': 'loop', 'step': 4, 'parents': {}}, created_at='2025-07-18T19:52:28.347901+00:00', parent_config={'configurable': {'thread_id': '1', 'checkpoint_ns': '', 'checkpoint_id': '1f06410b-beaf-60e8-8003-4a39f9af86bb'}}, tasks=(), interrupts=())"
      ]
     },
     "execution_count": 46,
     "metadata": {},
     "output_type": "execute_result"
    }
   ],
   "source": [
    "graph.get_state(thread)"
   ]
  },
  {
   "cell_type": "markdown",
   "id": "7f7be4ae-24f0-4362-bd99-55ad38fe0112",
   "metadata": {},
   "source": [
    "View all the statesnapshots in memory. You can use the displayed `count` agentstate variable to help track what you see. Notice the most recent snapshots are returned by the iterator first. Also note that there is a handy `step` variable in the metadata that counts the number of steps in the graph execution. This is a bit detailed - but you can also notice that the *parent_config* is the *config* of the previous node. At initial startup, additional states are inserted into memory to create a parent. This is something to check when you branch or *time travel* below."
   ]
  },
  {
   "cell_type": "markdown",
   "id": "18647be0-c7c6-4ec5-9454-54a034fcd053",
   "metadata": {},
   "source": [
    "### Look at state history"
   ]
  },
  {
   "cell_type": "code",
   "execution_count": 47,
   "id": "686fa197-c97f-4ae6-82d2-938bbe5542c1",
   "metadata": {
    "height": 47
   },
   "outputs": [
    {
     "name": "stdout",
     "output_type": "stream",
     "text": [
      "StateSnapshot(values={'lnode': 'node_2', 'scratch': 'hi', 'count': 4}, next=(), config={'configurable': {'thread_id': '1', 'checkpoint_ns': '', 'checkpoint_id': '1f06410b-beaf-6c0a-8004-d66f69a04182'}}, metadata={'source': 'loop', 'step': 4, 'parents': {}}, created_at='2025-07-18T19:52:28.347901+00:00', parent_config={'configurable': {'thread_id': '1', 'checkpoint_ns': '', 'checkpoint_id': '1f06410b-beaf-60e8-8003-4a39f9af86bb'}}, tasks=(), interrupts=()) \n",
      "\n",
      "StateSnapshot(values={'lnode': 'node_1', 'scratch': 'hi', 'count': 3}, next=('Node2',), config={'configurable': {'thread_id': '1', 'checkpoint_ns': '', 'checkpoint_id': '1f06410b-beaf-60e8-8003-4a39f9af86bb'}}, metadata={'source': 'loop', 'step': 3, 'parents': {}}, created_at='2025-07-18T19:52:28.347615+00:00', parent_config={'configurable': {'thread_id': '1', 'checkpoint_ns': '', 'checkpoint_id': '1f06410b-beae-6530-8002-88aaccbcfef4'}}, tasks=(PregelTask(id='5ca3b35c-1dae-482e-5e51-3dcf9759c42c', name='Node2', path=('__pregel_pull', 'Node2'), error=None, interrupts=(), state=None, result={'lnode': 'node_2', 'count': 1}),), interrupts=()) \n",
      "\n",
      "StateSnapshot(values={'lnode': 'node_2', 'scratch': 'hi', 'count': 2}, next=('Node1',), config={'configurable': {'thread_id': '1', 'checkpoint_ns': '', 'checkpoint_id': '1f06410b-beae-6530-8002-88aaccbcfef4'}}, metadata={'source': 'loop', 'step': 2, 'parents': {}}, created_at='2025-07-18T19:52:28.347314+00:00', parent_config={'configurable': {'thread_id': '1', 'checkpoint_ns': '', 'checkpoint_id': '1f06410b-beac-669a-8001-fb874dca2412'}}, tasks=(PregelTask(id='180df0dc-72b0-c8f5-58f1-dddf6dd1b96b', name='Node1', path=('__pregel_pull', 'Node1'), error=None, interrupts=(), state=None, result={'lnode': 'node_1', 'count': 1}),), interrupts=()) \n",
      "\n",
      "StateSnapshot(values={'lnode': 'node_1', 'scratch': 'hi', 'count': 1}, next=('Node2',), config={'configurable': {'thread_id': '1', 'checkpoint_ns': '', 'checkpoint_id': '1f06410b-beac-669a-8001-fb874dca2412'}}, metadata={'source': 'loop', 'step': 1, 'parents': {}}, created_at='2025-07-18T19:52:28.346531+00:00', parent_config={'configurable': {'thread_id': '1', 'checkpoint_ns': '', 'checkpoint_id': '1f06410b-beab-643e-8000-14a8ad8280f9'}}, tasks=(PregelTask(id='1ef3d378-9de2-9412-4e1e-618808868eb1', name='Node2', path=('__pregel_pull', 'Node2'), error=None, interrupts=(), state=None, result={'lnode': 'node_2', 'count': 1}),), interrupts=()) \n",
      "\n",
      "StateSnapshot(values={'scratch': 'hi', 'count': 0}, next=('Node1',), config={'configurable': {'thread_id': '1', 'checkpoint_ns': '', 'checkpoint_id': '1f06410b-beab-643e-8000-14a8ad8280f9'}}, metadata={'source': 'loop', 'step': 0, 'parents': {}}, created_at='2025-07-18T19:52:28.346058+00:00', parent_config={'configurable': {'thread_id': '1', 'checkpoint_ns': '', 'checkpoint_id': '1f06410b-bea9-68d2-bfff-8c1a362e831c'}}, tasks=(PregelTask(id='faf43305-ef36-bd0a-4459-190716f33b69', name='Node1', path=('__pregel_pull', 'Node1'), error=None, interrupts=(), state=None, result={'lnode': 'node_1', 'count': 1}),), interrupts=()) \n",
      "\n",
      "StateSnapshot(values={'count': 0}, next=('__start__',), config={'configurable': {'thread_id': '1', 'checkpoint_ns': '', 'checkpoint_id': '1f06410b-bea9-68d2-bfff-8c1a362e831c'}}, metadata={'source': 'input', 'step': -1, 'parents': {}}, created_at='2025-07-18T19:52:28.345360+00:00', parent_config=None, tasks=(PregelTask(id='b3e1bf0a-09b0-5f8e-e335-06f8be2f2915', name='__start__', path=('__pregel_pull', '__start__'), error=None, interrupts=(), state=None, result={'count': 0, 'scratch': 'hi'}),), interrupts=()) \n",
      "\n"
     ]
    }
   ],
   "source": [
    "for state in graph.get_state_history(thread):\n",
    "    print(state, \"\\n\")"
   ]
  },
  {
   "cell_type": "markdown",
   "id": "dd7850ff-0748-43d7-8956-074fa9fd819f",
   "metadata": {},
   "source": [
    "Store just the `config` into an list. Note the sequence of counts on the right. `get_state_history` returns the most recent snapshots first."
   ]
  },
  {
   "cell_type": "code",
   "execution_count": 48,
   "id": "9f68e604-4f53-46c0-8f06-e7726ec9dcf6",
   "metadata": {
    "height": 81
   },
   "outputs": [
    {
     "name": "stdout",
     "output_type": "stream",
     "text": [
      "{'configurable': {'thread_id': '1', 'checkpoint_ns': '', 'checkpoint_id': '1f06410b-beaf-6c0a-8004-d66f69a04182'}} 4\n",
      "{'configurable': {'thread_id': '1', 'checkpoint_ns': '', 'checkpoint_id': '1f06410b-beaf-60e8-8003-4a39f9af86bb'}} 3\n",
      "{'configurable': {'thread_id': '1', 'checkpoint_ns': '', 'checkpoint_id': '1f06410b-beae-6530-8002-88aaccbcfef4'}} 2\n",
      "{'configurable': {'thread_id': '1', 'checkpoint_ns': '', 'checkpoint_id': '1f06410b-beac-669a-8001-fb874dca2412'}} 1\n",
      "{'configurable': {'thread_id': '1', 'checkpoint_ns': '', 'checkpoint_id': '1f06410b-beab-643e-8000-14a8ad8280f9'}} 0\n",
      "{'configurable': {'thread_id': '1', 'checkpoint_ns': '', 'checkpoint_id': '1f06410b-bea9-68d2-bfff-8c1a362e831c'}} 0\n"
     ]
    }
   ],
   "source": [
    "states = []\n",
    "for state in graph.get_state_history(thread):\n",
    "    states.append(state.config)\n",
    "    print(state.config, state.values['count'])"
   ]
  },
  {
   "cell_type": "markdown",
   "id": "90790095-4080-4e76-b538-47caac7d9699",
   "metadata": {},
   "source": [
    "Grab an early state."
   ]
  },
  {
   "cell_type": "code",
   "execution_count": 49,
   "id": "e1db574e-f158-44cf-b921-f1f4466c314d",
   "metadata": {
    "height": 30
   },
   "outputs": [
    {
     "data": {
      "text/plain": [
       "{'configurable': {'thread_id': '1',\n",
       "  'checkpoint_ns': '',\n",
       "  'checkpoint_id': '1f06410b-beac-669a-8001-fb874dca2412'}}"
      ]
     },
     "execution_count": 49,
     "metadata": {},
     "output_type": "execute_result"
    }
   ],
   "source": [
    "states[-3]"
   ]
  },
  {
   "cell_type": "markdown",
   "id": "2cc233eb-f388-4ecd-bfb5-dac3568d37ce",
   "metadata": {},
   "source": [
    "This is the state after Node1 completed for the first time. Note `next` is `Node2`and `count` is 1."
   ]
  },
  {
   "cell_type": "code",
   "execution_count": 50,
   "id": "240f5039-7916-4c2a-88d5-d363b2898e70",
   "metadata": {
    "height": 30
   },
   "outputs": [
    {
     "data": {
      "text/plain": [
       "StateSnapshot(values={'lnode': 'node_1', 'scratch': 'hi', 'count': 1}, next=('Node2',), config={'configurable': {'thread_id': '1', 'checkpoint_ns': '', 'checkpoint_id': '1f06410b-beac-669a-8001-fb874dca2412'}}, metadata={'source': 'loop', 'step': 1, 'parents': {}}, created_at='2025-07-18T19:52:28.346531+00:00', parent_config={'configurable': {'thread_id': '1', 'checkpoint_ns': '', 'checkpoint_id': '1f06410b-beab-643e-8000-14a8ad8280f9'}}, tasks=(PregelTask(id='1ef3d378-9de2-9412-4e1e-618808868eb1', name='Node2', path=('__pregel_pull', 'Node2'), error=None, interrupts=(), state=None, result={'lnode': 'node_2', 'count': 1}),), interrupts=())"
      ]
     },
     "execution_count": 50,
     "metadata": {},
     "output_type": "execute_result"
    }
   ],
   "source": [
    "graph.get_state(states[-3])"
   ]
  },
  {
   "cell_type": "markdown",
   "id": "4872468e-4d23-4840-ae14-c06c1ab4f161",
   "metadata": {},
   "source": [
    "### Go Back in Time\n",
    "Use that state in `invoke` to go back in time. Notice it uses states[-3] as *current_state* and continues to node2,"
   ]
  },
  {
   "cell_type": "code",
   "execution_count": 51,
   "id": "e3049179-b901-4557-a9c4-78afb3d53d27",
   "metadata": {
    "height": 30
   },
   "outputs": [
    {
     "name": "stdout",
     "output_type": "stream",
     "text": [
      "node2, count:1\n",
      "node1, count:2\n",
      "node2, count:3\n"
     ]
    },
    {
     "data": {
      "text/plain": [
       "{'lnode': 'node_2', 'scratch': 'hi', 'count': 4}"
      ]
     },
     "execution_count": 51,
     "metadata": {},
     "output_type": "execute_result"
    }
   ],
   "source": [
    "graph.invoke(None, states[-3])"
   ]
  },
  {
   "cell_type": "markdown",
   "id": "5bf7789a-df3d-4c7e-8899-d96a99d45717",
   "metadata": {},
   "source": [
    "Notice the new states are now in state history. Notice the counts on the far right."
   ]
  },
  {
   "cell_type": "code",
   "execution_count": 52,
   "id": "37fa44ec-9bd1-484b-a415-cc5f50b6e799",
   "metadata": {
    "height": 64
   },
   "outputs": [
    {
     "name": "stdout",
     "output_type": "stream",
     "text": [
      "{'configurable': {'thread_id': '1', 'checkpoint_ns': '', 'checkpoint_id': '1f06410c-5381-6018-8004-081480856a8f'}} 4\n",
      "{'configurable': {'thread_id': '1', 'checkpoint_ns': '', 'checkpoint_id': '1f06410c-537f-6bdc-8003-006842833f65'}} 3\n",
      "{'configurable': {'thread_id': '1', 'checkpoint_ns': '', 'checkpoint_id': '1f06410c-537d-6e54-8002-6a6931b76ac6'}} 2\n",
      "{'configurable': {'thread_id': '1', 'checkpoint_ns': '', 'checkpoint_id': '1f06410b-beaf-6c0a-8004-d66f69a04182'}} 4\n",
      "{'configurable': {'thread_id': '1', 'checkpoint_ns': '', 'checkpoint_id': '1f06410b-beaf-60e8-8003-4a39f9af86bb'}} 3\n",
      "{'configurable': {'thread_id': '1', 'checkpoint_ns': '', 'checkpoint_id': '1f06410b-beae-6530-8002-88aaccbcfef4'}} 2\n",
      "{'configurable': {'thread_id': '1', 'checkpoint_ns': '', 'checkpoint_id': '1f06410b-beac-669a-8001-fb874dca2412'}} 1\n",
      "{'configurable': {'thread_id': '1', 'checkpoint_ns': '', 'checkpoint_id': '1f06410b-beab-643e-8000-14a8ad8280f9'}} 0\n",
      "{'configurable': {'thread_id': '1', 'checkpoint_ns': '', 'checkpoint_id': '1f06410b-bea9-68d2-bfff-8c1a362e831c'}} 0\n"
     ]
    }
   ],
   "source": [
    "thread = {\"configurable\": {\"thread_id\": str(1)}}\n",
    "for state in graph.get_state_history(thread):\n",
    "    print(state.config, state.values['count'])"
   ]
  },
  {
   "cell_type": "markdown",
   "id": "d3c8d305-6752-4cf6-a8cb-7babf3bbd643",
   "metadata": {},
   "source": [
    "You can see the details below. Lots of text, but try to find the node that start the new branch. Notice the parent *config* is not the previous entry in the stack, but is the entry from state[-3]."
   ]
  },
  {
   "cell_type": "code",
   "execution_count": 53,
   "id": "07d25697-fcf0-4a26-9485-3e195b0af225",
   "metadata": {
    "height": 64
   },
   "outputs": [
    {
     "name": "stdout",
     "output_type": "stream",
     "text": [
      "StateSnapshot(values={'lnode': 'node_2', 'scratch': 'hi', 'count': 4}, next=(), config={'configurable': {'thread_id': '1', 'checkpoint_ns': '', 'checkpoint_id': '1f06410c-5381-6018-8004-081480856a8f'}}, metadata={'source': 'loop', 'step': 4, 'parents': {}}, created_at='2025-07-18T19:52:43.952531+00:00', parent_config={'configurable': {'thread_id': '1', 'checkpoint_ns': '', 'checkpoint_id': '1f06410c-537f-6bdc-8003-006842833f65'}}, tasks=(), interrupts=()) \n",
      "\n",
      "StateSnapshot(values={'lnode': 'node_1', 'scratch': 'hi', 'count': 3}, next=('Node2',), config={'configurable': {'thread_id': '1', 'checkpoint_ns': '', 'checkpoint_id': '1f06410c-537f-6bdc-8003-006842833f65'}}, metadata={'source': 'loop', 'step': 3, 'parents': {}}, created_at='2025-07-18T19:52:43.952008+00:00', parent_config={'configurable': {'thread_id': '1', 'checkpoint_ns': '', 'checkpoint_id': '1f06410c-537d-6e54-8002-6a6931b76ac6'}}, tasks=(PregelTask(id='efd88d66-a345-2742-e446-c19143907132', name='Node2', path=('__pregel_pull', 'Node2'), error=None, interrupts=(), state=None, result={'lnode': 'node_2', 'count': 1}),), interrupts=()) \n",
      "\n",
      "StateSnapshot(values={'lnode': 'node_2', 'scratch': 'hi', 'count': 2}, next=('Node1',), config={'configurable': {'thread_id': '1', 'checkpoint_ns': '', 'checkpoint_id': '1f06410c-537d-6e54-8002-6a6931b76ac6'}}, metadata={'source': 'loop', 'step': 2, 'parents': {}}, created_at='2025-07-18T19:52:43.951254+00:00', parent_config={'configurable': {'thread_id': '1', 'checkpoint_ns': '', 'checkpoint_id': '1f06410b-beac-669a-8001-fb874dca2412'}}, tasks=(PregelTask(id='67b9c49c-cbc2-0deb-66d9-0744d49e95f8', name='Node1', path=('__pregel_pull', 'Node1'), error=None, interrupts=(), state=None, result={'lnode': 'node_1', 'count': 1}),), interrupts=()) \n",
      "\n",
      "StateSnapshot(values={'lnode': 'node_2', 'scratch': 'hi', 'count': 4}, next=(), config={'configurable': {'thread_id': '1', 'checkpoint_ns': '', 'checkpoint_id': '1f06410b-beaf-6c0a-8004-d66f69a04182'}}, metadata={'source': 'loop', 'step': 4, 'parents': {}}, created_at='2025-07-18T19:52:28.347901+00:00', parent_config={'configurable': {'thread_id': '1', 'checkpoint_ns': '', 'checkpoint_id': '1f06410b-beaf-60e8-8003-4a39f9af86bb'}}, tasks=(), interrupts=()) \n",
      "\n",
      "StateSnapshot(values={'lnode': 'node_1', 'scratch': 'hi', 'count': 3}, next=('Node2',), config={'configurable': {'thread_id': '1', 'checkpoint_ns': '', 'checkpoint_id': '1f06410b-beaf-60e8-8003-4a39f9af86bb'}}, metadata={'source': 'loop', 'step': 3, 'parents': {}}, created_at='2025-07-18T19:52:28.347615+00:00', parent_config={'configurable': {'thread_id': '1', 'checkpoint_ns': '', 'checkpoint_id': '1f06410b-beae-6530-8002-88aaccbcfef4'}}, tasks=(PregelTask(id='5ca3b35c-1dae-482e-5e51-3dcf9759c42c', name='Node2', path=('__pregel_pull', 'Node2'), error=None, interrupts=(), state=None, result={'lnode': 'node_2', 'count': 1}),), interrupts=()) \n",
      "\n",
      "StateSnapshot(values={'lnode': 'node_2', 'scratch': 'hi', 'count': 2}, next=('Node1',), config={'configurable': {'thread_id': '1', 'checkpoint_ns': '', 'checkpoint_id': '1f06410b-beae-6530-8002-88aaccbcfef4'}}, metadata={'source': 'loop', 'step': 2, 'parents': {}}, created_at='2025-07-18T19:52:28.347314+00:00', parent_config={'configurable': {'thread_id': '1', 'checkpoint_ns': '', 'checkpoint_id': '1f06410b-beac-669a-8001-fb874dca2412'}}, tasks=(PregelTask(id='180df0dc-72b0-c8f5-58f1-dddf6dd1b96b', name='Node1', path=('__pregel_pull', 'Node1'), error=None, interrupts=(), state=None, result={'lnode': 'node_1', 'count': 1}),), interrupts=()) \n",
      "\n",
      "StateSnapshot(values={'lnode': 'node_1', 'scratch': 'hi', 'count': 1}, next=('Node2',), config={'configurable': {'thread_id': '1', 'checkpoint_ns': '', 'checkpoint_id': '1f06410b-beac-669a-8001-fb874dca2412'}}, metadata={'source': 'loop', 'step': 1, 'parents': {}}, created_at='2025-07-18T19:52:28.346531+00:00', parent_config={'configurable': {'thread_id': '1', 'checkpoint_ns': '', 'checkpoint_id': '1f06410b-beab-643e-8000-14a8ad8280f9'}}, tasks=(PregelTask(id='1ef3d378-9de2-9412-4e1e-618808868eb1', name='Node2', path=('__pregel_pull', 'Node2'), error=None, interrupts=(), state=None, result={'lnode': 'node_2', 'count': 1}),), interrupts=()) \n",
      "\n",
      "StateSnapshot(values={'scratch': 'hi', 'count': 0}, next=('Node1',), config={'configurable': {'thread_id': '1', 'checkpoint_ns': '', 'checkpoint_id': '1f06410b-beab-643e-8000-14a8ad8280f9'}}, metadata={'source': 'loop', 'step': 0, 'parents': {}}, created_at='2025-07-18T19:52:28.346058+00:00', parent_config={'configurable': {'thread_id': '1', 'checkpoint_ns': '', 'checkpoint_id': '1f06410b-bea9-68d2-bfff-8c1a362e831c'}}, tasks=(PregelTask(id='faf43305-ef36-bd0a-4459-190716f33b69', name='Node1', path=('__pregel_pull', 'Node1'), error=None, interrupts=(), state=None, result={'lnode': 'node_1', 'count': 1}),), interrupts=()) \n",
      "\n",
      "StateSnapshot(values={'count': 0}, next=('__start__',), config={'configurable': {'thread_id': '1', 'checkpoint_ns': '', 'checkpoint_id': '1f06410b-bea9-68d2-bfff-8c1a362e831c'}}, metadata={'source': 'input', 'step': -1, 'parents': {}}, created_at='2025-07-18T19:52:28.345360+00:00', parent_config=None, tasks=(PregelTask(id='b3e1bf0a-09b0-5f8e-e335-06f8be2f2915', name='__start__', path=('__pregel_pull', '__start__'), error=None, interrupts=(), state=None, result={'count': 0, 'scratch': 'hi'}),), interrupts=()) \n",
      "\n"
     ]
    }
   ],
   "source": [
    "thread = {\"configurable\": {\"thread_id\": str(1)}}\n",
    "for state in graph.get_state_history(thread):\n",
    "    print(state,\"\\n\")"
   ]
  },
  {
   "cell_type": "markdown",
   "id": "d4653f91-761c-4185-8ca2-83de758308c7",
   "metadata": {},
   "source": [
    "### Modify State\n",
    "Let's start by starting a fresh thread and running to clean out history."
   ]
  },
  {
   "cell_type": "code",
   "execution_count": 54,
   "id": "0eaf346c-ce22-4b6a-b18f-d200dfd991de",
   "metadata": {
    "height": 47
   },
   "outputs": [
    {
     "name": "stdout",
     "output_type": "stream",
     "text": [
      "node1, count:0\n",
      "node2, count:1\n",
      "node1, count:2\n",
      "node2, count:3\n"
     ]
    },
    {
     "data": {
      "text/plain": [
       "{'lnode': 'node_2', 'scratch': 'hi', 'count': 4}"
      ]
     },
     "execution_count": 54,
     "metadata": {},
     "output_type": "execute_result"
    }
   ],
   "source": [
    "thread2 = {\"configurable\": {\"thread_id\": str(2)}}\n",
    "graph.invoke({\"count\":0, \"scratch\":\"hi\"},thread2)"
   ]
  },
  {
   "cell_type": "code",
   "execution_count": 55,
   "id": "90fc1797-25e6-4931-b173-2e520b71c372",
   "metadata": {
    "height": 64
   },
   "outputs": [
    {
     "data": {
      "image/png": "[encoded data removed]",
      "text/plain": [
       "<IPython.core.display.Image object>"
      ]
     },
     "execution_count": 55,
     "metadata": {},
     "output_type": "execute_result"
    }
   ],
   "source": [
    "from IPython.display import Image\n",
    "\n",
    "Image(graph.get_graph().draw_png())"
   ]
  },
  {
   "cell_type": "code",
   "execution_count": 56,
   "id": "4ede9215-3133-4ad9-8dd5-6a8288ebe055",
   "metadata": {
    "height": 81
   },
   "outputs": [
    {
     "name": "stdout",
     "output_type": "stream",
     "text": [
      "{'configurable': {'thread_id': '2', 'checkpoint_ns': '', 'checkpoint_id': '1f06410c-848a-6664-8004-b58921f7b8b1'}} 4\n",
      "{'configurable': {'thread_id': '2', 'checkpoint_ns': '', 'checkpoint_id': '1f06410c-8489-6160-8003-320e2e8fa28c'}} 3\n",
      "{'configurable': {'thread_id': '2', 'checkpoint_ns': '', 'checkpoint_id': '1f06410c-8487-6be4-8002-76989ae90a73'}} 2\n",
      "{'configurable': {'thread_id': '2', 'checkpoint_ns': '', 'checkpoint_id': '1f06410c-8486-6be0-8001-af2631588850'}} 1\n",
      "{'configurable': {'thread_id': '2', 'checkpoint_ns': '', 'checkpoint_id': '1f06410c-8484-6886-8000-f423e444750c'}} 0\n",
      "{'configurable': {'thread_id': '2', 'checkpoint_ns': '', 'checkpoint_id': '1f06410c-8482-6b9e-bfff-cfebb1a73fb0'}} 0\n"
     ]
    }
   ],
   "source": [
    "states2 = []\n",
    "for state in graph.get_state_history(thread2):\n",
    "    states2.append(state.config)\n",
    "    print(state.config, state.values['count'])   "
   ]
  },
  {
   "cell_type": "markdown",
   "id": "23ab2c5f-cb1d-4851-8925-ce0af1f12a40",
   "metadata": {},
   "source": [
    "Start by grabbing a state."
   ]
  },
  {
   "cell_type": "code",
   "execution_count": 57,
   "id": "65313f6a-c7a9-49e3-aab2-0eb905e74a91",
   "metadata": {
    "height": 47
   },
   "outputs": [
    {
     "data": {
      "text/plain": [
       "StateSnapshot(values={'lnode': 'node_1', 'scratch': 'hi', 'count': 1}, next=('Node2',), config={'configurable': {'thread_id': '2', 'checkpoint_ns': '', 'checkpoint_id': '1f06410c-8486-6be0-8001-af2631588850'}}, metadata={'source': 'loop', 'step': 1, 'parents': {}}, created_at='2025-07-18T19:52:49.092905+00:00', parent_config={'configurable': {'thread_id': '2', 'checkpoint_ns': '', 'checkpoint_id': '1f06410c-8484-6886-8000-f423e444750c'}}, tasks=(PregelTask(id='474e085c-a05e-6218-fb8f-e5432018028d', name='Node2', path=('__pregel_pull', 'Node2'), error=None, interrupts=(), state=None, result={'lnode': 'node_2', 'count': 1}),), interrupts=())"
      ]
     },
     "execution_count": 57,
     "metadata": {},
     "output_type": "execute_result"
    }
   ],
   "source": [
    "save_state = graph.get_state(states2[-3])\n",
    "save_state"
   ]
  },
  {
   "cell_type": "markdown",
   "id": "c81b354b-8c2d-4150-9150-ac9d8486af02",
   "metadata": {},
   "source": [
    "Now modify the values. One subtle item to note: Recall when agent state was defined, `count` used `operator.add` to indicate that values are *added* to the current value. Here, `-3` will be added to the current count value rather than replace it."
   ]
  },
  {
   "cell_type": "code",
   "execution_count": 58,
   "id": "dae6527b-912f-4f86-a07b-1fae684aaa77",
   "metadata": {
    "height": 64
   },
   "outputs": [
    {
     "data": {
      "text/plain": [
       "StateSnapshot(values={'lnode': 'node_1', 'scratch': 'hello', 'count': -3}, next=('Node2',), config={'configurable': {'thread_id': '2', 'checkpoint_ns': '', 'checkpoint_id': '1f06410c-8486-6be0-8001-af2631588850'}}, metadata={'source': 'loop', 'step': 1, 'parents': {}}, created_at='2025-07-18T19:52:49.092905+00:00', parent_config={'configurable': {'thread_id': '2', 'checkpoint_ns': '', 'checkpoint_id': '1f06410c-8484-6886-8000-f423e444750c'}}, tasks=(PregelTask(id='474e085c-a05e-6218-fb8f-e5432018028d', name='Node2', path=('__pregel_pull', 'Node2'), error=None, interrupts=(), state=None, result={'lnode': 'node_2', 'count': 1}),), interrupts=())"
      ]
     },
     "execution_count": 58,
     "metadata": {},
     "output_type": "execute_result"
    }
   ],
   "source": [
    "save_state.values[\"count\"] = -3\n",
    "save_state.values[\"scratch\"] = \"hello\"\n",
    "save_state"
   ]
  },
  {
   "cell_type": "markdown",
   "id": "904bb1eb-2e39-472f-ae56-d8e95e2f1ab6",
   "metadata": {},
   "source": [
    "Now update the state. This creates a new entry at the *top*, or *latest* entry in memory. This will become the current state."
   ]
  },
  {
   "cell_type": "code",
   "execution_count": 59,
   "id": "bcd78670-b119-45fa-934b-2ce2d477b4c2",
   "metadata": {
    "height": 30
   },
   "outputs": [
    {
     "data": {
      "text/plain": [
       "{'configurable': {'thread_id': '2',\n",
       "  'checkpoint_ns': '',\n",
       "  'checkpoint_id': '1f06410c-c44c-61ee-8005-4ee7a4162e39'}}"
      ]
     },
     "execution_count": 59,
     "metadata": {},
     "output_type": "execute_result"
    }
   ],
   "source": [
    "graph.update_state(thread2,save_state.values)"
   ]
  },
  {
   "cell_type": "markdown",
   "id": "1bb3beed-1c44-4364-bde9-b29ea5e8ca30",
   "metadata": {},
   "source": [
    "Current state is at the top. You can match the `thread_ts`.\n",
    "Notice the `parent_config`, `thread_ts` of the new node - it is the previous node."
   ]
  },
  {
   "cell_type": "code",
   "execution_count": 60,
   "id": "231c7011-afe4-44bf-9e19-16220004912f",
   "metadata": {
    "height": 81
   },
   "outputs": [
    {
     "name": "stdout",
     "output_type": "stream",
     "text": [
      "StateSnapshot(values={'lnode': 'node_1', 'scratch': 'hello', 'count': 1}, next=('Node1',), config={'configurable': {'thread_id': '2', 'checkpoint_ns': '', 'checkpoint_id': '1f06410c-c44c-61ee-8005-4ee7a4162e39'}}, metadata={'source': 'update', 'step': 5, 'parents': {}}, created_at='2025-07-18T19:52:55.779775+00:00', parent_config={'configurable': {'thread_id': '2', 'checkpoint_ns': '', 'checkpoint_id': '1f06410c-848a-6664-8004-b58921f7b8b1'}}, tasks=(PregelTask(id='bd584435-e976-a6b3-d123-4da19ff9c39c', name='Node1', path=('__pregel_pull', 'Node1'), error=None, interrupts=(), state=None, result=None),), interrupts=()) \n",
      "\n",
      "StateSnapshot(values={'lnode': 'node_2', 'scratch': 'hi', 'count': 4}, next=(), config={'configurable': {'thread_id': '2', 'checkpoint_ns': '', 'checkpoint_id': '1f06410c-848a-6664-8004-b58921f7b8b1'}}, metadata={'source': 'loop', 'step': 4, 'parents': {}}, created_at='2025-07-18T19:52:49.094404+00:00', parent_config={'configurable': {'thread_id': '2', 'checkpoint_ns': '', 'checkpoint_id': '1f06410c-8489-6160-8003-320e2e8fa28c'}}, tasks=(), interrupts=()) \n",
      "\n",
      "StateSnapshot(values={'lnode': 'node_1', 'scratch': 'hi', 'count': 3}, next=('Node2',), config={'configurable': {'thread_id': '2', 'checkpoint_ns': '', 'checkpoint_id': '1f06410c-8489-6160-8003-320e2e8fa28c'}}, metadata={'source': 'loop', 'step': 3, 'parents': {}}, created_at='2025-07-18T19:52:49.093865+00:00', parent_config={'configurable': {'thread_id': '2', 'checkpoint_ns': '', 'checkpoint_id': '1f06410c-8487-6be4-8002-76989ae90a73'}}, tasks=(PregelTask(id='db79b633-a066-f8d4-baae-ec86a980c0fc', name='Node2', path=('__pregel_pull', 'Node2'), error=None, interrupts=(), state=None, result={'lnode': 'node_2', 'count': 1}),), interrupts=()) \n",
      "\n"
     ]
    }
   ],
   "source": [
    "for i, state in enumerate(graph.get_state_history(thread2)):\n",
    "    if i >= 3:  #print latest 3\n",
    "        break\n",
    "    print(state, '\\n')"
   ]
  },
  {
   "cell_type": "markdown",
   "id": "62d34cd8-99b6-4224-b345-fe8475f2a602",
   "metadata": {},
   "source": [
    "### Try again with `as_node`\n",
    "When writing using `update_state()`, you want to define to the graph logic which node should be assumed as the writer. What this does is allow th graph logic to find the node on the graph. After writing the values, the `next()` value is computed by travesing the graph using the new state. In this case, the state we have was written by `Node1`. The graph can then compute the next state as being `Node2`. Note that in some graphs, this may involve going through conditional edges!  Let's try this out."
   ]
  },
  {
   "cell_type": "code",
   "execution_count": 61,
   "id": "7bfda2f6-5887-40fa-a733-a4357ad857d8",
   "metadata": {
    "height": 30
   },
   "outputs": [
    {
     "data": {
      "text/plain": [
       "{'configurable': {'thread_id': '2',\n",
       "  'checkpoint_ns': '',\n",
       "  'checkpoint_id': '1f06410c-d202-65f4-8006-f6dbc4772480'}}"
      ]
     },
     "execution_count": 61,
     "metadata": {},
     "output_type": "execute_result"
    }
   ],
   "source": [
    "graph.update_state(thread2,save_state.values, as_node=\"Node1\")"
   ]
  },
  {
   "cell_type": "code",
   "execution_count": 62,
   "id": "0788ac0f-5f64-49b2-b335-3094bbb19143",
   "metadata": {
    "height": 81
   },
   "outputs": [
    {
     "name": "stdout",
     "output_type": "stream",
     "text": [
      "StateSnapshot(values={'lnode': 'node_1', 'scratch': 'hello', 'count': -2}, next=('Node2',), config={'configurable': {'thread_id': '2', 'checkpoint_ns': '', 'checkpoint_id': '1f06410c-d202-65f4-8006-f6dbc4772480'}}, metadata={'source': 'update', 'step': 6, 'parents': {}}, created_at='2025-07-18T19:52:57.217569+00:00', parent_config={'configurable': {'thread_id': '2', 'checkpoint_ns': '', 'checkpoint_id': '1f06410c-c44c-61ee-8005-4ee7a4162e39'}}, tasks=(PregelTask(id='65b4035f-fcef-654c-8ec0-180943c6568f', name='Node2', path=('__pregel_pull', 'Node2'), error=None, interrupts=(), state=None, result=None),), interrupts=()) \n",
      "\n",
      "StateSnapshot(values={'lnode': 'node_1', 'scratch': 'hello', 'count': 1}, next=('Node1',), config={'configurable': {'thread_id': '2', 'checkpoint_ns': '', 'checkpoint_id': '1f06410c-c44c-61ee-8005-4ee7a4162e39'}}, metadata={'source': 'update', 'step': 5, 'parents': {}}, created_at='2025-07-18T19:52:55.779775+00:00', parent_config={'configurable': {'thread_id': '2', 'checkpoint_ns': '', 'checkpoint_id': '1f06410c-848a-6664-8004-b58921f7b8b1'}}, tasks=(PregelTask(id='bd584435-e976-a6b3-d123-4da19ff9c39c', name='Node1', path=('__pregel_pull', 'Node1'), error=None, interrupts=(), state=None, result=None),), interrupts=()) \n",
      "\n",
      "StateSnapshot(values={'lnode': 'node_2', 'scratch': 'hi', 'count': 4}, next=(), config={'configurable': {'thread_id': '2', 'checkpoint_ns': '', 'checkpoint_id': '1f06410c-848a-6664-8004-b58921f7b8b1'}}, metadata={'source': 'loop', 'step': 4, 'parents': {}}, created_at='2025-07-18T19:52:49.094404+00:00', parent_config={'configurable': {'thread_id': '2', 'checkpoint_ns': '', 'checkpoint_id': '1f06410c-8489-6160-8003-320e2e8fa28c'}}, tasks=(), interrupts=()) \n",
      "\n"
     ]
    }
   ],
   "source": [
    "for i, state in enumerate(graph.get_state_history(thread2)):\n",
    "    if i >= 3:  #print latest 3\n",
    "        break\n",
    "    print(state, '\\n')"
   ]
  },
  {
   "cell_type": "markdown",
   "id": "18a8f52e-d1a6-46a0-a519-6fda0cb91624",
   "metadata": {},
   "source": [
    "`invoke` will run from the current state if not given a particular `thread_ts`. This is now the entry that was just added."
   ]
  },
  {
   "cell_type": "code",
   "execution_count": 63,
   "id": "9650d355-07c1-4a7d-a21d-4231673a7ee9",
   "metadata": {
    "height": 30
   },
   "outputs": [
    {
     "name": "stdout",
     "output_type": "stream",
     "text": [
      "node2, count:-2\n",
      "node1, count:-1\n",
      "node2, count:0\n",
      "node1, count:1\n",
      "node2, count:2\n"
     ]
    },
    {
     "data": {
      "text/plain": [
       "{'lnode': 'node_2', 'scratch': 'hello', 'count': 3}"
      ]
     },
     "execution_count": 63,
     "metadata": {},
     "output_type": "execute_result"
    }
   ],
   "source": [
    "graph.invoke(None,thread2)"
   ]
  },
  {
   "cell_type": "markdown",
   "id": "c59d3069-8fe7-4a05-9bfd-8e3a2e4590ad",
   "metadata": {},
   "source": [
    "Print out the state history, notice the `scratch` value change on the latest entries."
   ]
  },
  {
   "cell_type": "code",
   "execution_count": 64,
   "id": "35088704-2b18-4d44-ba0e-dccbfde6ed9e",
   "metadata": {
    "height": 47
   },
   "outputs": [
    {
     "name": "stdout",
     "output_type": "stream",
     "text": [
      "StateSnapshot(values={'lnode': 'node_2', 'scratch': 'hello', 'count': 3}, next=(), config={'configurable': {'thread_id': '2', 'checkpoint_ns': '', 'checkpoint_id': '1f06410c-edfb-6db4-800b-6a1de6dd004e'}}, metadata={'source': 'loop', 'step': 11, 'parents': {}}, created_at='2025-07-18T19:53:00.150923+00:00', parent_config={'configurable': {'thread_id': '2', 'checkpoint_ns': '', 'checkpoint_id': '1f06410c-edfa-68ba-800a-3b178ead6c20'}}, tasks=(), interrupts=()) \n",
      "\n",
      "StateSnapshot(values={'lnode': 'node_1', 'scratch': 'hello', 'count': 2}, next=('Node2',), config={'configurable': {'thread_id': '2', 'checkpoint_ns': '', 'checkpoint_id': '1f06410c-edfa-68ba-800a-3b178ead6c20'}}, metadata={'source': 'loop', 'step': 10, 'parents': {}}, created_at='2025-07-18T19:53:00.150381+00:00', parent_config={'configurable': {'thread_id': '2', 'checkpoint_ns': '', 'checkpoint_id': '1f06410c-edf9-6294-8009-7b83b9f73f57'}}, tasks=(PregelTask(id='376a38d9-ffb4-c620-678f-dc3620e2095b', name='Node2', path=('__pregel_pull', 'Node2'), error=None, interrupts=(), state=None, result={'lnode': 'node_2', 'count': 1}),), interrupts=()) \n",
      "\n",
      "StateSnapshot(values={'lnode': 'node_2', 'scratch': 'hello', 'count': 1}, next=('Node1',), config={'configurable': {'thread_id': '2', 'checkpoint_ns': '', 'checkpoint_id': '1f06410c-edf9-6294-8009-7b83b9f73f57'}}, metadata={'source': 'loop', 'step': 9, 'parents': {}}, created_at='2025-07-18T19:53:00.149817+00:00', parent_config={'configurable': {'thread_id': '2', 'checkpoint_ns': '', 'checkpoint_id': '1f06410c-edf8-60ba-8008-8fa3bbd57667'}}, tasks=(PregelTask(id='a5b422f2-3630-0395-d3a0-a4e6dae15b64', name='Node1', path=('__pregel_pull', 'Node1'), error=None, interrupts=(), state=None, result={'lnode': 'node_1', 'count': 1}),), interrupts=()) \n",
      "\n",
      "StateSnapshot(values={'lnode': 'node_1', 'scratch': 'hello', 'count': 0}, next=('Node2',), config={'configurable': {'thread_id': '2', 'checkpoint_ns': '', 'checkpoint_id': '1f06410c-edf8-60ba-8008-8fa3bbd57667'}}, metadata={'source': 'loop', 'step': 8, 'parents': {}}, created_at='2025-07-18T19:53:00.149357+00:00', parent_config={'configurable': {'thread_id': '2', 'checkpoint_ns': '', 'checkpoint_id': '1f06410c-edf6-67c4-8007-26cb4cf0942b'}}, tasks=(PregelTask(id='be7941c1-2630-e3c5-5e7a-362fa3bff67e', name='Node2', path=('__pregel_pull', 'Node2'), error=None, interrupts=(), state=None, result={'lnode': 'node_2', 'count': 1}),), interrupts=()) \n",
      "\n",
      "StateSnapshot(values={'lnode': 'node_2', 'scratch': 'hello', 'count': -1}, next=('Node1',), config={'configurable': {'thread_id': '2', 'checkpoint_ns': '', 'checkpoint_id': '1f06410c-edf6-67c4-8007-26cb4cf0942b'}}, metadata={'source': 'loop', 'step': 7, 'parents': {}}, created_at='2025-07-18T19:53:00.148711+00:00', parent_config={'configurable': {'thread_id': '2', 'checkpoint_ns': '', 'checkpoint_id': '1f06410c-d202-65f4-8006-f6dbc4772480'}}, tasks=(PregelTask(id='17fd5848-f51b-5d1b-d2c2-d0f6c5e58361', name='Node1', path=('__pregel_pull', 'Node1'), error=None, interrupts=(), state=None, result={'lnode': 'node_1', 'count': 1}),), interrupts=()) \n",
      "\n",
      "StateSnapshot(values={'lnode': 'node_1', 'scratch': 'hello', 'count': -2}, next=('Node2',), config={'configurable': {'thread_id': '2', 'checkpoint_ns': '', 'checkpoint_id': '1f06410c-d202-65f4-8006-f6dbc4772480'}}, metadata={'source': 'update', 'step': 6, 'parents': {}}, created_at='2025-07-18T19:52:57.217569+00:00', parent_config={'configurable': {'thread_id': '2', 'checkpoint_ns': '', 'checkpoint_id': '1f06410c-c44c-61ee-8005-4ee7a4162e39'}}, tasks=(PregelTask(id='65b4035f-fcef-654c-8ec0-180943c6568f', name='Node2', path=('__pregel_pull', 'Node2'), error=None, interrupts=(), state=None, result={'lnode': 'node_2', 'count': 1}),), interrupts=()) \n",
      "\n",
      "StateSnapshot(values={'lnode': 'node_1', 'scratch': 'hello', 'count': 1}, next=('Node1',), config={'configurable': {'thread_id': '2', 'checkpoint_ns': '', 'checkpoint_id': '1f06410c-c44c-61ee-8005-4ee7a4162e39'}}, metadata={'source': 'update', 'step': 5, 'parents': {}}, created_at='2025-07-18T19:52:55.779775+00:00', parent_config={'configurable': {'thread_id': '2', 'checkpoint_ns': '', 'checkpoint_id': '1f06410c-848a-6664-8004-b58921f7b8b1'}}, tasks=(PregelTask(id='bd584435-e976-a6b3-d123-4da19ff9c39c', name='Node1', path=('__pregel_pull', 'Node1'), error=None, interrupts=(), state=None, result=None),), interrupts=()) \n",
      "\n",
      "StateSnapshot(values={'lnode': 'node_2', 'scratch': 'hi', 'count': 4}, next=(), config={'configurable': {'thread_id': '2', 'checkpoint_ns': '', 'checkpoint_id': '1f06410c-848a-6664-8004-b58921f7b8b1'}}, metadata={'source': 'loop', 'step': 4, 'parents': {}}, created_at='2025-07-18T19:52:49.094404+00:00', parent_config={'configurable': {'thread_id': '2', 'checkpoint_ns': '', 'checkpoint_id': '1f06410c-8489-6160-8003-320e2e8fa28c'}}, tasks=(), interrupts=()) \n",
      "\n",
      "StateSnapshot(values={'lnode': 'node_1', 'scratch': 'hi', 'count': 3}, next=('Node2',), config={'configurable': {'thread_id': '2', 'checkpoint_ns': '', 'checkpoint_id': '1f06410c-8489-6160-8003-320e2e8fa28c'}}, metadata={'source': 'loop', 'step': 3, 'parents': {}}, created_at='2025-07-18T19:52:49.093865+00:00', parent_config={'configurable': {'thread_id': '2', 'checkpoint_ns': '', 'checkpoint_id': '1f06410c-8487-6be4-8002-76989ae90a73'}}, tasks=(PregelTask(id='db79b633-a066-f8d4-baae-ec86a980c0fc', name='Node2', path=('__pregel_pull', 'Node2'), error=None, interrupts=(), state=None, result={'lnode': 'node_2', 'count': 1}),), interrupts=()) \n",
      "\n",
      "StateSnapshot(values={'lnode': 'node_2', 'scratch': 'hi', 'count': 2}, next=('Node1',), config={'configurable': {'thread_id': '2', 'checkpoint_ns': '', 'checkpoint_id': '1f06410c-8487-6be4-8002-76989ae90a73'}}, metadata={'source': 'loop', 'step': 2, 'parents': {}}, created_at='2025-07-18T19:52:49.093314+00:00', parent_config={'configurable': {'thread_id': '2', 'checkpoint_ns': '', 'checkpoint_id': '1f06410c-8486-6be0-8001-af2631588850'}}, tasks=(PregelTask(id='ff1fe8bc-9ca2-f5dc-afa7-99baf9135751', name='Node1', path=('__pregel_pull', 'Node1'), error=None, interrupts=(), state=None, result={'lnode': 'node_1', 'count': 1}),), interrupts=()) \n",
      "\n",
      "StateSnapshot(values={'lnode': 'node_1', 'scratch': 'hi', 'count': 1}, next=('Node2',), config={'configurable': {'thread_id': '2', 'checkpoint_ns': '', 'checkpoint_id': '1f06410c-8486-6be0-8001-af2631588850'}}, metadata={'source': 'loop', 'step': 1, 'parents': {}}, created_at='2025-07-18T19:52:49.092905+00:00', parent_config={'configurable': {'thread_id': '2', 'checkpoint_ns': '', 'checkpoint_id': '1f06410c-8484-6886-8000-f423e444750c'}}, tasks=(PregelTask(id='474e085c-a05e-6218-fb8f-e5432018028d', name='Node2', path=('__pregel_pull', 'Node2'), error=None, interrupts=(), state=None, result={'lnode': 'node_2', 'count': 1}),), interrupts=()) \n",
      "\n",
      "StateSnapshot(values={'scratch': 'hi', 'count': 0}, next=('Node1',), config={'configurable': {'thread_id': '2', 'checkpoint_ns': '', 'checkpoint_id': '1f06410c-8484-6886-8000-f423e444750c'}}, metadata={'source': 'loop', 'step': 0, 'parents': {}}, created_at='2025-07-18T19:52:49.091997+00:00', parent_config={'configurable': {'thread_id': '2', 'checkpoint_ns': '', 'checkpoint_id': '1f06410c-8482-6b9e-bfff-cfebb1a73fb0'}}, tasks=(PregelTask(id='eab2564a-c4b6-3b62-b0b1-786e0a2fa665', name='Node1', path=('__pregel_pull', 'Node1'), error=None, interrupts=(), state=None, result={'lnode': 'node_1', 'count': 1}),), interrupts=()) \n",
      "\n",
      "StateSnapshot(values={'count': 0}, next=('__start__',), config={'configurable': {'thread_id': '2', 'checkpoint_ns': '', 'checkpoint_id': '1f06410c-8482-6b9e-bfff-cfebb1a73fb0'}}, metadata={'source': 'input', 'step': -1, 'parents': {}}, created_at='2025-07-18T19:52:49.091262+00:00', parent_config=None, tasks=(PregelTask(id='9ce4b3c7-1c42-0f15-6f8f-3836526c2861', name='__start__', path=('__pregel_pull', '__start__'), error=None, interrupts=(), state=None, result={'count': 0, 'scratch': 'hi'}),), interrupts=()) \n",
      "\n"
     ]
    }
   ],
   "source": [
    "for state in graph.get_state_history(thread2):\n",
    "    print(state,\"\\n\")"
   ]
  },
  {
   "cell_type": "markdown",
   "id": "a5ea1bba-cf12-4493-948b-08b300054742",
   "metadata": {},
   "source": [
    "Continue to experiment!"
   ]
  }
 ],
 "metadata": {
  "kernelspec": {
   "display_name": "langgraph-agents-py3.12",
   "language": "python",
   "name": "python3"
  },
  "language_info": {
   "codemirror_mode": {
    "name": "ipython",
    "version": 3
   },
   "file_extension": ".py",
   "mimetype": "text/x-python",
   "name": "python",
   "nbconvert_exporter": "python",
   "pygments_lexer": "ipython3",
   "version": "3.12.10"
  }
 },
 "nbformat": 4,
 "nbformat_minor": 5
}
