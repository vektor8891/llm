{
 "cells": [
  {
   "cell_type": "markdown",
   "id": "911b3b37-3b29-4833-94f2-bfe47af00c83",
   "metadata": {},
   "source": [
    "# Lesson 6: Essay Writer"
   ]
  },
  {
   "cell_type": "code",
   "execution_count": 1,
   "id": "f5762271-8736-4e94-9444-8c92bd0e8074",
   "metadata": {
    "height": 64
   },
   "outputs": [],
   "source": [
    "from dotenv import load_dotenv\n",
    "\n",
    "_ = load_dotenv()"
   ]
  },
  {
   "cell_type": "code",
   "execution_count": 2,
   "id": "d0168aee-bce9-4d60-b827-f86a88187e31",
   "metadata": {
    "height": 132
   },
   "outputs": [],
   "source": [
    "from langgraph.graph import StateGraph, END\n",
    "from typing import TypedDict, Annotated, List\n",
    "import operator\n",
    "from langgraph.checkpoint.sqlite import SqliteSaver\n",
    "from langchain_core.messages import AnyMessage, SystemMessage, HumanMessage, AIMessage, ChatMessage\n",
    "import sqlite3\n",
    "\n",
    "conn = sqlite3.connect(\":memory:\", check_same_thread=False)\n",
    "memory = SqliteSaver(conn)"
   ]
  },
  {
   "cell_type": "code",
   "execution_count": 3,
   "id": "2589c5b6-6cc2-4594-9a17-dccdcf676054",
   "metadata": {
    "height": 149
   },
   "outputs": [],
   "source": [
    "class AgentState(TypedDict):\n",
    "    task: str\n",
    "    lnode: str  # Added for helper compatibility\n",
    "    plan: str\n",
    "    draft: str\n",
    "    critique: str\n",
    "    content: List[str]\n",
    "    queries: List[str]  # Added for helper compatibility\n",
    "    revision_number: int\n",
    "    max_revisions: int\n",
    "    count: Annotated[int, operator.add]  # Added for helper compatibility"
   ]
  },
  {
   "cell_type": "code",
   "execution_count": 4,
   "id": "a2ba84ec-c172-4de7-ac55-e3158a531b23",
   "metadata": {
    "height": 47
   },
   "outputs": [],
   "source": [
    "from langchain_openai import ChatOpenAI\n",
    "model = ChatOpenAI(model=\"gpt-3.5-turbo\", temperature=0)"
   ]
  },
  {
   "cell_type": "code",
   "execution_count": 5,
   "id": "876d5092-b8ef-4e38-b4d7-0e80c609bf7a",
   "metadata": {
    "height": 79
   },
   "outputs": [],
   "source": [
    "PLAN_PROMPT = \"\"\"You are an expert writer tasked with writing a high level outline of an essay. \\\n",
    "Write such an outline for the user provided topic. Give an outline of the essay along with any relevant notes \\\n",
    "or instructions for the sections.\"\"\""
   ]
  },
  {
   "cell_type": "code",
   "execution_count": 6,
   "id": "10084a02-2928-4945-9f7c-ad3f5b33caf7",
   "metadata": {
    "height": 149
   },
   "outputs": [],
   "source": [
    "WRITER_PROMPT = \"\"\"You are an essay assistant tasked with writing excellent 5-paragraph essays.\\\n",
    "Generate the best essay possible for the user's request and the initial outline. \\\n",
    "If the user provides critique, respond with a revised version of your previous attempts. \\\n",
    "Utilize all the information below as needed: \n",
    "\n",
    "------\n",
    "\n",
    "{content}\"\"\""
   ]
  },
  {
   "cell_type": "code",
   "execution_count": 7,
   "id": "714d1205-f8fc-4912-b148-2a45da99219c",
   "metadata": {
    "height": 64
   },
   "outputs": [],
   "source": [
    "REFLECTION_PROMPT = \"\"\"You are a teacher grading an essay submission. \\\n",
    "Generate critique and recommendations for the user's submission. \\\n",
    "Provide detailed recommendations, including requests for length, depth, style, etc.\"\"\""
   ]
  },
  {
   "cell_type": "code",
   "execution_count": 8,
   "id": "83588e70-254f-4f83-a510-c8ae81e729b0",
   "metadata": {
    "height": 81
   },
   "outputs": [],
   "source": [
    "RESEARCH_PLAN_PROMPT = \"\"\"You are a researcher charged with providing information that can \\\n",
    "be used when writing the following essay. Generate a list of search queries that will gather \\\n",
    "any relevant information. Only generate 3 queries max.\"\"\"\n"
   ]
  },
  {
   "cell_type": "code",
   "execution_count": 9,
   "id": "6cb3ef4c-58b3-401b-b104-0d51e553d982",
   "metadata": {
    "height": 81
   },
   "outputs": [],
   "source": [
    "RESEARCH_CRITIQUE_PROMPT = \"\"\"You are a researcher charged with providing information that can \\\n",
    "be used when making any requested revisions (as outlined below). \\\n",
    "Generate a list of search queries that will gather any relevant information. Only generate 3 queries max.\"\"\"\n"
   ]
  },
  {
   "cell_type": "code",
   "execution_count": 10,
   "id": "dc3293b7-a50c-43c8-a022-8975e1e444b8",
   "metadata": {
    "height": 81
   },
   "outputs": [],
   "source": [
    "from pydantic import BaseModel\n",
    "\n",
    "class Queries(BaseModel):\n",
    "    queries: List[str]"
   ]
  },
  {
   "cell_type": "code",
   "execution_count": 11,
   "id": "0722c3d4-4cbf-43bf-81b0-50f634c4ce61",
   "metadata": {
    "height": 64
   },
   "outputs": [],
   "source": [
    "from tavily import TavilyClient\n",
    "import os\n",
    "tavily = TavilyClient(api_key=os.environ[\"TAVILY_API_KEY\"])"
   ]
  },
  {
   "cell_type": "code",
   "execution_count": 12,
   "id": "6b2f82fe-3ec4-4917-be51-9fb10d1317fa",
   "metadata": {
    "height": 132
   },
   "outputs": [],
   "source": [
    "def plan_node(state: AgentState):\n",
    "    messages = [\n",
    "        SystemMessage(content=PLAN_PROMPT), \n",
    "        HumanMessage(content=state['task'])\n",
    "    ]\n",
    "    response = model.invoke(messages)\n",
    "    return {\n",
    "        \"plan\": response.content,\n",
    "        \"lnode\": \"planner\",\n",
    "        \"count\": 1,\n",
    "    }"
   ]
  },
  {
   "cell_type": "code",
   "execution_count": 13,
   "id": "ee0fe1c7-77e2-499c-a2f9-1f739bb6ddf0",
   "metadata": {
    "height": 200
   },
   "outputs": [],
   "source": [
    "def research_plan_node(state: AgentState):\n",
    "    queries = model.with_structured_output(Queries).invoke([\n",
    "        SystemMessage(content=RESEARCH_PLAN_PROMPT),\n",
    "        HumanMessage(content=state['task'])\n",
    "    ])\n",
    "    content = state.get('content', []) or []\n",
    "    for q in queries.queries:\n",
    "        response = tavily.search(query=q, max_results=2)\n",
    "        for r in response['results']:\n",
    "            content.append(r['content'])\n",
    "    return {\n",
    "        \"content\": content,\n",
    "        \"queries\": queries.queries,\n",
    "        \"lnode\": \"research_plan\",\n",
    "        \"count\": 1,\n",
    "    }"
   ]
  },
  {
   "cell_type": "code",
   "execution_count": 14,
   "id": "98f303b1-a4d0-408c-8cc0-515ff980717f",
   "metadata": {
    "height": 285
   },
   "outputs": [],
   "source": [
    "def generation_node(state: AgentState):\n",
    "    content = \"\\n\\n\".join(state.get('content', []) or [])\n",
    "    user_message = HumanMessage(\n",
    "        content=f\"{state['task']}\\n\\nHere is my plan:\\n\\n{state['plan']}\")\n",
    "    messages = [\n",
    "        SystemMessage(\n",
    "            content=WRITER_PROMPT.format(content=content)\n",
    "        ),\n",
    "        user_message\n",
    "        ]\n",
    "    response = model.invoke(messages)\n",
    "    return {\n",
    "        \"draft\": response.content, \n",
    "        \"revision_number\": state.get(\"revision_number\", 1) + 1,\n",
    "        \"lnode\": \"generate\",\n",
    "        \"count\": 1,\n",
    "    }\n"
   ]
  },
  {
   "cell_type": "code",
   "execution_count": 15,
   "id": "bf4dcb93-6298-4cfd-b3ce-61dfac7fb35f",
   "metadata": {
    "height": 132
   },
   "outputs": [],
   "source": [
    "def reflection_node(state: AgentState):\n",
    "    messages = [\n",
    "        SystemMessage(content=REFLECTION_PROMPT), \n",
    "        HumanMessage(content=state['draft'])\n",
    "    ]\n",
    "    response = model.invoke(messages)\n",
    "    return {\n",
    "        \"critique\": response.content,\n",
    "        \"lnode\": \"reflect\",\n",
    "        \"count\": 1,\n",
    "    }"
   ]
  },
  {
   "cell_type": "code",
   "execution_count": 16,
   "id": "932883a4-c722-42bb-aec0-b4f41c5c81a4",
   "metadata": {
    "height": 200
   },
   "outputs": [],
   "source": [
    "def research_critique_node(state: AgentState):\n",
    "    queries = model.with_structured_output(Queries).invoke([\n",
    "        SystemMessage(content=RESEARCH_CRITIQUE_PROMPT),\n",
    "        HumanMessage(content=state['critique'])\n",
    "    ])\n",
    "    content = state.get('content', []) or []\n",
    "    for q in queries.queries:\n",
    "        response = tavily.search(query=q, max_results=2)\n",
    "        for r in response['results']:\n",
    "            content.append(r['content'])\n",
    "    return {\n",
    "        \"content\": content,\n",
    "        \"queries\": queries.queries,\n",
    "        \"lnode\": \"research_critique\",\n",
    "        \"count\": 1,\n",
    "    }"
   ]
  },
  {
   "cell_type": "code",
   "execution_count": 17,
   "id": "ff362f49-dcf1-4ea1-a86c-e516e9ab897d",
   "metadata": {
    "height": 81
   },
   "outputs": [],
   "source": [
    "def should_continue(state):\n",
    "    if state[\"revision_number\"] > state[\"max_revisions\"]:\n",
    "        return END\n",
    "    return \"reflect\""
   ]
  },
  {
   "cell_type": "code",
   "execution_count": 18,
   "id": "a7e15a20-83d7-434c-8551-bce8dcc32be0",
   "metadata": {
    "height": 30
   },
   "outputs": [],
   "source": [
    "builder = StateGraph(AgentState)"
   ]
  },
  {
   "cell_type": "code",
   "execution_count": 19,
   "id": "54ab2c74-f32e-490c-a85d-932d11444210",
   "metadata": {
    "height": 98
   },
   "outputs": [
    {
     "data": {
      "text/plain": [
       "<langgraph.graph.state.StateGraph at 0x110a74f20>"
      ]
     },
     "execution_count": 19,
     "metadata": {},
     "output_type": "execute_result"
    }
   ],
   "source": [
    "builder.add_node(\"planner\", plan_node)\n",
    "builder.add_node(\"generate\", generation_node)\n",
    "builder.add_node(\"reflect\", reflection_node)\n",
    "builder.add_node(\"research_plan\", research_plan_node)\n",
    "builder.add_node(\"research_critique\", research_critique_node)"
   ]
  },
  {
   "cell_type": "code",
   "execution_count": 20,
   "id": "a833d3ce-bd31-4319-811d-decff226b970",
   "metadata": {
    "height": 30
   },
   "outputs": [
    {
     "data": {
      "text/plain": [
       "<langgraph.graph.state.StateGraph at 0x110a74f20>"
      ]
     },
     "execution_count": 20,
     "metadata": {},
     "output_type": "execute_result"
    }
   ],
   "source": [
    "builder.set_entry_point(\"planner\")"
   ]
  },
  {
   "cell_type": "code",
   "execution_count": 21,
   "id": "76e93cce-6eab-4c7c-ac64-e9993fdb30d6",
   "metadata": {
    "height": 115
   },
   "outputs": [
    {
     "data": {
      "text/plain": [
       "<langgraph.graph.state.StateGraph at 0x110a74f20>"
      ]
     },
     "execution_count": 21,
     "metadata": {},
     "output_type": "execute_result"
    }
   ],
   "source": [
    "builder.add_conditional_edges(\n",
    "    \"generate\", \n",
    "    should_continue, \n",
    "    {END: END, \"reflect\": \"reflect\"}\n",
    ")\n"
   ]
  },
  {
   "cell_type": "code",
   "execution_count": 22,
   "id": "fd2d0990-a932-423f-9ff3-5cada58c5f32",
   "metadata": {
    "height": 98
   },
   "outputs": [
    {
     "data": {
      "text/plain": [
       "<langgraph.graph.state.StateGraph at 0x110a74f20>"
      ]
     },
     "execution_count": 22,
     "metadata": {},
     "output_type": "execute_result"
    }
   ],
   "source": [
    "builder.add_edge(\"planner\", \"research_plan\")\n",
    "builder.add_edge(\"research_plan\", \"generate\")\n",
    "\n",
    "builder.add_edge(\"reflect\", \"research_critique\")\n",
    "builder.add_edge(\"research_critique\", \"generate\")"
   ]
  },
  {
   "cell_type": "code",
   "execution_count": 23,
   "id": "27cde654-64e2-48bc-80a9-0ed668ccb7dc",
   "metadata": {
    "height": 30
   },
   "outputs": [],
   "source": [
    "graph = builder.compile(checkpointer=memory)"
   ]
  },
  {
   "cell_type": "code",
   "execution_count": 24,
   "id": "4871f644-b131-4065-b7ce-b82c20a41f11",
   "metadata": {
    "height": 64
   },
   "outputs": [
    {
     "data": {
      "image/png": "[encoded data removed]",
      "text/plain": [
       "<IPython.core.display.Image object>"
      ]
     },
     "execution_count": 24,
     "metadata": {},
     "output_type": "execute_result"
    }
   ],
   "source": [
    "from IPython.display import Image\n",
    "\n",
    "Image(graph.get_graph().draw_png())"
   ]
  },
  {
   "cell_type": "code",
   "execution_count": 25,
   "id": "98f3be1d-cc4c-41fa-9863-3e386e88e305",
   "metadata": {
    "height": 132
   },
   "outputs": [
    {
     "name": "stdout",
     "output_type": "stream",
     "text": [
      "{'planner': {'plan': 'I. Introduction\\n    A. Brief overview of Langchain and Langsmith\\n    B. Thesis statement: Exploring the differences between Langchain and Langsmith\\n\\nII. Langchain\\n    A. Definition and explanation\\n    B. Key features and characteristics\\n    C. Use cases and applications\\n    D. Advantages and disadvantages\\n\\nIII. Langsmith\\n    A. Definition and explanation\\n    B. Key features and characteristics\\n    C. Use cases and applications\\n    D. Advantages and disadvantages\\n\\nIV. Comparison between Langchain and Langsmith\\n    A. Technology stack\\n    B. Scalability\\n    C. Security\\n    D. Interoperability\\n    E. Performance\\n\\nV. Conclusion\\n    A. Recap of main points\\n    B. Implications of the differences between Langchain and Langsmith\\n    C. Future outlook for both technologies\\n\\nNotes:\\n- Ensure to provide clear definitions and explanations of both Langchain and Langsmith.\\n- Include specific examples of use cases and applications for each technology.\\n- Use comparative analysis to highlight the distinctions between Langchain and Langsmith.\\n- Conclude with insights on the potential impact and future developments of both technologies.', 'lnode': 'planner', 'count': 1}}\n"
     ]
    },
    {
     "name": "stderr",
     "output_type": "stream",
     "text": [
      "/Users/L015680/Library/Caches/pypoetry/virtualenvs/langgraph-agents-YCnhQksX-py3.12/lib/python3.12/site-packages/langchain_openai/chat_models/base.py:1857: UserWarning: Cannot use method='json_schema' with model gpt-3.5-turbo since it doesn't support OpenAI's Structured Output API. You can see supported models here: https://platform.openai.com/docs/guides/structured-outputs#supported-models. To fix this warning, set `method='function_calling'. Overriding to method='function_calling'.\n",
      "  warnings.warn(\n"
     ]
    },
    {
     "name": "stdout",
     "output_type": "stream",
     "text": [
      "{'research_plan': {'content': ['LangChain vs LangSmith: Understanding the Differences, Pros, and Cons | by Ajay Verma | GoPenAI LangChain and LangSmith are two powerful tools developed by LangChain, a company focused on making it easier to build and deploy Large Language Model (LLM) applications. In this blog, we’ll delve into the differences between LangChain and LangSmith, their pros and cons, and when to use each one. Comprehensive Platform: LangSmith offers a unified platform for managing all aspects of LLM development, making it ideal for large-scale, production-ready applications. LangChain and LangSmith are two complementary tools that cater to different stages and requirements of LLM development. LangChain is ideal for early-stage prototyping and small-scale applications, while LangSmith is better suited for large-scale, production-ready applications that require advanced debugging, testing, and monitoring capabilities.', 'If you’re responsible for ensuring your AI models work in production, or you need to frequently debug and monitor your pipelines, Langsmith is your go-to tool. In short, while **Langchain** excels at managing and scaling model workflows, **Langsmith** is designed for those times when you need deep visibility and control over large, complex AI systems in production. If you’re debugging complex AI models or managing large-scale workflows with multiple moving parts, **Langsmith’s advanced debugging and orchestration features** will be indispensable. Additionally, if you’re working on **cross-platform model deployments** — say, running models on-prem and in the cloud simultaneously — Langsmith offers better orchestration and monitoring tools to handle the complexity.', \"*   Build a simple LLM application with chat models and prompt templates *   How to migrate from legacy LangChain agents to LangGraph *   How to use chat models to call tools *   How to pass tool outputs to chat models *   **`langchain`**: Chains, agents, and retrieval strategies that make up an application's cognitive architecture. However, these guides will help you quickly accomplish common tasks using chat models, vector stores, and other common LangChain components. LangChain is part of a rich ecosystem of tools that integrate with our framework and build on top of it. If you're looking to get up and running quickly with chat models, vector stores, or other LangChain components from a specific provider, check out our growing list of integrations.\", 'Available in both Python- and Javascript-based libraries, LangChain’s tools and APIs simplify the process of building LLM-driven applications like chatbots and AI agents. Another LangChain class for building AI agents with the integration of tool calling and chaining with watsonx.ai models is ChatWatsonx. At its core, LangGraph uses the power of graph-based architectures to model and manage the intricate relationships between various components of anAI agent workflow.Combined with the human-in-the-loop monitoring mechanism and a set of API and tool integrations, LangGraph provides users with a versatile platform for developing AI solutions and workflows includingchatbots, state graphs andother agent-based systems.', 'LangSmith Performance cookies are used to understand and analyze the key performance indexes of the website which helps in delivering a better user experience for the visitors. LangSmith is a unified observability & evals platform where teams can debug, test, and monitor AI app performance — whether building with LangChain or not. Evaluate your app by saving production traces to datasets — then score performance with LLM-as-Judge evaluators. LangSmith traces contain the full information of all the inputs and outputs of each step of the application, giving users full visibility into their agent or LLM app behavior. LangSmith also allows users to instantly run evals to assess agent or LLM app performance — including LLM-as-Judge evaluators for auto-scoring and the ability to attach human feedback.', 'Get started with LangSmith | 🦜️🛠️ LangSmith Get started with LangSmith LangSmith is a platform for building production-grade LLM applications. LangSmith + LangChain OSS This is where LangSmith can help! LangSmith has LLM-native observability, allowing you to get meaningful insights from your application. LangSmith’s observability features have you covered throughout all stages of application development - from prototyping, to beta testing, to production. The LangSmith SDK and UI make building and running high-quality evaluations easy. Quickly assess the performance of your application using our off-the-shelf evaluators as a starting point. LangSmith provides a set of tools designed to enable and facilitate prompt engineering to help you find the perfect prompt for your application. LangSmith SDK'], 'queries': ['difference between langchain and langsmith', 'langchain overview', 'langsmith overview'], 'lnode': 'research_plan', 'count': 1}}\n",
      "{'generate': {'draft': \"**Title: LangChain vs LangSmith: Understanding the Differences, Pros, and Cons**\\n\\nI. Introduction\\nLangChain and LangSmith are two powerful tools developed by LangChain, a company focused on making it easier to build and deploy Large Language Model (LLM) applications. In this essay, we will delve into the differences between LangChain and LangSmith to provide a comprehensive understanding of their unique features and applications.\\n\\nII. LangChain\\nLangChain is a tool designed for early-stage prototyping and small-scale applications in the realm of Large Language Model (LLM) development. It offers a range of features such as chains, agents, and retrieval strategies that form the cognitive architecture of applications. LangChain simplifies the process of building LLM-driven applications like chatbots and AI agents through its Python- and Javascript-based libraries. For instance, ChatWatsonx is a LangChain class that integrates tool calling and chaining with watsonx.ai models. While LangChain excels in managing and scaling model workflows, it may lack the advanced debugging and monitoring capabilities required for large-scale, production-ready applications.\\n\\nIII. LangSmith\\nOn the other hand, LangSmith is tailored for large-scale, production-ready applications that demand advanced debugging, testing, and monitoring capabilities. It serves as a unified observability and evaluation platform where teams can debug, test, and monitor AI application performance. LangSmith provides users with full visibility into their agent or LLM app behavior by saving production traces to datasets and running evaluations to assess performance. This tool is particularly useful for those managing complex AI systems in production and requiring deep visibility and control over their applications.\\n\\nIV. Comparison between LangChain and LangSmith\\n- **Technology Stack**: LangChain focuses on simplifying the building process of LLM-driven applications, while LangSmith emphasizes observability and evaluation for large-scale, production-grade applications.\\n- **Scalability**: LangChain is ideal for early-stage prototyping and small-scale applications, whereas LangSmith is better suited for large-scale applications that require advanced monitoring capabilities.\\n- **Security**: Both tools prioritize security; however, LangSmith's focus on observability can enhance security measures by providing full visibility into application behavior.\\n- **Interoperability**: LangChain offers integrations with various components like chat models and vector stores, while LangSmith provides tools for prompt engineering and performance evaluation.\\n- **Performance**: LangChain streamlines the building process, while LangSmith ensures high performance through advanced debugging and monitoring features.\\n\\nV. Conclusion\\nIn conclusion, LangChain and LangSmith are complementary tools catering to different stages and requirements of LLM development. Understanding the distinctions between these tools is crucial for choosing the right tool based on the specific needs of the project. While LangChain is suitable for early-stage prototyping and small-scale applications, LangSmith is better equipped for large-scale, production-ready applications that demand advanced monitoring and evaluation capabilities. The future outlook for both technologies looks promising, with continuous advancements in the field of Large Language Model applications.\\n\\nBy delving into the unique features, use cases, and advantages of LangChain and LangSmith, developers and AI enthusiasts can make informed decisions on selecting the most suitable tool for their projects.\", 'revision_number': 2, 'lnode': 'generate', 'count': 1}}\n",
      "{'generate': {'draft': \"**Title: LangChain vs LangSmith: Understanding the Differences, Pros, and Cons**\\n\\nI. Introduction\\nLangChain and LangSmith are two powerful tools developed by LangChain, a company focused on making it easier to build and deploy Large Language Model (LLM) applications. In this essay, we will delve into the differences between LangChain and LangSmith to provide a comprehensive understanding of their unique features and applications.\\n\\nII. LangChain\\nLangChain is a tool designed for early-stage prototyping and small-scale applications in the realm of Large Language Model (LLM) development. It offers a range of features such as chains, agents, and retrieval strategies that form the cognitive architecture of applications. LangChain simplifies the process of building LLM-driven applications like chatbots and AI agents through its Python- and Javascript-based libraries. For instance, ChatWatsonx is a LangChain class that integrates tool calling and chaining with watsonx.ai models. While LangChain excels in managing and scaling model workflows, it may lack the advanced debugging and monitoring capabilities required for large-scale, production-ready applications.\\n\\nIII. LangSmith\\nOn the other hand, LangSmith is tailored for large-scale, production-ready applications that demand advanced debugging, testing, and monitoring capabilities. It serves as a unified observability and evaluation platform where teams can debug, test, and monitor AI application performance. LangSmith provides users with full visibility into their agent or LLM app behavior by saving production traces to datasets and running evaluations to assess performance. This tool is particularly useful for those managing complex AI systems in production and requiring deep visibility and control over their applications.\\n\\nIV. Comparison between LangChain and LangSmith\\n- **Technology Stack**: LangChain focuses on simplifying the building process of LLM-driven applications, while LangSmith emphasizes observability and evaluation for large-scale, production-grade applications.\\n- **Scalability**: LangChain is ideal for early-stage prototyping and small-scale applications, whereas LangSmith is better suited for large-scale applications that require advanced monitoring capabilities.\\n- **Security**: Both tools prioritize security; however, LangSmith's focus on observability can enhance security measures by providing full visibility into application behavior.\\n- **Interoperability**: LangChain offers integrations with various components like chat models and vector stores, while LangSmith provides tools for prompt engineering and performance evaluation.\\n- **Performance**: LangChain streamlines the building process, while LangSmith ensures high performance through advanced debugging and monitoring features.\\n\\nV. Conclusion\\nIn conclusion, LangChain and LangSmith are complementary tools catering to different stages and requirements of LLM development. Understanding the distinctions between these tools is crucial for choosing the right tool based on the specific needs of the project. While LangChain is suitable for early-stage prototyping and small-scale applications, LangSmith is better equipped for large-scale, production-ready applications that demand advanced monitoring and evaluation capabilities. The future outlook for both technologies looks promising, with continuous advancements in the field of Large Language Model applications.\\n\\nBy delving into the unique features, use cases, and advantages of LangChain and LangSmith, developers and AI enthusiasts can make informed decisions on selecting the most suitable tool for their projects.\", 'revision_number': 2, 'lnode': 'generate', 'count': 1}}\n",
      "{'reflect': {'critique': '**Overall Feedback:**\\nThe essay provides a clear and structured comparison between LangChain and LangSmith, highlighting their key features and applications. The introduction effectively sets the stage for the comparison, and the conclusion sums up the main points well. However, there are areas where the essay can be improved to enhance its depth and clarity.\\n\\n**Content:**\\n1. **Depth and Detail:** While the essay covers the basic features of LangChain and LangSmith, it would benefit from a deeper dive into specific functionalities, use cases, and examples of how these tools are applied in real-world scenarios. Providing more detailed examples and case studies would enrich the content and help readers better understand the practical implications of using LangChain and LangSmith.\\n\\n2. **Real-world Applications:** Including real-world examples or case studies where LangChain and LangSmith have been successfully implemented would add credibility to the comparison. This would also help readers visualize how these tools can be integrated into different projects and industries.\\n\\n3. **Pros and Cons:** While the essay briefly mentions the pros and cons of each tool, a more detailed analysis of the advantages and limitations of LangChain and LangSmith would provide a more comprehensive understanding for the readers. Exploring specific challenges or benefits that users might encounter when using these tools could offer valuable insights.\\n\\n**Structure and Organization:**\\n1. **Section Development:** Each section could be expanded to provide more detailed information about the features, functionalities, and applications of LangChain and LangSmith. This would help readers grasp the nuances of each tool and make informed decisions about their usage.\\n\\n2. **Transition Sentences:** Adding transition sentences between sections can improve the flow of the essay and guide readers through the comparison more smoothly. Clear transitions help connect ideas and ensure a cohesive narrative throughout the essay.\\n\\n**Style and Clarity:**\\n1. **Clarity of Language:** The essay uses technical terms and concepts related to Large Language Models, which may be challenging for readers unfamiliar with the topic. Consider defining complex terms or providing explanations to ensure clarity and accessibility for a broader audience.\\n\\n2. **Engagement:** To enhance reader engagement, consider incorporating more engaging examples, anecdotes, or visuals to illustrate the differences between LangChain and LangSmith. This can make the content more relatable and interesting for readers.\\n\\n**Recommendations:**\\n1. **Expand on Use Cases:** Provide detailed use cases or examples of how LangChain and LangSmith have been utilized in different projects or industries to demonstrate their practical applications.\\n\\n2. **Include Real-world Scenarios:** Incorporate real-world scenarios or case studies to showcase the effectiveness of LangChain and LangSmith in solving specific challenges or enhancing AI applications.\\n\\n3. **Enhance Pros and Cons Analysis:** Offer a more in-depth analysis of the advantages and limitations of LangChain and LangSmith to provide a comprehensive understanding of their capabilities and potential drawbacks.\\n\\n4. **Improve Clarity:** Clarify technical terms and concepts, and ensure that the content is accessible to a wider audience by explaining complex ideas in simpler terms.\\n\\n5. **Add Visual Aids:** Consider including diagrams, charts, or visuals to illustrate the differences between LangChain and LangSmith and enhance the overall presentation of the comparison.\\n\\nBy incorporating these recommendations, you can enrich the content of your essay, provide a more detailed comparison between LangChain and LangSmith, and offer valuable insights to your readers.', 'lnode': 'reflect', 'count': 1}}\n",
      "{'reflect': {'critique': '**Overall Feedback:**\\nThe essay provides a clear and structured comparison between LangChain and LangSmith, highlighting their key features and applications. The introduction effectively sets the stage for the comparison, and the conclusion sums up the main points well. However, there are areas where the essay can be improved to enhance its depth and clarity.\\n\\n**Content:**\\n1. **Depth and Detail:** While the essay covers the basic features of LangChain and LangSmith, it would benefit from a deeper dive into specific functionalities, use cases, and examples of how these tools are applied in real-world scenarios. Providing more detailed examples and case studies would enrich the content and help readers better understand the practical implications of using LangChain and LangSmith.\\n\\n2. **Real-world Applications:** Including real-world examples or case studies where LangChain and LangSmith have been successfully implemented would add credibility to the comparison. This would also help readers visualize how these tools can be integrated into different projects and industries.\\n\\n3. **Pros and Cons:** While the essay briefly mentions the pros and cons of each tool, a more detailed analysis of the advantages and limitations of LangChain and LangSmith would provide a more comprehensive understanding for the readers. Exploring specific challenges or benefits that users might encounter when using these tools could offer valuable insights.\\n\\n**Structure and Organization:**\\n1. **Section Development:** Each section could be expanded to provide more detailed information about the features, functionalities, and applications of LangChain and LangSmith. This would help readers grasp the nuances of each tool and make informed decisions about their usage.\\n\\n2. **Transition Sentences:** Adding transition sentences between sections can improve the flow of the essay and guide readers through the comparison more smoothly. Clear transitions help connect ideas and ensure a cohesive narrative throughout the essay.\\n\\n**Style and Clarity:**\\n1. **Clarity of Language:** The essay uses technical terms and concepts related to Large Language Models, which may be challenging for readers unfamiliar with the topic. Consider defining complex terms or providing explanations to ensure clarity and accessibility for a broader audience.\\n\\n2. **Engagement:** To enhance reader engagement, consider incorporating more engaging examples, anecdotes, or visuals to illustrate the differences between LangChain and LangSmith. This can make the content more relatable and interesting for readers.\\n\\n**Recommendations:**\\n1. **Expand on Use Cases:** Provide detailed use cases or examples of how LangChain and LangSmith have been utilized in different projects or industries to demonstrate their practical applications.\\n\\n2. **Include Real-world Scenarios:** Incorporate real-world scenarios or case studies to showcase the effectiveness of LangChain and LangSmith in solving specific challenges or enhancing AI applications.\\n\\n3. **Enhance Pros and Cons Analysis:** Offer a more in-depth analysis of the advantages and limitations of LangChain and LangSmith to provide a comprehensive understanding of their capabilities and potential drawbacks.\\n\\n4. **Improve Clarity:** Clarify technical terms and concepts, and ensure that the content is accessible to a wider audience by explaining complex ideas in simpler terms.\\n\\n5. **Add Visual Aids:** Consider including diagrams, charts, or visuals to illustrate the differences between LangChain and LangSmith and enhance the overall presentation of the comparison.\\n\\nBy incorporating these recommendations, you can enrich the content of your essay, provide a more detailed comparison between LangChain and LangSmith, and offer valuable insights to your readers.', 'lnode': 'reflect', 'count': 1}}\n"
     ]
    },
    {
     "name": "stderr",
     "output_type": "stream",
     "text": [
      "/Users/L015680/Library/Caches/pypoetry/virtualenvs/langgraph-agents-YCnhQksX-py3.12/lib/python3.12/site-packages/langchain_openai/chat_models/base.py:1857: UserWarning: Cannot use method='json_schema' with model gpt-3.5-turbo since it doesn't support OpenAI's Structured Output API. You can see supported models here: https://platform.openai.com/docs/guides/structured-outputs#supported-models. To fix this warning, set `method='function_calling'. Overriding to method='function_calling'.\n",
      "  warnings.warn(\n"
     ]
    },
    {
     "name": "stdout",
     "output_type": "stream",
     "text": [
      "{'research_critique': {'content': ['LangChain vs LangSmith: Understanding the Differences, Pros, and Cons | by Ajay Verma | GoPenAI LangChain and LangSmith are two powerful tools developed by LangChain, a company focused on making it easier to build and deploy Large Language Model (LLM) applications. In this blog, we’ll delve into the differences between LangChain and LangSmith, their pros and cons, and when to use each one. Comprehensive Platform: LangSmith offers a unified platform for managing all aspects of LLM development, making it ideal for large-scale, production-ready applications. LangChain and LangSmith are two complementary tools that cater to different stages and requirements of LLM development. LangChain is ideal for early-stage prototyping and small-scale applications, while LangSmith is better suited for large-scale, production-ready applications that require advanced debugging, testing, and monitoring capabilities.', 'If you’re responsible for ensuring your AI models work in production, or you need to frequently debug and monitor your pipelines, Langsmith is your go-to tool. In short, while **Langchain** excels at managing and scaling model workflows, **Langsmith** is designed for those times when you need deep visibility and control over large, complex AI systems in production. If you’re debugging complex AI models or managing large-scale workflows with multiple moving parts, **Langsmith’s advanced debugging and orchestration features** will be indispensable. Additionally, if you’re working on **cross-platform model deployments** — say, running models on-prem and in the cloud simultaneously — Langsmith offers better orchestration and monitoring tools to handle the complexity.', \"*   Build a simple LLM application with chat models and prompt templates *   How to migrate from legacy LangChain agents to LangGraph *   How to use chat models to call tools *   How to pass tool outputs to chat models *   **`langchain`**: Chains, agents, and retrieval strategies that make up an application's cognitive architecture. However, these guides will help you quickly accomplish common tasks using chat models, vector stores, and other common LangChain components. LangChain is part of a rich ecosystem of tools that integrate with our framework and build on top of it. If you're looking to get up and running quickly with chat models, vector stores, or other LangChain components from a specific provider, check out our growing list of integrations.\", 'Available in both Python- and Javascript-based libraries, LangChain’s tools and APIs simplify the process of building LLM-driven applications like chatbots and AI agents. Another LangChain class for building AI agents with the integration of tool calling and chaining with watsonx.ai models is ChatWatsonx. At its core, LangGraph uses the power of graph-based architectures to model and manage the intricate relationships between various components of anAI agent workflow.Combined with the human-in-the-loop monitoring mechanism and a set of API and tool integrations, LangGraph provides users with a versatile platform for developing AI solutions and workflows includingchatbots, state graphs andother agent-based systems.', 'LangSmith Performance cookies are used to understand and analyze the key performance indexes of the website which helps in delivering a better user experience for the visitors. LangSmith is a unified observability & evals platform where teams can debug, test, and monitor AI app performance — whether building with LangChain or not. Evaluate your app by saving production traces to datasets — then score performance with LLM-as-Judge evaluators. LangSmith traces contain the full information of all the inputs and outputs of each step of the application, giving users full visibility into their agent or LLM app behavior. LangSmith also allows users to instantly run evals to assess agent or LLM app performance — including LLM-as-Judge evaluators for auto-scoring and the ability to attach human feedback.', 'Get started with LangSmith | 🦜️🛠️ LangSmith Get started with LangSmith LangSmith is a platform for building production-grade LLM applications. LangSmith + LangChain OSS This is where LangSmith can help! LangSmith has LLM-native observability, allowing you to get meaningful insights from your application. LangSmith’s observability features have you covered throughout all stages of application development - from prototyping, to beta testing, to production. The LangSmith SDK and UI make building and running high-quality evaluations easy. Quickly assess the performance of your application using our off-the-shelf evaluators as a starting point. LangSmith provides a set of tools designed to enable and facilitate prompt engineering to help you find the perfect prompt for your application. LangSmith SDK', 'If you’re responsible for ensuring your AI models work in production, or you need to frequently debug and monitor your pipelines, Langsmith is your go-to tool. In short, while **Langchain** excels at managing and scaling model workflows, **Langsmith** is designed for those times when you need deep visibility and control over large, complex AI systems in production. If you’re debugging complex AI models or managing large-scale workflows with multiple moving parts, **Langsmith’s advanced debugging and orchestration features** will be indispensable. Additionally, if you’re working on **cross-platform model deployments** — say, running models on-prem and in the cloud simultaneously — Langsmith offers better orchestration and monitoring tools to handle the complexity.', 'In LLM application development, LangChain and LangSmith have become central tools for building and managing large language model-powered solutions. This article compares LangChain and LangSmith, focusing on their core features, integration options, and value for developers in the LLM application space. LangChain is an open-source framework that helps developers create LLM applications efficiently. LangChain streamlines the development of conversational agents and tool-using AI. LangSmith provides tools to debug, monitor, and improve LLM-powered agents, and offers a managed cloud service with a web UI. | LLM Evaluation | Minimal built-in support; developers typically create custom logic or use external tools. LangChain provides building blocks for LLM applications, while LangSmith offers observability and evaluation.', 'If you’re responsible for ensuring your AI models work in production, or you need to frequently debug and monitor your pipelines, Langsmith is your go-to tool. In short, while **Langchain** excels at managing and scaling model workflows, **Langsmith** is designed for those times when you need deep visibility and control over large, complex AI systems in production. If you’re debugging complex AI models or managing large-scale workflows with multiple moving parts, **Langsmith’s advanced debugging and orchestration features** will be indispensable. Additionally, if you’re working on **cross-platform model deployments** — say, running models on-prem and in the cloud simultaneously — Langsmith offers better orchestration and monitoring tools to handle the complexity.', \"LangSmith steps in to give you the tools you need to debug and monitor your models at scale, ensuring everything is running as expected in your AI system. You might think of LangSmith as LangChain's counterpart, but it takes things further by focusing on managing, debugging, and orchestrating AI and ML models. LangSmith steps in to give you the tools you need to debug and monitor your models at scale, ensuring everything is running as expected in your AI system. In short, while LangChain excels at managing and scaling model workflows, LangSmith is designed for when you need deep visibility and control over large, complex AI systems in production. If you're debugging complex AI models or managing large-scale workflows with multiple moving parts, LangSmith's advanced debugging and orchestration features will be indispensable.\", 'Compare LangChain, LangSmith, and Orq.ai to discover the best LLM development tools for building, deploying, and optimizing scalable AI applications. As a comprehensive platform for LLM product development, LangChain equips software teams with the tools needed to build, test, and deploy LLM-powered solutions at scale. While LangChain focuses on the flexibility and modularity required for building LLM-powered applications, LangSmith steps in to offer essential tools for deployment, monitoring, and optimization throughout the production process. Orq.ai offers several advantages over LangChain and LangSmith, providing a more integrated and efficient solution for LLM development. By offering an integrated solution that supports the entire LLM development lifecycle, Orq.ai enables teams to seamlessly build, deploy, and optimize LLM applications at scale, without needing to juggle multiple specialized tools.', 'LangChain vs LangSmith: Understanding the Differences, Pros, and Cons | by Ajay Verma | GoPenAI LangChain and LangSmith are two powerful tools developed by LangChain, a company focused on making it easier to build and deploy Large Language Model (LLM) applications. In this blog, we’ll delve into the differences between LangChain and LangSmith, their pros and cons, and when to use each one. Comprehensive Platform: LangSmith offers a unified platform for managing all aspects of LLM development, making it ideal for large-scale, production-ready applications. LangChain and LangSmith are two complementary tools that cater to different stages and requirements of LLM development. LangChain is ideal for early-stage prototyping and small-scale applications, while LangSmith is better suited for large-scale, production-ready applications that require advanced debugging, testing, and monitoring capabilities.'], 'queries': ['LangChain vs LangSmith use cases', 'Real-world applications of LangChain and LangSmith', 'Advantages and limitations of LangChain and LangSmith'], 'lnode': 'research_critique', 'count': 1}}\n",
      "{'generate': {'draft': \"**Title: LangChain vs LangSmith: A Comparative Analysis**\\n\\nI. Introduction\\nLangChain and LangSmith are two powerful tools developed by LangChain, aimed at simplifying the development and deployment of Large Language Model (LLM) applications. This essay will delve into the differences between LangChain and LangSmith, providing a comprehensive comparison of their features, use cases, advantages, and disadvantages.\\n\\nII. LangChain\\nLangChain is a tool designed for early-stage prototyping and small-scale applications in the LLM development process. It consists of chains, agents, and retrieval strategies that form the cognitive architecture of applications. LangChain offers simplicity and ease of use, making it ideal for quick prototyping and experimentation. However, its scalability may be limited compared to LangSmith.\\n\\nIII. LangSmith\\nIn contrast, LangSmith is tailored for large-scale, production-ready applications that demand advanced debugging, testing, and monitoring capabilities. It provides a unified platform for managing all aspects of LLM development, ensuring high performance and reliability in complex AI systems. LangSmith excels in providing deep visibility and control over AI models in production environments.\\n\\nIV. Comparison between LangChain and LangSmith\\nA. Technology Stack: LangChain offers a rich ecosystem of tools and integrations, while LangSmith focuses on observability and evaluation features.\\nB. Scalability: LangChain is suitable for small-scale applications, whereas LangSmith is better equipped for large-scale deployments.\\nC. Security: Both tools prioritize security, but LangSmith's focus on production-ready applications may offer more robust security features.\\nD. Interoperability: LangChain provides flexibility with various integrations, while LangSmith ensures seamless integration with production environments.\\nE. Performance: LangSmith's advanced debugging and monitoring tools enhance performance optimization in complex AI systems compared to LangChain.\\n\\nV. Conclusion\\nIn conclusion, the differences between LangChain and LangSmith cater to distinct stages and requirements in LLM development. While LangChain is ideal for quick prototyping and experimentation, LangSmith shines in managing large-scale, production-ready applications with advanced debugging and monitoring capabilities. Understanding these differences is crucial for developers to choose the right tool based on their specific needs, ultimately shaping the future landscape of LLM applications.\", 'revision_number': 3, 'lnode': 'generate', 'count': 1}}\n",
      "{'generate': {'draft': \"**Title: LangChain vs LangSmith: A Comparative Analysis**\\n\\nI. Introduction\\nLangChain and LangSmith are two powerful tools developed by LangChain, aimed at simplifying the development and deployment of Large Language Model (LLM) applications. This essay will delve into the differences between LangChain and LangSmith, providing a comprehensive comparison of their features, use cases, advantages, and disadvantages.\\n\\nII. LangChain\\nLangChain is a tool designed for early-stage prototyping and small-scale applications in the LLM development process. It consists of chains, agents, and retrieval strategies that form the cognitive architecture of applications. LangChain offers simplicity and ease of use, making it ideal for quick prototyping and experimentation. However, its scalability may be limited compared to LangSmith.\\n\\nIII. LangSmith\\nIn contrast, LangSmith is tailored for large-scale, production-ready applications that demand advanced debugging, testing, and monitoring capabilities. It provides a unified platform for managing all aspects of LLM development, ensuring high performance and reliability in complex AI systems. LangSmith excels in providing deep visibility and control over AI models in production environments.\\n\\nIV. Comparison between LangChain and LangSmith\\nA. Technology Stack: LangChain offers a rich ecosystem of tools and integrations, while LangSmith focuses on observability and evaluation features.\\nB. Scalability: LangChain is suitable for small-scale applications, whereas LangSmith is better equipped for large-scale deployments.\\nC. Security: Both tools prioritize security, but LangSmith's focus on production-ready applications may offer more robust security features.\\nD. Interoperability: LangChain provides flexibility with various integrations, while LangSmith ensures seamless integration with production environments.\\nE. Performance: LangSmith's advanced debugging and monitoring tools enhance performance optimization in complex AI systems compared to LangChain.\\n\\nV. Conclusion\\nIn conclusion, the differences between LangChain and LangSmith cater to distinct stages and requirements in LLM development. While LangChain is ideal for quick prototyping and experimentation, LangSmith shines in managing large-scale, production-ready applications with advanced debugging and monitoring capabilities. Understanding these differences is crucial for developers to choose the right tool based on their specific needs, ultimately shaping the future landscape of LLM applications.\", 'revision_number': 3, 'lnode': 'generate', 'count': 1}}\n"
     ]
    }
   ],
   "source": [
    "thread = {\"configurable\": {\"thread_id\": \"1\"}}\n",
    "for s in graph.stream({\n",
    "    'task': \"what is the difference between langchain and langsmith\",\n",
    "    \"max_revisions\": 2,\n",
    "    \"revision_number\": 1,\n",
    "}, thread):\n",
    "    print(s)"
   ]
  },
  {
   "cell_type": "markdown",
   "id": "4d1664b5-75e0-46b7-9c2b-4ac9171f4597",
   "metadata": {},
   "source": [
    "## Essay Writer Interface"
   ]
  },
  {
   "cell_type": "code",
   "execution_count": 26,
   "id": "96dfa4c8",
   "metadata": {},
   "outputs": [
    {
     "name": "stdout",
     "output_type": "stream",
     "text": [
      "* Running on local URL:  http://127.0.0.1:7860\n",
      "* To create a public link, set `share=True` in `launch()`.\n"
     ]
    },
    {
     "data": {
      "text/html": [
       "<div><iframe src=\"http://127.0.0.1:7860/\" width=\"100%\" height=\"500\" allow=\"autoplay; camera; microphone; clipboard-read; clipboard-write;\" frameborder=\"0\" allowfullscreen></iframe></div>"
      ],
      "text/plain": [
       "<IPython.core.display.HTML object>"
      ]
     },
     "metadata": {},
     "output_type": "display_data"
    }
   ],
   "source": [
    "import warnings\n",
    "warnings.filterwarnings(\"ignore\")\n",
    "\n",
    "from helper import ewriter, writer_gui\n",
    "\n",
    "MultiAgent = ewriter()\n",
    "app = writer_gui(MultiAgent.graph)\n",
    "app.launch()"
   ]
  }
 ],
 "metadata": {
  "kernelspec": {
   "display_name": "langgraph-agents-py3.12",
   "language": "python",
   "name": "python3"
  },
  "language_info": {
   "codemirror_mode": {
    "name": "ipython",
    "version": 3
   },
   "file_extension": ".py",
   "mimetype": "text/x-python",
   "name": "python",
   "nbconvert_exporter": "python",
   "pygments_lexer": "ipython3",
   "version": "3.12.10"
  }
 },
 "nbformat": 4,
 "nbformat_minor": 5
}
