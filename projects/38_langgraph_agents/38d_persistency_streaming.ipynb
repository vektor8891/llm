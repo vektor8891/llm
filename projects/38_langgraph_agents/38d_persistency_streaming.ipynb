{
 "cells": [
  {
   "cell_type": "markdown",
   "id": "b5789bc3-b1ae-42c7-94a8-2ef4f89946fc",
   "metadata": {},
   "source": [
    "# Lesson 4: Persistence and Streaming"
   ]
  },
  {
   "cell_type": "code",
   "execution_count": 1,
   "id": "f5762271-8736-4e94-9444-8c92bd0e8074",
   "metadata": {
    "height": 64
   },
   "outputs": [],
   "source": [
    "from dotenv import load_dotenv\n",
    "\n",
    "_ = load_dotenv()"
   ]
  },
  {
   "cell_type": "code",
   "execution_count": 2,
   "id": "d0168aee-bce9-4d60-b827-f86a88187e31",
   "metadata": {
    "height": 115
   },
   "outputs": [],
   "source": [
    "from langgraph.graph import StateGraph, END\n",
    "from typing import TypedDict, Annotated\n",
    "import operator\n",
    "from langchain_core.messages import AnyMessage, SystemMessage, HumanMessage, ToolMessage\n",
    "from langchain_openai import ChatOpenAI\n",
    "from langchain_tavily import TavilySearch"
   ]
  },
  {
   "cell_type": "code",
   "execution_count": 3,
   "id": "da06a64f-a2d5-4a66-8090-9ada0930c684",
   "metadata": {
    "height": 30
   },
   "outputs": [],
   "source": [
    "tool = TavilySearch(max_results=2)"
   ]
  },
  {
   "cell_type": "code",
   "execution_count": 4,
   "id": "2589c5b6-6cc2-4594-9a17-dccdcf676054",
   "metadata": {
    "height": 47
   },
   "outputs": [],
   "source": [
    "class AgentState(TypedDict):\n",
    "    messages: Annotated[list[AnyMessage], operator.add]"
   ]
  },
  {
   "cell_type": "code",
   "execution_count": 5,
   "id": "9c033522-d2fc-41ac-8e3c-5e35872bf88d",
   "metadata": {
    "height": 64
   },
   "outputs": [],
   "source": [
    "from langgraph.checkpoint.sqlite import SqliteSaver\n",
    "import sqlite3\n",
    "\n",
    "# Create an in-memory SQLite database connection with thread safety\n",
    "conn = sqlite3.connect(\":memory:\", check_same_thread=False)\n",
    "memory = SqliteSaver(conn)"
   ]
  },
  {
   "cell_type": "code",
   "execution_count": 6,
   "id": "a2ba84ec-c172-4de7-ac55-e3158a531b23",
   "metadata": {
    "height": 574
   },
   "outputs": [],
   "source": [
    "class Agent:\n",
    "    def __init__(self, model, tools, checkpointer, system=\"\"):\n",
    "        self.system = system\n",
    "        graph = StateGraph(AgentState)\n",
    "        graph.add_node(\"llm\", self.call_openai)\n",
    "        graph.add_node(\"action\", self.take_action)\n",
    "        graph.add_conditional_edges(\"llm\", self.exists_action, {True: \"action\", False: END})\n",
    "        graph.add_edge(\"action\", \"llm\")\n",
    "        graph.set_entry_point(\"llm\")\n",
    "        self.graph = graph.compile(checkpointer=checkpointer)\n",
    "        self.tools = {t.name: t for t in tools}\n",
    "        self.model = model.bind_tools(tools)\n",
    "\n",
    "    def call_openai(self, state: AgentState):\n",
    "        messages = state['messages']\n",
    "        if self.system:\n",
    "            messages = [SystemMessage(content=self.system)] + messages\n",
    "        message = self.model.invoke(messages)\n",
    "        return {'messages': [message]}\n",
    "\n",
    "    def exists_action(self, state: AgentState):\n",
    "        result = state['messages'][-1]\n",
    "        return len(result.tool_calls) > 0\n",
    "\n",
    "    def take_action(self, state: AgentState):\n",
    "        tool_calls = state['messages'][-1].tool_calls\n",
    "        results = []\n",
    "        for t in tool_calls:\n",
    "            print(f\"Calling: {t}\")\n",
    "            result = self.tools[t['name']].invoke(t['args'])\n",
    "            results.append(ToolMessage(tool_call_id=t['id'], name=t['name'], content=str(result)))\n",
    "        print(\"Back to the model!\")\n",
    "        return {'messages': results}"
   ]
  },
  {
   "cell_type": "code",
   "execution_count": 7,
   "id": "876d5092-b8ef-4e38-b4d7-0e80c609bf7a",
   "metadata": {
    "height": 132
   },
   "outputs": [],
   "source": [
    "prompt = \"\"\"You are a smart research assistant. Use the search engine to look up information. \\\n",
    "You are allowed to make multiple calls (either together or in sequence). \\\n",
    "Only look up information when you are sure of what you want. \\\n",
    "If you need to look up some information before asking a follow up question, you are allowed to do that!\n",
    "\"\"\"\n",
    "model = ChatOpenAI(model=\"gpt-4o\")\n",
    "abot = Agent(model, [tool], system=prompt, checkpointer=memory)"
   ]
  },
  {
   "cell_type": "code",
   "execution_count": 8,
   "id": "10084a02-2928-4945-9f7c-ad3f5b33caf7",
   "metadata": {
    "height": 30
   },
   "outputs": [],
   "source": [
    "messages = [HumanMessage(content=\"What is the weather in sf?\")]"
   ]
  },
  {
   "cell_type": "code",
   "execution_count": 9,
   "id": "714d1205-f8fc-4912-b148-2a45da99219c",
   "metadata": {
    "height": 30
   },
   "outputs": [],
   "source": [
    "thread = {\"configurable\": {\"thread_id\": \"1\"}}"
   ]
  },
  {
   "cell_type": "code",
   "execution_count": 10,
   "id": "83588e70-254f-4f83-a510-c8ae81e729b0",
   "metadata": {
    "height": 64
   },
   "outputs": [
    {
     "name": "stdout",
     "output_type": "stream",
     "text": [
      "[AIMessage(content='', additional_kwargs={'tool_calls': [{'id': 'call_c6ppUbGmL6f7s9MEHB01IZ6J', 'function': {'arguments': '{\"query\":\"current weather in San Francisco\",\"search_depth\":\"basic\",\"topic\":\"general\"}', 'name': 'tavily_search'}, 'type': 'function'}], 'refusal': None}, response_metadata={'token_usage': {'completion_tokens': 29, 'prompt_tokens': 1340, 'total_tokens': 1369, 'completion_tokens_details': {'accepted_prediction_tokens': 0, 'audio_tokens': 0, 'reasoning_tokens': 0, 'rejected_prediction_tokens': 0}, 'prompt_tokens_details': {'audio_tokens': 0, 'cached_tokens': 0}}, 'model_name': 'gpt-4o-2024-08-06', 'system_fingerprint': 'fp_07871e2ad8', 'id': 'chatcmpl-Bul8HOCIAcsusGG5fkhUWIwhVO5bw', 'service_tier': 'default', 'finish_reason': 'tool_calls', 'logprobs': None}, id='run--b004511e-dc77-4c8c-9aff-4250b5485448-0', tool_calls=[{'name': 'tavily_search', 'args': {'query': 'current weather in San Francisco', 'search_depth': 'basic', 'topic': 'general'}, 'id': 'call_c6ppUbGmL6f7s9MEHB01IZ6J', 'type': 'tool_call'}], usage_metadata={'input_tokens': 1340, 'output_tokens': 29, 'total_tokens': 1369, 'input_token_details': {'audio': 0, 'cache_read': 0}, 'output_token_details': {'audio': 0, 'reasoning': 0}})]\n",
      "Calling: {'name': 'tavily_search', 'args': {'query': 'current weather in San Francisco', 'search_depth': 'basic', 'topic': 'general'}, 'id': 'call_c6ppUbGmL6f7s9MEHB01IZ6J', 'type': 'tool_call'}\n",
      "Back to the model!\n",
      "[ToolMessage(content='{\\'query\\': \\'current weather in San Francisco\\', \\'follow_up_questions\\': None, \\'answer\\': None, \\'images\\': [], \\'results\\': [{\\'title\\': \\'Weather in San Francisco\\', \\'url\\': \\'https://www.weatherapi.com/\\', \\'content\\': \"{\\'location\\': {\\'name\\': \\'San Francisco\\', \\'region\\': \\'California\\', \\'country\\': \\'United States of America\\', \\'lat\\': 37.775, \\'lon\\': -122.4183, \\'tz_id\\': \\'America/Los_Angeles\\', \\'localtime_epoch\\': 1752867284, \\'localtime\\': \\'2025-07-18 12:34\\'}, \\'current\\': {\\'last_updated_epoch\\': 1752867000, \\'last_updated\\': \\'2025-07-18 12:30\\', \\'temp_c\\': 18.3, \\'temp_f\\': 64.9, \\'is_day\\': 1, \\'condition\\': {\\'text\\': \\'Partly cloudy\\', \\'icon\\': \\'//cdn.weatherapi.com/weather/64x64/day/116.png\\', \\'code\\': 1003}, \\'wind_mph\\': 9.8, \\'wind_kph\\': 15.8, \\'wind_degree\\': 256, \\'wind_dir\\': \\'WSW\\', \\'pressure_mb\\': 1017.0, \\'pressure_in\\': 30.04, \\'precip_mm\\': 0.0, \\'precip_in\\': 0.0, \\'humidity\\': 68, \\'cloud\\': 75, \\'feelslike_c\\': 18.3, \\'feelslike_f\\': 64.9, \\'windchill_c\\': 15.0, \\'windchill_f\\': 59.0, \\'heatindex_c\\': 15.1, \\'heatindex_f\\': 59.1, \\'dewpoint_c\\': 12.9, \\'dewpoint_f\\': 55.2, \\'vis_km\\': 16.0, \\'vis_miles\\': 9.0, \\'uv\\': 8.9, \\'gust_mph\\': 11.4, \\'gust_kph\\': 18.4}}\", \\'score\\': 0.569755, \\'raw_content\\': None}, {\\'url\\': \\'https://www.timeanddate.com/weather/usa/san-francisco\\', \\'title\\': \\'Weather for San Francisco, California, USA - Time and Date\\', \\'content\\': \\'Weather in San Francisco, California, USA ... More clouds than sun. Feels Like: 57 °F Forecast: 65 / 56 °F Wind: 10 mph ↑\\', \\'score\\': 0.5236402, \\'raw_content\\': None}], \\'response_time\\': 1.88}', name='tavily_search', tool_call_id='call_c6ppUbGmL6f7s9MEHB01IZ6J')]\n",
      "Back to the model!\n",
      "[ToolMessage(content='{\\'query\\': \\'current weather in San Francisco\\', \\'follow_up_questions\\': None, \\'answer\\': None, \\'images\\': [], \\'results\\': [{\\'title\\': \\'Weather in San Francisco\\', \\'url\\': \\'https://www.weatherapi.com/\\', \\'content\\': \"{\\'location\\': {\\'name\\': \\'San Francisco\\', \\'region\\': \\'California\\', \\'country\\': \\'United States of America\\', \\'lat\\': 37.775, \\'lon\\': -122.4183, \\'tz_id\\': \\'America/Los_Angeles\\', \\'localtime_epoch\\': 1752867284, \\'localtime\\': \\'2025-07-18 12:34\\'}, \\'current\\': {\\'last_updated_epoch\\': 1752867000, \\'last_updated\\': \\'2025-07-18 12:30\\', \\'temp_c\\': 18.3, \\'temp_f\\': 64.9, \\'is_day\\': 1, \\'condition\\': {\\'text\\': \\'Partly cloudy\\', \\'icon\\': \\'//cdn.weatherapi.com/weather/64x64/day/116.png\\', \\'code\\': 1003}, \\'wind_mph\\': 9.8, \\'wind_kph\\': 15.8, \\'wind_degree\\': 256, \\'wind_dir\\': \\'WSW\\', \\'pressure_mb\\': 1017.0, \\'pressure_in\\': 30.04, \\'precip_mm\\': 0.0, \\'precip_in\\': 0.0, \\'humidity\\': 68, \\'cloud\\': 75, \\'feelslike_c\\': 18.3, \\'feelslike_f\\': 64.9, \\'windchill_c\\': 15.0, \\'windchill_f\\': 59.0, \\'heatindex_c\\': 15.1, \\'heatindex_f\\': 59.1, \\'dewpoint_c\\': 12.9, \\'dewpoint_f\\': 55.2, \\'vis_km\\': 16.0, \\'vis_miles\\': 9.0, \\'uv\\': 8.9, \\'gust_mph\\': 11.4, \\'gust_kph\\': 18.4}}\", \\'score\\': 0.569755, \\'raw_content\\': None}, {\\'url\\': \\'https://www.timeanddate.com/weather/usa/san-francisco\\', \\'title\\': \\'Weather for San Francisco, California, USA - Time and Date\\', \\'content\\': \\'Weather in San Francisco, California, USA ... More clouds than sun. Feels Like: 57 °F Forecast: 65 / 56 °F Wind: 10 mph ↑\\', \\'score\\': 0.5236402, \\'raw_content\\': None}], \\'response_time\\': 1.88}', name='tavily_search', tool_call_id='call_c6ppUbGmL6f7s9MEHB01IZ6J')]\n",
      "[AIMessage(content='The current weather in San Francisco is partly cloudy with a temperature of approximately 18.3°C (64.9°F). The wind is blowing from the west-southwest at around 9.8 mph (15.8 kph). The humidity level is at 68%, and the visibility is about 16 km.', additional_kwargs={'refusal': None}, response_metadata={'token_usage': {'completion_tokens': 67, 'prompt_tokens': 1941, 'total_tokens': 2008, 'completion_tokens_details': {'accepted_prediction_tokens': 0, 'audio_tokens': 0, 'reasoning_tokens': 0, 'rejected_prediction_tokens': 0}, 'prompt_tokens_details': {'audio_tokens': 0, 'cached_tokens': 1280}}, 'model_name': 'gpt-4o-2024-08-06', 'system_fingerprint': 'fp_07871e2ad8', 'id': 'chatcmpl-Bul8KakW4APXbU4dEG7RES1kogk1q', 'service_tier': 'default', 'finish_reason': 'stop', 'logprobs': None}, id='run--1107b528-ef83-42b1-b4f8-1eb9bc4ec021-0', usage_metadata={'input_tokens': 1941, 'output_tokens': 67, 'total_tokens': 2008, 'input_token_details': {'audio': 0, 'cache_read': 1280}, 'output_token_details': {'audio': 0, 'reasoning': 0}})]\n",
      "[AIMessage(content='The current weather in San Francisco is partly cloudy with a temperature of approximately 18.3°C (64.9°F). The wind is blowing from the west-southwest at around 9.8 mph (15.8 kph). The humidity level is at 68%, and the visibility is about 16 km.', additional_kwargs={'refusal': None}, response_metadata={'token_usage': {'completion_tokens': 67, 'prompt_tokens': 1941, 'total_tokens': 2008, 'completion_tokens_details': {'accepted_prediction_tokens': 0, 'audio_tokens': 0, 'reasoning_tokens': 0, 'rejected_prediction_tokens': 0}, 'prompt_tokens_details': {'audio_tokens': 0, 'cached_tokens': 1280}}, 'model_name': 'gpt-4o-2024-08-06', 'system_fingerprint': 'fp_07871e2ad8', 'id': 'chatcmpl-Bul8KakW4APXbU4dEG7RES1kogk1q', 'service_tier': 'default', 'finish_reason': 'stop', 'logprobs': None}, id='run--1107b528-ef83-42b1-b4f8-1eb9bc4ec021-0', usage_metadata={'input_tokens': 1941, 'output_tokens': 67, 'total_tokens': 2008, 'input_token_details': {'audio': 0, 'cache_read': 1280}, 'output_token_details': {'audio': 0, 'reasoning': 0}})]\n"
     ]
    }
   ],
   "source": [
    "for event in abot.graph.stream({\"messages\": messages}, thread):\n",
    "    for v in event.values():\n",
    "        print(v['messages'])"
   ]
  },
  {
   "cell_type": "code",
   "execution_count": 11,
   "id": "6cb3ef4c-58b3-401b-b104-0d51e553d982",
   "metadata": {
    "height": 98
   },
   "outputs": [
    {
     "name": "stdout",
     "output_type": "stream",
     "text": [
      "{'messages': [AIMessage(content='', additional_kwargs={'tool_calls': [{'id': 'call_bIonporeyFIArLh1JLwjAI8q', 'function': {'arguments': '{\"query\":\"current weather in Los Angeles\",\"search_depth\":\"basic\",\"topic\":\"general\"}', 'name': 'tavily_search'}, 'type': 'function'}], 'refusal': None}, response_metadata={'token_usage': {'completion_tokens': 29, 'prompt_tokens': 2020, 'total_tokens': 2049, 'completion_tokens_details': {'accepted_prediction_tokens': 0, 'audio_tokens': 0, 'reasoning_tokens': 0, 'rejected_prediction_tokens': 0}, 'prompt_tokens_details': {'audio_tokens': 0, 'cached_tokens': 1920}}, 'model_name': 'gpt-4o-2024-08-06', 'system_fingerprint': 'fp_07871e2ad8', 'id': 'chatcmpl-Bul8MYhwwdOqLpdyNuWCfycWcaqaq', 'service_tier': 'default', 'finish_reason': 'tool_calls', 'logprobs': None}, id='run--44ad69df-dbef-4b8f-b5c3-061acd895d8b-0', tool_calls=[{'name': 'tavily_search', 'args': {'query': 'current weather in Los Angeles', 'search_depth': 'basic', 'topic': 'general'}, 'id': 'call_bIonporeyFIArLh1JLwjAI8q', 'type': 'tool_call'}], usage_metadata={'input_tokens': 2020, 'output_tokens': 29, 'total_tokens': 2049, 'input_token_details': {'audio': 0, 'cache_read': 1920}, 'output_token_details': {'audio': 0, 'reasoning': 0}})]}\n",
      "Calling: {'name': 'tavily_search', 'args': {'query': 'current weather in Los Angeles', 'search_depth': 'basic', 'topic': 'general'}, 'id': 'call_bIonporeyFIArLh1JLwjAI8q', 'type': 'tool_call'}\n",
      "Back to the model!\n",
      "{'messages': [ToolMessage(content='{\\'query\\': \\'current weather in Los Angeles\\', \\'follow_up_questions\\': None, \\'answer\\': None, \\'images\\': [], \\'results\\': [{\\'title\\': \\'Weather in Los Angeles\\', \\'url\\': \\'https://www.weatherapi.com/\\', \\'content\\': \"{\\'location\\': {\\'name\\': \\'Los Angeles\\', \\'region\\': \\'California\\', \\'country\\': \\'United States of America\\', \\'lat\\': 34.0522, \\'lon\\': -118.2428, \\'tz_id\\': \\'America/Los_Angeles\\', \\'localtime_epoch\\': 1752867289, \\'localtime\\': \\'2025-07-18 12:34\\'}, \\'current\\': {\\'last_updated_epoch\\': 1752867000, \\'last_updated\\': \\'2025-07-18 12:30\\', \\'temp_c\\': 22.8, \\'temp_f\\': 73.0, \\'is_day\\': 1, \\'condition\\': {\\'text\\': \\'Partly Cloudy\\', \\'icon\\': \\'//cdn.weatherapi.com/weather/64x64/day/116.png\\', \\'code\\': 1003}, \\'wind_mph\\': 8.7, \\'wind_kph\\': 14.0, \\'wind_degree\\': 237, \\'wind_dir\\': \\'WSW\\', \\'pressure_mb\\': 1016.0, \\'pressure_in\\': 30.0, \\'precip_mm\\': 0.0, \\'precip_in\\': 0.0, \\'humidity\\': 64, \\'cloud\\': 0, \\'feelslike_c\\': 24.8, \\'feelslike_f\\': 76.6, \\'windchill_c\\': 24.7, \\'windchill_f\\': 76.5, \\'heatindex_c\\': 25.9, \\'heatindex_f\\': 78.6, \\'dewpoint_c\\': 15.7, \\'dewpoint_f\\': 60.3, \\'vis_km\\': 16.0, \\'vis_miles\\': 9.0, \\'uv\\': 9.9, \\'gust_mph\\': 10.0, \\'gust_kph\\': 16.2}}\", \\'score\\': 0.9712149, \\'raw_content\\': None}, {\\'url\\': \\'https://world-weather.info/forecast/usa/los_angeles/july-2025/\\', \\'title\\': \\'Weather in Los Angeles in July 2025 (California)\\', \\'content\\': \\'Detailed ⚡ Los Angeles Weather Forecast for July 2025 – day/night 🌡️ ... Friday, 18 July. +64°. Day. +79°. Clear sky. Saturday, 19 July. +64°. Day. +81\\', \\'score\\': 0.9224337, \\'raw_content\\': None}], \\'response_time\\': 1.52}', name='tavily_search', tool_call_id='call_bIonporeyFIArLh1JLwjAI8q')]}\n",
      "Back to the model!\n",
      "{'messages': [ToolMessage(content='{\\'query\\': \\'current weather in Los Angeles\\', \\'follow_up_questions\\': None, \\'answer\\': None, \\'images\\': [], \\'results\\': [{\\'title\\': \\'Weather in Los Angeles\\', \\'url\\': \\'https://www.weatherapi.com/\\', \\'content\\': \"{\\'location\\': {\\'name\\': \\'Los Angeles\\', \\'region\\': \\'California\\', \\'country\\': \\'United States of America\\', \\'lat\\': 34.0522, \\'lon\\': -118.2428, \\'tz_id\\': \\'America/Los_Angeles\\', \\'localtime_epoch\\': 1752867289, \\'localtime\\': \\'2025-07-18 12:34\\'}, \\'current\\': {\\'last_updated_epoch\\': 1752867000, \\'last_updated\\': \\'2025-07-18 12:30\\', \\'temp_c\\': 22.8, \\'temp_f\\': 73.0, \\'is_day\\': 1, \\'condition\\': {\\'text\\': \\'Partly Cloudy\\', \\'icon\\': \\'//cdn.weatherapi.com/weather/64x64/day/116.png\\', \\'code\\': 1003}, \\'wind_mph\\': 8.7, \\'wind_kph\\': 14.0, \\'wind_degree\\': 237, \\'wind_dir\\': \\'WSW\\', \\'pressure_mb\\': 1016.0, \\'pressure_in\\': 30.0, \\'precip_mm\\': 0.0, \\'precip_in\\': 0.0, \\'humidity\\': 64, \\'cloud\\': 0, \\'feelslike_c\\': 24.8, \\'feelslike_f\\': 76.6, \\'windchill_c\\': 24.7, \\'windchill_f\\': 76.5, \\'heatindex_c\\': 25.9, \\'heatindex_f\\': 78.6, \\'dewpoint_c\\': 15.7, \\'dewpoint_f\\': 60.3, \\'vis_km\\': 16.0, \\'vis_miles\\': 9.0, \\'uv\\': 9.9, \\'gust_mph\\': 10.0, \\'gust_kph\\': 16.2}}\", \\'score\\': 0.9712149, \\'raw_content\\': None}, {\\'url\\': \\'https://world-weather.info/forecast/usa/los_angeles/july-2025/\\', \\'title\\': \\'Weather in Los Angeles in July 2025 (California)\\', \\'content\\': \\'Detailed ⚡ Los Angeles Weather Forecast for July 2025 – day/night 🌡️ ... Friday, 18 July. +64°. Day. +79°. Clear sky. Saturday, 19 July. +64°. Day. +81\\', \\'score\\': 0.9224337, \\'raw_content\\': None}], \\'response_time\\': 1.52}', name='tavily_search', tool_call_id='call_bIonporeyFIArLh1JLwjAI8q')]}\n",
      "{'messages': [AIMessage(content='The current weather in Los Angeles is partly cloudy with a temperature of about 22.8°C (73.0°F). The wind is coming from the west-southwest at approximately 8.7 mph (14.0 kph). Humidity is at 64%, and visibility is around 16 km.', additional_kwargs={'refusal': None}, response_metadata={'token_usage': {'completion_tokens': 65, 'prompt_tokens': 2638, 'total_tokens': 2703, 'completion_tokens_details': {'accepted_prediction_tokens': 0, 'audio_tokens': 0, 'reasoning_tokens': 0, 'rejected_prediction_tokens': 0}, 'prompt_tokens_details': {'audio_tokens': 0, 'cached_tokens': 2048}}, 'model_name': 'gpt-4o-2024-08-06', 'system_fingerprint': 'fp_07871e2ad8', 'id': 'chatcmpl-Bul8PNirEv7mpk7SBy0QmwQXXRG2o', 'service_tier': 'default', 'finish_reason': 'stop', 'logprobs': None}, id='run--4b779013-eae4-4fef-b089-7138a7c340a2-0', usage_metadata={'input_tokens': 2638, 'output_tokens': 65, 'total_tokens': 2703, 'input_token_details': {'audio': 0, 'cache_read': 2048}, 'output_token_details': {'audio': 0, 'reasoning': 0}})]}\n",
      "{'messages': [AIMessage(content='The current weather in Los Angeles is partly cloudy with a temperature of about 22.8°C (73.0°F). The wind is coming from the west-southwest at approximately 8.7 mph (14.0 kph). Humidity is at 64%, and visibility is around 16 km.', additional_kwargs={'refusal': None}, response_metadata={'token_usage': {'completion_tokens': 65, 'prompt_tokens': 2638, 'total_tokens': 2703, 'completion_tokens_details': {'accepted_prediction_tokens': 0, 'audio_tokens': 0, 'reasoning_tokens': 0, 'rejected_prediction_tokens': 0}, 'prompt_tokens_details': {'audio_tokens': 0, 'cached_tokens': 2048}}, 'model_name': 'gpt-4o-2024-08-06', 'system_fingerprint': 'fp_07871e2ad8', 'id': 'chatcmpl-Bul8PNirEv7mpk7SBy0QmwQXXRG2o', 'service_tier': 'default', 'finish_reason': 'stop', 'logprobs': None}, id='run--4b779013-eae4-4fef-b089-7138a7c340a2-0', usage_metadata={'input_tokens': 2638, 'output_tokens': 65, 'total_tokens': 2703, 'input_token_details': {'audio': 0, 'cache_read': 2048}, 'output_token_details': {'audio': 0, 'reasoning': 0}})]}\n"
     ]
    }
   ],
   "source": [
    "messages = [HumanMessage(content=\"What about in la?\")]\n",
    "thread = {\"configurable\": {\"thread_id\": \"1\"}}\n",
    "for event in abot.graph.stream({\"messages\": messages}, thread):\n",
    "    for v in event.values():\n",
    "        print(v)"
   ]
  },
  {
   "cell_type": "code",
   "execution_count": 12,
   "id": "dc3293b7-a50c-43c8-a022-8975e1e444b8",
   "metadata": {
    "height": 98
   },
   "outputs": [
    {
     "name": "stdout",
     "output_type": "stream",
     "text": [
      "{'messages': [AIMessage(content=\"Los Angeles is currently warmer than San Francisco. Los Angeles has a temperature of about 22.8°C (73.0°F), while San Francisco's temperature is approximately 18.3°C (64.9°F).\", additional_kwargs={'refusal': None}, response_metadata={'token_usage': {'completion_tokens': 46, 'prompt_tokens': 2715, 'total_tokens': 2761, 'completion_tokens_details': {'accepted_prediction_tokens': 0, 'audio_tokens': 0, 'reasoning_tokens': 0, 'rejected_prediction_tokens': 0}, 'prompt_tokens_details': {'audio_tokens': 0, 'cached_tokens': 2688}}, 'model_name': 'gpt-4o-2024-08-06', 'system_fingerprint': 'fp_07871e2ad8', 'id': 'chatcmpl-Bul8RBMe9pXzN31bYEJU1T7mYvTDI', 'service_tier': 'default', 'finish_reason': 'stop', 'logprobs': None}, id='run--0e5fcb93-9af1-4385-848b-4220534795ac-0', usage_metadata={'input_tokens': 2715, 'output_tokens': 46, 'total_tokens': 2761, 'input_token_details': {'audio': 0, 'cache_read': 2688}, 'output_token_details': {'audio': 0, 'reasoning': 0}})]}\n"
     ]
    }
   ],
   "source": [
    "messages = [HumanMessage(content=\"Which one is warmer?\")]\n",
    "thread = {\"configurable\": {\"thread_id\": \"1\"}}\n",
    "for event in abot.graph.stream({\"messages\": messages}, thread):\n",
    "    for v in event.values():\n",
    "        print(v)"
   ]
  },
  {
   "cell_type": "code",
   "execution_count": 13,
   "id": "0722c3d4-4cbf-43bf-81b0-50f634c4ce61",
   "metadata": {
    "height": 98
   },
   "outputs": [
    {
     "name": "stdout",
     "output_type": "stream",
     "text": [
      "{'messages': [AIMessage(content='Could you please provide more context or specify what two or more things you want to compare to determine which one is warmer? For example, are you asking about specific locations, materials, clothing, or something else?', additional_kwargs={'refusal': None}, response_metadata={'token_usage': {'completion_tokens': 43, 'prompt_tokens': 1338, 'total_tokens': 1381, 'completion_tokens_details': {'accepted_prediction_tokens': 0, 'audio_tokens': 0, 'reasoning_tokens': 0, 'rejected_prediction_tokens': 0}, 'prompt_tokens_details': {'audio_tokens': 0, 'cached_tokens': 1280}}, 'model_name': 'gpt-4o-2024-08-06', 'system_fingerprint': 'fp_07871e2ad8', 'id': 'chatcmpl-Bul8S33EmwvSuDIwzTkVw3uJGkefv', 'service_tier': 'default', 'finish_reason': 'stop', 'logprobs': None}, id='run--31269812-3c42-459f-90bb-39aac16c4d68-0', usage_metadata={'input_tokens': 1338, 'output_tokens': 43, 'total_tokens': 1381, 'input_token_details': {'audio': 0, 'cache_read': 1280}, 'output_token_details': {'audio': 0, 'reasoning': 0}})]}\n"
     ]
    }
   ],
   "source": [
    "messages = [HumanMessage(content=\"Which one is warmer?\")]\n",
    "thread = {\"configurable\": {\"thread_id\": \"2\"}}\n",
    "for event in abot.graph.stream({\"messages\": messages}, thread):\n",
    "    for v in event.values():\n",
    "        print(v)"
   ]
  },
  {
   "cell_type": "markdown",
   "id": "ace59a36-3941-459e-b9d1-ac5a4a1ed3ae",
   "metadata": {},
   "source": [
    "## Streaming tokens"
   ]
  },
  {
   "cell_type": "code",
   "execution_count": 15,
   "id": "6b2f82fe-3ec4-4917-be51-9fb10d1317fa",
   "metadata": {
    "height": 81
   },
   "outputs": [],
   "source": [
    "from langgraph.checkpoint.sqlite.aio import AsyncSqliteSaver\n",
    "import aiosqlite\n",
    "\n",
    "# Create an async SQLite connection properly\n",
    "async_memory = None\n",
    "\n",
    "async def setup_async_memory():\n",
    "    global async_memory\n",
    "    conn = await aiosqlite.connect(\":memory:\")\n",
    "    async_memory = AsyncSqliteSaver(conn)\n",
    "    return async_memory\n",
    "\n",
    "# Set up the async memory\n",
    "import asyncio\n",
    "async_memory = await setup_async_memory()\n",
    "abot = Agent(model, [tool], system=prompt, checkpointer=async_memory)"
   ]
  },
  {
   "cell_type": "code",
   "execution_count": 16,
   "id": "ee0fe1c7-77e2-499c-a2f9-1f739bb6ddf0",
   "metadata": {
    "height": 200
   },
   "outputs": [
    {
     "name": "stdout",
     "output_type": "stream",
     "text": [
      "Calling: {'name': 'tavily_search', 'args': {'query': 'current weather San Francisco'}, 'id': 'call_1IK6bpjCekRBC8tmbJllWCNT', 'type': 'tool_call'}\n",
      "Back to the model!\n",
      "Back to the model!\n",
      "The| current| weather| in| San| Francisco| is| partly| cloudy| with| a| temperature| of| |18|.|3|°C| (|64|The| current| weather| in| San| Francisco| is| partly| cloudy| with| a| temperature| of| |18|.|3|°C| (|64|.|9|°F|).| The| wind| is| blowing|.|9|°F|).| The| wind| is| blowing| from| the| west|-s|outh|west| at| |9|.|8| mph| (|15| from| the| west|-s|outh|west| at| |9|.|8| mph| (|15|.|8| k|ph|),| and| the| humidity| is| |68|%.| Visibility| is|.|8| k|ph|),| and| the| humidity| is| |68|%.| Visibility| is| around| |16| km| (|9| miles|),| around| |16| km| (|9| miles|),| and| there| is| no| precipitation| at| the| moment|.| The| UV| index| is| |8|.|9|,| indicating| a| high| level| of| ultraviolet| and| there| is| no| precipitation| at| the| moment|.| The| UV| index| is| |8|.|9|,| indicating| a| high| level| of| ultraviolet| radiation|.| radiation|.|"
     ]
    }
   ],
   "source": [
    "messages = [HumanMessage(content=\"What is the weather in SF?\")]\n",
    "thread = {\"configurable\": {\"thread_id\": \"4\"}}\n",
    "\n",
    "# Using async streaming with token-level streaming\n",
    "async for event in abot.graph.astream_events({\"messages\": messages}, thread, version=\"v1\"):\n",
    "    kind = event[\"event\"]\n",
    "    if kind == \"on_chat_model_stream\":\n",
    "        content = event[\"data\"][\"chunk\"].content\n",
    "        if content:\n",
    "            # Empty content in the context of OpenAI means\n",
    "            # that the model is asking for a tool to be invoked.\n",
    "            # So we only print non-empty content\n",
    "            print(content, end=\"|\")"
   ]
  }
 ],
 "metadata": {
  "kernelspec": {
   "display_name": "langgraph-agents-py3.12",
   "language": "python",
   "name": "python3"
  },
  "language_info": {
   "codemirror_mode": {
    "name": "ipython",
    "version": 3
   },
   "file_extension": ".py",
   "mimetype": "text/x-python",
   "name": "python",
   "nbconvert_exporter": "python",
   "pygments_lexer": "ipython3",
   "version": "3.12.10"
  }
 },
 "nbformat": 4,
 "nbformat_minor": 5
}
