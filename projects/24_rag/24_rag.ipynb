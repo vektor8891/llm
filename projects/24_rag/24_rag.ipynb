{
    "cells": [
        {
            "cell_type": "markdown",
            "metadata": {
                "id": "view-in-github",
                "colab_type": "text"
            },
            "source": [
                "<a href=\"https://colab.research.google.com/github/vektor8891/llm/blob/main/projects/24_rag/24_rag.ipynb\" target=\"_parent\"><img src=\"https://colab.research.google.com/assets/colab-badge.svg\" alt=\"Open In Colab\"/></a>"
            ]
        },
        {
            "cell_type": "code",
            "source": [
                "# ! pip install -qq wget\n",
                "# ! pip install -qq faiss-cpu"
            ],
            "metadata": {
                "id": "M9m4cwWvVyaf",
                "outputId": "aad5b611-c52d-4ee7-d44c-ce94d2794756",
                "colab": {
                    "base_uri": "https://localhost:8080/"
                }
            },
            "id": "M9m4cwWvVyaf",
            "execution_count": 28,
            "outputs": [
                {
                    "output_type": "stream",
                    "name": "stdout",
                    "text": [
                        "\u001b[2K   \u001b[90m\u2501\u2501\u2501\u2501\u2501\u2501\u2501\u2501\u2501\u2501\u2501\u2501\u2501\u2501\u2501\u2501\u2501\u2501\u2501\u2501\u2501\u2501\u2501\u2501\u2501\u2501\u2501\u2501\u2501\u2501\u2501\u2501\u2501\u2501\u2501\u2501\u2501\u2501\u2501\u2501\u001b[0m \u001b[32m31.3/31.3 MB\u001b[0m \u001b[31m24.1 MB/s\u001b[0m eta \u001b[36m0:00:00\u001b[0m\n",
                        "\u001b[?25h"
                    ]
                }
            ]
        },
        {
            "cell_type": "markdown",
            "source": [
                "# Enhance LLMs using RAG and Hugging Face\n",
                "\n",
                "## Defining helper functions"
            ],
            "metadata": {
                "id": "nbeTdCcqVSxs"
            },
            "id": "nbeTdCcqVSxs"
        },
        {
            "cell_type": "code",
            "execution_count": 22,
            "id": "a2a159bd",
            "metadata": {
                "id": "a2a159bd"
            },
            "outputs": [],
            "source": [
                "from sklearn.manifold import TSNE\n",
                "import matplotlib.pyplot as plt\n",
                "import numpy as np\n",
                "\n",
                "def tsne_plot(data):\n",
                "    # Apply t-SNE to reduce to 3D\n",
                "    tsne = TSNE(n_components=3, random_state=42,perplexity=data.shape[0]-1)\n",
                "    data_3d = tsne.fit_transform(data)\n",
                "\n",
                "    # Plotting\n",
                "    fig = plt.figure(figsize=(10, 7))\n",
                "    ax = fig.add_subplot(111, projection='3d')\n",
                "\n",
                "    # Assign colors for each point based on its index\n",
                "    num_points = len(data_3d)\n",
                "    colors = plt.cm.tab20(np.linspace(0, 1, num_points))\n",
                "\n",
                "    # Plot scatter with unique colors for each point\n",
                "    for idx, point in enumerate(data_3d):\n",
                "        ax.scatter(point[0], point[1], point[2], label=str(idx), color=colors[idx])\n",
                "\n",
                "    # Adding labels and titles\n",
                "    ax.set_xlabel('TSNE Component 1')\n",
                "    ax.set_ylabel('TSNE Component 2')\n",
                "    ax.set_zlabel('TSNE Component 3')\n",
                "    plt.title('3D t-SNE Visualization')\n",
                "    plt.legend(title='Input Order')\n",
                "    plt.show()"
            ]
        },
        {
            "cell_type": "markdown",
            "source": [
                "## Load and preprocess data"
            ],
            "metadata": {
                "id": "23hrNkMeVozn"
            },
            "id": "23hrNkMeVozn"
        },
        {
            "cell_type": "code",
            "source": [
                "import wget\n",
                "\n",
                "filename = 'companyPolicies.txt'\n",
                "url = 'https://cf-courses-data.s3.us.cloud-object-storage.appdomain.cloud/6JDbUb_L3egv_eOkouY71A.txt'\n",
                "\n",
                "# Use wget to download the file\n",
                "wget.download(url, out=filename)\n",
                "print('file downloaded')"
            ],
            "metadata": {
                "id": "56KZ_7wgVlsc",
                "outputId": "a378673b-9554-4d5b-f40d-a71260743f3d",
                "colab": {
                    "base_uri": "https://localhost:8080/"
                }
            },
            "id": "56KZ_7wgVlsc",
            "execution_count": 7,
            "outputs": [
                {
                    "output_type": "stream",
                    "name": "stdout",
                    "text": [
                        "file downloaded\n"
                    ]
                }
            ]
        },
        {
            "cell_type": "code",
            "source": [
                "def read_and_split_text(filename):\n",
                "    with open(filename, 'r', encoding='utf-8') as file:\n",
                "        text = file.read()\n",
                "    # Split the text into paragraphs (simple split by newline characters)\n",
                "    paragraphs = text.split('\\n')\n",
                "    # Filter out any empty paragraphs or undesired entries\n",
                "    paragraphs = [para.strip() for para in paragraphs if len(para.strip()) > 0]\n",
                "    return paragraphs\n",
                "\n",
                "# Read the text file and split it into paragraphs\n",
                "paragraphs = read_and_split_text('companyPolicies.txt')\n",
                "paragraphs[0:10]"
            ],
            "metadata": {
                "id": "Ps8_2KRHVvC7",
                "outputId": "6c765aa7-fb1a-4eaa-c287-b6f1d78e5cc1",
                "colab": {
                    "base_uri": "https://localhost:8080/"
                }
            },
            "id": "Ps8_2KRHVvC7",
            "execution_count": 8,
            "outputs": [
                {
                    "output_type": "execute_result",
                    "data": {
                        "text/plain": [
                            "['1.\\tCode of Conduct',\n",
                            " 'Our Code of Conduct outlines the fundamental principles and ethical standards that guide every member of our organization. We are committed to maintaining a workplace that is built on integrity, respect, and accountability.',\n",
                            " 'Integrity: We hold ourselves to the highest ethical standards. This means acting honestly and transparently in all our interactions, whether with colleagues, clients, or the broader community. We respect and protect sensitive information, and we avoid conflicts of interest.',\n",
                            " \"Respect: We embrace diversity and value each individual's contributions. Discrimination, harassment, or any form of disrespectful behavior is unacceptable. We create an inclusive environment where differences are celebrated and everyone is treated with dignity and courtesy.\",\n",
                            " 'Accountability: We take responsibility for our actions and decisions. We follow all relevant laws and regulations, and we strive to continuously improve our practices. We report any potential violations of this code and support the investigation of such matters.',\n",
                            " 'Safety: We prioritize the safety of our employees, clients, and the communities we serve. We maintain a culture of safety, including reporting any unsafe conditions or practices.',\n",
                            " 'Environmental Responsibility: We are committed to minimizing our environmental footprint and promoting sustainable practices.',\n",
                            " \"Our Code of Conduct is not just a set of rules; it is the foundation of our organization's culture. We expect all employees to uphold these principles and serve as role models for others, ensuring we maintain our reputation for ethical conduct, integrity, and social responsibility.\",\n",
                            " '2.\\tRecruitment Policy',\n",
                            " 'Our Recruitment Policy reflects our commitment to attracting, selecting, and onboarding the most qualified and diverse candidates to join our organization. We believe that the success of our company relies on the talents, skills, and dedication of our employees.']"
                        ]
                    },
                    "metadata": {},
                    "execution_count": 8
                }
            ]
        },
        {
            "cell_type": "code",
            "source": [
                "for i in range(4):\n",
                "    print(f\"sample: {i} paragraph: {paragraphs[i]} \\n\" )"
            ],
            "metadata": {
                "id": "OQ3jgM8hV_SG",
                "outputId": "a539ec58-db1b-42f3-d34c-4e4d41da4ffd",
                "colab": {
                    "base_uri": "https://localhost:8080/"
                }
            },
            "id": "OQ3jgM8hV_SG",
            "execution_count": 9,
            "outputs": [
                {
                    "output_type": "stream",
                    "name": "stdout",
                    "text": [
                        "sample: 0 paragraph: 1.\tCode of Conduct \n",
                        "\n",
                        "sample: 1 paragraph: Our Code of Conduct outlines the fundamental principles and ethical standards that guide every member of our organization. We are committed to maintaining a workplace that is built on integrity, respect, and accountability. \n",
                        "\n",
                        "sample: 2 paragraph: Integrity: We hold ourselves to the highest ethical standards. This means acting honestly and transparently in all our interactions, whether with colleagues, clients, or the broader community. We respect and protect sensitive information, and we avoid conflicts of interest. \n",
                        "\n",
                        "sample: 3 paragraph: Respect: We embrace diversity and value each individual's contributions. Discrimination, harassment, or any form of disrespectful behavior is unacceptable. We create an inclusive environment where differences are celebrated and everyone is treated with dignity and courtesy. \n",
                        "\n"
                    ]
                }
            ]
        },
        {
            "cell_type": "markdown",
            "source": [
                "## Building the retriever: Encoding and indexing"
            ],
            "metadata": {
                "id": "8zI3eFyqWewK"
            },
            "id": "8zI3eFyqWewK"
        },
        {
            "cell_type": "code",
            "source": [
                "%%capture\n",
                "from transformers import DPRContextEncoderTokenizer\n",
                "\n",
                "context_tokenizer = DPRContextEncoderTokenizer.from_pretrained('facebook/dpr-ctx_encoder-single-nq-base')\n",
                "context_tokenizer"
            ],
            "metadata": {
                "id": "v6ZAPHk7WGPp",
                "outputId": "8bcb20b0-c3f5-4ec8-a9ec-6c9b03692a5e",
                "colab": {
                    "base_uri": "https://localhost:8080/"
                }
            },
            "id": "v6ZAPHk7WGPp",
            "execution_count": 13,
            "outputs": [
                {
                    "output_type": "stream",
                    "name": "stderr",
                    "text": [
                        "The tokenizer class you load from this checkpoint is not the same type as the class this function is called from. It may result in unexpected tokenization. \n",
                        "The tokenizer class you load from this checkpoint is 'DPRQuestionEncoderTokenizer'. \n",
                        "The class this function is called from is 'DPRContextEncoderTokenizer'.\n"
                    ]
                }
            ]
        },
        {
            "cell_type": "code",
            "source": [
                "text = [(\"How are you?\", \"I am fine.\"), (\"What's up?\", \"Not much.\")]\n",
                "print(text)"
            ],
            "metadata": {
                "id": "Du-tLjDgWj5z",
                "outputId": "8de4d4f6-f8d3-4cd7-e204-89f10940a1a5",
                "colab": {
                    "base_uri": "https://localhost:8080/"
                }
            },
            "id": "Du-tLjDgWj5z",
            "execution_count": 14,
            "outputs": [
                {
                    "output_type": "stream",
                    "name": "stdout",
                    "text": [
                        "[('How are you?', 'I am fine.'), (\"What's up?\", 'Not much.')]\n"
                    ]
                }
            ]
        },
        {
            "cell_type": "code",
            "source": [
                "tokens_info=context_tokenizer(text, return_tensors='pt', padding=True, truncation=True, max_length=256)\n",
                "tokens_info"
            ],
            "metadata": {
                "id": "ulXFkAb2XjsR",
                "outputId": "49495b5b-0e44-4113-d466-5883a837167c",
                "colab": {
                    "base_uri": "https://localhost:8080/"
                }
            },
            "id": "ulXFkAb2XjsR",
            "execution_count": 15,
            "outputs": [
                {
                    "output_type": "execute_result",
                    "data": {
                        "text/plain": [
                            "{'input_ids': tensor([[ 101, 2129, 2024, 2017, 1029,  102, 1045, 2572, 2986, 1012,  102],\n",
                            "        [ 101, 2054, 1005, 1055, 2039, 1029,  102, 2025, 2172, 1012,  102]]), 'token_type_ids': tensor([[0, 0, 0, 0, 0, 0, 1, 1, 1, 1, 1],\n",
                            "        [0, 0, 0, 0, 0, 0, 0, 1, 1, 1, 1]]), 'attention_mask': tensor([[1, 1, 1, 1, 1, 1, 1, 1, 1, 1, 1],\n",
                            "        [1, 1, 1, 1, 1, 1, 1, 1, 1, 1, 1]])}"
                        ]
                    },
                    "metadata": {},
                    "execution_count": 15
                }
            ]
        },
        {
            "cell_type": "code",
            "source": [
                "for s in tokens_info['input_ids']:\n",
                "   print(context_tokenizer.convert_ids_to_tokens(s))"
            ],
            "metadata": {
                "id": "5_XVcpxNXnLB",
                "outputId": "13a633b9-1e88-4c73-9672-9ed38226e29c",
                "colab": {
                    "base_uri": "https://localhost:8080/"
                }
            },
            "id": "5_XVcpxNXnLB",
            "execution_count": 16,
            "outputs": [
                {
                    "output_type": "stream",
                    "name": "stdout",
                    "text": [
                        "['[CLS]', 'how', 'are', 'you', '?', '[SEP]', 'i', 'am', 'fine', '.', '[SEP]']\n",
                        "['[CLS]', 'what', \"'\", 's', 'up', '?', '[SEP]', 'not', 'much', '.', '[SEP]']\n"
                    ]
                }
            ]
        },
        {
            "cell_type": "code",
            "source": [
                "from transformers import DPRContextEncoder\n",
                "\n",
                "context_encoder = DPRContextEncoder.from_pretrained('facebook/dpr-ctx_encoder-single-nq-base')"
            ],
            "metadata": {
                "id": "KyHtcvMWXyL3",
                "outputId": "c30c6d5f-770b-4d07-c023-1ab0b1d3cc6d",
                "colab": {
                    "base_uri": "https://localhost:8080/",
                    "height": 133,
                    "referenced_widgets": [
                        "aaf77ec82b164207bf1ff3b05c0e0660",
                        "cf9ba3183a7747149e6181d68292a757",
                        "5f3f8e468d0a4cbcbcc8585a08db392f",
                        "4b6a642614bd4de0ae22c6231cab7084",
                        "57d9201b29a54021978ba3928f77b6cc",
                        "7ae828e55f2b45328515888f8d5d2a68",
                        "6f5183d3cc574382b940a7c55c63af2b",
                        "9947f5dcfe1e4e7fa8a6fe3577fab9f5",
                        "f1ff921df4e7461783f210952db46bfd",
                        "0c9a32c0d55b46e09cc3cca73a96df3f",
                        "8870d388d675409a8e68810198778024",
                        "0070638b9eff41428919b81828d00c93",
                        "a8d3d5a6ebbd4d1386e45facd63df160",
                        "b19f04e4bcc9448c8329d1bfeda71a51",
                        "3ad1cb13cd514054bacb16a0adbcf318",
                        "c23fa6d889a84a14adaef6f931a8ab85",
                        "36a5f169c82547e2b21a23991a8b903f",
                        "e60a5e1d9a3c4c09827f48e163dbb8ec",
                        "8160a135a52441b7a5efad617f73aabb",
                        "a5f2bfbdb2804862b704869ad4d22382",
                        "7e3a44062e414ccab04b8282e56b8dc7",
                        "b4dc761a518b4c939c26bfc4fddce994"
                    ]
                }
            },
            "id": "KyHtcvMWXyL3",
            "execution_count": 17,
            "outputs": [
                {
                    "output_type": "display_data",
                    "data": {
                        "text/plain": [
                            "pytorch_model.bin:   0%|          | 0.00/438M [00:00<?, ?B/s]"
                        ],
                        "application/vnd.jupyter.widget-view+json": {
                            "version_major": 2,
                            "version_minor": 0,
                            "model_id": "aaf77ec82b164207bf1ff3b05c0e0660"
                        }
                    },
                    "metadata": {}
                },
                {
                    "output_type": "display_data",
                    "data": {
                        "text/plain": [
                            "model.safetensors:   0%|          | 0.00/438M [00:00<?, ?B/s]"
                        ],
                        "application/vnd.jupyter.widget-view+json": {
                            "version_major": 2,
                            "version_minor": 0,
                            "model_id": "0070638b9eff41428919b81828d00c93"
                        }
                    },
                    "metadata": {}
                },
                {
                    "output_type": "stream",
                    "name": "stderr",
                    "text": [
                        "Some weights of the model checkpoint at facebook/dpr-ctx_encoder-single-nq-base were not used when initializing DPRContextEncoder: ['ctx_encoder.bert_model.pooler.dense.bias', 'ctx_encoder.bert_model.pooler.dense.weight']\n",
                        "- This IS expected if you are initializing DPRContextEncoder from the checkpoint of a model trained on another task or with another architecture (e.g. initializing a BertForSequenceClassification model from a BertForPreTraining model).\n",
                        "- This IS NOT expected if you are initializing DPRContextEncoder from the checkpoint of a model that you expect to be exactly identical (initializing a BertForSequenceClassification model from a BertForSequenceClassification model).\n"
                    ]
                }
            ]
        },
        {
            "cell_type": "code",
            "source": [
                "import random\n",
                "\n",
                "#shuffling samples so that the samples are not ordered based on the category they belong to\n",
                "random.shuffle(paragraphs)"
            ],
            "metadata": {
                "id": "4Om8D7IvX3T7"
            },
            "id": "4Om8D7IvX3T7",
            "execution_count": 19,
            "outputs": []
        },
        {
            "cell_type": "code",
            "source": [
                "tokens=context_tokenizer( paragraphs[:20], return_tensors='pt', padding=True, truncation=True, max_length=256)\n",
                "tokens\n",
                "outputs=context_encoder(**tokens)\n",
                "outputs.pooler_output"
            ],
            "metadata": {
                "id": "i-0x1oV1YX4C",
                "outputId": "32aa85a6-876c-46b4-9226-70d4da73177b",
                "colab": {
                    "base_uri": "https://localhost:8080/"
                }
            },
            "id": "i-0x1oV1YX4C",
            "execution_count": 20,
            "outputs": [
                {
                    "output_type": "execute_result",
                    "data": {
                        "text/plain": [
                            "tensor([[ 0.8406,  0.6897,  0.0202,  ..., -0.4066,  0.0511,  0.3425],\n",
                            "        [ 0.8745,  0.6094, -0.1193,  ..., -0.0681, -0.1915,  0.0144],\n",
                            "        [ 0.6059,  0.2979, -0.1750,  ..., -0.2875, -0.0238, -0.3538],\n",
                            "        ...,\n",
                            "        [ 0.6419,  0.7171,  0.1093,  ..., -0.4580, -0.8791, -0.1401],\n",
                            "        [ 0.1414,  0.3569,  0.2097,  ..., -0.6189, -0.4499, -0.2053],\n",
                            "        [ 0.3538,  0.6022,  0.1236,  ..., -0.7121, -0.7073, -0.1449]],\n",
                            "       grad_fn=<SliceBackward0>)"
                        ]
                    },
                    "metadata": {},
                    "execution_count": 20
                }
            ]
        },
        {
            "cell_type": "code",
            "source": [
                "tsne_plot(outputs.pooler_output.detach().numpy())"
            ],
            "metadata": {
                "id": "ZbrIAT7xYcPp",
                "outputId": "df2028a9-396e-4678-cfa0-6a6994fc68e1",
                "colab": {
                    "base_uri": "https://localhost:8080/",
                    "height": 598
                }
            },
            "id": "ZbrIAT7xYcPp",
            "execution_count": 23,
            "outputs": [
                {
                    "output_type": "display_data",
                    "data": {
                        "text/plain": [
                            "<Figure size 1000x700 with 1 Axes>"
                        ],
                        "image/png": "[encoded data removed]"
                    },
                    "metadata": {}
                }
            ]
        },
        {
            "cell_type": "code",
            "source": [
                "print(\"sample 16:\", paragraphs[16])"
            ],
            "metadata": {
                "id": "yWs7X5lwYi9K",
                "outputId": "07b5109c-cb09-4c2f-c22d-3cc584968fef",
                "colab": {
                    "base_uri": "https://localhost:8080/"
                }
            },
            "id": "yWs7X5lwYi9K",
            "execution_count": 24,
            "outputs": [
                {
                    "output_type": "stream",
                    "name": "stdout",
                    "text": [
                        "sample 16: Smoking Restrictions: Smoking inside company buildings, offices, meeting rooms, and other enclosed spaces is strictly prohibited. This includes electronic cigarettes and vaping devices.\n"
                    ]
                }
            ]
        },
        {
            "cell_type": "code",
            "source": [
                "print(\"sample 12:\", paragraphs[12])"
            ],
            "metadata": {
                "id": "ciPsb48ZYsFb",
                "outputId": "b7791987-6412-4169-dac8-db7bc4569f99",
                "colab": {
                    "base_uri": "https://localhost:8080/"
                }
            },
            "id": "ciPsb48ZYsFb",
            "execution_count": 25,
            "outputs": [
                {
                    "output_type": "stream",
                    "name": "stdout",
                    "text": [
                        "sample 12: Our Internet and Email Policy is established to guide the responsible and secure use of these essential tools within our organization. We recognize their significance in daily business operations and the importance of adhering to principles that maintain security, productivity, and legal compliance.\n"
                    ]
                }
            ]
        },
        {
            "cell_type": "code",
            "source": [
                "embeddings=[]\n",
                "for text in paragraphs[0:5]:\n",
                "    inputs = context_tokenizer(text, return_tensors='pt', padding=True, truncation=True, max_length=256)\n",
                "    outputs = context_encoder(**inputs)\n",
                "    embeddings.append(outputs.pooler_output)\n",
                "    print(\"number of samples:\")\n",
                "    print(len(embeddings))\n",
                "    print(\" samples shape:\")\n",
                "    print(outputs.pooler_output.shape)"
            ],
            "metadata": {
                "id": "bOk-4lRaYuDk",
                "outputId": "3995682e-e3a1-43a9-d34d-f9e31bc0cb86",
                "colab": {
                    "base_uri": "https://localhost:8080/"
                }
            },
            "id": "bOk-4lRaYuDk",
            "execution_count": 26,
            "outputs": [
                {
                    "output_type": "stream",
                    "name": "stdout",
                    "text": [
                        "number of samples:\n",
                        "1\n",
                        " samples shape:\n",
                        "torch.Size([1, 768])\n",
                        "number of samples:\n",
                        "2\n",
                        " samples shape:\n",
                        "torch.Size([1, 768])\n",
                        "number of samples:\n",
                        "3\n",
                        " samples shape:\n",
                        "torch.Size([1, 768])\n",
                        "number of samples:\n",
                        "4\n",
                        " samples shape:\n",
                        "torch.Size([1, 768])\n",
                        "number of samples:\n",
                        "5\n",
                        " samples shape:\n",
                        "torch.Size([1, 768])\n"
                    ]
                }
            ]
        },
        {
            "cell_type": "code",
            "source": [
                "import torch\n",
                "\n",
                "torch.cat(embeddings).detach().numpy().shape"
            ],
            "metadata": {
                "id": "nzGf0s1taFpK",
                "outputId": "30432536-6ec7-4679-9c91-38c2609981eb",
                "colab": {
                    "base_uri": "https://localhost:8080/"
                }
            },
            "id": "nzGf0s1taFpK",
            "execution_count": 31,
            "outputs": [
                {
                    "output_type": "execute_result",
                    "data": {
                        "text/plain": [
                            "(5, 768)"
                        ]
                    },
                    "metadata": {},
                    "execution_count": 31
                }
            ]
        },
        {
            "cell_type": "code",
            "source": [
                "def encode_contexts(text_list):\n",
                "    # Encode a list of texts into embeddings\n",
                "    embeddings = []\n",
                "    for text in text_list:\n",
                "        inputs = context_tokenizer(text, return_tensors='pt', padding=True, truncation=True, max_length=256)\n",
                "        outputs = context_encoder(**inputs)\n",
                "        embeddings.append(outputs.pooler_output)\n",
                "    return torch.cat(embeddings).detach().numpy()\n",
                "\n",
                "# you would now encode these paragraphs to create embeddings.\n",
                "context_embeddings = encode_contexts(paragraphs)"
            ],
            "metadata": {
                "id": "1C5QozXSaXNm"
            },
            "id": "1C5QozXSaXNm",
            "execution_count": 32,
            "outputs": []
        },
        {
            "cell_type": "markdown",
            "source": [
                "## Creating and populating the FAISS index"
            ],
            "metadata": {
                "id": "8LR8amqiY_0u"
            },
            "id": "8LR8amqiY_0u"
        },
        {
            "cell_type": "code",
            "source": [
                "import faiss\n",
                "\n",
                "# Convert list of numpy arrays into a single numpy array\n",
                "embedding_dim = 768  # This should match the dimension of your embeddings\n",
                "context_embeddings_np = np.array(context_embeddings).astype('float32')\n",
                "\n",
                "# Create a FAISS index for the embeddings\n",
                "index = faiss.IndexFlatL2(embedding_dim)\n",
                "index.add(context_embeddings_np)  # Add the context embeddings to the index"
            ],
            "metadata": {
                "id": "ldMA-j8EY9Tw"
            },
            "id": "ldMA-j8EY9Tw",
            "execution_count": 33,
            "outputs": []
        },
        {
            "cell_type": "markdown",
            "source": [
                "# DPR question encoder and tokenizer"
            ],
            "metadata": {
                "id": "CrU66iAYalNY"
            },
            "id": "CrU66iAYalNY"
        },
        {
            "cell_type": "code",
            "source": [
                "from transformers import DPRQuestionEncoder, DPRQuestionEncoderTokenizer\n",
                "\n",
                "# Load DPR question encoder and tokenizer\n",
                "question_encoder = DPRQuestionEncoder.from_pretrained('facebook/dpr-question_encoder-single-nq-base')\n",
                "question_tokenizer = DPRQuestionEncoderTokenizer.from_pretrained('facebook/dpr-question_encoder-single-nq-base')"
            ],
            "metadata": {
                "id": "3zpeD-00ZlFY",
                "outputId": "85e55e4d-5420-4618-d4d6-6573e9e06699",
                "colab": {
                    "base_uri": "https://localhost:8080/",
                    "height": 261,
                    "referenced_widgets": [
                        "12b6b0070c2a4e198a812149e6ffceb6",
                        "0a2c2125c40d45e2a27d28b63b057a93",
                        "1b9c2844856a46f09e96cf5df8b507b4",
                        "2a0848c361784d6fb195e158912d6aa6",
                        "8fdce640fe894778a1c1ac789a5a71d0",
                        "e8b25c58cd7a4e88acdcba593482f93c",
                        "bb42eba2c8b942f081550d07ee065b44",
                        "7184baa40f744c1a8deb3441c919799f",
                        "b5d123799e664d4883d7df54b041d2ce",
                        "0448cf2c50e043a485f10099a4e0b180",
                        "9ab0bf069e0749d6b3a625e8d7a89e3b",
                        "56d8e9dfc638486fa314f7db37de4f97",
                        "e811b7c125814a57a4f0740e261af932",
                        "1f4a45923cad47038e346f7f27fd1d1d",
                        "e6257ff307d548968b44e7143b07a2aa",
                        "f35b47b1c53b4331b6e26ace398dbfb8",
                        "4cec23e683144a37bb2ad8e8885e3c43",
                        "4188021caab14aeeacc1e9dcc58df061",
                        "ee8d95526c744323a0656ff9cb1ee775",
                        "4a4a56cbaca64c5fbd07fd4c32379ef3",
                        "53401806d65946fdbc09bb2664909237",
                        "1b439fcfc6264575ae9a013b1b99e4b0",
                        "db0c5d9fb03549969c347bba48b93620",
                        "ed923caeb9f144e19c6144ac2aa8d612",
                        "6ceda1225cc2433188500ac290d1c77b",
                        "b7f462b247fc451bba3772c2bb0e4e19",
                        "6b47ce89f20a439cb8dd22a9f1735806",
                        "5a543a83b4724ffbb8cb724c64001645",
                        "ee4f78977a05423fbfc90231a4e5dd6a",
                        "9d91699bfab64759aba4ca1d0ab88334",
                        "a5900f711f884fa7b7cda8123f046241",
                        "f3dc0f9c269b44aa9a2030cd4e47d8d4",
                        "dd8d4286124e4abc93b47c6db0e39983",
                        "ffda8e67453f4589b231d1ab7ecd6ab9",
                        "d999f44186fa4dccadb5c7a04520824d",
                        "7bed854e4d384113829b4cbbf8b00950",
                        "ea8e6ffffe804680a641a7b4822b2c24",
                        "a8e04bf7c82341d290e0233e4b9a0dc3",
                        "55bb14b4551f42f4ad03294e0f10d299",
                        "2ade2b48ea014758bf9b849337bb0bf5",
                        "921b13519abc4649b226fd10e04b289e",
                        "64e83bd08d644dfb983543eb621528a1",
                        "c3ae84f6fd954471b503e8ef4e9e5e76",
                        "0f86a9c46c6241c7bc1bf9c6a3059ab8",
                        "25385e1665f74d1dad48266c76c09ce1",
                        "c927999758874be2a40275a5665cc3e5",
                        "cd222fa84ae34d02b77f424e7e84f291",
                        "0a89292854e44da990db47ddf7e0b366",
                        "82b4a65ac9a94c8e8ad6efb87d247db9",
                        "14b5c6213b294c6f8d00e56691a4d4e2",
                        "d813f5bbb31d4ca1ac925bb2ba8d6d59",
                        "9187ef5909694e3cb9973da9d986dd7c",
                        "de4c7ecb46564cb49e5ad31cbf4ca96a",
                        "d54c07b8eca94d43b2edb9b16d1cc0f0",
                        "8bf67c3efd434def8c1430d1c2e1beab",
                        "2494190de010496c8bff108efdf628c9",
                        "29ad4aa188e9409eb9f48254100da4aa",
                        "7c5c7531f30d4bcb8a1a2ae3b438acd2",
                        "f1e77f0b5eff49d2ad0c09a6d8c373fe",
                        "190524942e264b88b72a1a34e49c3181",
                        "4e1ba9b73e394276ba1c56812f4ea81f",
                        "678e7c47c7c14bf499861ed5831bd69d",
                        "065f6aabe8a4422988fbd5dcc246ecc7",
                        "15efa5f2075b442c8bbe44bcb7023d69",
                        "d3c0c21618264c8b946834d7d85f587f",
                        "f158ec717a1e4dc5ad6888385861b2a3"
                    ]
                }
            },
            "id": "3zpeD-00ZlFY",
            "execution_count": 35,
            "outputs": [
                {
                    "output_type": "display_data",
                    "data": {
                        "text/plain": [
                            "config.json:   0%|          | 0.00/493 [00:00<?, ?B/s]"
                        ],
                        "application/vnd.jupyter.widget-view+json": {
                            "version_major": 2,
                            "version_minor": 0,
                            "model_id": "12b6b0070c2a4e198a812149e6ffceb6"
                        }
                    },
                    "metadata": {}
                },
                {
                    "output_type": "display_data",
                    "data": {
                        "text/plain": [
                            "pytorch_model.bin:   0%|          | 0.00/438M [00:00<?, ?B/s]"
                        ],
                        "application/vnd.jupyter.widget-view+json": {
                            "version_major": 2,
                            "version_minor": 0,
                            "model_id": "56d8e9dfc638486fa314f7db37de4f97"
                        }
                    },
                    "metadata": {}
                },
                {
                    "output_type": "stream",
                    "name": "stderr",
                    "text": [
                        "Some weights of the model checkpoint at facebook/dpr-question_encoder-single-nq-base were not used when initializing DPRQuestionEncoder: ['question_encoder.bert_model.pooler.dense.bias', 'question_encoder.bert_model.pooler.dense.weight']\n",
                        "- This IS expected if you are initializing DPRQuestionEncoder from the checkpoint of a model trained on another task or with another architecture (e.g. initializing a BertForSequenceClassification model from a BertForPreTraining model).\n",
                        "- This IS NOT expected if you are initializing DPRQuestionEncoder from the checkpoint of a model that you expect to be exactly identical (initializing a BertForSequenceClassification model from a BertForSequenceClassification model).\n"
                    ]
                },
                {
                    "output_type": "display_data",
                    "data": {
                        "text/plain": [
                            "model.safetensors:   0%|          | 0.00/438M [00:00<?, ?B/s]"
                        ],
                        "application/vnd.jupyter.widget-view+json": {
                            "version_major": 2,
                            "version_minor": 0,
                            "model_id": "db0c5d9fb03549969c347bba48b93620"
                        }
                    },
                    "metadata": {}
                },
                {
                    "output_type": "display_data",
                    "data": {
                        "text/plain": [
                            "tokenizer_config.json:   0%|          | 0.00/28.0 [00:00<?, ?B/s]"
                        ],
                        "application/vnd.jupyter.widget-view+json": {
                            "version_major": 2,
                            "version_minor": 0,
                            "model_id": "ffda8e67453f4589b231d1ab7ecd6ab9"
                        }
                    },
                    "metadata": {}
                },
                {
                    "output_type": "display_data",
                    "data": {
                        "text/plain": [
                            "vocab.txt:   0%|          | 0.00/232k [00:00<?, ?B/s]"
                        ],
                        "application/vnd.jupyter.widget-view+json": {
                            "version_major": 2,
                            "version_minor": 0,
                            "model_id": "25385e1665f74d1dad48266c76c09ce1"
                        }
                    },
                    "metadata": {}
                },
                {
                    "output_type": "display_data",
                    "data": {
                        "text/plain": [
                            "tokenizer.json:   0%|          | 0.00/466k [00:00<?, ?B/s]"
                        ],
                        "application/vnd.jupyter.widget-view+json": {
                            "version_major": 2,
                            "version_minor": 0,
                            "model_id": "2494190de010496c8bff108efdf628c9"
                        }
                    },
                    "metadata": {}
                }
            ]
        },
        {
            "cell_type": "markdown",
            "source": [
                "## Example query and context retrieval"
            ],
            "metadata": {
                "id": "Z_KmITn3bEJJ"
            },
            "id": "Z_KmITn3bEJJ"
        },
        {
            "cell_type": "code",
            "source": [
                "# Example question\n",
                "question = 'Drug and Alcohol Policy'\n",
                "question_inputs = question_tokenizer(question, return_tensors='pt')\n",
                "question_embedding = question_encoder(**question_inputs).pooler_output.detach().numpy()\n",
                "\n",
                "# Search the index\n",
                "D, I = index.search(question_embedding, k=5)  # Retrieve top 5 relevant contexts\n",
                "print(\"D:\",D)\n",
                "print(\"I:\",I)"
            ],
            "metadata": {
                "id": "3mwGkq3Waqy7",
                "outputId": "87c74455-1882-4f06-f66d-3a69525460a2",
                "colab": {
                    "base_uri": "https://localhost:8080/"
                }
            },
            "id": "3mwGkq3Waqy7",
            "execution_count": 36,
            "outputs": [
                {
                    "output_type": "stream",
                    "name": "stdout",
                    "text": [
                        "D: [[72.76531 74.7162  84.38809 88.36435 90.28708]]\n",
                        "I: [[34  3 44 47 28]]\n"
                    ]
                }
            ]
        },
        {
            "cell_type": "code",
            "source": [
                "print(\"Top 5 relevant contexts:\")\n",
                "for i, idx in enumerate(I[0]):\n",
                "    print(f\"{i+1}: {paragraphs[idx]}\")\n",
                "    print(f\"distance {D[0][i]}\\n\")"
            ],
            "metadata": {
                "id": "boW6_OsqbarC",
                "outputId": "e8d0af22-8505-494e-86e8-05af523d344b",
                "colab": {
                    "base_uri": "https://localhost:8080/"
                }
            },
            "id": "boW6_OsqbarC",
            "execution_count": 37,
            "outputs": [
                {
                    "output_type": "stream",
                    "name": "stdout",
                    "text": [
                        "Top 5 relevant contexts:\n",
                        "1: 6.\tDrug and Alcohol Policy\n",
                        "distance 72.76531219482422\n",
                        "\n",
                        "2: Policy Objective: The Drug and Alcohol Policy is established to establish clear expectations and guidelines for the responsible use of drugs and alcohol within the organization. This policy aims to maintain a safe, healthy, and productive workplace.\n",
                        "distance 74.71620178222656\n",
                        "\n",
                        "3: Testing and Searches: The organization reserves the right to conduct drug and alcohol testing as per applicable laws and regulations. Employees may be subject to testing in cases of reasonable suspicion, post-accident, or as part of routine workplace safety measures.\n",
                        "distance 84.38809204101562\n",
                        "\n",
                        "4: 9.\tDiscipline and Termination Policy\n",
                        "distance 88.36434936523438\n",
                        "\n",
                        "5: Monitoring: The company retains the right to monitor internet and email usage for security and compliance purposes.\n",
                        "distance 90.28707885742188\n",
                        "\n"
                    ]
                }
            ]
        },
        {
            "cell_type": "code",
            "source": [
                "def search_relevant_contexts(question, question_tokenizer, question_encoder, index, k=5):\n",
                "    \"\"\"\n",
                "    Searches for the most relevant contexts to a given question.\n",
                "\n",
                "    Returns:\n",
                "    tuple: Distances and indices of the top k relevant contexts.\n",
                "    \"\"\"\n",
                "    # Tokenize the question\n",
                "    question_inputs = question_tokenizer(question, return_tensors='pt')\n",
                "\n",
                "    # Encode the question to get the embedding\n",
                "    question_embedding = question_encoder(**question_inputs).pooler_output.detach().numpy()\n",
                "\n",
                "    # Search the index to retrieve top k relevant contexts\n",
                "    D, I = index.search(question_embedding, k)\n",
                "\n",
                "    return D, I"
            ],
            "metadata": {
                "id": "fLhpSi4qbf9X"
            },
            "id": "fLhpSi4qbf9X",
            "execution_count": 38,
            "outputs": []
        },
        {
            "cell_type": "markdown",
            "source": [
                "## Enhancing response generation with LLMs"
            ],
            "metadata": {
                "id": "17_3skSwbmct"
            },
            "id": "17_3skSwbmct"
        },
        {
            "cell_type": "code",
            "source": [
                "from transformers import AutoTokenizer, AutoModelForCausalLM\n",
                "\n",
                "tokenizer = AutoTokenizer.from_pretrained(\"openai-community/gpt2\")\n",
                "model = AutoModelForCausalLM.from_pretrained(\"openai-community/gpt2\")\n",
                "model.generation_config.pad_token_id = tokenizer.pad_token_id"
            ],
            "metadata": {
                "id": "bvpqpG7NbkWr",
                "outputId": "307f782b-0056-4112-f636-b7b557fd97d4",
                "colab": {
                    "base_uri": "https://localhost:8080/",
                    "height": 81,
                    "referenced_widgets": [
                        "0ba79e9a0cca43b7a4a758af96353ce6",
                        "796c0f5d62064c09b3d83749c0f43786",
                        "dd22ccecba224675be6a90d2e4c3f920",
                        "a9010f44930c4febbb335bd422d81da2",
                        "123faff3130349e1a7f0a173be7a9c93",
                        "c5aab4bfbeea4e3a904501e231ef0284",
                        "1e171660ab8d478cb46e3c2168ecaf08",
                        "1d6542a241284612b804a796fcb906d4",
                        "df1c034661124b909c96ebe21d23732d",
                        "20c3850b40444e6f99cbc8312d1e4211",
                        "fd232886c7ba4e19b3d261f6cec5c4d8",
                        "eac981caf8ec4576ab9eae43f3599c58",
                        "f2cdc48237ba46f6aaa253e29f082150",
                        "43af898b6b58476b8930d4d23556a338",
                        "5f0e006516c44853aaf391e112a3222d",
                        "cd99120fd06041b88118399788cd0fb6",
                        "80e3d96f52e242febc8d785194a0571a",
                        "3abd02508dd3460abd7dae569670649d",
                        "537ae1c0dc68458dabf94ec6aec4e8e2",
                        "791e82c7d69b4de5b9d2844b82283776",
                        "cbe7d8c64a934ee387bef41ad3f8c4c8",
                        "e51c1f0b722d44a08fba83c2054878e4"
                    ]
                }
            },
            "id": "bvpqpG7NbkWr",
            "execution_count": 41,
            "outputs": [
                {
                    "output_type": "display_data",
                    "data": {
                        "text/plain": [
                            "model.safetensors:   0%|          | 0.00/548M [00:00<?, ?B/s]"
                        ],
                        "application/vnd.jupyter.widget-view+json": {
                            "version_major": 2,
                            "version_minor": 0,
                            "model_id": "0ba79e9a0cca43b7a4a758af96353ce6"
                        }
                    },
                    "metadata": {}
                },
                {
                    "output_type": "display_data",
                    "data": {
                        "text/plain": [
                            "generation_config.json:   0%|          | 0.00/124 [00:00<?, ?B/s]"
                        ],
                        "application/vnd.jupyter.widget-view+json": {
                            "version_major": 2,
                            "version_minor": 0,
                            "model_id": "eac981caf8ec4576ab9eae43f3599c58"
                        }
                    },
                    "metadata": {}
                }
            ]
        },
        {
            "cell_type": "code",
            "source": [
                "contexts= \"What is a large language model?\""
            ],
            "metadata": {
                "id": "NMa_LticcRPD"
            },
            "id": "NMa_LticcRPD",
            "execution_count": 42,
            "outputs": []
        },
        {
            "cell_type": "code",
            "source": [
                "inputs = tokenizer(contexts, return_tensors='pt', max_length=1024, truncation=True)\n",
                "print(inputs)"
            ],
            "metadata": {
                "id": "jsLOWK11c7Io",
                "outputId": "0895e5bf-dd26-431b-b5b4-730e079d41d7",
                "colab": {
                    "base_uri": "https://localhost:8080/"
                }
            },
            "id": "jsLOWK11c7Io",
            "execution_count": 43,
            "outputs": [
                {
                    "output_type": "stream",
                    "name": "stdout",
                    "text": [
                        "{'input_ids': tensor([[2061,  318,  257, 1588, 3303, 2746,   30]]), 'attention_mask': tensor([[1, 1, 1, 1, 1, 1, 1]])}\n"
                    ]
                }
            ]
        },
        {
            "cell_type": "code",
            "source": [
                "summary_ids = model.generate(inputs['input_ids'], max_length=50, num_beams=4, early_stopping=True,\n",
                "                             pad_token_id=tokenizer.eos_token_id)\n",
                "summary_ids"
            ],
            "metadata": {
                "id": "9hduzK4wc8lU",
                "outputId": "5cb74614-529b-414e-a2f8-c428cff37ae9",
                "colab": {
                    "base_uri": "https://localhost:8080/"
                }
            },
            "id": "9hduzK4wc8lU",
            "execution_count": 44,
            "outputs": [
                {
                    "output_type": "stream",
                    "name": "stderr",
                    "text": [
                        "The attention mask is not set and cannot be inferred from input because pad token is same as eos token. As a consequence, you may observe unexpected behavior. Please pass your input's `attention_mask` to obtain reliable results.\n"
                    ]
                },
                {
                    "output_type": "execute_result",
                    "data": {
                        "text/plain": [
                            "tensor([[ 2061,   318,   257,  1588,  3303,  2746,    30,   198,   198,    32,\n",
                            "          1588,  3303,  2746,   318,   257,   900,   286,  3173,   326,  6901,\n",
                            "           703,   257,  3303,   815, 17438,   287,   257,  1813,  4732,    13,\n",
                            "           198,   198,    32,  1588,  3303,  2746,   318,   257,   900,   286,\n",
                            "          3173,   326,  6901,   703,   257,  3303,   815, 17438,   287,   257]])"
                        ]
                    },
                    "metadata": {},
                    "execution_count": 44
                }
            ]
        },
        {
            "cell_type": "code",
            "source": [
                "summary = tokenizer.decode(summary_ids[0], skip_special_tokens=True)\n",
                "print(summary)"
            ],
            "metadata": {
                "id": "cxQ8zwtQfCed",
                "outputId": "9dc332fe-bef5-4145-9cf8-8cff22c295e5",
                "colab": {
                    "base_uri": "https://localhost:8080/"
                }
            },
            "id": "cxQ8zwtQfCed",
            "execution_count": 45,
            "outputs": [
                {
                    "output_type": "stream",
                    "name": "stdout",
                    "text": [
                        "What is a large language model?\n",
                        "\n",
                        "A large language model is a set of rules that describe how a language should behave in a given context.\n",
                        "\n",
                        "A large language model is a set of rules that describe how a language should behave in a\n"
                    ]
                }
            ]
        },
        {
            "cell_type": "markdown",
            "source": [
                "## Comparing answer generation: With and without DPR contexts\n",
                "\n",
                "### Generating answers directly from questions"
            ],
            "metadata": {
                "id": "YpByzRbvfSHI"
            },
            "id": "YpByzRbvfSHI"
        },
        {
            "cell_type": "code",
            "source": [
                "def generate_answer_without_context(question):\n",
                "    # Tokenize the input question\n",
                "    inputs = tokenizer(question, return_tensors='pt', max_length=1024, truncation=True)\n",
                "\n",
                "    # Generate output directly from the question without additional context\n",
                "    summary_ids = model.generate(inputs['input_ids'], max_length=150, min_length=40, length_penalty=2.0,\n",
                "                                 num_beams=4, early_stopping=True,pad_token_id=tokenizer.eos_token_id)\n",
                "\n",
                "    # Decode and return the generated text\n",
                "    answer = tokenizer.decode(summary_ids[0], skip_special_tokens=True)\n",
                "    return answer"
            ],
            "metadata": {
                "id": "vH-Xac5MfIt3"
            },
            "id": "vH-Xac5MfIt3",
            "execution_count": 46,
            "outputs": []
        },
        {
            "cell_type": "code",
            "source": [
                "# Example usage\n",
                "question = \"what is mobile policy?\"\n",
                "answer = generate_answer_without_context(question)\n",
                "\n",
                "print(\"Answer:\", answer)"
            ],
            "metadata": {
                "id": "_bxlqj3hfWiU",
                "outputId": "e8c70f79-2764-4324-c6d0-13c6c3b4a87c",
                "colab": {
                    "base_uri": "https://localhost:8080/"
                }
            },
            "id": "_bxlqj3hfWiU",
            "execution_count": 47,
            "outputs": [
                {
                    "output_type": "stream",
                    "name": "stdout",
                    "text": [
                        "Answer: what is mobile policy?\n",
                        "\n",
                        "Mobile policy is a set of rules and regulations that govern the use of mobile phones and other electronic devices in the United States. Mobile policy is a set of rules and regulations that govern the use of mobile phones and other electronic devices in the United States. Mobile policy is a set of rules and regulations that govern the use of mobile phones and other electronic devices in the United States. Mobile policy is a set of rules and regulations that govern the use of mobile phones and other electronic devices in the United States. Mobile policy is a set of rules and regulations that govern the use of mobile phones and other electronic devices in the United States. Mobile policy is a set of rules and regulations that govern the use of mobile phones and other\n"
                    ]
                }
            ]
        },
        {
            "cell_type": "markdown",
            "source": [
                "### Generating answers with DPR contexts"
            ],
            "metadata": {
                "id": "9bZumAGAfjYA"
            },
            "id": "9bZumAGAfjYA"
        },
        {
            "cell_type": "code",
            "source": [
                "def generate_answer(question, contexts):\n",
                "    # Concatenate the retrieved contexts to form the input to GPT2\n",
                "    input_text = question + ' ' + ' '.join(contexts)\n",
                "    inputs = tokenizer(input_text, return_tensors='pt', max_length=1024, truncation=True)\n",
                "\n",
                "    # Generate output using GPT2\n",
                "    summary_ids = model.generate(inputs['input_ids'], max_new_tokens=50, min_length=40, length_penalty=2.0,\n",
                "                                 num_beams=4, early_stopping=True,pad_token_id=tokenizer.eos_token_id)\n",
                "    return tokenizer.decode(summary_ids[0], skip_special_tokens=True)"
            ],
            "metadata": {
                "id": "azCnJYaQfXr7"
            },
            "id": "azCnJYaQfXr7",
            "execution_count": 48,
            "outputs": []
        },
        {
            "cell_type": "code",
            "source": [
                "question = \"what is mobile policy?\"\n",
                "\n",
                "_,I =search_relevant_contexts(question, question_tokenizer, question_encoder, index, k=5)\n",
                "\n",
                "print(f\"paragraphs indexs {I}\")"
            ],
            "metadata": {
                "id": "uJWw7WVofl3X",
                "outputId": "e154c573-6b9b-4a87-aa7c-09cda98b54a3",
                "colab": {
                    "base_uri": "https://localhost:8080/"
                }
            },
            "id": "uJWw7WVofl3X",
            "execution_count": 49,
            "outputs": [
                {
                    "output_type": "stream",
                    "name": "stdout",
                    "text": [
                        "paragraphs indexs [[42 49 28 38 39]]\n"
                    ]
                }
            ]
        },
        {
            "cell_type": "code",
            "source": [
                "top_contexts = [paragraphs[idx] for idx in I[0]]\n",
                "print(f\"top_contexts {top_contexts}\")"
            ],
            "metadata": {
                "id": "J5FxtKF6fm66",
                "outputId": "ee9344e4-9c4d-48e2-d466-712e3a90c667",
                "colab": {
                    "base_uri": "https://localhost:8080/"
                }
            },
            "id": "J5FxtKF6fm66",
            "execution_count": 50,
            "outputs": [
                {
                    "output_type": "stream",
                    "name": "stdout",
                    "text": [
                        "top_contexts ['4.\\tMobile Phone Policy', 'The Mobile Phone Policy sets forth the standards and expectations governing the appropriate and responsible usage of mobile devices in the organization. The purpose of this policy is to ensure that employees utilize mobile phones in a manner consistent with company values and legal compliance.', 'Monitoring: The company retains the right to monitor internet and email usage for security and compliance purposes.', 'Acceptable Use: Mobile devices are primarily intended for work-related tasks. Limited personal usage is allowed, provided it does not disrupt work obligations.', 'The Mobile Phone Policy is aimed at promoting the responsible and secure use of mobile devices in line with legal and ethical standards. Every employee is expected to comprehend and abide by these guidelines. Regular reviews of the policy ensure its ongoing alignment with evolving technology and security best practices.']\n"
                    ]
                }
            ]
        },
        {
            "cell_type": "code",
            "source": [
                "# Assume `I[0]` contains indices of top contexts from the retrieval step\n",
                "answer = generate_answer(question, top_contexts)\n",
                "print(\"Generated Answer:\", answer)"
            ],
            "metadata": {
                "id": "nC6t0cz4foRz",
                "outputId": "3f1b1f20-a92a-48ab-a630-e618b3056eb1",
                "colab": {
                    "base_uri": "https://localhost:8080/"
                }
            },
            "id": "nC6t0cz4foRz",
            "execution_count": 51,
            "outputs": [
                {
                    "output_type": "stream",
                    "name": "stdout",
                    "text": [
                        "Generated Answer: what is mobile policy? 4.\tMobile Phone Policy The Mobile Phone Policy sets forth the standards and expectations governing the appropriate and responsible usage of mobile devices in the organization. The purpose of this policy is to ensure that employees utilize mobile phones in a manner consistent with company values and legal compliance. Monitoring: The company retains the right to monitor internet and email usage for security and compliance purposes. Acceptable Use: Mobile devices are primarily intended for work-related tasks. Limited personal usage is allowed, provided it does not disrupt work obligations. The Mobile Phone Policy is aimed at promoting the responsible and secure use of mobile devices in line with legal and ethical standards. Every employee is expected to comprehend and abide by these guidelines. Regular reviews of the policy ensure its ongoing alignment with evolving technology and security best practices.\n",
                        "\n",
                        "The Mobile Phone Policy sets forth the standards and expectations governing the appropriate and responsible usage of mobile devices in the organization. The purpose of this policy is to ensure that employees utilize mobile phones in a manner consistent with company values and legal compliance. Monitoring\n"
                    ]
                }
            ]
        },
        {
            "cell_type": "markdown",
            "source": [
                "# Exercise: Tuning generation parameters in GPT2"
            ],
            "metadata": {
                "id": "RzFr0bLKf0_r"
            },
            "id": "RzFr0bLKf0_r"
        },
        {
            "cell_type": "code",
            "source": [
                "def generate_answer(contexts, max_len=50, min_len=40, length_penalty=2.0, num_beams=4):\n",
                "    # Concatenate the retrieved contexts to form the input to BAR\n",
                "    input_text = ' '.join(contexts)\n",
                "    inputs = tokenizer(input_text, return_tensors='pt', max_length=1024, truncation=True)\n",
                "\n",
                "    # Generate output using GPT2\n",
                "    summary_ids = model.generate(\n",
                "        inputs['input_ids'],\n",
                "        max_new_tokens=max_len,\n",
                "        min_length=min_len,\n",
                "        length_penalty=length_penalty,\n",
                "        num_beams=num_beams,\n",
                "        early_stopping=True\n",
                "    )\n",
                "    return tokenizer.decode(summary_ids[0], skip_special_tokens=True)\n",
                "\n",
                "# Define the question\n",
                "question = \"what is mobile policy?\"\n",
                "\n",
                "# Retrieve relevant contexts\n",
                "_, I = search_relevant_contexts(question, question_tokenizer, question_encoder, index, k=5)\n",
                "top_contexts = [paragraphs[idx] for idx in I[0]]\n",
                "\n",
                "# Test different generation settings\n",
                "settings = [\n",
                "    (50, 50, 1.0, 2),\n",
                "    (120, 30, 2.0, 4),\n",
                "    (100, 20, 2.5, 6)\n",
                "]\n",
                "\n",
                "# Generate and print answers for each setting\n",
                "for setting in settings:\n",
                "    answer = generate_answer(top_contexts, *setting)\n",
                "    print(f\"Settings: max_new_tokens={setting[0]}, min_length={setting[1]}, length_penalty={setting[2]}, num_beams={setting[3]}\")\n",
                "    print(\"Generated Answer:\", answer)\n",
                "    print(\"\\n\" + \"=\"*80 + \"\\n\")"
            ],
            "metadata": {
                "id": "itzbtgCyfqHT",
                "outputId": "505f624a-4c6a-40f9-ff5f-2dc26a4d9385",
                "colab": {
                    "base_uri": "https://localhost:8080/"
                }
            },
            "id": "itzbtgCyfqHT",
            "execution_count": 52,
            "outputs": [
                {
                    "output_type": "stream",
                    "name": "stderr",
                    "text": [
                        "The attention mask and the pad token id were not set. As a consequence, you may observe unexpected behavior. Please pass your input's `attention_mask` to obtain reliable results.\n",
                        "Setting `pad_token_id` to `eos_token_id`:50256 for open-end generation.\n",
                        "The attention mask and the pad token id were not set. As a consequence, you may observe unexpected behavior. Please pass your input's `attention_mask` to obtain reliable results.\n",
                        "Setting `pad_token_id` to `eos_token_id`:50256 for open-end generation.\n"
                    ]
                },
                {
                    "output_type": "stream",
                    "name": "stdout",
                    "text": [
                        "Settings: max_new_tokens=50, min_length=50, length_penalty=1.0, num_beams=2\n",
                        "Generated Answer: 4.\tMobile Phone Policy The Mobile Phone Policy sets forth the standards and expectations governing the appropriate and responsible usage of mobile devices in the organization. The purpose of this policy is to ensure that employees utilize mobile phones in a manner consistent with company values and legal compliance. Monitoring: The company retains the right to monitor internet and email usage for security and compliance purposes. Acceptable Use: Mobile devices are primarily intended for work-related tasks. Limited personal usage is allowed, provided it does not disrupt work obligations. The Mobile Phone Policy is aimed at promoting the responsible and secure use of mobile devices in line with legal and ethical standards. Every employee is expected to comprehend and abide by these guidelines. Regular reviews of the policy ensure its ongoing alignment with evolving technology and security best practices. The Mobile Phone Policy is designed to ensure that all employees are aware of the Mobile Phone Policy and its implications for their business. The Mobile Phone Policy is not intended to be a substitute for a written or oral policy. The Mobile Phone Policy is not intended\n",
                        "\n",
                        "================================================================================\n",
                        "\n"
                    ]
                },
                {
                    "output_type": "stream",
                    "name": "stderr",
                    "text": [
                        "The attention mask and the pad token id were not set. As a consequence, you may observe unexpected behavior. Please pass your input's `attention_mask` to obtain reliable results.\n",
                        "Setting `pad_token_id` to `eos_token_id`:50256 for open-end generation.\n"
                    ]
                },
                {
                    "output_type": "stream",
                    "name": "stdout",
                    "text": [
                        "Settings: max_new_tokens=120, min_length=30, length_penalty=2.0, num_beams=4\n",
                        "Generated Answer: 4.\tMobile Phone Policy The Mobile Phone Policy sets forth the standards and expectations governing the appropriate and responsible usage of mobile devices in the organization. The purpose of this policy is to ensure that employees utilize mobile phones in a manner consistent with company values and legal compliance. Monitoring: The company retains the right to monitor internet and email usage for security and compliance purposes. Acceptable Use: Mobile devices are primarily intended for work-related tasks. Limited personal usage is allowed, provided it does not disrupt work obligations. The Mobile Phone Policy is aimed at promoting the responsible and secure use of mobile devices in line with legal and ethical standards. Every employee is expected to comprehend and abide by these guidelines. Regular reviews of the policy ensure its ongoing alignment with evolving technology and security best practices.\n",
                        "\n",
                        "The Mobile Phone Policy sets forth the standards and expectations governing the appropriate and responsible usage of mobile devices in the organization. The purpose of this policy is to ensure that employees utilize mobile phones in a manner consistent with company values and legal compliance. Monitoring: The company retains the right to monitor internet and email usage for security and compliance purposes. Acceptable Use: Mobile devices are primarily intended for work-related tasks. Limited personal usage is allowed, provided it does not disrupt work obligations. The Mobile Phone Policy is aimed at promoting the responsible and secure use of mobile devices in line with legal and ethical standards\n",
                        "\n",
                        "================================================================================\n",
                        "\n",
                        "Settings: max_new_tokens=100, min_length=20, length_penalty=2.5, num_beams=6\n",
                        "Generated Answer: 4.\tMobile Phone Policy The Mobile Phone Policy sets forth the standards and expectations governing the appropriate and responsible usage of mobile devices in the organization. The purpose of this policy is to ensure that employees utilize mobile phones in a manner consistent with company values and legal compliance. Monitoring: The company retains the right to monitor internet and email usage for security and compliance purposes. Acceptable Use: Mobile devices are primarily intended for work-related tasks. Limited personal usage is allowed, provided it does not disrupt work obligations. The Mobile Phone Policy is aimed at promoting the responsible and secure use of mobile devices in line with legal and ethical standards. Every employee is expected to comprehend and abide by these guidelines. Regular reviews of the policy ensure its ongoing alignment with evolving technology and security best practices.\n",
                        "\n",
                        "The Mobile Phone Policy sets forth the standards and expectations governing the appropriate and responsible usage of mobile devices in the organization. The purpose of this policy is to ensure that employees utilize mobile phones in a manner consistent with company values and legal compliance. Monitoring: The company retains the right to monitor internet and email usage for security and compliance purposes. Acceptable Use: Mobile devices are primarily intended for work-related tasks. Limited personal usage is allowed, provided it does not disrupt work obligations. The Mobile Phone\n",
                        "\n",
                        "================================================================================\n",
                        "\n"
                    ]
                }
            ]
        },
        {
            "cell_type": "code",
            "source": [
                "! pip freeze > requirements.txt"
            ],
            "metadata": {
                "id": "2F1yMe-CgJpU"
            },
            "id": "2F1yMe-CgJpU",
            "execution_count": 53,
            "outputs": []
        }
    ],
    "metadata": {
        "language_info": {
            "name": "python"
        },
        "colab": {
            "provenance": [],
            "include_colab_link": true
        },
        "kernelspec": {
            "name": "python3",
            "display_name": "Python 3"
        }
    },
    "nbformat": 4,
    "nbformat_minor": 5
}