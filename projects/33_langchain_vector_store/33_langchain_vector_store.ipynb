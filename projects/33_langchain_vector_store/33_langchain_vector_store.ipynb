{
    "cells": [
        {
            "cell_type": "markdown",
            "id": "b2ce04e9",
            "metadata": {
                "colab_type": "text",
                "id": "view-in-github"
            },
            "source": [
                "<a href=\"https://colab.research.google.com/github/vektor8891/llm/blob/main/projects/33_langchain_vector_store/33_langchain_vector_store.ipynb\" target=\"_parent\"><img src=\"https://colab.research.google.com/assets/colab-badge.svg\" alt=\"Open In Colab\"/></a>"
            ]
        },
        {
            "cell_type": "code",
            "execution_count": 15,
            "id": "jvLi1wF-H0Hp",
            "metadata": {
                "colab": {
                    "base_uri": "https://localhost:8080/"
                },
                "id": "jvLi1wF-H0Hp",
                "outputId": "f8d85b99-c787-4cc7-c90e-bae88723584f"
            },
            "outputs": [
                {
                    "name": "stdout",
                    "output_type": "stream",
                    "text": [
                        "\u001b[2K   \u001b[90m\u2501\u2501\u2501\u2501\u2501\u2501\u2501\u2501\u2501\u2501\u2501\u2501\u2501\u2501\u2501\u2501\u2501\u2501\u2501\u2501\u2501\u2501\u2501\u2501\u2501\u2501\u2501\u2501\u2501\u2501\u2501\u2501\u2501\u2501\u2501\u2501\u2501\u2501\u2501\u2501\u001b[0m \u001b[32m31.3/31.3 MB\u001b[0m \u001b[31m62.8 MB/s\u001b[0m eta \u001b[36m0:00:00\u001b[0m\n",
                        "\u001b[?25h"
                    ]
                }
            ],
            "source": [
                "# ! pip install -qq langchain_community\n",
                "# ! pip install -qq ibm_watsonx_ai\n",
                "# ! pip install -qq langchain_ibm\n",
                "# ! pip install -qq chromadb\n",
                "# ! pip install -qq faiss-cpu"
            ]
        },
        {
            "cell_type": "markdown",
            "id": "jRbZOIlLHrM2",
            "metadata": {
                "id": "jRbZOIlLHrM2"
            },
            "source": [
                "# Create and Configure a Vector Database to Store Document Embeddings"
            ]
        },
        {
            "cell_type": "code",
            "execution_count": 3,
            "id": "0iNZLIWGHp5H",
            "metadata": {
                "colab": {
                    "base_uri": "https://localhost:8080/"
                },
                "id": "0iNZLIWGHp5H",
                "outputId": "d4425f05-8ab2-4612-fe41-cb0951a9d6ac"
            },
            "outputs": [
                {
                    "name": "stdout",
                    "output_type": "stream",
                    "text": [
                        "--2025-07-14 18:08:25--  https://cf-courses-data.s3.us.cloud-object-storage.appdomain.cloud/BYlUHaillwM8EUItaIytHQ/companypolicies.txt\n",
                        "Resolving cf-courses-data.s3.us.cloud-object-storage.appdomain.cloud (cf-courses-data.s3.us.cloud-object-storage.appdomain.cloud)... 169.63.118.104\n",
                        "Connecting to cf-courses-data.s3.us.cloud-object-storage.appdomain.cloud (cf-courses-data.s3.us.cloud-object-storage.appdomain.cloud)|169.63.118.104|:443... connected.\n",
                        "HTTP request sent, awaiting response... 200 OK\n",
                        "Length: 15660 (15K) [text/plain]\n",
                        "Saving to: \u2018companypolicies.txt\u2019\n",
                        "\n",
                        "\rcompanypolicies.txt   0%[                    ]       0  --.-KB/s               \rcompanypolicies.txt 100%[===================>]  15.29K  --.-KB/s    in 0s      \n",
                        "\n",
                        "2025-07-14 18:08:25 (227 MB/s) - \u2018companypolicies.txt\u2019 saved [15660/15660]\n",
                        "\n"
                    ]
                },
                {
                    "data": {
                        "text/plain": [
                            "[Document(metadata={'source': 'companypolicies.txt'}, page_content=\"1.\\tCode of Conduct\\n\\nOur Code of Conduct outlines the fundamental principles and ethical standards that guide every member of our organization. We are committed to maintaining a workplace that is built on integrity, respect, and accountability.\\nIntegrity: We hold ourselves to the highest ethical standards. This means acting honestly and transparently in all our interactions, whether with colleagues, clients, or the broader community. We respect and protect sensitive information, and we avoid conflicts of interest.\\nRespect: We embrace diversity and value each individual's contributions. Discrimination, harassment, or any form of disrespectful behavior is unacceptable. We create an inclusive environment where differences are celebrated and everyone is treated with dignity and courtesy.\\nAccountability: We take responsibility for our actions and decisions. We follow all relevant laws and regulations, and we strive to continuously improve our practices. We report any potential violations of this code and support the investigation of such matters.\\nSafety: We prioritize the safety of our employees, clients, and the communities we serve. We maintain a culture of safety, including reporting any unsafe conditions or practices.\\nEnvironmental Responsibility: We are committed to minimizing our environmental footprint and promoting sustainable practices.\\nOur Code of Conduct is not just a set of rules; it is the foundation of our organization's culture. We expect all employees to uphold these principles and serve as role models for others, ensuring we maintain our reputation for ethical conduct, integrity, and social responsibility.\\n\\n2.\\tRecruitment Policy\\n\\nOur Recruitment Policy reflects our commitment to attracting, selecting, and onboarding the most qualified and diverse candidates to join our organization. We believe that the success of our company relies on the talents, skills, and dedication of our employees.\\nEqual Opportunity: We are an equal opportunity employer and do not discriminate on the basis of race, color, religion, sex, sexual orientation, gender identity, national origin, age, disability, or any other protected status. We actively promote diversity and inclusion.\\nTransparency: We maintain transparency in our recruitment processes. All job vacancies are advertised internally and externally when appropriate. Job descriptions and requirements are clear and accurately represent the role.\\nSelection Criteria: Our selection process is based on the qualifications, experience, and skills necessary for the position. Interviews and assessments are conducted objectively, and decisions are made without bias.\\nData Privacy: We are committed to protecting the privacy of candidates' personal information and adhere to all relevant data protection laws and regulations.\\nFeedback: Candidates will receive timely and constructive feedback on their application and interview performance.\\nOnboarding: New employees receive comprehensive onboarding to help them integrate into the organization effectively. This includes information on our culture, policies, and expectations.\\nEmployee Referrals: We encourage and appreciate employee referrals as they contribute to building a strong and engaged team.\\nOur Recruitment Policy is a foundation for creating a diverse, inclusive, and talented workforce. It ensures that we attract and hire the best candidates who align with our company values and contribute to our continued success. We continuously review and update this policy to reflect evolving best practices in recruitment.\\n\\n3.\\tInternet and Email Policy\\n\\nOur Internet and Email Policy is established to guide the responsible and secure use of these essential tools within our organization. We recognize their significance in daily business operations and the importance of adhering to principles that maintain security, productivity, and legal compliance.\\nAcceptable Use: Company-provided internet and email services are primarily meant for job-related tasks. Limited personal use is allowed during non-work hours, provided it doesn't interfere with work responsibilities.\\nSecurity: Safeguard your login credentials, avoiding the sharing of passwords. Exercise caution with email attachments and links from unknown sources. Promptly report any unusual online activity or potential security breaches.\\nConfidentiality: Reserve email for the transmission of confidential information, trade secrets, and sensitive customer data only when encryption is applied. Exercise discretion when discussing company matters on public forums or social media.\\nHarassment and Inappropriate Content: Internet and email usage must not involve harassment, discrimination, or the distribution of offensive or inappropriate content. Show respect and sensitivity to others in all online communications.\\nCompliance: Ensure compliance with all relevant laws and regulations regarding internet and email usage, including those related to copyright and data protection.\\nMonitoring: The company retains the right to monitor internet and email usage for security and compliance purposes.\\nConsequences: Policy violations may lead to disciplinary measures, including potential termination.\\nOur Internet and Email Policy aims to promote safe, responsible usage of digital communication tools that align with our values and legal obligations. Each employee is expected to understand and follow this policy. Regular reviews ensure its alignment with evolving technology and security standards.\\n\\n4.\\tMobile Phone Policy\\n\\nThe Mobile Phone Policy sets forth the standards and expectations governing the appropriate and responsible usage of mobile devices in the organization. The purpose of this policy is to ensure that employees utilize mobile phones in a manner consistent with company values and legal compliance.\\nAcceptable Use: Mobile devices are primarily intended for work-related tasks. Limited personal usage is allowed, provided it does not disrupt work obligations.\\nSecurity: Safeguard your mobile device and access credentials. Exercise caution when downloading apps or clicking links from unfamiliar sources. Promptly report security concerns or suspicious activities related to your mobile device.\\nConfidentiality: Avoid transmitting sensitive company information via unsecured messaging apps or emails. Be discreet when discussing company matters in public spaces.\\nCost Management: Keep personal phone usage separate from company accounts and reimburse the company for any personal charges on company-issued phones.\\nCompliance: Adhere to all pertinent laws and regulations concerning mobile phone usage, including those related to data protection and privacy.\\nLost or Stolen Devices: Immediately report any lost or stolen mobile devices to the IT department or your supervisor.\\nConsequences: Non-compliance with this policy may lead to disciplinary actions, including the potential loss of mobile phone privileges.\\nThe Mobile Phone Policy is aimed at promoting the responsible and secure use of mobile devices in line with legal and ethical standards. Every employee is expected to comprehend and abide by these guidelines. Regular reviews of the policy ensure its ongoing alignment with evolving technology and security best practices.\\n\\n5.\\tSmoking Policy\\n\\nPolicy Purpose: The Smoking Policy has been established to provide clear guidance and expectations concerning smoking on company premises. This policy is in place to ensure a safe and healthy environment for all employees, visitors, and the general public.\\nDesignated Smoking Areas: Smoking is only permitted in designated smoking areas, as marked by appropriate signage. These areas have been chosen to minimize exposure to secondhand smoke and to maintain the overall cleanliness of the premises.\\nSmoking Restrictions: Smoking inside company buildings, offices, meeting rooms, and other enclosed spaces is strictly prohibited. This includes electronic cigarettes and vaping devices.\\nCompliance with Applicable Laws: All employees and visitors must adhere to relevant federal, state, and local smoking laws and regulations.\\nDisposal of Smoking Materials: Properly dispose of cigarette butts and related materials in designated receptacles. Littering on company premises is prohibited.\\nNo Smoking in Company Vehicles: Smoking is not permitted in company vehicles, whether they are owned or leased, to maintain the condition and cleanliness of these vehicles.\\nEnforcement and Consequences: All employees and visitors are expected to adhere to this policy. Non-compliance may lead to appropriate disciplinary action, which could include fines, or, in the case of employees, possible termination of employment.\\nReview of Policy: This policy will be reviewed periodically to ensure its alignment with evolving legal requirements and best practices for maintaining a healthy and safe workplace.\\nWe appreciate your cooperation in maintaining a smoke-free and safe environment for all.\\n\\n6.\\tDrug and Alcohol Policy\\n\\nPolicy Objective: The Drug and Alcohol Policy is established to establish clear expectations and guidelines for the responsible use of drugs and alcohol within the organization. This policy aims to maintain a safe, healthy, and productive workplace.\\nProhibited Substances: The use, possession, distribution, or sale of illegal drugs or unauthorized controlled substances is strictly prohibited on company premises or during work-related activities. This includes the misuse of prescription drugs.\\nAlcohol Consumption: The consumption of alcoholic beverages is not allowed during work hours, on company property, or while performing company-related duties. Exception may be made for company-sanctioned events.\\nImpairment: Employees are expected to perform their job duties without impairment from drugs or alcohol. The use of substances that could impair job performance or pose a safety risk is prohibited.\\nTesting and Searches: The organization reserves the right to conduct drug and alcohol testing as per applicable laws and regulations. Employees may be subject to testing in cases of reasonable suspicion, post-accident, or as part of routine workplace safety measures.\\nReporting: Employees should report any concerns related to drug or alcohol misuse by themselves or their colleagues, as well as safety concerns arising from such misuse.\\nTreatment and Assistance: Employees with substance abuse issues are encouraged to seek help. The organization is committed to providing support, resources, and information to assist those seeking treatment.\\nConsequences: Violation of this policy may result in disciplinary actions, up to and including termination of employment. Legal action may also be pursued when necessary.\\nPolicy Review: This policy will undergo periodic review to ensure its continued relevance and compliance with evolving legal requirements and best practices for a safe and productive work environment.\\nYour adherence to this policy is appreciated as it helps to maintain a safe and drug-free workplace for all.\\n\\n7.\\tHealth and Safety Policy\\n\\nOur commitment to health and safety is paramount. We prioritize the well-being of our employees, customers, and the public. We diligently comply with all relevant health and safety laws and regulations. Our objective is to maintain a workplace free from hazards, preventing accidents, injuries, and illnesses. Every individual within our organization is responsible for upholding these standards. We regularly assess and improve our safety measures, provide adequate training, and encourage open communication regarding safety concerns. Through collective dedication, we aim to ensure a safe, healthy, and secure environment for all. Your cooperation is essential in achieving this common goal.\\n\\n8.\\tAnti-discrimination and Harassment Policy\\n\\nThe Anti-Discrimination and Harassment Policy is a testament to the commitment of this organization in fostering a workplace that is free from discrimination, harassment, and any form of unlawful bias. This policy applies to every individual within the organization, including employees, contractors, visitors, and clients.\\nNon-Discrimination: This organization strictly prohibits discrimination based on race, color, religion, gender, national origin, age, disability, sexual orientation, or any other legally protected characteristic in all aspects of employment, including recruitment, hiring, compensation, benefits, promotions, and terminations.\\nHarassment: Harassment in any form, whether based on the aforementioned characteristics or any other protected status, is unacceptable. This encompasses unwelcome advances, offensive jokes, slurs, and other verbal or physical conduct that creates a hostile or intimidating work environment.\\nReporting: Individuals who experience or witness any form of discrimination or harassment are encouraged to promptly report the incident to their supervisor, manager, or the designated HR representative. The organization is committed to a timely and confidential investigation of such complaints.\\nConsequences: Violation of this policy may result in disciplinary action, including termination of employment. The organization is committed to taking appropriate action against any individual found to be in violation of this policy.\\nReview and Update: This policy is subject to regular review and update to remain aligned with evolving legal requirements and best practices in preventing discrimination and harassment. This organization considers it a collective responsibility to ensure a workplace free from discrimination and harassment, and it is essential that every individual within the organization plays their part in upholding these principles.\\n\\n9.\\tDiscipline and Termination Policy\\n\\nThe Discipline and Termination Policy underscores the organization's commitment to maintaining a productive, ethical, and respectful work environment. This policy applies to all personnel, including employees, contractors, and temporary staff.\\nPerformance and Conduct Expectations: Employees are expected to meet performance standards and adhere to conduct guidelines. The organization will provide clear expectations, feedback, and opportunities for improvement when performance or conduct issues arise.\\nDisciplinary Actions: When necessary, disciplinary actions will be taken, which may include verbal warnings, written warnings, suspension, or other appropriate measures. Disciplinary actions are designed to address issues constructively and maintain performance standards.\\nTermination: In situations where an employee's performance or conduct issues persist, the organization may resort to termination. Termination may also occur for reasons such as redundancy, violation of policies, or restructuring.\\nTermination Procedure: The organization will follow appropriate procedures, ensuring fairness and adherence to legal requirements during the termination process. Employees may be eligible for notice periods, severance pay, or other benefits as per employment agreements and applicable laws.\\nExit Process: The organization will conduct an exit process to ensure a smooth transition for departing employees, including the return of company property, final pay, and cancellation of access and benefits.\\nThis policy serves as a framework for handling discipline and termination. The organization recognizes the importance of fairness and consistency in these processes, and decisions will be made after careful consideration. Every employee is expected to understand and adhere to this policy, contributing to a respectful and productive workplace. Regular reviews will ensure its alignment with evolving legal requirements and best practices.\\n\")]"
                        ]
                    },
                    "execution_count": 3,
                    "metadata": {},
                    "output_type": "execute_result"
                }
            ],
            "source": [
                "from langchain_community.document_loaders import TextLoader\n",
                "\n",
                "!wget \"https://cf-courses-data.s3.us.cloud-object-storage.appdomain.cloud/BYlUHaillwM8EUItaIytHQ/companypolicies.txt\"\n",
                "loader = TextLoader(\"companypolicies.txt\")\n",
                "data = loader.load()\n",
                "data"
            ]
        },
        {
            "cell_type": "code",
            "execution_count": 5,
            "id": "1a3ac2a2",
            "metadata": {
                "colab": {
                    "base_uri": "https://localhost:8080/"
                },
                "id": "1a3ac2a2",
                "outputId": "8ea525cb-2436-4158-acbd-6c975c5951cb"
            },
            "outputs": [
                {
                    "data": {
                        "text/plain": [
                            "215"
                        ]
                    },
                    "execution_count": 5,
                    "metadata": {},
                    "output_type": "execute_result"
                }
            ],
            "source": [
                "from langchain.text_splitter import RecursiveCharacterTextSplitter\n",
                "\n",
                "text_splitter = RecursiveCharacterTextSplitter(\n",
                "    chunk_size=100,\n",
                "    chunk_overlap=20,\n",
                "    length_function=len,\n",
                ")\n",
                "\n",
                "chunks = text_splitter.split_documents(data)\n",
                "\n",
                "len(chunks)"
            ]
        },
        {
            "cell_type": "markdown",
            "id": "K-8r1ManIfcK",
            "metadata": {
                "id": "K-8r1ManIfcK"
            },
            "source": [
                "### Embedding model"
            ]
        },
        {
            "cell_type": "code",
            "execution_count": 7,
            "id": "J3B8MCcEH_dW",
            "metadata": {
                "id": "J3B8MCcEH_dW"
            },
            "outputs": [],
            "source": [
                "from ibm_watsonx_ai.metanames import EmbedTextParamsMetaNames\n",
                "from langchain_ibm import WatsonxEmbeddings\n",
                "from google.colab import userdata\n",
                "\n",
                "embed_params = {\n",
                "    EmbedTextParamsMetaNames.TRUNCATE_INPUT_TOKENS: 3,\n",
                "    EmbedTextParamsMetaNames.RETURN_OPTIONS: {\"input_text\": True},\n",
                "}\n",
                "\n",
                "watsonx_embedding = WatsonxEmbeddings(\n",
                "    model_id=\"ibm/slate-125m-english-rtrvr\",\n",
                "    url=userdata.get(\"WATSONX_URL\"),\n",
                "    project_id=userdata.get(\"WATSONX_PROJECT_ID\"),\n",
                "    params=embed_params,\n",
                "    apikey=userdata.get('IBM_CLOUD_API_KEY')\n",
                ")"
            ]
        },
        {
            "cell_type": "markdown",
            "id": "lQePFTO8IiMD",
            "metadata": {
                "id": "lQePFTO8IiMD"
            },
            "source": [
                "## Vector store"
            ]
        },
        {
            "cell_type": "code",
            "execution_count": 10,
            "id": "xmEEOFGdIb31",
            "metadata": {
                "colab": {
                    "base_uri": "https://localhost:8080/"
                },
                "id": "xmEEOFGdIb31",
                "outputId": "481bbe02-4df9-4179-d339-113f3bbf4cab"
            },
            "outputs": [
                {
                    "name": "stdout",
                    "output_type": "stream",
                    "text": [
                        "{'ids': ['0'], 'embeddings': None, 'documents': ['1.\\tCode of Conduct'], 'uris': None, 'included': ['metadatas', 'documents'], 'data': None, 'metadatas': [{'source': 'companypolicies.txt'}]}\n",
                        "{'ids': ['1'], 'embeddings': None, 'documents': ['Our Code of Conduct outlines the fundamental principles and ethical standards that guide every'], 'uris': None, 'included': ['metadatas', 'documents'], 'data': None, 'metadatas': [{'source': 'companypolicies.txt'}]}\n",
                        "{'ids': ['2'], 'embeddings': None, 'documents': ['that guide every member of our organization. We are committed to maintaining a workplace that is'], 'uris': None, 'included': ['metadatas', 'documents'], 'data': None, 'metadatas': [{'source': 'companypolicies.txt'}]}\n"
                    ]
                },
                {
                    "data": {
                        "text/plain": [
                            "215"
                        ]
                    },
                    "execution_count": 10,
                    "metadata": {},
                    "output_type": "execute_result"
                }
            ],
            "source": [
                "from langchain.vectorstores import Chroma\n",
                "\n",
                "ids = [str(i) for i in range(0, len(chunks))]\n",
                "\n",
                "vectordb = Chroma.from_documents(chunks, watsonx_embedding, ids=ids)\n",
                "\n",
                "for i in range(3):\n",
                "    print(vectordb._collection.get(ids=str(i)))\n",
                "\n",
                "vectordb._collection.count()"
            ]
        },
        {
            "cell_type": "markdown",
            "id": "PQt1MhStI6QT",
            "metadata": {
                "id": "PQt1MhStI6QT"
            },
            "source": [
                "#### Similarity search"
            ]
        },
        {
            "cell_type": "code",
            "execution_count": 11,
            "id": "LB5QZbunIp64",
            "metadata": {
                "colab": {
                    "base_uri": "https://localhost:8080/"
                },
                "id": "LB5QZbunIp64",
                "outputId": "80da1be1-92e3-4368-aae7-297ea96964fc"
            },
            "outputs": [
                {
                    "data": {
                        "text/plain": [
                            "[Document(metadata={'source': 'companypolicies.txt'}, page_content='internet and email usage, including those related to copyright and data protection.'),\n",
                            " Document(metadata={'source': 'companypolicies.txt'}, page_content='to this policy. Non-compliance may lead to appropriate disciplinary action, which could include'),\n",
                            " Document(metadata={'source': 'companypolicies.txt'}, page_content='This policy serves as a framework for handling discipline and termination. The organization'),\n",
                            " Document(metadata={'source': 'companypolicies.txt'}, page_content='Policy Purpose: The Smoking Policy has been established to provide clear guidance and expectations')]"
                        ]
                    },
                    "execution_count": 11,
                    "metadata": {},
                    "output_type": "execute_result"
                }
            ],
            "source": [
                "query = \"Email policy\"\n",
                "docs = vectordb.similarity_search(query)\n",
                "docs"
            ]
        },
        {
            "cell_type": "code",
            "execution_count": 12,
            "id": "bbbm3f_hI7Wk",
            "metadata": {
                "colab": {
                    "base_uri": "https://localhost:8080/"
                },
                "id": "bbbm3f_hI7Wk",
                "outputId": "2382fdba-b8d7-4a99-e852-1ca439fff147"
            },
            "outputs": [
                {
                    "data": {
                        "text/plain": [
                            "[Document(metadata={'source': 'companypolicies.txt'}, page_content='internet and email usage, including those related to copyright and data protection.')]"
                        ]
                    },
                    "execution_count": 12,
                    "metadata": {},
                    "output_type": "execute_result"
                }
            ],
            "source": [
                "vectordb.similarity_search(query, k = 1)"
            ]
        },
        {
            "cell_type": "markdown",
            "id": "iCXt0Ru3JElh",
            "metadata": {
                "id": "iCXt0Ru3JElh"
            },
            "source": [
                "### FIASS DB"
            ]
        },
        {
            "cell_type": "code",
            "execution_count": 16,
            "id": "3i-kYoqUI-Ez",
            "metadata": {
                "colab": {
                    "base_uri": "https://localhost:8080/"
                },
                "id": "3i-kYoqUI-Ez",
                "outputId": "bb6e7f70-9692-4a07-8e8e-06cbf145d997"
            },
            "outputs": [
                {
                    "name": "stdout",
                    "output_type": "stream",
                    "text": [
                        "page_content='1.\tCode of Conduct' metadata={'source': 'companypolicies.txt'}\n",
                        "page_content='Our Code of Conduct outlines the fundamental principles and ethical standards that guide every' metadata={'source': 'companypolicies.txt'}\n",
                        "page_content='that guide every member of our organization. We are committed to maintaining a workplace that is' metadata={'source': 'companypolicies.txt'}\n"
                    ]
                },
                {
                    "data": {
                        "text/plain": [
                            "[Document(id='69', metadata={'source': 'companypolicies.txt'}, page_content='internet and email usage, including those related to copyright and data protection.'),\n",
                            " Document(id='118', metadata={'source': 'companypolicies.txt'}, page_content='to this policy. Non-compliance may lead to appropriate disciplinary action, which could include'),\n",
                            " Document(id='209', metadata={'source': 'companypolicies.txt'}, page_content='This policy serves as a framework for handling discipline and termination. The organization'),\n",
                            " Document(id='102', metadata={'source': 'companypolicies.txt'}, page_content='Policy Purpose: The Smoking Policy has been established to provide clear guidance and expectations')]"
                        ]
                    },
                    "execution_count": 16,
                    "metadata": {},
                    "output_type": "execute_result"
                }
            ],
            "source": [
                "from langchain_community.vectorstores import FAISS\n",
                "\n",
                "faissdb = FAISS.from_documents(chunks, watsonx_embedding, ids=ids)\n",
                "\n",
                "for i in range(3):\n",
                "    print(faissdb.docstore.search(str(i)))\n",
                "\n",
                "query = \"Email policy\"\n",
                "docs = faissdb.similarity_search(query)\n",
                "docs"
            ]
        },
        {
            "cell_type": "markdown",
            "id": "DN-vyuL2JdXm",
            "metadata": {
                "id": "DN-vyuL2JdXm"
            },
            "source": [
                "### Managing vector store: Adding, updating, and deleting entries"
            ]
        },
        {
            "cell_type": "markdown",
            "id": "sQSMTEFYJfh-",
            "metadata": {
                "id": "sQSMTEFYJfh-"
            },
            "source": [
                "#### Add"
            ]
        },
        {
            "cell_type": "code",
            "execution_count": 17,
            "id": "0gvjle7YJKWG",
            "metadata": {
                "colab": {
                    "base_uri": "https://localhost:8080/"
                },
                "id": "0gvjle7YJKWG",
                "outputId": "cbb66168-2ec3-4a17-d576-acbf6786503d"
            },
            "outputs": [
                {
                    "name": "stdout",
                    "output_type": "stream",
                    "text": [
                        "{'ids': [], 'embeddings': None, 'documents': [], 'uris': None, 'included': ['metadatas', 'documents'], 'data': None, 'metadatas': []}\n"
                    ]
                },
                {
                    "data": {
                        "text/plain": [
                            "['215']"
                        ]
                    },
                    "execution_count": 17,
                    "metadata": {},
                    "output_type": "execute_result"
                }
            ],
            "source": [
                "from langchain_core.documents import Document\n",
                "\n",
                "text = \"Instructlab is the best open source tool for fine-tuning a LLM.\"\n",
                "\n",
                "new_chunk =  Document(\n",
                "    page_content=text,\n",
                "    metadata={\n",
                "        \"source\": \"ibm.com\",\n",
                "        \"page\": 1\n",
                "    }\n",
                ")\n",
                "\n",
                "new_chunks = [new_chunk]\n",
                "\n",
                "print(vectordb._collection.get(ids=['215']))\n",
                "\n",
                "vectordb.add_documents(\n",
                "    new_chunks,\n",
                "    ids=[\"215\"]\n",
                ")"
            ]
        },
        {
            "cell_type": "code",
            "execution_count": 18,
            "id": "157U5J__JpE5",
            "metadata": {
                "colab": {
                    "base_uri": "https://localhost:8080/"
                },
                "id": "157U5J__JpE5",
                "outputId": "e76d3936-5799-4e3f-fce8-e5598c49a88d"
            },
            "outputs": [
                {
                    "data": {
                        "text/plain": [
                            "216"
                        ]
                    },
                    "execution_count": 18,
                    "metadata": {},
                    "output_type": "execute_result"
                }
            ],
            "source": [
                "vectordb._collection.count()"
            ]
        },
        {
            "cell_type": "code",
            "execution_count": 19,
            "id": "4AVWlIiTJuGd",
            "metadata": {
                "colab": {
                    "base_uri": "https://localhost:8080/"
                },
                "id": "4AVWlIiTJuGd",
                "outputId": "7d8ad435-6fbd-4497-c950-3438c3e83053"
            },
            "outputs": [
                {
                    "name": "stdout",
                    "output_type": "stream",
                    "text": [
                        "{'ids': ['215'], 'embeddings': None, 'documents': ['Instructlab is the best open source tool for fine-tuning a LLM.'], 'uris': None, 'included': ['metadatas', 'documents'], 'data': None, 'metadatas': [{'source': 'ibm.com', 'page': 1}]}\n"
                    ]
                }
            ],
            "source": [
                "print(vectordb._collection.get(ids=['215']))"
            ]
        },
        {
            "cell_type": "markdown",
            "id": "or8uGpN-JxkG",
            "metadata": {
                "id": "or8uGpN-JxkG"
            },
            "source": [
                "#### Update\n"
            ]
        },
        {
            "cell_type": "code",
            "execution_count": 20,
            "id": "eJtB7DTmJvVW",
            "metadata": {
                "colab": {
                    "base_uri": "https://localhost:8080/"
                },
                "id": "eJtB7DTmJvVW",
                "outputId": "11b5769c-42ae-4b3d-d5ea-b4df0f5318bb"
            },
            "outputs": [
                {
                    "name": "stdout",
                    "output_type": "stream",
                    "text": [
                        "{'ids': ['215'], 'embeddings': None, 'documents': ['Instructlab is a perfect open source tool for fine-tuning a LLM.'], 'uris': None, 'included': ['metadatas', 'documents'], 'data': None, 'metadatas': [{'source': 'ibm.com', 'page': 1}]}\n"
                    ]
                }
            ],
            "source": [
                "update_chunk =  Document(\n",
                "    page_content=\"Instructlab is a perfect open source tool for fine-tuning a LLM.\",\n",
                "    metadata={\n",
                "        \"source\": \"ibm.com\",\n",
                "        \"page\": 1\n",
                "    }\n",
                ")\n",
                "\n",
                "vectordb.update_document(\n",
                "    '215',\n",
                "    update_chunk,\n",
                ")\n",
                "\n",
                "print(vectordb._collection.get(ids=['215']))"
            ]
        },
        {
            "cell_type": "markdown",
            "id": "Z2wZIYerJ2i_",
            "metadata": {
                "id": "Z2wZIYerJ2i_"
            },
            "source": [
                "#### Delete\n"
            ]
        },
        {
            "cell_type": "code",
            "execution_count": 21,
            "id": "-MUljvrVJ1BG",
            "metadata": {
                "colab": {
                    "base_uri": "https://localhost:8080/"
                },
                "id": "-MUljvrVJ1BG",
                "outputId": "816662e9-69e6-44ee-80ee-95730db91397"
            },
            "outputs": [
                {
                    "name": "stdout",
                    "output_type": "stream",
                    "text": [
                        "{'ids': [], 'embeddings': None, 'documents': [], 'uris': None, 'included': ['metadatas', 'documents'], 'data': None, 'metadatas': []}\n"
                    ]
                }
            ],
            "source": [
                "vectordb._collection.delete(ids=['215'])\n",
                "\n",
                "print(vectordb._collection.get(ids=['215']))"
            ]
        },
        {
            "cell_type": "markdown",
            "id": "dirU_HFNJ7Ds",
            "metadata": {
                "id": "dirU_HFNJ7Ds"
            },
            "source": [
                "# Exercises\n"
            ]
        },
        {
            "cell_type": "markdown",
            "id": "pySMCQLaJ-PI",
            "metadata": {
                "id": "pySMCQLaJ-PI"
            },
            "source": [
                "### Exercise 1 - Use another query to conduct similarity search."
            ]
        },
        {
            "cell_type": "code",
            "execution_count": 22,
            "id": "prZAL34iJ6Rs",
            "metadata": {
                "colab": {
                    "base_uri": "https://localhost:8080/"
                },
                "id": "prZAL34iJ6Rs",
                "outputId": "c7f15167-4d87-43b0-eb55-243e3bf9a7f4"
            },
            "outputs": [
                {
                    "data": {
                        "text/plain": [
                            "[Document(metadata={'source': 'companypolicies.txt'}, page_content='Smoking Restrictions: Smoking inside company buildings, offices, meeting rooms, and other enclosed'),\n",
                            " Document(metadata={'source': 'companypolicies.txt'}, page_content='Designated Smoking Areas: Smoking is only permitted in designated smoking areas, as marked by'),\n",
                            " Document(metadata={'source': 'companypolicies.txt'}, page_content='No Smoking in Company Vehicles: Smoking is not permitted in company vehicles, whether they are'),\n",
                            " Document(metadata={'source': 'companypolicies.txt'}, page_content='Policy Purpose: The Smoking Policy has been established to provide clear guidance and expectations')]"
                        ]
                    },
                    "execution_count": 22,
                    "metadata": {},
                    "output_type": "execute_result"
                }
            ],
            "source": [
                "query = \"Smoking policy\"\n",
                "docs = vectordb.similarity_search(query)\n",
                "docs"
            ]
        },
        {
            "cell_type": "code",
            "execution_count": 23,
            "id": "K0eVMX1GKAk4",
            "metadata": {
                "id": "K0eVMX1GKAk4"
            },
            "outputs": [],
            "source": [
                "! pip freeze > requirements.txt"
            ]
        }
    ],
    "metadata": {
        "colab": {
            "include_colab_link": true,
            "provenance": []
        },
        "kernelspec": {
            "display_name": "Python 3",
            "name": "python3"
        },
        "language_info": {
            "name": "python"
        }
    },
    "nbformat": 4,
    "nbformat_minor": 5
}