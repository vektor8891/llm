{
 "cells": [
  {
   "cell_type": "code",
   "execution_count": null,
   "id": "5edbcd19",
   "metadata": {},
   "outputs": [],
   "source": [
    "print(1)"
   ]
  }
 ],
 "metadata": {
  "language_info": {
   "name": "python"
  }
 },
 "nbformat": 4,
 "nbformat_minor": 5
}
