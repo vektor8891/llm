{
    "cells": [
        {
            "cell_type": "markdown",
            "metadata": {
                "id": "view-in-github",
                "colab_type": "text"
            },
            "source": [
                "<a href=\"https://colab.research.google.com/github/vektor8891/llm/blob/main/projects/18_adapters_pytorch/18_adapters_pytorch.ipynb\" target=\"_parent\"><img src=\"https://colab.research.google.com/assets/colab-badge.svg\" alt=\"Open In Colab\"/></a>"
            ]
        },
        {
            "cell_type": "code",
            "source": [
                "# !pip install torchtext==0.17.2\n",
                "# !pip install torchdata==0.7.1\n",
                "# !pip install portalocker==2.8.2"
            ],
            "metadata": {
                "id": "xHy9KnQHnsOm"
            },
            "id": "xHy9KnQHnsOm",
            "execution_count": 1,
            "outputs": []
        },
        {
            "cell_type": "markdown",
            "source": [
                "# Adapters in PyTorch\n",
                "\n",
                "- Adapters: one technique for parameter efficient fine-tuning (PEFT)\n",
                "- Adapters enable modular training within the model without changing the pre-existing pretrained parameters\n",
                "\n",
                "## Define helper functions"
            ],
            "metadata": {
                "id": "Obecf41ciDBU"
            },
            "id": "Obecf41ciDBU"
        },
        {
            "cell_type": "code",
            "execution_count": 2,
            "id": "59150307",
            "metadata": {
                "id": "59150307"
            },
            "outputs": [],
            "source": [
                "import matplotlib.pyplot as plt\n",
                "import pickle\n",
                "\n",
                "\n",
                "def plot(COST,ACC):\n",
                "\n",
                "    fig, ax1 = plt.subplots()\n",
                "    color = 'tab:red'\n",
                "    ax1.plot(COST, color=color)\n",
                "    ax1.set_xlabel('epoch', color=color)\n",
                "    ax1.set_ylabel('total loss', color=color)\n",
                "    ax1.tick_params(axis='y', color=color)\n",
                "\n",
                "    ax2 = ax1.twinx()\n",
                "    color = 'tab:blue'\n",
                "    ax2.set_ylabel('accuracy', color=color)  # you already handled the x-label with ax1\n",
                "    ax2.plot(ACC, color=color)\n",
                "    ax2.tick_params(axis='y', color=color)\n",
                "    fig.tight_layout()  # otherwise the right y-label is slightly clipped\n",
                "\n",
                "    plt.show()\n",
                "\n",
                "def save_list_to_file(lst, filename):\n",
                "    \"\"\"\n",
                "    Save a list to a file using pickle serialization.\n",
                "\n",
                "    Parameters:\n",
                "        lst (list): The list to be saved.\n",
                "        filename (str): The name of the file to save the list to.\n",
                "\n",
                "    Returns:\n",
                "        None\n",
                "    \"\"\"\n",
                "    with open(filename, 'wb') as file:\n",
                "        pickle.dump(lst, file)\n",
                "\n",
                "def load_list_from_file(filename):\n",
                "    \"\"\"\n",
                "    Load a list from a file using pickle deserialization.\n",
                "\n",
                "    Parameters:\n",
                "        filename (str): The name of the file to load the list from.\n",
                "\n",
                "    Returns:\n",
                "        list: The loaded list.\n",
                "    \"\"\"\n",
                "    with open(filename, 'rb') as file:\n",
                "        loaded_list = pickle.load(file)\n",
                "    return loaded_list"
            ]
        },
        {
            "cell_type": "markdown",
            "source": [
                "# Positional encodings"
            ],
            "metadata": {
                "id": "k1supvKOjMcc"
            },
            "id": "k1supvKOjMcc"
        },
        {
            "cell_type": "code",
            "source": [
                "import torch\n",
                "torch.set_num_threads(1)\n",
                "from torch import nn\n",
                "import math\n",
                "\n",
                "\n",
                "class PositionalEncoding(nn.Module):\n",
                "    \"\"\"\n",
                "    https://pytorch.org/tutorials/beginner/transformer_tutorial.html\n",
                "    \"\"\"\n",
                "\n",
                "    def __init__(self, d_model, vocab_size=5000, dropout=0.1):\n",
                "        super().__init__()\n",
                "        self.dropout = nn.Dropout(p=dropout)\n",
                "\n",
                "        pe = torch.zeros(vocab_size, d_model)\n",
                "        position = torch.arange(0, vocab_size, dtype=torch.float).unsqueeze(1)\n",
                "        div_term = torch.exp(\n",
                "            torch.arange(0, d_model, 2).float()\n",
                "            * (-math.log(10000.0) / d_model)\n",
                "        )\n",
                "        pe[:, 0::2] = torch.sin(position * div_term)\n",
                "        pe[:, 1::2] = torch.cos(position * div_term)\n",
                "        pe = pe.unsqueeze(0)\n",
                "        self.register_buffer(\"pe\", pe)\n",
                "\n",
                "    def forward(self, x):\n",
                "        x = x + self.pe[:, : x.size(1), :]\n",
                "        return self.dropout(x)"
            ],
            "metadata": {
                "colab": {
                    "base_uri": "https://localhost:8080/"
                },
                "id": "cW2426-sjKcT",
                "outputId": "4ea7a489-9a22-4fad-e57b-cd9212921964"
            },
            "id": "cW2426-sjKcT",
            "execution_count": 3,
            "outputs": [
                {
                    "output_type": "stream",
                    "name": "stderr",
                    "text": [
                        "\n",
                        "A module that was compiled using NumPy 1.x cannot be run in\n",
                        "NumPy 2.0.2 as it may crash. To support both 1.x and 2.x\n",
                        "versions of NumPy, modules must be compiled with NumPy 2.0.\n",
                        "Some module may need to rebuild instead e.g. with 'pybind11>=2.12'.\n",
                        "\n",
                        "If you are a user of the module, the easiest solution will be to\n",
                        "downgrade to 'numpy<2' or try to upgrade the affected module.\n",
                        "We expect that some modules will need time to support NumPy 2.\n",
                        "\n",
                        "Traceback (most recent call last):  File \"<frozen runpy>\", line 198, in _run_module_as_main\n",
                        "  File \"<frozen runpy>\", line 88, in _run_code\n",
                        "  File \"/usr/local/lib/python3.11/dist-packages/colab_kernel_launcher.py\", line 37, in <module>\n",
                        "    ColabKernelApp.launch_instance()\n",
                        "  File \"/usr/local/lib/python3.11/dist-packages/traitlets/config/application.py\", line 992, in launch_instance\n",
                        "    app.start()\n",
                        "  File \"/usr/local/lib/python3.11/dist-packages/ipykernel/kernelapp.py\", line 712, in start\n",
                        "    self.io_loop.start()\n",
                        "  File \"/usr/local/lib/python3.11/dist-packages/tornado/platform/asyncio.py\", line 205, in start\n",
                        "    self.asyncio_loop.run_forever()\n",
                        "  File \"/usr/lib/python3.11/asyncio/base_events.py\", line 608, in run_forever\n",
                        "    self._run_once()\n",
                        "  File \"/usr/lib/python3.11/asyncio/base_events.py\", line 1936, in _run_once\n",
                        "    handle._run()\n",
                        "  File \"/usr/lib/python3.11/asyncio/events.py\", line 84, in _run\n",
                        "    self._context.run(self._callback, *self._args)\n",
                        "  File \"/usr/local/lib/python3.11/dist-packages/ipykernel/kernelbase.py\", line 510, in dispatch_queue\n",
                        "    await self.process_one()\n",
                        "  File \"/usr/local/lib/python3.11/dist-packages/ipykernel/kernelbase.py\", line 499, in process_one\n",
                        "    await dispatch(*args)\n",
                        "  File \"/usr/local/lib/python3.11/dist-packages/ipykernel/kernelbase.py\", line 406, in dispatch_shell\n",
                        "    await result\n",
                        "  File \"/usr/local/lib/python3.11/dist-packages/ipykernel/kernelbase.py\", line 730, in execute_request\n",
                        "    reply_content = await reply_content\n",
                        "  File \"/usr/local/lib/python3.11/dist-packages/ipykernel/ipkernel.py\", line 383, in do_execute\n",
                        "    res = shell.run_cell(\n",
                        "  File \"/usr/local/lib/python3.11/dist-packages/ipykernel/zmqshell.py\", line 528, in run_cell\n",
                        "    return super().run_cell(*args, **kwargs)\n",
                        "  File \"/usr/local/lib/python3.11/dist-packages/IPython/core/interactiveshell.py\", line 2975, in run_cell\n",
                        "    result = self._run_cell(\n",
                        "  File \"/usr/local/lib/python3.11/dist-packages/IPython/core/interactiveshell.py\", line 3030, in _run_cell\n",
                        "    return runner(coro)\n",
                        "  File \"/usr/local/lib/python3.11/dist-packages/IPython/core/async_helpers.py\", line 78, in _pseudo_sync_runner\n",
                        "    coro.send(None)\n",
                        "  File \"/usr/local/lib/python3.11/dist-packages/IPython/core/interactiveshell.py\", line 3257, in run_cell_async\n",
                        "    has_raised = await self.run_ast_nodes(code_ast.body, cell_name,\n",
                        "  File \"/usr/local/lib/python3.11/dist-packages/IPython/core/interactiveshell.py\", line 3473, in run_ast_nodes\n",
                        "    if (await self.run_code(code, result,  async_=asy)):\n",
                        "  File \"/usr/local/lib/python3.11/dist-packages/IPython/core/interactiveshell.py\", line 3553, in run_code\n",
                        "    exec(code_obj, self.user_global_ns, self.user_ns)\n",
                        "  File \"<ipython-input-3-b023e119806f>\", line 1, in <cell line: 0>\n",
                        "    import torch\n",
                        "  File \"/usr/local/lib/python3.11/dist-packages/torch/__init__.py\", line 1477, in <module>\n",
                        "    from .functional import *  # noqa: F403\n",
                        "  File \"/usr/local/lib/python3.11/dist-packages/torch/functional.py\", line 9, in <module>\n",
                        "    import torch.nn.functional as F\n",
                        "  File \"/usr/local/lib/python3.11/dist-packages/torch/nn/__init__.py\", line 1, in <module>\n",
                        "    from .modules import *  # noqa: F403\n",
                        "  File \"/usr/local/lib/python3.11/dist-packages/torch/nn/modules/__init__.py\", line 35, in <module>\n",
                        "    from .transformer import TransformerEncoder, TransformerDecoder, \\\n",
                        "  File \"/usr/local/lib/python3.11/dist-packages/torch/nn/modules/transformer.py\", line 20, in <module>\n",
                        "    device: torch.device = torch.device(torch._C._get_default_device()),  # torch.device('cpu'),\n",
                        "/usr/local/lib/python3.11/dist-packages/torch/nn/modules/transformer.py:20: UserWarning: Failed to initialize NumPy: _ARRAY_API not found (Triggered internally at ../torch/csrc/utils/tensor_numpy.cpp:84.)\n",
                        "  device: torch.device = torch.device(torch._C._get_default_device()),  # torch.device('cpu'),\n"
                    ]
                }
            ]
        },
        {
            "cell_type": "markdown",
            "source": [
                "# Import IMDB data set"
            ],
            "metadata": {
                "id": "FLf7rXaojaq9"
            },
            "id": "FLf7rXaojaq9"
        },
        {
            "cell_type": "code",
            "source": [
                "from urllib.request import urlopen\n",
                "import io\n",
                "import tarfile\n",
                "import tempfile\n",
                "\n",
                "\n",
                "urlopened = urlopen('https://cf-courses-data.s3.us.cloud-object-storage.appdomain.cloud/35t-FeC-2uN1ozOwPs7wFg.gz')\n",
                "tar = tarfile.open(fileobj=io.BytesIO(urlopened.read()))\n",
                "tempdir = tempfile.TemporaryDirectory()\n",
                "tar.extractall(tempdir.name)\n",
                "tar.close()"
            ],
            "metadata": {
                "id": "l2cFWCUXjbQr"
            },
            "id": "l2cFWCUXjbQr",
            "execution_count": 4,
            "outputs": []
        },
        {
            "cell_type": "code",
            "source": [
                "from torch.utils.data import Dataset\n",
                "import os\n",
                "\n",
                "\n",
                "class IMDBDataset(Dataset):\n",
                "    def __init__(self, root_dir, train=True):\n",
                "        \"\"\"\n",
                "        root_dir: The base directory of the IMDB dataset.\n",
                "        train: A boolean flag indicating whether to use training or test data.\n",
                "        \"\"\"\n",
                "        self.root_dir = os.path.join(root_dir, \"train\" if train else \"test\")\n",
                "        self.neg_files = [os.path.join(self.root_dir, \"neg\", f) for f in os.listdir(os.path.join(self.root_dir, \"neg\")) if f.endswith('.txt')]\n",
                "        self.pos_files = [os.path.join(self.root_dir, \"pos\", f) for f in os.listdir(os.path.join(self.root_dir, \"pos\")) if f.endswith('.txt')]\n",
                "        self.files = self.neg_files + self.pos_files\n",
                "        self.labels = [0] * len(self.neg_files) + [1] * len(self.pos_files)\n",
                "        self.pos_inx=len(self.pos_files)\n",
                "\n",
                "    def __len__(self):\n",
                "        return len(self.files)\n",
                "\n",
                "    def __getitem__(self, idx):\n",
                "        file_path = self.files[idx]\n",
                "        label = self.labels[idx]\n",
                "        with open(file_path, 'r', encoding='utf-8') as file:\n",
                "            content = file.read()\n",
                "        return label, content"
            ],
            "metadata": {
                "id": "4UM6Sg5gjjoS"
            },
            "id": "4UM6Sg5gjjoS",
            "execution_count": 5,
            "outputs": []
        },
        {
            "cell_type": "code",
            "source": [
                "root_dir = tempdir.name + '/' + 'imdb_dataset'\n",
                "train_iter = IMDBDataset(root_dir=root_dir, train=True)  # For training data\n",
                "test_iter = IMDBDataset(root_dir=root_dir, train=False)  # For test data\n",
                "\n",
                "start=train_iter.pos_inx\n",
                "for i in range(-10,10):\n",
                "    print(train_iter[start+i])"
            ],
            "metadata": {
                "id": "w3h2TqAOmMTX",
                "outputId": "19f3354b-daef-471f-eb1c-a574e2e62b3c",
                "colab": {
                    "base_uri": "https://localhost:8080/"
                }
            },
            "id": "w3h2TqAOmMTX",
            "execution_count": 6,
            "outputs": [
                {
                    "output_type": "stream",
                    "name": "stdout",
                    "text": [
                        "(0, 'THHE remake was a superior movie remake in every way. Most remakes end up being total garbage but under the very talented direction of Alexandre Aja became one of the best ever made in terms of remakes and also as far as the mutant inbreed human sub-genre of horror is concerned. In steps part 2 directed by another individual Martin Weisz and written by the father and son combo of Jonathan and Wes \"I cannot make a good horror movie to save my life anymore\" Craven and if this is any indication of Weisz directing skills and young Craven\\'s writing skills we are all in for a painful future as THHE 2 not only fails to be as good as the first but also fails to entertain on ANY level.<br /><br />We start off with a fairly graphic mutant baby birth which though is rather cool will not prepare you for the utter garbage that is to come, only hint to what could have been in this film. We then get to see a crew of scientists who all to briefly are introduced and dispatched by our radiated rejects. In steps our main cast of army reservist to save the day, this is where the major problems begin.<br /><br />From very sub par acting (yes even for this kind of movie) to the horrible characters to the lack of true carnage for most of its running time THHE 2 becomes a labor to watch as a lot of nothing happens as idiotic soldiers make mistake after mistake only to meet there demise not by the mutants but themselves. Think the Marines in Aliens only the exact opposite and you have the idea of how well these soldiers are trained. This is the true shame of the film as most of the Hills occupants do not get the kills you would like to see, like in the first film, in fact if this did not have THHE 2 attachment in the beginning and the brief overview in the beginning tying this loosely to the first this could have nearly been a Sci-Fi Channel original.<br /><br />The Mutant Mountainbillies as well are not as amusing this time around in fact in a lot of way they are far inferior to our prior batch as they all come off as being rather under designed and uninteresting. Also the one that took the cake was the Sloth-like Mutant (you know Sloth from the Goonies) who helps them out in the 3rd act. I was waiting for him to ask for a Baby Ruth or start going on about Rocky Road Ice Cream. Truly disappointing and shameful is the only way to describe most of the goings on here.<br /><br />The gore is in the film but not nearly as visceral as the original in fact it seemed toned down for the most part as other than the mutant baby birth scene there really isn\\'t anything that stood out like in the first. Another major strike against this movie. So what did work here, the answer is nothing at all. This felt like a sequel designed specifically to make money off the success of the first and not to make an actually \"good\" film.<br /><br />I can go on about the crappy Drill SGT., the radio man that has a speech impediment (that\\'s right, he is the kind of guy I want radioing in for help in a real crisis) or the pacifist fighter that resembles the exact same character mold as our \"hero\" in the first film but I believe you get the point. This movie is not even in the same league or even the same planet as the first. It should have been given another title and been added to the Saturday Night Line up on The Sci-Fi Channel. A true shame as a solid sequel could have been made but alas it looks like another horror movie that drops the ball on nearly every level and will get one of my lowest scores as I give THHE 2 the same score as its part: 2/10 Dreadful: Words cannot describe how bad this movie is a total polar opposite of its predecessor in every way, uninspired and down-right unnecessary. Next time guys if your going to make a sequel this bad...don\\'t even bother. Please don\\'t go support this garbage at the theaters, save your money and thank me later!!!!')\n",
                        "(0, \"After reading the book, which had a lot of meaning for me, the movie didn't give me any of the feeling which the book conveyed. This makes me wonder if Kaufman even liked this book for he successfully made it into something else.Either that or he is simply bad. Most importantly where is the lightness?! From the very first scene, music drownes out most of the dialogue and feeling, and this continues right through the movie. I think the makers thought that by having upbeat music playing right through the movie, this would make the story feel light- however they have completely failed here. Instead the music manages to give everything that 'movie feel', in a way dramatising events so that we linger on them, so that everything actually feels heavy.<br /><br />Another example of the how this adaptation fails is by embellishing the story line making it more dramatic. In the movie we see Franz passing Tomas on the street, who is on his way to see Sabina. The introduction of this chance meeting/passing, which im sure didn't happen in the book, gives Tomas' story more significance than it does make it light.<br /><br />There are many other examples where the continuity of the story has been changed, imo for the worst, however this might have been done because the book simply doesn't convert well into a movie, such is Kundera's style. This makes we wonder if all the generous reviewers on this site were writing with their book AND movie experience in mind rather than writing about just the film. A film which is as long as it is uncompelling. For those who haven't read the book yet I recommend just reading that. For those who have, I have to say you will just be wasting your time and probably end up here writing similar stay-clear warnings.\")\n",
                        "(0, 'In the first 20 minutes, every cliche possible was trotted out by the hack writer and director. There was the NTSB primary investigator with the tortured family life; the politically-tortured NTSB board member played by [I can kill ANY TV] Ted McGinley; the tortured father of a crash victim; and the torturing sleazy ambulance-chasing lawyer.<br /><br />Hollywood still has no concept of the fragility of aircraft. The crashed plane was a 737 and it was mostly sitting on the ground like a hippo who decided to take a nap. The first third of the fuselage was intact, the rear half of the plane was intact and the debris field showed no wings or engines. Most of the people should have walked away in light of how many people survived that plane that got shredded in Iowa after it lost its hydraulics. Most of this TV plane wasn\\'t even burned.<br /><br />It reminded me of the scene in \"Air Force One\" where the 747 hits the water and then skips along like it\\'s made of inch-thick steel.<br /><br />The show was so bad it was impossible to watch. Even my wife, who is more accepting than I, was commenting on technical flaws. What had me stunned was how this POS could ever get made. Are the producers of these things so used to clich\u00e9s that they can\\'t even recognize them? Somebody read this script and said: Yes, I want to spend a million bucks making this real. I wish I was the guy\\'s next appointment. I have title to a wonderful bridge in New York that I\\'d sell cheap.')\n",
                        "(0, \"I was so excited and hyped up about watching this film when the promos first came out in November! It looked awesome and the songs! I was quite disappointed when I went to watch it! This is a film which weaves 6 couples together. It has a multi cast of 12 people! A huge amount of stars have worked on this film. I think the director, Nikhil Advani, has not managed the situation well and should not have had many people in this movie as this would of made it easier for him. Compared to Nikhil's directorial Debut 'Kal Ho Naa Ho' , 'Salaam-e-Ishq' falls quite behind. I think Nikhil should have a smaller star cast. I think the best factors of this film is the songs! The songs are excellent and I think that all of the songs are awesome, Shankar-Ehsaan-Loy done an excellent job and have done an excellent jobs over the years. I think the ratings of this movie may go up because of the excellent songs! One thing I was disappointed with, is that the director should not have included nudity in this film which is done by Sohail Khan and Isha Koppikar. I found this extremely rude watching this with family! Although, some may find this nude as comedy, it is not something you would want to watch with parents! I think the best acting was performed by Salman and Priyanka Overall, I think its an alright movie!\")\n",
                        "(0, \"After a quasi-Gothic, all-fruity music video, the movie starts with Cassidy the lead singer killing herself. In a perfect world that would be that and the end credits would roll. We don't live n that world. The insipid band members decide to go to some clown to contact her dead essence. When I say clown, I mean actual clown. He tell them they're all going to die via Cassidy's ghost (the spirit possesses Dora, one of the band-mates) We couldn't care less as the characters are all boring, vapid, and extremely horribly acted. Written by Adam Hackbarth (an incredibly apropos surname if there ever was one), and directed by Corbin Timbrook (who after The attendant, and Tower of blood, HAS to know that he keeps making crap for a living), this movie s a constant battle between the film's incompetence and the viewer's need to stay awake. Not enough blood to appease gore-hounds, nor enough nudity to satisfy pervs. This movie in fact has absolutely nothing to recommend to absolutely anyone.<br /><br />My Grade: F <br /><br />Eye Candy: Amanda Carraway gets topless <br /><br />Where i saw it: Starz on Demand\")\n",
                        "(0, 'I saw this film first in the Soviet Union and many erotic scenes were simply edited out by the censorship committee. But then, in Poland in 2000, I watched it in a complete form. And so what? The plot is incredibly unwise - 2 men survive the genetic catastrophe and find themselves on the planet full of feminist strong, straight and fundamentally severe ladies. The men now try to fight it and then the whole bunch of extremely silly clich\u00e9s follow - sex-drive, constant masculine desire for sex, feminists who are shown like complete idiots (you may agree with them or not, but idiots certainly they are not), and so on. The performance even of the stellar Jerzy Stuhr is here wooden and strangely bad - he just pulls unfunny faces and repeats on saying phrases like \"I am in the elevator with a nude chick and I haven\\'t done anything to her!\". This was intended to be a comedy, instead, it turned out to be a vapid farce, full of predictable jokes and below-the-waist innuendos. Do not waste your time on it - this is just bad.')\n",
                        "(0, 'This is the last time I rent a video without checking in at the IMDB reviews. The Limey is directed by Steven Soderbergh who also wrote wrote the truly awful Nightwatch with Ewan Macgregor and directed such trash as Out of Sight with the anti-talented Jennifer Lopez. Terence Stamp is a fine actor and it is a shame he involved himself in such a bad film. There is frequent confusing editing that seems like it was a last minute decision in order to make up for the lack or story, filming and just plain common sense. This film does everything wrong. What were they thinking?')\n",
                        "(0, 'The old axiom that bored people are boring people is well demonstrated in \"Women in Love.\" The script, taken from D. H. Lawrence\\'s novel, contains an endless flow of concepts that are, at best, sophomoric.<br /><br />What a pity so much effort went into so vacuous an exercise; what an empty array of characters given such attention. In spite of high production values, this film comes across as tedious as its personnel.<br /><br />A revisit in 2001 merely confirms a 1969 impression of juvenille minds in adult bodies, dawdling nowhere, and fumbling every step of the way.')\n",
                        "(0, 'When this film was released in 1997 the \\'special effects\\', such as they are, were poor. They would have been dated even for the 1980s, and even some films made in the 1970s and 1960s have had the same or better SFX work. Certainly no-one involved in the production of this film was looking for an Oscar. It\\'s a wild departure from director Fred Olen Ray\\'s usual stuff, most of which has the word \"Bikini\" in the title (Bikini Pirates, Bikini Chain Gang, Bikini Girls from the Lost Planet, etc) and are little more than T&A flicks, but here we are with a film rated \"U\" and aimed squarely at the kiddies. You\\'ve got to give him credit for diversifying!! This was a minor direct-to-video cult hit which later resulted in a couple of sequels - Invisible Mom 2 and Invisible Dad. Dee Wallace-Stone (whose career went downhill fast after 1982s \"E.T.) plays the \\'invisible mom\\' of the films title and would return for the sequel. Russ Tamblyn (whose career had been in free-fall even longer since 1961s \"West Side Story\") plays the villainous Dr. Woorter. It\\'s probably fair to say that most of the cast were at the point in their careers where they would be prepared to work on almost anything just to pay the bills that month - except maybe young Trenton Knight as Josh. It\\'s rather telling though that although he worked prior to this movie, this child actor didn\\'t work again after the sequel, \"Invisible Mom 2\". Maybe the film was cursed. After all, he wasn\\'t that bad in this film. For a child actor, he\\'s pretty good - no better or worse than any of his more experienced co-stars.<br /><br />As mentioned above, the \"invisibility\" effects are naff to say the least, the direction is poor, the writing obvious and the acting nothing to write home about. There are plenty of worse films out there though, and for anyone under the age of about ten, this film will no doubt be quite watchable. Most adults will probably want to do a disappearing act of their own while it is on though, and I wouldn\\'t blame them one bit!')\n",
                        "(0, 'I watched this film version of R.D. Blackmore\\'s classic novel as a substitute until the 2001 A&E version was released on video. And what a poor substitution it proved to be!!!!<br /><br />This version does not have the authentic, I-feel-like-I\\'m-there aspect of the A&E movie. The actors are, for the most part, wooden (with Sean Bean the exception) and the \"romance\" seems forced and contrived. In fact, there is no kissing until the end of the movie!!!! The triangle between John Ridd, Lorna Doone (or Lady Lorna Dugal, whichever you prefer)and the evil Carver Doone isn\\'t mentioned or expanded upon. We don\\'t get much insight into Carver here, or as to why he has some (if any) romantic feelings for Lorna. This movie cuts out many of the key and interesting characters of the novel, such as Counsellor Doone, and John\\'s sharp-tongued youngest sister Lizzie which were crucial to the plot. The screenplay itself is lacking in conviction. The political intrigue also doesn\\'t figure in the script. The way Lorna came into being with the Doones isn\\'t true to the original story. Now, don\\'t get me wrong, Clive Owen is a handsome and talented actor (watch Gosford Park and King Arthur for confirmation) but he comes across as bland and stoic throughout, and long hair (it may have been a bad wig) just doesn\\'t suit him!!!! Polly Walker is a lovely and accomplished actress (see Enchanted April and Patriot Games, in which she also costarred with Sean Bean), but she appears colorless and lackluster. She has a cold sore on her lip that make-up can\\'t hide, and the costumes don\\'t seem authentic. The late Robert Stephens does a respectable turn as Sir Ensor Doone, although he only refers to Lorna as his favorite rather than his granddaughter, which she was reputed to be in the book. Also, it seems to me that Owen and Walker are too old for their roles (maybe it\\'s the make-up) and the scenery is brown, cold, gray and barren, without so much of a hint of a sunny sky. I understand that it is set in Southwest England, but it is green there and they do get their sunshine!!! The portrayal of Tom Faggus\\' character and his \"death\", which doesn\\'t happen in the novel, depresses the film even more. The one positive note is Sean Bean\\'s performance as Carver. Although it doesn\\'t even come close to matching Aidan Gillen\\'s portrayal in the A&E movie, Bean does make one mean villain. In short, watch this only if you\\'ve got a few hours to kill, but don\\'t expect anything exciting or for it to be true to the novel. See any other version ( but I highly recommend A&E\\'s film) over this tired adaptation.')\n",
                        "(1, 'Three girls (an all-female media-crew, including cult-actress Barbara Bach, no less) visiting a small town to cover a festival, end up renting rooms in a house they should have avoided like the plague. Well-made little shocker, suffering a bit from some redundant dialogue-scenes and a rather thin plot-line (that doesn\\'t do very well in hiding its secrets). One underlying theme in particular is quite disturbing (as in: vintage shock-material), and this is basically what the film thrives on. Performances & cinematography are pretty much above par (compared to many other late 70\\'s/early 80\\'s films in the same vein), but what really makes me recommend this film is the fairly long climax-scene in the basement-setting. From the moment that \"Keller Junior\" character was introduced, his performance made my jaw drop open and it didn\\'t close until the end of the film. A very pleasant surprise to see actor Sydney Lassick (who was funnily wacko in \"One Flew Over The Cuckoo\\'s nest\", and now utterly demented in \"The Unseen\") take on one of the leading roles.')\n",
                        "(1, 'Red Skelton was still another major star who made the transition from movies to television with ease.<br /><br />His shows certainly brought a laughter to the American households of years back.<br /><br />He would begin the show with an opening monologue. Afterwards, we would have a variety of characters. Remember Gertrude and Heathcliff in the monologue? How can we ever forget San Fernando Red? I remember one episode where as a king Red introduced his queen by referring to her as your fatness.<br /><br />Go know that Red would use his comedic talents to really hide from his tragic life. He lost a son to leukemia at age 11 or so. His wife, Georgia, died by suicide.')\n",
                        "(1, \"Surprisingly well done for an independent film, An Insomniac's Nightmare paints a startling picture of what it would be like to suffer from insomnia. Wonderfully well written, and directed, it creates the atmosphere of a dream as the viewer is taken through one night in the life of an insomniac.<br /><br />Starring Dominic Monaghan as Jack, we get to see everything he sees as the long hours of a lonely night drag on. The narration is almost hypnotizing, and from the opening lines, it is impossible to turn away. Fascinating and slightly disturbing, it shows how someone copes with a lack of sleep, balancing on the brink between sanity and madness.<br /><br />With twists and turns around every corner, An Insomniac's Nightmare is provocative and engaging. It comes very highly recommended.\")\n",
                        "(1, \"This is one of my all time favorite movies and I would recommend it to anyone. On my list of favorite movies (mental list, mind) the only ones on par with it are movies such as The Lord of the Rings series, Spirited Away and Fly Away Home.<br /><br />I can really relate to the main character Jess. At the start of the movie she's a shy girl with a slightly odd background who has a lot more friends who are boys than that are girls. She really sucks you into her life. I also certainly can't fault any of the protagonist's acting, or anyone else's in the film.<br /><br />The soccer was interesting to watch even for someone like me who has no idea of the rules. The movie is never boring. The romance is really cute and didn't make me blush tooooo hard! One thing that really made it though was the Indian factor. Jess' parents are Indian and there are many colourful Indian conventions throughout the film providing a very interesting cultural insight as well as everything else. The Indian people are also hilarious! Essentially this is a coming of age film about choosing the path you want and fighting for it.<br /><br />Feel good comedies are becoming my favorite movie genre thanks to this film. They're funny, they're refreshing and they make you feel good! ^_~\")\n",
                        "(1, \"I managed to tape this off my satellite, but I would love to get an original release in a format we can use here in the States. Eddie truly is Glorious in this performance from San Francisco. I don't remember laughing so hard at a stand up routine. My wife and I both enjoyed this tape and his work on Glorious I just wish I could buy a copy and help support Eddie financially through my purchase. We need more of his shows available.\")\n",
                        "(1, 'Paris is the place to be to enjoy beautiful art and music, and to fall madly in love - as is the case in this film. Boy meets girl, they fall in love, but something stands in their way of eternal happiness, the classic story.<br /><br />The wonderful music of George Gerschwin complements the great dancing by Gene Kelly and Leslie Caron. \"An American in Paris\" is a humorous, light-hearted, loving film well worth watching.<br /><br />8/10<br /><br />')\n",
                        "(1, \"I must say as a girl with a cowboy of my own,I love this flick.It left me lovin them boots and wranglers even more.I told my friend about it and she loved it just as much,we were 'bout 13 at the time.I think it's the greatest love story ever told!I own it and never get tired of Bud & Sissy.\")\n",
                        "(1, '***Might not consider this having a spoiler, but I\\'d rather be cautious than careless*** I never saw this movie when I was little. I fell in love with it the first time I saw it with my three year old daughter. I can watch it over and over again.<br /><br />For the little acting Ilene Woods did in her lifetime, she was a wonderful voice for Cinderella; very appealing; very believable. The music really fit the movie perfectly. The acting was great; loved the mice!! You really \"hated\" Lady Tremain and the step-sisters; they were just awful. The cartoonists depicted the spoiled behavior very well.<br /><br />This is a wonderful movie, especially if you are into love stories. My daughter has seen the movie about 25 times and still gets excited at the end.')\n",
                        "(1, 'Blood Castle (aka Scream of the Demon Lover, Altar of Blood, Ivanna--the best, but least exploitation cinema-sounding title, and so on) is a very traditional Gothic Romance film. That means that it has big, creepy castles, a headstrong young woman, a mysterious older man, hints of horror and the supernatural, and romance elements in the contemporary sense of that genre term. It also means that it is very deliberately paced, and that the film will work best for horror mavens who are big fans of understatement. If you love films like Robert Wise\\'s The Haunting (1963), but you also have a taste for late 1960s/early 1970s Spanish and Italian horror, you may love Blood Castle, as well.<br /><br />Baron Janos Dalmar (Carlos Quiney) lives in a large castle on the outskirts of a traditional, unspecified European village. The locals fear him because legend has it that whenever he beds a woman, she soon after ends up dead--the consensus is that he sets his ferocious dogs on them. This is quite a problem because the Baron has a very healthy appetite for women. At the beginning of the film, yet another woman has turned up dead and mutilated.<br /><br />Meanwhile, Dr. Ivanna Rakowsky (Erna Sch\u00fcrer) has appeared in the center of the village, asking to be taken to Baron Dalmar\\'s castle. She\\'s an out-of-towner who has been hired by the Baron for her expertise in chemistry. Of course, no one wants to go near the castle. Finally, Ivanna finds a shady individual (who becomes even shadier) to take her. Once there, an odd woman who lives in the castle, Olga (Cristiana Galloni), rejects Ivanna and says that she shouldn\\'t be there since she\\'s a woman. Baron Dalmar vacillates over whether she should stay. She ends up staying, but somewhat reluctantly. The Baron has hired her to try to reverse the effects of severe burns, which the Baron\\'s brother, Igor, is suffering from.<br /><br />Unfortunately, the Baron\\'s brother appears to be just a lump of decomposing flesh in a vat of bizarre, blackish liquid. And furthermore, Ivanna is having bizarre, hallucinatory dreams. Just what is going on at the castle? Is the Baron responsible for the crimes? Is he insane? <br /><br />I wanted to like Blood Castle more than I did. As I mentioned, the film is very deliberate in its pacing, and most of it is very understated. I can go either way on material like that. I don\\'t care for The Haunting (yes, I\\'m in a very small minority there), but I\\'m a big fan of 1960s and 1970s European horror. One of my favorite directors is Mario Bava. I also love Dario Argento\\'s work from that period. But occasionally, Blood Castle moved a bit too slow for me at times. There are large chunks that amount to scenes of not very exciting talking alternated with scenes of Ivanna slowly walking the corridors of the castle.<br /><br />But the atmosphere of the film is decent. Director Jos\u00e9 Luis Merino managed more than passable sets and locations, and they\\'re shot fairly well by Emanuele Di Cola. However, Blood Castle feels relatively low budget, and this is a Roger Corman-produced film, after all (which usually means a low-budget, though often surprisingly high quality \"quickie\"). So while there is a hint of the lushness of Bava\\'s colors and complex set decoration, everything is much more minimalist. Of course, it doesn\\'t help that the Retromedia print I watched looks like a 30-year old photograph that\\'s been left out in the sun too long. It appears \"washed out\", with compromised contrast.<br /><br />Still, Merino and Di Cola occasionally set up fantastic visuals. For example, a scene of Ivanna walking in a darkened hallway that\\'s shot from an exaggerated angle, and where an important plot element is revealed through shadows on a wall only. There are also a couple Ingmar Bergmanesque shots, where actors are exquisitely blocked to imply complex relationships, besides just being visually attractive and pulling your eye deep into the frame.<br /><br />The performances are fairly good, and the women--especially Sch\u00fcrer--are very attractive. Merino exploits this fact by incorporating a decent amount of nudity. Sch\u00fcrer went on to do a number of films that were as much soft corn porn as they were other genres, with English titles such as Sex Life in a Woman\\'s Prison (1974), Naked and Lustful (1974), Strip Nude for Your Killer (1975) and Erotic Exploits of a Sexy Seducer (1977). Blood Castle is much tamer, but in addition to the nudity, there are still mild scenes suggesting rape and bondage, and of course the scenes mixing sex and death.<br /><br />The primary attraction here, though, is probably the story, which is much a slow-burning romance as anything else. The horror elements, the mystery elements, and a somewhat unexpected twist near the end are bonuses, but in the end, Blood Castle is a love story, about a couple overcoming various difficulties and antagonisms (often with physical threats or harms) to be together.')\n",
                        "(1, \"Brothers with psychokinetic powers (yes, really) duel not just for Debra Winger's affections but really over a secret from their childhood that left them at odds over their powers.<br /><br />There are surreal touches (the fire brigade that act like a singing Greek chorus), but there is also humour, wit and romance. The soundtrack is great also. And similar to the way American Werewolf in London used every great Wolf song they could get ~ but with fire and I don't think I'll ever forget Dennis Quaid (mmmmm Dennis Quaid), setting his own trailer a rockin' too 'She's a lady' ~ priceless ;)<br /><br />Best line missing from the quotes section btw ~ 'Once you've had a clown, you never go back!'<br /><br />I love this movie (I just ordered the DVD from the US) and if the comments written by the kind of people who'd be happier with Legally Blond 3 don't put you off ~ give it a try :)\")\n"
                    ]
                }
            ]
        },
        {
            "cell_type": "code",
            "source": [
                "imdb_label = {0: \" negative review\", 1: \"positive review\"}\n",
                "imdb_label[1]"
            ],
            "metadata": {
                "id": "GxBJobK4nddI",
                "outputId": "106be077-8446-4ba8-900e-acd97966efa5",
                "colab": {
                    "base_uri": "https://localhost:8080/",
                    "height": 35
                }
            },
            "id": "GxBJobK4nddI",
            "execution_count": 7,
            "outputs": [
                {
                    "output_type": "execute_result",
                    "data": {
                        "text/plain": [
                            "'positive review'"
                        ],
                        "application/vnd.google.colaboratory.intrinsic+json": {
                            "type": "string"
                        }
                    },
                    "metadata": {},
                    "execution_count": 7
                }
            ]
        },
        {
            "cell_type": "code",
            "source": [
                "num_class = len(set([label for (label, text) in train_iter]))\n",
                "num_class"
            ],
            "metadata": {
                "id": "y3visNRcneBa",
                "outputId": "a052b653-c430-4591-df82-cecd8b55b3d2",
                "colab": {
                    "base_uri": "https://localhost:8080/"
                }
            },
            "id": "y3visNRcneBa",
            "execution_count": 8,
            "outputs": [
                {
                    "output_type": "execute_result",
                    "data": {
                        "text/plain": [
                            "2"
                        ]
                    },
                    "metadata": {},
                    "execution_count": 8
                }
            ]
        },
        {
            "cell_type": "code",
            "source": [
                "from torchtext.data.utils import get_tokenizer\n",
                "\n",
                "\n",
                "tokenizer = get_tokenizer(\"basic_english\")\n",
                "def yield_tokens(data_iter):\n",
                "    \"\"\"Yield tokens for each data sample.\"\"\"\n",
                "    for _, text in data_iter:\n",
                "        yield tokenizer(text)"
            ],
            "metadata": {
                "id": "gbOEan6bnfga"
            },
            "id": "gbOEan6bnfga",
            "execution_count": 9,
            "outputs": []
        },
        {
            "cell_type": "code",
            "source": [
                "from torchtext.vocab import GloVe, Vectors\n",
                "\n",
                "\n",
                "# Note that GloVe embeddings are typically downloaded using:\n",
                "#glove_embedding = GloVe(name=\"6B\", dim=100)\n",
                "# However, the GloVe server is frequently down. The code below offers a workaround\n",
                "\n",
                "\n",
                "class GloVe_override(Vectors):\n",
                "    url = {\n",
                "        \"6B\": \"https://cf-courses-data.s3.us.cloud-object-storage.appdomain.cloud/tQdezXocAJMBMPfUJx_iUg/glove-6B.zip\",\n",
                "    }\n",
                "\n",
                "    def __init__(self, name=\"6B\", dim=100, **kwargs) -> None:\n",
                "        url = self.url[name]\n",
                "        name = \"glove.{}.{}d.txt\".format(name, str(dim))\n",
                "        #name = \"glove.{}/glove.{}.{}d.txt\".format(name, name, str(dim))\n",
                "        super(GloVe_override, self).__init__(name, url=url, **kwargs)\n",
                "\n",
                "class GloVe_override2(Vectors):\n",
                "    url = {\n",
                "        \"6B\": \"https://cf-courses-data.s3.us.cloud-object-storage.appdomain.cloud/tQdezXocAJMBMPfUJx_iUg/glove-6B.zip\",\n",
                "    }\n",
                "\n",
                "    def __init__(self, name=\"6B\", dim=100, **kwargs) -> None:\n",
                "        url = self.url[name]\n",
                "        #name = \"glove.{}.{}d.txt\".format(name, str(dim))\n",
                "        name = \"glove.{}/glove.{}.{}d.txt\".format(name, name, str(dim))\n",
                "        super(GloVe_override2, self).__init__(name, url=url, **kwargs)\n",
                "\n",
                "try:\n",
                "    glove_embedding = GloVe_override(name=\"6B\", dim=100)\n",
                "except:\n",
                "    try:\n",
                "        glove_embedding = GloVe_override2(name=\"6B\", dim=100)\n",
                "    except:\n",
                "        glove_embedding = GloVe(name=\"6B\", dim=100)"
            ],
            "metadata": {
                "id": "Ev6TTrdinkOw",
                "outputId": "9fa3d0c2-94fd-41d6-f18a-93f58bf25245",
                "colab": {
                    "base_uri": "https://localhost:8080/"
                }
            },
            "id": "Ev6TTrdinkOw",
            "execution_count": 10,
            "outputs": [
                {
                    "output_type": "stream",
                    "name": "stderr",
                    "text": [
                        ".vector_cache/glove-6B.zip: 134MB [00:01, 77.8MB/s]                          \n",
                        "100%|\u2588\u2588\u2588\u2588\u2588\u2588\u2588\u2588\u2588\u2589| 399999/400000 [00:22<00:00, 17698.58it/s]\n"
                    ]
                }
            ]
        },
        {
            "cell_type": "code",
            "source": [
                "from torchtext.vocab import vocab\n",
                "\n",
                "# Build vocab from glove_vectors\n",
                "vocab = vocab(glove_embedding .stoi, 0,specials=('<unk>', '<pad>'))\n",
                "vocab.set_default_index(vocab[\"<unk>\"])"
            ],
            "metadata": {
                "id": "Yw0EYBBnoZoY"
            },
            "id": "Yw0EYBBnoZoY",
            "execution_count": 11,
            "outputs": []
        },
        {
            "cell_type": "code",
            "source": [
                "vocab_size=len(vocab)\n",
                "vocab_size"
            ],
            "metadata": {
                "id": "cXp9S78aodK_",
                "outputId": "62503fb8-17f8-47f0-9324-3a899e162e2a",
                "colab": {
                    "base_uri": "https://localhost:8080/"
                }
            },
            "id": "cXp9S78aodK_",
            "execution_count": 12,
            "outputs": [
                {
                    "output_type": "execute_result",
                    "data": {
                        "text/plain": [
                            "400002"
                        ]
                    },
                    "metadata": {},
                    "execution_count": 12
                }
            ]
        },
        {
            "cell_type": "code",
            "source": [
                "vocab(['he'])"
            ],
            "metadata": {
                "id": "fwk7JJV8oek0",
                "outputId": "5e2c5259-5473-40ab-eb56-b13b7de819c9",
                "colab": {
                    "base_uri": "https://localhost:8080/"
                }
            },
            "id": "fwk7JJV8oek0",
            "execution_count": 13,
            "outputs": [
                {
                    "output_type": "execute_result",
                    "data": {
                        "text/plain": [
                            "[20]"
                        ]
                    },
                    "metadata": {},
                    "execution_count": 13
                }
            ]
        },
        {
            "cell_type": "markdown",
            "source": [
                "### Data set splits"
            ],
            "metadata": {
                "id": "U27nhaWyo_Zj"
            },
            "id": "U27nhaWyo_Zj"
        },
        {
            "cell_type": "code",
            "source": [
                "from torchtext.data.functional import to_map_style_dataset\n",
                "from torch.utils.data.dataset import random_split\n",
                "\n",
                "\n",
                "# Convert the training and testing iterators to map-style datasets.\n",
                "train_dataset = to_map_style_dataset(train_iter)\n",
                "test_dataset = to_map_style_dataset(test_iter)\n",
                "\n",
                "# Determine the number of samples to be used for training and validation (5% for validation).\n",
                "num_train = int(len(train_dataset) * 0.95)\n",
                "\n",
                "# Randomly split the training dataset into training and validation datasets using `random_split`.\n",
                "# The training dataset will contain 95% of the samples, and the validation dataset will contain the remaining 5%.\n",
                "split_train_, split_valid_ = random_split(train_dataset, [num_train, len(train_dataset) - num_train])"
            ],
            "metadata": {
                "id": "wptU548Do6_a"
            },
            "id": "wptU548Do6_a",
            "execution_count": 14,
            "outputs": []
        },
        {
            "cell_type": "code",
            "source": [
                "num_train = int(len(train_dataset) * 0.05)\n",
                "split_train_, _ = random_split(split_train_, [num_train, len(split_train_) - num_train])"
            ],
            "metadata": {
                "id": "T7ua1K3xpLc7"
            },
            "id": "T7ua1K3xpLc7",
            "execution_count": 15,
            "outputs": []
        },
        {
            "cell_type": "code",
            "source": [
                "device = torch.device(\"cuda\" if torch.cuda.is_available() else \"cpu\")\n",
                "device"
            ],
            "metadata": {
                "id": "ulK22LSSpUmJ",
                "outputId": "a1f11553-2aae-4080-8f55-db48ae547a69",
                "colab": {
                    "base_uri": "https://localhost:8080/"
                }
            },
            "id": "ulK22LSSpUmJ",
            "execution_count": 16,
            "outputs": [
                {
                    "output_type": "execute_result",
                    "data": {
                        "text/plain": [
                            "device(type='cpu')"
                        ]
                    },
                    "metadata": {},
                    "execution_count": 16
                }
            ]
        },
        {
            "cell_type": "markdown",
            "source": [
                "### Data loader\n"
            ],
            "metadata": {
                "id": "8ByIYoonpZGN"
            },
            "id": "8ByIYoonpZGN"
        },
        {
            "cell_type": "code",
            "source": [
                "def text_pipeline(x):\n",
                "    return vocab(tokenizer(x))"
            ],
            "metadata": {
                "id": "jXjN6JbdpV8r"
            },
            "id": "jXjN6JbdpV8r",
            "execution_count": 17,
            "outputs": []
        },
        {
            "cell_type": "code",
            "source": [
                "from torch.nn.utils.rnn import pad_sequence\n",
                "\n",
                "def collate_batch(batch):\n",
                "    label_list, text_list = [], []\n",
                "    for _label, _text in batch:\n",
                "\n",
                "        label_list.append(_label)\n",
                "        text_list.append(torch.tensor(text_pipeline(_text), dtype=torch.int64))\n",
                "\n",
                "    label_list = torch.tensor(label_list, dtype=torch.int64)\n",
                "    text_list = pad_sequence(text_list, batch_first=True)\n",
                "\n",
                "    return label_list.to(device), text_list.to(device)"
            ],
            "metadata": {
                "id": "nMg4H-EMpdL8"
            },
            "id": "nMg4H-EMpdL8",
            "execution_count": 18,
            "outputs": []
        },
        {
            "cell_type": "code",
            "source": [
                "from torch.utils.data import DataLoader\n",
                "\n",
                "BATCH_SIZE = 32\n",
                "\n",
                "train_dataloader = DataLoader(\n",
                "    split_train_, batch_size=BATCH_SIZE, shuffle=True, collate_fn=collate_batch\n",
                ")\n",
                "valid_dataloader = DataLoader(\n",
                "    split_valid_, batch_size=BATCH_SIZE, shuffle=True, collate_fn=collate_batch\n",
                ")\n",
                "test_dataloader = DataLoader(\n",
                "    test_dataset, batch_size=BATCH_SIZE, shuffle=True, collate_fn=collate_batch\n",
                ")"
            ],
            "metadata": {
                "id": "B_nZSjLzpdze"
            },
            "id": "B_nZSjLzpdze",
            "execution_count": 19,
            "outputs": []
        },
        {
            "cell_type": "markdown",
            "source": [
                "### Neural network\n"
            ],
            "metadata": {
                "id": "bqXxobDUppqr"
            },
            "id": "bqXxobDUppqr"
        },
        {
            "cell_type": "code",
            "source": [
                "class Net(nn.Module):\n",
                "    \"\"\"\n",
                "    Text classifier based on a pytorch TransformerEncoder.\n",
                "    \"\"\"\n",
                "    def __init__(\n",
                "\n",
                "        self,\n",
                "        num_class,vocab_size,\n",
                "        freeze=True,\n",
                "        nhead=2,\n",
                "        dim_feedforward=128,\n",
                "        num_layers=2,\n",
                "        dropout=0.1,\n",
                "        activation=\"relu\",\n",
                "        classifier_dropout=0.1):\n",
                "\n",
                "        super().__init__()\n",
                "\n",
                "        #self.emb = embedding=nn.Embedding.from_pretrained(glove_embedding.vectors,freeze=freeze)\n",
                "        self.emb = nn.Embedding.from_pretrained(glove_embedding.vectors,freeze=freeze)\n",
                "        embedding_dim = self.emb.embedding_dim\n",
                "\n",
                "\n",
                "        self.pos_encoder = PositionalEncoding(\n",
                "            d_model=embedding_dim,\n",
                "            dropout=dropout,\n",
                "            vocab_size=vocab_size,\n",
                "        )\n",
                "\n",
                "        encoder_layer = nn.TransformerEncoderLayer(\n",
                "            d_model=embedding_dim,\n",
                "            nhead=nhead,\n",
                "            dim_feedforward=dim_feedforward,\n",
                "            dropout=dropout,\n",
                "        )\n",
                "        self.transformer_encoder = nn.TransformerEncoder(\n",
                "            encoder_layer,\n",
                "            num_layers=num_layers,\n",
                "        )\n",
                "        self.classifier = nn.Linear(embedding_dim, num_class)\n",
                "        self.d_model = embedding_dim\n",
                "\n",
                "    def forward(self, x):\n",
                "        x = self.emb(x) * math.sqrt(self.d_model)\n",
                "        x = self.pos_encoder(x)\n",
                "        x = self.transformer_encoder(x)\n",
                "        x = x.mean(dim=1)\n",
                "        x = self.classifier(x)\n",
                "\n",
                "        return x"
            ],
            "metadata": {
                "id": "xvPrFApgpf9y"
            },
            "id": "xvPrFApgpf9y",
            "execution_count": 20,
            "outputs": []
        },
        {
            "cell_type": "code",
            "source": [
                "device = torch.device(\"cuda\" if torch.cuda.is_available() else \"cpu\")\n",
                "model = Net(num_class=2,vocab_size=vocab_size).to(device)\n",
                "model"
            ],
            "metadata": {
                "id": "KOqdn7fhpsNy",
                "outputId": "5bc53b93-ef48-4378-bd4c-e7ffb5d2913f",
                "colab": {
                    "base_uri": "https://localhost:8080/"
                }
            },
            "id": "KOqdn7fhpsNy",
            "execution_count": 21,
            "outputs": [
                {
                    "output_type": "stream",
                    "name": "stderr",
                    "text": [
                        "/usr/local/lib/python3.11/dist-packages/torch/nn/modules/transformer.py:286: UserWarning: enable_nested_tensor is True, but self.use_nested_tensor is False because encoder_layer.self_attn.batch_first was not True(use batch_first for better inference performance)\n",
                        "  warnings.warn(f\"enable_nested_tensor is True, but self.use_nested_tensor is False because {why_not_sparsity_fast_path}\")\n"
                    ]
                },
                {
                    "output_type": "execute_result",
                    "data": {
                        "text/plain": [
                            "Net(\n",
                            "  (emb): Embedding(400000, 100)\n",
                            "  (pos_encoder): PositionalEncoding(\n",
                            "    (dropout): Dropout(p=0.1, inplace=False)\n",
                            "  )\n",
                            "  (transformer_encoder): TransformerEncoder(\n",
                            "    (layers): ModuleList(\n",
                            "      (0-1): 2 x TransformerEncoderLayer(\n",
                            "        (self_attn): MultiheadAttention(\n",
                            "          (out_proj): NonDynamicallyQuantizableLinear(in_features=100, out_features=100, bias=True)\n",
                            "        )\n",
                            "        (linear1): Linear(in_features=100, out_features=128, bias=True)\n",
                            "        (dropout): Dropout(p=0.1, inplace=False)\n",
                            "        (linear2): Linear(in_features=128, out_features=100, bias=True)\n",
                            "        (norm1): LayerNorm((100,), eps=1e-05, elementwise_affine=True)\n",
                            "        (norm2): LayerNorm((100,), eps=1e-05, elementwise_affine=True)\n",
                            "        (dropout1): Dropout(p=0.1, inplace=False)\n",
                            "        (dropout2): Dropout(p=0.1, inplace=False)\n",
                            "      )\n",
                            "    )\n",
                            "  )\n",
                            "  (classifier): Linear(in_features=100, out_features=2, bias=True)\n",
                            ")"
                        ]
                    },
                    "metadata": {},
                    "execution_count": 21
                }
            ]
        },
        {
            "cell_type": "code",
            "source": [
                "def predict(text, text_pipeline, model):\n",
                "    with torch.no_grad():\n",
                "        text = torch.unsqueeze(torch.tensor(text_pipeline(text)),0).to(device)\n",
                "        model.to(device)\n",
                "        output = model(text)\n",
                "        return imdb_label[output.argmax(1).item()]"
            ],
            "metadata": {
                "id": "nU2lczQEpvFQ"
            },
            "id": "nU2lczQEpvFQ",
            "execution_count": 22,
            "outputs": []
        },
        {
            "cell_type": "code",
            "source": [
                "predict(\"I like sports and stuff\", text_pipeline, model)"
            ],
            "metadata": {
                "id": "kvkZAEnNpyXd",
                "outputId": "5bb2c7a6-d0e7-4165-9d39-6bd8d6aa1214",
                "colab": {
                    "base_uri": "https://localhost:8080/",
                    "height": 35
                }
            },
            "id": "kvkZAEnNpyXd",
            "execution_count": 23,
            "outputs": [
                {
                    "output_type": "execute_result",
                    "data": {
                        "text/plain": [
                            "'positive review'"
                        ],
                        "application/vnd.google.colaboratory.intrinsic+json": {
                            "type": "string"
                        }
                    },
                    "metadata": {},
                    "execution_count": 23
                }
            ]
        },
        {
            "cell_type": "code",
            "source": [
                "from tqdm import tqdm\n",
                "\n",
                "\n",
                "def evaluate(dataloader, model_eval):\n",
                "    model_eval.eval()\n",
                "    total_acc, total_count= 0, 0\n",
                "\n",
                "    with torch.no_grad():\n",
                "        for label, text in tqdm(dataloader):\n",
                "            label, text = label.to(device), text.to(device)\n",
                "            output = model_eval(text)\n",
                "            predicted = torch.max(output.data, 1)[1]\n",
                "            total_acc += (predicted == label).sum().item()\n",
                "            total_count += label.size(0)\n",
                "    return total_acc / total_count"
            ],
            "metadata": {
                "id": "QilzdFarp0Gd"
            },
            "id": "QilzdFarp0Gd",
            "execution_count": 24,
            "outputs": []
        },
        {
            "cell_type": "code",
            "source": [
                "def evaluate_no_tqdm(dataloader, model_eval):\n",
                "    model_eval.eval()\n",
                "    total_acc, total_count= 0, 0\n",
                "\n",
                "    with torch.no_grad():\n",
                "        for label, text in dataloader:\n",
                "            label, text = label.to(device), text.to(device)\n",
                "            output = model_eval(text)\n",
                "            predicted = torch.max(output.data, 1)[1]\n",
                "            total_acc += (predicted == label).sum().item()\n",
                "            total_count += label.size(0)\n",
                "    return total_acc / total_count"
            ],
            "metadata": {
                "id": "5mSrJG16p2w5"
            },
            "id": "5mSrJG16p2w5",
            "execution_count": 25,
            "outputs": []
        },
        {
            "cell_type": "code",
            "source": [
                "#evaluate(test_dataloader, model)"
            ],
            "metadata": {
                "id": "zHflvQblqNfd"
            },
            "id": "zHflvQblqNfd",
            "execution_count": 26,
            "outputs": []
        },
        {
            "cell_type": "markdown",
            "source": [
                "# Training"
            ],
            "metadata": {
                "id": "Uv4rOWHwqQ_i"
            },
            "id": "Uv4rOWHwqQ_i"
        },
        {
            "cell_type": "code",
            "source": [
                "import time\n",
                "\n",
                "def train_model(model, optimizer, criterion, train_dataloader, valid_dataloader,  epochs=1000, save_dir=\"\", file_name=None):\n",
                "    cum_loss_list = []\n",
                "    acc_epoch = []\n",
                "    acc_old = 0\n",
                "    model_path = os.path.join(save_dir, file_name)\n",
                "    acc_dir = os.path.join(save_dir, os.path.splitext(file_name)[0] + \"_acc\")\n",
                "    loss_dir = os.path.join(save_dir, os.path.splitext(file_name)[0] + \"_loss\")\n",
                "    time_start = time.time()\n",
                "\n",
                "    for epoch in tqdm(range(1, epochs + 1)):\n",
                "        model.train()\n",
                "        #print(model)\n",
                "        #for parm in model.parameters():\n",
                "        #    print(parm.requires_grad)\n",
                "\n",
                "        cum_loss = 0\n",
                "        for idx, (label, text) in enumerate(train_dataloader):\n",
                "            optimizer.zero_grad()\n",
                "            label, text = label.to(device), text.to(device)\n",
                "\n",
                "            predicted_label = model(text)\n",
                "            loss = criterion(predicted_label, label)\n",
                "            loss.backward()\n",
                "            #print(loss)\n",
                "            torch.nn.utils.clip_grad_norm_(model.parameters(), 0.1)\n",
                "            optimizer.step()\n",
                "            cum_loss += loss.item()\n",
                "        print(f\"Epoch {epoch}/{epochs} - Loss: {cum_loss}\")\n",
                "\n",
                "        cum_loss_list.append(cum_loss)\n",
                "        accu_val = evaluate_no_tqdm(valid_dataloader,model)\n",
                "        acc_epoch.append(accu_val)\n",
                "\n",
                "        if model_path and accu_val > acc_old:\n",
                "            print(accu_val)\n",
                "            acc_old = accu_val\n",
                "            if save_dir is not None:\n",
                "                pass\n",
                "                #print(\"save model epoch\",epoch)\n",
                "                #torch.save(model.state_dict(), model_path)\n",
                "                #save_list_to_file(lst=acc_epoch, filename=acc_dir)\n",
                "                #save_list_to_file(lst=cum_loss_list, filename=loss_dir)\n",
                "\n",
                "    time_end = time.time()\n",
                "    print(f\"Training time: {time_end - time_start}\")"
            ],
            "metadata": {
                "id": "-ORmWvUDqPP0"
            },
            "id": "-ORmWvUDqPP0",
            "execution_count": 60,
            "outputs": []
        },
        {
            "cell_type": "code",
            "source": [
                "# LR=1\n",
                "# criterion = torch.nn.CrossEntropyLoss()\n",
                "# optimizer = torch.optim.SGD(model.parameters(), lr=LR)\n",
                "# scheduler = torch.optim.lr_scheduler.StepLR(optimizer, 1.0, gamma=0.1)\n",
                "# save_dir = \"\"\n",
                "# file_name = \"model_IMDB dataset small2.pth\"\n",
                "# train_model(model=model,\n",
                "#             optimizer=optimizer,\n",
                "#             criterion=criterion,\n",
                "#             train_dataloader=train_dataloader,\n",
                "#             valid_dataloader=valid_dataloader,\n",
                "#             epochs=2,\n",
                "#             save_dir=save_dir,\n",
                "#             file_name=file_name\n",
                "#            )"
            ],
            "metadata": {
                "id": "dUyqGgP8qSpk"
            },
            "id": "dUyqGgP8qSpk",
            "execution_count": 28,
            "outputs": []
        },
        {
            "cell_type": "code",
            "source": [
                "acc_urlopened = urlopen('https://cf-courses-data.s3.us.cloud-object-storage.appdomain.cloud/sybqacL5p1qeEO8d4xRZNg/model-IMDB%20dataset%20small2-acc')\n",
                "loss_urlopened = urlopen('https://cf-courses-data.s3.us.cloud-object-storage.appdomain.cloud/eOt6woGoaOB565T0RLH5WA/model-IMDB%20dataset%20small2-loss')\n",
                "acc_epoch = pickle.load(acc_urlopened)\n",
                "cum_loss_list = pickle.load(loss_urlopened)\n",
                "plot(cum_loss_list,acc_epoch)"
            ],
            "metadata": {
                "id": "XokfhPPQqZJH",
                "outputId": "882d6fdf-b217-491f-ff29-c69aa2a48214",
                "colab": {
                    "base_uri": "https://localhost:8080/",
                    "height": 486
                }
            },
            "id": "XokfhPPQqZJH",
            "execution_count": 29,
            "outputs": [
                {
                    "output_type": "display_data",
                    "data": {
                        "text/plain": [
                            "<Figure size 640x480 with 2 Axes>"
                        ],
                        "image/png": "[encoded data removed]"
                    },
                    "metadata": {}
                }
            ]
        },
        {
            "cell_type": "code",
            "source": [
                "urlopened = urlopen('https://cf-courses-data.s3.us.cloud-object-storage.appdomain.cloud/q66IH6a7lglkZ4haM6hB1w/model-IMDB%20dataset%20small2.pth')\n",
                "model_ = Net(vocab_size=vocab_size, num_class=2).to(device)\n",
                "model_.load_state_dict(torch.load(io.BytesIO(urlopened.read()), map_location=device))\n",
                "#evaluate(test_dataloader, model_)"
            ],
            "metadata": {
                "id": "v4cMC3Y5qZdH",
                "outputId": "f06020af-7b97-4fdb-fac2-789dfd3c60f6",
                "colab": {
                    "base_uri": "https://localhost:8080/"
                }
            },
            "id": "v4cMC3Y5qZdH",
            "execution_count": 30,
            "outputs": [
                {
                    "output_type": "execute_result",
                    "data": {
                        "text/plain": [
                            "<All keys matched successfully>"
                        ]
                    },
                    "metadata": {},
                    "execution_count": 30
                }
            ]
        },
        {
            "cell_type": "markdown",
            "source": [
                "### Fine-tune a model pretrained on the AG News data set"
            ],
            "metadata": {
                "id": "_-x2L_DCqfNh"
            },
            "id": "_-x2L_DCqfNh"
        },
        {
            "cell_type": "code",
            "source": [
                "from torchtext.datasets import AG_NEWS\n",
                "\n",
                "\n",
                "train_iter_ag_news = AG_NEWS(split=\"train\")\n",
                "\n",
                "num_class_ag_news = len(set([label for (label, text) in train_iter_ag_news ]))\n",
                "num_class_ag_news\n",
                "\n",
                "# Split the dataset into training and testing iterators.\n",
                "train_iter_ag_news, test_iter_ag_news = AG_NEWS()\n",
                "\n",
                "# Convert the training and testing iterators to map-style datasets.\n",
                "train_dataset_ag_news = to_map_style_dataset(train_iter_ag_news)\n",
                "test_dataset_ag_news = to_map_style_dataset(test_iter_ag_news)\n",
                "\n",
                "# Determine the number of samples to be used for training and validation (5% for validation).\n",
                "num_train_ag_news = int(len(train_dataset_ag_news) * 0.95)\n",
                "\n",
                "# Randomly split the training dataset into training and validation datasets using `random_split`.\n",
                "# The training dataset will contain 95% of the samples, and the validation dataset will contain the remaining 5%.\n",
                "split_train_ag_news_, split_valid_ag_news_ = random_split(train_dataset_ag_news, [num_train_ag_news, len(train_dataset_ag_news) - num_train_ag_news])\n",
                "\n",
                "# Make the training set smaller to allow it to run fast as an example.\n",
                "# IF YOU WANT TO TRAIN ON THE AG_NEWS DATASET, COMMENT OUT THE 2 LINEs BELOW.\n",
                "# HOWEVER, NOTE THAT TRAINING WILL TAKE A LONG TIME\n",
                "num_train_ag_news = int(len(train_dataset_ag_news) * 0.05)\n",
                "split_train_ag_news_, _ = random_split(split_train_ag_news_, [num_train_ag_news, len(split_train_ag_news_) - num_train_ag_news])\n",
                "\n",
                "\n",
                "device = torch.device(\"cuda\" if torch.cuda.is_available() else \"cpu\")\n",
                "device\n",
                "\n",
                "def label_pipeline(x):\n",
                "   return int(x) - 1\n",
                "\n",
                "from torch.nn.utils.rnn import pad_sequence\n",
                "\n",
                "def collate_batch_ag_news(batch):\n",
                "    label_list, text_list = [], []\n",
                "    for _label, _text in batch:\n",
                "        label_list.append(label_pipeline(_label))\n",
                "        text_list.append(torch.tensor(text_pipeline(_text), dtype=torch.int64))\n",
                "\n",
                "\n",
                "    label_list = torch.tensor(label_list, dtype=torch.int64)\n",
                "    text_list = pad_sequence(text_list, batch_first=True)\n",
                "\n",
                "\n",
                "    return label_list.to(device), text_list.to(device)\n",
                "\n",
                "BATCH_SIZE = 32\n",
                "\n",
                "train_dataloader_ag_news = DataLoader(\n",
                "    split_train_ag_news_, batch_size=BATCH_SIZE, shuffle=True, collate_fn=collate_batch_ag_news\n",
                ")\n",
                "valid_dataloader_ag_news = DataLoader(\n",
                "    split_valid_ag_news_, batch_size=BATCH_SIZE, shuffle=True, collate_fn=collate_batch_ag_news\n",
                ")\n",
                "test_dataloader_ag_news = DataLoader(\n",
                "    test_dataset_ag_news, batch_size=BATCH_SIZE, shuffle=True, collate_fn=collate_batch_ag_news\n",
                ")\n",
                "\n",
                "\n",
                "model_ag_news = Net(num_class=4,vocab_size=vocab_size).to(device)\n",
                "model_ag_news.to(device)\n",
                "\n",
                "# ### Uncomment to Train ###\n",
                "# LR=1\n",
                "# criterion = torch.nn.CrossEntropyLoss()\n",
                "# optimizer = torch.optim.SGD(model_ag_news.parameters(), lr=LR)\n",
                "# scheduler = torch.optim.lr_scheduler.StepLR(optimizer, 1.0, gamma=0.1)\n",
                "# save_dir = \"\"\n",
                "# file_name = \"model_AG News small1.pth\"\n",
                "# train_model(model=model_ag_news, optimizer=optimizer, criterion=criterion, train_dataloader=train_dataloader_ag_news, valid_dataloader=valid_dataloader_ag_news,  epochs=2, save_dir=save_dir, file_name=file_name)"
            ],
            "metadata": {
                "id": "lrqynkifqbAO",
                "outputId": "299579b5-5380-4c39-860c-9d0698e62fe4",
                "colab": {
                    "base_uri": "https://localhost:8080/"
                }
            },
            "id": "lrqynkifqbAO",
            "execution_count": 31,
            "outputs": [
                {
                    "output_type": "stream",
                    "name": "stderr",
                    "text": [
                        "/usr/local/lib/python3.11/dist-packages/torch/nn/modules/transformer.py:286: UserWarning: enable_nested_tensor is True, but self.use_nested_tensor is False because encoder_layer.self_attn.batch_first was not True(use batch_first for better inference performance)\n",
                        "  warnings.warn(f\"enable_nested_tensor is True, but self.use_nested_tensor is False because {why_not_sparsity_fast_path}\")\n"
                    ]
                },
                {
                    "output_type": "execute_result",
                    "data": {
                        "text/plain": [
                            "Net(\n",
                            "  (emb): Embedding(400000, 100)\n",
                            "  (pos_encoder): PositionalEncoding(\n",
                            "    (dropout): Dropout(p=0.1, inplace=False)\n",
                            "  )\n",
                            "  (transformer_encoder): TransformerEncoder(\n",
                            "    (layers): ModuleList(\n",
                            "      (0-1): 2 x TransformerEncoderLayer(\n",
                            "        (self_attn): MultiheadAttention(\n",
                            "          (out_proj): NonDynamicallyQuantizableLinear(in_features=100, out_features=100, bias=True)\n",
                            "        )\n",
                            "        (linear1): Linear(in_features=100, out_features=128, bias=True)\n",
                            "        (dropout): Dropout(p=0.1, inplace=False)\n",
                            "        (linear2): Linear(in_features=128, out_features=100, bias=True)\n",
                            "        (norm1): LayerNorm((100,), eps=1e-05, elementwise_affine=True)\n",
                            "        (norm2): LayerNorm((100,), eps=1e-05, elementwise_affine=True)\n",
                            "        (dropout1): Dropout(p=0.1, inplace=False)\n",
                            "        (dropout2): Dropout(p=0.1, inplace=False)\n",
                            "      )\n",
                            "    )\n",
                            "  )\n",
                            "  (classifier): Linear(in_features=100, out_features=4, bias=True)\n",
                            ")"
                        ]
                    },
                    "metadata": {},
                    "execution_count": 31
                }
            ]
        },
        {
            "cell_type": "code",
            "source": [
                "acc_urlopened = urlopen('https://cf-courses-data.s3.us.cloud-object-storage.appdomain.cloud/bQk8mJu3Uct3I4JEsEtRnw/model-AG%20News%20small1-acc')\n",
                "loss_urlopened = urlopen('https://cf-courses-data.s3.us.cloud-object-storage.appdomain.cloud/KNQkqJWWwY_XfbFBRFhZNA/model-AG%20News%20small1-loss')\n",
                "acc_epoch = pickle.load(acc_urlopened)\n",
                "cum_loss_list = pickle.load(loss_urlopened)\n",
                "plot(cum_loss_list,acc_epoch)"
            ],
            "metadata": {
                "id": "b7oRHTs4qlcK",
                "outputId": "733bd915-c1be-4647-baea-15e0c21f7e87",
                "colab": {
                    "base_uri": "https://localhost:8080/",
                    "height": 487
                }
            },
            "id": "b7oRHTs4qlcK",
            "execution_count": 32,
            "outputs": [
                {
                    "output_type": "display_data",
                    "data": {
                        "text/plain": [
                            "<Figure size 640x480 with 2 Axes>"
                        ],
                        "image/png": "[encoded data removed]"
                    },
                    "metadata": {}
                }
            ]
        },
        {
            "cell_type": "code",
            "source": [
                "urlopened = urlopen('https://cf-courses-data.s3.us.cloud-object-storage.appdomain.cloud/9c3Dh2O_jsYBShBuchUNlg/model-AG%20News%20small1.pth')\n",
                "model_ag_news_ = Net(vocab_size=vocab_size, num_class=4).to(device)\n",
                "model_ag_news_.load_state_dict(torch.load(io.BytesIO(urlopened.read()), map_location=device))\n",
                "#evaluate(test_dataloader_ag_news, model_ag_news_)"
            ],
            "metadata": {
                "id": "_XKvkd1Hs3TG",
                "outputId": "8a366014-152d-44fe-d46b-b66f009532b8",
                "colab": {
                    "base_uri": "https://localhost:8080/"
                }
            },
            "id": "_XKvkd1Hs3TG",
            "execution_count": 33,
            "outputs": [
                {
                    "output_type": "execute_result",
                    "data": {
                        "text/plain": [
                            "<All keys matched successfully>"
                        ]
                    },
                    "metadata": {},
                    "execution_count": 33
                }
            ]
        },
        {
            "cell_type": "code",
            "source": [
                "urlopened = urlopen('https://cf-courses-data.s3.us.cloud-object-storage.appdomain.cloud/9c3Dh2O_jsYBShBuchUNlg/model-AG%20News%20small1.pth')\n",
                "model_fine1 = Net(vocab_size=vocab_size, num_class=4).to(device)\n",
                "model_fine1.load_state_dict(torch.load(io.BytesIO(urlopened.read()), map_location=device))"
            ],
            "metadata": {
                "id": "cuNL6u2vs3t-",
                "outputId": "c0a89047-3756-4c56-dd9f-83a8810019ce",
                "colab": {
                    "base_uri": "https://localhost:8080/"
                }
            },
            "id": "cuNL6u2vs3t-",
            "execution_count": 34,
            "outputs": [
                {
                    "output_type": "execute_result",
                    "data": {
                        "text/plain": [
                            "<All keys matched successfully>"
                        ]
                    },
                    "metadata": {},
                    "execution_count": 34
                }
            ]
        },
        {
            "cell_type": "code",
            "source": [
                "model_fine1.classifier\n",
                "in_features = model_fine1.classifier.in_features\n",
                "print(\"Original final layer:\", model_fine1.classifier)\n",
                "print(\"Input dimention  final layer:\", in_features)"
            ],
            "metadata": {
                "id": "Dxy-1lsis6Fe",
                "outputId": "12e08f6d-00a1-4b01-e6a5-a7154a83c0e0",
                "colab": {
                    "base_uri": "https://localhost:8080/"
                }
            },
            "id": "Dxy-1lsis6Fe",
            "execution_count": 35,
            "outputs": [
                {
                    "output_type": "stream",
                    "name": "stdout",
                    "text": [
                        "Original final layer: Linear(in_features=100, out_features=4, bias=True)\n",
                        "Input dimention  final layer: 100\n"
                    ]
                }
            ]
        },
        {
            "cell_type": "code",
            "source": [
                "model_fine1.classifier = nn.Linear(in_features, 2)\n",
                "model_fine1.to(device)"
            ],
            "metadata": {
                "id": "M3mLegXJs7uq",
                "outputId": "947a1fb2-4788-4c2c-f553-3050002e4f29",
                "colab": {
                    "base_uri": "https://localhost:8080/"
                }
            },
            "id": "M3mLegXJs7uq",
            "execution_count": 36,
            "outputs": [
                {
                    "output_type": "execute_result",
                    "data": {
                        "text/plain": [
                            "Net(\n",
                            "  (emb): Embedding(400000, 100)\n",
                            "  (pos_encoder): PositionalEncoding(\n",
                            "    (dropout): Dropout(p=0.1, inplace=False)\n",
                            "  )\n",
                            "  (transformer_encoder): TransformerEncoder(\n",
                            "    (layers): ModuleList(\n",
                            "      (0-1): 2 x TransformerEncoderLayer(\n",
                            "        (self_attn): MultiheadAttention(\n",
                            "          (out_proj): NonDynamicallyQuantizableLinear(in_features=100, out_features=100, bias=True)\n",
                            "        )\n",
                            "        (linear1): Linear(in_features=100, out_features=128, bias=True)\n",
                            "        (dropout): Dropout(p=0.1, inplace=False)\n",
                            "        (linear2): Linear(in_features=128, out_features=100, bias=True)\n",
                            "        (norm1): LayerNorm((100,), eps=1e-05, elementwise_affine=True)\n",
                            "        (norm2): LayerNorm((100,), eps=1e-05, elementwise_affine=True)\n",
                            "        (dropout1): Dropout(p=0.1, inplace=False)\n",
                            "        (dropout2): Dropout(p=0.1, inplace=False)\n",
                            "      )\n",
                            "    )\n",
                            "  )\n",
                            "  (classifier): Linear(in_features=100, out_features=2, bias=True)\n",
                            ")"
                        ]
                    },
                    "metadata": {},
                    "execution_count": 36
                }
            ]
        },
        {
            "cell_type": "code",
            "source": [
                "for name, param in model_fine1.named_parameters():\n",
                "    print(f\"{name} requires_grad: {param.requires_grad}\")"
            ],
            "metadata": {
                "id": "wYrwaePgs9JF",
                "outputId": "e8f6d910-b240-46ae-cde3-e79175098564",
                "colab": {
                    "base_uri": "https://localhost:8080/"
                }
            },
            "id": "wYrwaePgs9JF",
            "execution_count": 37,
            "outputs": [
                {
                    "output_type": "stream",
                    "name": "stdout",
                    "text": [
                        "emb.weight requires_grad: False\n",
                        "transformer_encoder.layers.0.self_attn.in_proj_weight requires_grad: True\n",
                        "transformer_encoder.layers.0.self_attn.in_proj_bias requires_grad: True\n",
                        "transformer_encoder.layers.0.self_attn.out_proj.weight requires_grad: True\n",
                        "transformer_encoder.layers.0.self_attn.out_proj.bias requires_grad: True\n",
                        "transformer_encoder.layers.0.linear1.weight requires_grad: True\n",
                        "transformer_encoder.layers.0.linear1.bias requires_grad: True\n",
                        "transformer_encoder.layers.0.linear2.weight requires_grad: True\n",
                        "transformer_encoder.layers.0.linear2.bias requires_grad: True\n",
                        "transformer_encoder.layers.0.norm1.weight requires_grad: True\n",
                        "transformer_encoder.layers.0.norm1.bias requires_grad: True\n",
                        "transformer_encoder.layers.0.norm2.weight requires_grad: True\n",
                        "transformer_encoder.layers.0.norm2.bias requires_grad: True\n",
                        "transformer_encoder.layers.1.self_attn.in_proj_weight requires_grad: True\n",
                        "transformer_encoder.layers.1.self_attn.in_proj_bias requires_grad: True\n",
                        "transformer_encoder.layers.1.self_attn.out_proj.weight requires_grad: True\n",
                        "transformer_encoder.layers.1.self_attn.out_proj.bias requires_grad: True\n",
                        "transformer_encoder.layers.1.linear1.weight requires_grad: True\n",
                        "transformer_encoder.layers.1.linear1.bias requires_grad: True\n",
                        "transformer_encoder.layers.1.linear2.weight requires_grad: True\n",
                        "transformer_encoder.layers.1.linear2.bias requires_grad: True\n",
                        "transformer_encoder.layers.1.norm1.weight requires_grad: True\n",
                        "transformer_encoder.layers.1.norm1.bias requires_grad: True\n",
                        "transformer_encoder.layers.1.norm2.weight requires_grad: True\n",
                        "transformer_encoder.layers.1.norm2.bias requires_grad: True\n",
                        "classifier.weight requires_grad: True\n",
                        "classifier.bias requires_grad: True\n"
                    ]
                }
            ]
        },
        {
            "cell_type": "code",
            "source": [
                "# LR=1\n",
                "# criterion = torch.nn.CrossEntropyLoss()\n",
                "# optimizer = torch.optim.SGD(model_fine1.parameters(), lr=LR)\n",
                "# scheduler = torch.optim.lr_scheduler.StepLR(optimizer, 1.0, gamma=0.1)\n",
                "# save_dir = \"\"\n",
                "# file_name = \"model_fine1.pth\"\n",
                "# train_model(model=model_fine1, optimizer=optimizer, criterion=criterion, train_dataloader=train_dataloader, valid_dataloader=valid_dataloader,  epochs=2,  save_dir=save_dir ,file_name=file_name )"
            ],
            "metadata": {
                "id": "US55DGREs_-R"
            },
            "id": "US55DGREs_-R",
            "execution_count": 38,
            "outputs": []
        },
        {
            "cell_type": "code",
            "source": [
                "acc_urlopened = urlopen('https://cf-courses-data.s3.us.cloud-object-storage.appdomain.cloud/3LEJw8BRgJJFGqlLxaETxA/model-fine1-acc')\n",
                "loss_urlopened = urlopen('https://cf-courses-data.s3.us.cloud-object-storage.appdomain.cloud/-CT1h97vjv0TolY82Nw29g/model-fine1-loss')\n",
                "acc_epoch = pickle.load(acc_urlopened)\n",
                "cum_loss_list = pickle.load(loss_urlopened)\n",
                "plot(cum_loss_list,acc_epoch)"
            ],
            "metadata": {
                "id": "ItCOWkcRtEL2",
                "outputId": "a02e8e77-1a28-4dfa-f68c-8e7e837bab18",
                "colab": {
                    "base_uri": "https://localhost:8080/",
                    "height": 486
                }
            },
            "id": "ItCOWkcRtEL2",
            "execution_count": 39,
            "outputs": [
                {
                    "output_type": "display_data",
                    "data": {
                        "text/plain": [
                            "<Figure size 640x480 with 2 Axes>"
                        ],
                        "image/png": "[encoded data removed]"
                    },
                    "metadata": {}
                }
            ]
        },
        {
            "cell_type": "code",
            "source": [
                "urlopened = urlopen('https://cf-courses-data.s3.us.cloud-object-storage.appdomain.cloud/e0WOHKh5dnrbC2lGhpsMMw/model-fine1.pth')\n",
                "model_fine1_ = Net(vocab_size=vocab_size, num_class=2).to(device)\n",
                "model_fine1_.load_state_dict(torch.load(io.BytesIO(urlopened.read()), map_location=device))\n",
                "#evaluate(test_dataloader, model_fine1_)"
            ],
            "metadata": {
                "id": "ILVwHEQTtFYm",
                "outputId": "ba9daa9b-0a82-4843-8a62-689b3022f48e",
                "colab": {
                    "base_uri": "https://localhost:8080/"
                }
            },
            "id": "ILVwHEQTtFYm",
            "execution_count": 40,
            "outputs": [
                {
                    "output_type": "execute_result",
                    "data": {
                        "text/plain": [
                            "<All keys matched successfully>"
                        ]
                    },
                    "metadata": {},
                    "execution_count": 40
                }
            ]
        },
        {
            "cell_type": "markdown",
            "source": [
                "### Fine-tune the final layer only"
            ],
            "metadata": {
                "id": "QgPKqdpUtPU6"
            },
            "id": "QgPKqdpUtPU6"
        },
        {
            "cell_type": "code",
            "source": [
                "urlopened = urlopen('https://cf-courses-data.s3.us.cloud-object-storage.appdomain.cloud/9c3Dh2O_jsYBShBuchUNlg/model-AG%20News%20small1.pth')\n",
                "model_fine2 = Net(vocab_size=vocab_size, num_class=4).to(device)\n",
                "model_fine2.load_state_dict(torch.load(io.BytesIO(urlopened.read()), map_location=device))"
            ],
            "metadata": {
                "id": "WA1B9e5ctHaz",
                "outputId": "3eef0499-2bc1-4726-8ee9-1e5edc943702",
                "colab": {
                    "base_uri": "https://localhost:8080/"
                }
            },
            "id": "WA1B9e5ctHaz",
            "execution_count": 41,
            "outputs": [
                {
                    "output_type": "execute_result",
                    "data": {
                        "text/plain": [
                            "<All keys matched successfully>"
                        ]
                    },
                    "metadata": {},
                    "execution_count": 41
                }
            ]
        },
        {
            "cell_type": "code",
            "source": [
                "# Freeze all layers in the model\n",
                "for param in model_fine2.parameters():\n",
                "    param.requires_grad = False"
            ],
            "metadata": {
                "id": "_khTX609tRAG"
            },
            "id": "_khTX609tRAG",
            "execution_count": 42,
            "outputs": []
        },
        {
            "cell_type": "code",
            "source": [
                "dim=model_fine2.classifier.in_features\n",
                "model_fine2.classifier = nn.Linear(dim, 2)\n",
                "model_fine2.to(device)"
            ],
            "metadata": {
                "id": "I4dzc9ButSTd",
                "outputId": "32b4511b-0e56-48fc-d463-a8ffe5142875",
                "colab": {
                    "base_uri": "https://localhost:8080/"
                }
            },
            "id": "I4dzc9ButSTd",
            "execution_count": 43,
            "outputs": [
                {
                    "output_type": "execute_result",
                    "data": {
                        "text/plain": [
                            "Net(\n",
                            "  (emb): Embedding(400000, 100)\n",
                            "  (pos_encoder): PositionalEncoding(\n",
                            "    (dropout): Dropout(p=0.1, inplace=False)\n",
                            "  )\n",
                            "  (transformer_encoder): TransformerEncoder(\n",
                            "    (layers): ModuleList(\n",
                            "      (0-1): 2 x TransformerEncoderLayer(\n",
                            "        (self_attn): MultiheadAttention(\n",
                            "          (out_proj): NonDynamicallyQuantizableLinear(in_features=100, out_features=100, bias=True)\n",
                            "        )\n",
                            "        (linear1): Linear(in_features=100, out_features=128, bias=True)\n",
                            "        (dropout): Dropout(p=0.1, inplace=False)\n",
                            "        (linear2): Linear(in_features=128, out_features=100, bias=True)\n",
                            "        (norm1): LayerNorm((100,), eps=1e-05, elementwise_affine=True)\n",
                            "        (norm2): LayerNorm((100,), eps=1e-05, elementwise_affine=True)\n",
                            "        (dropout1): Dropout(p=0.1, inplace=False)\n",
                            "        (dropout2): Dropout(p=0.1, inplace=False)\n",
                            "      )\n",
                            "    )\n",
                            "  )\n",
                            "  (classifier): Linear(in_features=100, out_features=2, bias=True)\n",
                            ")"
                        ]
                    },
                    "metadata": {},
                    "execution_count": 43
                }
            ]
        },
        {
            "cell_type": "code",
            "source": [
                "# LR=1\n",
                "# criterion = torch.nn.CrossEntropyLoss()\n",
                "# optimizer = torch.optim.SGD(model_fine2.parameters(), lr=LR)\n",
                "# scheduler = torch.optim.lr_scheduler.StepLR(optimizer, 1.0, gamma=0.1)\n",
                "# save_dir = \"\"\n",
                "# file_name = \"model_fine2.pth\"\n",
                "# train_model(model=model_fine2, optimizer=optimizer, criterion=criterion, train_dataloader=train_dataloader, valid_dataloader=valid_dataloader,  epochs=2,  save_dir=save_dir ,file_name=file_name)"
            ],
            "metadata": {
                "id": "E3lB3SqltUs-"
            },
            "id": "E3lB3SqltUs-",
            "execution_count": 44,
            "outputs": []
        },
        {
            "cell_type": "code",
            "source": [
                "acc_urlopened = urlopen('https://cf-courses-data.s3.us.cloud-object-storage.appdomain.cloud/UdR3ApQnxSeV2mrA0CbiLg/model-fine2-acc')\n",
                "loss_urlopened = urlopen('https://cf-courses-data.s3.us.cloud-object-storage.appdomain.cloud/rWGDIF-uL2dEngWcIo9teQ/model-fine2-loss')\n",
                "acc_epoch = pickle.load(acc_urlopened)\n",
                "cum_loss_list = pickle.load(loss_urlopened)\n",
                "plot(cum_loss_list,acc_epoch)"
            ],
            "metadata": {
                "id": "CFgxb1xCtcZK",
                "outputId": "33a88077-cbdc-43b7-8227-eccfe1f73f61",
                "colab": {
                    "base_uri": "https://localhost:8080/",
                    "height": 486
                }
            },
            "id": "CFgxb1xCtcZK",
            "execution_count": 45,
            "outputs": [
                {
                    "output_type": "display_data",
                    "data": {
                        "text/plain": [
                            "<Figure size 640x480 with 2 Axes>"
                        ],
                        "image/png": "[encoded data removed]"
                    },
                    "metadata": {}
                }
            ]
        },
        {
            "cell_type": "code",
            "source": [
                "urlopened = urlopen('https://cf-courses-data.s3.us.cloud-object-storage.appdomain.cloud/B-1H6lpDg-A0zRwpB6Ek2g/model-fine2.pth')\n",
                "model_fine2_ = Net(vocab_size=vocab_size, num_class=2).to(device)\n",
                "model_fine2_.load_state_dict(torch.load(io.BytesIO(urlopened.read()), map_location=device))\n",
                "#evaluate(test_dataloader, model_fine2_)"
            ],
            "metadata": {
                "id": "_rBdW0AQtcnt",
                "outputId": "9b33d2dc-063a-4879-eea9-0b1cd67f1cc3",
                "colab": {
                    "base_uri": "https://localhost:8080/"
                }
            },
            "id": "_rBdW0AQtcnt",
            "execution_count": 46,
            "outputs": [
                {
                    "output_type": "execute_result",
                    "data": {
                        "text/plain": [
                            "<All keys matched successfully>"
                        ]
                    },
                    "metadata": {},
                    "execution_count": 46
                }
            ]
        },
        {
            "cell_type": "markdown",
            "source": [
                "# Adapters\n",
                "\n",
                "- Adapter: neural network module; low-dimensional bottleneck in transformer architecture to allow fine-tuning with fewer parameters.\n",
                "- Steps:\n",
                "  1. compresses original high-dimensional embeddings into a lower dimension,\n",
                "  2. applies non-linear transformation,\n",
                "  3. expands back to original dimension."
            ],
            "metadata": {
                "id": "aVxtrABBtj-1"
            },
            "id": "aVxtrABBtj-1"
        },
        {
            "cell_type": "code",
            "source": [
                "class FeatureAdapter(nn.Module):\n",
                "    \"\"\"\n",
                "    Attributes:\n",
                "        size (int): The bottleneck dimension to which the embeddings are temporarily reduced.\n",
                "        model_dim (int): The original dimension of the embeddings or features in the transformer model.\n",
                "    \"\"\"\n",
                "    def __init__(self, bottleneck_size=50, model_dim=100):\n",
                "        super().__init__()\n",
                "        self.bottleneck_transform = nn.Sequential(\n",
                "            nn.Linear(model_dim, bottleneck_size),  # Down-project to a smaller dimension\n",
                "            nn.ReLU(),                             # Apply non-linearity\n",
                "            nn.Linear(bottleneck_size, model_dim)  # Up-project back to the original dimension\n",
                "        )\n",
                "\n",
                "    def forward(self, x):\n",
                "        \"\"\"\n",
                "        Forward pass of the FeatureAdapter. Applies the bottleneck transformation to the input\n",
                "        tensor and adds a skip connection.\n",
                "\n",
                "        Args:\n",
                "            x (Tensor): Input tensor with shape (batch_size, seq_length, model_dim).\n",
                "\n",
                "        Returns:\n",
                "            Tensor: Output tensor after applying the adapter transformation and skip connection,\n",
                "                    maintaining the original input shape.\n",
                "        \"\"\"\n",
                "        transformed_features = self.bottleneck_transform(x)  # Transform features through the bottleneck\n",
                "        output_with_residual = transformed_features + x      # Add the residual connection\n",
                "        return output_with_residual"
            ],
            "metadata": {
                "id": "wB3o13kDteDy"
            },
            "id": "wB3o13kDteDy",
            "execution_count": 48,
            "outputs": []
        },
        {
            "cell_type": "code",
            "source": [
                "class Adapted(nn.Module):\n",
                "    def __init__(self, linear,bottleneck_size=None):\n",
                "        super(Adapted, self).__init__()\n",
                "        self.linear = linear\n",
                "        model_dim = linear.out_features\n",
                "        if bottleneck_size is None:\n",
                "          bottleneck_size = model_dim//2   # Define default bottleneck size as half the model_dim\n",
                "\n",
                "        # Initialize FeatureAdapter with calculated bottleneck_size and model_dim\n",
                "        self.adaptor = FeatureAdapter(bottleneck_size=bottleneck_size, model_dim=model_dim)\n",
                "\n",
                "    def forward(self, x):\n",
                "        # First, the input x is passed through the linear layer\n",
                "        x=self.linear(x)\n",
                "        # Then it's adapted using FeatureAdapter\n",
                "        x= self.adaptor(x)\n",
                "        return x"
            ],
            "metadata": {
                "id": "tG3W_7yqDGkZ"
            },
            "id": "tG3W_7yqDGkZ",
            "execution_count": 49,
            "outputs": []
        },
        {
            "cell_type": "code",
            "source": [
                "urlopened = urlopen('https://cf-courses-data.s3.us.cloud-object-storage.appdomain.cloud/9c3Dh2O_jsYBShBuchUNlg/model-AG%20News%20small1.pth')\n",
                "model_adapters = Net(vocab_size=vocab_size, num_class=4).to(device)\n",
                "model_adapters.load_state_dict(torch.load(io.BytesIO(urlopened.read()), map_location=device))"
            ],
            "metadata": {
                "id": "Y5n_g65tDMfe",
                "outputId": "51106a59-1e87-40cb-f919-1f00bff22573",
                "colab": {
                    "base_uri": "https://localhost:8080/"
                }
            },
            "id": "Y5n_g65tDMfe",
            "execution_count": 50,
            "outputs": [
                {
                    "output_type": "execute_result",
                    "data": {
                        "text/plain": [
                            "<All keys matched successfully>"
                        ]
                    },
                    "metadata": {},
                    "execution_count": 50
                }
            ]
        },
        {
            "cell_type": "code",
            "source": [
                "for param in model_adapters.parameters():\n",
                "    param.requires_grad = False\n",
                "\n",
                "dim= model_adapters.classifier.in_features\n",
                "model_adapters.classifier = nn.Linear(dim, 2)"
            ],
            "metadata": {
                "id": "zaxw2GKFDOnb"
            },
            "id": "zaxw2GKFDOnb",
            "execution_count": 51,
            "outputs": []
        },
        {
            "cell_type": "code",
            "source": [
                "my_example_layer=model_adapters.transformer_encoder.layers[0].linear1\n",
                "print(my_example_layer)"
            ],
            "metadata": {
                "id": "opBlAdojDRND",
                "outputId": "8b21846f-f87f-469a-a033-80677b7afe65",
                "colab": {
                    "base_uri": "https://localhost:8080/"
                }
            },
            "id": "opBlAdojDRND",
            "execution_count": 52,
            "outputs": [
                {
                    "output_type": "stream",
                    "name": "stdout",
                    "text": [
                        "Linear(in_features=100, out_features=128, bias=True)\n"
                    ]
                }
            ]
        },
        {
            "cell_type": "code",
            "source": [
                "my_adapeted_layer=Adapted(my_example_layer)\n",
                "print(my_adapeted_layer)"
            ],
            "metadata": {
                "id": "4HLOug70DaXF",
                "outputId": "7e760dcc-cb2c-4ce3-9f61-ae3bf292dd40",
                "colab": {
                    "base_uri": "https://localhost:8080/"
                }
            },
            "id": "4HLOug70DaXF",
            "execution_count": 53,
            "outputs": [
                {
                    "output_type": "stream",
                    "name": "stdout",
                    "text": [
                        "Adapted(\n",
                        "  (linear): Linear(in_features=100, out_features=128, bias=True)\n",
                        "  (adaptor): FeatureAdapter(\n",
                        "    (bottleneck_transform): Sequential(\n",
                        "      (0): Linear(in_features=128, out_features=64, bias=True)\n",
                        "      (1): ReLU()\n",
                        "      (2): Linear(in_features=64, out_features=128, bias=True)\n",
                        "    )\n",
                        "  )\n",
                        ")\n"
                    ]
                }
            ]
        },
        {
            "cell_type": "code",
            "source": [
                "for parm in my_adapeted_layer.parameters():\n",
                "    print(parm.requires_grad)"
            ],
            "metadata": {
                "id": "RbGJwrRFDeRZ",
                "outputId": "8ee5a2b6-7944-4a03-a01f-ffedaf6c4db1",
                "colab": {
                    "base_uri": "https://localhost:8080/"
                }
            },
            "id": "RbGJwrRFDeRZ",
            "execution_count": 54,
            "outputs": [
                {
                    "output_type": "stream",
                    "name": "stdout",
                    "text": [
                        "False\n",
                        "False\n",
                        "True\n",
                        "True\n",
                        "True\n",
                        "True\n"
                    ]
                }
            ]
        },
        {
            "cell_type": "code",
            "source": [
                "# Find number of layers\n",
                "N_layers=len(model_adapters.transformer_encoder.layers)"
            ],
            "metadata": {
                "id": "TAHPWgRaDhdl"
            },
            "id": "TAHPWgRaDhdl",
            "execution_count": 55,
            "outputs": []
        },
        {
            "cell_type": "code",
            "source": [
                "# Traverse model and adapt\n",
                "for n in range(N_layers):\n",
                "  encoder=model_adapters.transformer_encoder.layers[n]\n",
                "  if encoder.linear1:\n",
                "    print(\" before linear1\")\n",
                "    print(encoder.linear1)\n",
                "    model_adapters.transformer_encoder.layers[n].linear1=Adapted(encoder.linear1, bottleneck_size=24)\n",
                "    print(\" after  linear1\")\n",
                "    print(model_adapters.transformer_encoder.layers[n].linear1)\n",
                "\n",
                "  if encoder.linear2:\n",
                "    print(\" before linear2\")\n",
                "    print(model_adapters.transformer_encoder.layers[n].linear2)\n",
                "    model_adapters.transformer_encoder.layers[n].linear2=Adapted(encoder.linear2, bottleneck_size=24)\n",
                "    print(\" after linear2\")\n",
                "    print(model_adapters.transformer_encoder.layers[n].linear2)"
            ],
            "metadata": {
                "id": "QRhP8gd_DpBn",
                "outputId": "48fbc81f-ee9e-4109-a838-3a7c41de4299",
                "colab": {
                    "base_uri": "https://localhost:8080/"
                }
            },
            "id": "QRhP8gd_DpBn",
            "execution_count": 56,
            "outputs": [
                {
                    "output_type": "stream",
                    "name": "stdout",
                    "text": [
                        " before linear1\n",
                        "Linear(in_features=100, out_features=128, bias=True)\n",
                        " after  linear1\n",
                        "Adapted(\n",
                        "  (linear): Linear(in_features=100, out_features=128, bias=True)\n",
                        "  (adaptor): FeatureAdapter(\n",
                        "    (bottleneck_transform): Sequential(\n",
                        "      (0): Linear(in_features=128, out_features=24, bias=True)\n",
                        "      (1): ReLU()\n",
                        "      (2): Linear(in_features=24, out_features=128, bias=True)\n",
                        "    )\n",
                        "  )\n",
                        ")\n",
                        " before linear2\n",
                        "Linear(in_features=128, out_features=100, bias=True)\n",
                        " after linear2\n",
                        "Adapted(\n",
                        "  (linear): Linear(in_features=128, out_features=100, bias=True)\n",
                        "  (adaptor): FeatureAdapter(\n",
                        "    (bottleneck_transform): Sequential(\n",
                        "      (0): Linear(in_features=100, out_features=24, bias=True)\n",
                        "      (1): ReLU()\n",
                        "      (2): Linear(in_features=24, out_features=100, bias=True)\n",
                        "    )\n",
                        "  )\n",
                        ")\n",
                        " before linear1\n",
                        "Linear(in_features=100, out_features=128, bias=True)\n",
                        " after  linear1\n",
                        "Adapted(\n",
                        "  (linear): Linear(in_features=100, out_features=128, bias=True)\n",
                        "  (adaptor): FeatureAdapter(\n",
                        "    (bottleneck_transform): Sequential(\n",
                        "      (0): Linear(in_features=128, out_features=24, bias=True)\n",
                        "      (1): ReLU()\n",
                        "      (2): Linear(in_features=24, out_features=128, bias=True)\n",
                        "    )\n",
                        "  )\n",
                        ")\n",
                        " before linear2\n",
                        "Linear(in_features=128, out_features=100, bias=True)\n",
                        " after linear2\n",
                        "Adapted(\n",
                        "  (linear): Linear(in_features=128, out_features=100, bias=True)\n",
                        "  (adaptor): FeatureAdapter(\n",
                        "    (bottleneck_transform): Sequential(\n",
                        "      (0): Linear(in_features=100, out_features=24, bias=True)\n",
                        "      (1): ReLU()\n",
                        "      (2): Linear(in_features=24, out_features=100, bias=True)\n",
                        "    )\n",
                        "  )\n",
                        ")\n"
                    ]
                }
            ]
        },
        {
            "cell_type": "code",
            "source": [
                "# Send model to device\n",
                "model_adapters.to(device)"
            ],
            "metadata": {
                "id": "z5w7BQReDqlk",
                "outputId": "aeb95c17-1db5-480c-d006-7cb92bac74d9",
                "colab": {
                    "base_uri": "https://localhost:8080/"
                }
            },
            "id": "z5w7BQReDqlk",
            "execution_count": 57,
            "outputs": [
                {
                    "output_type": "execute_result",
                    "data": {
                        "text/plain": [
                            "Net(\n",
                            "  (emb): Embedding(400000, 100)\n",
                            "  (pos_encoder): PositionalEncoding(\n",
                            "    (dropout): Dropout(p=0.1, inplace=False)\n",
                            "  )\n",
                            "  (transformer_encoder): TransformerEncoder(\n",
                            "    (layers): ModuleList(\n",
                            "      (0-1): 2 x TransformerEncoderLayer(\n",
                            "        (self_attn): MultiheadAttention(\n",
                            "          (out_proj): NonDynamicallyQuantizableLinear(in_features=100, out_features=100, bias=True)\n",
                            "        )\n",
                            "        (linear1): Adapted(\n",
                            "          (linear): Linear(in_features=100, out_features=128, bias=True)\n",
                            "          (adaptor): FeatureAdapter(\n",
                            "            (bottleneck_transform): Sequential(\n",
                            "              (0): Linear(in_features=128, out_features=24, bias=True)\n",
                            "              (1): ReLU()\n",
                            "              (2): Linear(in_features=24, out_features=128, bias=True)\n",
                            "            )\n",
                            "          )\n",
                            "        )\n",
                            "        (dropout): Dropout(p=0.1, inplace=False)\n",
                            "        (linear2): Adapted(\n",
                            "          (linear): Linear(in_features=128, out_features=100, bias=True)\n",
                            "          (adaptor): FeatureAdapter(\n",
                            "            (bottleneck_transform): Sequential(\n",
                            "              (0): Linear(in_features=100, out_features=24, bias=True)\n",
                            "              (1): ReLU()\n",
                            "              (2): Linear(in_features=24, out_features=100, bias=True)\n",
                            "            )\n",
                            "          )\n",
                            "        )\n",
                            "        (norm1): LayerNorm((100,), eps=1e-05, elementwise_affine=True)\n",
                            "        (norm2): LayerNorm((100,), eps=1e-05, elementwise_affine=True)\n",
                            "        (dropout1): Dropout(p=0.1, inplace=False)\n",
                            "        (dropout2): Dropout(p=0.1, inplace=False)\n",
                            "      )\n",
                            "    )\n",
                            "  )\n",
                            "  (classifier): Linear(in_features=100, out_features=2, bias=True)\n",
                            ")"
                        ]
                    },
                    "metadata": {},
                    "execution_count": 57
                }
            ]
        },
        {
            "cell_type": "code",
            "source": [
                "LR=1\n",
                "criterion = torch.nn.CrossEntropyLoss()\n",
                "optimizer = torch.optim.SGD(model_adapters.parameters(), lr=LR)\n",
                "scheduler = torch.optim.lr_scheduler.StepLR(optimizer, 1.0, gamma=0.1)\n",
                "save_dir = \"\"\n",
                "file_name = \"model_adapters.pth\"\n",
                "train_model(model=model_adapters, optimizer=optimizer, criterion=criterion, train_dataloader=train_dataloader, valid_dataloader=valid_dataloader,  epochs=2,  save_dir=save_dir ,file_name=file_name )"
            ],
            "metadata": {
                "id": "8SlPQBW4DyKY",
                "outputId": "aa0483dd-1767-479b-fffe-382896c4459f",
                "colab": {
                    "base_uri": "https://localhost:8080/"
                }
            },
            "id": "8SlPQBW4DyKY",
            "execution_count": 61,
            "outputs": [
                {
                    "output_type": "stream",
                    "name": "stderr",
                    "text": [
                        "\r  0%|          | 0/2 [00:00<?, ?it/s]"
                    ]
                },
                {
                    "output_type": "stream",
                    "name": "stdout",
                    "text": [
                        "Epoch 1/2 - Loss: 27.617043793201447\n"
                    ]
                },
                {
                    "output_type": "stream",
                    "name": "stderr",
                    "text": [
                        "\r 50%|\u2588\u2588\u2588\u2588\u2588     | 1/2 [01:00<01:00, 60.29s/it]"
                    ]
                },
                {
                    "output_type": "stream",
                    "name": "stdout",
                    "text": [
                        "0.5168\n",
                        "Epoch 2/2 - Loss: 28.043482542037964\n"
                    ]
                },
                {
                    "output_type": "stream",
                    "name": "stderr",
                    "text": [
                        "100%|\u2588\u2588\u2588\u2588\u2588\u2588\u2588\u2588\u2588\u2588| 2/2 [01:54<00:00, 57.39s/it]"
                    ]
                },
                {
                    "output_type": "stream",
                    "name": "stdout",
                    "text": [
                        "0.576\n",
                        "Training time: 114.78885006904602\n"
                    ]
                },
                {
                    "output_type": "stream",
                    "name": "stderr",
                    "text": [
                        "\n"
                    ]
                }
            ]
        },
        {
            "cell_type": "code",
            "source": [
                "acc_urlopened = urlopen('https://cf-courses-data.s3.us.cloud-object-storage.appdomain.cloud/D49zrrMPWO_ktwQo7PSHIQ/model-adapters-acc')\n",
                "loss_urlopened = urlopen('https://cf-courses-data.s3.us.cloud-object-storage.appdomain.cloud/RXWlmyaco695RiaoU7QsnA/model-adapters-loss')\n",
                "acc_epoch = pickle.load(acc_urlopened)\n",
                "cum_loss_list = pickle.load(loss_urlopened)\n",
                "plot(cum_loss_list,acc_epoch)"
            ],
            "metadata": {
                "id": "jYbFKGP2D0Np",
                "outputId": "8ebeb14e-0ad4-4b72-aac3-8237a02c3a61",
                "colab": {
                    "base_uri": "https://localhost:8080/",
                    "height": 487
                }
            },
            "id": "jYbFKGP2D0Np",
            "execution_count": 62,
            "outputs": [
                {
                    "output_type": "display_data",
                    "data": {
                        "text/plain": [
                            "<Figure size 640x480 with 2 Axes>"
                        ],
                        "image/png": "[encoded data removed]"
                    },
                    "metadata": {}
                }
            ]
        },
        {
            "cell_type": "code",
            "source": [
                "model_adapters_ = Net(vocab_size=vocab_size, num_class=2).to(device)\n",
                "for n in range(N_layers):\n",
                "  encoder=model_adapters_.transformer_encoder.layers[n]\n",
                "  if encoder.linear1:\n",
                "    print(\" before linear1\")\n",
                "    print(encoder.linear1)\n",
                "    model_adapters_.transformer_encoder.layers[n].linear1=Adapted(encoder.linear1, bottleneck_size=24)\n",
                "    print(\" after  linear1\")\n",
                "    print(model_adapters_.transformer_encoder.layers[n].linear1)\n",
                "\n",
                "  if encoder.linear2:\n",
                "    print(\" before linear2\")\n",
                "    print(model_adapters_.transformer_encoder.layers[n].linear2)\n",
                "    model_adapters_.transformer_encoder.layers[n].linear2=Adapted(encoder.linear2, bottleneck_size=24)\n",
                "    print(\" after linear2\")\n",
                "    print(model_adapters_.transformer_encoder.layers[n].linear2)\n",
                "\n",
                "model_adapters_.to(device)\n",
                "for param in model_adapters_.parameters():\n",
                "    param.requires_grad = False\n",
                "\n",
                "urlopened = urlopen('https://cf-courses-data.s3.us.cloud-object-storage.appdomain.cloud/PGhd5G_NVrWNH-_jdjwNlw/model-adapters.pth')\n",
                "model_adapters_.load_state_dict(torch.load(io.BytesIO(urlopened.read()), map_location=device))\n",
                "evaluate(test_dataloader, model_adapters_)"
            ],
            "metadata": {
                "id": "VjNyC-47D2wP",
                "outputId": "ec9561cb-0e0a-4e5b-d7ef-d61193a360d1",
                "colab": {
                    "base_uri": "https://localhost:8080/"
                }
            },
            "id": "VjNyC-47D2wP",
            "execution_count": 63,
            "outputs": [
                {
                    "output_type": "stream",
                    "name": "stderr",
                    "text": [
                        "/usr/local/lib/python3.11/dist-packages/torch/nn/modules/transformer.py:286: UserWarning: enable_nested_tensor is True, but self.use_nested_tensor is False because encoder_layer.self_attn.batch_first was not True(use batch_first for better inference performance)\n",
                        "  warnings.warn(f\"enable_nested_tensor is True, but self.use_nested_tensor is False because {why_not_sparsity_fast_path}\")\n"
                    ]
                },
                {
                    "output_type": "stream",
                    "name": "stdout",
                    "text": [
                        " before linear1\n",
                        "Linear(in_features=100, out_features=128, bias=True)\n",
                        " after  linear1\n",
                        "Adapted(\n",
                        "  (linear): Linear(in_features=100, out_features=128, bias=True)\n",
                        "  (adaptor): FeatureAdapter(\n",
                        "    (bottleneck_transform): Sequential(\n",
                        "      (0): Linear(in_features=128, out_features=24, bias=True)\n",
                        "      (1): ReLU()\n",
                        "      (2): Linear(in_features=24, out_features=128, bias=True)\n",
                        "    )\n",
                        "  )\n",
                        ")\n",
                        " before linear2\n",
                        "Linear(in_features=128, out_features=100, bias=True)\n",
                        " after linear2\n",
                        "Adapted(\n",
                        "  (linear): Linear(in_features=128, out_features=100, bias=True)\n",
                        "  (adaptor): FeatureAdapter(\n",
                        "    (bottleneck_transform): Sequential(\n",
                        "      (0): Linear(in_features=100, out_features=24, bias=True)\n",
                        "      (1): ReLU()\n",
                        "      (2): Linear(in_features=24, out_features=100, bias=True)\n",
                        "    )\n",
                        "  )\n",
                        ")\n",
                        " before linear1\n",
                        "Linear(in_features=100, out_features=128, bias=True)\n",
                        " after  linear1\n",
                        "Adapted(\n",
                        "  (linear): Linear(in_features=100, out_features=128, bias=True)\n",
                        "  (adaptor): FeatureAdapter(\n",
                        "    (bottleneck_transform): Sequential(\n",
                        "      (0): Linear(in_features=128, out_features=24, bias=True)\n",
                        "      (1): ReLU()\n",
                        "      (2): Linear(in_features=24, out_features=128, bias=True)\n",
                        "    )\n",
                        "  )\n",
                        ")\n",
                        " before linear2\n",
                        "Linear(in_features=128, out_features=100, bias=True)\n",
                        " after linear2\n",
                        "Adapted(\n",
                        "  (linear): Linear(in_features=128, out_features=100, bias=True)\n",
                        "  (adaptor): FeatureAdapter(\n",
                        "    (bottleneck_transform): Sequential(\n",
                        "      (0): Linear(in_features=100, out_features=24, bias=True)\n",
                        "      (1): ReLU()\n",
                        "      (2): Linear(in_features=24, out_features=100, bias=True)\n",
                        "    )\n",
                        "  )\n",
                        ")\n"
                    ]
                },
                {
                    "output_type": "stream",
                    "name": "stderr",
                    "text": [
                        "100%|\u2588\u2588\u2588\u2588\u2588\u2588\u2588\u2588\u2588\u2588| 782/782 [05:19<00:00,  2.45it/s]\n"
                    ]
                },
                {
                    "output_type": "execute_result",
                    "data": {
                        "text/plain": [
                            "0.85736"
                        ]
                    },
                    "metadata": {},
                    "execution_count": 63
                }
            ]
        },
        {
            "cell_type": "markdown",
            "source": [
                "## Exercise: Adapt linear layers in a different network"
            ],
            "metadata": {
                "id": "9Kc-i3GOEFo2"
            },
            "id": "9Kc-i3GOEFo2"
        },
        {
            "cell_type": "code",
            "source": [
                "class NeuralNetwork(nn.Module):\n",
                "    def __init__(self):\n",
                "        super().__init__()\n",
                "        self.flatten = nn.Flatten()\n",
                "        self.linear_relu_stack = nn.Sequential(\n",
                "            nn.Linear(28*28, 512),\n",
                "            nn.ReLU(),\n",
                "            nn.Linear(512, 512),\n",
                "            nn.ReLU(),\n",
                "            nn.Linear(512, 10),\n",
                "        )\n",
                "\n",
                "    def forward(self, x):\n",
                "        x = self.flatten(x)\n",
                "        logits = self.linear_relu_stack(x)\n",
                "        return logits\n",
                "\n",
                "exercise_model = NeuralNetwork()\n",
                "\n",
                "exercise_model.to(device)\n",
                "for param in exercise_model.parameters():\n",
                "    param.requires_grad = False\n",
                "\n",
                "print(exercise_model)"
            ],
            "metadata": {
                "id": "VhdUXeuvEDCJ",
                "outputId": "e876f364-4e28-45cc-b862-2fa2ed55266c",
                "colab": {
                    "base_uri": "https://localhost:8080/"
                }
            },
            "id": "VhdUXeuvEDCJ",
            "execution_count": 64,
            "outputs": [
                {
                    "output_type": "stream",
                    "name": "stdout",
                    "text": [
                        "NeuralNetwork(\n",
                        "  (flatten): Flatten(start_dim=1, end_dim=-1)\n",
                        "  (linear_relu_stack): Sequential(\n",
                        "    (0): Linear(in_features=784, out_features=512, bias=True)\n",
                        "    (1): ReLU()\n",
                        "    (2): Linear(in_features=512, out_features=512, bias=True)\n",
                        "    (3): ReLU()\n",
                        "    (4): Linear(in_features=512, out_features=10, bias=True)\n",
                        "  )\n",
                        ")\n"
                    ]
                }
            ]
        },
        {
            "cell_type": "code",
            "source": [
                "exercise_model.linear_relu_stack[0] = Adapted(exercise_model.linear_relu_stack[0], bottleneck_size=30)\n",
                "exercise_model.linear_relu_stack[2] = Adapted(exercise_model.linear_relu_stack[2], bottleneck_size=30)\n",
                "exercise_model.linear_relu_stack[4] = nn.Linear(512, 5)\n",
                "print(exercise_model)"
            ],
            "metadata": {
                "id": "rHD9Js3WEHsv",
                "outputId": "df2b8c81-9668-4aa9-b801-fcd64eac5e7b",
                "colab": {
                    "base_uri": "https://localhost:8080/"
                }
            },
            "id": "rHD9Js3WEHsv",
            "execution_count": 65,
            "outputs": [
                {
                    "output_type": "stream",
                    "name": "stdout",
                    "text": [
                        "NeuralNetwork(\n",
                        "  (flatten): Flatten(start_dim=1, end_dim=-1)\n",
                        "  (linear_relu_stack): Sequential(\n",
                        "    (0): Adapted(\n",
                        "      (linear): Linear(in_features=784, out_features=512, bias=True)\n",
                        "      (adaptor): FeatureAdapter(\n",
                        "        (bottleneck_transform): Sequential(\n",
                        "          (0): Linear(in_features=512, out_features=30, bias=True)\n",
                        "          (1): ReLU()\n",
                        "          (2): Linear(in_features=30, out_features=512, bias=True)\n",
                        "        )\n",
                        "      )\n",
                        "    )\n",
                        "    (1): ReLU()\n",
                        "    (2): Adapted(\n",
                        "      (linear): Linear(in_features=512, out_features=512, bias=True)\n",
                        "      (adaptor): FeatureAdapter(\n",
                        "        (bottleneck_transform): Sequential(\n",
                        "          (0): Linear(in_features=512, out_features=30, bias=True)\n",
                        "          (1): ReLU()\n",
                        "          (2): Linear(in_features=30, out_features=512, bias=True)\n",
                        "        )\n",
                        "      )\n",
                        "    )\n",
                        "    (3): ReLU()\n",
                        "    (4): Linear(in_features=512, out_features=5, bias=True)\n",
                        "  )\n",
                        ")\n"
                    ]
                }
            ]
        },
        {
            "cell_type": "code",
            "source": [
                "!pip freeze > requirements.txt"
            ],
            "metadata": {
                "id": "GV__Jw3FEUE5"
            },
            "id": "GV__Jw3FEUE5",
            "execution_count": 66,
            "outputs": []
        }
    ],
    "metadata": {
        "language_info": {
            "name": "python"
        },
        "colab": {
            "provenance": [],
            "include_colab_link": true
        },
        "kernelspec": {
            "name": "python3",
            "display_name": "Python 3"
        }
    },
    "nbformat": 4,
    "nbformat_minor": 5
}