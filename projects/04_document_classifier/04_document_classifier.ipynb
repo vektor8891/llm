{
  "cells": [
    {
      "cell_type": "markdown",
      "metadata": {
        "id": "view-in-github",
        "colab_type": "text"
      },
      "source": [
        "<a href=\"https://colab.research.google.com/github/vektor8891/llm/blob/main/projects/04_document_classifier/04_document_classifier.ipynb\" target=\"_parent\"><img src=\"https://colab.research.google.com/assets/colab-badge.svg\" alt=\"Open In Colab\"/></a>"
      ]
    },
    {
      "cell_type": "code",
      "source": [
        "# !pip install torchtext==0.15.1\n",
        "# !pip install portalocker"
      ],
      "metadata": {
        "id": "cAn_uGv-HY4i"
      },
      "execution_count": 1,
      "outputs": []
    },
    {
      "cell_type": "markdown",
      "source": [
        "## Define helper functions"
      ],
      "metadata": {
        "id": "N2oJH2bEHDw_"
      }
    },
    {
      "cell_type": "code",
      "execution_count": 2,
      "metadata": {
        "id": "FFifUTlZG_LY"
      },
      "outputs": [],
      "source": [
        "def plot(COST,ACC):\n",
        "    fig, ax1 = plt.subplots()\n",
        "    color = 'tab:red'\n",
        "    ax1.plot(COST, color=color)\n",
        "    ax1.set_xlabel('epoch', color=color)\n",
        "    ax1.set_ylabel('total loss', color=color)\n",
        "    ax1.tick_params(axis='y', color=color)\n",
        "\n",
        "    ax2 = ax1.twinx()\n",
        "    color = 'tab:blue'\n",
        "    ax2.set_ylabel('accuracy', color=color)  # you already handled the x-label with ax1\n",
        "    ax2.plot(ACC, color=color)\n",
        "    ax2.tick_params(axis='y', color=color)\n",
        "    fig.tight_layout()  # otherwise the right y-label is slightly clipped\n",
        "\n",
        "    plt.show()"
      ]
    },
    {
      "cell_type": "markdown",
      "source": [
        "## Import bank dataset"
      ],
      "metadata": {
        "id": "YRUQd5VFHQXT"
      }
    },
    {
      "cell_type": "code",
      "execution_count": 3,
      "metadata": {
        "id": "HaR2LcTAG_LZ"
      },
      "outputs": [],
      "source": [
        "from torchtext.datasets import AG_NEWS\n",
        "\n",
        "train_iter= iter(AG_NEWS(split=\"train\"))"
      ]
    },
    {
      "cell_type": "code",
      "source": [],
      "metadata": {
        "id": "TjNiq3oOHTKx",
        "outputId": "a0251e94-1b85-42a7-c057-7fc98059612a",
        "colab": {
          "base_uri": "https://localhost:8080/",
          "height": 187
        }
      },
      "execution_count": 4,
      "outputs": [
        {
          "output_type": "execute_result",
          "data": {
            "text/plain": [
              "<function torchtext.datasets.ag_news.AG_NEWS(root: str = '.data', split: Union[Tuple[str], str] = ('train', 'test'))>"
            ],
            "text/html": [
              "<div style=\"max-width:800px; border: 1px solid var(--colab-border-color);\"><style>\n",
              "      pre.function-repr-contents {\n",
              "        overflow-x: auto;\n",
              "        padding: 8px 12px;\n",
              "        max-height: 500px;\n",
              "      }\n",
              "\n",
              "      pre.function-repr-contents.function-repr-contents-collapsed {\n",
              "        cursor: pointer;\n",
              "        max-height: 100px;\n",
              "      }\n",
              "    </style>\n",
              "    <pre style=\"white-space: initial; background:\n",
              "         var(--colab-secondary-surface-color); padding: 8px 12px;\n",
              "         border-bottom: 1px solid var(--colab-border-color);\"><b>torchtext.datasets.ag_news.AG_NEWS</b><br/>def AG_NEWS(root: str, split: Union[Tuple[str], str])</pre><pre class=\"function-repr-contents function-repr-contents-collapsed\" style=\"\"><a class=\"filepath\" style=\"display:none\" href=\"#\">/usr/local/lib/python3.11/dist-packages/torchtext/datasets/ag_news.py</a>AG_NEWS Dataset\n",
              "\n",
              ".. warning::\n",
              "\n",
              "    Using datapipes is still currently subject to a few caveats. If you wish\n",
              "    to use this dataset with shuffling, multi-processing, or distributed\n",
              "    learning, please see :ref:`this note &lt;datapipes_warnings&gt;` for further\n",
              "    instructions.\n",
              "\n",
              "For additional details refer to https://paperswithcode.com/dataset/ag-news\n",
              "\n",
              "Number of lines per split:\n",
              "    - train: 120000\n",
              "    - test: 7600\n",
              "\n",
              "Args:\n",
              "    root: Directory where the datasets are saved. Default: os.path.expanduser(&#x27;~/.torchtext/cache&#x27;)\n",
              "    split: split or splits to be returned. Can be a string or tuple of strings. Default: (`train`, `test`)\n",
              "\n",
              ":returns: DataPipe that yields tuple of label (1 to 4) and text\n",
              ":rtype: (int, str)</pre>\n",
              "      <script>\n",
              "      if (google.colab.kernel.accessAllowed && google.colab.files && google.colab.files.view) {\n",
              "        for (const element of document.querySelectorAll('.filepath')) {\n",
              "          element.style.display = 'block'\n",
              "          element.onclick = (event) => {\n",
              "            event.preventDefault();\n",
              "            event.stopPropagation();\n",
              "            google.colab.files.view(element.textContent, 39);\n",
              "          };\n",
              "        }\n",
              "      }\n",
              "      for (const element of document.querySelectorAll('.function-repr-contents')) {\n",
              "        element.onclick = (event) => {\n",
              "          event.preventDefault();\n",
              "          event.stopPropagation();\n",
              "          element.classList.toggle('function-repr-contents-collapsed');\n",
              "        };\n",
              "      }\n",
              "      </script>\n",
              "      </div>"
            ]
          },
          "metadata": {},
          "execution_count": 4
        }
      ]
    },
    {
      "cell_type": "code",
      "source": [],
      "metadata": {
        "id": "iNltqd0NIa8z"
      },
      "execution_count": null,
      "outputs": []
    }
  ],
  "metadata": {
    "kernelspec": {
      "display_name": ".venv",
      "language": "python",
      "name": "python3"
    },
    "language_info": {
      "codemirror_mode": {
        "name": "ipython",
        "version": 3
      },
      "file_extension": ".py",
      "mimetype": "text/x-python",
      "name": "python",
      "nbconvert_exporter": "python",
      "pygments_lexer": "ipython3",
      "version": "3.13.2"
    },
    "colab": {
      "provenance": [],
      "include_colab_link": true
    }
  },
  "nbformat": 4,
  "nbformat_minor": 0
}