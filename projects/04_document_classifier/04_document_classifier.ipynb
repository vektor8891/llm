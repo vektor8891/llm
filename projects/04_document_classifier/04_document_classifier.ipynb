{
    "cells": [
        {
            "cell_type": "markdown",
            "metadata": {
                "id": "view-in-github",
                "colab_type": "text"
            },
            "source": [
                "<a href=\"https://colab.research.google.com/github/vektor8891/llm/blob/main/projects/04_document_classifier/04_document_classifier.ipynb\" target=\"_parent\"><img src=\"https://colab.research.google.com/assets/colab-badge.svg\" alt=\"Open In Colab\"/></a>"
            ]
        },
        {
            "cell_type": "code",
            "source": [
                "# !pip install torchtext==0.15.1\n",
                "# !pip install portalocker"
            ],
            "metadata": {
                "id": "cAn_uGv-HY4i"
            },
            "execution_count": 5,
            "outputs": []
        },
        {
            "cell_type": "markdown",
            "source": [
                "## Define helper functions"
            ],
            "metadata": {
                "id": "N2oJH2bEHDw_"
            }
        },
        {
            "cell_type": "code",
            "execution_count": 52,
            "metadata": {
                "id": "FFifUTlZG_LY"
            },
            "outputs": [],
            "source": [
                "def plot(COST,ACC):\n",
                "    import matplotlib.pyplot as plt\n",
                "\n",
                "    fig, ax1 = plt.subplots()\n",
                "    color = 'tab:red'\n",
                "    ax1.plot(COST, color=color)\n",
                "    ax1.set_xlabel('epoch', color=color)\n",
                "    ax1.set_ylabel('total loss', color=color)\n",
                "    ax1.tick_params(axis='y', color=color)\n",
                "\n",
                "    ax2 = ax1.twinx()\n",
                "    color = 'tab:blue'\n",
                "    ax2.set_ylabel('accuracy', color=color)  # you already handled the x-label with ax1\n",
                "    ax2.plot(ACC, color=color)\n",
                "    ax2.tick_params(axis='y', color=color)\n",
                "    fig.tight_layout()  # otherwise the right y-label is slightly clipped\n",
                "\n",
                "    plt.show()"
            ]
        },
        {
            "cell_type": "markdown",
            "source": [
                "## Import bank dataset"
            ],
            "metadata": {
                "id": "YRUQd5VFHQXT"
            }
        },
        {
            "cell_type": "code",
            "execution_count": 6,
            "metadata": {
                "id": "HaR2LcTAG_LZ",
                "outputId": "f37c5a8e-2750-4d5a-abcc-242a47ba2395",
                "colab": {
                    "base_uri": "https://localhost:8080/"
                }
            },
            "outputs": [
                {
                    "output_type": "stream",
                    "name": "stdout",
                    "text": [
                        "3 Wall St. Bears Claw Back Into the Black (Reuters) Reuters - Short-sellers, Wall Street's dwindling\\band of ultra-cynics, are seeing green again.\n"
                    ]
                }
            ],
            "source": [
                "from torchtext.datasets import AG_NEWS\n",
                "\n",
                "train_iter= iter(AG_NEWS(split=\"train\"))\n",
                "\n",
                "y,text= next((train_iter))\n",
                "print(y,text)"
            ]
        },
        {
            "cell_type": "code",
            "source": [
                "ag_news_label = {1: \"World\", 2: \"Sports\", 3: \"Business\", 4: \"Sci/Tec\"}\n",
                "ag_news_label[y]"
            ],
            "metadata": {
                "id": "TjNiq3oOHTKx",
                "outputId": "8f099cdf-0425-4322-a93c-c0f47fde87fa",
                "colab": {
                    "base_uri": "https://localhost:8080/",
                    "height": 35
                }
            },
            "execution_count": 7,
            "outputs": [
                {
                    "output_type": "execute_result",
                    "data": {
                        "text/plain": [
                            "'Business'"
                        ],
                        "application/vnd.google.colaboratory.intrinsic+json": {
                            "type": "string"
                        }
                    },
                    "metadata": {},
                    "execution_count": 7
                }
            ]
        },
        {
            "cell_type": "code",
            "source": [
                "num_class = len(set([label for (label, text) in train_iter ]))\n",
                "num_class"
            ],
            "metadata": {
                "id": "iNltqd0NIa8z",
                "outputId": "90d6d290-39d9-41dd-fd55-3ddebd77f826",
                "colab": {
                    "base_uri": "https://localhost:8080/"
                }
            },
            "execution_count": 8,
            "outputs": [
                {
                    "output_type": "execute_result",
                    "data": {
                        "text/plain": [
                            "4"
                        ]
                    },
                    "metadata": {},
                    "execution_count": 8
                }
            ]
        },
        {
            "cell_type": "code",
            "source": [
                "from torchtext.data.utils import get_tokenizer\n",
                "from torchtext.vocab import build_vocab_from_iterator\n",
                "\n",
                "# Reinitialize train_iter\n",
                "train_iter = AG_NEWS(split=\"train\")\n",
                "\n",
                "# Define tokenizer and yield_tokens\n",
                "tokenizer = get_tokenizer(\"basic_english\")\n",
                "\n",
                "def yield_tokens(data_iter):\n",
                "    for _, text in data_iter:\n",
                "        yield tokenizer(text.lower())  # Lowercase conversion for consistency\n",
                "\n",
                "# Build vocabulary\n",
                "vocab = build_vocab_from_iterator(yield_tokens(train_iter), specials=[\"<unk>\"])\n",
                "vocab.set_default_index(vocab[\"<unk>\"])\n",
                "\n",
                "# Print the vocabulary size and sample tokens\n",
                "print(f\"Vocabulary size: {len(vocab)}\")\n",
                "print(f\"Sample tokens: {list(vocab.get_stoi().keys())[:10]}\")\n"
            ],
            "metadata": {
                "id": "OC1MIieIv3Td",
                "outputId": "e8607ced-983f-4bda-f58a-fd63daba25cd",
                "colab": {
                    "base_uri": "https://localhost:8080/"
                }
            },
            "execution_count": 11,
            "outputs": [
                {
                    "output_type": "stream",
                    "name": "stdout",
                    "text": [
                        "Vocabulary size: 95811\n",
                        "Sample tokens: ['zzz', 'zygmunt', 'zwiki', 'zvidauri', 'zurine', 'zurab', 'zuo', 'zuloaga', 'zovko', 'zotinca']\n"
                    ]
                }
            ]
        },
        {
            "cell_type": "code",
            "source": [
                "vocab([\"age\",\"hello\"])"
            ],
            "metadata": {
                "id": "_zMEo9P2IujF",
                "outputId": "16e14929-495e-445e-905e-47a9ca160468",
                "colab": {
                    "base_uri": "https://localhost:8080/"
                }
            },
            "execution_count": 12,
            "outputs": [
                {
                    "output_type": "execute_result",
                    "data": {
                        "text/plain": [
                            "[2120, 12544]"
                        ]
                    },
                    "metadata": {},
                    "execution_count": 12
                }
            ]
        },
        {
            "cell_type": "markdown",
            "source": [
                "## Dataset"
            ],
            "metadata": {
                "id": "F9DIgb_ZIzAW"
            }
        },
        {
            "cell_type": "code",
            "source": [
                "from torchtext.data.functional import to_map_style_dataset\n",
                "from torch.utils.data.dataset import random_split\n",
                "\n",
                "# Split the dataset into training and testing iterators.\n",
                "train_iter, test_iter = AG_NEWS()\n",
                "\n",
                "# Convert the training and testing iterators to map-style datasets.\n",
                "train_dataset = to_map_style_dataset(train_iter)\n",
                "test_dataset = to_map_style_dataset(test_iter)\n",
                "\n",
                "# Determine the number of samples to be used for training and validation (5% for validation).\n",
                "num_train = int(len(train_dataset) * 0.95)\n",
                "\n",
                "# Randomly split the training dataset into training and validation datasets using `random_split`.\n",
                "# The training dataset will contain 95% of the samples, and the validation dataset will contain the remaining 5%.\n",
                "split_train_, split_valid_ = random_split(train_dataset, [num_train, len(train_dataset) - num_train])"
            ],
            "metadata": {
                "id": "V3_VhJoMI0Gz"
            },
            "execution_count": 13,
            "outputs": []
        },
        {
            "cell_type": "code",
            "source": [
                "import torch\n",
                "\n",
                "device = torch.device(\"cuda\" if torch.cuda.is_available() else \"cpu\")\n",
                "device"
            ],
            "metadata": {
                "id": "OPQyZsN_JErl",
                "outputId": "70108d7e-3b97-405f-f3a2-fd4a1e1d65f5",
                "colab": {
                    "base_uri": "https://localhost:8080/"
                }
            },
            "execution_count": 15,
            "outputs": [
                {
                    "output_type": "execute_result",
                    "data": {
                        "text/plain": [
                            "device(type='cpu')"
                        ]
                    },
                    "metadata": {},
                    "execution_count": 15
                }
            ]
        },
        {
            "cell_type": "markdown",
            "source": [
                "## Data loader"
            ],
            "metadata": {
                "id": "4SSBd4_hJWrg"
            }
        },
        {
            "cell_type": "code",
            "source": [
                "def text_pipeline(x):\n",
                "  return vocab(tokenizer(x))\n",
                "\n",
                "def label_pipeline(x):\n",
                "   return int(x) - 1\n",
                "\n",
                "def collate_batch(batch):\n",
                "    label_list, text_list, offsets = [], [], [0]\n",
                "    for _label, _text in batch:\n",
                "        label_list.append(label_pipeline(_label))\n",
                "        processed_text = torch.tensor(text_pipeline(_text), dtype=torch.int64)\n",
                "        text_list.append(processed_text)\n",
                "        offsets.append(processed_text.size(0))\n",
                "    label_list = torch.tensor(label_list, dtype=torch.int64)\n",
                "    offsets = torch.tensor(offsets[:-1]).cumsum(dim=0)\n",
                "    text_list = torch.cat(text_list)\n",
                "    return label_list.to(device), text_list.to(device), offsets.to(device)"
            ],
            "metadata": {
                "id": "-XD9lKEVJJQP"
            },
            "execution_count": 18,
            "outputs": []
        },
        {
            "cell_type": "code",
            "source": [
                "from torch.utils.data import DataLoader\n",
                "\n",
                "BATCH_SIZE = 64\n",
                "\n",
                "train_dataloader = DataLoader(\n",
                "    split_train_, batch_size=BATCH_SIZE, shuffle=True, collate_fn=collate_batch\n",
                ")\n",
                "valid_dataloader = DataLoader(\n",
                "    split_valid_, batch_size=BATCH_SIZE, shuffle=True, collate_fn=collate_batch\n",
                ")\n",
                "test_dataloader = DataLoader(\n",
                "    test_dataset, batch_size=BATCH_SIZE, shuffle=True, collate_fn=collate_batch\n",
                ")"
            ],
            "metadata": {
                "id": "s-ldULqUJYy3"
            },
            "execution_count": 19,
            "outputs": []
        },
        {
            "cell_type": "markdown",
            "source": [
                "## Neural network"
            ],
            "metadata": {
                "id": "ceF9VUxFJ8gJ"
            }
        },
        {
            "cell_type": "code",
            "source": [
                "from torch import nn\n",
                "\n",
                "class TextClassificationModel(nn.Module):\n",
                "    def __init__(self, vocab_size, embed_dim, num_class):\n",
                "        super(TextClassificationModel, self).__init__()\n",
                "        self.embedding = nn.EmbeddingBag(vocab_size, embed_dim, sparse=False)\n",
                "        self.fc = nn.Linear(embed_dim, num_class)\n",
                "        self.init_weights()\n",
                "\n",
                "    def init_weights(self):\n",
                "        initrange = 0.5\n",
                "        self.embedding.weight.data.uniform_(-initrange, initrange)\n",
                "        self.fc.weight.data.uniform_(-initrange, initrange)\n",
                "        self.fc.bias.data.zero_()\n",
                "\n",
                "    def forward(self, text, offsets):\n",
                "        embedded = self.embedding(text, offsets)\n",
                "        return self.fc(embedded)"
            ],
            "metadata": {
                "id": "xJMakGsoJzc3"
            },
            "execution_count": 21,
            "outputs": []
        },
        {
            "cell_type": "code",
            "source": [
                "# embedding size\n",
                "emsize=64\n",
                "\n",
                "vocab_size=len(vocab)\n",
                "vocab_size\n",
                "\n",
                "model = TextClassificationModel(vocab_size, emsize, num_class).to(device)\n",
                "model"
            ],
            "metadata": {
                "id": "fMRcDG4EJ-p7",
                "outputId": "9bf6b8d8-9ce8-4a73-a113-fb765625ef74",
                "colab": {
                    "base_uri": "https://localhost:8080/"
                }
            },
            "execution_count": 22,
            "outputs": [
                {
                    "output_type": "execute_result",
                    "data": {
                        "text/plain": [
                            "TextClassificationModel(\n",
                            "  (embedding): EmbeddingBag(95811, 64, mode='mean')\n",
                            "  (fc): Linear(in_features=64, out_features=4, bias=True)\n",
                            ")"
                        ]
                    },
                    "metadata": {},
                    "execution_count": 22
                }
            ]
        },
        {
            "cell_type": "code",
            "source": [
                "predicted_label=model(text, offsets)"
            ],
            "metadata": {
                "id": "H8YjWN5RKG4G"
            },
            "execution_count": 23,
            "outputs": []
        },
        {
            "cell_type": "code",
            "source": [
                "predicted_label.shape"
            ],
            "metadata": {
                "id": "GKhTfpPpLNgg",
                "outputId": "ed6282c1-24c0-4195-83a9-4ddb01584a3a",
                "colab": {
                    "base_uri": "https://localhost:8080/"
                }
            },
            "execution_count": 33,
            "outputs": [
                {
                    "output_type": "execute_result",
                    "data": {
                        "text/plain": [
                            "torch.Size([64, 4])"
                        ]
                    },
                    "metadata": {},
                    "execution_count": 33
                }
            ]
        },
        {
            "cell_type": "code",
            "source": [
                "def predict(text, text_pipeline):\n",
                "    with torch.no_grad():\n",
                "        text = torch.tensor(text_pipeline(text))\n",
                "        output = model(text, torch.tensor([0]))\n",
                "        return ag_news_label[output.argmax(1).item() + 1]\n",
                "\n",
                "predict(\"I like sports\",text_pipeline )"
            ],
            "metadata": {
                "id": "TGxKmTp1Ncc2",
                "outputId": "d75220aa-87a9-4c5b-d428-c6172195b678",
                "colab": {
                    "base_uri": "https://localhost:8080/",
                    "height": 35
                }
            },
            "execution_count": 38,
            "outputs": [
                {
                    "output_type": "execute_result",
                    "data": {
                        "text/plain": [
                            "'World'"
                        ],
                        "application/vnd.google.colaboratory.intrinsic+json": {
                            "type": "string"
                        }
                    },
                    "metadata": {},
                    "execution_count": 38
                }
            ]
        },
        {
            "cell_type": "code",
            "source": [
                "def evaluate(dataloader):\n",
                "    model.eval()\n",
                "    total_acc, total_count= 0, 0\n",
                "\n",
                "    with torch.no_grad():\n",
                "        for idx, (label, text, offsets) in enumerate(dataloader):\n",
                "            predicted_label = model(text, offsets)\n",
                "\n",
                "            total_acc += (predicted_label.argmax(1) == label).sum().item()\n",
                "            total_count += label.size(0)\n",
                "    return total_acc / total_count\n",
                "\n",
                "evaluate(test_dataloader)"
            ],
            "metadata": {
                "id": "u2QjbIs8NsCA",
                "outputId": "b8b26484-2e95-47df-b12a-5a51efa2018a",
                "colab": {
                    "base_uri": "https://localhost:8080/"
                }
            },
            "execution_count": 47,
            "outputs": [
                {
                    "output_type": "execute_result",
                    "data": {
                        "text/plain": [
                            "0.2388157894736842"
                        ]
                    },
                    "metadata": {},
                    "execution_count": 47
                }
            ]
        },
        {
            "cell_type": "markdown",
            "source": [
                "## Train the model"
            ],
            "metadata": {
                "id": "618i8KvWOu0M"
            }
        },
        {
            "cell_type": "code",
            "source": [
                "# learning rate\n",
                "LR=0.1\n",
                "\n",
                "criterion = torch.nn.CrossEntropyLoss()\n",
                "optimizer = torch.optim.SGD(model.parameters(), lr=LR) # Stochastic Gradient Descen\n",
                "scheduler = torch.optim.lr_scheduler.StepLR(optimizer, 1.0, gamma=0.1) # learning rate scheduler"
            ],
            "metadata": {
                "id": "0Wb3_LaSN4jL"
            },
            "execution_count": 48,
            "outputs": []
        },
        {
            "cell_type": "code",
            "source": [
                "from tqdm import tqdm\n",
                "\n",
                "# Train the model (~20 mins)\n",
                "EPOCHS = 10\n",
                "cum_loss_list=[]\n",
                "acc_epoch=[]\n",
                "acc_old=0\n",
                "\n",
                "for epoch in tqdm(range(1, EPOCHS + 1)):\n",
                "    model.train()\n",
                "    cum_loss=0\n",
                "    for idx, (label, text, offsets) in enumerate(train_dataloader):\n",
                "        optimizer.zero_grad()\n",
                "        predicted_label = model(text, offsets)\n",
                "        loss = criterion(predicted_label, label)\n",
                "        loss.backward()\n",
                "        torch.nn.utils.clip_grad_norm_(model.parameters(), 0.1)\n",
                "        optimizer.step()\n",
                "        cum_loss+=loss.item()\n",
                "\n",
                "    cum_loss_list.append(cum_loss)\n",
                "    accu_val = evaluate(valid_dataloader)\n",
                "    acc_epoch.append(accu_val)\n",
                "\n",
                "    if accu_val > acc_old:\n",
                "      acc_old= accu_val\n",
                "      torch.save(model.state_dict(), 'my_model.pth')"
            ],
            "metadata": {
                "id": "p2xk41g3Oy96",
                "outputId": "f8212eb8-4cb0-4c3e-bc61-c16630ba62e5",
                "colab": {
                    "base_uri": "https://localhost:8080/"
                }
            },
            "execution_count": 50,
            "outputs": [
                {
                    "output_type": "stream",
                    "name": "stderr",
                    "text": [
                        "100%|\u2588\u2588\u2588\u2588\u2588\u2588\u2588\u2588\u2588\u2588| 10/10 [06:48<00:00, 40.81s/it]\n"
                    ]
                }
            ]
        },
        {
            "cell_type": "code",
            "source": [
                "plot(cum_loss_list,acc_epoch)"
            ],
            "metadata": {
                "id": "tFO3iPdkPGFc",
                "outputId": "ce1a2420-f5c4-40a5-803e-05e9229c0c52",
                "colab": {
                    "base_uri": "https://localhost:8080/",
                    "height": 487
                }
            },
            "execution_count": 53,
            "outputs": [
                {
                    "output_type": "display_data",
                    "data": {
                        "text/plain": [
                            "<Figure size 640x480 with 2 Axes>"
                        ],
                        "image/png": "[encoded data removed]"
                    },
                    "metadata": {}
                }
            ]
        },
        {
            "cell_type": "code",
            "source": [
                "evaluate(test_dataloader)"
            ],
            "metadata": {
                "id": "ijlaE_E1QzEq",
                "outputId": "e1bf1b87-2c9f-4812-92fe-31cb11f91746",
                "colab": {
                    "base_uri": "https://localhost:8080/"
                }
            },
            "execution_count": 54,
            "outputs": [
                {
                    "output_type": "execute_result",
                    "data": {
                        "text/plain": [
                            "0.8167105263157894"
                        ]
                    },
                    "metadata": {},
                    "execution_count": 54
                }
            ]
        },
        {
            "cell_type": "code",
            "source": [
                "from sklearn.manifold import TSNE\n",
                "import plotly.graph_objs as go\n",
                "\n",
                "# Get the first batch from the validation data\n",
                "batch = next(iter(valid_dataloader))\n",
                "\n",
                "# Extract the text and offsets from the batch\n",
                "label, text, offsets = batch\n",
                "\n",
                "# Send the data to the device (GPU if available)\n",
                "text = text.to(device)\n",
                "offsets = offsets.to(device)\n",
                "\n",
                "# Get the embeddings bag output for the batch\n",
                "embedded = model.embedding(text, offsets)\n",
                "\n",
                "# Convert the embeddings tensor to a numpy array\n",
                "embeddings_numpy = embedded.detach().cpu().numpy()\n",
                "\n",
                "# Perform t-SNE on the embeddings to reduce their dimensionality to 3D.\n",
                "X_embedded_3d = TSNE(n_components=3).fit_transform(embeddings_numpy)\n",
                "\n",
                "# Create a 3D scatter plot using Plotly\n",
                "trace = go.Scatter3d(\n",
                "    x=X_embedded_3d[:, 0],\n",
                "    y=X_embedded_3d[:, 1],\n",
                "    z=X_embedded_3d[:, 2],\n",
                "    mode='markers',\n",
                "    marker=dict(\n",
                "        size=5,\n",
                "        color=label.numpy(),  # Use label information for color\n",
                "        colorscale='Viridis',  # Choose a colorscale\n",
                "        opacity=0.8\n",
                "    )\n",
                ")\n",
                "\n",
                "layout = go.Layout(title=\"3D t-SNE Visualization of Embeddings\",\n",
                "                   scene=dict(xaxis_title='Dimension 1',\n",
                "                              yaxis_title='Dimension 2',\n",
                "                              zaxis_title='Dimension 3'))\n",
                "\n",
                "fig = go.Figure(data=[trace], layout=layout)\n",
                "fig.show()"
            ],
            "metadata": {
                "id": "R6Ow_njuQ_Eh",
                "outputId": "8a54a7ca-db23-4afe-b858-87e22791ac81",
                "colab": {
                    "base_uri": "https://localhost:8080/",
                    "height": 542
                }
            },
            "execution_count": 57,
            "outputs": [
                {
                    "output_type": "display_data",
                    "data": {
                        "text/html": [
                            "<html>\n",
                            "<head><meta charset=\"utf-8\" /></head>\n",
                            "<body>\n",
                            "    <div>            <script src=\"https://cdnjs.cloudflare.com/ajax/libs/mathjax/2.7.5/MathJax.js?config=TeX-AMS-MML_SVG\"></script><script type=\"text/javascript\">if (window.MathJax && window.MathJax.Hub && window.MathJax.Hub.Config) {window.MathJax.Hub.Config({SVG: {font: \"STIX-Web\"}});}</script>                <script type=\"text/javascript\">window.PlotlyConfig = {MathJaxConfig: 'local'};</script>\n",
                            "        <script charset=\"utf-8\" src=\"https://cdn.plot.ly/plotly-2.35.2.min.js\"></script>                <div id=\"91d90a1f-301e-40b7-8efc-b84e98a4653d\" class=\"plotly-graph-div\" style=\"height:525px; width:100%;\"></div>            <script type=\"text/javascript\">                                    window.PLOTLYENV=window.PLOTLYENV || {};                                    if (document.getElementById(\"91d90a1f-301e-40b7-8efc-b84e98a4653d\")) {                    Plotly.newPlot(                        \"91d90a1f-301e-40b7-8efc-b84e98a4653d\",                        [{\"marker\":{\"color\":[2,2,0,0,3,1,2,0,1,2,2,3,3,1,0,0,2,3,0,1,1,0,1,2,1,2,3,0,2,0,2,2,2,3,3,2,0,1,2,0,0,0,0,0,3,2,0,1,0,1,1,0,3,1,2,0,2,1,3,0,0,3,0,2],\"colorscale\":[[0.0,\"#440154\"],[0.1111111111111111,\"#482878\"],[0.2222222222222222,\"#3e4989\"],[0.3333333333333333,\"#31688e\"],[0.4444444444444444,\"#26828e\"],[0.5555555555555556,\"#1f9e89\"],[0.6666666666666666,\"#35b779\"],[0.7777777777777778,\"#6ece58\"],[0.8888888888888888,\"#b5de2b\"],[1.0,\"#fde725\"]],\"opacity\":0.8,\"size\":5},\"mode\":\"markers\",\"x\":[119.40955,54.469063,8.43637,61.83977,-23.672556,-31.81074,75.95168,-103.95262,-68.1252,12.042967,42.42814,14.964898,-140.87605,-23.066545,60.450195,111.274925,-1.6128664,-0.43218032,55.50986,-104.0037,-141.5459,-23.841587,43.252953,-40.665745,5.6632257,84.0946,34.835545,123.86334,67.35935,-76.15273,-75.52177,59.325886,-10.496733,-49.347355,33.88477,130.4198,-4.035312,98.60097,72.290184,-68.38689,-2.251674,110.361885,48.64872,-31.101465,91.08194,25.008991,-92.85062,-53.734657,-11.577088,7.760529,93.46727,4.091581,-54.16194,-109.85405,-11.2341385,-48.67755,30.590889,33.900562,-91.59693,-81.87729,-15.552982,-1.9769136,-45.815937,53.37028],\"y\":[35.07014,-37.96916,-57.649952,-37.0059,-9.196506,-100.28137,-13.751012,-42.388195,80.75747,78.89879,-106.49589,65.32308,4.470879,-51.678547,8.94413,-33.93678,21.834728,-144.80394,25.576525,-95.34058,-34.808453,98.302795,-102.37105,-63.249054,-43.29931,57.666855,3.3140929,-25.250658,141.92552,-18.85935,23.172447,119.79856,-124.18338,32.689144,68.99702,49.54066,12.203244,-83.217445,66.830765,15.743871,42.897182,-0.7477542,-14.113078,113.93512,87.74468,120.44361,2.8340344,-101.30347,-4.9195843,-57.923016,-85.79652,8.589532,79.18296,34.408585,49.62061,-52.100388,125.56492,-86.80508,89.39028,-58.525463,-124.91067,-67.878586,34.263897,-84.54537],\"z\":[-67.712105,-6.9986606,-138.34746,-158.29099,-106.42241,108.49535,-59.096897,-63.883583,69.203255,102.55401,-40.96074,36.297363,-20.515335,64.23361,126.256256,99.63588,153.97012,55.231487,0.6250773,-3.6421819,39.266846,-110.53075,27.034296,-84.50876,114.412,74.816696,-107.91284,3.1807003,-21.013475,18.708742,-101.986435,51.862938,-87.19141,121.561966,-52.437157,8.582256,68.125114,-31.897545,-108.76972,-38.219242,-139.10805,56.377888,52.732727,-14.409576,-21.92298,10.612538,88.21684,36.094368,13.786356,-39.940662,59.8132,-54.086884,-59.030396,40.190655,-20.205801,-22.732368,-79.36981,82.957375,-0.46908924,78.55603,-13.199115,22.16187,32.84652,-92.61269],\"type\":\"scatter3d\"}],                        {\"scene\":{\"xaxis\":{\"title\":{\"text\":\"Dimension 1\"}},\"yaxis\":{\"title\":{\"text\":\"Dimension 2\"}},\"zaxis\":{\"title\":{\"text\":\"Dimension 3\"}}},\"title\":{\"text\":\"3D t-SNE Visualization of Embeddings\"},\"template\":{\"data\":{\"histogram2dcontour\":[{\"type\":\"histogram2dcontour\",\"colorbar\":{\"outlinewidth\":0,\"ticks\":\"\"},\"colorscale\":[[0.0,\"#0d0887\"],[0.1111111111111111,\"#46039f\"],[0.2222222222222222,\"#7201a8\"],[0.3333333333333333,\"#9c179e\"],[0.4444444444444444,\"#bd3786\"],[0.5555555555555556,\"#d8576b\"],[0.6666666666666666,\"#ed7953\"],[0.7777777777777778,\"#fb9f3a\"],[0.8888888888888888,\"#fdca26\"],[1.0,\"#f0f921\"]]}],\"choropleth\":[{\"type\":\"choropleth\",\"colorbar\":{\"outlinewidth\":0,\"ticks\":\"\"}}],\"histogram2d\":[{\"type\":\"histogram2d\",\"colorbar\":{\"outlinewidth\":0,\"ticks\":\"\"},\"colorscale\":[[0.0,\"#0d0887\"],[0.1111111111111111,\"#46039f\"],[0.2222222222222222,\"#7201a8\"],[0.3333333333333333,\"#9c179e\"],[0.4444444444444444,\"#bd3786\"],[0.5555555555555556,\"#d8576b\"],[0.6666666666666666,\"#ed7953\"],[0.7777777777777778,\"#fb9f3a\"],[0.8888888888888888,\"#fdca26\"],[1.0,\"#f0f921\"]]}],\"heatmap\":[{\"type\":\"heatmap\",\"colorbar\":{\"outlinewidth\":0,\"ticks\":\"\"},\"colorscale\":[[0.0,\"#0d0887\"],[0.1111111111111111,\"#46039f\"],[0.2222222222222222,\"#7201a8\"],[0.3333333333333333,\"#9c179e\"],[0.4444444444444444,\"#bd3786\"],[0.5555555555555556,\"#d8576b\"],[0.6666666666666666,\"#ed7953\"],[0.7777777777777778,\"#fb9f3a\"],[0.8888888888888888,\"#fdca26\"],[1.0,\"#f0f921\"]]}],\"heatmapgl\":[{\"type\":\"heatmapgl\",\"colorbar\":{\"outlinewidth\":0,\"ticks\":\"\"},\"colorscale\":[[0.0,\"#0d0887\"],[0.1111111111111111,\"#46039f\"],[0.2222222222222222,\"#7201a8\"],[0.3333333333333333,\"#9c179e\"],[0.4444444444444444,\"#bd3786\"],[0.5555555555555556,\"#d8576b\"],[0.6666666666666666,\"#ed7953\"],[0.7777777777777778,\"#fb9f3a\"],[0.8888888888888888,\"#fdca26\"],[1.0,\"#f0f921\"]]}],\"contourcarpet\":[{\"type\":\"contourcarpet\",\"colorbar\":{\"outlinewidth\":0,\"ticks\":\"\"}}],\"contour\":[{\"type\":\"contour\",\"colorbar\":{\"outlinewidth\":0,\"ticks\":\"\"},\"colorscale\":[[0.0,\"#0d0887\"],[0.1111111111111111,\"#46039f\"],[0.2222222222222222,\"#7201a8\"],[0.3333333333333333,\"#9c179e\"],[0.4444444444444444,\"#bd3786\"],[0.5555555555555556,\"#d8576b\"],[0.6666666666666666,\"#ed7953\"],[0.7777777777777778,\"#fb9f3a\"],[0.8888888888888888,\"#fdca26\"],[1.0,\"#f0f921\"]]}],\"surface\":[{\"type\":\"surface\",\"colorbar\":{\"outlinewidth\":0,\"ticks\":\"\"},\"colorscale\":[[0.0,\"#0d0887\"],[0.1111111111111111,\"#46039f\"],[0.2222222222222222,\"#7201a8\"],[0.3333333333333333,\"#9c179e\"],[0.4444444444444444,\"#bd3786\"],[0.5555555555555556,\"#d8576b\"],[0.6666666666666666,\"#ed7953\"],[0.7777777777777778,\"#fb9f3a\"],[0.8888888888888888,\"#fdca26\"],[1.0,\"#f0f921\"]]}],\"mesh3d\":[{\"type\":\"mesh3d\",\"colorbar\":{\"outlinewidth\":0,\"ticks\":\"\"}}],\"scatter\":[{\"fillpattern\":{\"fillmode\":\"overlay\",\"size\":10,\"solidity\":0.2},\"type\":\"scatter\"}],\"parcoords\":[{\"type\":\"parcoords\",\"line\":{\"colorbar\":{\"outlinewidth\":0,\"ticks\":\"\"}}}],\"scatterpolargl\":[{\"type\":\"scatterpolargl\",\"marker\":{\"colorbar\":{\"outlinewidth\":0,\"ticks\":\"\"}}}],\"bar\":[{\"error_x\":{\"color\":\"#2a3f5f\"},\"error_y\":{\"color\":\"#2a3f5f\"},\"marker\":{\"line\":{\"color\":\"#E5ECF6\",\"width\":0.5},\"pattern\":{\"fillmode\":\"overlay\",\"size\":10,\"solidity\":0.2}},\"type\":\"bar\"}],\"scattergeo\":[{\"type\":\"scattergeo\",\"marker\":{\"colorbar\":{\"outlinewidth\":0,\"ticks\":\"\"}}}],\"scatterpolar\":[{\"type\":\"scatterpolar\",\"marker\":{\"colorbar\":{\"outlinewidth\":0,\"ticks\":\"\"}}}],\"histogram\":[{\"marker\":{\"pattern\":{\"fillmode\":\"overlay\",\"size\":10,\"solidity\":0.2}},\"type\":\"histogram\"}],\"scattergl\":[{\"type\":\"scattergl\",\"marker\":{\"colorbar\":{\"outlinewidth\":0,\"ticks\":\"\"}}}],\"scatter3d\":[{\"type\":\"scatter3d\",\"line\":{\"colorbar\":{\"outlinewidth\":0,\"ticks\":\"\"}},\"marker\":{\"colorbar\":{\"outlinewidth\":0,\"ticks\":\"\"}}}],\"scattermapbox\":[{\"type\":\"scattermapbox\",\"marker\":{\"colorbar\":{\"outlinewidth\":0,\"ticks\":\"\"}}}],\"scatterternary\":[{\"type\":\"scatterternary\",\"marker\":{\"colorbar\":{\"outlinewidth\":0,\"ticks\":\"\"}}}],\"scattercarpet\":[{\"type\":\"scattercarpet\",\"marker\":{\"colorbar\":{\"outlinewidth\":0,\"ticks\":\"\"}}}],\"carpet\":[{\"aaxis\":{\"endlinecolor\":\"#2a3f5f\",\"gridcolor\":\"white\",\"linecolor\":\"white\",\"minorgridcolor\":\"white\",\"startlinecolor\":\"#2a3f5f\"},\"baxis\":{\"endlinecolor\":\"#2a3f5f\",\"gridcolor\":\"white\",\"linecolor\":\"white\",\"minorgridcolor\":\"white\",\"startlinecolor\":\"#2a3f5f\"},\"type\":\"carpet\"}],\"table\":[{\"cells\":{\"fill\":{\"color\":\"#EBF0F8\"},\"line\":{\"color\":\"white\"}},\"header\":{\"fill\":{\"color\":\"#C8D4E3\"},\"line\":{\"color\":\"white\"}},\"type\":\"table\"}],\"barpolar\":[{\"marker\":{\"line\":{\"color\":\"#E5ECF6\",\"width\":0.5},\"pattern\":{\"fillmode\":\"overlay\",\"size\":10,\"solidity\":0.2}},\"type\":\"barpolar\"}],\"pie\":[{\"automargin\":true,\"type\":\"pie\"}]},\"layout\":{\"autotypenumbers\":\"strict\",\"colorway\":[\"#636efa\",\"#EF553B\",\"#00cc96\",\"#ab63fa\",\"#FFA15A\",\"#19d3f3\",\"#FF6692\",\"#B6E880\",\"#FF97FF\",\"#FECB52\"],\"font\":{\"color\":\"#2a3f5f\"},\"hovermode\":\"closest\",\"hoverlabel\":{\"align\":\"left\"},\"paper_bgcolor\":\"white\",\"plot_bgcolor\":\"#E5ECF6\",\"polar\":{\"bgcolor\":\"#E5ECF6\",\"angularaxis\":{\"gridcolor\":\"white\",\"linecolor\":\"white\",\"ticks\":\"\"},\"radialaxis\":{\"gridcolor\":\"white\",\"linecolor\":\"white\",\"ticks\":\"\"}},\"ternary\":{\"bgcolor\":\"#E5ECF6\",\"aaxis\":{\"gridcolor\":\"white\",\"linecolor\":\"white\",\"ticks\":\"\"},\"baxis\":{\"gridcolor\":\"white\",\"linecolor\":\"white\",\"ticks\":\"\"},\"caxis\":{\"gridcolor\":\"white\",\"linecolor\":\"white\",\"ticks\":\"\"}},\"coloraxis\":{\"colorbar\":{\"outlinewidth\":0,\"ticks\":\"\"}},\"colorscale\":{\"sequential\":[[0.0,\"#0d0887\"],[0.1111111111111111,\"#46039f\"],[0.2222222222222222,\"#7201a8\"],[0.3333333333333333,\"#9c179e\"],[0.4444444444444444,\"#bd3786\"],[0.5555555555555556,\"#d8576b\"],[0.6666666666666666,\"#ed7953\"],[0.7777777777777778,\"#fb9f3a\"],[0.8888888888888888,\"#fdca26\"],[1.0,\"#f0f921\"]],\"sequentialminus\":[[0.0,\"#0d0887\"],[0.1111111111111111,\"#46039f\"],[0.2222222222222222,\"#7201a8\"],[0.3333333333333333,\"#9c179e\"],[0.4444444444444444,\"#bd3786\"],[0.5555555555555556,\"#d8576b\"],[0.6666666666666666,\"#ed7953\"],[0.7777777777777778,\"#fb9f3a\"],[0.8888888888888888,\"#fdca26\"],[1.0,\"#f0f921\"]],\"diverging\":[[0,\"#8e0152\"],[0.1,\"#c51b7d\"],[0.2,\"#de77ae\"],[0.3,\"#f1b6da\"],[0.4,\"#fde0ef\"],[0.5,\"#f7f7f7\"],[0.6,\"#e6f5d0\"],[0.7,\"#b8e186\"],[0.8,\"#7fbc41\"],[0.9,\"#4d9221\"],[1,\"#276419\"]]},\"xaxis\":{\"gridcolor\":\"white\",\"linecolor\":\"white\",\"ticks\":\"\",\"title\":{\"standoff\":15},\"zerolinecolor\":\"white\",\"automargin\":true,\"zerolinewidth\":2},\"yaxis\":{\"gridcolor\":\"white\",\"linecolor\":\"white\",\"ticks\":\"\",\"title\":{\"standoff\":15},\"zerolinecolor\":\"white\",\"automargin\":true,\"zerolinewidth\":2},\"scene\":{\"xaxis\":{\"backgroundcolor\":\"#E5ECF6\",\"gridcolor\":\"white\",\"linecolor\":\"white\",\"showbackground\":true,\"ticks\":\"\",\"zerolinecolor\":\"white\",\"gridwidth\":2},\"yaxis\":{\"backgroundcolor\":\"#E5ECF6\",\"gridcolor\":\"white\",\"linecolor\":\"white\",\"showbackground\":true,\"ticks\":\"\",\"zerolinecolor\":\"white\",\"gridwidth\":2},\"zaxis\":{\"backgroundcolor\":\"#E5ECF6\",\"gridcolor\":\"white\",\"linecolor\":\"white\",\"showbackground\":true,\"ticks\":\"\",\"zerolinecolor\":\"white\",\"gridwidth\":2}},\"shapedefaults\":{\"line\":{\"color\":\"#2a3f5f\"}},\"annotationdefaults\":{\"arrowcolor\":\"#2a3f5f\",\"arrowhead\":0,\"arrowwidth\":1},\"geo\":{\"bgcolor\":\"white\",\"landcolor\":\"#E5ECF6\",\"subunitcolor\":\"white\",\"showland\":true,\"showlakes\":true,\"lakecolor\":\"white\"},\"title\":{\"x\":0.05},\"mapbox\":{\"style\":\"light\"}}}},                        {\"responsive\": true}                    ).then(function(){\n",
                            "                            \n",
                            "var gd = document.getElementById('91d90a1f-301e-40b7-8efc-b84e98a4653d');\n",
                            "var x = new MutationObserver(function (mutations, observer) {{\n",
                            "        var display = window.getComputedStyle(gd).display;\n",
                            "        if (!display || display === 'none') {{\n",
                            "            console.log([gd, 'removed!']);\n",
                            "            Plotly.purge(gd);\n",
                            "            observer.disconnect();\n",
                            "        }}\n",
                            "}});\n",
                            "\n",
                            "// Listen for the removal of the full notebook cells\n",
                            "var notebookContainer = gd.closest('#notebook-container');\n",
                            "if (notebookContainer) {{\n",
                            "    x.observe(notebookContainer, {childList: true});\n",
                            "}}\n",
                            "\n",
                            "// Listen for the clearing of the current output cell\n",
                            "var outputEl = gd.closest('.output');\n",
                            "if (outputEl) {{\n",
                            "    x.observe(outputEl, {childList: true});\n",
                            "}}\n",
                            "\n",
                            "                        })                };                            </script>        </div>\n",
                            "</body>\n",
                            "</html>"
                        ]
                    },
                    "metadata": {}
                }
            ]
        },
        {
            "cell_type": "code",
            "source": [
                "from IPython.display import Markdown as md\n",
                "\n",
                "article=\"\"\"Canada navigated a stiff test against the Republic of Ireland on a rain soaked evening in Perth, coming from behind to claim a vital 2-1 victory at the Women\u2019s World Cup.\n",
                "Katie McCabe opened the scoring with an incredible Olimpico goal \u2013 scoring straight from a corner kick \u2013 as her corner flew straight over the despairing Canada goalkeeper Kailen Sheridan at Perth Rectangular Stadium in Australia.\n",
                "Just when Ireland thought it had safely navigated itself to half time with a lead, Megan Connolly failed to get a clean connection on a clearance with the resulting contact squirming into her own net to level the score.\n",
                "Minutes into the second half, Adriana Leon completed the turnaround for the Olympic champion, slotting home from the edge of the area to seal the three points.\"\"\"\n",
                "\n",
                "result = predict(article, text_pipeline)\n",
                "\n",
                "markdown_content = f'''\n",
                "<div style=\"background-color: lightgray; padding: 10px;\">\n",
                "    <h3>{article}</h3>\n",
                "    <h4>The category of the news article: {result}</h4>\n",
                "</div>\n",
                "'''\n",
                "\n",
                "md(markdown_content)"
            ],
            "metadata": {
                "id": "MalXXtisRHio",
                "outputId": "493850ef-fd91-44bf-ce56-8ffa06282207",
                "colab": {
                    "base_uri": "https://localhost:8080/",
                    "height": 215
                }
            },
            "execution_count": 62,
            "outputs": [
                {
                    "output_type": "execute_result",
                    "data": {
                        "text/plain": [
                            "<IPython.core.display.Markdown object>"
                        ],
                        "text/markdown": "\n<div style=\"background-color: lightgray; padding: 10px;\">\n    <h3>Canada navigated a stiff test against the Republic of Ireland on a rain soaked evening in Perth, coming from behind to claim a vital 2-1 victory at the Women\u2019s World Cup.\nKatie McCabe opened the scoring with an incredible Olimpico goal \u2013 scoring straight from a corner kick \u2013 as her corner flew straight over the despairing Canada goalkeeper Kailen Sheridan at Perth Rectangular Stadium in Australia.\nJust when Ireland thought it had safely navigated itself to half time with a lead, Megan Connolly failed to get a clean connection on a clearance with the resulting contact squirming into her own net to level the score.\nMinutes into the second half, Adriana Leon completed the turnaround for the Olympic champion, slotting home from the edge of the area to seal the three points.</h3>\n    <h4>The category of the news article: Sports</h4>\n</div>\n"
                    },
                    "metadata": {},
                    "execution_count": 62
                }
            ]
        },
        {
            "cell_type": "markdown",
            "source": [
                "## Exercises"
            ],
            "metadata": {
                "id": "C98ClT0USJOL"
            }
        },
        {
            "cell_type": "code",
            "source": [
                "model.load_state_dict(torch.load('my_model.pth'))\n",
                "model.eval()"
            ],
            "metadata": {
                "id": "yHFXnmMaRe2l",
                "outputId": "e6ecae1e-5c5d-4ede-8bd4-62a74f3b6a76",
                "colab": {
                    "base_uri": "https://localhost:8080/"
                }
            },
            "execution_count": 63,
            "outputs": [
                {
                    "output_type": "execute_result",
                    "data": {
                        "text/plain": [
                            "TextClassificationModel(\n",
                            "  (embedding): EmbeddingBag(95811, 64, mode='mean')\n",
                            "  (fc): Linear(in_features=64, out_features=4, bias=True)\n",
                            ")"
                        ]
                    },
                    "metadata": {},
                    "execution_count": 63
                }
            ]
        },
        {
            "cell_type": "code",
            "source": [
                "new_articles = [\n",
                "    \"International talks have made significant headway with the signing of a climate accord that commits countries to reduce emissions by 40% over the next two decades. World leaders expressed optimism at the conclusion of the summit.\",\n",
                "    \"In a stunning upset, the underdog team won the national title, beating the favorites in a match that featured an incredible comeback and a last-minute goal that sealed their victory in front of a record crowd.\",\n",
                "    \"Market analysts are optimistic as the tech startup's stock prices soared after the announcement of their latest product, which promises to revolutionize how we interact with smart devices.\",\n",
                "    \"A recent study published in a leading scientific journal suggests that a new drug has shown promise in the treatment of Alzheimer's disease, outperforming current leading medications in early clinical trials.\",\n",
                "    \"Diplomatic relations have taken a positive turn with the recent peace talks that aim to end decades of conflict. The ceasefire agreement has been welcomed by the international community.\",\n",
                "    \"Economic indicators show a sharp rebound in manufacturing, with the automobile industry leading the charge. Analysts predict this surge will result in significant job creation over the next year.\",\n",
                "    \"Researchers at the university's astrophysics department have discovered a potentially habitable exoplanet. The planet, which lies in a nearby star system, has conditions that could support liquid water and, possibly, life.\",\n",
                "    \"The sports world is in shock as a legendary player announces their retirement. Over an illustrious 20-year career, the athlete has amassed numerous records and is regarded as one of the greatest to ever play the game.\",\n",
                "    \"A multinational corporation has announced a major investment in renewable energy. The initiative includes the construction of new wind farms and solar panels that will power hundreds of thousands of homes.\",\n",
                "    \"Climate scientists warn that the melting of the polar ice caps has been accelerating at an alarming rate, raising sea levels and threatening coastal cities worldwide with increased flooding risks.\"\n",
                "]"
            ],
            "metadata": {
                "id": "ohKWT9QTSNt9"
            },
            "execution_count": 64,
            "outputs": []
        },
        {
            "cell_type": "code",
            "source": [
                "for i, article in enumerate(new_articles, start=1):\n",
                "    prediction = predict(article, text_pipeline)\n",
                "    print(f\"Article {i} is classified as: {prediction}\\n\")"
            ],
            "metadata": {
                "id": "qfl_VQueSYH9",
                "outputId": "d880ac03-6d3c-4041-876a-39e934820e55",
                "colab": {
                    "base_uri": "https://localhost:8080/"
                }
            },
            "execution_count": 65,
            "outputs": [
                {
                    "output_type": "stream",
                    "name": "stdout",
                    "text": [
                        "Article 1 is classified as: World\n",
                        "\n",
                        "Article 2 is classified as: Sports\n",
                        "\n",
                        "Article 3 is classified as: Business\n",
                        "\n",
                        "Article 4 is classified as: Sci/Tec\n",
                        "\n",
                        "Article 5 is classified as: World\n",
                        "\n",
                        "Article 6 is classified as: Business\n",
                        "\n",
                        "Article 7 is classified as: Sci/Tec\n",
                        "\n",
                        "Article 8 is classified as: Sports\n",
                        "\n",
                        "Article 9 is classified as: Sci/Tec\n",
                        "\n",
                        "Article 10 is classified as: Sci/Tec\n",
                        "\n"
                    ]
                }
            ]
        }
    ],
    "metadata": {
        "kernelspec": {
            "display_name": ".venv",
            "language": "python",
            "name": "python3"
        },
        "language_info": {
            "codemirror_mode": {
                "name": "ipython",
                "version": 3
            },
            "file_extension": ".py",
            "mimetype": "text/x-python",
            "name": "python",
            "nbconvert_exporter": "python",
            "pygments_lexer": "ipython3",
            "version": "3.13.2"
        },
        "colab": {
            "provenance": [],
            "include_colab_link": true
        }
    },
    "nbformat": 4,
    "nbformat_minor": 0
}