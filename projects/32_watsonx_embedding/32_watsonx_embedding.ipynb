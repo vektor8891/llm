{
    "cells": [
        {
            "cell_type": "markdown",
            "metadata": {
                "id": "view-in-github",
                "colab_type": "text"
            },
            "source": [
                "<a href=\"https://colab.research.google.com/github/vektor8891/llm/blob/main/projects/32_watsonx_embedding/32_watsonx_embedding.ipynb\" target=\"_parent\"><img src=\"https://colab.research.google.com/assets/colab-badge.svg\" alt=\"Open In Colab\"/></a>"
            ]
        },
        {
            "cell_type": "code",
            "source": [
                "# ! pip install -qq langchain_community\n",
                "# ! pip install -qq ibm_watsonx_ai\n",
                "# ! pip install -qq langchain_ibm"
            ],
            "metadata": {
                "id": "IYOMdZ82Hp4z"
            },
            "id": "IYOMdZ82Hp4z",
            "execution_count": 10,
            "outputs": []
        },
        {
            "cell_type": "markdown",
            "source": [
                "# Document Embedding with Watsonx\n",
                "\n",
                "## Load data"
            ],
            "metadata": {
                "id": "xmnSB0K0HQbZ"
            },
            "id": "xmnSB0K0HQbZ"
        },
        {
            "cell_type": "code",
            "execution_count": 4,
            "id": "07675b4c",
            "metadata": {
                "colab": {
                    "base_uri": "https://localhost:8080/"
                },
                "id": "07675b4c",
                "outputId": "aff19a30-526e-4c02-9416-ca287855a1d9"
            },
            "outputs": [
                {
                    "output_type": "stream",
                    "name": "stdout",
                    "text": [
                        "--2025-07-11 20:13:47--  https://cf-courses-data.s3.us.cloud-object-storage.appdomain.cloud/i5V3ACEyz6hnYpVq6MTSvg/state-of-the-union.txt\n",
                        "Resolving cf-courses-data.s3.us.cloud-object-storage.appdomain.cloud (cf-courses-data.s3.us.cloud-object-storage.appdomain.cloud)... 169.45.118.108\n",
                        "Connecting to cf-courses-data.s3.us.cloud-object-storage.appdomain.cloud (cf-courses-data.s3.us.cloud-object-storage.appdomain.cloud)|169.45.118.108|:443... connected.\n",
                        "HTTP request sent, awaiting response... 200 OK\n",
                        "Length: 39027 (38K) [text/plain]\n",
                        "Saving to: \u2018state-of-the-union.txt\u2019\n",
                        "\n",
                        "state-of-the-union. 100%[===================>]  38.11K  --.-KB/s    in 0.1s    \n",
                        "\n",
                        "2025-07-11 20:13:49 (365 KB/s) - \u2018state-of-the-union.txt\u2019 saved [39027/39027]\n",
                        "\n"
                    ]
                },
                {
                    "output_type": "execute_result",
                    "data": {
                        "text/plain": [
                            "[Document(metadata={'source': 'state-of-the-union.txt'}, page_content='Madam Speaker, Madam Vice President, our First Lady and Second Gentleman. Members of Congress and the Cabinet. Justices of the Supreme Court. My fellow Americans.  \\n\\nLast year COVID-19 kept us apart. This year we are finally together again. \\n\\nTonight, we meet as Democrats Republicans and Independents. But most importantly as Americans. \\n\\nWith a duty to one another to the American people to the Constitution. \\n\\nAnd with an unwavering resolve that freedom will always triumph over tyranny. \\n\\nSix days ago, Russia\u2019s Vladimir Putin sought to shake the foundations of the free world thinking he could make it bend to his menacing ways. But he badly miscalculated. \\n\\nHe thought he could roll into Ukraine and the world would roll over. Instead he met a wall of strength he never imagined. \\n\\nHe met the Ukrainian people. \\n\\nFrom President Zelenskyy to every Ukrainian, their fearlessness, their courage, their determination, inspires the world. \\n\\nGroups of citizens blocking tanks with their bodies. Everyone from students to retirees teachers turned soldiers defending their homeland. \\n\\nIn this struggle as President Zelenskyy said in his speech to the European Parliament \u201cLight will win over darkness.\u201d The Ukrainian Ambassador to the United States is here tonight. \\n\\nLet each of us here tonight in this Chamber send an unmistakable signal to Ukraine and to the world. \\n\\nPlease rise if you are able and show that, Yes, we the United States of America stand with the Ukrainian people. \\n\\nThroughout our history we\u2019ve learned this lesson when dictators do not pay a price for their aggression they cause more chaos.   \\n\\nThey keep moving.   \\n\\nAnd the costs and the threats to America and the world keep rising.   \\n\\nThat\u2019s why the NATO Alliance was created to secure peace and stability in Europe after World War 2. \\n\\nThe United States is a member along with 29 other nations. \\n\\nIt matters. American diplomacy matters. American resolve matters. \\n\\nPutin\u2019s latest attack on Ukraine was premeditated and unprovoked. \\n\\nHe rejected repeated efforts at diplomacy. \\n\\nHe thought the West and NATO wouldn\u2019t respond. And he thought he could divide us at home. Putin was wrong. We were ready.  Here is what we did.   \\n\\nWe prepared extensively and carefully. \\n\\nWe spent months building a coalition of other freedom-loving nations from Europe and the Americas to Asia and Africa to confront Putin. \\n\\nI spent countless hours unifying our European allies. We shared with the world in advance what we knew Putin was planning and precisely how he would try to falsely justify his aggression.  \\n\\nWe countered Russia\u2019s lies with truth.   \\n\\nAnd now that he has acted the free world is holding him accountable. \\n\\nAlong with twenty-seven members of the European Union including France, Germany, Italy, as well as countries like the United Kingdom, Canada, Japan, Korea, Australia, New Zealand, and many others, even Switzerland. \\n\\nWe are inflicting pain on Russia and supporting the people of Ukraine. Putin is now isolated from the world more than ever. \\n\\nTogether with our allies \u2013we are right now enforcing powerful economic sanctions. \\n\\nWe are cutting off Russia\u2019s largest banks from the international financial system.  \\n\\nPreventing Russia\u2019s central bank from defending the Russian Ruble making Putin\u2019s $630 Billion \u201cwar fund\u201d worthless.   \\n\\nWe are choking off Russia\u2019s access to technology that will sap its economic strength and weaken its military for years to come.  \\n\\nTonight I say to the Russian oligarchs and corrupt leaders who have bilked billions of dollars off this violent regime no more. \\n\\nThe U.S. Department of Justice is assembling a dedicated task force to go after the crimes of Russian oligarchs.  \\n\\nWe are joining with our European allies to find and seize your yachts your luxury apartments your private jets. We are coming for your ill-begotten gains. \\n\\nAnd tonight I am announcing that we will join our allies in closing off American air space to all Russian flights \u2013 further isolating Russia \u2013 and adding an additional squeeze \u2013on their economy. The Ruble has lost 30% of its value. \\n\\nThe Russian stock market has lost 40% of its value and trading remains suspended. Russia\u2019s economy is reeling and Putin alone is to blame. \\n\\nTogether with our allies we are providing support to the Ukrainians in their fight for freedom. Military assistance. Economic assistance. Humanitarian assistance. \\n\\nWe are giving more than $1 Billion in direct assistance to Ukraine. \\n\\nAnd we will continue to aid the Ukrainian people as they defend their country and to help ease their suffering.  \\n\\nLet me be clear, our forces are not engaged and will not engage in conflict with Russian forces in Ukraine.  \\n\\nOur forces are not going to Europe to fight in Ukraine, but to defend our NATO Allies \u2013 in the event that Putin decides to keep moving west.  \\n\\nFor that purpose we\u2019ve mobilized American ground forces, air squadrons, and ship deployments to protect NATO countries including Poland, Romania, Latvia, Lithuania, and Estonia. \\n\\nAs I have made crystal clear the United States and our Allies will defend every inch of territory of NATO countries with the full force of our collective power.  \\n\\nAnd we remain clear-eyed. The Ukrainians are fighting back with pure courage. But the next few days weeks, months, will be hard on them.  \\n\\nPutin has unleashed violence and chaos.  But while he may make gains on the battlefield \u2013 he will pay a continuing high price over the long run. \\n\\nAnd a proud Ukrainian people, who have known 30 years  of independence, have repeatedly shown that they will not tolerate anyone who tries to take their country backwards.  \\n\\nTo all Americans, I will be honest with you, as I\u2019ve always promised. A Russian dictator, invading a foreign country, has costs around the world. \\n\\nAnd I\u2019m taking robust action to make sure the pain of our sanctions  is targeted at Russia\u2019s economy. And I will use every tool at our disposal to protect American businesses and consumers. \\n\\nTonight, I can announce that the United States has worked with 30 other countries to release 60 Million barrels of oil from reserves around the world.  \\n\\nAmerica will lead that effort, releasing 30 Million barrels from our own Strategic Petroleum Reserve. And we stand ready to do more if necessary, unified with our allies.  \\n\\nThese steps will help blunt gas prices here at home. And I know the news about what\u2019s happening can seem alarming. \\n\\nBut I want you to know that we are going to be okay. \\n\\nWhen the history of this era is written Putin\u2019s war on Ukraine will have left Russia weaker and the rest of the world stronger. \\n\\nWhile it shouldn\u2019t have taken something so terrible for people around the world to see what\u2019s at stake now everyone sees it clearly. \\n\\nWe see the unity among leaders of nations and a more unified Europe a more unified West. And we see unity among the people who are gathering in cities in large crowds around the world even in Russia to demonstrate their support for Ukraine.  \\n\\nIn the battle between democracy and autocracy, democracies are rising to the moment, and the world is clearly choosing the side of peace and security. \\n\\nThis is a real test. It\u2019s going to take time. So let us continue to draw inspiration from the iron will of the Ukrainian people. \\n\\nTo our fellow Ukrainian Americans who forge a deep bond that connects our two nations we stand with you. \\n\\nPutin may circle Kyiv with tanks, but he will never gain the hearts and souls of the Ukrainian people. \\n\\nHe will never extinguish their love of freedom. He will never weaken the resolve of the free world. \\n\\nWe meet tonight in an America that has lived through two of the hardest years this nation has ever faced. \\n\\nThe pandemic has been punishing. \\n\\nAnd so many families are living paycheck to paycheck, struggling to keep up with the rising cost of food, gas, housing, and so much more. \\n\\nI understand. \\n\\nI remember when my Dad had to leave our home in Scranton, Pennsylvania to find work. I grew up in a family where if the price of food went up, you felt it. \\n\\nThat\u2019s why one of the first things I did as President was fight to pass the American Rescue Plan.  \\n\\nBecause people were hurting. We needed to act, and we did. \\n\\nFew pieces of legislation have done more in a critical moment in our history to lift us out of crisis. \\n\\nIt fueled our efforts to vaccinate the nation and combat COVID-19. It delivered immediate economic relief for tens of millions of Americans.  \\n\\nHelped put food on their table, keep a roof over their heads, and cut the cost of health insurance. \\n\\nAnd as my Dad used to say, it gave people a little breathing room. \\n\\nAnd unlike the $2 Trillion tax cut passed in the previous administration that benefitted the top 1% of Americans, the American Rescue Plan helped working people\u2014and left no one behind. \\n\\nAnd it worked. It created jobs. Lots of jobs. \\n\\nIn fact\u2014our economy created over 6.5 Million new jobs just last year, more jobs created in one year  \\nthan ever before in the history of America. \\n\\nOur economy grew at a rate of 5.7% last year, the strongest growth in nearly 40 years, the first step in bringing fundamental change to an economy that hasn\u2019t worked for the working people of this nation for too long.  \\n\\nFor the past 40 years we were told that if we gave tax breaks to those at the very top, the benefits would trickle down to everyone else. \\n\\nBut that trickle-down theory led to weaker economic growth, lower wages, bigger deficits, and the widest gap between those at the top and everyone else in nearly a century. \\n\\nVice President Harris and I ran for office with a new economic vision for America. \\n\\nInvest in America. Educate Americans. Grow the workforce. Build the economy from the bottom up  \\nand the middle out, not from the top down.  \\n\\nBecause we know that when the middle class grows, the poor have a ladder up and the wealthy do very well. \\n\\nAmerica used to have the best roads, bridges, and airports on Earth. \\n\\nNow our infrastructure is ranked 13th in the world. \\n\\nWe won\u2019t be able to compete for the jobs of the 21st Century if we don\u2019t fix that. \\n\\nThat\u2019s why it was so important to pass the Bipartisan Infrastructure Law\u2014the most sweeping investment to rebuild America in history. \\n\\nThis was a bipartisan effort, and I want to thank the members of both parties who worked to make it happen. \\n\\nWe\u2019re done talking about infrastructure weeks. \\n\\nWe\u2019re going to have an infrastructure decade. \\n\\nIt is going to transform America and put us on a path to win the economic competition of the 21st Century that we face with the rest of the world\u2014particularly with China.  \\n\\nAs I\u2019ve told Xi Jinping, it is never a good bet to bet against the American people. \\n\\nWe\u2019ll create good jobs for millions of Americans, modernizing roads, airports, ports, and waterways all across America. \\n\\nAnd we\u2019ll do it all to withstand the devastating effects of the climate crisis and promote environmental justice. \\n\\nWe\u2019ll build a national network of 500,000 electric vehicle charging stations, begin to replace poisonous lead pipes\u2014so every child\u2014and every American\u2014has clean water to drink at home and at school, provide affordable high-speed internet for every American\u2014urban, suburban, rural, and tribal communities. \\n\\n4,000 projects have already been announced. \\n\\nAnd tonight, I\u2019m announcing that this year we will start fixing over 65,000 miles of highway and 1,500 bridges in disrepair. \\n\\nWhen we use taxpayer dollars to rebuild America \u2013 we are going to Buy American: buy American products to support American jobs. \\n\\nThe federal government spends about $600 Billion a year to keep the country safe and secure. \\n\\nThere\u2019s been a law on the books for almost a century \\nto make sure taxpayers\u2019 dollars support American jobs and businesses. \\n\\nEvery Administration says they\u2019ll do it, but we are actually doing it. \\n\\nWe will buy American to make sure everything from the deck of an aircraft carrier to the steel on highway guardrails are made in America. \\n\\nBut to compete for the best jobs of the future, we also need to level the playing field with China and other competitors. \\n\\nThat\u2019s why it is so important to pass the Bipartisan Innovation Act sitting in Congress that will make record investments in emerging technologies and American manufacturing. \\n\\nLet me give you one example of why it\u2019s so important to pass it. \\n\\nIf you travel 20 miles east of Columbus, Ohio, you\u2019ll find 1,000 empty acres of land. \\n\\nIt won\u2019t look like much, but if you stop and look closely, you\u2019ll see a \u201cField of dreams,\u201d the ground on which America\u2019s future will be built. \\n\\nThis is where Intel, the American company that helped build Silicon Valley, is going to build its $20 billion semiconductor \u201cmega site\u201d. \\n\\nUp to eight state-of-the-art factories in one place. 10,000 new good-paying jobs. \\n\\nSome of the most sophisticated manufacturing in the world to make computer chips the size of a fingertip that power the world and our everyday lives. \\n\\nSmartphones. The Internet. Technology we have yet to invent. \\n\\nBut that\u2019s just the beginning. \\n\\nIntel\u2019s CEO, Pat Gelsinger, who is here tonight, told me they are ready to increase their investment from  \\n$20 billion to $100 billion. \\n\\nThat would be one of the biggest investments in manufacturing in American history. \\n\\nAnd all they\u2019re waiting for is for you to pass this bill. \\n\\nSo let\u2019s not wait any longer. Send it to my desk. I\u2019ll sign it.  \\n\\nAnd we will really take off. \\n\\nAnd Intel is not alone. \\n\\nThere\u2019s something happening in America. \\n\\nJust look around and you\u2019ll see an amazing story. \\n\\nThe rebirth of the pride that comes from stamping products \u201cMade In America.\u201d The revitalization of American manufacturing.   \\n\\nCompanies are choosing to build new factories here, when just a few years ago, they would have built them overseas. \\n\\nThat\u2019s what is happening. Ford is investing $11 billion to build electric vehicles, creating 11,000 jobs across the country. \\n\\nGM is making the largest investment in its history\u2014$7 billion to build electric vehicles, creating 4,000 jobs in Michigan. \\n\\nAll told, we created 369,000 new manufacturing jobs in America just last year. \\n\\nPowered by people I\u2019ve met like JoJo Burgess, from generations of union steelworkers from Pittsburgh, who\u2019s here with us tonight. \\n\\nAs Ohio Senator Sherrod Brown says, \u201cIt\u2019s time to bury the label \u201cRust Belt.\u201d \\n\\nIt\u2019s time. \\n\\nBut with all the bright spots in our economy, record job growth and higher wages, too many families are struggling to keep up with the bills.  \\n\\nInflation is robbing them of the gains they might otherwise feel. \\n\\nI get it. That\u2019s why my top priority is getting prices under control. \\n\\nLook, our economy roared back faster than most predicted, but the pandemic meant that businesses had a hard time hiring enough workers to keep up production in their factories. \\n\\nThe pandemic also disrupted global supply chains. \\n\\nWhen factories close, it takes longer to make goods and get them from the warehouse to the store, and prices go up. \\n\\nLook at cars. \\n\\nLast year, there weren\u2019t enough semiconductors to make all the cars that people wanted to buy. \\n\\nAnd guess what, prices of automobiles went up. \\n\\nSo\u2014we have a choice. \\n\\nOne way to fight inflation is to drive down wages and make Americans poorer.  \\n\\nI have a better plan to fight inflation. \\n\\nLower your costs, not your wages. \\n\\nMake more cars and semiconductors in America. \\n\\nMore infrastructure and innovation in America. \\n\\nMore goods moving faster and cheaper in America. \\n\\nMore jobs where you can earn a good living in America. \\n\\nAnd instead of relying on foreign supply chains, let\u2019s make it in America. \\n\\nEconomists call it \u201cincreasing the productive capacity of our economy.\u201d \\n\\nI call it building a better America. \\n\\nMy plan to fight inflation will lower your costs and lower the deficit. \\n\\n17 Nobel laureates in economics say my plan will ease long-term inflationary pressures. Top business leaders and most Americans support my plan. And here\u2019s the plan: \\n\\nFirst \u2013 cut the cost of prescription drugs. Just look at insulin. One in ten Americans has diabetes. In Virginia, I met a 13-year-old boy named Joshua Davis.  \\n\\nHe and his Dad both have Type 1 diabetes, which means they need insulin every day. Insulin costs about $10 a vial to make.  \\n\\nBut drug companies charge families like Joshua and his Dad up to 30 times more. I spoke with Joshua\u2019s mom. \\n\\nImagine what it\u2019s like to look at your child who needs insulin and have no idea how you\u2019re going to pay for it.  \\n\\nWhat it does to your dignity, your ability to look your child in the eye, to be the parent you expect to be. \\n\\nJoshua is here with us tonight. Yesterday was his birthday. Happy birthday, buddy.  \\n\\nFor Joshua, and for the 200,000 other young people with Type 1 diabetes, let\u2019s cap the cost of insulin at $35 a month so everyone can afford it.  \\n\\nDrug companies will still do very well. And while we\u2019re at it let Medicare negotiate lower prices for prescription drugs, like the VA already does. \\n\\nLook, the American Rescue Plan is helping millions of families on Affordable Care Act plans save $2,400 a year on their health care premiums. Let\u2019s close the coverage gap and make those savings permanent. \\n\\nSecond \u2013 cut energy costs for families an average of $500 a year by combatting climate change.  \\n\\nLet\u2019s provide investments and tax credits to weatherize your homes and businesses to be energy efficient and you get a tax credit; double America\u2019s clean energy production in solar, wind, and so much more;  lower the price of electric vehicles, saving you another $80 a month because you\u2019ll never have to pay at the gas pump again. \\n\\nThird \u2013 cut the cost of child care. Many families pay up to $14,000 a year for child care per child.  \\n\\nMiddle-class and working families shouldn\u2019t have to pay more than 7% of their income for care of young children.  \\n\\nMy plan will cut the cost in half for most families and help parents, including millions of women, who left the workforce during the pandemic because they couldn\u2019t afford child care, to be able to get back to work. \\n\\nMy plan doesn\u2019t stop there. It also includes home and long-term care. More affordable housing. And Pre-K for every 3- and 4-year-old.  \\n\\nAll of these will lower costs. \\n\\nAnd under my plan, nobody earning less than $400,000 a year will pay an additional penny in new taxes. Nobody.  \\n\\nThe one thing all Americans agree on is that the tax system is not fair. We have to fix it.  \\n\\nI\u2019m not looking to punish anyone. But let\u2019s make sure corporations and the wealthiest Americans start paying their fair share. \\n\\nJust last year, 55 Fortune 500 corporations earned $40 billion in profits and paid zero dollars in federal income tax.  \\n\\nThat\u2019s simply not fair. That\u2019s why I\u2019ve proposed a 15% minimum tax rate for corporations. \\n\\nWe got more than 130 countries to agree on a global minimum tax rate so companies can\u2019t get out of paying their taxes at home by shipping jobs and factories overseas. \\n\\nThat\u2019s why I\u2019ve proposed closing loopholes so the very wealthy don\u2019t pay a lower tax rate than a teacher or a firefighter.  \\n\\nSo that\u2019s my plan. It will grow the economy and lower costs for families. \\n\\nSo what are we waiting for? Let\u2019s get this done. And while you\u2019re at it, confirm my nominees to the Federal Reserve, which plays a critical role in fighting inflation.  \\n\\nMy plan will not only lower costs to give families a fair shot, it will lower the deficit. \\n\\nThe previous Administration not only ballooned the deficit with tax cuts for the very wealthy and corporations, it undermined the watchdogs whose job was to keep pandemic relief funds from being wasted. \\n\\nBut in my administration, the watchdogs have been welcomed back. \\n\\nWe\u2019re going after the criminals who stole billions in relief money meant for small businesses and millions of Americans.  \\n\\nAnd tonight, I\u2019m announcing that the Justice Department will name a chief prosecutor for pandemic fraud. \\n\\nBy the end of this year, the deficit will be down to less than half what it was before I took office.  \\n\\nThe only president ever to cut the deficit by more than one trillion dollars in a single year. \\n\\nLowering your costs also means demanding more competition. \\n\\nI\u2019m a capitalist, but capitalism without competition isn\u2019t capitalism. \\n\\nIt\u2019s exploitation\u2014and it drives up prices. \\n\\nWhen corporations don\u2019t have to compete, their profits go up, your prices go up, and small businesses and family farmers and ranchers go under. \\n\\nWe see it happening with ocean carriers moving goods in and out of America. \\n\\nDuring the pandemic, these foreign-owned companies raised prices by as much as 1,000% and made record profits. \\n\\nTonight, I\u2019m announcing a crackdown on these companies overcharging American businesses and consumers. \\n\\nAnd as Wall Street firms take over more nursing homes, quality in those homes has gone down and costs have gone up.  \\n\\nThat ends on my watch. \\n\\nMedicare is going to set higher standards for nursing homes and make sure your loved ones get the care they deserve and expect. \\n\\nWe\u2019ll also cut costs and keep the economy going strong by giving workers a fair shot, provide more training and apprenticeships, hire them based on their skills not degrees. \\n\\nLet\u2019s pass the Paycheck Fairness Act and paid leave.  \\n\\nRaise the minimum wage to $15 an hour and extend the Child Tax Credit, so no one has to raise a family in poverty. \\n\\nLet\u2019s increase Pell Grants and increase our historic support of HBCUs, and invest in what Jill\u2014our First Lady who teaches full-time\u2014calls America\u2019s best-kept secret: community colleges. \\n\\nAnd let\u2019s pass the PRO Act when a majority of workers want to form a union\u2014they shouldn\u2019t be stopped.  \\n\\nWhen we invest in our workers, when we build the economy from the bottom up and the middle out together, we can do something we haven\u2019t done in a long time: build a better America. \\n\\nFor more than two years, COVID-19 has impacted every decision in our lives and the life of the nation. \\n\\nAnd I know you\u2019re tired, frustrated, and exhausted. \\n\\nBut I also know this. \\n\\nBecause of the progress we\u2019ve made, because of your resilience and the tools we have, tonight I can say  \\nwe are moving forward safely, back to more normal routines.  \\n\\nWe\u2019ve reached a new moment in the fight against COVID-19, with severe cases down to a level not seen since last July.  \\n\\nJust a few days ago, the Centers for Disease Control and Prevention\u2014the CDC\u2014issued new mask guidelines. \\n\\nUnder these new guidelines, most Americans in most of the country can now be mask free.   \\n\\nAnd based on the projections, more of the country will reach that point across the next couple of weeks. \\n\\nThanks to the progress we have made this past year, COVID-19 need no longer control our lives.  \\n\\nI know some are talking about \u201cliving with COVID-19\u201d. Tonight \u2013 I say that we will never just accept living with COVID-19. \\n\\nWe will continue to combat the virus as we do other diseases. And because this is a virus that mutates and spreads, we will stay on guard. \\n\\nHere are four common sense steps as we move forward safely.  \\n\\nFirst, stay protected with vaccines and treatments. We know how incredibly effective vaccines are. If you\u2019re vaccinated and boosted you have the highest degree of protection. \\n\\nWe will never give up on vaccinating more Americans. Now, I know parents with kids under 5 are eager to see a vaccine authorized for their children. \\n\\nThe scientists are working hard to get that done and we\u2019ll be ready with plenty of vaccines when they do. \\n\\nWe\u2019re also ready with anti-viral treatments. If you get COVID-19, the Pfizer pill reduces your chances of ending up in the hospital by 90%.  \\n\\nWe\u2019ve ordered more of these pills than anyone in the world. And Pfizer is working overtime to get us 1 Million pills this month and more than double that next month.  \\n\\nAnd we\u2019re launching the \u201cTest to Treat\u201d initiative so people can get tested at a pharmacy, and if they\u2019re positive, receive antiviral pills on the spot at no cost.  \\n\\nIf you\u2019re immunocompromised or have some other vulnerability, we have treatments and free high-quality masks. \\n\\nWe\u2019re leaving no one behind or ignoring anyone\u2019s needs as we move forward. \\n\\nAnd on testing, we have made hundreds of millions of tests available for you to order for free.   \\n\\nEven if you already ordered free tests tonight, I am announcing that you can order more from covidtests.gov starting next week. \\n\\nSecond \u2013 we must prepare for new variants. Over the past year, we\u2019ve gotten much better at detecting new variants. \\n\\nIf necessary, we\u2019ll be able to deploy new vaccines within 100 days instead of many more months or years.  \\n\\nAnd, if Congress provides the funds we need, we\u2019ll have new stockpiles of tests, masks, and pills ready if needed. \\n\\nI cannot promise a new variant won\u2019t come. But I can promise you we\u2019ll do everything within our power to be ready if it does.  \\n\\nThird \u2013 we can end the shutdown of schools and businesses. We have the tools we need. \\n\\nIt\u2019s time for Americans to get back to work and fill our great downtowns again.  People working from home can feel safe to begin to return to the office.   \\n\\nWe\u2019re doing that here in the federal government. The vast majority of federal workers will once again work in person. \\n\\nOur schools are open. Let\u2019s keep it that way. Our kids need to be in school. \\n\\nAnd with 75% of adult Americans fully vaccinated and hospitalizations down by 77%, most Americans can remove their masks, return to work, stay in the classroom, and move forward safely. \\n\\nWe achieved this because we provided free vaccines, treatments, tests, and masks. \\n\\nOf course, continuing this costs money. \\n\\nI will soon send Congress a request. \\n\\nThe vast majority of Americans have used these tools and may want to again, so I expect Congress to pass it quickly.   \\n\\nFourth, we will continue vaccinating the world.     \\n\\nWe\u2019ve sent 475 Million vaccine doses to 112 countries, more than any other nation. \\n\\nAnd we won\u2019t stop. \\n\\nWe have lost so much to COVID-19. Time with one another. And worst of all, so much loss of life. \\n\\nLet\u2019s use this moment to reset. Let\u2019s stop looking at COVID-19 as a partisan dividing line and see it for what it is: A God-awful disease.  \\n\\nLet\u2019s stop seeing each other as enemies, and start seeing each other for who we really are: Fellow Americans.  \\n\\nWe can\u2019t change how divided we\u2019ve been. But we can change how we move forward\u2014on COVID-19 and other issues we must face together. \\n\\nI recently visited the New York City Police Department days after the funerals of Officer Wilbert Mora and his partner, Officer Jason Rivera. \\n\\nThey were responding to a 9-1-1 call when a man shot and killed them with a stolen gun. \\n\\nOfficer Mora was 27 years old. \\n\\nOfficer Rivera was 22. \\n\\nBoth Dominican Americans who\u2019d grown up on the same streets they later chose to patrol as police officers. \\n\\nI spoke with their families and told them that we are forever in debt for their sacrifice, and we will carry on their mission to restore the trust and safety every community deserves. \\n\\nI\u2019ve worked on these issues a long time. \\n\\nI know what works: Investing in crime preventionand community police officers who\u2019ll walk the beat, who\u2019ll know the neighborhood, and who can restore trust and safety. \\n\\nSo let\u2019s not abandon our streets. Or choose between safety and equal justice. \\n\\nLet\u2019s come together to protect our communities, restore trust, and hold law enforcement accountable. \\n\\nThat\u2019s why the Justice Department required body cameras, banned chokeholds, and restricted no-knock warrants for its officers. \\n\\nThat\u2019s why the American Rescue Plan provided $350 Billion that cities, states, and counties can use to hire more police and invest in proven strategies like community violence interruption\u2014trusted messengers breaking the cycle of violence and trauma and giving young people hope.  \\n\\nWe should all agree: The answer is not to Defund the police. The answer is to FUND the police with the resources and training they need to protect our communities. \\n\\nI ask Democrats and Republicans alike: Pass my budget and keep our neighborhoods safe.  \\n\\nAnd I will keep doing everything in my power to crack down on gun trafficking and ghost guns you can buy online and make at home\u2014they have no serial numbers and can\u2019t be traced. \\n\\nAnd I ask Congress to pass proven measures to reduce gun violence. Pass universal background checks. Why should anyone on a terrorist list be able to purchase a weapon? \\n\\nBan assault weapons and high-capacity magazines. \\n\\nRepeal the liability shield that makes gun manufacturers the only industry in America that can\u2019t be sued. \\n\\nThese laws don\u2019t infringe on the Second Amendment. They save lives. \\n\\nThe most fundamental right in America is the right to vote \u2013 and to have it counted. And it\u2019s under assault. \\n\\nIn state after state, new laws have been passed, not only to suppress the vote, but to subvert entire elections. \\n\\nWe cannot let this happen. \\n\\nTonight. I call on the Senate to: Pass the Freedom to Vote Act. Pass the John Lewis Voting Rights Act. And while you\u2019re at it, pass the Disclose Act so Americans can know who is funding our elections. \\n\\nTonight, I\u2019d like to honor someone who has dedicated his life to serve this country: Justice Stephen Breyer\u2014an Army veteran, Constitutional scholar, and retiring Justice of the United States Supreme Court. Justice Breyer, thank you for your service. \\n\\nOne of the most serious constitutional responsibilities a President has is nominating someone to serve on the United States Supreme Court. \\n\\nAnd I did that 4 days ago, when I nominated Circuit Court of Appeals Judge Ketanji Brown Jackson. One of our nation\u2019s top legal minds, who will continue Justice Breyer\u2019s legacy of excellence. \\n\\nA former top litigator in private practice. A former federal public defender. And from a family of public school educators and police officers. A consensus builder. Since she\u2019s been nominated, she\u2019s received a broad range of support\u2014from the Fraternal Order of Police to former judges appointed by Democrats and Republicans. \\n\\nAnd if we are to advance liberty and justice, we need to secure the Border and fix the immigration system. \\n\\nWe can do both. At our border, we\u2019ve installed new technology like cutting-edge scanners to better detect drug smuggling.  \\n\\nWe\u2019ve set up joint patrols with Mexico and Guatemala to catch more human traffickers.  \\n\\nWe\u2019re putting in place dedicated immigration judges so families fleeing persecution and violence can have their cases heard faster. \\n\\nWe\u2019re securing commitments and supporting partners in South and Central America to host more refugees and secure their own borders. \\n\\nWe can do all this while keeping lit the torch of liberty that has led generations of immigrants to this land\u2014my forefathers and so many of yours. \\n\\nProvide a pathway to citizenship for Dreamers, those on temporary status, farm workers, and essential workers. \\n\\nRevise our laws so businesses have the workers they need and families don\u2019t wait decades to reunite. \\n\\nIt\u2019s not only the right thing to do\u2014it\u2019s the economically smart thing to do. \\n\\nThat\u2019s why immigration reform is supported by everyone from labor unions to religious leaders to the U.S. Chamber of Commerce. \\n\\nLet\u2019s get it done once and for all. \\n\\nAdvancing liberty and justice also requires protecting the rights of women. \\n\\nThe constitutional right affirmed in Roe v. Wade\u2014standing precedent for half a century\u2014is under attack as never before. \\n\\nIf we want to go forward\u2014not backward\u2014we must protect access to health care. Preserve a woman\u2019s right to choose. And let\u2019s continue to advance maternal health care in America. \\n\\nAnd for our LGBTQ+ Americans, let\u2019s finally get the bipartisan Equality Act to my desk. The onslaught of state laws targeting transgender Americans and their families is wrong. \\n\\nAs I said last year, especially to our younger transgender Americans, I will always have your back as your President, so you can be yourself and reach your God-given potential. \\n\\nWhile it often appears that we never agree, that isn\u2019t true. I signed 80 bipartisan bills into law last year. From preventing government shutdowns to protecting Asian-Americans from still-too-common hate crimes to reforming military justice. \\n\\nAnd soon, we\u2019ll strengthen the Violence Against Women Act that I first wrote three decades ago. It is important for us to show the nation that we can come together and do big things. \\n\\nSo tonight I\u2019m offering a Unity Agenda for the Nation. Four big things we can do together.  \\n\\nFirst, beat the opioid epidemic. \\n\\nThere is so much we can do. Increase funding for prevention, treatment, harm reduction, and recovery.  \\n\\nGet rid of outdated rules that stop doctors from prescribing treatments. And stop the flow of illicit drugs by working with state and local law enforcement to go after traffickers. \\n\\nIf you\u2019re suffering from addiction, know you are not alone. I believe in recovery, and I celebrate the 23 million Americans in recovery. \\n\\nSecond, let\u2019s take on mental health. Especially among our children, whose lives and education have been turned upside down.  \\n\\nThe American Rescue Plan gave schools money to hire teachers and help students make up for lost learning.  \\n\\nI urge every parent to make sure your school does just that. And we can all play a part\u2014sign up to be a tutor or a mentor. \\n\\nChildren were also struggling before the pandemic. Bullying, violence, trauma, and the harms of social media. \\n\\nAs Frances Haugen, who is here with us tonight, has shown, we must hold social media platforms accountable for the national experiment they\u2019re conducting on our children for profit. \\n\\nIt\u2019s time to strengthen privacy protections, ban targeted advertising to children, demand tech companies stop collecting personal data on our children. \\n\\nAnd let\u2019s get all Americans the mental health services they need. More people they can turn to for help, and full parity between physical and mental health care. \\n\\nThird, support our veterans. \\n\\nVeterans are the best of us. \\n\\nI\u2019ve always believed that we have a sacred obligation to equip all those we send to war and care for them and their families when they come home. \\n\\nMy administration is providing assistance with job training and housing, and now helping lower-income veterans get VA care debt-free.  \\n\\nOur troops in Iraq and Afghanistan faced many dangers. \\n\\nOne was stationed at bases and breathing in toxic smoke from \u201cburn pits\u201d that incinerated wastes of war\u2014medical and hazard material, jet fuel, and more. \\n\\nWhen they came home, many of the world\u2019s fittest and best trained warriors were never the same. \\n\\nHeadaches. Numbness. Dizziness. \\n\\nA cancer that would put them in a flag-draped coffin. \\n\\nI know. \\n\\nOne of those soldiers was my son Major Beau Biden. \\n\\nWe don\u2019t know for sure if a burn pit was the cause of his brain cancer, or the diseases of so many of our troops. \\n\\nBut I\u2019m committed to finding out everything we can. \\n\\nCommitted to military families like Danielle Robinson from Ohio. \\n\\nThe widow of Sergeant First Class Heath Robinson.  \\n\\nHe was born a soldier. Army National Guard. Combat medic in Kosovo and Iraq. \\n\\nStationed near Baghdad, just yards from burn pits the size of football fields. \\n\\nHeath\u2019s widow Danielle is here with us tonight. They loved going to Ohio State football games. He loved building Legos with their daughter. \\n\\nBut cancer from prolonged exposure to burn pits ravaged Heath\u2019s lungs and body. \\n\\nDanielle says Heath was a fighter to the very end. \\n\\nHe didn\u2019t know how to stop fighting, and neither did she. \\n\\nThrough her pain she found purpose to demand we do better. \\n\\nTonight, Danielle\u2014we are. \\n\\nThe VA is pioneering new ways of linking toxic exposures to diseases, already helping more veterans get benefits. \\n\\nAnd tonight, I\u2019m announcing we\u2019re expanding eligibility to veterans suffering from nine respiratory cancers. \\n\\nI\u2019m also calling on Congress: pass a law to make sure veterans devastated by toxic exposures in Iraq and Afghanistan finally get the benefits and comprehensive health care they deserve. \\n\\nAnd fourth, let\u2019s end cancer as we know it. \\n\\nThis is personal to me and Jill, to Kamala, and to so many of you. \\n\\nCancer is the #2 cause of death in America\u2013second only to heart disease. \\n\\nLast month, I announced our plan to supercharge  \\nthe Cancer Moonshot that President Obama asked me to lead six years ago. \\n\\nOur goal is to cut the cancer death rate by at least 50% over the next 25 years, turn more cancers from death sentences into treatable diseases.  \\n\\nMore support for patients and families. \\n\\nTo get there, I call on Congress to fund ARPA-H, the Advanced Research Projects Agency for Health. \\n\\nIt\u2019s based on DARPA\u2014the Defense Department project that led to the Internet, GPS, and so much more.  \\n\\nARPA-H will have a singular purpose\u2014to drive breakthroughs in cancer, Alzheimer\u2019s, diabetes, and more. \\n\\nA unity agenda for the nation. \\n\\nWe can do this. \\n\\nMy fellow Americans\u2014tonight , we have gathered in a sacred space\u2014the citadel of our democracy. \\n\\nIn this Capitol, generation after generation, Americans have debated great questions amid great strife, and have done great things. \\n\\nWe have fought for freedom, expanded liberty, defeated totalitarianism and terror. \\n\\nAnd built the strongest, freest, and most prosperous nation the world has ever known. \\n\\nNow is the hour. \\n\\nOur moment of responsibility. \\n\\nOur test of resolve and conscience, of history itself. \\n\\nIt is in this moment that our character is formed. Our purpose is found. Our future is forged. \\n\\nWell I know this nation.  \\n\\nWe will meet the test. \\n\\nTo protect freedom and liberty, to expand fairness and opportunity. \\n\\nWe will save democracy. \\n\\nAs hard as these times have been, I am more optimistic about America today than I have been my whole life. \\n\\nBecause I see the future that is within our grasp. \\n\\nBecause I know there is simply nothing beyond our capacity. \\n\\nWe are the only nation on Earth that has always turned every crisis we have faced into an opportunity. \\n\\nThe only nation that can be defined by a single word: possibilities. \\n\\nSo on this night, in our 245th year as a nation, I have come to report on the State of the Union. \\n\\nAnd my report is this: the State of the Union is strong\u2014because you, the American people, are strong. \\n\\nWe are stronger today than we were a year ago. \\n\\nAnd we will be stronger a year from now than we are today. \\n\\nNow is our moment to meet and overcome the challenges of our time. \\n\\nAnd we will, as one people. \\n\\nOne America. \\n\\nThe United States of America. \\n\\nMay God bless you all. May God protect our troops.')]"
                        ]
                    },
                    "metadata": {},
                    "execution_count": 4
                }
            ],
            "source": [
                "from langchain_community.document_loaders import TextLoader\n",
                "\n",
                "!wget \"https://cf-courses-data.s3.us.cloud-object-storage.appdomain.cloud/i5V3ACEyz6hnYpVq6MTSvg/state-of-the-union.txt\"\n",
                "\n",
                "loader = TextLoader(\"state-of-the-union.txt\")\n",
                "data = loader.load()\n",
                "data"
            ]
        },
        {
            "cell_type": "markdown",
            "source": [
                "## Split data"
            ],
            "metadata": {
                "id": "XncErUaRH94D"
            },
            "id": "XncErUaRH94D"
        },
        {
            "cell_type": "code",
            "source": [
                "from langchain.text_splitter import RecursiveCharacterTextSplitter\n",
                "\n",
                "text_splitter = RecursiveCharacterTextSplitter(\n",
                "    chunk_size=100,\n",
                "    chunk_overlap=20,\n",
                "    length_function=len,\n",
                ")\n",
                "\n",
                "chunks = text_splitter.split_text(data[0].page_content)\n",
                "\n",
                "len(chunks)"
            ],
            "metadata": {
                "colab": {
                    "base_uri": "https://localhost:8080/"
                },
                "id": "6RiqayqQHkm3",
                "outputId": "8d95cd61-f5cb-4704-c43f-457c0651e03d"
            },
            "id": "6RiqayqQHkm3",
            "execution_count": 5,
            "outputs": [
                {
                    "output_type": "execute_result",
                    "data": {
                        "text/plain": [
                            "570"
                        ]
                    },
                    "metadata": {},
                    "execution_count": 5
                }
            ]
        },
        {
            "cell_type": "code",
            "source": [
                "chunks"
            ],
            "metadata": {
                "colab": {
                    "base_uri": "https://localhost:8080/"
                },
                "id": "uee3h8EnIDpv",
                "outputId": "e42478fa-4dbb-4ea5-ee70-7874b4916baa"
            },
            "id": "uee3h8EnIDpv",
            "execution_count": 6,
            "outputs": [
                {
                    "output_type": "execute_result",
                    "data": {
                        "text/plain": [
                            "['Madam Speaker, Madam Vice President, our First Lady and Second Gentleman. Members of Congress and',\n",
                            " 'of Congress and the Cabinet. Justices of the Supreme Court. My fellow Americans.',\n",
                            " 'Last year COVID-19 kept us apart. This year we are finally together again.',\n",
                            " 'Tonight, we meet as Democrats Republicans and Independents. But most importantly as Americans.',\n",
                            " 'With a duty to one another to the American people to the Constitution.',\n",
                            " 'And with an unwavering resolve that freedom will always triumph over tyranny.',\n",
                            " 'Six days ago, Russia\u2019s Vladimir Putin sought to shake the foundations of the free world thinking he',\n",
                            " 'world thinking he could make it bend to his menacing ways. But he badly miscalculated.',\n",
                            " 'He thought he could roll into Ukraine and the world would roll over. Instead he met a wall of',\n",
                            " 'he met a wall of strength he never imagined.',\n",
                            " 'He met the Ukrainian people.',\n",
                            " 'From President Zelenskyy to every Ukrainian, their fearlessness, their courage, their',\n",
                            " 'courage, their determination, inspires the world.',\n",
                            " 'Groups of citizens blocking tanks with their bodies. Everyone from students to retirees teachers',\n",
                            " 'retirees teachers turned soldiers defending their homeland.',\n",
                            " 'In this struggle as President Zelenskyy said in his speech to the European Parliament \u201cLight will',\n",
                            " '\u201cLight will win over darkness.\u201d The Ukrainian Ambassador to the United States is here tonight.',\n",
                            " 'Let each of us here tonight in this Chamber send an unmistakable signal to Ukraine and to the',\n",
                            " 'Ukraine and to the world.',\n",
                            " 'Please rise if you are able and show that, Yes, we the United States of America stand with the',\n",
                            " 'stand with the Ukrainian people.',\n",
                            " 'Throughout our history we\u2019ve learned this lesson when dictators do not pay a price for their',\n",
                            " 'a price for their aggression they cause more chaos.',\n",
                            " 'They keep moving.   \\n\\nAnd the costs and the threats to America and the world keep rising.',\n",
                            " 'That\u2019s why the NATO Alliance was created to secure peace and stability in Europe after World War 2.',\n",
                            " 'after World War 2.',\n",
                            " 'The United States is a member along with 29 other nations.',\n",
                            " 'It matters. American diplomacy matters. American resolve matters.',\n",
                            " 'Putin\u2019s latest attack on Ukraine was premeditated and unprovoked.',\n",
                            " 'He rejected repeated efforts at diplomacy.',\n",
                            " 'He thought the West and NATO wouldn\u2019t respond. And he thought he could divide us at home. Putin was',\n",
                            " 'at home. Putin was wrong. We were ready.  Here is what we did.',\n",
                            " 'We prepared extensively and carefully.',\n",
                            " 'We spent months building a coalition of other freedom-loving nations from Europe and the Americas',\n",
                            " 'and the Americas to Asia and Africa to confront Putin.',\n",
                            " 'I spent countless hours unifying our European allies. We shared with the world in advance what we',\n",
                            " 'in advance what we knew Putin was planning and precisely how he would try to falsely justify his',\n",
                            " 'falsely justify his aggression.',\n",
                            " 'We countered Russia\u2019s lies with truth.',\n",
                            " 'And now that he has acted the free world is holding him accountable.',\n",
                            " 'Along with twenty-seven members of the European Union including France, Germany, Italy, as well as',\n",
                            " 'Italy, as well as countries like the United Kingdom, Canada, Japan, Korea, Australia, New Zealand,',\n",
                            " 'New Zealand, and many others, even Switzerland.',\n",
                            " 'We are inflicting pain on Russia and supporting the people of Ukraine. Putin is now isolated from',\n",
                            " 'now isolated from the world more than ever.',\n",
                            " 'Together with our allies \u2013we are right now enforcing powerful economic sanctions.',\n",
                            " 'We are cutting off Russia\u2019s largest banks from the international financial system.',\n",
                            " 'Preventing Russia\u2019s central bank from defending the Russian Ruble making Putin\u2019s $630 Billion \u201cwar',\n",
                            " '$630 Billion \u201cwar fund\u201d worthless.',\n",
                            " 'We are choking off Russia\u2019s access to technology that will sap its economic strength and weaken its',\n",
                            " 'and weaken its military for years to come.',\n",
                            " 'Tonight I say to the Russian oligarchs and corrupt leaders who have bilked billions of dollars off',\n",
                            " 'of dollars off this violent regime no more.',\n",
                            " 'The U.S. Department of Justice is assembling a dedicated task force to go after the crimes of',\n",
                            " 'after the crimes of Russian oligarchs.',\n",
                            " 'We are joining with our European allies to find and seize your yachts your luxury apartments your',\n",
                            " 'apartments your private jets. We are coming for your ill-begotten gains.',\n",
                            " 'And tonight I am announcing that we will join our allies in closing off American air space to all',\n",
                            " 'air space to all Russian flights \u2013 further isolating Russia \u2013 and adding an additional squeeze \u2013on',\n",
                            " 'squeeze \u2013on their economy. The Ruble has lost 30% of its value.',\n",
                            " 'The Russian stock market has lost 40% of its value and trading remains suspended. Russia\u2019s economy',\n",
                            " 'Russia\u2019s economy is reeling and Putin alone is to blame.',\n",
                            " 'Together with our allies we are providing support to the Ukrainians in their fight for freedom.',\n",
                            " 'fight for freedom. Military assistance. Economic assistance. Humanitarian assistance.',\n",
                            " 'We are giving more than $1 Billion in direct assistance to Ukraine.',\n",
                            " 'And we will continue to aid the Ukrainian people as they defend their country and to help ease',\n",
                            " 'and to help ease their suffering.',\n",
                            " 'Let me be clear, our forces are not engaged and will not engage in conflict with Russian forces in',\n",
                            " 'Russian forces in Ukraine.',\n",
                            " 'Our forces are not going to Europe to fight in Ukraine, but to defend our NATO Allies \u2013 in the',\n",
                            " 'Allies \u2013 in the event that Putin decides to keep moving west.',\n",
                            " 'For that purpose we\u2019ve mobilized American ground forces, air squadrons, and ship deployments to',\n",
                            " 'ship deployments to protect NATO countries including Poland, Romania, Latvia, Lithuania, and',\n",
                            " 'Lithuania, and Estonia.',\n",
                            " 'As I have made crystal clear the United States and our Allies will defend every inch of territory',\n",
                            " 'inch of territory of NATO countries with the full force of our collective power.',\n",
                            " 'And we remain clear-eyed. The Ukrainians are fighting back with pure courage. But the next few days',\n",
                            " 'the next few days weeks, months, will be hard on them.',\n",
                            " 'Putin has unleashed violence and chaos.  But while he may make gains on the battlefield \u2013 he will',\n",
                            " '\u2013 he will pay a continuing high price over the long run.',\n",
                            " 'And a proud Ukrainian people, who have known 30 years  of independence, have repeatedly shown that',\n",
                            " 'shown that they will not tolerate anyone who tries to take their country backwards.',\n",
                            " 'To all Americans, I will be honest with you, as I\u2019ve always promised. A Russian dictator, invading',\n",
                            " 'dictator, invading a foreign country, has costs around the world.',\n",
                            " 'And I\u2019m taking robust action to make sure the pain of our sanctions  is targeted at Russia\u2019s',\n",
                            " 'at Russia\u2019s economy. And I will use every tool at our disposal to protect American businesses and',\n",
                            " 'businesses and consumers.',\n",
                            " 'Tonight, I can announce that the United States has worked with 30 other countries to release 60',\n",
                            " 'to release 60 Million barrels of oil from reserves around the world.',\n",
                            " 'America will lead that effort, releasing 30 Million barrels from our own Strategic Petroleum',\n",
                            " 'Strategic Petroleum Reserve. And we stand ready to do more if necessary, unified with our allies.',\n",
                            " 'These steps will help blunt gas prices here at home. And I know the news about what\u2019s happening can',\n",
                            " 'happening can seem alarming.',\n",
                            " 'But I want you to know that we are going to be okay.',\n",
                            " 'When the history of this era is written Putin\u2019s war on Ukraine will have left Russia weaker and the',\n",
                            " 'weaker and the rest of the world stronger.',\n",
                            " 'While it shouldn\u2019t have taken something so terrible for people around the world to see what\u2019s at',\n",
                            " 'to see what\u2019s at stake now everyone sees it clearly.',\n",
                            " 'We see the unity among leaders of nations and a more unified Europe a more unified West. And we see',\n",
                            " 'West. And we see unity among the people who are gathering in cities in large crowds around the',\n",
                            " 'crowds around the world even in Russia to demonstrate their support for Ukraine.',\n",
                            " 'In the battle between democracy and autocracy, democracies are rising to the moment, and the world',\n",
                            " 'and the world is clearly choosing the side of peace and security.',\n",
                            " 'This is a real test. It\u2019s going to take time. So let us continue to draw inspiration from the iron',\n",
                            " 'from the iron will of the Ukrainian people.',\n",
                            " 'To our fellow Ukrainian Americans who forge a deep bond that connects our two nations we stand with',\n",
                            " 'we stand with you.',\n",
                            " 'Putin may circle Kyiv with tanks, but he will never gain the hearts and souls of the Ukrainian',\n",
                            " 'of the Ukrainian people.',\n",
                            " 'He will never extinguish their love of freedom. He will never weaken the resolve of the free world.',\n",
                            " 'of the free world.',\n",
                            " 'We meet tonight in an America that has lived through two of the hardest years this nation has ever',\n",
                            " 'nation has ever faced.',\n",
                            " 'The pandemic has been punishing.',\n",
                            " 'And so many families are living paycheck to paycheck, struggling to keep up with the rising cost of',\n",
                            " 'the rising cost of food, gas, housing, and so much more.',\n",
                            " 'I understand.',\n",
                            " 'I remember when my Dad had to leave our home in Scranton, Pennsylvania to find work. I grew up in a',\n",
                            " 'I grew up in a family where if the price of food went up, you felt it.',\n",
                            " 'That\u2019s why one of the first things I did as President was fight to pass the American Rescue Plan.',\n",
                            " 'Because people were hurting. We needed to act, and we did.',\n",
                            " 'Few pieces of legislation have done more in a critical moment in our history to lift us out of',\n",
                            " 'to lift us out of crisis.',\n",
                            " 'It fueled our efforts to vaccinate the nation and combat COVID-19. It delivered immediate economic',\n",
                            " 'immediate economic relief for tens of millions of Americans.',\n",
                            " 'Helped put food on their table, keep a roof over their heads, and cut the cost of health insurance.',\n",
                            " 'health insurance.',\n",
                            " 'And as my Dad used to say, it gave people a little breathing room.',\n",
                            " 'And unlike the $2 Trillion tax cut passed in the previous administration that benefitted the top 1%',\n",
                            " 'the top 1% of Americans, the American Rescue Plan helped working people\u2014and left no one behind.',\n",
                            " 'And it worked. It created jobs. Lots of jobs.',\n",
                            " 'In fact\u2014our economy created over 6.5 Million new jobs just last year, more jobs created in one year',\n",
                            " 'created in one year',\n",
                            " 'than ever before in the history of America.',\n",
                            " 'Our economy grew at a rate of 5.7% last year, the strongest growth in nearly 40 years, the first',\n",
                            " '40 years, the first step in bringing fundamental change to an economy that hasn\u2019t worked for the',\n",
                            " 'worked for the working people of this nation for too long.',\n",
                            " 'For the past 40 years we were told that if we gave tax breaks to those at the very top, the',\n",
                            " 'the very top, the benefits would trickle down to everyone else.',\n",
                            " 'But that trickle-down theory led to weaker economic growth, lower wages, bigger deficits, and the',\n",
                            " 'deficits, and the widest gap between those at the top and everyone else in nearly a century.',\n",
                            " 'Vice President Harris and I ran for office with a new economic vision for America.',\n",
                            " 'Invest in America. Educate Americans. Grow the workforce. Build the economy from the bottom up',\n",
                            " 'and the middle out, not from the top down.',\n",
                            " 'Because we know that when the middle class grows, the poor have a ladder up and the wealthy do very',\n",
                            " 'the wealthy do very well.',\n",
                            " 'America used to have the best roads, bridges, and airports on Earth.',\n",
                            " 'Now our infrastructure is ranked 13th in the world.',\n",
                            " 'We won\u2019t be able to compete for the jobs of the 21st Century if we don\u2019t fix that.',\n",
                            " 'That\u2019s why it was so important to pass the Bipartisan Infrastructure Law\u2014the most sweeping',\n",
                            " 'most sweeping investment to rebuild America in history.',\n",
                            " 'This was a bipartisan effort, and I want to thank the members of both parties who worked to make it',\n",
                            " 'worked to make it happen.',\n",
                            " 'We\u2019re done talking about infrastructure weeks. \\n\\nWe\u2019re going to have an infrastructure decade.',\n",
                            " 'It is going to transform America and put us on a path to win the economic competition of the 21st',\n",
                            " 'of the 21st Century that we face with the rest of the world\u2014particularly with China.',\n",
                            " 'As I\u2019ve told Xi Jinping, it is never a good bet to bet against the American people.',\n",
                            " 'We\u2019ll create good jobs for millions of Americans, modernizing roads, airports, ports, and waterways',\n",
                            " 'and waterways all across America.',\n",
                            " 'And we\u2019ll do it all to withstand the devastating effects of the climate crisis and promote',\n",
                            " 'crisis and promote environmental justice.',\n",
                            " 'We\u2019ll build a national network of 500,000 electric vehicle charging stations, begin to replace',\n",
                            " 'begin to replace poisonous lead pipes\u2014so every child\u2014and every American\u2014has clean water to drink at',\n",
                            " 'water to drink at home and at school, provide affordable high-speed internet for every',\n",
                            " 'internet for every American\u2014urban, suburban, rural, and tribal communities.',\n",
                            " '4,000 projects have already been announced.',\n",
                            " 'And tonight, I\u2019m announcing that this year we will start fixing over 65,000 miles of highway and',\n",
                            " 'of highway and 1,500 bridges in disrepair.',\n",
                            " 'When we use taxpayer dollars to rebuild America \u2013 we are going to Buy American: buy American',\n",
                            " 'buy American products to support American jobs.',\n",
                            " 'The federal government spends about $600 Billion a year to keep the country safe and secure.',\n",
                            " 'There\u2019s been a law on the books for almost a century',\n",
                            " 'to make sure taxpayers\u2019 dollars support American jobs and businesses.',\n",
                            " 'Every Administration says they\u2019ll do it, but we are actually doing it.',\n",
                            " 'We will buy American to make sure everything from the deck of an aircraft carrier to the steel on',\n",
                            " 'to the steel on highway guardrails are made in America.',\n",
                            " 'But to compete for the best jobs of the future, we also need to level the playing field with China',\n",
                            " 'field with China and other competitors.',\n",
                            " 'That\u2019s why it is so important to pass the Bipartisan Innovation Act sitting in Congress that will',\n",
                            " 'Congress that will make record investments in emerging technologies and American manufacturing.',\n",
                            " 'Let me give you one example of why it\u2019s so important to pass it.',\n",
                            " 'If you travel 20 miles east of Columbus, Ohio, you\u2019ll find 1,000 empty acres of land.',\n",
                            " 'It won\u2019t look like much, but if you stop and look closely, you\u2019ll see a \u201cField of dreams,\u201d the',\n",
                            " 'of dreams,\u201d the ground on which America\u2019s future will be built.',\n",
                            " 'This is where Intel, the American company that helped build Silicon Valley, is going to build its',\n",
                            " 'going to build its $20 billion semiconductor \u201cmega site\u201d.',\n",
                            " 'Up to eight state-of-the-art factories in one place. 10,000 new good-paying jobs.',\n",
                            " 'Some of the most sophisticated manufacturing in the world to make computer chips the size of a',\n",
                            " 'chips the size of a fingertip that power the world and our everyday lives.',\n",
                            " 'Smartphones. The Internet. Technology we have yet to invent. \\n\\nBut that\u2019s just the beginning.',\n",
                            " 'Intel\u2019s CEO, Pat Gelsinger, who is here tonight, told me they are ready to increase their',\n",
                            " 'to increase their investment from',\n",
                            " '$20 billion to $100 billion.',\n",
                            " 'That would be one of the biggest investments in manufacturing in American history.',\n",
                            " 'And all they\u2019re waiting for is for you to pass this bill.',\n",
                            " 'So let\u2019s not wait any longer. Send it to my desk. I\u2019ll sign it.  \\n\\nAnd we will really take off.',\n",
                            " 'And Intel is not alone. \\n\\nThere\u2019s something happening in America.',\n",
                            " 'Just look around and you\u2019ll see an amazing story.',\n",
                            " 'The rebirth of the pride that comes from stamping products \u201cMade In America.\u201d The revitalization of',\n",
                            " 'revitalization of American manufacturing.',\n",
                            " 'Companies are choosing to build new factories here, when just a few years ago, they would have',\n",
                            " 'they would have built them overseas.',\n",
                            " 'That\u2019s what is happening. Ford is investing $11 billion to build electric vehicles, creating 11,000',\n",
                            " 'creating 11,000 jobs across the country.',\n",
                            " 'GM is making the largest investment in its history\u2014$7 billion to build electric vehicles, creating',\n",
                            " 'vehicles, creating 4,000 jobs in Michigan.',\n",
                            " 'All told, we created 369,000 new manufacturing jobs in America just last year.',\n",
                            " 'Powered by people I\u2019ve met like JoJo Burgess, from generations of union steelworkers from',\n",
                            " 'steelworkers from Pittsburgh, who\u2019s here with us tonight.',\n",
                            " 'As Ohio Senator Sherrod Brown says, \u201cIt\u2019s time to bury the label \u201cRust Belt.\u201d \\n\\nIt\u2019s time.',\n",
                            " 'But with all the bright spots in our economy, record job growth and higher wages, too many families',\n",
                            " 'too many families are struggling to keep up with the bills.',\n",
                            " 'Inflation is robbing them of the gains they might otherwise feel.',\n",
                            " 'I get it. That\u2019s why my top priority is getting prices under control.',\n",
                            " 'Look, our economy roared back faster than most predicted, but the pandemic meant that businesses',\n",
                            " 'that businesses had a hard time hiring enough workers to keep up production in their factories.',\n",
                            " 'The pandemic also disrupted global supply chains.',\n",
                            " 'When factories close, it takes longer to make goods and get them from the warehouse to the store,',\n",
                            " 'to the store, and prices go up.',\n",
                            " 'Look at cars.',\n",
                            " 'Last year, there weren\u2019t enough semiconductors to make all the cars that people wanted to buy.',\n",
                            " 'And guess what, prices of automobiles went up. \\n\\nSo\u2014we have a choice.',\n",
                            " 'One way to fight inflation is to drive down wages and make Americans poorer.',\n",
                            " 'I have a better plan to fight inflation. \\n\\nLower your costs, not your wages.',\n",
                            " 'Make more cars and semiconductors in America. \\n\\nMore infrastructure and innovation in America.',\n",
                            " 'More goods moving faster and cheaper in America.',\n",
                            " 'More jobs where you can earn a good living in America.',\n",
                            " 'And instead of relying on foreign supply chains, let\u2019s make it in America.',\n",
                            " 'Economists call it \u201cincreasing the productive capacity of our economy.\u201d',\n",
                            " 'I call it building a better America.',\n",
                            " 'My plan to fight inflation will lower your costs and lower the deficit.',\n",
                            " '17 Nobel laureates in economics say my plan will ease long-term inflationary pressures. Top',\n",
                            " 'pressures. Top business leaders and most Americans support my plan. And here\u2019s the plan:',\n",
                            " 'First \u2013 cut the cost of prescription drugs. Just look at insulin. One in ten Americans has',\n",
                            " 'ten Americans has diabetes. In Virginia, I met a 13-year-old boy named Joshua Davis.',\n",
                            " 'He and his Dad both have Type 1 diabetes, which means they need insulin every day. Insulin costs',\n",
                            " 'day. Insulin costs about $10 a vial to make.',\n",
                            " 'But drug companies charge families like Joshua and his Dad up to 30 times more. I spoke with',\n",
                            " 'more. I spoke with Joshua\u2019s mom.',\n",
                            " 'Imagine what it\u2019s like to look at your child who needs insulin and have no idea how you\u2019re going to',\n",
                            " 'how you\u2019re going to pay for it.',\n",
                            " 'What it does to your dignity, your ability to look your child in the eye, to be the parent you',\n",
                            " 'be the parent you expect to be.',\n",
                            " 'Joshua is here with us tonight. Yesterday was his birthday. Happy birthday, buddy.',\n",
                            " 'For Joshua, and for the 200,000 other young people with Type 1 diabetes, let\u2019s cap the cost of',\n",
                            " 'cap the cost of insulin at $35 a month so everyone can afford it.',\n",
                            " 'Drug companies will still do very well. And while we\u2019re at it let Medicare negotiate lower prices',\n",
                            " 'lower prices for prescription drugs, like the VA already does.',\n",
                            " 'Look, the American Rescue Plan is helping millions of families on Affordable Care Act plans save',\n",
                            " 'Care Act plans save $2,400 a year on their health care premiums. Let\u2019s close the coverage gap and',\n",
                            " 'coverage gap and make those savings permanent.',\n",
                            " 'Second \u2013 cut energy costs for families an average of $500 a year by combatting climate change.',\n",
                            " 'Let\u2019s provide investments and tax credits to weatherize your homes and businesses to be energy',\n",
                            " 'to be energy efficient and you get a tax credit; double America\u2019s clean energy production in solar,',\n",
                            " 'in solar, wind, and so much more;  lower the price of electric vehicles, saving you another $80 a',\n",
                            " 'you another $80 a month because you\u2019ll never have to pay at the gas pump again.',\n",
                            " 'Third \u2013 cut the cost of child care. Many families pay up to $14,000 a year for child care per',\n",
                            " 'for child care per child.',\n",
                            " 'Middle-class and working families shouldn\u2019t have to pay more than 7% of their income for care of',\n",
                            " 'income for care of young children.',\n",
                            " 'My plan will cut the cost in half for most families and help parents, including millions of women,',\n",
                            " 'millions of women, who left the workforce during the pandemic because they couldn\u2019t afford child',\n",
                            " 'afford child care, to be able to get back to work.',\n",
                            " 'My plan doesn\u2019t stop there. It also includes home and long-term care. More affordable housing. And',\n",
                            " 'housing. And Pre-K for every 3- and 4-year-old.',\n",
                            " 'All of these will lower costs.',\n",
                            " 'And under my plan, nobody earning less than $400,000 a year will pay an additional penny in new',\n",
                            " 'penny in new taxes. Nobody.',\n",
                            " 'The one thing all Americans agree on is that the tax system is not fair. We have to fix it.',\n",
                            " 'I\u2019m not looking to punish anyone. But let\u2019s make sure corporations and the wealthiest Americans',\n",
                            " 'Americans start paying their fair share.',\n",
                            " 'Just last year, 55 Fortune 500 corporations earned $40 billion in profits and paid zero dollars in',\n",
                            " 'zero dollars in federal income tax.',\n",
                            " 'That\u2019s simply not fair. That\u2019s why I\u2019ve proposed a 15% minimum tax rate for corporations.',\n",
                            " 'We got more than 130 countries to agree on a global minimum tax rate so companies can\u2019t get out of',\n",
                            " 'can\u2019t get out of paying their taxes at home by shipping jobs and factories overseas.',\n",
                            " 'That\u2019s why I\u2019ve proposed closing loopholes so the very wealthy don\u2019t pay a lower tax rate than a',\n",
                            " 'tax rate than a teacher or a firefighter.',\n",
                            " 'So that\u2019s my plan. It will grow the economy and lower costs for families.',\n",
                            " 'So what are we waiting for? Let\u2019s get this done. And while you\u2019re at it, confirm my nominees to the',\n",
                            " 'my nominees to the Federal Reserve, which plays a critical role in fighting inflation.',\n",
                            " 'My plan will not only lower costs to give families a fair shot, it will lower the deficit.',\n",
                            " 'The previous Administration not only ballooned the deficit with tax cuts for the very wealthy and',\n",
                            " 'very wealthy and corporations, it undermined the watchdogs whose job was to keep pandemic relief',\n",
                            " 'pandemic relief funds from being wasted.',\n",
                            " 'But in my administration, the watchdogs have been welcomed back.',\n",
                            " 'We\u2019re going after the criminals who stole billions in relief money meant for small businesses and',\n",
                            " 'businesses and millions of Americans.',\n",
                            " 'And tonight, I\u2019m announcing that the Justice Department will name a chief prosecutor for pandemic',\n",
                            " 'for pandemic fraud.',\n",
                            " 'By the end of this year, the deficit will be down to less than half what it was before I took',\n",
                            " 'was before I took office.',\n",
                            " 'The only president ever to cut the deficit by more than one trillion dollars in a single year.',\n",
                            " 'Lowering your costs also means demanding more competition.',\n",
                            " 'I\u2019m a capitalist, but capitalism without competition isn\u2019t capitalism.',\n",
                            " 'It\u2019s exploitation\u2014and it drives up prices.',\n",
                            " 'When corporations don\u2019t have to compete, their profits go up, your prices go up, and small',\n",
                            " 'go up, and small businesses and family farmers and ranchers go under.',\n",
                            " 'We see it happening with ocean carriers moving goods in and out of America.',\n",
                            " 'During the pandemic, these foreign-owned companies raised prices by as much as 1,000% and made',\n",
                            " 'as 1,000% and made record profits.',\n",
                            " 'Tonight, I\u2019m announcing a crackdown on these companies overcharging American businesses and',\n",
                            " 'businesses and consumers.',\n",
                            " 'And as Wall Street firms take over more nursing homes, quality in those homes has gone down and',\n",
                            " 'has gone down and costs have gone up.',\n",
                            " 'That ends on my watch.',\n",
                            " 'Medicare is going to set higher standards for nursing homes and make sure your loved ones get the',\n",
                            " 'loved ones get the care they deserve and expect.',\n",
                            " 'We\u2019ll also cut costs and keep the economy going strong by giving workers a fair shot, provide more',\n",
                            " 'shot, provide more training and apprenticeships, hire them based on their skills not degrees.',\n",
                            " 'Let\u2019s pass the Paycheck Fairness Act and paid leave.',\n",
                            " 'Raise the minimum wage to $15 an hour and extend the Child Tax Credit, so no one has to raise a',\n",
                            " 'one has to raise a family in poverty.',\n",
                            " 'Let\u2019s increase Pell Grants and increase our historic support of HBCUs, and invest in what Jill\u2014our',\n",
                            " 'in what Jill\u2014our First Lady who teaches full-time\u2014calls America\u2019s best-kept secret: community',\n",
                            " 'secret: community colleges.',\n",
                            " 'And let\u2019s pass the PRO Act when a majority of workers want to form a union\u2014they shouldn\u2019t be',\n",
                            " 'shouldn\u2019t be stopped.',\n",
                            " 'When we invest in our workers, when we build the economy from the bottom up and the middle out',\n",
                            " 'and the middle out together, we can do something we haven\u2019t done in a long time: build a better',\n",
                            " 'build a better America.',\n",
                            " 'For more than two years, COVID-19 has impacted every decision in our lives and the life of the',\n",
                            " 'and the life of the nation.',\n",
                            " 'And I know you\u2019re tired, frustrated, and exhausted. \\n\\nBut I also know this.',\n",
                            " 'Because of the progress we\u2019ve made, because of your resilience and the tools we have, tonight I can',\n",
                            " 'have, tonight I can say',\n",
                            " 'we are moving forward safely, back to more normal routines.',\n",
                            " 'We\u2019ve reached a new moment in the fight against COVID-19, with severe cases down to a level not',\n",
                            " 'down to a level not seen since last July.',\n",
                            " 'Just a few days ago, the Centers for Disease Control and Prevention\u2014the CDC\u2014issued new mask',\n",
                            " 'CDC\u2014issued new mask guidelines.',\n",
                            " 'Under these new guidelines, most Americans in most of the country can now be mask free.',\n",
                            " 'And based on the projections, more of the country will reach that point across the next couple of',\n",
                            " 'the next couple of weeks.',\n",
                            " 'Thanks to the progress we have made this past year, COVID-19 need no longer control our lives.',\n",
                            " 'I know some are talking about \u201cliving with COVID-19\u201d. Tonight \u2013 I say that we will never just',\n",
                            " 'we will never just accept living with COVID-19.',\n",
                            " 'We will continue to combat the virus as we do other diseases. And because this is a virus that',\n",
                            " 'is a virus that mutates and spreads, we will stay on guard.',\n",
                            " 'Here are four common sense steps as we move forward safely.',\n",
                            " 'First, stay protected with vaccines and treatments. We know how incredibly effective vaccines are.',\n",
                            " 'vaccines are. If you\u2019re vaccinated and boosted you have the highest degree of protection.',\n",
                            " 'We will never give up on vaccinating more Americans. Now, I know parents with kids under 5 are',\n",
                            " 'kids under 5 are eager to see a vaccine authorized for their children.',\n",
                            " 'The scientists are working hard to get that done and we\u2019ll be ready with plenty of vaccines when',\n",
                            " 'of vaccines when they do.',\n",
                            " 'We\u2019re also ready with anti-viral treatments. If you get COVID-19, the Pfizer pill reduces your',\n",
                            " 'pill reduces your chances of ending up in the hospital by 90%.',\n",
                            " 'We\u2019ve ordered more of these pills than anyone in the world. And Pfizer is working overtime to get',\n",
                            " 'overtime to get us 1 Million pills this month and more than double that next month.',\n",
                            " 'And we\u2019re launching the \u201cTest to Treat\u201d initiative so people can get tested at a pharmacy, and if',\n",
                            " 'a pharmacy, and if they\u2019re positive, receive antiviral pills on the spot at no cost.',\n",
                            " 'If you\u2019re immunocompromised or have some other vulnerability, we have treatments and free',\n",
                            " 'treatments and free high-quality masks.',\n",
                            " 'We\u2019re leaving no one behind or ignoring anyone\u2019s needs as we move forward.',\n",
                            " 'And on testing, we have made hundreds of millions of tests available for you to order for free.',\n",
                            " 'Even if you already ordered free tests tonight, I am announcing that you can order more from',\n",
                            " 'can order more from covidtests.gov starting next week.',\n",
                            " 'Second \u2013 we must prepare for new variants. Over the past year, we\u2019ve gotten much better at',\n",
                            " 'much better at detecting new variants.',\n",
                            " 'If necessary, we\u2019ll be able to deploy new vaccines within 100 days instead of many more months or',\n",
                            " 'many more months or years.',\n",
                            " 'And, if Congress provides the funds we need, we\u2019ll have new stockpiles of tests, masks, and pills',\n",
                            " 'masks, and pills ready if needed.',\n",
                            " 'I cannot promise a new variant won\u2019t come. But I can promise you we\u2019ll do everything within our',\n",
                            " 'within our power to be ready if it does.',\n",
                            " 'Third \u2013 we can end the shutdown of schools and businesses. We have the tools we need.',\n",
                            " 'It\u2019s time for Americans to get back to work and fill our great downtowns again.  People working',\n",
                            " 'People working from home can feel safe to begin to return to the office.',\n",
                            " 'We\u2019re doing that here in the federal government. The vast majority of federal workers will once',\n",
                            " 'workers will once again work in person.',\n",
                            " 'Our schools are open. Let\u2019s keep it that way. Our kids need to be in school.',\n",
                            " 'And with 75% of adult Americans fully vaccinated and hospitalizations down by 77%, most Americans',\n",
                            " '77%, most Americans can remove their masks, return to work, stay in the classroom, and move forward',\n",
                            " 'and move forward safely.',\n",
                            " 'We achieved this because we provided free vaccines, treatments, tests, and masks.',\n",
                            " 'Of course, continuing this costs money. \\n\\nI will soon send Congress a request.',\n",
                            " 'The vast majority of Americans have used these tools and may want to again, so I expect Congress to',\n",
                            " 'expect Congress to pass it quickly.',\n",
                            " 'Fourth, we will continue vaccinating the world.',\n",
                            " 'We\u2019ve sent 475 Million vaccine doses to 112 countries, more than any other nation.',\n",
                            " 'And we won\u2019t stop.',\n",
                            " 'We have lost so much to COVID-19. Time with one another. And worst of all, so much loss of life.',\n",
                            " 'Let\u2019s use this moment to reset. Let\u2019s stop looking at COVID-19 as a partisan dividing line and see',\n",
                            " 'line and see it for what it is: A God-awful disease.',\n",
                            " 'Let\u2019s stop seeing each other as enemies, and start seeing each other for who we really are: Fellow',\n",
                            " 'really are: Fellow Americans.',\n",
                            " 'We can\u2019t change how divided we\u2019ve been. But we can change how we move forward\u2014on COVID-19 and other',\n",
                            " 'COVID-19 and other issues we must face together.',\n",
                            " 'I recently visited the New York City Police Department days after the funerals of Officer Wilbert',\n",
                            " 'of Officer Wilbert Mora and his partner, Officer Jason Rivera.',\n",
                            " 'They were responding to a 9-1-1 call when a man shot and killed them with a stolen gun.',\n",
                            " 'Officer Mora was 27 years old. \\n\\nOfficer Rivera was 22.',\n",
                            " 'Both Dominican Americans who\u2019d grown up on the same streets they later chose to patrol as police',\n",
                            " 'to patrol as police officers.',\n",
                            " 'I spoke with their families and told them that we are forever in debt for their sacrifice, and we',\n",
                            " 'sacrifice, and we will carry on their mission to restore the trust and safety every community',\n",
                            " 'every community deserves.',\n",
                            " 'I\u2019ve worked on these issues a long time.',\n",
                            " 'I know what works: Investing in crime preventionand community police officers who\u2019ll walk the beat,',\n",
                            " 'walk the beat, who\u2019ll know the neighborhood, and who can restore trust and safety.',\n",
                            " 'So let\u2019s not abandon our streets. Or choose between safety and equal justice.',\n",
                            " 'Let\u2019s come together to protect our communities, restore trust, and hold law enforcement',\n",
                            " 'law enforcement accountable.',\n",
                            " 'That\u2019s why the Justice Department required body cameras, banned chokeholds, and restricted no-knock',\n",
                            " 'restricted no-knock warrants for its officers.',\n",
                            " 'That\u2019s why the American Rescue Plan provided $350 Billion that cities, states, and counties can use',\n",
                            " 'counties can use to hire more police and invest in proven strategies like community violence',\n",
                            " 'community violence interruption\u2014trusted messengers breaking the cycle of violence and trauma and',\n",
                            " 'and trauma and giving young people hope.',\n",
                            " 'We should all agree: The answer is not to Defund the police. The answer is to FUND the police with',\n",
                            " 'the police with the resources and training they need to protect our communities.',\n",
                            " 'I ask Democrats and Republicans alike: Pass my budget and keep our neighborhoods safe.',\n",
                            " 'And I will keep doing everything in my power to crack down on gun trafficking and ghost guns you',\n",
                            " 'and ghost guns you can buy online and make at home\u2014they have no serial numbers and can\u2019t be traced.',\n",
                            " 'can\u2019t be traced.',\n",
                            " 'And I ask Congress to pass proven measures to reduce gun violence. Pass universal background',\n",
                            " 'background checks. Why should anyone on a terrorist list be able to purchase a weapon?',\n",
                            " 'Ban assault weapons and high-capacity magazines.',\n",
                            " 'Repeal the liability shield that makes gun manufacturers the only industry in America that can\u2019t be',\n",
                            " 'that can\u2019t be sued.',\n",
                            " 'These laws don\u2019t infringe on the Second Amendment. They save lives.',\n",
                            " 'The most fundamental right in America is the right to vote \u2013 and to have it counted. And it\u2019s under',\n",
                            " 'And it\u2019s under assault.',\n",
                            " 'In state after state, new laws have been passed, not only to suppress the vote, but to subvert',\n",
                            " 'but to subvert entire elections.',\n",
                            " 'We cannot let this happen.',\n",
                            " 'Tonight. I call on the Senate to: Pass the Freedom to Vote Act. Pass the John Lewis Voting Rights',\n",
                            " 'Lewis Voting Rights Act. And while you\u2019re at it, pass the Disclose Act so Americans can know who is',\n",
                            " 'can know who is funding our elections.',\n",
                            " 'Tonight, I\u2019d like to honor someone who has dedicated his life to serve this country: Justice',\n",
                            " 'country: Justice Stephen Breyer\u2014an Army veteran, Constitutional scholar, and retiring Justice of',\n",
                            " 'retiring Justice of the United States Supreme Court. Justice Breyer, thank you for your service.',\n",
                            " 'One of the most serious constitutional responsibilities a President has is nominating someone to',\n",
                            " 'someone to serve on the United States Supreme Court.',\n",
                            " 'And I did that 4 days ago, when I nominated Circuit Court of Appeals Judge Ketanji Brown Jackson.',\n",
                            " 'Brown Jackson. One of our nation\u2019s top legal minds, who will continue Justice Breyer\u2019s legacy of',\n",
                            " 'Breyer\u2019s legacy of excellence.',\n",
                            " 'A former top litigator in private practice. A former federal public defender. And from a family of',\n",
                            " 'from a family of public school educators and police officers. A consensus builder. Since she\u2019s been',\n",
                            " 'Since she\u2019s been nominated, she\u2019s received a broad range of support\u2014from the Fraternal Order of',\n",
                            " 'Fraternal Order of Police to former judges appointed by Democrats and Republicans.',\n",
                            " 'And if we are to advance liberty and justice, we need to secure the Border and fix the immigration',\n",
                            " 'fix the immigration system.',\n",
                            " 'We can do both. At our border, we\u2019ve installed new technology like cutting-edge scanners to better',\n",
                            " 'scanners to better detect drug smuggling.',\n",
                            " 'We\u2019ve set up joint patrols with Mexico and Guatemala to catch more human traffickers.',\n",
                            " 'We\u2019re putting in place dedicated immigration judges so families fleeing persecution and violence',\n",
                            " 'and violence can have their cases heard faster.',\n",
                            " 'We\u2019re securing commitments and supporting partners in South and Central America to host more',\n",
                            " 'to host more refugees and secure their own borders.',\n",
                            " 'We can do all this while keeping lit the torch of liberty that has led generations of immigrants to',\n",
                            " 'of immigrants to this land\u2014my forefathers and so many of yours.',\n",
                            " 'Provide a pathway to citizenship for Dreamers, those on temporary status, farm workers, and',\n",
                            " 'farm workers, and essential workers.',\n",
                            " 'Revise our laws so businesses have the workers they need and families don\u2019t wait decades to',\n",
                            " 'wait decades to reunite.',\n",
                            " 'It\u2019s not only the right thing to do\u2014it\u2019s the economically smart thing to do.',\n",
                            " 'That\u2019s why immigration reform is supported by everyone from labor unions to religious leaders to',\n",
                            " 'leaders to the U.S. Chamber of Commerce.',\n",
                            " 'Let\u2019s get it done once and for all.',\n",
                            " 'Advancing liberty and justice also requires protecting the rights of women.',\n",
                            " 'The constitutional right affirmed in Roe v. Wade\u2014standing precedent for half a century\u2014is under',\n",
                            " 'a century\u2014is under attack as never before.',\n",
                            " 'If we want to go forward\u2014not backward\u2014we must protect access to health care. Preserve a woman\u2019s',\n",
                            " 'Preserve a woman\u2019s right to choose. And let\u2019s continue to advance maternal health care in America.',\n",
                            " 'And for our LGBTQ+ Americans, let\u2019s finally get the bipartisan Equality Act to my desk. The',\n",
                            " 'Act to my desk. The onslaught of state laws targeting transgender Americans and their families is',\n",
                            " 'their families is wrong.',\n",
                            " 'As I said last year, especially to our younger transgender Americans, I will always have your back',\n",
                            " 'have your back as your President, so you can be yourself and reach your God-given potential.',\n",
                            " 'While it often appears that we never agree, that isn\u2019t true. I signed 80 bipartisan bills into law',\n",
                            " 'bills into law last year. From preventing government shutdowns to protecting Asian-Americans from',\n",
                            " 'from still-too-common hate crimes to reforming military justice.',\n",
                            " 'And soon, we\u2019ll strengthen the Violence Against Women Act that I first wrote three decades ago. It',\n",
                            " 'decades ago. It is important for us to show the nation that we can come together and do big things.',\n",
                            " 'and do big things.',\n",
                            " 'So tonight I\u2019m offering a Unity Agenda for the Nation. Four big things we can do together.',\n",
                            " 'First, beat the opioid epidemic.',\n",
                            " 'There is so much we can do. Increase funding for prevention, treatment, harm reduction, and',\n",
                            " 'harm reduction, and recovery.',\n",
                            " 'Get rid of outdated rules that stop doctors from prescribing treatments. And stop the flow of',\n",
                            " 'stop the flow of illicit drugs by working with state and local law enforcement to go after',\n",
                            " 'to go after traffickers.',\n",
                            " 'If you\u2019re suffering from addiction, know you are not alone. I believe in recovery, and I celebrate',\n",
                            " 'and I celebrate the 23 million Americans in recovery.',\n",
                            " 'Second, let\u2019s take on mental health. Especially among our children, whose lives and education have',\n",
                            " 'and education have been turned upside down.',\n",
                            " 'The American Rescue Plan gave schools money to hire teachers and help students make up for lost',\n",
                            " 'make up for lost learning.',\n",
                            " 'I urge every parent to make sure your school does just that. And we can all play a part\u2014sign up to',\n",
                            " 'a part\u2014sign up to be a tutor or a mentor.',\n",
                            " 'Children were also struggling before the pandemic. Bullying, violence, trauma, and the harms of',\n",
                            " 'and the harms of social media.',\n",
                            " 'As Frances Haugen, who is here with us tonight, has shown, we must hold social media platforms',\n",
                            " 'media platforms accountable for the national experiment they\u2019re conducting on our children for',\n",
                            " 'on our children for profit.',\n",
                            " 'It\u2019s time to strengthen privacy protections, ban targeted advertising to children, demand tech',\n",
                            " 'demand tech companies stop collecting personal data on our children.',\n",
                            " 'And let\u2019s get all Americans the mental health services they need. More people they can turn to for',\n",
                            " 'can turn to for help, and full parity between physical and mental health care.',\n",
                            " 'Third, support our veterans. \\n\\nVeterans are the best of us.',\n",
                            " 'I\u2019ve always believed that we have a sacred obligation to equip all those we send to war and care',\n",
                            " 'to war and care for them and their families when they come home.',\n",
                            " 'My administration is providing assistance with job training and housing, and now helping',\n",
                            " 'and now helping lower-income veterans get VA care debt-free.',\n",
                            " 'Our troops in Iraq and Afghanistan faced many dangers.',\n",
                            " 'One was stationed at bases and breathing in toxic smoke from \u201cburn pits\u201d that incinerated wastes of',\n",
                            " 'wastes of war\u2014medical and hazard material, jet fuel, and more.',\n",
                            " 'When they came home, many of the world\u2019s fittest and best trained warriors were never the same.',\n",
                            " 'Headaches. Numbness. Dizziness. \\n\\nA cancer that would put them in a flag-draped coffin. \\n\\nI know.',\n",
                            " 'I know. \\n\\nOne of those soldiers was my son Major Beau Biden.',\n",
                            " 'We don\u2019t know for sure if a burn pit was the cause of his brain cancer, or the diseases of so many',\n",
                            " 'diseases of so many of our troops.',\n",
                            " 'But I\u2019m committed to finding out everything we can.',\n",
                            " 'Committed to military families like Danielle Robinson from Ohio.',\n",
                            " 'The widow of Sergeant First Class Heath Robinson.',\n",
                            " 'He was born a soldier. Army National Guard. Combat medic in Kosovo and Iraq.',\n",
                            " 'Stationed near Baghdad, just yards from burn pits the size of football fields.',\n",
                            " 'Heath\u2019s widow Danielle is here with us tonight. They loved going to Ohio State football games. He',\n",
                            " 'football games. He loved building Legos with their daughter.',\n",
                            " 'But cancer from prolonged exposure to burn pits ravaged Heath\u2019s lungs and body.',\n",
                            " 'Danielle says Heath was a fighter to the very end.',\n",
                            " 'He didn\u2019t know how to stop fighting, and neither did she.',\n",
                            " 'Through her pain she found purpose to demand we do better. \\n\\nTonight, Danielle\u2014we are.',\n",
                            " 'The VA is pioneering new ways of linking toxic exposures to diseases, already helping more veterans',\n",
                            " 'more veterans get benefits.',\n",
                            " 'And tonight, I\u2019m announcing we\u2019re expanding eligibility to veterans suffering from nine respiratory',\n",
                            " 'nine respiratory cancers.',\n",
                            " 'I\u2019m also calling on Congress: pass a law to make sure veterans devastated by toxic exposures in',\n",
                            " 'toxic exposures in Iraq and Afghanistan finally get the benefits and comprehensive health care they',\n",
                            " 'health care they deserve.',\n",
                            " 'And fourth, let\u2019s end cancer as we know it.',\n",
                            " 'This is personal to me and Jill, to Kamala, and to so many of you.',\n",
                            " 'Cancer is the #2 cause of death in America\u2013second only to heart disease.',\n",
                            " 'Last month, I announced our plan to supercharge',\n",
                            " 'the Cancer Moonshot that President Obama asked me to lead six years ago.',\n",
                            " 'Our goal is to cut the cancer death rate by at least 50% over the next 25 years, turn more cancers',\n",
                            " 'turn more cancers from death sentences into treatable diseases.',\n",
                            " 'More support for patients and families.',\n",
                            " 'To get there, I call on Congress to fund ARPA-H, the Advanced Research Projects Agency for Health.',\n",
                            " 'It\u2019s based on DARPA\u2014the Defense Department project that led to the Internet, GPS, and so much more.',\n",
                            " 'and so much more.',\n",
                            " 'ARPA-H will have a singular purpose\u2014to drive breakthroughs in cancer, Alzheimer\u2019s, diabetes, and',\n",
                            " 'diabetes, and more.',\n",
                            " 'A unity agenda for the nation. \\n\\nWe can do this.',\n",
                            " 'My fellow Americans\u2014tonight , we have gathered in a sacred space\u2014the citadel of our democracy.',\n",
                            " 'In this Capitol, generation after generation, Americans have debated great questions amid great',\n",
                            " 'amid great strife, and have done great things.',\n",
                            " 'We have fought for freedom, expanded liberty, defeated totalitarianism and terror.',\n",
                            " 'And built the strongest, freest, and most prosperous nation the world has ever known.',\n",
                            " 'Now is the hour. \\n\\nOur moment of responsibility.',\n",
                            " 'Our test of resolve and conscience, of history itself.',\n",
                            " 'It is in this moment that our character is formed. Our purpose is found. Our future is forged.',\n",
                            " 'Well I know this nation.  \\n\\nWe will meet the test.',\n",
                            " 'To protect freedom and liberty, to expand fairness and opportunity. \\n\\nWe will save democracy.',\n",
                            " 'As hard as these times have been, I am more optimistic about America today than I have been my',\n",
                            " 'than I have been my whole life.',\n",
                            " 'Because I see the future that is within our grasp.',\n",
                            " 'Because I know there is simply nothing beyond our capacity.',\n",
                            " 'We are the only nation on Earth that has always turned every crisis we have faced into an',\n",
                            " 'have faced into an opportunity.',\n",
                            " 'The only nation that can be defined by a single word: possibilities.',\n",
                            " 'So on this night, in our 245th year as a nation, I have come to report on the State of the Union.',\n",
                            " 'And my report is this: the State of the Union is strong\u2014because you, the American people, are',\n",
                            " 'people, are strong.',\n",
                            " 'We are stronger today than we were a year ago.',\n",
                            " 'And we will be stronger a year from now than we are today.',\n",
                            " 'Now is our moment to meet and overcome the challenges of our time. \\n\\nAnd we will, as one people.',\n",
                            " 'One America. \\n\\nThe United States of America. \\n\\nMay God bless you all. May God protect our troops.']"
                        ]
                    },
                    "metadata": {},
                    "execution_count": 6
                }
            ]
        },
        {
            "cell_type": "markdown",
            "source": [
                "## Watsonx embedding model\n",
                "\n",
                "[model card](https://dataplatform.cloud.ibm.com/docs/content/wsj/analyze-data/fm-slate-125m-english-rtrvr-model-card.html)"
            ],
            "metadata": {
                "id": "p--QXT0BIHN7"
            },
            "id": "p--QXT0BIHN7"
        },
        {
            "cell_type": "code",
            "source": [
                "from ibm_watsonx_ai.metanames import EmbedTextParamsMetaNames\n",
                "from langchain_ibm import WatsonxEmbeddings\n",
                "from google.colab import userdata\n",
                "\n",
                "embed_params = {\n",
                "    EmbedTextParamsMetaNames.TRUNCATE_INPUT_TOKENS: 3,\n",
                "    EmbedTextParamsMetaNames.RETURN_OPTIONS: {\"input_text\": True},\n",
                "}\n",
                "\n",
                "watsonx_embedding = WatsonxEmbeddings(\n",
                "    model_id=\"ibm/slate-125m-english-rtrvr\",\n",
                "    url=userdata.get(\"WATSONX_URL\"),\n",
                "    project_id=userdata.get(\"WATSONX_PROJECT_ID\"),\n",
                "    params=embed_params,\n",
                "    apikey=userdata.get('IBM_CLOUD_API_KEY')\n",
                ")"
            ],
            "metadata": {
                "id": "tZRVT6cwID9C"
            },
            "id": "tZRVT6cwID9C",
            "execution_count": 13,
            "outputs": []
        },
        {
            "cell_type": "markdown",
            "source": [
                "### Query embeddings"
            ],
            "metadata": {
                "id": "mDMDQo_tJS-S"
            },
            "id": "mDMDQo_tJS-S"
        },
        {
            "cell_type": "code",
            "source": [
                "query = \"How are you?\"\n",
                "\n",
                "query_result = watsonx_embedding.embed_query(query)\n",
                "\n",
                "len(query_result)"
            ],
            "metadata": {
                "colab": {
                    "base_uri": "https://localhost:8080/"
                },
                "id": "V4eeWA_FIk4s",
                "outputId": "fd27da9f-355b-4d49-9ff4-d05b12d9a609"
            },
            "id": "V4eeWA_FIk4s",
            "execution_count": 15,
            "outputs": [
                {
                    "output_type": "execute_result",
                    "data": {
                        "text/plain": [
                            "768"
                        ]
                    },
                    "metadata": {},
                    "execution_count": 15
                }
            ]
        },
        {
            "cell_type": "code",
            "source": [
                "query_result[:5]"
            ],
            "metadata": {
                "colab": {
                    "base_uri": "https://localhost:8080/"
                },
                "id": "PxHZfN3IJU6a",
                "outputId": "f237c188-6a46-43b5-a06a-da004616151d"
            },
            "id": "PxHZfN3IJU6a",
            "execution_count": 16,
            "outputs": [
                {
                    "output_type": "execute_result",
                    "data": {
                        "text/plain": [
                            "[-0.06722454, -0.023729993, 0.017487843, -0.013195328, -0.039584607]"
                        ]
                    },
                    "metadata": {},
                    "execution_count": 16
                }
            ]
        },
        {
            "cell_type": "markdown",
            "source": [
                "### Document embeddings"
            ],
            "metadata": {
                "id": "IlRnPBYoJdv7"
            },
            "id": "IlRnPBYoJdv7"
        },
        {
            "cell_type": "code",
            "source": [
                "doc_result = watsonx_embedding.embed_documents(chunks)\n",
                "\n",
                "len(doc_result)"
            ],
            "metadata": {
                "colab": {
                    "base_uri": "https://localhost:8080/"
                },
                "id": "JuHMR6EUJZhX",
                "outputId": "60e454f1-6bec-41d1-e85a-3955ac24e473"
            },
            "id": "JuHMR6EUJZhX",
            "execution_count": 17,
            "outputs": [
                {
                    "output_type": "execute_result",
                    "data": {
                        "text/plain": [
                            "570"
                        ]
                    },
                    "metadata": {},
                    "execution_count": 17
                }
            ]
        },
        {
            "cell_type": "code",
            "source": [
                "doc_result[0][:5]"
            ],
            "metadata": {
                "colab": {
                    "base_uri": "https://localhost:8080/"
                },
                "id": "LUAZHN9PJg2d",
                "outputId": "69d35630-ea3a-4cb7-f041-e8cea140c575"
            },
            "id": "LUAZHN9PJg2d",
            "execution_count": 18,
            "outputs": [
                {
                    "output_type": "execute_result",
                    "data": {
                        "text/plain": [
                            "[-0.009708214, -0.0016381955, -0.01340118, -0.005656508, -0.031278424]"
                        ]
                    },
                    "metadata": {},
                    "execution_count": 18
                }
            ]
        },
        {
            "cell_type": "code",
            "source": [
                "len(doc_result[0])"
            ],
            "metadata": {
                "colab": {
                    "base_uri": "https://localhost:8080/"
                },
                "id": "EC3qwrxIJlfK",
                "outputId": "ece27692-d01d-424d-8b7c-38800f8c2756"
            },
            "id": "EC3qwrxIJlfK",
            "execution_count": 19,
            "outputs": [
                {
                    "output_type": "execute_result",
                    "data": {
                        "text/plain": [
                            "768"
                        ]
                    },
                    "metadata": {},
                    "execution_count": 19
                }
            ]
        },
        {
            "cell_type": "markdown",
            "source": [
                "## Hugging Face embedding model"
            ],
            "metadata": {
                "id": "cGfh0jvfJpHT"
            },
            "id": "cGfh0jvfJpHT"
        },
        {
            "cell_type": "code",
            "source": [
                "from langchain_community.embeddings import HuggingFaceEmbeddings\n",
                "\n",
                "model_name = \"sentence-transformers/all-mpnet-base-v2\"\n",
                "\n",
                "huggingface_embedding = HuggingFaceEmbeddings(model_name=model_name)"
            ],
            "metadata": {
                "colab": {
                    "base_uri": "https://localhost:8080/",
                    "height": 209,
                    "referenced_widgets": [
                        "21ada2bc1db344059977108c2c352215",
                        "3ee4a86378b14f998c3b360859241253",
                        "8ca39bed4ebf4b5f9440ddec2f1bec6e",
                        "03c887de04aa46f5a4536e9164e5e789",
                        "a333616c7dc8465981b2e56f0e5ded45",
                        "4322e8fe0d3e405b9fd585a009cea76b",
                        "0dd5ede07c5c426aa77e01fa69414fde",
                        "3e15aa5060954996ba516257aff7ac46",
                        "dc33efd42fe6421f9261c4083f14895a",
                        "6aa7dffcd9b649c194369c7ce77e22ce",
                        "4c958d464ca04087b75ee1a2c3d0e1aa",
                        "ce6e9849278a41f4b9ab5ec576651f65",
                        "451975e8a1ac4225a079e4a427326ad5",
                        "9b92a9f78c9547859ed9e36e346a0069",
                        "a4d7b3b4cec443f8b4b0e8fc486709df",
                        "4e74637bccf447bcae1416529157d0ca",
                        "10bd802926c0447c9929deb601cdfdb5",
                        "b7275d86a1854b0ea8e9ce6e2a3c88f9",
                        "a4f8c11c570041faa610270c7cfb5d05",
                        "1179023646be40e0b3f707bb65a216e8",
                        "d29bf244a27c479f87a6a4d363a93987",
                        "f16beef3188249e7adb52b6242bab8cb",
                        "c5b593cf000e424aa76f893a350c4bd2",
                        "2bafaaab0b6c4cf28f16b004e66b788b",
                        "489f9bfeb8e447438fbb0bb4f3341009",
                        "8d7c78d5fdfa473386050a249b5b4f98",
                        "307fa409413c4a6ab35774831deaa568",
                        "135c0fcf43bc4e299051d361fdae4654",
                        "5ffc8d011e6f4f7a8dfbc17284d6f812",
                        "d6bbbe4ac7104d78b6ffc9195e18e16b",
                        "171b5af6c93143e598dbdc19eb1fc317",
                        "dd7c1282ef9442d8bf1d20bf07725fdc",
                        "d9256c85bd8b4578abc86fa26fc2cc5b",
                        "21d161b598144b14b601d8ade88f31c4",
                        "7d9d02a48c234fd8a9f56d5369dd2001",
                        "f1f4f6c1bd234877bff25423df6d0c1d",
                        "daee2e37e3bf4281a4b706d2f14d22a7",
                        "805f6f117e30427197aeab70144ecb6e",
                        "b63a856e39e04741b39f94bc18ca6e85",
                        "ece405ec4662472aa79b4c27e04a0583",
                        "c0ec9ca4a46a4fd797593195e9cae08a",
                        "73eb68bf1e3b4057b8899eb7d8ab3709",
                        "0dfdf712e2d849189682e142e398360e",
                        "4ae0cb52e2a74da09c7b3d2f6c4fdd7a",
                        "d2eb27e7c1764f28a73a53004a255b34",
                        "17692fbd1a234d73b7f34d3c6593b7bf",
                        "6263f0ecb36243b2a830f5953a3b7401",
                        "5ca7e08183f443cb8227cd3d0a93caf3",
                        "c204ff778ecf4f03b454ae91b505d99b",
                        "2ed37bb48dfe4b158c4960f9c2bdfe61",
                        "49570898f18644abbc2f440bc324daca",
                        "3dcfb835253d46e4bbd33c08bec7b44f",
                        "1a8c16b865a04e0181bc3fe1784d9f47",
                        "88ebd79fee3345a79972e98279d08ce7",
                        "311316eca33f4a5f80c56d12ebf41043",
                        "720f3c7030394b54ac053a0374b39652",
                        "7096624c33754c72b8b0293d03128ce8",
                        "e88d7972970242a7a8aef5e8fedb4267",
                        "c46d3f98ac414b488ed13c1429ed096d",
                        "1cdec4395365471ab93e38816eacc3f8",
                        "f669db27f31a4cac8bb52229f5dcbfff",
                        "9d40f80cb58a47dca35f23bc3ae35b00",
                        "2ab3ae0aeb8c4b54856a33d782a43083",
                        "cb3647b5fbd843729b11224abe401b47",
                        "254de627b27948fe996b123bd8fb8602",
                        "ac877184efec46f0b88cd09a6336a51c"
                    ]
                },
                "id": "fVeSJ9qGJnII",
                "outputId": "8ed1d504-cf66-41d3-8396-76fff3a1ae40"
            },
            "id": "fVeSJ9qGJnII",
            "execution_count": 22,
            "outputs": [
                {
                    "output_type": "display_data",
                    "data": {
                        "text/plain": [
                            "model.safetensors:   0%|          | 0.00/438M [00:00<?, ?B/s]"
                        ],
                        "application/vnd.jupyter.widget-view+json": {
                            "version_major": 2,
                            "version_minor": 0,
                            "model_id": "21ada2bc1db344059977108c2c352215"
                        }
                    },
                    "metadata": {}
                },
                {
                    "output_type": "display_data",
                    "data": {
                        "text/plain": [
                            "tokenizer_config.json:   0%|          | 0.00/363 [00:00<?, ?B/s]"
                        ],
                        "application/vnd.jupyter.widget-view+json": {
                            "version_major": 2,
                            "version_minor": 0,
                            "model_id": "ce6e9849278a41f4b9ab5ec576651f65"
                        }
                    },
                    "metadata": {}
                },
                {
                    "output_type": "display_data",
                    "data": {
                        "text/plain": [
                            "vocab.txt: 0.00B [00:00, ?B/s]"
                        ],
                        "application/vnd.jupyter.widget-view+json": {
                            "version_major": 2,
                            "version_minor": 0,
                            "model_id": "c5b593cf000e424aa76f893a350c4bd2"
                        }
                    },
                    "metadata": {}
                },
                {
                    "output_type": "display_data",
                    "data": {
                        "text/plain": [
                            "tokenizer.json: 0.00B [00:00, ?B/s]"
                        ],
                        "application/vnd.jupyter.widget-view+json": {
                            "version_major": 2,
                            "version_minor": 0,
                            "model_id": "21d161b598144b14b601d8ade88f31c4"
                        }
                    },
                    "metadata": {}
                },
                {
                    "output_type": "display_data",
                    "data": {
                        "text/plain": [
                            "special_tokens_map.json:   0%|          | 0.00/239 [00:00<?, ?B/s]"
                        ],
                        "application/vnd.jupyter.widget-view+json": {
                            "version_major": 2,
                            "version_minor": 0,
                            "model_id": "d2eb27e7c1764f28a73a53004a255b34"
                        }
                    },
                    "metadata": {}
                },
                {
                    "output_type": "display_data",
                    "data": {
                        "text/plain": [
                            "config.json:   0%|          | 0.00/190 [00:00<?, ?B/s]"
                        ],
                        "application/vnd.jupyter.widget-view+json": {
                            "version_major": 2,
                            "version_minor": 0,
                            "model_id": "720f3c7030394b54ac053a0374b39652"
                        }
                    },
                    "metadata": {}
                }
            ]
        },
        {
            "cell_type": "markdown",
            "source": [
                "### Query embeddings"
            ],
            "metadata": {
                "id": "NBGpiRQDKDYk"
            },
            "id": "NBGpiRQDKDYk"
        },
        {
            "cell_type": "code",
            "source": [
                "query = \"How are you?\"\n",
                "\n",
                "query_result = huggingface_embedding.embed_query(query)\n",
                "\n",
                "query_result[:5]"
            ],
            "metadata": {
                "colab": {
                    "base_uri": "https://localhost:8080/"
                },
                "id": "GP0Si56VJt0i",
                "outputId": "89c020c5-1410-4f7c-f87e-c054406ee23d"
            },
            "id": "GP0Si56VJt0i",
            "execution_count": 23,
            "outputs": [
                {
                    "output_type": "execute_result",
                    "data": {
                        "text/plain": [
                            "[0.02710616961121559,\n",
                            " 0.01133184228092432,\n",
                            " -0.0019523961236700416,\n",
                            " -0.036951325833797455,\n",
                            " 0.01776495948433876]"
                        ]
                    },
                    "metadata": {},
                    "execution_count": 23
                }
            ]
        },
        {
            "cell_type": "markdown",
            "source": [
                "### Document embeddings\n"
            ],
            "metadata": {
                "id": "hK7Z6uvuKJoa"
            },
            "id": "hK7Z6uvuKJoa"
        },
        {
            "cell_type": "code",
            "source": [
                "doc_result = huggingface_embedding.embed_documents(chunks)\n",
                "doc_result[0][:5]"
            ],
            "metadata": {
                "id": "IF9BoWnDKHKh",
                "outputId": "432855e3-46a3-4a7d-864b-00edb989bb84",
                "colab": {
                    "base_uri": "https://localhost:8080/"
                }
            },
            "id": "IF9BoWnDKHKh",
            "execution_count": 24,
            "outputs": [
                {
                    "output_type": "execute_result",
                    "data": {
                        "text/plain": [
                            "[0.040284302085638046,\n",
                            " 0.030196329578757286,\n",
                            " -0.00639386149123311,\n",
                            " 0.06266564875841141,\n",
                            " -0.007770895957946777]"
                        ]
                    },
                    "metadata": {},
                    "execution_count": 24
                }
            ]
        },
        {
            "cell_type": "code",
            "source": [
                "len(doc_result[0])"
            ],
            "metadata": {
                "id": "hoGXdN-gKKyx",
                "outputId": "22116cc2-9463-41c9-d5ee-ef04f4fffb67",
                "colab": {
                    "base_uri": "https://localhost:8080/"
                }
            },
            "id": "hoGXdN-gKKyx",
            "execution_count": 25,
            "outputs": [
                {
                    "output_type": "execute_result",
                    "data": {
                        "text/plain": [
                            "768"
                        ]
                    },
                    "metadata": {},
                    "execution_count": 25
                }
            ]
        },
        {
            "cell_type": "markdown",
            "source": [
                "# Exercises\n",
                "\n",
                "### Exercise 1 - Using another watsonx embedding model"
            ],
            "metadata": {
                "id": "Mir7KpGbKScP"
            },
            "id": "Mir7KpGbKScP"
        },
        {
            "cell_type": "code",
            "source": [
                "from ibm_watsonx_ai.metanames import EmbedTextParamsMetaNames\n",
                "from langchain_ibm import WatsonxEmbeddings\n",
                "\n",
                "embed_params = {\n",
                "    EmbedTextParamsMetaNames.TRUNCATE_INPUT_TOKENS: 3,\n",
                "    EmbedTextParamsMetaNames.RETURN_OPTIONS: {\"input_text\": True},\n",
                "}\n",
                "\n",
                "watsonx_embedding = WatsonxEmbeddings(\n",
                "    model_id=\"ibm/slate-30m-english-rtrvr\",\n",
                "    url=userdata.get(\"WATSONX_URL\"),\n",
                "    project_id=userdata.get(\"WATSONX_PROJECT_ID\"),\n",
                "    params=embed_params,\n",
                "    apikey=userdata.get('IBM_CLOUD_API_KEY')\n",
                ")\n",
                "\n",
                "doc_result = watsonx_embedding.embed_documents(chunks)\n",
                "\n",
                "doc_result[0][:5]"
            ],
            "metadata": {
                "id": "esBKuFFUKMOv",
                "outputId": "4753b033-aa7d-4539-9d17-f582516a6b82",
                "colab": {
                    "base_uri": "https://localhost:8080/"
                }
            },
            "id": "esBKuFFUKMOv",
            "execution_count": 26,
            "outputs": [
                {
                    "output_type": "execute_result",
                    "data": {
                        "text/plain": [
                            "[0.020980379, 0.0008661887, 0.018803626, 0.028992167, -0.0032073553]"
                        ]
                    },
                    "metadata": {},
                    "execution_count": 26
                }
            ]
        },
        {
            "cell_type": "code",
            "source": [
                "! pip freeze > requirements.txt"
            ],
            "metadata": {
                "id": "m55XXjuxKh4X"
            },
            "id": "m55XXjuxKh4X",
            "execution_count": 27,
            "outputs": []
        }
    ],
    "metadata": {
        "language_info": {
            "name": "python"
        },
        "colab": {
            "provenance": [],
            "include_colab_link": true
        },
        "kernelspec": {
            "name": "python3",
            "display_name": "Python 3"
        }
    },
    "nbformat": 4,
    "nbformat_minor": 5
}