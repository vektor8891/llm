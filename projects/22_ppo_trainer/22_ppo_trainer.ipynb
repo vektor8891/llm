{
 "cells": [
  {
   "cell_type": "code",
   "execution_count": null,
   "id": "1475432c",
   "metadata": {},
   "outputs": [],
   "source": [
    "print(9)"
   ]
  }
 ],
 "metadata": {
  "language_info": {
   "name": "python"
  }
 },
 "nbformat": 4,
 "nbformat_minor": 5
}
