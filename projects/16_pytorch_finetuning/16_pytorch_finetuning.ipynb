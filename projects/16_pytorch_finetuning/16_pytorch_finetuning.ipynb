{
  "cells": [
    {
      "cell_type": "markdown",
      "metadata": {
        "id": "view-in-github",
        "colab_type": "text"
      },
      "source": [
        "<a href=\"https://colab.research.google.com/github/vektor8891/llm/blob/main/projects/16_pytorch_finetuning/16_pytorch_finetuning.ipynb\" target=\"_parent\"><img src=\"https://colab.research.google.com/assets/colab-badge.svg\" alt=\"Open In Colab\"/></a>"
      ]
    },
    {
      "cell_type": "code",
      "source": [
        "# !pip install torchtext==0.17.2\n",
        "# !pip install portalocker==2.8.2\n",
        "# !pip install torchdata==0.7.1"
      ],
      "metadata": {
        "id": "dVKm3JG_8N3u"
      },
      "id": "dVKm3JG_8N3u",
      "execution_count": 1,
      "outputs": []
    },
    {
      "cell_type": "markdown",
      "source": [
        "# Pre-Training and Fine-Tuning with PyTorch"
      ],
      "metadata": {
        "id": "yNHG6kwb5-Zw"
      },
      "id": "yNHG6kwb5-Zw"
    },
    {
      "cell_type": "markdown",
      "source": [
        "### Define helper functions"
      ],
      "metadata": {
        "id": "ixMJtj776Pxn"
      },
      "id": "ixMJtj776Pxn"
    },
    {
      "cell_type": "code",
      "execution_count": 2,
      "id": "66258c58",
      "metadata": {
        "id": "66258c58"
      },
      "outputs": [],
      "source": [
        "import matplotlib.pyplot as plt\n",
        "\n",
        "def plot(COST,ACC):\n",
        "\n",
        "    fig, ax1 = plt.subplots()\n",
        "    color = 'tab:red'\n",
        "    ax1.plot(COST, color=color)\n",
        "    ax1.set_xlabel('epoch', color=color)\n",
        "    ax1.set_ylabel('total loss', color=color)\n",
        "    ax1.tick_params(axis='y', color=color)\n",
        "\n",
        "    ax2 = ax1.twinx()\n",
        "    color = 'tab:blue'\n",
        "    ax2.set_ylabel('accuracy', color=color)  # you already handled the x-label with ax1\n",
        "    ax2.plot(ACC, color=color)\n",
        "    ax2.tick_params(axis='y', color=color)\n",
        "    fig.tight_layout()  # otherwise the right y-label is slightly clipped\n",
        "\n",
        "    plt.show()\n",
        "\n",
        "def save_list_to_file(lst, filename):\n",
        "    \"\"\"\n",
        "    Save a list to a file using pickle serialization.\n",
        "\n",
        "    Parameters:\n",
        "        lst (list): The list to be saved.\n",
        "        filename (str): The name of the file to save the list to.\n",
        "\n",
        "    Returns:\n",
        "        None\n",
        "    \"\"\"\n",
        "    with open(filename, 'wb') as file:\n",
        "        pickle.dump(lst, file)\n",
        "\n",
        "def load_list_from_file(filename):\n",
        "    \"\"\"\n",
        "    Load a list from a file using pickle deserialization.\n",
        "\n",
        "    Parameters:\n",
        "        filename (str): The name of the file to load the list from.\n",
        "\n",
        "    Returns:\n",
        "        list: The loaded list.\n",
        "    \"\"\"\n",
        "    with open(filename, 'rb') as file:\n",
        "        loaded_list = pickle.load(file)\n",
        "    return loaded_list"
      ]
    },
    {
      "cell_type": "markdown",
      "source": [
        "## Positional encodings"
      ],
      "metadata": {
        "id": "t_7q-wiO6awJ"
      },
      "id": "t_7q-wiO6awJ"
    },
    {
      "cell_type": "code",
      "execution_count": 3,
      "id": "c565f9d7",
      "metadata": {
        "colab": {
          "base_uri": "https://localhost:8080/"
        },
        "id": "c565f9d7",
        "outputId": "f2dd2a79-008d-41b0-8a94-667678fdd536"
      },
      "outputs": [
        {
          "output_type": "stream",
          "name": "stderr",
          "text": [
            "\n",
            "A module that was compiled using NumPy 1.x cannot be run in\n",
            "NumPy 2.0.2 as it may crash. To support both 1.x and 2.x\n",
            "versions of NumPy, modules must be compiled with NumPy 2.0.\n",
            "Some module may need to rebuild instead e.g. with 'pybind11>=2.12'.\n",
            "\n",
            "If you are a user of the module, the easiest solution will be to\n",
            "downgrade to 'numpy<2' or try to upgrade the affected module.\n",
            "We expect that some modules will need time to support NumPy 2.\n",
            "\n",
            "Traceback (most recent call last):  File \"<frozen runpy>\", line 198, in _run_module_as_main\n",
            "  File \"<frozen runpy>\", line 88, in _run_code\n",
            "  File \"/usr/local/lib/python3.11/dist-packages/colab_kernel_launcher.py\", line 37, in <module>\n",
            "    ColabKernelApp.launch_instance()\n",
            "  File \"/usr/local/lib/python3.11/dist-packages/traitlets/config/application.py\", line 992, in launch_instance\n",
            "    app.start()\n",
            "  File \"/usr/local/lib/python3.11/dist-packages/ipykernel/kernelapp.py\", line 712, in start\n",
            "    self.io_loop.start()\n",
            "  File \"/usr/local/lib/python3.11/dist-packages/tornado/platform/asyncio.py\", line 205, in start\n",
            "    self.asyncio_loop.run_forever()\n",
            "  File \"/usr/lib/python3.11/asyncio/base_events.py\", line 608, in run_forever\n",
            "    self._run_once()\n",
            "  File \"/usr/lib/python3.11/asyncio/base_events.py\", line 1936, in _run_once\n",
            "    handle._run()\n",
            "  File \"/usr/lib/python3.11/asyncio/events.py\", line 84, in _run\n",
            "    self._context.run(self._callback, *self._args)\n",
            "  File \"/usr/local/lib/python3.11/dist-packages/ipykernel/kernelbase.py\", line 510, in dispatch_queue\n",
            "    await self.process_one()\n",
            "  File \"/usr/local/lib/python3.11/dist-packages/ipykernel/kernelbase.py\", line 499, in process_one\n",
            "    await dispatch(*args)\n",
            "  File \"/usr/local/lib/python3.11/dist-packages/ipykernel/kernelbase.py\", line 406, in dispatch_shell\n",
            "    await result\n",
            "  File \"/usr/local/lib/python3.11/dist-packages/ipykernel/kernelbase.py\", line 730, in execute_request\n",
            "    reply_content = await reply_content\n",
            "  File \"/usr/local/lib/python3.11/dist-packages/ipykernel/ipkernel.py\", line 383, in do_execute\n",
            "    res = shell.run_cell(\n",
            "  File \"/usr/local/lib/python3.11/dist-packages/ipykernel/zmqshell.py\", line 528, in run_cell\n",
            "    return super().run_cell(*args, **kwargs)\n",
            "  File \"/usr/local/lib/python3.11/dist-packages/IPython/core/interactiveshell.py\", line 2975, in run_cell\n",
            "    result = self._run_cell(\n",
            "  File \"/usr/local/lib/python3.11/dist-packages/IPython/core/interactiveshell.py\", line 3030, in _run_cell\n",
            "    return runner(coro)\n",
            "  File \"/usr/local/lib/python3.11/dist-packages/IPython/core/async_helpers.py\", line 78, in _pseudo_sync_runner\n",
            "    coro.send(None)\n",
            "  File \"/usr/local/lib/python3.11/dist-packages/IPython/core/interactiveshell.py\", line 3257, in run_cell_async\n",
            "    has_raised = await self.run_ast_nodes(code_ast.body, cell_name,\n",
            "  File \"/usr/local/lib/python3.11/dist-packages/IPython/core/interactiveshell.py\", line 3473, in run_ast_nodes\n",
            "    if (await self.run_code(code, result,  async_=asy)):\n",
            "  File \"/usr/local/lib/python3.11/dist-packages/IPython/core/interactiveshell.py\", line 3553, in run_code\n",
            "    exec(code_obj, self.user_global_ns, self.user_ns)\n",
            "  File \"<ipython-input-3-ca5b5cf6a3d8>\", line 1, in <cell line: 0>\n",
            "    from torch import nn\n",
            "  File \"/usr/local/lib/python3.11/dist-packages/torch/__init__.py\", line 1477, in <module>\n",
            "    from .functional import *  # noqa: F403\n",
            "  File \"/usr/local/lib/python3.11/dist-packages/torch/functional.py\", line 9, in <module>\n",
            "    import torch.nn.functional as F\n",
            "  File \"/usr/local/lib/python3.11/dist-packages/torch/nn/__init__.py\", line 1, in <module>\n",
            "    from .modules import *  # noqa: F403\n",
            "  File \"/usr/local/lib/python3.11/dist-packages/torch/nn/modules/__init__.py\", line 35, in <module>\n",
            "    from .transformer import TransformerEncoder, TransformerDecoder, \\\n",
            "  File \"/usr/local/lib/python3.11/dist-packages/torch/nn/modules/transformer.py\", line 20, in <module>\n",
            "    device: torch.device = torch.device(torch._C._get_default_device()),  # torch.device('cpu'),\n",
            "/usr/local/lib/python3.11/dist-packages/torch/nn/modules/transformer.py:20: UserWarning: Failed to initialize NumPy: _ARRAY_API not found (Triggered internally at ../torch/csrc/utils/tensor_numpy.cpp:84.)\n",
            "  device: torch.device = torch.device(torch._C._get_default_device()),  # torch.device('cpu'),\n"
          ]
        }
      ],
      "source": [
        "from torch import nn\n",
        "import torch\n",
        "import math\n",
        "\n",
        "class PositionalEncoding(nn.Module):\n",
        "    \"\"\"\n",
        "    https://pytorch.org/tutorials/beginner/transformer_tutorial.html\n",
        "    \"\"\"\n",
        "\n",
        "    def __init__(self, d_model, vocab_size=5000, dropout=0.1):\n",
        "        super().__init__()\n",
        "        self.dropout = nn.Dropout(p=dropout)\n",
        "\n",
        "        pe = torch.zeros(vocab_size, d_model)\n",
        "        position = torch.arange(0, vocab_size, dtype=torch.float).unsqueeze(1)\n",
        "        div_term = torch.exp(\n",
        "            torch.arange(0, d_model, 2).float()\n",
        "            * (-math.log(10000.0) / d_model)\n",
        "        )\n",
        "        pe[:, 0::2] = torch.sin(position * div_term)\n",
        "        pe[:, 1::2] = torch.cos(position * div_term)\n",
        "        pe = pe.unsqueeze(0)\n",
        "        self.register_buffer(\"pe\", pe)\n",
        "\n",
        "    def forward(self, x):\n",
        "        x = x + self.pe[:, : x.size(1), :]\n",
        "        return self.dropout(x)"
      ]
    },
    {
      "cell_type": "markdown",
      "source": [
        "## IMDB dataset"
      ],
      "metadata": {
        "id": "TbYrrK7M6hws"
      },
      "id": "TbYrrK7M6hws"
    },
    {
      "cell_type": "code",
      "source": [
        "from urllib.request import urlopen\n",
        "import io\n",
        "import tarfile\n",
        "import tempfile\n",
        "\n",
        "urlopened = urlopen('https://cf-courses-data.s3.us.cloud-object-storage.appdomain.cloud/35t-FeC-2uN1ozOwPs7wFg.gz')\n",
        "tar = tarfile.open(fileobj=io.BytesIO(urlopened.read()))\n",
        "tempdir = tempfile.TemporaryDirectory()\n",
        "tar.extractall(tempdir.name)\n",
        "tar.close()"
      ],
      "metadata": {
        "id": "mBfpQkIP6jOE"
      },
      "id": "mBfpQkIP6jOE",
      "execution_count": 4,
      "outputs": []
    },
    {
      "cell_type": "code",
      "source": [
        "from torch.utils.data import Dataset\n",
        "import os\n",
        "\n",
        "class IMDBDataset(Dataset):\n",
        "    def __init__(self, root_dir, train=True):\n",
        "        \"\"\"\n",
        "        root_dir: The base directory of the IMDB dataset.\n",
        "        train: A boolean flag indicating whether to use training or test data.\n",
        "        \"\"\"\n",
        "        self.root_dir = os.path.join(root_dir, \"train\" if train else \"test\")\n",
        "        self.neg_files = [os.path.join(self.root_dir, \"neg\", f) for f in os.listdir(os.path.join(self.root_dir, \"neg\")) if f.endswith('.txt')]\n",
        "        self.pos_files = [os.path.join(self.root_dir, \"pos\", f) for f in os.listdir(os.path.join(self.root_dir, \"pos\")) if f.endswith('.txt')]\n",
        "        self.files = self.neg_files + self.pos_files\n",
        "        self.labels = [0] * len(self.neg_files) + [1] * len(self.pos_files)\n",
        "        self.pos_inx=len(self.pos_files)\n",
        "\n",
        "    def __len__(self):\n",
        "        return len(self.files)\n",
        "\n",
        "    def __getitem__(self, idx):\n",
        "        file_path = self.files[idx]\n",
        "        label = self.labels[idx]\n",
        "        with open(file_path, 'r', encoding='utf-8') as file:\n",
        "            content = file.read()\n",
        "        return label, content"
      ],
      "metadata": {
        "id": "K4Qaw_p16nMm"
      },
      "id": "K4Qaw_p16nMm",
      "execution_count": 5,
      "outputs": []
    },
    {
      "cell_type": "code",
      "source": [
        "root_dir = tempdir.name + '/' + 'imdb_dataset'\n",
        "train_iter = IMDBDataset(root_dir=root_dir, train=True)  # For training data\n",
        "test_iter = IMDBDataset(root_dir=root_dir, train=False)  # For test data\n",
        "\n",
        "start=train_iter.pos_inx\n",
        "for i in range(-10,10):\n",
        "    print(train_iter[start+i])"
      ],
      "metadata": {
        "colab": {
          "base_uri": "https://localhost:8080/"
        },
        "id": "3Zjk4ICk6p37",
        "outputId": "1a975a6d-6941-4205-c4ec-71150bcbe03c"
      },
      "id": "3Zjk4ICk6p37",
      "execution_count": 6,
      "outputs": [
        {
          "output_type": "stream",
          "name": "stdout",
          "text": [
            "(0, 'Director Warren Beatty\\'s intention to turn Chester Gould\\'s famous comic strip into a live-action cartoon (with Beatty himself cast in the lead as the square-jawed detective) had sweet overtures of innocent nostalgia--quite unusual and intriguing coming from Warren Beatty. Unfortunately, the picture is requisite ham, fun for awhile but eventually tiring. Dick Tracy attempts to bring down mobster Big Boy Caprice, aided by loving Tess Trueheart but tripped up by evil Breathless Mahoney. For the first half-hour or so, the Oscar-winning art direction and set design are wonderful to absorb but, as the plot creaks along predictably (with no real sting in the writing), things begin to congeal. Al Pacino got a surprise Supporting Oscar nomination as bad boy Caprice, and Madonna (who is mostly used as a decorative prop) gets to sing Stephen Sondheim\\'s \"Sooner or Later (I Always Get My Man)\", which copped the award for Best Original Song. Lots of heart, thanks to Beatty--who was dedicated to his vision--but the picture is too cool and calculated. It lacks heat. *1/2 from ****')\n",
            "(0, 'I will stat of with the plot Alice, having survived the previous instalment of the Nightmare series, finds the deadly dreams of Freddy Krueger starting once again. This time, the taunting murderer is striking through the sleeping mind of Alice\\'s unborn child. His intention is to be \"born again\" into the real world. The only one who can stop Freddy is his dead mother, but can Alice free her spirit in time to save her own son? This movie did start of really well as we see Alice dreaming of being Amanda Kruger who get stuck in room and get raped by 100 Manics then she being rushed to hospital but then she not longer the pregnant lady but then she Amanda giving birth to Freddy again.<br /><br />Alice and Dan are the only two people to return from the 4th movie and then have gotten some new Friends its\\' no long before Freddy start to kill again, I did like the first dead it okay, not as good as the other deaths or dreams.<br /><br />Freddy himself didn\\'t seem to be Scary in this movie at all, the nightmare were just boring really they were not scary or creepy at all.<br /><br />Acting in movies was okay for a 5th movie in the series but overall I think this movie was really Dull. (Still not worst movie of the series, Freddy Dead is the worst)<br /><br />4/10')\n",
            "(0, '**SPOILERS**<br /><br />This is one BAD movie. Seriously. Acting in absolutely horrible, the FX are dreadfull and the plot is down right awful. But hey, its so bad that its fun watching! The script is SO bad that its enjoyable! You just have to cringe and laugh at lines such as \"I guess thats what you call CROCTEASING.\" as the women flash their breasts at the crocodile. I mean COME ON thats funny cause its so bad! It has such horrible jokes that they\\'re funny! But after a while it just becomes to much as the movie turns into crap. I really started to fall asleep. Trust me though, the plastic croc foot stamping on the leaves and the constant swishes of a crock tail well keep you laughing for a long time. Though I have to say it had one cool part when the croc ripped that dude in half and he just hung there for a while figuring out what to do. Heh heh mindless movie, which HAS to be nominated for the MST3K line!!')\n",
            "(0, 'The first half of this movie is a pure delight. Novel. Funny. Wonderful performances. A close knit brother and sister living in Manhattan fall for the same woman! Adult. Bright. Witty. What more could you ask. As a romantic comedy this starts refreshing. It heads into unexplored territory. And then it falls apart.<br /><br />It goes from being a universal adult comedy to a coming-of-age coming-out-of-the-closet story that has been done many times before. What a disappointment. As a people film it begins with such promise. Why does it need to turn into such a pedestrian \"I am who I am\" film. The freeze-frame ending shot of Heather Graham\\'s jumping in the air to celebrate \"her happiness at finding herself\" underlines the banality of the last part of the film.<br /><br />It could have been different. It could have been magical. It ended up being the same old same old.')\n",
            "(0, 'Kalifornia is disturbing. I believe there is no reason for this story to be told. It is neither entertaining nor does it have social value. Technically, the movie is very well make, the performances are top rate and first class. The story develops in an intriguing way that holds interest. But at the end this movie sickens and is abhorrent to decency. I recommend Kalifornia to no one.')\n",
            "(0, 'This movie is phoniness incarnate, a straight 11 / 10 on the phoniness scale. The fakeness of the accents as well as the tightness of the cardigan spandex pants are just staggering. Yanks, although the real Scotland may be just as colourful, if you ever go there don\\'t expect to be given much of a the chance to \"dance out\" controversies with the locals. Also, don\\'t attempt to sway local opinion through the otherwise fine art of tapdancing.<br /><br />There are a couple of infectious singing-and-dancing scenes, but the plot is far too cheesy and linear, and the dialogue is often too weak. I also doubt whether anyone would want to be stuck in a timewarped 18.th-century Scottish village in the boondocks rather than gay New York City. Maybe it wasn\\'t such a big sacrifice for that priest to have left Brigadoon, maybe he was just trying to get the hell out of that dump.<br /><br />Watch it for the fine alternative-reality view of what a Christopher Streed Day-parade in Scotland would look like on LSD. Other than that I\\'d only recommend it to Hollywood muscial completists.')\n",
            "(0, 'I watched 3/4 of this movie and wondered why it got such horrible reviews here. It was fairly easy to watch (at 3am). It had good casting - Kevin Dillon\\'s role of the sociopath serial killer was very believable - he was both charasmatic and chilling. The rest of the main characters weren\\'t so bad either.<br /><br />This is your typical stalker/suspense movie. A married couple cannot conceive so they go to a fertility clinic for help. A sociopathic \"genetic material\" donor fixates on the recipients and, in typical stalker form, intrudes into their lives.<br /><br />As I said, most of the movie was fairly good.. we see \"Conan\" grow more and more obsessed in raising his baby and creating the perfect family with the mother. Of course things don\\'t work out for him the way he planned. Not a bad plot line.<br /><br />But, the last 15 minutes were just horrible. I am pretty tolerant with movies (especially at 3am!).. but, I was just amazed at how bad the ending was written. I actually scoffed outloud!<br /><br />All in all, not the worst movie I\\'ve seen, but I wouldn\\'t be able to sit through it again (unless I skipped the ending). The only redeaming quality here was Kevin Dillon\\'s role - - one of the best serial killers ever.<br /><br />Try looking around at the other channels before watching this.. But, if nothing better is on, I\\'d give it a try.. =)')\n",
            "(0, \"Having seen three other versions of the same film, I am afraid for me this is by far the weakest, primarily due to Scott's rather dull and leaden performance. His emotions throughout are so bland it makes it difficult to engage in the film. Alistair Sim portrayed the role infinitely better. When Scrooge was at his meanest, you don't get the sense Scott is saying the dialogue with much conviction and when he undergoes his metamorphosis he is similarly unconvincing. I cannot think of any actors in this film who match those from the Alistair Sim version. Even the musical version (and frankly the Muppets) take on this are better executed. Very disappointing.\")\n",
            "(0, 'I guess you have to give some points for the sheer courage of writing a musical around a history lesson but how about some decent music? <br /><br />Is the cartoonish acting of Howard DeSilva meant to pique the interest of otherwise jaded children? <br /><br />Is William Daniels\\' campy contemporary (for the time) acting style meant to appeal to a 1960s/70s demographic? <br /><br />Do we need all the \"in-jokes\" about NY & NJ? (I can hear the blue-haired Broadway audience guffawing on cue.) <br /><br />Sorry, I find the whole piece dated, boring & the acting far too strident for the screen')\n",
            "(0, 'Well. Astronaut Steve West sits in a plastic space capsule, commenting that \"you haven\\'t lived until you\\'ve seen the sun through the rings of Saturn\", all the while the obvious mid-day sunlight is streaming through the window, when suddenly he has a nose bleed. Next, West is back home in some secret hospital, a melting gelatinous mass who goes berserk and causes a chunky nurse to run through a fake glass door. Apparently, West \"gets stronger as he melts\", which makes about as much sense as anything in this hopelessly purile, adle-brained moovie. Then this dopey \"Army Brass\", who looks kind of like Coleman Francis (director of many bad moovies) tries to cover the info up, but goo man runs around killing everyone he sees because he is melting. He attacks a bickering old couple because he is melting. He makes one terrible actress scream and moan helplessly for about 10 minutes because he is melting. He is melting because he is melting. The fx by the slumming Rick Baker are supposed to be the star here, but they just look hokey. The film is poorly shot and everything looks so dark and muddled that it\\'s very difficult making out what\\'s what - not that it would help any. MooCow says who cut the cheese with this one?? :=8P ps - \"Didn\\'t you get any crackers?\"')\n",
            "(1, 'Let us begin by saying that this film\\'s English title \"The Power of Kangwon Province\" is an absolute misnomer.It is because in Hong Sang Soo\\'s film,there are no actual shots of wars,troubles and conflicts.So the idea of establishing power of a province is neither suitable nor valid in the context of this film.If we were to judge this film by its Korean language title,\"Kangwon-do ui him\" is going to appear as a cryptic statement about emotional turmoils of its young protagonists whose minds are not at rest.Hong Sang Soo has also directed a highly prolific visual document about erratic choices made by people in their lives.The people in question are a couple of young girls who are constantly in the process of displaying their moods,whims and fancies. If making a film out of nothingness can be claimed as a film maker\\'s meritorious virtue then Hong Sang Soo has to be saluted as a courageous film maker whose films speak volumes about ubiquitous nothingness of human relationships,sentiments and lives.Whether one likes it or not,this is the only fair conclusion that be deduced from this particular film.')\n",
            "(1, 'I watched this last night with low expectations. The reasons being, I don\\'t usually like \"made for TV\" movies and rarely have I liked \"cast reunion\" movies. But, the critic in the Los Angeles Times seemed to like this, so I gave it a chance. I\\'m glad I did. It was pretty good. Adam West and Burt Ward reunite as themselves. But, in a way, they were acting as their \"Batman and Robin\" selves. They were being campy and not taking themselves, or this movie too seriously. The movie starts out with them searching for the \"George Barris\" designed Batmobile, that someone stole before it was to be auctioned off for an orphan\\'s home. While, they are searching for the car, they are also reminiscing about the series that they did together. This is told in flashback. It was well done. The actors that they got, for the younger Burt Ward and Adam West were dead on. And, for a TV movie, it got down to the nitty-gritty about their real behavior on and off the screen. I give this one a 9/10, I liked it that much.')\n",
            "(1, \"Given the nature and origin of the 11 filmakers it is not surprising that this film is at best neutral in its stance towards America. Probably the most 'anti' segment comes from Ken Loach who is definitely not towing the British New Labour party line. Although those events of a year ago are shocking and painful to most Americans and most spectators who saw them unfold live through CNN etc. the majority of the writers and directors choose to show that tragedy is not an American monopoly. Should anybody be surprised that these 3000 deaths are given the same weight elsewhere as the West gives to thousands Tutsi, Tamil, Bosnian, Chilean, Kurdish (need we go on) victims. If this was a 'wake-up' call for the States then it is equally tragic that in the subsequent 12 months the Israel/Palestine impasse is further from a solution while George Bush Jnr. would rather wreak revenge than make the world a safer place. I think many of the contributors wonder where the idealism of the Founding Fathers went, and why America orignally built as a bastion of freedom, justice and tolerance now sees its self-interest paramount while the Third World wonders where the next drink, meal or bullet is coming from.\")\n",
            "(1, \"About a year ago I finally gave up on American television. I thought of giving up television completely until a friend who had lived in England showed me some programs that included The Office, Extras, Blackadder, and The League of Gentlemen. It was then that I decided to switch to British television. Among all the shows listed above, The League of Gentlemen is easily the most dark and twisted of them all, providing guilty laughs and material not found in any other comedy I've seen yet. Characters included are the most unhappily married couple, a butcher that puts ingredients in the meat that go unsaid (probably for the best), a deranged couple that look over a local shop that only caters to local people, and the worst veterinarian ever. This program is one of the best I've seen.\")\n",
            "(1, 'If you want your vision of Chaplin limited to a lovable tramp and you get your belly laughs from pathos, watch something else. If, however, you love slapstick comedy as performed by one of the best, do watch this one.<br /><br />The image is of the tramp who really cannot get the girl. He spots another couple kissing on a park bench, and he has a blast ruining their fun.<br /><br />This is one of Chaplin\\'s \"park comedies,\" filmed in Mack Sennett\\'s park, with pickpockets and cops and couples. These shorts work, as the format allows Chaplin to shine as he weaves through predicaments.<br /><br />I checked the box, as this could be considered a spoiler, though it\\'s not if you\\'ve seen these films. Everyone ends up in the pond except Chaplin. He gets the girl, who in this case was played by Minta Durfee, a.k.a. Mrs. Roscoe \"Fatty\" Arbuckle.')\n",
            "(1, \"Initially, I would have thought that Secret Sunshine had something critical to say of religion (and here being Christianity), and wondered if it would be something of a rant against the ills of blind faith, or the manipulative power of those who are supposedly holier than thou. Surprisingly, it was none of the sort and was largely non-judgemental, putting in place events as a matter of fact, and allowing the audience to draw their own judgement and conclusion.<br /><br />And I can't help but to chuckle at the role of Song Kang-ho, a man who's taken a liking for widower Shin-ae (Jeong Do-yeon), and starts going to church when she does. The reasons for church going are many I suppose, either to find inner peace, to seek help, being afraid of eternal damnation in the fires of Hell, to reaffirm faith, or even things like wanting to get married in a church, or to skirt chase (I kid you not). But to each his own reasons for turning up in church every Sunday and participating in prayer groups for fellowship, what is indeed dangerous, is when the underlying ulterior motives, do not get satisfied, and that's when frustration sets in. Or when you discover how hypocritical man can be, portraying one face inside the house of God, and displaying yet another outside.<br /><br />Shin-ae and her son Jun moves to the town of Miryang, which is the birthplace of her deceased husband. Wanting to start life anew, she opens up a piano shop to give lessons, though in discovering her new found freedom and in a moment's lack of good judgement, has another tragedy befall her. And that takes one hour to get to. Secret Sunshine really took its time to get to this point, where things then begin to get slightly more interesting with Shin-ae now taking to embracing religion to deal with and accept her current state, reveling in the comfort that religion, and fellow believers, can offer.<br /><br />What began as crying out for sympathy turns into acceptance and belief that religion offers that silver bullet to solve the ills of all mankind, and sometimes you wonder if it's because of your personal myopic view of what the almighty is doing for you, that you begin to adopt a somewhat selfish opinion that everything's good going your way, and in Shin-ae's case, her magnanimous attitude in wanting to forgive others who had trespassed against her, forgetting something very fundamental that it the feeling can cut both ways too.<br /><br />The last act is probably the most fun of the lot as it says plenty, where most of us can identify with - why me, and why not someone else, as we rage against our faith and start questioning, unfortunately, with no hard and fast answers available. It is then either we fall by the wayside, or continue with destructive deeds so rebelliously. But somehow the plug gets carefully pulled in Secret Sunshine so as not to offend, and what could have been an ugly character mouthpiece, got muted.<br /><br />If you bite into the hype this movie is generating, then perhaps you'll realize only Jeong Do- yeon's excellent portrayal is worth mentioning, as she totally owns her role as the widow Shin-ae who is probably the most unluckiest person on Earth in having to deal with that many tragedies over a short period of time, and if you look at it carefully, most of which are of her own doing. Watching her transformation, is worth the ticket price, and despite having my personal favourite Korean actor Song Kang-ho in the movie, this is something he just breezed right through.\")\n",
            "(1, \"Well, after long anticipation after seeing a few clips on Bravo's The 100 Scariest Movie Moments I had long awaited to see this film. The plot was simple, beautiful model Alison Parker (Cristina Raines) moves into an apartment building that's a gateway to hell. The Sentinel is a down right creepy film, even if it's a bit slow. It's a mix of The Omen and Rosemary's Baby. The acting is fine, and there are some truly disturbing bits such as the awkward orgy scene with the dead father and the chubby woman in the middle of the orgy eating cake and laughing The ending is a weird mix of deformed people and cannibals. It's a very odd, campy but in the end, I truly believe a great film! One of my favorites from the 70's, even if it's nothing greatly original. It's wacky and extremely creepy! Probably one of my all time favorites. 9/10\")\n",
            "(1, \"It was on at 7:30am, too close to school to see very often. The animation & computer graphics were spectacular for the time. The idea of cowboys & ordinary people casually throwing around space vehicles & robots was amazing. Maybe it inspired Treasure Planet.<br /><br />Unfortunately, it's really boring in the DVD format. The shows are all basically identical. When viewing non-sequential episodes on a DVD, you're stoned by disk #3. By today's standards, the animation is spotty. We don't notice the computer graphics anymore and focus on how corny the characters are instead.<br /><br />The bright spots are the heroine characters. They were a lot more believable, took themselves more seriously than modern heroines, and weren't corny. They actually saved men.\")\n",
            "(1, \"I gave this movie such a high mark because it was really cute, really funny, all while being unpretentious. I went to see this film when it was playing in the Philly area, and it was the centerpiece of a great night out with friends. The film is well written and well acted, and though it does feel a bit like a sitcom rather then a movie, that doesn't take away from the film. You just don't find comedies like this anymore, where you don't have to shock people to be funny. The film centers around a Ukranian housekeeper that finds herself working for a young couple in need of help. Though at first she helps, soon she adds more craziness to their lives then the couple bargained for. Things get further and further out of control until....you'll have to see! The banter had me laughing, even after leaving the theater. This film just put me in a good mood. I can't wait until it is released on DVD because I want this movie in my collection.\")\n",
            "(1, \"CONTAINS SPOILER With the possible exception of John Wayne, no other actor sat taller in the saddle in Westerns than James Stewart, and this movie proves it. This superb tale of revenge centered around a Winchester rifle,has only one weak spot I can think of: the casting of Will Geer as a very unEarp-like Wyatt Earp. The casting of the villains was good:Stephen McNally, as surly Dutch Henry,Dan Duryea as Waco Johnny Dean, and John McIntire(versatile at playing both good guys and bad guys) as a slick gun runner. The showdown between Stewart and McNally on the cliffs is great! I'd stack this Western against the whole crop of Westerns made today. They wouldn't stand a chance!\")\n"
          ]
        }
      ]
    },
    {
      "cell_type": "code",
      "source": [
        "imdb_label = {0: \" negative review\", 1: \"positive review\"}"
      ],
      "metadata": {
        "id": "Hmp1qQM66rPP"
      },
      "id": "Hmp1qQM66rPP",
      "execution_count": 7,
      "outputs": []
    },
    {
      "cell_type": "code",
      "source": [
        "num_class = len(set([label for (label, text) in train_iter]))\n",
        "num_class"
      ],
      "metadata": {
        "colab": {
          "base_uri": "https://localhost:8080/"
        },
        "id": "XChoQ1dv6s0r",
        "outputId": "d3d5d4b7-fe87-4fd8-9e73-100bcdc976e4"
      },
      "id": "XChoQ1dv6s0r",
      "execution_count": 8,
      "outputs": [
        {
          "output_type": "execute_result",
          "data": {
            "text/plain": [
              "2"
            ]
          },
          "metadata": {},
          "execution_count": 8
        }
      ]
    },
    {
      "cell_type": "code",
      "source": [
        "from torchtext.data.utils import get_tokenizer\n",
        "\n",
        "tokenizer = get_tokenizer(\"basic_english\")\n",
        "def yield_tokens(data_iter):\n",
        "    \"\"\"Yield tokens for each data sample.\"\"\"\n",
        "    for _, text in data_iter:\n",
        "        yield tokenizer(text)"
      ],
      "metadata": {
        "id": "awz5cmSt6ukj"
      },
      "id": "awz5cmSt6ukj",
      "execution_count": 9,
      "outputs": []
    },
    {
      "cell_type": "code",
      "source": [
        "from torchtext.vocab import GloVe, Vectors\n",
        "\n",
        "# Note that GloVe embeddings are typically downloaded using:\n",
        "# glove_embedding = GloVe(name=\"6B\", dim=100)\n",
        "# However, the GloVe server is frequently down. The code below offers a workaround\n",
        "\n",
        "\n",
        "class GloVe_override(Vectors):\n",
        "    url = {\n",
        "        \"6B\": \"https://cf-courses-data.s3.us.cloud-object-storage.appdomain.cloud/tQdezXocAJMBMPfUJx_iUg/glove-6B.zip\",\n",
        "    }\n",
        "\n",
        "    def __init__(self, name=\"6B\", dim=100, **kwargs) -> None:\n",
        "        url = self.url[name]\n",
        "        name = \"glove.{}.{}d.txt\".format(name, str(dim))\n",
        "        #name = \"glove.{}/glove.{}.{}d.txt\".format(name, name, str(dim))\n",
        "        super(GloVe_override, self).__init__(name, url=url, **kwargs)\n",
        "\n",
        "class GloVe_override2(Vectors):\n",
        "    url = {\n",
        "        \"6B\": \"https://cf-courses-data.s3.us.cloud-object-storage.appdomain.cloud/tQdezXocAJMBMPfUJx_iUg/glove-6B.zip\",\n",
        "    }\n",
        "\n",
        "    def __init__(self, name=\"6B\", dim=100, **kwargs) -> None:\n",
        "        url = self.url[name]\n",
        "        #name = \"glove.{}.{}d.txt\".format(name, str(dim))\n",
        "        name = \"glove.{}/glove.{}.{}d.txt\".format(name, name, str(dim))\n",
        "        super(GloVe_override2, self).__init__(name, url=url, **kwargs)\n",
        "\n",
        "try:\n",
        "    glove_embedding = GloVe_override(name=\"6B\", dim=100)\n",
        "except:\n",
        "    try:\n",
        "        glove_embedding = GloVe_override2(name=\"6B\", dim=100)\n",
        "    except:\n",
        "        glove_embedding = GloVe(name=\"6B\", dim=100)"
      ],
      "metadata": {
        "id": "aSMSrMX66wNM"
      },
      "id": "aSMSrMX66wNM",
      "execution_count": 10,
      "outputs": []
    },
    {
      "cell_type": "code",
      "source": [
        "from torchtext.vocab import vocab\n",
        "# Build vocab from glove_vectors\n",
        "vocab = vocab(glove_embedding .stoi, 0,specials=('<unk>', '<pad>'))\n",
        "vocab.set_default_index(vocab[\"<unk>\"])\n",
        "vocab_size=len(vocab)\n",
        "vocab_size"
      ],
      "metadata": {
        "colab": {
          "base_uri": "https://localhost:8080/"
        },
        "id": "XN19igLz_ZQQ",
        "outputId": "5468df0e-5330-4574-9a8a-664f39ceda30"
      },
      "id": "XN19igLz_ZQQ",
      "execution_count": 11,
      "outputs": [
        {
          "output_type": "execute_result",
          "data": {
            "text/plain": [
              "400002"
            ]
          },
          "metadata": {},
          "execution_count": 11
        }
      ]
    },
    {
      "cell_type": "markdown",
      "source": [
        "### Dataset splits"
      ],
      "metadata": {
        "id": "b2k1ZEIr9nVN"
      },
      "id": "b2k1ZEIr9nVN"
    },
    {
      "cell_type": "code",
      "source": [
        "from torchtext.data.functional import to_map_style_dataset\n",
        "from torch.utils.data.dataset import random_split\n",
        "\n",
        "# Convert the training and testing iterators to map-style datasets.\n",
        "train_dataset = to_map_style_dataset(train_iter)\n",
        "test_dataset = to_map_style_dataset(test_iter)\n",
        "\n",
        "# Determine the number of samples to be used for training and validation (5% for validation).\n",
        "num_train = int(len(train_dataset) * 0.95)\n",
        "\n",
        "# Randomly split the training dataset into training and validation datasets using `random_split`.\n",
        "# The training dataset will contain 95% of the samples, and the validation dataset will contain the remaining 5%.\n",
        "split_train_, split_valid_ = random_split(train_dataset, [num_train, len(train_dataset) - num_train])"
      ],
      "metadata": {
        "id": "PBTMW8229Jup"
      },
      "id": "PBTMW8229Jup",
      "execution_count": 12,
      "outputs": []
    },
    {
      "cell_type": "code",
      "source": [
        "num_train = int(len(train_dataset) * 0.05)\n",
        "split_train_, _ = random_split(split_train_, [num_train, len(split_train_) - num_train])"
      ],
      "metadata": {
        "id": "Go8lmz3n9pj4"
      },
      "id": "Go8lmz3n9pj4",
      "execution_count": 13,
      "outputs": []
    },
    {
      "cell_type": "code",
      "source": [
        "device = torch.device(\"cuda\" if torch.cuda.is_available() else \"cpu\")\n",
        "device"
      ],
      "metadata": {
        "colab": {
          "base_uri": "https://localhost:8080/"
        },
        "id": "TY5s666d9xbP",
        "outputId": "0018d7c3-d90b-4a7d-ef0e-93fed0fa80bc"
      },
      "id": "TY5s666d9xbP",
      "execution_count": 14,
      "outputs": [
        {
          "output_type": "execute_result",
          "data": {
            "text/plain": [
              "device(type='cpu')"
            ]
          },
          "metadata": {},
          "execution_count": 14
        }
      ]
    },
    {
      "cell_type": "markdown",
      "source": [
        "### Data loader"
      ],
      "metadata": {
        "id": "84irKDVM9y_t"
      },
      "id": "84irKDVM9y_t"
    },
    {
      "cell_type": "code",
      "source": [
        "def text_pipeline(x):\n",
        "    return vocab(tokenizer(x))"
      ],
      "metadata": {
        "id": "LsIhHo9b9xkX"
      },
      "id": "LsIhHo9b9xkX",
      "execution_count": 15,
      "outputs": []
    },
    {
      "cell_type": "code",
      "source": [
        "from torch.nn.utils.rnn import pad_sequence\n",
        "\n",
        "def collate_batch(batch):\n",
        "    label_list, text_list = [], []\n",
        "    for _label, _text in batch:\n",
        "\n",
        "        label_list.append(_label)\n",
        "        text_list.append(torch.tensor(text_pipeline(_text), dtype=torch.int64))\n",
        "\n",
        "    label_list = torch.tensor(label_list, dtype=torch.int64)\n",
        "    text_list = pad_sequence(text_list, batch_first=True)\n",
        "\n",
        "    return label_list.to(device), text_list.to(device)"
      ],
      "metadata": {
        "id": "VG_amTop90sc"
      },
      "id": "VG_amTop90sc",
      "execution_count": 16,
      "outputs": []
    },
    {
      "cell_type": "code",
      "source": [
        "from torch.utils.data import DataLoader\n",
        "\n",
        "BATCH_SIZE = 32\n",
        "\n",
        "train_dataloader = DataLoader(\n",
        "    split_train_, batch_size=BATCH_SIZE, shuffle=True, collate_fn=collate_batch\n",
        ")\n",
        "valid_dataloader = DataLoader(\n",
        "    split_valid_, batch_size=BATCH_SIZE, shuffle=True, collate_fn=collate_batch\n",
        ")\n",
        "test_dataloader = DataLoader(\n",
        "    test_dataset, batch_size=BATCH_SIZE, shuffle=True, collate_fn=collate_batch\n",
        ")"
      ],
      "metadata": {
        "id": "Y68Rapj_97xB"
      },
      "id": "Y68Rapj_97xB",
      "execution_count": 17,
      "outputs": []
    },
    {
      "cell_type": "code",
      "source": [
        "label,seqence=next(iter(valid_dataloader))\n",
        "label,seqence"
      ],
      "metadata": {
        "colab": {
          "base_uri": "https://localhost:8080/"
        },
        "id": "UKNOdapM995Y",
        "outputId": "6abeb36f-d8d0-47fa-ec94-e53662bf8bd6"
      },
      "id": "UKNOdapM995Y",
      "execution_count": 18,
      "outputs": [
        {
          "output_type": "execute_result",
          "data": {
            "text/plain": [
              "(tensor([1, 1, 0, 0, 1, 0, 0, 1, 0, 1, 0, 0, 1, 0, 0, 1, 1, 1, 1, 1, 0, 0, 1, 1,\n",
              "         0, 1, 1, 1, 1, 1, 0, 1]),\n",
              " tensor([[    71,   1545,     86,  ...,      0,      0,      0],\n",
              "         [   199,   1546,     88,  ...,      0,      0,      0],\n",
              "         [    22,    590,     16,  ...,      0,      0,      0],\n",
              "         ...,\n",
              "         [    43, 163653,     59,  ...,      0,      0,      0],\n",
              "         [    24,     60,      2,  ...,      0,      0,      0],\n",
              "         [    39,     16,     50,  ...,      0,      0,      0]]))"
            ]
          },
          "metadata": {},
          "execution_count": 18
        }
      ]
    },
    {
      "cell_type": "markdown",
      "source": [
        "## Neural Network"
      ],
      "metadata": {
        "id": "Z4O2Omn6_l_A"
      },
      "id": "Z4O2Omn6_l_A"
    },
    {
      "cell_type": "code",
      "source": [
        "class Net(nn.Module):\n",
        "    \"\"\"\n",
        "    Text classifier based on a pytorch TransformerEncoder.\n",
        "    \"\"\"\n",
        "    def __init__(\n",
        "\n",
        "        self,\n",
        "        num_class,vocab_size,\n",
        "        freeze=True,\n",
        "        nhead=2,\n",
        "        dim_feedforward=128,\n",
        "        num_layers=2,\n",
        "        dropout=0.1,\n",
        "        activation=\"relu\",\n",
        "        classifier_dropout=0.1):\n",
        "\n",
        "        super().__init__()\n",
        "\n",
        "        #self.emb = embedding=nn.Embedding.from_pretrained(glove_embedding.vectors,freeze=freeze)\n",
        "        self.emb = nn.Embedding.from_pretrained(glove_embedding.vectors,freeze=freeze)\n",
        "        embedding_dim = self.emb.embedding_dim\n",
        "\n",
        "\n",
        "        self.pos_encoder = PositionalEncoding(\n",
        "            d_model=embedding_dim,\n",
        "            dropout=dropout,\n",
        "            vocab_size=vocab_size,\n",
        "        )\n",
        "\n",
        "        encoder_layer = nn.TransformerEncoderLayer(\n",
        "            d_model=embedding_dim,\n",
        "            nhead=nhead,\n",
        "            dim_feedforward=dim_feedforward,\n",
        "            dropout=dropout,\n",
        "        )\n",
        "        self.transformer_encoder = nn.TransformerEncoder(\n",
        "            encoder_layer,\n",
        "            num_layers=num_layers,\n",
        "        )\n",
        "        self.classifier = nn.Linear(embedding_dim, num_class)\n",
        "        self.d_model = embedding_dim\n",
        "\n",
        "    def forward(self, x):\n",
        "        x = self.emb(x) * math.sqrt(self.d_model)\n",
        "        x = self.pos_encoder(x)\n",
        "        x = self.transformer_encoder(x)\n",
        "        x = x.mean(dim=1)\n",
        "        x = self.classifier(x)\n",
        "\n",
        "        return x"
      ],
      "metadata": {
        "id": "HgkZnn_8-D1g"
      },
      "id": "HgkZnn_8-D1g",
      "execution_count": 19,
      "outputs": []
    },
    {
      "cell_type": "code",
      "source": [
        "device = torch.device(\"cuda\" if torch.cuda.is_available() else \"cpu\")\n",
        "model = Net(num_class=2,vocab_size=vocab_size).to(device)\n",
        "model"
      ],
      "metadata": {
        "colab": {
          "base_uri": "https://localhost:8080/"
        },
        "id": "6B_JD5y_-rDG",
        "outputId": "ac71044d-5b61-4b4b-ac23-c4aa520c3ebf"
      },
      "id": "6B_JD5y_-rDG",
      "execution_count": 20,
      "outputs": [
        {
          "output_type": "stream",
          "name": "stderr",
          "text": [
            "/usr/local/lib/python3.11/dist-packages/torch/nn/modules/transformer.py:286: UserWarning: enable_nested_tensor is True, but self.use_nested_tensor is False because encoder_layer.self_attn.batch_first was not True(use batch_first for better inference performance)\n",
            "  warnings.warn(f\"enable_nested_tensor is True, but self.use_nested_tensor is False because {why_not_sparsity_fast_path}\")\n"
          ]
        },
        {
          "output_type": "execute_result",
          "data": {
            "text/plain": [
              "Net(\n",
              "  (emb): Embedding(400000, 100)\n",
              "  (pos_encoder): PositionalEncoding(\n",
              "    (dropout): Dropout(p=0.1, inplace=False)\n",
              "  )\n",
              "  (transformer_encoder): TransformerEncoder(\n",
              "    (layers): ModuleList(\n",
              "      (0-1): 2 x TransformerEncoderLayer(\n",
              "        (self_attn): MultiheadAttention(\n",
              "          (out_proj): NonDynamicallyQuantizableLinear(in_features=100, out_features=100, bias=True)\n",
              "        )\n",
              "        (linear1): Linear(in_features=100, out_features=128, bias=True)\n",
              "        (dropout): Dropout(p=0.1, inplace=False)\n",
              "        (linear2): Linear(in_features=128, out_features=100, bias=True)\n",
              "        (norm1): LayerNorm((100,), eps=1e-05, elementwise_affine=True)\n",
              "        (norm2): LayerNorm((100,), eps=1e-05, elementwise_affine=True)\n",
              "        (dropout1): Dropout(p=0.1, inplace=False)\n",
              "        (dropout2): Dropout(p=0.1, inplace=False)\n",
              "      )\n",
              "    )\n",
              "  )\n",
              "  (classifier): Linear(in_features=100, out_features=2, bias=True)\n",
              ")"
            ]
          },
          "metadata": {},
          "execution_count": 20
        }
      ]
    },
    {
      "cell_type": "code",
      "source": [
        "def predict(text, text_pipeline, model):\n",
        "    with torch.no_grad():\n",
        "        text = torch.unsqueeze(torch.tensor(text_pipeline(text)),0).to(device)\n",
        "        model.to(device)\n",
        "        output = model(text)\n",
        "        return imdb_label[output.argmax(1).item()]"
      ],
      "metadata": {
        "id": "qpLB9MF6_qw5"
      },
      "id": "qpLB9MF6_qw5",
      "execution_count": 21,
      "outputs": []
    },
    {
      "cell_type": "code",
      "source": [
        "predict(\"I like sports and stuff\", text_pipeline, model)"
      ],
      "metadata": {
        "colab": {
          "base_uri": "https://localhost:8080/",
          "height": 35
        },
        "id": "SJNfjMgn_xjH",
        "outputId": "40bd5345-e4fd-4004-ff66-b66ddea5689e"
      },
      "id": "SJNfjMgn_xjH",
      "execution_count": 22,
      "outputs": [
        {
          "output_type": "execute_result",
          "data": {
            "text/plain": [
              "'positive review'"
            ],
            "application/vnd.google.colaboratory.intrinsic+json": {
              "type": "string"
            }
          },
          "metadata": {},
          "execution_count": 22
        }
      ]
    },
    {
      "cell_type": "code",
      "source": [
        "from tqdm import tqdm\n",
        "\n",
        "def evaluate(dataloader, model_eval):\n",
        "    model_eval.eval()\n",
        "    total_acc, total_count= 0, 0\n",
        "\n",
        "    with torch.no_grad():\n",
        "        for label, text in tqdm(dataloader):\n",
        "            label, text = label.to(device), text.to(device)\n",
        "            output = model_eval(text)\n",
        "            predicted = torch.max(output.data, 1)[1]\n",
        "            total_acc += (predicted == label).sum().item()\n",
        "            total_count += label.size(0)\n",
        "    return total_acc / total_count"
      ],
      "metadata": {
        "id": "114xYCok_y2Y"
      },
      "id": "114xYCok_y2Y",
      "execution_count": 23,
      "outputs": []
    },
    {
      "cell_type": "code",
      "source": [
        "def evaluate_no_tqdm(dataloader, model_eval):\n",
        "    model_eval.eval()\n",
        "    total_acc, total_count= 0, 0\n",
        "\n",
        "    with torch.no_grad():\n",
        "        for label, text in dataloader:\n",
        "            label, text = label.to(device), text.to(device)\n",
        "            output = model_eval(text)\n",
        "            predicted = torch.max(output.data, 1)[1]\n",
        "            total_acc += (predicted == label).sum().item()\n",
        "            total_count += label.size(0)\n",
        "    return total_acc / total_count"
      ],
      "metadata": {
        "id": "k22juSnP_1Xu"
      },
      "id": "k22juSnP_1Xu",
      "execution_count": 24,
      "outputs": []
    },
    {
      "cell_type": "code",
      "source": [
        "evaluate(test_dataloader, model)"
      ],
      "metadata": {
        "colab": {
          "base_uri": "https://localhost:8080/"
        },
        "id": "daqRdwFd_3Fh",
        "outputId": "a4003388-238b-4da3-f8e8-01e38e37b387"
      },
      "id": "daqRdwFd_3Fh",
      "execution_count": 25,
      "outputs": [
        {
          "output_type": "stream",
          "name": "stderr",
          "text": [
            "100%|██████████| 782/782 [02:44<00:00,  4.74it/s]\n"
          ]
        },
        {
          "output_type": "execute_result",
          "data": {
            "text/plain": [
              "0.5"
            ]
          },
          "metadata": {},
          "execution_count": 25
        }
      ]
    },
    {
      "cell_type": "markdown",
      "source": [
        "# Training"
      ],
      "metadata": {
        "id": "XUwB8gvHBJDn"
      },
      "id": "XUwB8gvHBJDn"
    },
    {
      "cell_type": "code",
      "source": [
        "import time\n",
        "\n",
        "def train_model(model, optimizer, criterion, train_dataloader, valid_dataloader,  epochs=1000, save_dir=\"\", file_name=None):\n",
        "    cum_loss_list = []\n",
        "    acc_epoch = []\n",
        "    acc_old = 0\n",
        "    model_path = os.path.join(save_dir, file_name)\n",
        "    acc_dir = os.path.join(save_dir, os.path.splitext(file_name)[0] + \"_acc\")\n",
        "    loss_dir = os.path.join(save_dir, os.path.splitext(file_name)[0] + \"_loss\")\n",
        "    time_start = time.time()\n",
        "\n",
        "    for epoch in tqdm(range(1, epochs + 1)):\n",
        "        model.train()\n",
        "        #print(model)\n",
        "        #for parm in model.parameters():\n",
        "        #    print(parm.requires_grad)\n",
        "\n",
        "        cum_loss = 0\n",
        "        for idx, (label, text) in enumerate(train_dataloader):\n",
        "            optimizer.zero_grad()\n",
        "            label, text = label.to(device), text.to(device)\n",
        "\n",
        "            predicted_label = model(text)\n",
        "            loss = criterion(predicted_label, label)\n",
        "            loss.backward()\n",
        "            #print(loss)\n",
        "            torch.nn.utils.clip_grad_norm_(model.parameters(), 0.1)\n",
        "            optimizer.step()\n",
        "            cum_loss += loss.item()\n",
        "        print(f\"Epoch {epoch}/{epochs} - Loss: {cum_loss}\")\n",
        "\n",
        "        cum_loss_list.append(cum_loss)\n",
        "        accu_val = evaluate_no_tqdm(valid_dataloader,model)\n",
        "        acc_epoch.append(accu_val)\n",
        "\n",
        "        if model_path and accu_val > acc_old:\n",
        "            print(accu_val)\n",
        "            acc_old = accu_val\n",
        "            if save_dir is not None:\n",
        "                pass\n",
        "                #print(\"save model epoch\",epoch)\n",
        "                #torch.save(model.state_dict(), model_path)\n",
        "                #save_list_to_file(lst=acc_epoch, filename=acc_dir)\n",
        "                #save_list_to_file(lst=cum_loss_list, filename=loss_dir)\n",
        "\n",
        "    time_end = time.time()\n",
        "    print(f\"Training time: {time_end - time_start}\")"
      ],
      "metadata": {
        "id": "6RwOjzi__4p5"
      },
      "id": "6RwOjzi__4p5",
      "execution_count": 26,
      "outputs": []
    },
    {
      "cell_type": "markdown",
      "source": [
        "### Train IMDB"
      ],
      "metadata": {
        "id": "TPhgbQp6BatV"
      },
      "id": "TPhgbQp6BatV"
    },
    {
      "cell_type": "code",
      "source": [
        "LR=1\n",
        "criterion = torch.nn.CrossEntropyLoss()\n",
        "optimizer = torch.optim.SGD(model.parameters(), lr=LR)\n",
        "scheduler = torch.optim.lr_scheduler.StepLR(optimizer, 1.0, gamma=0.1)\n",
        "save_dir = \"\"\n",
        "file_name = \"model_IMDB dataset small2.pth\"\n",
        "train_model(model=model,\n",
        "            optimizer=optimizer,\n",
        "            criterion=criterion,\n",
        "            train_dataloader=train_dataloader,\n",
        "            valid_dataloader=valid_dataloader,\n",
        "            epochs=2,\n",
        "            save_dir=save_dir,\n",
        "            file_name=file_name\n",
        "           )"
      ],
      "metadata": {
        "colab": {
          "base_uri": "https://localhost:8080/"
        },
        "id": "PTLIgkM9BYrC",
        "outputId": "1b267111-6919-4f03-a3ea-e43a298fe6fa"
      },
      "id": "PTLIgkM9BYrC",
      "execution_count": 27,
      "outputs": [
        {
          "output_type": "stream",
          "name": "stderr",
          "text": [
            "\r  0%|          | 0/2 [00:00<?, ?it/s]"
          ]
        },
        {
          "output_type": "stream",
          "name": "stdout",
          "text": [
            "Epoch 1/2 - Loss: 30.749973714351654\n"
          ]
        },
        {
          "output_type": "stream",
          "name": "stderr",
          "text": [
            "\r 50%|█████     | 1/2 [00:34<00:34, 34.47s/it]"
          ]
        },
        {
          "output_type": "stream",
          "name": "stdout",
          "text": [
            "0.516\n",
            "Epoch 2/2 - Loss: 30.27325212955475\n"
          ]
        },
        {
          "output_type": "stream",
          "name": "stderr",
          "text": [
            "100%|██████████| 2/2 [01:07<00:00, 33.80s/it]"
          ]
        },
        {
          "output_type": "stream",
          "name": "stdout",
          "text": [
            "Training time: 67.59460306167603\n"
          ]
        },
        {
          "output_type": "stream",
          "name": "stderr",
          "text": [
            "\n"
          ]
        }
      ]
    },
    {
      "cell_type": "code",
      "source": [
        "import pickle\n",
        "\n",
        "acc_urlopened = urlopen('https://cf-courses-data.s3.us.cloud-object-storage.appdomain.cloud/sybqacL5p1qeEO8d4xRZNg/model-IMDB%20dataset%20small2-acc')\n",
        "loss_urlopened = urlopen('https://cf-courses-data.s3.us.cloud-object-storage.appdomain.cloud/eOt6woGoaOB565T0RLH5WA/model-IMDB%20dataset%20small2-loss')\n",
        "acc_epoch = pickle.load(acc_urlopened)\n",
        "cum_loss_list = pickle.load(loss_urlopened)\n",
        "plot(cum_loss_list,acc_epoch)"
      ],
      "metadata": {
        "colab": {
          "base_uri": "https://localhost:8080/",
          "height": 486
        },
        "id": "0cUa0Fa-BdCt",
        "outputId": "c1430a6c-1bae-4bee-835f-08e0cc4a6b61"
      },
      "id": "0cUa0Fa-BdCt",
      "execution_count": 28,
      "outputs": [
        {
          "output_type": "display_data",
          "data": {
            "text/plain": [
              "<Figure size 640x480 with 2 Axes>"
            ],
            "image/png": "[encoded data removed]"
          },
          "metadata": {}
        }
      ]
    },
    {
      "cell_type": "code",
      "source": [
        "urlopened = urlopen('https://cf-courses-data.s3.us.cloud-object-storage.appdomain.cloud/q66IH6a7lglkZ4haM6hB1w/model-IMDB%20dataset%20small2.pth')\n",
        "model_ = Net(vocab_size=vocab_size, num_class=2).to(device)\n",
        "model_.load_state_dict(torch.load(io.BytesIO(urlopened.read()), map_location=device))\n",
        "evaluate(test_dataloader, model_)"
      ],
      "metadata": {
        "colab": {
          "base_uri": "https://localhost:8080/"
        },
        "id": "LzkX90GFB8mZ",
        "outputId": "f8d479e4-bdab-476d-c017-935cfab32a0b"
      },
      "id": "LzkX90GFB8mZ",
      "execution_count": 29,
      "outputs": [
        {
          "output_type": "stream",
          "name": "stderr",
          "text": [
            "/usr/local/lib/python3.11/dist-packages/torch/nn/modules/transformer.py:286: UserWarning: enable_nested_tensor is True, but self.use_nested_tensor is False because encoder_layer.self_attn.batch_first was not True(use batch_first for better inference performance)\n",
            "  warnings.warn(f\"enable_nested_tensor is True, but self.use_nested_tensor is False because {why_not_sparsity_fast_path}\")\n",
            "100%|██████████| 782/782 [02:40<00:00,  4.88it/s]\n"
          ]
        },
        {
          "output_type": "execute_result",
          "data": {
            "text/plain": [
              "0.82872"
            ]
          },
          "metadata": {},
          "execution_count": 29
        }
      ]
    },
    {
      "cell_type": "markdown",
      "source": [
        "### Fine-tune a model pretrained on the AG News dataset"
      ],
      "metadata": {
        "id": "urylt1sACGLr"
      },
      "id": "urylt1sACGLr"
    },
    {
      "cell_type": "code",
      "source": [
        "from torchtext.datasets import AG_NEWS\n",
        "\n",
        "train_iter_ag_news = AG_NEWS(split=\"train\")\n",
        "\n",
        "num_class_ag_news = len(set([label for (label, text) in train_iter_ag_news ]))\n",
        "num_class_ag_news\n",
        "\n",
        "# Split the dataset into training and testing iterators.\n",
        "train_iter_ag_news, test_iter_ag_news = AG_NEWS()\n",
        "\n",
        "# Convert the training and testing iterators to map-style datasets.\n",
        "train_dataset_ag_news = to_map_style_dataset(train_iter_ag_news)\n",
        "test_dataset_ag_news = to_map_style_dataset(test_iter_ag_news)\n",
        "\n",
        "# Determine the number of samples to be used for training and validation (5% for validation).\n",
        "num_train_ag_news = int(len(train_dataset_ag_news) * 0.95)\n",
        "\n",
        "# Randomly split the training dataset into training and validation datasets using `random_split`.\n",
        "# The training dataset will contain 95% of the samples, and the validation dataset will contain the remaining 5%.\n",
        "split_train_ag_news_, split_valid_ag_news_ = random_split(train_dataset_ag_news, [num_train_ag_news, len(train_dataset_ag_news) - num_train_ag_news])\n",
        "\n",
        "# Make the training set smaller to allow it to run fast as an example.\n",
        "# IF YOU WANT TO TRAIN ON THE AG_NEWS DATASET, COMMENT OUT THE 2 LINEs BELOW.\n",
        "# HOWEVER, NOTE THAT TRAINING WILL TAKE A LONG TIME\n",
        "num_train_ag_news = int(len(train_dataset_ag_news) * 0.05)\n",
        "split_train_ag_news_, _ = random_split(split_train_ag_news_, [num_train_ag_news, len(split_train_ag_news_) - num_train_ag_news])\n",
        "\n",
        "\n",
        "device = torch.device(\"cuda\" if torch.cuda.is_available() else \"cpu\")\n",
        "device\n",
        "\n",
        "def label_pipeline(x):\n",
        "   return int(x) - 1\n",
        "\n",
        "from torch.nn.utils.rnn import pad_sequence\n",
        "\n",
        "def collate_batch_ag_news(batch):\n",
        "    label_list, text_list = [], []\n",
        "    for _label, _text in batch:\n",
        "        label_list.append(label_pipeline(_label))\n",
        "        text_list.append(torch.tensor(text_pipeline(_text), dtype=torch.int64))\n",
        "\n",
        "\n",
        "    label_list = torch.tensor(label_list, dtype=torch.int64)\n",
        "    text_list = pad_sequence(text_list, batch_first=True)\n",
        "\n",
        "\n",
        "    return label_list.to(device), text_list.to(device)\n",
        "\n",
        "BATCH_SIZE = 32\n",
        "\n",
        "train_dataloader_ag_news = DataLoader(\n",
        "    split_train_ag_news_, batch_size=BATCH_SIZE, shuffle=True, collate_fn=collate_batch_ag_news\n",
        ")\n",
        "valid_dataloader_ag_news = DataLoader(\n",
        "    split_valid_ag_news_, batch_size=BATCH_SIZE, shuffle=True, collate_fn=collate_batch_ag_news\n",
        ")\n",
        "test_dataloader_ag_news = DataLoader(\n",
        "    test_dataset_ag_news, batch_size=BATCH_SIZE, shuffle=True, collate_fn=collate_batch_ag_news\n",
        ")\n",
        "\n",
        "\n",
        "model_ag_news = Net(num_class=4,vocab_size=vocab_size).to(device)\n",
        "model_ag_news.to(device)\n",
        "\n",
        "\n",
        "LR=1\n",
        "criterion = torch.nn.CrossEntropyLoss()\n",
        "optimizer = torch.optim.SGD(model_ag_news.parameters(), lr=LR)\n",
        "scheduler = torch.optim.lr_scheduler.StepLR(optimizer, 1.0, gamma=0.1)\n",
        "save_dir = \"\"\n",
        "file_name = \"model_AG News small1.pth\"\n",
        "train_model(model=model_ag_news, optimizer=optimizer, criterion=criterion, train_dataloader=train_dataloader_ag_news, valid_dataloader=valid_dataloader_ag_news,  epochs=2, save_dir=save_dir, file_name=file_name)\n"
      ],
      "metadata": {
        "colab": {
          "base_uri": "https://localhost:8080/"
        },
        "id": "vbXDcMYoCDYN",
        "outputId": "0335528e-0800-4adb-863f-534871f882ad"
      },
      "id": "vbXDcMYoCDYN",
      "execution_count": 30,
      "outputs": [
        {
          "output_type": "stream",
          "name": "stderr",
          "text": [
            "\r  0%|          | 0/2 [00:00<?, ?it/s]"
          ]
        },
        {
          "output_type": "stream",
          "name": "stdout",
          "text": [
            "Epoch 1/2 - Loss: 267.8594821691513\n"
          ]
        },
        {
          "output_type": "stream",
          "name": "stderr",
          "text": [
            "\r 50%|█████     | 1/2 [00:12<00:12, 12.70s/it]"
          ]
        },
        {
          "output_type": "stream",
          "name": "stdout",
          "text": [
            "0.31716666666666665\n",
            "Epoch 2/2 - Loss: 260.34696328639984\n"
          ]
        },
        {
          "output_type": "stream",
          "name": "stderr",
          "text": [
            "100%|██████████| 2/2 [00:25<00:00, 12.65s/it]"
          ]
        },
        {
          "output_type": "stream",
          "name": "stdout",
          "text": [
            "0.32966666666666666\n",
            "Training time: 25.31007146835327\n"
          ]
        },
        {
          "output_type": "stream",
          "name": "stderr",
          "text": [
            "\n"
          ]
        }
      ]
    },
    {
      "cell_type": "code",
      "source": [
        "acc_urlopened = urlopen('https://cf-courses-data.s3.us.cloud-object-storage.appdomain.cloud/bQk8mJu3Uct3I4JEsEtRnw/model-AG%20News%20small1-acc')\n",
        "loss_urlopened = urlopen('https://cf-courses-data.s3.us.cloud-object-storage.appdomain.cloud/KNQkqJWWwY_XfbFBRFhZNA/model-AG%20News%20small1-loss')\n",
        "acc_epoch = pickle.load(acc_urlopened)\n",
        "cum_loss_list = pickle.load(loss_urlopened)\n",
        "plot(cum_loss_list,acc_epoch)"
      ],
      "metadata": {
        "colab": {
          "base_uri": "https://localhost:8080/",
          "height": 487
        },
        "id": "3jq4MHCFD4DE",
        "outputId": "8fc5a221-cce7-4f7a-f951-37e6b91cdb43"
      },
      "id": "3jq4MHCFD4DE",
      "execution_count": 31,
      "outputs": [
        {
          "output_type": "display_data",
          "data": {
            "text/plain": [
              "<Figure size 640x480 with 2 Axes>"
            ],
            "image/png": "[encoded data removed]"
          },
          "metadata": {}
        }
      ]
    },
    {
      "cell_type": "code",
      "source": [
        "urlopened = urlopen('https://cf-courses-data.s3.us.cloud-object-storage.appdomain.cloud/9c3Dh2O_jsYBShBuchUNlg/model-AG%20News%20small1.pth')\n",
        "model_ag_news_ = Net(vocab_size=vocab_size, num_class=4).to(device)\n",
        "model_ag_news_.load_state_dict(torch.load(io.BytesIO(urlopened.read()), map_location=device))\n",
        "evaluate(test_dataloader_ag_news, model_ag_news_)"
      ],
      "metadata": {
        "colab": {
          "base_uri": "https://localhost:8080/"
        },
        "id": "V4jI-TLrGaSQ",
        "outputId": "e6740fd6-7b9a-4280-ef81-93eb7817dc8b"
      },
      "id": "V4jI-TLrGaSQ",
      "execution_count": 32,
      "outputs": [
        {
          "output_type": "stream",
          "name": "stderr",
          "text": [
            "100%|██████████| 238/238 [00:04<00:00, 55.52it/s]\n"
          ]
        },
        {
          "output_type": "execute_result",
          "data": {
            "text/plain": [
              "0.9053947368421053"
            ]
          },
          "metadata": {},
          "execution_count": 32
        }
      ]
    },
    {
      "cell_type": "code",
      "source": [
        "urlopened = urlopen('https://cf-courses-data.s3.us.cloud-object-storage.appdomain.cloud/9c3Dh2O_jsYBShBuchUNlg/model-AG%20News%20small1.pth')\n",
        "model_fine1 = Net(vocab_size=vocab_size, num_class=4).to(device)\n",
        "model_fine1.load_state_dict(torch.load(io.BytesIO(urlopened.read()), map_location=device))"
      ],
      "metadata": {
        "colab": {
          "base_uri": "https://localhost:8080/"
        },
        "id": "Q5L93agyGcJi",
        "outputId": "b80c8e67-0628-48b9-c652-c544473d8917"
      },
      "id": "Q5L93agyGcJi",
      "execution_count": 33,
      "outputs": [
        {
          "output_type": "execute_result",
          "data": {
            "text/plain": [
              "<All keys matched successfully>"
            ]
          },
          "metadata": {},
          "execution_count": 33
        }
      ]
    },
    {
      "cell_type": "code",
      "source": [
        "model_fine1.classifier\n",
        "in_features = model_fine1.classifier.in_features\n",
        "print(\"Original final layer:\", model_fine1.classifier)\n",
        "print(\"Input dimention  final layer:\", in_features)"
      ],
      "metadata": {
        "colab": {
          "base_uri": "https://localhost:8080/"
        },
        "id": "4DK7luChGgjP",
        "outputId": "09311ee1-eb0d-4670-f3ea-2b9f807250a6"
      },
      "id": "4DK7luChGgjP",
      "execution_count": 34,
      "outputs": [
        {
          "output_type": "stream",
          "name": "stdout",
          "text": [
            "Original final layer: Linear(in_features=100, out_features=4, bias=True)\n",
            "Input dimention  final layer: 100\n"
          ]
        }
      ]
    },
    {
      "cell_type": "code",
      "source": [
        "model_fine1.classifier = nn.Linear(in_features, 2)\n",
        "model_fine1.to(device)"
      ],
      "metadata": {
        "colab": {
          "base_uri": "https://localhost:8080/"
        },
        "id": "nB4-XrA3GiuZ",
        "outputId": "3be83d61-5dd4-4a94-9aae-8c6c0fcf339e"
      },
      "id": "nB4-XrA3GiuZ",
      "execution_count": 35,
      "outputs": [
        {
          "output_type": "execute_result",
          "data": {
            "text/plain": [
              "Net(\n",
              "  (emb): Embedding(400000, 100)\n",
              "  (pos_encoder): PositionalEncoding(\n",
              "    (dropout): Dropout(p=0.1, inplace=False)\n",
              "  )\n",
              "  (transformer_encoder): TransformerEncoder(\n",
              "    (layers): ModuleList(\n",
              "      (0-1): 2 x TransformerEncoderLayer(\n",
              "        (self_attn): MultiheadAttention(\n",
              "          (out_proj): NonDynamicallyQuantizableLinear(in_features=100, out_features=100, bias=True)\n",
              "        )\n",
              "        (linear1): Linear(in_features=100, out_features=128, bias=True)\n",
              "        (dropout): Dropout(p=0.1, inplace=False)\n",
              "        (linear2): Linear(in_features=128, out_features=100, bias=True)\n",
              "        (norm1): LayerNorm((100,), eps=1e-05, elementwise_affine=True)\n",
              "        (norm2): LayerNorm((100,), eps=1e-05, elementwise_affine=True)\n",
              "        (dropout1): Dropout(p=0.1, inplace=False)\n",
              "        (dropout2): Dropout(p=0.1, inplace=False)\n",
              "      )\n",
              "    )\n",
              "  )\n",
              "  (classifier): Linear(in_features=100, out_features=2, bias=True)\n",
              ")"
            ]
          },
          "metadata": {},
          "execution_count": 35
        }
      ]
    },
    {
      "cell_type": "code",
      "source": [
        "for name, param in model_fine1.named_parameters():\n",
        "    print(f\"{name} requires_grad: {param.requires_grad}\")"
      ],
      "metadata": {
        "colab": {
          "base_uri": "https://localhost:8080/"
        },
        "id": "Wymv3NWJGlA4",
        "outputId": "9469bcb7-722c-4bc9-8baf-43c1d726e5bf"
      },
      "id": "Wymv3NWJGlA4",
      "execution_count": 36,
      "outputs": [
        {
          "output_type": "stream",
          "name": "stdout",
          "text": [
            "emb.weight requires_grad: False\n",
            "transformer_encoder.layers.0.self_attn.in_proj_weight requires_grad: True\n",
            "transformer_encoder.layers.0.self_attn.in_proj_bias requires_grad: True\n",
            "transformer_encoder.layers.0.self_attn.out_proj.weight requires_grad: True\n",
            "transformer_encoder.layers.0.self_attn.out_proj.bias requires_grad: True\n",
            "transformer_encoder.layers.0.linear1.weight requires_grad: True\n",
            "transformer_encoder.layers.0.linear1.bias requires_grad: True\n",
            "transformer_encoder.layers.0.linear2.weight requires_grad: True\n",
            "transformer_encoder.layers.0.linear2.bias requires_grad: True\n",
            "transformer_encoder.layers.0.norm1.weight requires_grad: True\n",
            "transformer_encoder.layers.0.norm1.bias requires_grad: True\n",
            "transformer_encoder.layers.0.norm2.weight requires_grad: True\n",
            "transformer_encoder.layers.0.norm2.bias requires_grad: True\n",
            "transformer_encoder.layers.1.self_attn.in_proj_weight requires_grad: True\n",
            "transformer_encoder.layers.1.self_attn.in_proj_bias requires_grad: True\n",
            "transformer_encoder.layers.1.self_attn.out_proj.weight requires_grad: True\n",
            "transformer_encoder.layers.1.self_attn.out_proj.bias requires_grad: True\n",
            "transformer_encoder.layers.1.linear1.weight requires_grad: True\n",
            "transformer_encoder.layers.1.linear1.bias requires_grad: True\n",
            "transformer_encoder.layers.1.linear2.weight requires_grad: True\n",
            "transformer_encoder.layers.1.linear2.bias requires_grad: True\n",
            "transformer_encoder.layers.1.norm1.weight requires_grad: True\n",
            "transformer_encoder.layers.1.norm1.bias requires_grad: True\n",
            "transformer_encoder.layers.1.norm2.weight requires_grad: True\n",
            "transformer_encoder.layers.1.norm2.bias requires_grad: True\n",
            "classifier.weight requires_grad: True\n",
            "classifier.bias requires_grad: True\n"
          ]
        }
      ]
    },
    {
      "cell_type": "code",
      "source": [
        "LR=1\n",
        "criterion = torch.nn.CrossEntropyLoss()\n",
        "optimizer = torch.optim.SGD(model_fine1.parameters(), lr=LR)\n",
        "scheduler = torch.optim.lr_scheduler.StepLR(optimizer, 1.0, gamma=0.1)\n",
        "save_dir = \"\"\n",
        "file_name = \"model_fine1.pth\"\n",
        "train_model(model=model_fine1, optimizer=optimizer, criterion=criterion, train_dataloader=train_dataloader, valid_dataloader=valid_dataloader,  epochs=2,  save_dir=save_dir ,file_name=file_name )"
      ],
      "metadata": {
        "colab": {
          "base_uri": "https://localhost:8080/"
        },
        "id": "h8nzIinDGnPA",
        "outputId": "6eb69005-f17c-419b-ef14-5b9fca4ad586"
      },
      "id": "h8nzIinDGnPA",
      "execution_count": 37,
      "outputs": [
        {
          "output_type": "stream",
          "name": "stderr",
          "text": [
            "\r  0%|          | 0/2 [00:00<?, ?it/s]"
          ]
        },
        {
          "output_type": "stream",
          "name": "stdout",
          "text": [
            "Epoch 1/2 - Loss: 28.135495126247406\n"
          ]
        },
        {
          "output_type": "stream",
          "name": "stderr",
          "text": [
            "\r 50%|█████     | 1/2 [00:35<00:35, 35.77s/it]"
          ]
        },
        {
          "output_type": "stream",
          "name": "stdout",
          "text": [
            "0.508\n",
            "Epoch 2/2 - Loss: 28.05396717786789\n"
          ]
        },
        {
          "output_type": "stream",
          "name": "stderr",
          "text": [
            "100%|██████████| 2/2 [01:10<00:00, 35.16s/it]"
          ]
        },
        {
          "output_type": "stream",
          "name": "stdout",
          "text": [
            "0.5208\n",
            "Training time: 70.32420945167542\n"
          ]
        },
        {
          "output_type": "stream",
          "name": "stderr",
          "text": [
            "\n"
          ]
        }
      ]
    },
    {
      "cell_type": "code",
      "source": [
        "acc_urlopened = urlopen('https://cf-courses-data.s3.us.cloud-object-storage.appdomain.cloud/3LEJw8BRgJJFGqlLxaETxA/model-fine1-acc')\n",
        "loss_urlopened = urlopen('https://cf-courses-data.s3.us.cloud-object-storage.appdomain.cloud/-CT1h97vjv0TolY82Nw29g/model-fine1-loss')\n",
        "acc_epoch = pickle.load(acc_urlopened)\n",
        "cum_loss_list = pickle.load(loss_urlopened)\n",
        "plot(cum_loss_list,acc_epoch)"
      ],
      "metadata": {
        "colab": {
          "base_uri": "https://localhost:8080/",
          "height": 486
        },
        "id": "PdPVU5PuGpXZ",
        "outputId": "23cad55d-4067-445c-d266-8a998ff6e345"
      },
      "id": "PdPVU5PuGpXZ",
      "execution_count": 38,
      "outputs": [
        {
          "output_type": "display_data",
          "data": {
            "text/plain": [
              "<Figure size 640x480 with 2 Axes>"
            ],
            "image/png": "[encoded data removed]"
          },
          "metadata": {}
        }
      ]
    },
    {
      "cell_type": "code",
      "source": [
        "urlopened = urlopen('https://cf-courses-data.s3.us.cloud-object-storage.appdomain.cloud/e0WOHKh5dnrbC2lGhpsMMw/model-fine1.pth')\n",
        "model_fine1_ = Net(vocab_size=vocab_size, num_class=2).to(device)\n",
        "model_fine1_.load_state_dict(torch.load(io.BytesIO(urlopened.read()), map_location=device))\n",
        "evaluate(test_dataloader, model_fine1_)"
      ],
      "metadata": {
        "colab": {
          "base_uri": "https://localhost:8080/"
        },
        "id": "gUPOcAFAGtS3",
        "outputId": "63a5a11e-4b95-4206-f95b-26339df1a95e"
      },
      "id": "gUPOcAFAGtS3",
      "execution_count": 39,
      "outputs": [
        {
          "output_type": "stream",
          "name": "stderr",
          "text": [
            "100%|██████████| 782/782 [02:49<00:00,  4.63it/s]\n"
          ]
        },
        {
          "output_type": "execute_result",
          "data": {
            "text/plain": [
              "0.85984"
            ]
          },
          "metadata": {},
          "execution_count": 39
        }
      ]
    },
    {
      "cell_type": "markdown",
      "source": [
        "### Fine-tune the final layer only"
      ],
      "metadata": {
        "id": "bkMu3-KLGvfB"
      },
      "id": "bkMu3-KLGvfB"
    },
    {
      "cell_type": "code",
      "source": [
        "urlopened = urlopen('https://cf-courses-data.s3.us.cloud-object-storage.appdomain.cloud/9c3Dh2O_jsYBShBuchUNlg/model-AG%20News%20small1.pth')\n",
        "model_fine2 = Net(vocab_size=vocab_size, num_class=4).to(device)\n",
        "model_fine2.load_state_dict(torch.load(io.BytesIO(urlopened.read()), map_location=device))"
      ],
      "metadata": {
        "colab": {
          "base_uri": "https://localhost:8080/"
        },
        "id": "Qr9H0XwLGtdP",
        "outputId": "11c5abc1-5615-4652-b796-2d210d3b96c8"
      },
      "id": "Qr9H0XwLGtdP",
      "execution_count": 47,
      "outputs": [
        {
          "output_type": "stream",
          "name": "stderr",
          "text": [
            "/usr/local/lib/python3.11/dist-packages/torch/nn/modules/transformer.py:286: UserWarning: enable_nested_tensor is True, but self.use_nested_tensor is False because encoder_layer.self_attn.batch_first was not True(use batch_first for better inference performance)\n",
            "  warnings.warn(f\"enable_nested_tensor is True, but self.use_nested_tensor is False because {why_not_sparsity_fast_path}\")\n"
          ]
        },
        {
          "output_type": "execute_result",
          "data": {
            "text/plain": [
              "<All keys matched successfully>"
            ]
          },
          "metadata": {},
          "execution_count": 47
        }
      ]
    },
    {
      "cell_type": "code",
      "source": [
        "# Freeze all layers in the model\n",
        "for param in model_fine2.parameters():\n",
        "    param.requires_grad = False"
      ],
      "metadata": {
        "id": "JuA_79NPHEWa"
      },
      "id": "JuA_79NPHEWa",
      "execution_count": 48,
      "outputs": []
    },
    {
      "cell_type": "code",
      "source": [
        "dim=model_fine2.classifier.in_features\n",
        "model_fine2.classifier = nn.Linear(dim, 2)\n",
        "model_fine2.to(device)"
      ],
      "metadata": {
        "colab": {
          "base_uri": "https://localhost:8080/"
        },
        "id": "BSfwcuIEHEje",
        "outputId": "2c08cd65-b96a-4ef9-f529-d549e8e9043d"
      },
      "id": "BSfwcuIEHEje",
      "execution_count": 49,
      "outputs": [
        {
          "output_type": "execute_result",
          "data": {
            "text/plain": [
              "Net(\n",
              "  (emb): Embedding(400000, 100)\n",
              "  (pos_encoder): PositionalEncoding(\n",
              "    (dropout): Dropout(p=0.1, inplace=False)\n",
              "  )\n",
              "  (transformer_encoder): TransformerEncoder(\n",
              "    (layers): ModuleList(\n",
              "      (0-1): 2 x TransformerEncoderLayer(\n",
              "        (self_attn): MultiheadAttention(\n",
              "          (out_proj): NonDynamicallyQuantizableLinear(in_features=100, out_features=100, bias=True)\n",
              "        )\n",
              "        (linear1): Linear(in_features=100, out_features=128, bias=True)\n",
              "        (dropout): Dropout(p=0.1, inplace=False)\n",
              "        (linear2): Linear(in_features=128, out_features=100, bias=True)\n",
              "        (norm1): LayerNorm((100,), eps=1e-05, elementwise_affine=True)\n",
              "        (norm2): LayerNorm((100,), eps=1e-05, elementwise_affine=True)\n",
              "        (dropout1): Dropout(p=0.1, inplace=False)\n",
              "        (dropout2): Dropout(p=0.1, inplace=False)\n",
              "      )\n",
              "    )\n",
              "  )\n",
              "  (classifier): Linear(in_features=100, out_features=2, bias=True)\n",
              ")"
            ]
          },
          "metadata": {},
          "execution_count": 49
        }
      ]
    },
    {
      "cell_type": "code",
      "source": [
        "LR=1\n",
        "criterion = torch.nn.CrossEntropyLoss()\n",
        "optimizer = torch.optim.SGD(model_fine2.parameters(), lr=LR)\n",
        "scheduler = torch.optim.lr_scheduler.StepLR(optimizer, 1.0, gamma=0.1)\n",
        "save_dir = \"\"\n",
        "file_name = \"model_fine2.pth\"\n",
        "train_model(model=model_fine2, optimizer=optimizer, criterion=criterion, train_dataloader=train_dataloader, valid_dataloader=valid_dataloader,  epochs=2,  save_dir=save_dir ,file_name=file_name )"
      ],
      "metadata": {
        "colab": {
          "base_uri": "https://localhost:8080/"
        },
        "id": "Ad2mGWx1HFpu",
        "outputId": "49d2b1d9-8038-41b0-cefc-0d4676f1d223"
      },
      "id": "Ad2mGWx1HFpu",
      "execution_count": 50,
      "outputs": [
        {
          "output_type": "stream",
          "name": "stderr",
          "text": [
            "\r  0%|          | 0/2 [00:00<?, ?it/s]"
          ]
        },
        {
          "output_type": "stream",
          "name": "stdout",
          "text": [
            "Epoch 1/2 - Loss: 28.10331618785858\n"
          ]
        },
        {
          "output_type": "stream",
          "name": "stderr",
          "text": [
            "\r 50%|█████     | 1/2 [00:19<00:19, 19.45s/it]"
          ]
        },
        {
          "output_type": "stream",
          "name": "stdout",
          "text": [
            "0.5088\n",
            "Epoch 2/2 - Loss: 27.756974637508392\n"
          ]
        },
        {
          "output_type": "stream",
          "name": "stderr",
          "text": [
            "100%|██████████| 2/2 [00:39<00:00, 19.68s/it]"
          ]
        },
        {
          "output_type": "stream",
          "name": "stdout",
          "text": [
            "0.5216\n",
            "Training time: 39.36623477935791\n"
          ]
        },
        {
          "output_type": "stream",
          "name": "stderr",
          "text": [
            "\n"
          ]
        }
      ]
    },
    {
      "cell_type": "code",
      "source": [
        "acc_urlopened = urlopen('https://cf-courses-data.s3.us.cloud-object-storage.appdomain.cloud/UdR3ApQnxSeV2mrA0CbiLg/model-fine2-acc')\n",
        "loss_urlopened = urlopen('https://cf-courses-data.s3.us.cloud-object-storage.appdomain.cloud/rWGDIF-uL2dEngWcIo9teQ/model-fine2-loss')\n",
        "acc_epoch = pickle.load(acc_urlopened)\n",
        "cum_loss_list = pickle.load(loss_urlopened)\n",
        "plot(cum_loss_list,acc_epoch)"
      ],
      "metadata": {
        "colab": {
          "base_uri": "https://localhost:8080/",
          "height": 486
        },
        "id": "lB0rz-YwHKtU",
        "outputId": "5f2a0722-6192-444e-9c87-237e048cddf7"
      },
      "id": "lB0rz-YwHKtU",
      "execution_count": 51,
      "outputs": [
        {
          "output_type": "display_data",
          "data": {
            "text/plain": [
              "<Figure size 640x480 with 2 Axes>"
            ],
            "image/png": "[encoded data removed]"
          },
          "metadata": {}
        }
      ]
    },
    {
      "cell_type": "code",
      "source": [
        "urlopened = urlopen('https://cf-courses-data.s3.us.cloud-object-storage.appdomain.cloud/B-1H6lpDg-A0zRwpB6Ek2g/model-fine2.pth')\n",
        "model_fine2_ = Net(vocab_size=vocab_size, num_class=2).to(device)\n",
        "model_fine2_.load_state_dict(torch.load(io.BytesIO(urlopened.read()), map_location=device))\n",
        "evaluate(test_dataloader, model_fine2_)"
      ],
      "metadata": {
        "colab": {
          "base_uri": "https://localhost:8080/"
        },
        "id": "p3671nAFHMBv",
        "outputId": "e450b281-7613-47ad-f4f4-cf3701a894f8"
      },
      "id": "p3671nAFHMBv",
      "execution_count": 52,
      "outputs": [
        {
          "output_type": "stream",
          "name": "stderr",
          "text": [
            "100%|██████████| 782/782 [02:44<00:00,  4.76it/s]\n"
          ]
        },
        {
          "output_type": "execute_result",
          "data": {
            "text/plain": [
              "0.63956"
            ]
          },
          "metadata": {},
          "execution_count": 52
        }
      ]
    },
    {
      "cell_type": "markdown",
      "source": [
        "## Exercise: Unfreeze specific layers for fine-tuning"
      ],
      "metadata": {
        "id": "zIRVRzmWHQqb"
      },
      "id": "zIRVRzmWHQqb"
    },
    {
      "cell_type": "code",
      "source": [
        "model_finetune_some_layers = Net(num_class=4,vocab_size=vocab_size).to(device)\n",
        "\n",
        "# Freeze all layers in the model\n",
        "for param in model_finetune_some_layers.parameters():\n",
        "    param.requires_grad = False\n",
        "\n",
        "model_finetune_some_layers"
      ],
      "metadata": {
        "colab": {
          "base_uri": "https://localhost:8080/"
        },
        "id": "MkmBD0KDHPND",
        "outputId": "1ab6edf5-b950-4f39-e9ac-c7d1b0659f57"
      },
      "id": "MkmBD0KDHPND",
      "execution_count": 53,
      "outputs": [
        {
          "output_type": "execute_result",
          "data": {
            "text/plain": [
              "Net(\n",
              "  (emb): Embedding(400000, 100)\n",
              "  (pos_encoder): PositionalEncoding(\n",
              "    (dropout): Dropout(p=0.1, inplace=False)\n",
              "  )\n",
              "  (transformer_encoder): TransformerEncoder(\n",
              "    (layers): ModuleList(\n",
              "      (0-1): 2 x TransformerEncoderLayer(\n",
              "        (self_attn): MultiheadAttention(\n",
              "          (out_proj): NonDynamicallyQuantizableLinear(in_features=100, out_features=100, bias=True)\n",
              "        )\n",
              "        (linear1): Linear(in_features=100, out_features=128, bias=True)\n",
              "        (dropout): Dropout(p=0.1, inplace=False)\n",
              "        (linear2): Linear(in_features=128, out_features=100, bias=True)\n",
              "        (norm1): LayerNorm((100,), eps=1e-05, elementwise_affine=True)\n",
              "        (norm2): LayerNorm((100,), eps=1e-05, elementwise_affine=True)\n",
              "        (dropout1): Dropout(p=0.1, inplace=False)\n",
              "        (dropout2): Dropout(p=0.1, inplace=False)\n",
              "      )\n",
              "    )\n",
              "  )\n",
              "  (classifier): Linear(in_features=100, out_features=4, bias=True)\n",
              ")"
            ]
          },
          "metadata": {},
          "execution_count": 53
        }
      ]
    },
    {
      "cell_type": "code",
      "source": [
        "# Unfreeze the \"linear2\" layers:\n",
        "for i in range(2):\n",
        "    for param in model_finetune_some_layers.transformer_encoder.layers[i].linear2.parameters():\n",
        "        param.requires_grad = True\n",
        "\n",
        "# Replace the \"classifier\" layer. Note that this has the effect of unfreezing that layer:\n",
        "model_finetune_some_layers.classifier  = nn.Linear(100, 3)\n",
        "\n",
        "# Output all parameters indicating whether those parameters are unfrozen:\n",
        "for name, param in model_finetune_some_layers.named_parameters():\n",
        "    print(f\"{name} requires_grad: {param.requires_grad}\")"
      ],
      "metadata": {
        "colab": {
          "base_uri": "https://localhost:8080/"
        },
        "id": "gcqKs26SHSLS",
        "outputId": "b2c4c45a-dcc3-4096-cd72-473a8bf08692"
      },
      "id": "gcqKs26SHSLS",
      "execution_count": 54,
      "outputs": [
        {
          "output_type": "stream",
          "name": "stdout",
          "text": [
            "emb.weight requires_grad: False\n",
            "transformer_encoder.layers.0.self_attn.in_proj_weight requires_grad: False\n",
            "transformer_encoder.layers.0.self_attn.in_proj_bias requires_grad: False\n",
            "transformer_encoder.layers.0.self_attn.out_proj.weight requires_grad: False\n",
            "transformer_encoder.layers.0.self_attn.out_proj.bias requires_grad: False\n",
            "transformer_encoder.layers.0.linear1.weight requires_grad: False\n",
            "transformer_encoder.layers.0.linear1.bias requires_grad: False\n",
            "transformer_encoder.layers.0.linear2.weight requires_grad: True\n",
            "transformer_encoder.layers.0.linear2.bias requires_grad: True\n",
            "transformer_encoder.layers.0.norm1.weight requires_grad: False\n",
            "transformer_encoder.layers.0.norm1.bias requires_grad: False\n",
            "transformer_encoder.layers.0.norm2.weight requires_grad: False\n",
            "transformer_encoder.layers.0.norm2.bias requires_grad: False\n",
            "transformer_encoder.layers.1.self_attn.in_proj_weight requires_grad: False\n",
            "transformer_encoder.layers.1.self_attn.in_proj_bias requires_grad: False\n",
            "transformer_encoder.layers.1.self_attn.out_proj.weight requires_grad: False\n",
            "transformer_encoder.layers.1.self_attn.out_proj.bias requires_grad: False\n",
            "transformer_encoder.layers.1.linear1.weight requires_grad: False\n",
            "transformer_encoder.layers.1.linear1.bias requires_grad: False\n",
            "transformer_encoder.layers.1.linear2.weight requires_grad: True\n",
            "transformer_encoder.layers.1.linear2.bias requires_grad: True\n",
            "transformer_encoder.layers.1.norm1.weight requires_grad: False\n",
            "transformer_encoder.layers.1.norm1.bias requires_grad: False\n",
            "transformer_encoder.layers.1.norm2.weight requires_grad: False\n",
            "transformer_encoder.layers.1.norm2.bias requires_grad: False\n",
            "classifier.weight requires_grad: True\n",
            "classifier.bias requires_grad: True\n"
          ]
        }
      ]
    },
    {
      "cell_type": "code",
      "source": [
        "!pip freeze > requirements.txt"
      ],
      "metadata": {
        "id": "bzZVHYo8HVFs"
      },
      "id": "bzZVHYo8HVFs",
      "execution_count": 55,
      "outputs": []
    }
  ],
  "metadata": {
    "language_info": {
      "name": "python"
    },
    "colab": {
      "provenance": [],
      "include_colab_link": true
    },
    "kernelspec": {
      "name": "python3",
      "display_name": "Python 3"
    }
  },
  "nbformat": 4,
  "nbformat_minor": 5
}