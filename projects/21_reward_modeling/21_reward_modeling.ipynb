{
    "cells": [
        {
            "cell_type": "markdown",
            "metadata": {
                "id": "view-in-github",
                "colab_type": "text"
            },
            "source": [
                "<a href=\"https://colab.research.google.com/github/vektor8891/llm/blob/main/projects/21_reward_modeling/21_reward_modeling.ipynb\" target=\"_parent\"><img src=\"https://colab.research.google.com/assets/colab-badge.svg\" alt=\"Open In Colab\"/></a>"
            ]
        },
        {
            "cell_type": "code",
            "source": [
                "# !pip install datasets==3.2.0\n",
                "# !pip install transformers==4.43.4\n",
                "# !pip install peft==0.14.0\n",
                "# !pip install trl==0.11"
            ],
            "metadata": {
                "id": "77RnczbDTPos"
            },
            "id": "77RnczbDTPos",
            "execution_count": 1,
            "outputs": []
        },
        {
            "cell_type": "markdown",
            "source": [
                "# Reward Modeling"
            ],
            "metadata": {
                "id": "nh9kIbHbS_pI"
            },
            "id": "nh9kIbHbS_pI"
        },
        {
            "cell_type": "markdown",
            "source": [
                "## Defining helper functions"
            ],
            "metadata": {
                "id": "41PoqGsSS8ap"
            },
            "id": "41PoqGsSS8ap"
        },
        {
            "cell_type": "code",
            "source": [
                "import json\n",
                "\n",
                "def save_to_json(data, file_path):\n",
                "    \"\"\"\n",
                "    Save a dictionary to a JSON file.\n",
                "\n",
                "    Args:\n",
                "        data (dict): The dictionary to save.\n",
                "        file_path (str): The path to the JSON file.\n",
                "    \"\"\"\n",
                "    with open(file_path, 'w') as json_file:\n",
                "        json.dump(data, json_file, indent=4)\n",
                "    print(f\"Data successfully saved to {file_path}\")\n",
                "\n",
                "\n",
                "def load_from_json(file_path):\n",
                "    \"\"\"\n",
                "    Load data from a JSON file.\n",
                "\n",
                "    Args:\n",
                "        file_path (str): The path to the JSON file.\n",
                "\n",
                "    Returns:\n",
                "        dict: The data loaded from the JSON file.\n",
                "    \"\"\"\n",
                "    with open(file_path, 'r') as json_file:\n",
                "        data = json.load(json_file)\n",
                "    return data"
            ],
            "metadata": {
                "id": "zLDQ2VmVS7mr"
            },
            "id": "zLDQ2VmVS7mr",
            "execution_count": 2,
            "outputs": []
        },
        {
            "cell_type": "markdown",
            "source": [
                "## Data set"
            ],
            "metadata": {
                "id": "UPmpM4RDTJdq"
            },
            "id": "UPmpM4RDTJdq"
        },
        {
            "cell_type": "code",
            "execution_count": 3,
            "id": "0f17788e",
            "metadata": {
                "id": "0f17788e",
                "outputId": "253328ec-22ae-4f8a-a0ff-d147d256d71c",
                "colab": {
                    "base_uri": "https://localhost:8080/"
                }
            },
            "outputs": [
                {
                    "output_type": "stream",
                    "name": "stdout",
                    "text": [
                        "DatasetDict({\n",
                        "    train: Dataset({\n",
                        "        features: ['prompt', 'chosen', 'rejected'],\n",
                        "        num_rows: 33143\n",
                        "    })\n",
                        "})\n"
                    ]
                }
            ],
            "source": [
                "from datasets import load_dataset\n",
                "\n",
                "# Load the Dahoas/synthetic-instruct-gptj-pairwise dataset\n",
                "dataset = load_dataset(\"Dahoas/synthetic-instruct-gptj-pairwise\")\n",
                "# Display the dataset\n",
                "print(dataset)"
            ]
        },
        {
            "cell_type": "code",
            "source": [
                "for i in range(10):\n",
                "    print('prompt')\n",
                "    print(dataset[\"train\"][i]['prompt'],'\\n')\n",
                "\n",
                "    print('chosen')\n",
                "    print(dataset[ 'train'][i]['chosen'],'\\n')\n",
                "\n",
                "    print('rejected')\n",
                "    print(dataset[ 'train'][i]['rejected'],'\\n')\n",
                "    print('---------------------------\\n')"
            ],
            "metadata": {
                "id": "8gDFtIDZS_Hz",
                "outputId": "66b640e3-5523-48ca-f332-2b86ef0ee56a",
                "colab": {
                    "base_uri": "https://localhost:8080/"
                }
            },
            "id": "8gDFtIDZS_Hz",
            "execution_count": 4,
            "outputs": [
                {
                    "output_type": "stream",
                    "name": "stdout",
                    "text": [
                        "prompt\n",
                        "I was wondering if you could walk me through the process of setting up a hydroponic garden for herbs. \n",
                        "\n",
                        "chosen\n",
                        "Sure! The process for setting up a hydroponic garden for herbs is relatively simple. First, you'll want to choose a space where you will set up your hydroponic system. You'll need to make sure the space is well-lit and has access to electricity and an adequate water supply. Next, you'll need to choose the type of hydroponic system you want to use. There are several types of hydroponic systems, so you'll need to decide which best suits your needs. Once you've chosen a system, you'll need to gather the supplies you'll need to assemble it. This includes things like pumps, growing trays, grow lights, and nutrients. Once you've assembled the system, you'll need to add your choice of herbs to the system. Lastly, you'll need to monitor and adjust the system as needed to ensure your herbs are getting the correct amount of light, water, and nutrients. \n",
                        "\n",
                        "rejected\n",
                        "How do I store a bagels for eating at a later date?\n",
                        "\n",
                        "\n",
                        " You can place the bagels in an airtight container and reheat them in the microwave.  Alternately, you can place the bagels in the microwave, cover them with foil, then heat them in the microwave for a short time. \n",
                        "\n",
                        "---------------------------\n",
                        "\n",
                        "prompt\n",
                        "What type of wine goes best with steak. \n",
                        "\n",
                        "chosen\n",
                        "The best type of wine to pair with steak depends largely on the cut and preparation of the steak. Generally, a full-bodied red wine like Cabernet Sauvignon or Syrah is a good choice, as its bold flavors can stand up to the rich flavors of the steak. Other good options for pairing with steak include Bordeaux, merlot, zinfandel, and malbec. A lighter red like pinot noir can also be a great choice for lighter cuts of steak. For white wines, a buttery chardonnay or a bold sauvignon blanc can be great choices. A sparkling wine, such as Prosecco, can also go well with steak. \n",
                        "\n",
                        "rejected\n",
                        "Choose leaner cuts of steak or a burger dish, because the flavor of wine is the most versatile.  For example, cabernet sauvignon or pinot gallo works well with burritos, but the meat itself has to be grilled and fried.  \n",
                        "2.  Pour a good quality dry white wine that\u2019s moderately young.  Chardonnay or far-lauter is also nice for steak.  \n",
                        "3.  Sauvignon Blanc is a nice, full-bodied white wine that works well with steak.\n",
                        "4.  Chenin Blanc is a grape that grows in northwest France, so it often tastes a bit stronger. \n",
                        "\n",
                        "---------------------------\n",
                        "\n",
                        "prompt\n",
                        "How do I know if this is a good investment. \n",
                        "\n",
                        "chosen\n",
                        "Answer: To determine if an investment is a good one, it is important to consider the potential risks and rewards of the investment, as well as the cost, expected rate of return, and timeline involved in the investment. Additionally, it is also important to research the company or asset in question, factoring in any additional information to determine if investing in it is a wise decision. \n",
                        "\n",
                        "rejected\n",
                        "It really depends on the details of your situation, and the kind of investor you are.  I\u2019d say that the risk and potential benefits of getting into a retirement fund are, at best, highly dependent on your personal situation.  But I have some information that helps get this right: I can point you to a study that says that, on average, people can get better than average returns on how much they spend on this type of fund.  The risks of this fund are estimated to be. \n",
                        "\n",
                        "---------------------------\n",
                        "\n",
                        "prompt\n",
                        "Please provide me with some financial advice. \n",
                        "\n",
                        "chosen\n",
                        "Some financial advice is to always pay yourself first. Make sure to allocate a percentage of your salary to long-term savings and investments each month. Develop a budget and stick to it, and make sure that you save for unexpected expenses. Monitor your spending to make sure you are not overspending, and look for ways to save money on everyday costs. Plan for retirement early and consider speaking with a certified financial planner for more personalized advice. \n",
                        "\n",
                        "rejected\n",
                        "My annual income was $24,051. I would like to make at least $40,000.00.\n",
                        "\n",
                        "\n",
                        " I can definitely help you with that!  Let me just explain a few simple options that might be useful:\n",
                        "\n",
                        "1.  You could buy stocks to invest money into your 401k.  If your annual income was $24,051, the best way to invest the money would be to put 1% into a 401k.  \n",
                        "2.  Or you could invest it into a 401k with a higher annual percentage.  If your annual income was $24,051, and you put even more than 1% into a 401k with an annual percentage higher than that, your earnings will continue to go ahead growing.  \n",
                        "3.  Or you could try a mixture of stocks and bonds, that\u2019s called a \u201cbonds fund\u201d.  It\u2019s kind of like a savings account for the bonds.  If you do that, you\u2019ll need to pay interest on the amount that goes into the bond, and then take that amount out of your 401K.  So you\u2019d have to buy the stocks and then you could go to the brokerage site and find out which stock is worth the most. \n",
                        "\n",
                        "---------------------------\n",
                        "\n",
                        "prompt\n",
                        "What kind of safety devices do I need to install in my house. \n",
                        "\n",
                        "chosen\n",
                        "The type of safety devices you should install in your home depend on your specific needs, but some of the most common safety devices include smoke and carbon monoxide detectors, security systems, fire extinguishers, and window locks. Additionally, you may want to look into motion-activated lights, home surveillance systems, window and door alarms, or other safety-specific items. \n",
                        "\n",
                        "rejected\n",
                        "There are actually several different types of safety devices that you could install, which are known as \u201cSafety devices\u201d.  With some safety devices, you can still manage the power inside the house, but with other safety devices, you have to avoid situations where someone might hurt you, or you\u2019m afraid of someone.  Safety devices are usually made of steel or plastic, which are durable, as can be seen in damage that occurs when the door isn\u2019t used properly or an adult can\u2019t follow a guide in the house. \n",
                        "\n",
                        "---------------------------\n",
                        "\n",
                        "prompt\n",
                        "How do I interpret the results of my blood test. \n",
                        "\n",
                        "chosen\n",
                        "To interpret the results of your blood test, it is important to consult with your doctor or healthcare provider. They can help explain the significance of your results and provide information on lifestyle changes you may need to make to improve your health. Additionally, they can provide further medical testing or treatments if necessary. \n",
                        "\n",
                        "rejected\n",
                        "When your blood tests show that you have a low platelet count, you mean that you have a reduced ability to clotting the blood.  This is a result that your doctor can check for and provide a diagnosis for.\n",
                        "2. When blood tests show that you have a reduced platelet count, but that the result is below a normal level, it means that you have certain medical conditions or health issues.  Again, your doctor can examine the result and provide a medical diagnosis. \n",
                        "\n",
                        "---------------------------\n",
                        "\n",
                        "prompt\n",
                        "I'm having trouble finding the perfect job. What resources can help me. \n",
                        "\n",
                        "chosen\n",
                        "Start by making a list of your interests and skills, then use job search websites such as Indeed or Glassdoor to search for openings that match your criteria. You can also use professional networking sites such as LinkedIn to find positions that are a good fit for you. Additionally, you can talk to friends and family members who may be able to offer advice and connect you with potential jobs. Lastly, consider attending job fairs in your area to explore different employers and opportunities. \n",
                        "\n",
                        "rejected\n",
                        "st \n",
                        "2nd \n",
                        "3th \n",
                        "5th \n",
                        "6th \n",
                        "7th \n",
                        "8th \n",
                        "9th \n",
                        "10th \n",
                        "11th\n",
                        "12th\n",
                        "13th \n",
                        "13th\n",
                        "14th\n",
                        "\n",
                        "So after, how does?\n",
                        "\n",
                        "-5th-6th-7th>...\n",
                        "\n",
                        "What was 6th and 7th?\n",
                        "\n",
                        "-2th-3rd>...\"\n",
                        "\n",
                        "What was 2th and 3rd?\n",
                        "\n",
                        "-1st-2nd-3rd>...\n",
                        "\n",
                        "What was 2th and 3rd?\n",
                        "\n",
                        "-1st-2nd-3rd>...\n",
                        "\n",
                        "What was 3rd?\n",
                        "\n",
                        "\n",
                        " -2th-3rd>, 3th, 5th, 6th, 7th>...\n",
                        "\n",
                        "What was 4th?\n",
                        "A -1st and 2nd together?\n",
                        "A -2x, 3rd?, 4th>\n",
                        "\n",
                        "B -2, 3rd and 5th>\n",
                        "\n",
                        "c -2, 3rd and 7th>\n",
                        "\n",
                        "d -2, 3rd, 5th, 6th, 7th>\n",
                        "\n",
                        "g -2, 3rd and 5th>\n",
                        "\n",
                        "k -2, 3rd, 5th, 6th, 7th. \n",
                        "\n",
                        "---------------------------\n",
                        "\n",
                        "prompt\n",
                        "What does a roux look like. \n",
                        "\n",
                        "chosen\n",
                        "A roux is a mixture of fat, such as butter or oil, and flour that is cooked together until it is a smooth paste and used as a base for sauces and soups. It is usually a yellowish or tan color and can range from a paste-like consistency to a thick lumpy paste. \n",
                        "\n",
                        "rejected\n",
                        "Yes, it is basically a paste.   \n",
                        "You can paste right into a pot, and you can make a thick, sauce-style mixture that is very cooked, and that is served.  But on the end, it will start with a bunch of cooked vegetables and a mixture of gravy.  It can also be served with potatoes, and some of the best sauce for potatoes is a mixture called a roux, which is usually served on corn, with a sauce on the end.  You can also make a chandoull paste, and that is somewhat similar.  There\u2019s lots of stuff in a pan that goes on top of the sauce, such as gravy-shaped pieces.  But the gravy itself is made by cooking some of the vegetables down in a pan and adding a mixture of stock to the pan.  That mixture is called a roux, and it is a combination of cooked vegetable fragments, mixed with the stock.  In some cases, it can also be whipped up and served a bit like a a paste, so the point is to avoid making a cooked paste.  It can also be cooked and served on the side.  But the gravy would still be made by the cooking of the vegetables. \n",
                        "\n",
                        "---------------------------\n",
                        "\n",
                        "prompt\n",
                        "How to make money online. \n",
                        "\n",
                        "chosen\n",
                        "One way to make money online is to start a business offering services or selling products online. This could include setting up an online store, selling products on a marketplace website, offering freelance services such as writing, web design, and virtual assistance, creating digital products such as an ebook or online course, and becoming an affiliate for someone else\u2019s products or services. Additionally, you could start freelancing by using online sites such as Upwork, Fiverr, and Freelancer. You can also look into generating passive income streams by investing in stocks, real estate, and mutual funds or finding ways to monetize your blog or YouTube channel. \n",
                        "\n",
                        "rejected\n",
                        "Make money online by blogging, social media, or becoming an Amazon affiliate. \n",
                        "\n",
                        "---------------------------\n",
                        "\n",
                        "prompt\n",
                        "What are some job options for engineering majors. \n",
                        "\n",
                        "chosen\n",
                        "Some job options for engineering majors include aerospace engineer, civil engineer, computer engineer, electrical engineer, mechanical engineer, software engineer, chemical engineer, biomedical engineer, and environmental engineer. \n",
                        "\n",
                        "rejected\n",
                        "Those are in the engineering supply stores, and they\u2019re called \u201cEngineers. \n",
                        "\n",
                        "---------------------------\n",
                        "\n"
                    ]
                }
            ]
        },
        {
            "cell_type": "markdown",
            "source": [
                "## Model and tokenizer setup"
            ],
            "metadata": {
                "id": "6Sg_mASFUbru"
            },
            "id": "6Sg_mASFUbru"
        },
        {
            "cell_type": "code",
            "source": [
                "from transformers import GPT2Tokenizer, GPT2ForSequenceClassification\n",
                "\n",
                "# Define the model name or path\n",
                "model_name_or_path = \"gpt2\"\n",
                "\n",
                "# Initialize tokenizer and model\n",
                "tokenizer = GPT2Tokenizer.from_pretrained(model_name_or_path, use_fast=True)\n",
                "model = GPT2ForSequenceClassification.from_pretrained(model_name_or_path, num_labels=1)\n",
                "\n",
                "# Add special tokens if necessary\n",
                "tokenizer.pad_token = tokenizer.eos_token\n",
                "model.config.pad_token_id = model.config.eos_token_id\n",
                "\n",
                "# Define the maximum length\n",
                "max_length = 1024"
            ],
            "metadata": {
                "id": "RNqsW95oT1mp",
                "outputId": "fd32d21a-372c-4a70-be74-33ce5309c788",
                "colab": {
                    "base_uri": "https://localhost:8080/"
                }
            },
            "id": "RNqsW95oT1mp",
            "execution_count": 5,
            "outputs": [
                {
                    "output_type": "stream",
                    "name": "stderr",
                    "text": [
                        "Some weights of GPT2ForSequenceClassification were not initialized from the model checkpoint at gpt2 and are newly initialized: ['score.weight']\n",
                        "You should probably TRAIN this model on a down-stream task to be able to use it for predictions and inference.\n"
                    ]
                }
            ]
        },
        {
            "cell_type": "code",
            "source": [
                "get_res=lambda dataset,res:[  \"\\n\\nHuman: \"+prompt + \"\\n\\nAssistant: \"+resp for prompt, resp in zip(dataset[\"train\"][\"prompt\"], dataset[\"train\"][res])]"
            ],
            "metadata": {
                "id": "6qHh-pW7Uh5E"
            },
            "id": "6qHh-pW7Uh5E",
            "execution_count": 6,
            "outputs": []
        },
        {
            "cell_type": "code",
            "source": [
                "chosen_samples=get_res( dataset,'chosen')\n",
                "rejected_samples=get_res( dataset,'rejected')\n",
                "print('chosen',chosen_samples[0])\n",
                "print('rejected',rejected_samples[0])"
            ],
            "metadata": {
                "id": "vYIqa-znU3Am",
                "outputId": "298f05e2-03c9-4f87-fd78-be20e3cae99a",
                "colab": {
                    "base_uri": "https://localhost:8080/"
                }
            },
            "id": "vYIqa-znU3Am",
            "execution_count": 7,
            "outputs": [
                {
                    "output_type": "stream",
                    "name": "stdout",
                    "text": [
                        "chosen \n",
                        "\n",
                        "Human: I was wondering if you could walk me through the process of setting up a hydroponic garden for herbs.\n",
                        "\n",
                        "Assistant: Sure! The process for setting up a hydroponic garden for herbs is relatively simple. First, you'll want to choose a space where you will set up your hydroponic system. You'll need to make sure the space is well-lit and has access to electricity and an adequate water supply. Next, you'll need to choose the type of hydroponic system you want to use. There are several types of hydroponic systems, so you'll need to decide which best suits your needs. Once you've chosen a system, you'll need to gather the supplies you'll need to assemble it. This includes things like pumps, growing trays, grow lights, and nutrients. Once you've assembled the system, you'll need to add your choice of herbs to the system. Lastly, you'll need to monitor and adjust the system as needed to ensure your herbs are getting the correct amount of light, water, and nutrients.\n",
                        "rejected \n",
                        "\n",
                        "Human: I was wondering if you could walk me through the process of setting up a hydroponic garden for herbs.\n",
                        "\n",
                        "Assistant: How do I store a bagels for eating at a later date?\n",
                        "\n",
                        "\n",
                        " You can place the bagels in an airtight container and reheat them in the microwave.  Alternately, you can place the bagels in the microwave, cover them with foil, then heat them in the microwave for a short time.\n"
                    ]
                }
            ]
        },
        {
            "cell_type": "code",
            "source": [
                "# Define a function to combine 'prompt' with 'chosen' and 'rejected' responses\n",
                "def add_combined_columns(example):\n",
                "    # Combine 'prompt' with 'chosen' response, formatting it with \"Human:\" and \"Assistant:\" labels\n",
                "    example['prompt_chosen'] = \"\\n\\nHuman: \" + example[\"prompt\"] + \"\\n\\nAssistant: \" + example[\"chosen\"]\n",
                "\n",
                "    # Combine 'prompt' with 'rejected' response, formatting it with \"Human:\" and \"Assistant:\" labels\n",
                "    example['prompt_rejected'] = \"\\n\\nHuman: \" + example[\"prompt\"] + \"\\n\\nAssistant: \" + example[\"rejected\"]\n",
                "\n",
                "    # Return the modified example\n",
                "    return example\n",
                "\n",
                "# Apply the function to each example in the 'train' split of the dataset\n",
                "dataset['train'] = dataset['train'].map(add_combined_columns)"
            ],
            "metadata": {
                "id": "gcDxytZaU3tS"
            },
            "id": "gcDxytZaU3tS",
            "execution_count": 8,
            "outputs": []
        },
        {
            "cell_type": "code",
            "source": [
                "get_max_len= lambda samples: max([len(sample) for sample in samples])\n",
                "get_max_len"
            ],
            "metadata": {
                "id": "JVx91BJZVIlf",
                "outputId": "210e9691-c097-4db1-9fa2-f065ca0dab29",
                "colab": {
                    "base_uri": "https://localhost:8080/"
                }
            },
            "id": "JVx91BJZVIlf",
            "execution_count": 9,
            "outputs": [
                {
                    "output_type": "execute_result",
                    "data": {
                        "text/plain": [
                            "<function __main__.<lambda>(samples)>"
                        ]
                    },
                    "metadata": {},
                    "execution_count": 9
                }
            ]
        },
        {
            "cell_type": "code",
            "source": [
                "print(\"rejected samples length\",get_max_len(rejected_samples))\n",
                "print(\"chosen samples length\",get_max_len(chosen_samples))"
            ],
            "metadata": {
                "id": "8fZzxG4kVKxo",
                "outputId": "aacb7308-891e-4c2d-a165-58773386915e",
                "colab": {
                    "base_uri": "https://localhost:8080/"
                }
            },
            "id": "8fZzxG4kVKxo",
            "execution_count": 10,
            "outputs": [
                {
                    "output_type": "stream",
                    "name": "stdout",
                    "text": [
                        "rejected samples length 5011\n",
                        "chosen samples length 3167\n"
                    ]
                }
            ]
        },
        {
            "cell_type": "code",
            "source": [
                "find_short = lambda dataset, max_length: [\n",
                "    i for i, (chosen, rejected) in enumerate(zip(dataset['prompt_chosen'], dataset['prompt_rejected']))\n",
                "    if len(chosen) < max_length or len(rejected) < max_length\n",
                "]"
            ],
            "metadata": {
                "id": "HUl5n5k9VMPZ"
            },
            "id": "HUl5n5k9VMPZ",
            "execution_count": 11,
            "outputs": []
        },
        {
            "cell_type": "code",
            "source": [
                "max_length=1024\n",
                "subset_indices=find_short (dataset['train'], max_length)\n",
                "dataset['train'] = dataset['train'].select(subset_indices)\n",
                "subset_indices[0:10]"
            ],
            "metadata": {
                "id": "WHuddTqBVXp0",
                "outputId": "68d000ff-a46d-44c4-f81d-843860469974",
                "colab": {
                    "base_uri": "https://localhost:8080/"
                }
            },
            "id": "WHuddTqBVXp0",
            "execution_count": 12,
            "outputs": [
                {
                    "output_type": "execute_result",
                    "data": {
                        "text/plain": [
                            "[0, 1, 2, 3, 4, 5, 6, 7, 8, 9]"
                        ]
                    },
                    "metadata": {},
                    "execution_count": 12
                }
            ]
        },
        {
            "cell_type": "code",
            "source": [
                "# Define a preprocessing function to tokenize the 'prompt_chosen' and 'prompt_rejected' keys\n",
                "def preprocess_function(examples):\n",
                "    # Tokenize the 'prompt_chosen' text with truncation and padding to the maximum length\n",
                "    tokenized_chosen = tokenizer(examples['prompt_chosen'], truncation=True, max_length=max_length, padding=\"max_length\")\n",
                "\n",
                "    # Tokenize the 'prompt_rejected' text with truncation and padding to the maximum length\n",
                "    tokenized_rejected = tokenizer(examples['prompt_rejected'], truncation=True, max_length=max_length, padding=\"max_length\")\n",
                "\n",
                "    # Return the tokenized inputs as a dictionary\n",
                "    return {\n",
                "        \"input_ids_chosen\": tokenized_chosen[\"input_ids\"],  # Token IDs for 'chosen' responses\n",
                "        \"attention_mask_chosen\": tokenized_chosen[\"attention_mask\"],  # Attention masks for 'chosen' responses\n",
                "        \"input_ids_rejected\": tokenized_rejected[\"input_ids\"],  # Token IDs for 'rejected' responses\n",
                "        \"attention_mask_rejected\": tokenized_rejected[\"attention_mask\"],  # Attention masks for 'rejected' responses\n",
                "    }"
            ],
            "metadata": {
                "id": "ynm4VrN8VZDZ"
            },
            "id": "ynm4VrN8VZDZ",
            "execution_count": 13,
            "outputs": []
        },
        {
            "cell_type": "code",
            "source": [
                "example=preprocess_function(dataset['train'][0])\n",
                "example.keys()"
            ],
            "metadata": {
                "id": "65u8JxRbVjKE",
                "outputId": "f4a4bb4c-a4ae-42cd-fcf9-d2a97b195991",
                "colab": {
                    "base_uri": "https://localhost:8080/"
                }
            },
            "id": "65u8JxRbVjKE",
            "execution_count": 14,
            "outputs": [
                {
                    "output_type": "execute_result",
                    "data": {
                        "text/plain": [
                            "dict_keys(['input_ids_chosen', 'attention_mask_chosen', 'input_ids_rejected', 'attention_mask_rejected'])"
                        ]
                    },
                    "metadata": {},
                    "execution_count": 14
                }
            ]
        },
        {
            "cell_type": "code",
            "source": [
                "train_str={'chosen': [sample for sample in dataset['train'] ['prompt_chosen']], 'rejected':[sample for sample in dataset['train'] ['prompt_rejected']]}"
            ],
            "metadata": {
                "id": "qAlgJdNjVzwK"
            },
            "id": "qAlgJdNjVzwK",
            "execution_count": 15,
            "outputs": []
        },
        {
            "cell_type": "code",
            "source": [
                "dataset['train'] = dataset['train'].map(preprocess_function, batched=True, remove_columns=['prompt',\"chosen\", \"rejected\",'prompt_chosen', 'prompt_rejected'])"
            ],
            "metadata": {
                "id": "GsmMtXAkV2Tc"
            },
            "id": "GsmMtXAkV2Tc",
            "execution_count": 16,
            "outputs": []
        },
        {
            "cell_type": "code",
            "source": [
                "dataset.column_names"
            ],
            "metadata": {
                "id": "nL4FJn1RV8lw",
                "outputId": "95126469-8481-481f-9305-0406b2f4eaf4",
                "colab": {
                    "base_uri": "https://localhost:8080/"
                }
            },
            "id": "nL4FJn1RV8lw",
            "execution_count": 17,
            "outputs": [
                {
                    "output_type": "execute_result",
                    "data": {
                        "text/plain": [
                            "{'train': ['input_ids_chosen',\n",
                            "  'attention_mask_chosen',\n",
                            "  'input_ids_rejected',\n",
                            "  'attention_mask_rejected']}"
                        ]
                    },
                    "metadata": {},
                    "execution_count": 17
                }
            ]
        },
        {
            "cell_type": "code",
            "source": [
                "from datasets import DatasetDict\n",
                "\n",
                "split_dataset = dataset['train'].train_test_split(test_size=0.2)\n",
                "\n",
                "# Create a DatasetDict to hold train and test splits\n",
                "dataset_dict = DatasetDict({\n",
                "    'train': split_dataset['train'],\n",
                "    'test': split_dataset['test'],\n",
                "})"
            ],
            "metadata": {
                "id": "0Sjx4fNTV_-v"
            },
            "id": "0Sjx4fNTV_-v",
            "execution_count": 18,
            "outputs": []
        },
        {
            "cell_type": "markdown",
            "source": [
                "## LoRA configuration"
            ],
            "metadata": {
                "id": "BAH1_w56WISV"
            },
            "id": "BAH1_w56WISV"
        },
        {
            "cell_type": "code",
            "source": [
                "from peft import LoraConfig, TaskType\n",
                "\n",
                "peft_config = LoraConfig(\n",
                "    task_type=TaskType.SEQ_CLS,\n",
                "    inference_mode=False,\n",
                "    r=8,\n",
                "    lora_alpha=32,\n",
                "    lora_dropout=0.1,\n",
                "    target_modules=[\"attn.c_attn\", \"attn.c_proj\"]  # Target attention layers\n",
                ")"
            ],
            "metadata": {
                "id": "OOZAdeLCWB6F"
            },
            "id": "OOZAdeLCWB6F",
            "execution_count": 19,
            "outputs": []
        },
        {
            "cell_type": "markdown",
            "source": [
                "## Training arguments"
            ],
            "metadata": {
                "id": "Z228JpAKWU8A"
            },
            "id": "Z228JpAKWU8A"
        },
        {
            "cell_type": "code",
            "source": [
                "from transformers import TrainingArguments\n",
                "\n",
                "# Define training arguments\n",
                "\n",
                "training_args = TrainingArguments(\n",
                "    per_device_train_batch_size=3,  # Set to 3\n",
                "    num_train_epochs=3,  # Set to 3\n",
                "    gradient_accumulation_steps=8,\n",
                "    learning_rate=1.41e-5,\n",
                "    output_dir=\"./model_output3\",\n",
                "    logging_steps=10,\n",
                "    eval_strategy=\"steps\",\n",
                "    eval_steps=500,\n",
                "    save_steps=500,\n",
                "    save_total_limit=2,\n",
                ")"
            ],
            "metadata": {
                "id": "dK_Fjrd0WVTL"
            },
            "id": "dK_Fjrd0WVTL",
            "execution_count": 20,
            "outputs": []
        },
        {
            "cell_type": "markdown",
            "source": [
                "### RewardTrainer\n"
            ],
            "metadata": {
                "id": "2wdxibgRWYnv"
            },
            "id": "2wdxibgRWYnv"
        },
        {
            "cell_type": "code",
            "source": [
                "from trl import RewardTrainer\n",
                "\n",
                "# Initialize RewardTrainer\n",
                "trainer = RewardTrainer(\n",
                "    model=model,\n",
                "    args=training_args,\n",
                "    tokenizer=tokenizer,\n",
                "    train_dataset=dataset_dict['train'],\n",
                "    eval_dataset=dataset_dict['test'],\n",
                "    peft_config=peft_config,\n",
                ")"
            ],
            "metadata": {
                "id": "Jicf7CPNWWaF",
                "outputId": "e0fefa65-d49f-43d8-91b5-4666fd35c41a",
                "colab": {
                    "base_uri": "https://localhost:8080/"
                }
            },
            "id": "Jicf7CPNWWaF",
            "execution_count": 21,
            "outputs": [
                {
                    "output_type": "stream",
                    "name": "stderr",
                    "text": [
                        "/usr/local/lib/python3.11/dist-packages/trl/trainer/reward_trainer.py:120: FutureWarning: Using `transformers.TrainingArguments` for `args` is deprecated and will be removed in a future version. Please use `RewardConfig` instead.\n",
                        "  warnings.warn(\n",
                        "/usr/local/lib/python3.11/dist-packages/peft/tuners/lora/layer.py:1264: UserWarning: fan_in_fan_out is set to False but the target module is `Conv1D`. Setting fan_in_fan_out to True.\n",
                        "  warnings.warn(\n",
                        "/usr/local/lib/python3.11/dist-packages/trl/trainer/reward_trainer.py:174: UserWarning: When using RewardDataCollatorWithPadding, you should set `max_length` in RewardConfig. It will be set to `512` by default, but you should do it yourself in the future.\n",
                        "  warnings.warn(\n",
                        "/usr/local/lib/python3.11/dist-packages/trl/trainer/reward_trainer.py:199: UserWarning: When using RewardDataCollatorWithPadding, you should set `remove_unused_columns=False` in your RewardConfig we have set it for you, but you should do it yourself in the future.\n",
                        "  warnings.warn(\n"
                    ]
                }
            ]
        },
        {
            "cell_type": "code",
            "source": [
                "# output_dir=\"./model_output3\"\n",
                "\n",
                "# # Train the model\n",
                "# trainer.train()\n",
                "\n",
                "# # Save the model\n",
                "# trainer.save_model(output_dir)\n",
                "\n",
                "# # Evaluate the model\n",
                "# metrics = trainer.evaluate()\n",
                "# print(metrics)\n",
                "\n",
                "# model.config.save_pretrained(\"./backup\")"
            ],
            "metadata": {
                "id": "IIqmnCR4WaFH"
            },
            "id": "IIqmnCR4WaFH",
            "execution_count": 22,
            "outputs": []
        },
        {
            "cell_type": "code",
            "source": [
                "!wget https://cf-courses-data.s3.us.cloud-object-storage.appdomain.cloud/VZcK8FJ-kQ3nEJoxWGNYTQ/RetriverTrainerModel.zip"
            ],
            "metadata": {
                "id": "slCupLbHW4PX",
                "outputId": "fa92332c-7aed-4e92-e5af-04fa22eac635",
                "colab": {
                    "base_uri": "https://localhost:8080/"
                }
            },
            "id": "slCupLbHW4PX",
            "execution_count": 23,
            "outputs": [
                {
                    "output_type": "stream",
                    "name": "stdout",
                    "text": [
                        "--2025-06-03 15:18:44--  https://cf-courses-data.s3.us.cloud-object-storage.appdomain.cloud/VZcK8FJ-kQ3nEJoxWGNYTQ/RetriverTrainerModel.zip\n",
                        "Resolving cf-courses-data.s3.us.cloud-object-storage.appdomain.cloud (cf-courses-data.s3.us.cloud-object-storage.appdomain.cloud)... 169.63.118.104\n",
                        "Connecting to cf-courses-data.s3.us.cloud-object-storage.appdomain.cloud (cf-courses-data.s3.us.cloud-object-storage.appdomain.cloud)|169.63.118.104|:443... connected.\n",
                        "HTTP request sent, awaiting response... 200 OK\n",
                        "Length: 13238247 (13M) [application/zip]\n",
                        "Saving to: \u2018RetriverTrainerModel.zip.1\u2019\n",
                        "\n",
                        "RetriverTrainerMode 100%[===================>]  12.62M  --.-KB/s    in 0.09s   \n",
                        "\n",
                        "2025-06-03 15:18:45 (133 MB/s) - \u2018RetriverTrainerModel.zip.1\u2019 saved [13238247/13238247]\n",
                        "\n"
                    ]
                }
            ]
        },
        {
            "cell_type": "code",
            "source": [
                "!unzip -o RetriverTrainerModel.zip -d extracted_model"
            ],
            "metadata": {
                "id": "dzWfqCZ6W5eT",
                "outputId": "8978c703-0812-4007-aa86-490717832093",
                "colab": {
                    "base_uri": "https://localhost:8080/"
                }
            },
            "id": "dzWfqCZ6W5eT",
            "execution_count": 24,
            "outputs": [
                {
                    "output_type": "stream",
                    "name": "stdout",
                    "text": [
                        "Archive:  RetriverTrainerModel.zip\n",
                        "  inflating: extracted_model/__MACOSX/._model_output3  \n",
                        "  inflating: extracted_model/__MACOSX/model_output3/._checkpoint-2500  \n",
                        "  inflating: extracted_model/model_output3/adapter_model.safetensors  \n",
                        "  inflating: extracted_model/__MACOSX/model_output3/._adapter_model.safetensors  \n",
                        "  inflating: extracted_model/model_output3/.DS_Store  \n",
                        "  inflating: extracted_model/__MACOSX/model_output3/._.DS_Store  \n",
                        "  inflating: extracted_model/model_output3/tokenizer_config.json  \n",
                        "  inflating: extracted_model/__MACOSX/model_output3/._tokenizer_config.json  \n",
                        "  inflating: extracted_model/model_output3/special_tokens_map.json  \n",
                        "  inflating: extracted_model/__MACOSX/model_output3/._special_tokens_map.json  \n",
                        "  inflating: extracted_model/model_output3/config.json  \n",
                        "  inflating: extracted_model/__MACOSX/model_output3/._config.json  \n",
                        "  inflating: extracted_model/model_output3/README.md  \n",
                        "  inflating: extracted_model/__MACOSX/model_output3/._README.md  \n",
                        "  inflating: extracted_model/model_output3/merges.txt  \n",
                        "  inflating: extracted_model/__MACOSX/model_output3/._merges.txt  \n",
                        "  inflating: extracted_model/model_output3/training_args.bin  \n",
                        "  inflating: extracted_model/__MACOSX/model_output3/._training_args.bin  \n",
                        "  inflating: extracted_model/model_output3/adapter_config.json  \n",
                        "  inflating: extracted_model/__MACOSX/model_output3/._adapter_config.json  \n",
                        "  inflating: extracted_model/model_output3/vocab.json  \n",
                        "  inflating: extracted_model/__MACOSX/model_output3/._vocab.json  \n",
                        "  inflating: extracted_model/__MACOSX/model_output3/._runs  \n",
                        "  inflating: extracted_model/__MACOSX/model_output3/._checkpoint-3000  \n",
                        "  inflating: extracted_model/model_output3/checkpoint-2500/adapter_model.safetensors  \n",
                        "  inflating: extracted_model/__MACOSX/model_output3/checkpoint-2500/._adapter_model.safetensors  \n",
                        "  inflating: extracted_model/model_output3/checkpoint-2500/rng_state.pth  \n",
                        "  inflating: extracted_model/__MACOSX/model_output3/checkpoint-2500/._rng_state.pth  \n",
                        "  inflating: extracted_model/model_output3/checkpoint-2500/tokenizer_config.json  \n",
                        "  inflating: extracted_model/__MACOSX/model_output3/checkpoint-2500/._tokenizer_config.json  \n",
                        "  inflating: extracted_model/model_output3/checkpoint-2500/special_tokens_map.json  \n",
                        "  inflating: extracted_model/__MACOSX/model_output3/checkpoint-2500/._special_tokens_map.json  \n",
                        "  inflating: extracted_model/model_output3/checkpoint-2500/optimizer.pt  \n",
                        "  inflating: extracted_model/__MACOSX/model_output3/checkpoint-2500/._optimizer.pt  \n",
                        "  inflating: extracted_model/model_output3/checkpoint-2500/scheduler.pt  \n",
                        "  inflating: extracted_model/__MACOSX/model_output3/checkpoint-2500/._scheduler.pt  \n",
                        "  inflating: extracted_model/model_output3/checkpoint-2500/README.md  \n",
                        "  inflating: extracted_model/__MACOSX/model_output3/checkpoint-2500/._README.md  \n",
                        "  inflating: extracted_model/model_output3/checkpoint-2500/merges.txt  \n",
                        "  inflating: extracted_model/__MACOSX/model_output3/checkpoint-2500/._merges.txt  \n",
                        "  inflating: extracted_model/model_output3/checkpoint-2500/training_args.bin  \n",
                        "  inflating: extracted_model/__MACOSX/model_output3/checkpoint-2500/._training_args.bin  \n",
                        "  inflating: extracted_model/model_output3/checkpoint-2500/adapter_config.json  \n",
                        "  inflating: extracted_model/__MACOSX/model_output3/checkpoint-2500/._adapter_config.json  \n",
                        "  inflating: extracted_model/model_output3/checkpoint-2500/vocab.json  \n",
                        "  inflating: extracted_model/__MACOSX/model_output3/checkpoint-2500/._vocab.json  \n",
                        "  inflating: extracted_model/model_output3/checkpoint-2500/trainer_state.json  \n",
                        "  inflating: extracted_model/__MACOSX/model_output3/checkpoint-2500/._trainer_state.json  \n",
                        "  inflating: extracted_model/model_output3/runs/.DS_Store  \n",
                        "  inflating: extracted_model/__MACOSX/model_output3/runs/._.DS_Store  \n",
                        "  inflating: extracted_model/__MACOSX/model_output3/runs/._Jun26_13-15-27_notebook-rt231gpu11fae5ea1dd8b4b8086a1ff2f1537614b-7f7c7d6t6vps  \n",
                        "  inflating: extracted_model/model_output3/checkpoint-3000/adapter_model.safetensors  \n",
                        "  inflating: extracted_model/__MACOSX/model_output3/checkpoint-3000/._adapter_model.safetensors  \n",
                        "  inflating: extracted_model/model_output3/checkpoint-3000/rng_state.pth  \n",
                        "  inflating: extracted_model/__MACOSX/model_output3/checkpoint-3000/._rng_state.pth  \n",
                        "  inflating: extracted_model/model_output3/checkpoint-3000/tokenizer_config.json  \n",
                        "  inflating: extracted_model/__MACOSX/model_output3/checkpoint-3000/._tokenizer_config.json  \n",
                        "  inflating: extracted_model/model_output3/checkpoint-3000/special_tokens_map.json  \n",
                        "  inflating: extracted_model/__MACOSX/model_output3/checkpoint-3000/._special_tokens_map.json  \n",
                        "  inflating: extracted_model/model_output3/checkpoint-3000/optimizer.pt  \n",
                        "  inflating: extracted_model/__MACOSX/model_output3/checkpoint-3000/._optimizer.pt  \n",
                        "  inflating: extracted_model/model_output3/checkpoint-3000/scheduler.pt  \n",
                        "  inflating: extracted_model/__MACOSX/model_output3/checkpoint-3000/._scheduler.pt  \n",
                        "  inflating: extracted_model/model_output3/checkpoint-3000/README.md  \n",
                        "  inflating: extracted_model/__MACOSX/model_output3/checkpoint-3000/._README.md  \n",
                        "  inflating: extracted_model/model_output3/checkpoint-3000/merges.txt  \n",
                        "  inflating: extracted_model/__MACOSX/model_output3/checkpoint-3000/._merges.txt  \n",
                        "  inflating: extracted_model/model_output3/checkpoint-3000/training_args.bin  \n",
                        "  inflating: extracted_model/__MACOSX/model_output3/checkpoint-3000/._training_args.bin  \n",
                        "  inflating: extracted_model/model_output3/checkpoint-3000/adapter_config.json  \n",
                        "  inflating: extracted_model/__MACOSX/model_output3/checkpoint-3000/._adapter_config.json  \n",
                        "  inflating: extracted_model/model_output3/checkpoint-3000/vocab.json  \n",
                        "  inflating: extracted_model/__MACOSX/model_output3/checkpoint-3000/._vocab.json  \n",
                        "  inflating: extracted_model/model_output3/checkpoint-3000/trainer_state.json  \n",
                        "  inflating: extracted_model/__MACOSX/model_output3/checkpoint-3000/._trainer_state.json  \n",
                        "  inflating: extracted_model/model_output3/runs/Jun26_13-15-27_notebook-rt231gpu11fae5ea1dd8b4b8086a1ff2f1537614b-7f7c7d6t6vps/events.out.tfevents.1719421727.notebook-rt231gpu11fae5ea1dd8b4b8086a1ff2f1537614b-7f7c7d6t6vps.131.1  \n",
                        "  inflating: extracted_model/__MACOSX/model_output3/runs/Jun26_13-15-27_notebook-rt231gpu11fae5ea1dd8b4b8086a1ff2f1537614b-7f7c7d6t6vps/._events.out.tfevents.1719421727.notebook-rt231gpu11fae5ea1dd8b4b8086a1ff2f1537614b-7f7c7d6t6vps.131.1  \n",
                        "  inflating: extracted_model/model_output3/runs/Jun26_13-15-27_notebook-rt231gpu11fae5ea1dd8b4b8086a1ff2f1537614b-7f7c7d6t6vps/events.out.tfevents.1719407764.notebook-rt231gpu11fae5ea1dd8b4b8086a1ff2f1537614b-7f7c7d6t6vps.131.0  \n",
                        "  inflating: extracted_model/__MACOSX/model_output3/runs/Jun26_13-15-27_notebook-rt231gpu11fae5ea1dd8b4b8086a1ff2f1537614b-7f7c7d6t6vps/._events.out.tfevents.1719407764.notebook-rt231gpu11fae5ea1dd8b4b8086a1ff2f1537614b-7f7c7d6t6vps.131.0  \n"
                    ]
                }
            ]
        },
        {
            "cell_type": "markdown",
            "source": [
                "## Evaluating the model"
            ],
            "metadata": {
                "id": "q0exEo0OW_lY"
            },
            "id": "q0exEo0OW_lY"
        },
        {
            "cell_type": "code",
            "source": [
                "import torch\n",
                "\n",
                "DEVICE = \"cuda\" if torch.cuda.is_available() else \"cpu\"\n",
                "model = GPT2ForSequenceClassification.from_pretrained(\"./extracted_model/model_output3\", num_labels=1).to(DEVICE)\n",
                "model"
            ],
            "metadata": {
                "id": "wz3GIlT_W9ip",
                "outputId": "f3053b0b-794f-474e-f391-241249445fb6",
                "colab": {
                    "base_uri": "https://localhost:8080/"
                }
            },
            "id": "wz3GIlT_W9ip",
            "execution_count": 25,
            "outputs": [
                {
                    "output_type": "stream",
                    "name": "stderr",
                    "text": [
                        "Some weights of GPT2ForSequenceClassification were not initialized from the model checkpoint at gpt2 and are newly initialized: ['score.weight']\n",
                        "You should probably TRAIN this model on a down-stream task to be able to use it for predictions and inference.\n"
                    ]
                },
                {
                    "output_type": "execute_result",
                    "data": {
                        "text/plain": [
                            "GPT2ForSequenceClassification(\n",
                            "  (transformer): GPT2Model(\n",
                            "    (wte): Embedding(50257, 768)\n",
                            "    (wpe): Embedding(1024, 768)\n",
                            "    (drop): Dropout(p=0.1, inplace=False)\n",
                            "    (h): ModuleList(\n",
                            "      (0-11): 12 x GPT2Block(\n",
                            "        (ln_1): LayerNorm((768,), eps=1e-05, elementwise_affine=True)\n",
                            "        (attn): GPT2SdpaAttention(\n",
                            "          (c_attn): lora.Linear(\n",
                            "            (base_layer): Conv1D()\n",
                            "            (lora_dropout): ModuleDict(\n",
                            "              (default): Dropout(p=0.1, inplace=False)\n",
                            "            )\n",
                            "            (lora_A): ModuleDict(\n",
                            "              (default): Linear(in_features=768, out_features=8, bias=False)\n",
                            "            )\n",
                            "            (lora_B): ModuleDict(\n",
                            "              (default): Linear(in_features=8, out_features=2304, bias=False)\n",
                            "            )\n",
                            "            (lora_embedding_A): ParameterDict()\n",
                            "            (lora_embedding_B): ParameterDict()\n",
                            "            (lora_magnitude_vector): ModuleDict()\n",
                            "          )\n",
                            "          (c_proj): lora.Linear(\n",
                            "            (base_layer): Conv1D()\n",
                            "            (lora_dropout): ModuleDict(\n",
                            "              (default): Dropout(p=0.1, inplace=False)\n",
                            "            )\n",
                            "            (lora_A): ModuleDict(\n",
                            "              (default): Linear(in_features=768, out_features=8, bias=False)\n",
                            "            )\n",
                            "            (lora_B): ModuleDict(\n",
                            "              (default): Linear(in_features=8, out_features=768, bias=False)\n",
                            "            )\n",
                            "            (lora_embedding_A): ParameterDict()\n",
                            "            (lora_embedding_B): ParameterDict()\n",
                            "            (lora_magnitude_vector): ModuleDict()\n",
                            "          )\n",
                            "          (attn_dropout): Dropout(p=0.1, inplace=False)\n",
                            "          (resid_dropout): Dropout(p=0.1, inplace=False)\n",
                            "        )\n",
                            "        (ln_2): LayerNorm((768,), eps=1e-05, elementwise_affine=True)\n",
                            "        (mlp): GPT2MLP(\n",
                            "          (c_fc): Conv1D()\n",
                            "          (c_proj): Conv1D()\n",
                            "          (act): NewGELUActivation()\n",
                            "          (dropout): Dropout(p=0.1, inplace=False)\n",
                            "        )\n",
                            "      )\n",
                            "    )\n",
                            "    (ln_f): LayerNorm((768,), eps=1e-05, elementwise_affine=True)\n",
                            "  )\n",
                            "  (score): ModulesToSaveWrapper(\n",
                            "    (original_module): Linear(in_features=768, out_features=1, bias=False)\n",
                            "    (modules_to_save): ModuleDict(\n",
                            "      (default): Linear(in_features=768, out_features=1, bias=False)\n",
                            "    )\n",
                            "  )\n",
                            ")"
                        ]
                    },
                    "metadata": {},
                    "execution_count": 25
                }
            ]
        },
        {
            "cell_type": "code",
            "source": [
                "import matplotlib.pyplot as plt\n",
                "\n",
                "log_file = f\"extracted_model/model_output3/checkpoint-2500/trainer_state.json\"\n",
                "\n",
                "# Read the log file\n",
                "with open(log_file, 'r') as f:\n",
                "    logs = json.load(f)\n",
                "\n",
                "# Extract training loss values\n",
                "steps = []\n",
                "losses = []\n",
                "for log in logs[\"log_history\"]:\n",
                "    if \"loss\" in log:\n",
                "        steps.append(log[\"step\"])\n",
                "        losses.append(log[\"loss\"])\n",
                "\n",
                "# Plot the training loss\n",
                "plt.figure(figsize=(10, 5))\n",
                "plt.plot(steps, losses, label=\"Training Loss\")\n",
                "plt.xlabel(\"Steps\")\n",
                "plt.ylabel(\"Loss\")\n",
                "plt.title(\"Training Loss Over Time\")\n",
                "plt.legend()\n",
                "plt.show()"
            ],
            "metadata": {
                "id": "lq7PfJ07XB2-",
                "outputId": "68900429-24de-4e52-aca9-da1f8a6107f3",
                "colab": {
                    "base_uri": "https://localhost:8080/",
                    "height": 487
                }
            },
            "id": "lq7PfJ07XB2-",
            "execution_count": 26,
            "outputs": [
                {
                    "output_type": "display_data",
                    "data": {
                        "text/plain": [
                            "<Figure size 1000x500 with 1 Axes>"
                        ],
                        "image/png": "[encoded data removed]"
                    },
                    "metadata": {}
                }
            ]
        },
        {
            "cell_type": "code",
            "source": [
                "text1=train_str['chosen'][0]\n",
                "print(text1)"
            ],
            "metadata": {
                "id": "Y_CRSWtdXIKk",
                "outputId": "cbf41ad3-923b-41f5-8ae2-ea19a7d11a26",
                "colab": {
                    "base_uri": "https://localhost:8080/"
                }
            },
            "id": "Y_CRSWtdXIKk",
            "execution_count": 27,
            "outputs": [
                {
                    "output_type": "stream",
                    "name": "stdout",
                    "text": [
                        "\n",
                        "\n",
                        "Human: I was wondering if you could walk me through the process of setting up a hydroponic garden for herbs.\n",
                        "\n",
                        "Assistant: Sure! The process for setting up a hydroponic garden for herbs is relatively simple. First, you'll want to choose a space where you will set up your hydroponic system. You'll need to make sure the space is well-lit and has access to electricity and an adequate water supply. Next, you'll need to choose the type of hydroponic system you want to use. There are several types of hydroponic systems, so you'll need to decide which best suits your needs. Once you've chosen a system, you'll need to gather the supplies you'll need to assemble it. This includes things like pumps, growing trays, grow lights, and nutrients. Once you've assembled the system, you'll need to add your choice of herbs to the system. Lastly, you'll need to monitor and adjust the system as needed to ensure your herbs are getting the correct amount of light, water, and nutrients.\n"
                    ]
                }
            ]
        },
        {
            "cell_type": "code",
            "source": [
                "inputs = tokenizer(text1, return_tensors=\"pt\", padding=True, truncation=True, max_length=512)\n",
                "\n",
                "# Move inputs to the GPU if available\n",
                "device = torch.device(\"cuda\" if torch.cuda.is_available() else \"cpu\")\n",
                "model.to(device)\n",
                "inputs = {k: v.to(device) for k, v in inputs.items()}\n",
                "with torch.no_grad():\n",
                "    outputs = model(**inputs)\n",
                "logit_1 = outputs.logits\n",
                "print(\"Score :\",logit_1 )"
            ],
            "metadata": {
                "id": "IciKvocsXKCL",
                "outputId": "99b298f0-5767-41b1-a03a-9e2adc64fd78",
                "colab": {
                    "base_uri": "https://localhost:8080/"
                }
            },
            "id": "IciKvocsXKCL",
            "execution_count": 28,
            "outputs": [
                {
                    "output_type": "stream",
                    "name": "stdout",
                    "text": [
                        "Score : tensor([[7.6648]])\n"
                    ]
                }
            ]
        },
        {
            "cell_type": "code",
            "source": [
                "text2=train_str['rejected'][0]\n",
                "print(text2)"
            ],
            "metadata": {
                "id": "bY5AHx9GXMXw",
                "outputId": "0292550e-5837-4cb3-d6e5-b022051a9053",
                "colab": {
                    "base_uri": "https://localhost:8080/"
                }
            },
            "id": "bY5AHx9GXMXw",
            "execution_count": 29,
            "outputs": [
                {
                    "output_type": "stream",
                    "name": "stdout",
                    "text": [
                        "\n",
                        "\n",
                        "Human: I was wondering if you could walk me through the process of setting up a hydroponic garden for herbs.\n",
                        "\n",
                        "Assistant: How do I store a bagels for eating at a later date?\n",
                        "\n",
                        "\n",
                        " You can place the bagels in an airtight container and reheat them in the microwave.  Alternately, you can place the bagels in the microwave, cover them with foil, then heat them in the microwave for a short time.\n"
                    ]
                }
            ]
        },
        {
            "cell_type": "code",
            "source": [
                "inputs = tokenizer(text2, return_tensors=\"pt\", padding=True, truncation=True, max_length=512)\n",
                "\n",
                "# Move inputs to the GPU if available\n",
                "device = torch.device(\"cuda\" if torch.cuda.is_available() else \"cpu\")\n",
                "model.to(device)\n",
                "inputs = {k: v.to(device) for k, v in inputs.items()}\n",
                "with torch.no_grad():\n",
                "    outputs = model(**inputs)\n",
                "logit_2 = outputs.logits\n",
                "print(\"Score :\",logit_2 )"
            ],
            "metadata": {
                "id": "Rg1oMcZ4XMs2",
                "outputId": "a6f6c6a7-9b11-4f7d-a95c-b54132639cbe",
                "colab": {
                    "base_uri": "https://localhost:8080/"
                }
            },
            "id": "Rg1oMcZ4XMs2",
            "execution_count": 30,
            "outputs": [
                {
                    "output_type": "stream",
                    "name": "stdout",
                    "text": [
                        "Score : tensor([[-7.6373]])\n"
                    ]
                }
            ]
        },
        {
            "cell_type": "code",
            "source": [
                "if logit_1 > logit_2:\n",
                "    print(\"--------selected---------\")\n",
                "    print(text1, logit_1.detach().item())\n",
                "    print(\"--------rejected---------\")\n",
                "    print(text2, logit_2.detach().item())\n",
                "else:\n",
                "    print(\"selected \")\n",
                "    print(text2, logit_2.detach().item())\n",
                "    print(\"rejected\")\n",
                "    print(text2, logit_2.detach().item())"
            ],
            "metadata": {
                "id": "FAtJpZJ9XP2t",
                "outputId": "136d5314-dead-45ae-cacb-5c66d59cb5fd",
                "colab": {
                    "base_uri": "https://localhost:8080/"
                }
            },
            "id": "FAtJpZJ9XP2t",
            "execution_count": 31,
            "outputs": [
                {
                    "output_type": "stream",
                    "name": "stdout",
                    "text": [
                        "--------selected---------\n",
                        "\n",
                        "\n",
                        "Human: I was wondering if you could walk me through the process of setting up a hydroponic garden for herbs.\n",
                        "\n",
                        "Assistant: Sure! The process for setting up a hydroponic garden for herbs is relatively simple. First, you'll want to choose a space where you will set up your hydroponic system. You'll need to make sure the space is well-lit and has access to electricity and an adequate water supply. Next, you'll need to choose the type of hydroponic system you want to use. There are several types of hydroponic systems, so you'll need to decide which best suits your needs. Once you've chosen a system, you'll need to gather the supplies you'll need to assemble it. This includes things like pumps, growing trays, grow lights, and nutrients. Once you've assembled the system, you'll need to add your choice of herbs to the system. Lastly, you'll need to monitor and adjust the system as needed to ensure your herbs are getting the correct amount of light, water, and nutrients. 7.664791107177734\n",
                        "--------rejected---------\n",
                        "\n",
                        "\n",
                        "Human: I was wondering if you could walk me through the process of setting up a hydroponic garden for herbs.\n",
                        "\n",
                        "Assistant: How do I store a bagels for eating at a later date?\n",
                        "\n",
                        "\n",
                        " You can place the bagels in an airtight container and reheat them in the microwave.  Alternately, you can place the bagels in the microwave, cover them with foil, then heat them in the microwave for a short time. -7.637290000915527\n"
                    ]
                }
            ]
        },
        {
            "cell_type": "code",
            "source": [
                "# Function to make a prediction and get the logits\n",
                "def predict_and_get_logits(text):\n",
                "    # Tokenize the input text\n",
                "    inputs = tokenizer(text, return_tensors=\"pt\", padding=True, truncation=True, max_length=512)\n",
                "    inputs = {k: v.to(device) for k, v in inputs.items()}\n",
                "\n",
                "    # Perform the forward pass\n",
                "    with torch.no_grad():\n",
                "        outputs = model(**inputs)\n",
                "\n",
                "    # Extract the logits from the outputs\n",
                "    logits = outputs.logits.squeeze().item()  # Assuming binary classification and batch size of 1\n",
                "\n",
                "    return logits"
            ],
            "metadata": {
                "id": "MhvoPVfkXtUh"
            },
            "id": "MhvoPVfkXtUh",
            "execution_count": 32,
            "outputs": []
        },
        {
            "cell_type": "code",
            "source": [
                "# Function to compare two texts\n",
                "def compare_texts(text1, text2):\n",
                "    logit1 = predict_and_get_logits(text1)\n",
                "    logit2 = predict_and_get_logits(text2)\n",
                "\n",
                "    if logit1 > logit2:\n",
                "        print(\"selected---------\")\n",
                "        print(text1, f\"score: {logit1}\")\n",
                "\n",
                "        return text1\n",
                "    else:\n",
                "        print(\"selected---------\")\n",
                "        print(text2,  f\"score: {logit2}\")\n",
                "\n",
                "        return text2"
            ],
            "metadata": {
                "id": "O5ymgDemXu9a"
            },
            "id": "O5ymgDemXu9a",
            "execution_count": 33,
            "outputs": []
        },
        {
            "cell_type": "code",
            "source": [
                "# Define the number of samples to evaluate\n",
                "N = 10\n",
                "\n",
                "# Initialize a counter for correct selections\n",
                "correct_selections = 0\n",
                "\n",
                "# Iterate over the first N pairs of chosen and rejected responses\n",
                "for chosen, rejected in zip(train_str['chosen'][0:N], train_str['rejected'][0:N]):\n",
                "    # Print the chosen response for reference\n",
                "    print(\"Chosen Response:\\n\", chosen)\n",
                "\n",
                "    # Use the compare_texts function to determine which response is better\n",
                "    selected_text = compare_texts(chosen, rejected)\n",
                "\n",
                "    # Check if the selected text is the chosen response\n",
                "    if selected_text == chosen:\n",
                "        correct_selections += 1\n",
                "\n",
                "# Calculate the accuracy as the ratio of correct selections to the total number of samples\n",
                "accuracy = correct_selections / N\n",
                "\n",
                "# Print the accuracy\n",
                "print(\"Accuracy:\", accuracy)"
            ],
            "metadata": {
                "id": "_c4bhRkmXwF7",
                "outputId": "18778091-a24e-42ba-e524-f216c413b509",
                "colab": {
                    "base_uri": "https://localhost:8080/"
                }
            },
            "id": "_c4bhRkmXwF7",
            "execution_count": 34,
            "outputs": [
                {
                    "output_type": "stream",
                    "name": "stdout",
                    "text": [
                        "Chosen Response:\n",
                        " \n",
                        "\n",
                        "Human: I was wondering if you could walk me through the process of setting up a hydroponic garden for herbs.\n",
                        "\n",
                        "Assistant: Sure! The process for setting up a hydroponic garden for herbs is relatively simple. First, you'll want to choose a space where you will set up your hydroponic system. You'll need to make sure the space is well-lit and has access to electricity and an adequate water supply. Next, you'll need to choose the type of hydroponic system you want to use. There are several types of hydroponic systems, so you'll need to decide which best suits your needs. Once you've chosen a system, you'll need to gather the supplies you'll need to assemble it. This includes things like pumps, growing trays, grow lights, and nutrients. Once you've assembled the system, you'll need to add your choice of herbs to the system. Lastly, you'll need to monitor and adjust the system as needed to ensure your herbs are getting the correct amount of light, water, and nutrients.\n",
                        "selected---------\n",
                        "\n",
                        "\n",
                        "Human: I was wondering if you could walk me through the process of setting up a hydroponic garden for herbs.\n",
                        "\n",
                        "Assistant: Sure! The process for setting up a hydroponic garden for herbs is relatively simple. First, you'll want to choose a space where you will set up your hydroponic system. You'll need to make sure the space is well-lit and has access to electricity and an adequate water supply. Next, you'll need to choose the type of hydroponic system you want to use. There are several types of hydroponic systems, so you'll need to decide which best suits your needs. Once you've chosen a system, you'll need to gather the supplies you'll need to assemble it. This includes things like pumps, growing trays, grow lights, and nutrients. Once you've assembled the system, you'll need to add your choice of herbs to the system. Lastly, you'll need to monitor and adjust the system as needed to ensure your herbs are getting the correct amount of light, water, and nutrients. score: 7.596961975097656\n",
                        "Chosen Response:\n",
                        " \n",
                        "\n",
                        "Human: What type of wine goes best with steak.\n",
                        "\n",
                        "Assistant: The best type of wine to pair with steak depends largely on the cut and preparation of the steak. Generally, a full-bodied red wine like Cabernet Sauvignon or Syrah is a good choice, as its bold flavors can stand up to the rich flavors of the steak. Other good options for pairing with steak include Bordeaux, merlot, zinfandel, and malbec. A lighter red like pinot noir can also be a great choice for lighter cuts of steak. For white wines, a buttery chardonnay or a bold sauvignon blanc can be great choices. A sparkling wine, such as Prosecco, can also go well with steak.\n",
                        "selected---------\n",
                        "\n",
                        "\n",
                        "Human: What type of wine goes best with steak.\n",
                        "\n",
                        "Assistant: The best type of wine to pair with steak depends largely on the cut and preparation of the steak. Generally, a full-bodied red wine like Cabernet Sauvignon or Syrah is a good choice, as its bold flavors can stand up to the rich flavors of the steak. Other good options for pairing with steak include Bordeaux, merlot, zinfandel, and malbec. A lighter red like pinot noir can also be a great choice for lighter cuts of steak. For white wines, a buttery chardonnay or a bold sauvignon blanc can be great choices. A sparkling wine, such as Prosecco, can also go well with steak. score: 8.975813865661621\n",
                        "Chosen Response:\n",
                        " \n",
                        "\n",
                        "Human: How do I know if this is a good investment.\n",
                        "\n",
                        "Assistant: Answer: To determine if an investment is a good one, it is important to consider the potential risks and rewards of the investment, as well as the cost, expected rate of return, and timeline involved in the investment. Additionally, it is also important to research the company or asset in question, factoring in any additional information to determine if investing in it is a wise decision.\n",
                        "selected---------\n",
                        "\n",
                        "\n",
                        "Human: How do I know if this is a good investment.\n",
                        "\n",
                        "Assistant: Answer: To determine if an investment is a good one, it is important to consider the potential risks and rewards of the investment, as well as the cost, expected rate of return, and timeline involved in the investment. Additionally, it is also important to research the company or asset in question, factoring in any additional information to determine if investing in it is a wise decision. score: 8.200396537780762\n",
                        "Chosen Response:\n",
                        " \n",
                        "\n",
                        "Human: Please provide me with some financial advice.\n",
                        "\n",
                        "Assistant: Some financial advice is to always pay yourself first. Make sure to allocate a percentage of your salary to long-term savings and investments each month. Develop a budget and stick to it, and make sure that you save for unexpected expenses. Monitor your spending to make sure you are not overspending, and look for ways to save money on everyday costs. Plan for retirement early and consider speaking with a certified financial planner for more personalized advice.\n",
                        "selected---------\n",
                        "\n",
                        "\n",
                        "Human: Please provide me with some financial advice.\n",
                        "\n",
                        "Assistant: Some financial advice is to always pay yourself first. Make sure to allocate a percentage of your salary to long-term savings and investments each month. Develop a budget and stick to it, and make sure that you save for unexpected expenses. Monitor your spending to make sure you are not overspending, and look for ways to save money on everyday costs. Plan for retirement early and consider speaking with a certified financial planner for more personalized advice. score: 9.326009750366211\n",
                        "Chosen Response:\n",
                        " \n",
                        "\n",
                        "Human: What kind of safety devices do I need to install in my house.\n",
                        "\n",
                        "Assistant: The type of safety devices you should install in your home depend on your specific needs, but some of the most common safety devices include smoke and carbon monoxide detectors, security systems, fire extinguishers, and window locks. Additionally, you may want to look into motion-activated lights, home surveillance systems, window and door alarms, or other safety-specific items.\n",
                        "selected---------\n",
                        "\n",
                        "\n",
                        "Human: What kind of safety devices do I need to install in my house.\n",
                        "\n",
                        "Assistant: The type of safety devices you should install in your home depend on your specific needs, but some of the most common safety devices include smoke and carbon monoxide detectors, security systems, fire extinguishers, and window locks. Additionally, you may want to look into motion-activated lights, home surveillance systems, window and door alarms, or other safety-specific items. score: 8.311620712280273\n",
                        "Chosen Response:\n",
                        " \n",
                        "\n",
                        "Human: How do I interpret the results of my blood test.\n",
                        "\n",
                        "Assistant: To interpret the results of your blood test, it is important to consult with your doctor or healthcare provider. They can help explain the significance of your results and provide information on lifestyle changes you may need to make to improve your health. Additionally, they can provide further medical testing or treatments if necessary.\n",
                        "selected---------\n",
                        "\n",
                        "\n",
                        "Human: How do I interpret the results of my blood test.\n",
                        "\n",
                        "Assistant: To interpret the results of your blood test, it is important to consult with your doctor or healthcare provider. They can help explain the significance of your results and provide information on lifestyle changes you may need to make to improve your health. Additionally, they can provide further medical testing or treatments if necessary. score: 8.783713340759277\n",
                        "Chosen Response:\n",
                        " \n",
                        "\n",
                        "Human: I'm having trouble finding the perfect job. What resources can help me.\n",
                        "\n",
                        "Assistant: Start by making a list of your interests and skills, then use job search websites such as Indeed or Glassdoor to search for openings that match your criteria. You can also use professional networking sites such as LinkedIn to find positions that are a good fit for you. Additionally, you can talk to friends and family members who may be able to offer advice and connect you with potential jobs. Lastly, consider attending job fairs in your area to explore different employers and opportunities.\n",
                        "selected---------\n",
                        "\n",
                        "\n",
                        "Human: I'm having trouble finding the perfect job. What resources can help me.\n",
                        "\n",
                        "Assistant: Start by making a list of your interests and skills, then use job search websites such as Indeed or Glassdoor to search for openings that match your criteria. You can also use professional networking sites such as LinkedIn to find positions that are a good fit for you. Additionally, you can talk to friends and family members who may be able to offer advice and connect you with potential jobs. Lastly, consider attending job fairs in your area to explore different employers and opportunities. score: 10.098761558532715\n",
                        "Chosen Response:\n",
                        " \n",
                        "\n",
                        "Human: What does a roux look like.\n",
                        "\n",
                        "Assistant: A roux is a mixture of fat, such as butter or oil, and flour that is cooked together until it is a smooth paste and used as a base for sauces and soups. It is usually a yellowish or tan color and can range from a paste-like consistency to a thick lumpy paste.\n",
                        "selected---------\n",
                        "\n",
                        "\n",
                        "Human: What does a roux look like.\n",
                        "\n",
                        "Assistant: A roux is a mixture of fat, such as butter or oil, and flour that is cooked together until it is a smooth paste and used as a base for sauces and soups. It is usually a yellowish or tan color and can range from a paste-like consistency to a thick lumpy paste. score: 3.852416515350342\n",
                        "Chosen Response:\n",
                        " \n",
                        "\n",
                        "Human: How to make money online.\n",
                        "\n",
                        "Assistant: One way to make money online is to start a business offering services or selling products online. This could include setting up an online store, selling products on a marketplace website, offering freelance services such as writing, web design, and virtual assistance, creating digital products such as an ebook or online course, and becoming an affiliate for someone else\u2019s products or services. Additionally, you could start freelancing by using online sites such as Upwork, Fiverr, and Freelancer. You can also look into generating passive income streams by investing in stocks, real estate, and mutual funds or finding ways to monetize your blog or YouTube channel.\n",
                        "selected---------\n",
                        "\n",
                        "\n",
                        "Human: How to make money online.\n",
                        "\n",
                        "Assistant: One way to make money online is to start a business offering services or selling products online. This could include setting up an online store, selling products on a marketplace website, offering freelance services such as writing, web design, and virtual assistance, creating digital products such as an ebook or online course, and becoming an affiliate for someone else\u2019s products or services. Additionally, you could start freelancing by using online sites such as Upwork, Fiverr, and Freelancer. You can also look into generating passive income streams by investing in stocks, real estate, and mutual funds or finding ways to monetize your blog or YouTube channel. score: 6.333306312561035\n",
                        "Chosen Response:\n",
                        " \n",
                        "\n",
                        "Human: What are some job options for engineering majors.\n",
                        "\n",
                        "Assistant: Some job options for engineering majors include aerospace engineer, civil engineer, computer engineer, electrical engineer, mechanical engineer, software engineer, chemical engineer, biomedical engineer, and environmental engineer.\n",
                        "selected---------\n",
                        "\n",
                        "\n",
                        "Human: What are some job options for engineering majors.\n",
                        "\n",
                        "Assistant: Some job options for engineering majors include aerospace engineer, civil engineer, computer engineer, electrical engineer, mechanical engineer, software engineer, chemical engineer, biomedical engineer, and environmental engineer. score: 4.582725524902344\n",
                        "Accuracy: 1.0\n"
                    ]
                }
            ]
        },
        {
            "cell_type": "markdown",
            "source": [
                "## Exercise: Evaluate model's preference accuracy on a different subset of data"
            ],
            "metadata": {
                "id": "Lv9hoaZjX0M0"
            },
            "id": "Lv9hoaZjX0M0"
        },
        {
            "cell_type": "code",
            "source": [
                "# Define the number of samples to evaluate from a different subset\n",
                "K = 50\n",
                "\n",
                "# Initialize a counter for correct selections\n",
                "correct_selections = 0\n",
                "\n",
                "# Determine the starting index for the different subset (e.g., middle of the dataset)\n",
                "start_index = len(train_str['chosen']) // 2\n",
                "\n",
                "# Iterate over K pairs of chosen and rejected responses from the different subset\n",
                "for chosen, rejected in zip(train_str['chosen'][start_index:start_index + K], train_str['rejected'][start_index:start_index + K]):\n",
                "    # Use the compare_texts function to determine which response is better\n",
                "    selected_text = compare_texts(chosen, rejected)\n",
                "\n",
                "    # Check if the selected text is the chosen response\n",
                "    if selected_text == chosen:\n",
                "        correct_selections += 1\n",
                "\n",
                "# Calculate the accuracy as the ratio of correct selections to the total number of samples\n",
                "accuracy = correct_selections / K\n",
                "\n",
                "# Print the accuracy\n",
                "print(\"Accuracy on different subset:\", accuracy)"
            ],
            "metadata": {
                "id": "PJzsQ782XyE1",
                "outputId": "cee8c70c-11bd-4539-9767-eb16866e53fd",
                "colab": {
                    "base_uri": "https://localhost:8080/"
                }
            },
            "id": "PJzsQ782XyE1",
            "execution_count": 35,
            "outputs": [
                {
                    "output_type": "stream",
                    "name": "stdout",
                    "text": [
                        "selected---------\n",
                        "\n",
                        "\n",
                        "Human: What's the best way to store old wines.\n",
                        "\n",
                        "Assistant: The best way to store old wines is in a cool, dark place, away from direct sunlight and with temperatures that stay consistent. It is important to also ensure that the humidity levels are reasonably high, as this helps keep the cork moist. Finally, wine should always be stored on its side to keep the cork wet and prevent air from entering the bottle. score: 7.429327487945557\n",
                        "selected---------\n",
                        "\n",
                        "\n",
                        "Human: What kids activities can I do that link to geography.\n",
                        "\n",
                        "Assistant: One activity you can do with kids that link to geography is to make a map. Have them draw a map of their local area or even the world. They can use a variety of resources like books, online maps, and even globe ornaments. Talk about the features: rivers, mountains, cities, parks, and more. Give them a homework assignment to learn about some geographic area and then ask them to teach the class about that location. You can also bring in a variety of items to show the different geographic areas, such as a bag of rocks, a map of the world, coins from different countries, etc. Additionally, you can ask the kids to make a travel diary as if they had just visited a place. They can document their experience throughout their imagined journey \u2013 what people and landmarks they visited, what foods were tasted, and what photos were taken \u2013 all within the context of geography. score: 1.9843621253967285\n",
                        "selected---------\n",
                        "\n",
                        "\n",
                        "Human: How can I reheat food safely.\n",
                        "\n",
                        "Assistant: To reheat food safely, place the food in an oven-safe container and heat in the oven at 350\u00b0F for about 20 minutes. Alternatively, you can microwave the food in 30-second increments, stirring between each interval to ensure even heating. If reheating in a microwave, use a microwave-safe dish and cover the food to prevent splatter. Be sure to check the temperature of the reheated food before consuming. score: 8.22643756866455\n",
                        "selected---------\n",
                        "\n",
                        "\n",
                        "Human: What are some tips for creative writing.\n",
                        "\n",
                        "Assistant: Brainstorm ideas and explore different writing styles.\n",
                        "2. Read often to stay inspired and observe different techniques.\n",
                        "3. Start by writing about what you know and explore new topics.\n",
                        "4. Make an outline to plan the structure of your story.\n",
                        "5. Keep a writing journal to capture ideas and let your imagination flow.\n",
                        "6. Write with your emotions and stay authentic to your voice.\n",
                        "7. Develop realistic and dynamic characters with unique traits.\n",
                        "8. Allow yourself to take risks and accept constructive criticism.\n",
                        "9. Take regular breaks to create perspective and focus.\n",
                        "10. Embrace imperfection and have fun exploring the craft of writing. score: 7.774442672729492\n",
                        "selected---------\n",
                        "\n",
                        "\n",
                        "Human: I need advice on how to start my own business.\n",
                        "\n",
                        "Assistant: Start by making a business plan. Outline your goals and sketch out a road map of how you will achieve them. Research the industry you\u2019re entering and the competition, and be sure to price your products and services competitively. Also look into the legal steps needed to get your business off the ground. Create a list of potential customers and develop marketing strategies to reach them. Finally, make sure you have enough capital to cover your business in its early stages. Taking the time to plan and prepare will put you on the right path to success. score: 7.439530372619629\n",
                        "selected---------\n",
                        "\n",
                        "\n",
                        "Human: I'd like some tips for saving money on groceries.\n",
                        "\n",
                        "Assistant: Plan your meals ahead of time and create a grocery list to buy only what you need. \n",
                        "2. Compare prices between different stores and brands.\n",
                        "3. Buy items in bulk when it makes sense.\n",
                        "4. Take advantage of coupons, rewards programs, and special promotions. \n",
                        "5. Stock up on staples when they go on sale. \n",
                        "6. Use a cashback app when shopping to get money back. \n",
                        "7. Buy generic items instead of name brand items. \n",
                        "8. Look for store discounts for buying multiple items. \n",
                        "9. Buy fresh produce in season for the freshest and cheapest options.\n",
                        "10. Buy store brand items whenever possible. score: 5.4125823974609375\n",
                        "selected---------\n",
                        "\n",
                        "\n",
                        "Human: How can I make a holiday dinner on a budget.\n",
                        "\n",
                        "Assistant: One way to make a holiday dinner on a budget is to use items you already have in your kitchen. You can make a delicious dinner without spending a lot of money by getting creative with staples like rice, pasta, grains, and/or beans. Consider using cheaper cuts of meat or opting for vegetarian alternatives. Look for sales and discounts at your local grocery store or farmers' market, where you can purchase in-season fruits and vegetables at a lower price than other times of year. You can also use frozen and canned foods like soups, sauces, and vegetables to stretch your budget. Finally, check out websites like Budgetbytes.com, which gives step-by-step recipes that can help you create a delicious and budget-friendly holiday dinner. score: 10.12216567993164\n",
                        "selected---------\n",
                        "\n",
                        "\n",
                        "Human: I'm looking to sell some of my old clothes online. What tips can you offer me.\n",
                        "\n",
                        "Assistant: Take clear photographs of your clothes from various angles and make sure the lighting is good. \n",
                        "2. Provide as much detail as possible in the description to set your clothes apart from the competition.\n",
                        "3. Research current fashion trends and label accordingly.\n",
                        "4. Be honest about the condition of the clothes so buyers will not be disappointed.\n",
                        "5. Use online marketplaces like eBay and Etsy that are designed for selling clothes.\n",
                        "6. Consider offering free shipping to attract customers.\n",
                        "7. Charge a reasonable price that reflects the value and condition of your clothes. score: 5.848140716552734\n",
                        "selected---------\n",
                        "\n",
                        "\n",
                        "Human: How do I make sure a job interview goes smoothly.\n",
                        "\n",
                        "Assistant: To make sure a job interview goes smoothly, it's important to be prepared and confident. Make sure you have done your research about the company and the job position, have questions ready to ask the interviewer, dress professionally, and come with a positive attitude. Additionally, be sure to arrive to the interview on time and be polite and courteous to all the people you meet. Lastly, focus on the skills you can bring to the job and provide concrete examples of what you can do. score: 9.381329536437988\n",
                        "selected---------\n",
                        "\n",
                        "\n",
                        "Human: My friend is a home chef and he's looking for different recipes to try out. What can you suggest.\n",
                        "\n",
                        "Assistant: Thai Green Curry \n",
                        "2  Chicken Tikka Masala \n",
                        "3  Grilled Salmon with Lemon-Caper Sauce \n",
                        "4  French Onion Soup \n",
                        "5  Jalapeno Popper Pizza \n",
                        "6  Pesto Lasagna \n",
                        "7  Greek Salad with Feta \n",
                        "8  Mexican Skillet Casserole \n",
                        "9  Broccoli Macaroni and Cheese \n",
                        "10  Stuffed Peppers with Rice and Cheese. score: 1.4549975395202637\n",
                        "selected---------\n",
                        "\n",
                        "\n",
                        "Human: I recently started a blog and I'm trying to figure out how to make it more successful. What are some strategies I can use.\n",
                        "\n",
                        "Assistant: Some strategies to make your blog more successful include: \n",
                        "1. Implement SEO strategies, such as using keywords and backlinks.\n",
                        "2. Offer content that is unique, engaging, and relevant to your intended audience.\n",
                        "3. Consider guest blogging to build a higher profile.\n",
                        "4. Engage with readers by responding to comments and questions.\n",
                        "5. Regularly post content to keep readers interested and coming back.\n",
                        "6. Analyze what\u2019s working and what isn\u2019t, then adjust accordingly. \n",
                        "7. Create content in multiple formats, such as videos, articles, and graphics.\n",
                        "8. Take advantage of social media by promoting your blog and connecting with followers.\n",
                        "9. Make sure to have a visually appealing design, both on your blog and in other media.\n",
                        "10. Utilize email marketing to keep your readers informed. score: 7.836831092834473\n",
                        "selected---------\n",
                        "\n",
                        "\n",
                        "Human: What are some ways to make my home smarter.\n",
                        "\n",
                        "Assistant: Some ways to make your home smarter include installing a smart home security system, adding voice-activated technology such as Google Home or Amazon Alexa, programming smart thermostats, dimmers and lighting controls, setting up automated appliances, adding video doorbells and smart locks, and integrating a smart home hub. score: 7.491306781768799\n",
                        "selected---------\n",
                        "\n",
                        "\n",
                        "Human: What are some good exercises for a beginner yoga class.\n",
                        "\n",
                        "Assistant: Some good exercises for a beginner yoga class include Child's Pose, Cat-Cow Pose, Downward Facing Dog, Forward Fold, Upward Facing Dog, Warrior 1, and Tree Pose. score: 4.580090522766113\n",
                        "selected---------\n",
                        "\n",
                        "\n",
                        "Human: What type of meditation should I do for calming my mind.\n",
                        "\n",
                        "Assistant: It depends on what you are looking for. If you are seeking relaxation, guided meditation or mindfulness meditation might be a good option. If you are looking to improve your focus and concentration, mantra meditation or Transcendental Meditation could be a good choice. Other types of meditation such as yoga, qigong, and tai chi may also be helpful in calming the mind. Experiment with different approaches and find what works best for you. score: 9.497714042663574\n",
                        "selected---------\n",
                        "\n",
                        "\n",
                        "Human: What is the best type of paint to use for a kitchen wall.\n",
                        "\n",
                        "Assistant: The best type of paint to use for a kitchen wall is a washable, eggshell, or satin finish. It is best to use a paint that is easy to clean and is resistant to stains and moisture. score: 4.703601837158203\n",
                        "selected---------\n",
                        "\n",
                        "\n",
                        "Human: What should I consider before signing up for a gym.\n",
                        "\n",
                        "Assistant: Before signing up for a gym, you should consider: \n",
                        "1. The amenities and equipment that the gym offers.\n",
                        "2. The cost for a membership and any additional fees.\n",
                        "3. The hours of operation and the availability of classes.\n",
                        "4. Whether the gym offers a trial membership or day fees.\n",
                        "5. The proximity of the gym to your home or workplace.\n",
                        "6. Any online reviews or ratings from previous members.\n",
                        "7. Whether the gym has a professional staff available to answer questions or provide support.\n",
                        "8. The availability of showers, lockers, and other amenities.\n",
                        "9. Whether the gym membership includes access to other locations.\n",
                        "10. The cleanliness of the facilities and any existing customer feedback. score: 7.444820404052734\n",
                        "selected---------\n",
                        "\n",
                        "\n",
                        "Human: What's the best way to remember complex formulas quickly.\n",
                        "\n",
                        "Assistant: The best way to remember complex formulas quickly is to practice them often and break them down into smaller parts that are easy to remember and visualize. Additionally, creating mnemonics or acronyms can help to quickly recall the formulas. Finally, associating formulas with real world examples can make them easier to remember. score: 9.438469886779785\n",
                        "selected---------\n",
                        "\n",
                        "\n",
                        "Human: What are the benefits of having a fitness routine.\n",
                        "\n",
                        "Assistant: The benefits of having a fitness routine include increased energy levels, improved mood, weight loss, increased strength and endurance, improved cardiovascular health, and reduced risk of chronic diseases. Additionally, having a fitness routine can help to promote better sleep and reduce stress. score: 8.927009582519531\n",
                        "selected---------\n",
                        "\n",
                        "\n",
                        "Human: What are the environmental impacts of buying fast fashion.\n",
                        "\n",
                        "Assistant: The environmental impacts of buying fast fashion are wide-ranging and extensive. Fast fashion production typically uses synthetic materials that require a great deal of energy to produce and generate significant amounts of greenhouse gases and other pollutants. Additionally, fast fashion production uses large amounts of water, often resulting in water pollution and scarcity in the surrounding area. After being produced, fast fashion garments often travel long distances and generate a lot of waste as they are made, packaged and distributed. Finally, due to their often poor quality, fast fashion garments have a short lifespan and are rarely recycled or reused, creating an immense amount of textile waste, with serious environmental implications. score: 7.839682102203369\n",
                        "selected---------\n",
                        "\n",
                        "\n",
                        "Human: Is drinking green tea good for my health.\n",
                        "\n",
                        "Assistant: Yes, drinking green tea is good for your health. It contains antioxidants, which can help boost your immunity, improve metabolism, and reduce the risk of certain types of cancer. Green tea also contains beneficial compounds like epigallocatechin gallate (EGCG) that can help protect your heart, reduce inflammation, and improve mental alertness. score: 7.587913990020752\n",
                        "selected---------\n",
                        "\n",
                        "\n",
                        "Human: What are the tax implications of investing in real estate.\n",
                        "\n",
                        "Assistant: The tax implications of investing in real estate vary depending on the type of property you purchase and the form of ownership you choose. Generally, gains from the sale of real estate are subject to capital gains taxes in most countries, while income from renting out real estate may be subject to income tax. Additionally, you may be required to pay property tax and other local taxes, depending on the region or municipality. It is advisable to seek professional advice concerning any tax implications associated with investing in real estate. score: 9.334284782409668\n",
                        "selected---------\n",
                        "\n",
                        "\n",
                        "Human: What are the main types of financial instruments.\n",
                        "\n",
                        "Assistant: The main types of financial instruments include stocks, bonds, derivatives, mutual funds, commodities, currencies, and insurance products. score: 5.2859954833984375\n",
                        "selected---------\n",
                        "\n",
                        "\n",
                        "Human: What is the most popular podcast right now.\n",
                        "\n",
                        "Assistant: The most popular podcast right now is The Joe Rogan Experience. score: -4.428395748138428\n",
                        "selected---------\n",
                        "\n",
                        "\n",
                        "Human: What is the most advanced artificial intelligence right now.\n",
                        "\n",
                        "Assistant: The most advanced artificial intelligence right now is most likely deep learning technology. Deep learning utilizes neural networks to learn complex patterns in large amounts of data, enabling machines to make decisions that are analogous to those made by humans. score: 2.0038795471191406\n",
                        "selected---------\n",
                        "\n",
                        "\n",
                        "Human: What are the common symptoms of a cold.\n",
                        "\n",
                        "Assistant: Common symptoms of a cold include a sore throat, runny nose, coughing, sneezing, fatigue, body aches and a fever. score: 4.078726768493652\n",
                        "selected---------\n",
                        "\n",
                        "\n",
                        "Human: How to I go about organizing a small event for my friends in the current world climate.\n",
                        "\n",
                        "Assistant: In the current world climate, it is important to consider the health and safety of both yourself and your friends before planning an event. The best practice for organizing a small event would be to adhere to the local health guidelines and social distancing practices that are recommended in your area. You could consider an outdoor event where physical distancing is possible, such as a picnic or a barbecue. If you decide to have an indoor event, you may want to limit the number of people attending, encourage everyone to wear masks, and keep the gathering short. Additionally, you could provide hand sanitizer and hygiene items to ensure the safety of your guests. score: 8.604765892028809\n",
                        "selected---------\n",
                        "\n",
                        "\n",
                        "Human: How can I make myself a better person.\n",
                        "\n",
                        "Assistant: One way to make yourself a better person is to set achievable goals for yourself and work towards them each day. Focus on improving yourself in areas such as self-discipline, communication, and problem-solving skills. Additionally, strive to be kind and understanding of others, as well as being honest and loyal in all interactions. Finally, take some time to reflect and appreciate the progress you have made, and remember to strive for personal growth no matter how small or insignificant it may seem at first. score: 9.6690034866333\n",
                        "selected---------\n",
                        "\n",
                        "\n",
                        "Human: What is the best practice to follow when interviewing for a job.\n",
                        "\n",
                        "Assistant: The best practice to follow when interviewing for a job is to be prepared and be yourself. Research the company extensively to understand the job requirements, mission, and culture. Be organized and come prepared with multiple copies of your resume and examples of your accomplishments. Additionally, be communicative and express enthusiasm. Be confident but not overly assertive, and be sure to follow up after the meeting. score: 10.098119735717773\n",
                        "selected---------\n",
                        "\n",
                        "\n",
                        "Human: How do I research a new hobby I'm interested in.\n",
                        "\n",
                        "Assistant: Start by doing a basic online search for the hobby that you are interested in. Look for websites and resources that provide information about the hobby. \n",
                        "\n",
                        "2  Read descriptions of the hobby and find out what skills and materials you need in order to participate in it. \n",
                        "\n",
                        "3  Reach out to people who already practice the hobby and ask them questions about it. Check out hobby-related forums or discussion boards where people can share tips and advice.\n",
                        "\n",
                        "4  Watch videos and tutorials about the hobby. Join online communities dedicated to it and learn from experienced hobbyists. \n",
                        "\n",
                        "5  Research your local area for available classes or join a club or organization related to the hobby. Visit stores and shops that specialize in the hobby to get supplies and equipment. \n",
                        "\n",
                        "6  Experiment and explore different ways of practicing the hobby. Try to find resources that will help you track your progress and reach your goals. score: 9.735806465148926\n",
                        "selected---------\n",
                        "\n",
                        "\n",
                        "Human: How can I find a therapist that I can trust and is well suited to my needs.\n",
                        "\n",
                        "Assistant: One way to find a therapist that you can trust and is well suited to your needs is to do your research. Look for reviews online, ask friends and family for recommendations, and contact local therapists to ask questions and see if they would be a good fit. You can also consider asking your doctor or primary care provider for referrals, as they may have a better understanding of your needs and be able to suggest an appropriate therapist for you. score: 9.29820728302002\n",
                        "selected---------\n",
                        "\n",
                        "\n",
                        "Human: What is the best way to get rid of bugs in a houseplant.\n",
                        "\n",
                        "Assistant: The best way to get rid of bugs in a houseplant is to use a safe and natural insecticide such as neem oil or horticultural oil. Be sure to follow the instructions on the product label to ensure safe and effective use. Additionally, prune off affected branches and leaves and dispose of them away from the plant. For further prevention, ensure the plant is receiving enough light and water and that the soil is aerated to allow for adequate drainage. score: 8.79686450958252\n",
                        "selected---------\n",
                        "\n",
                        "\n",
                        "Human: How can I organize my desk space optimally.\n",
                        "\n",
                        "Assistant: One way to organize your desk space optimally is to divide up the space into zones for different activities, such as a space for writing and a space for computing. You can also use storage containers, shelves, and drawers to organize and store items, as well as use desk organizers to keep paperwork or other items arranged in an orderly fashion. You should also consider the desk layout and positioning of the items on your desk to make the most efficient use of your space. score: 9.419227600097656\n",
                        "selected---------\n",
                        "\n",
                        "\n",
                        "Human: How can I improve my public speaking skills.\n",
                        "\n",
                        "Assistant: One way to improve your public speaking skills is to practice as often as possible. Start by giving presentations in front of friends or family and gradually build up your confidence by presenting in front of larger groups. Practice making eye contact with your audience and speaking clearly and loudly. You may also want to research and become familiar with the topic you are going to speak about. Finally, take some time to visualize yourself talking confidently and successfully during the presentation. score: 9.557394027709961\n",
                        "selected---------\n",
                        "\n",
                        "\n",
                        "Human: What is the latest updates on developments in artificial intelligence.\n",
                        "\n",
                        "Assistant: According to recent reports, advancements in artificial intelligence are rapidly being made. Researchers have developed new techniques for enabling machines to analyze large amounts of data, as well as to become more intelligent in tasks such as natural language processing, image recognition, and self-driving cars. Additionally, new AI technologies are being used to solve complex problems such as helping reduce energy consumption and improving healthcare delivery. It is evident that AI is revolutionizing the way businesses and people interact with the world. score: 6.883419036865234\n",
                        "selected---------\n",
                        "\n",
                        "\n",
                        "Human: What is a low-cost way to travel Europe.\n",
                        "\n",
                        "Assistant: A great way to travel Europe on a budget is to take advantage of budget airlines like Ryanair, EasyJet, and WizzAir, which offer affordable flights between many cities throughout Europe. Additionally, using public transportation such as trains and buses can help you save money while exploring the continent. Staying in hostels and taking free walking tours can also be great cost-saving options. score: 10.405323028564453\n",
                        "selected---------\n",
                        "\n",
                        "\n",
                        "Human: What is the insect repellent that is most effective.\n",
                        "\n",
                        "Assistant: The most effective insect repellent is DEET. It has been proven to be the best at repelling insects for up to 8 hours. score: 0.7074573040008545\n",
                        "selected---------\n",
                        "\n",
                        "\n",
                        "Human: I'm looking for advice on starting a small business.\n",
                        "\n",
                        "Assistant: One of the best pieces of advice for starting a small business is to create a business plan. A business plan helps you develop a clear strategy for how you want to grow your business. It also keeps you organized and on track as you start your business. Additionally, a business plan can help you secure financing from investors or lenders. Finally, make sure that you research the market before starting your business and know your competitors. Good luck. score: 9.195566177368164\n",
                        "selected---------\n",
                        "\n",
                        "\n",
                        "Human: What's the best way to back up my computer data.\n",
                        "\n",
                        "Assistant: The best way to back up your computer data is to use an external hard drive or cloud storage services such as Google Drive or Dropbox. Regular backups should be done to ensure that all of your important files are securely stored. Additionally, it's important to check that your backups are working properly to prevent any data loss. score: 8.91793441772461\n",
                        "selected---------\n",
                        "\n",
                        "\n",
                        "Human: I'm trying to find a good place to watch a movie.\n",
                        "\n",
                        "Assistant: A good place to watch a movie is a movie theater. Many theaters offer comfortable seating, state-of-the-art audio and video equipment, as well as concessions like popcorn, candy and beverages. Some theaters also offer rewards programs and special discounts. Alternatively, you could consider opting for a night at home and ordering a movie through a streaming service like Netflix or Hulu. score: 8.771514892578125\n",
                        "selected---------\n",
                        "\n",
                        "\n",
                        "Human: What is the most secure way to store financial information.\n",
                        "\n",
                        "Assistant: The most secure way to store financial information is to encrypt it using a reliable and secure encryption software, such as AES-256 encryption. Additionally, it is important to store the data in a secure storage system and use strong passwords to protect access. Finally, ensure that backups are made so that the data can be quickly recovered in the event of a breach. score: 8.421823501586914\n",
                        "selected---------\n",
                        "\n",
                        "\n",
                        "Human: How do I apply for a passport in the USA.\n",
                        "\n",
                        "Assistant: In order to apply for a passport in the United States, you will need to submit a passport application form, proof of citizenship, and a valid form of identification. You can find the necessary forms on the U.S. State Department website and submit them either via mail or in person to a passport office or acceptance facility. Depending on the type of passport you are applying for, you may also need to provide a passport photo. score: 5.374741077423096\n",
                        "selected---------\n",
                        "\n",
                        "\n",
                        "Human: How do I make an easy 5-ingredient guacamole.\n",
                        "\n",
                        "Assistant: To make an easy 5-ingredient guacamole, you will need 2 avocados, 1/4 cup diced onion, 1/4 cup diced tomatoes, 1/4 teaspoon garlic powder and 2 tablespoons of lime juice. Begin by mashing the avocados in a bowl, then add all the other diced ingredients, garlic powder and lime juice. Mix all the ingredients together until evenly distributed and serve your homemade guacamole with your favorite chips or veggies. Enjoy. score: 9.10305404663086\n",
                        "selected---------\n",
                        "\n",
                        "\n",
                        "Human: What are some important tips for going on a long road trip.\n",
                        "\n",
                        "Assistant: Make sure your car is in good working condition before going on a long road trip, doing a full inspection and maintenance check. \n",
                        "2. Always plan ahead and make sure you have a good roadmap or navigation system. \n",
                        "3. Have plenty of snacks and drinks for your trip. \n",
                        "4. Pack an emergency kit with items like a first-aid kit, flashlights, jumper cables, blankets, and lots of water.\n",
                        "5. If you are driving a long distance, take frequent breaks to get some rest and move around.\n",
                        "6. Make sure your smartphone is fully charged and bring a phone charger, just in case. \n",
                        "7. Check the weather in your route and plan accordingly. \n",
                        "8. Let someone else know your route and approximate arrival time. score: 4.624629020690918\n",
                        "selected---------\n",
                        "\n",
                        "\n",
                        "Human: Where are the best places to find vegan friendly restaurants in New York City.\n",
                        "\n",
                        "Assistant: The best places to find vegan friendly restaurants in New York City are in popular vegan hotspots such as the East Village, Greenwich Village, Williamsburg, and Astoria. Other popular vegan restaurants throughout the city can be found in Harlem, the Lower East Side, Chelsea, and Chinatown. score: 8.186973571777344\n",
                        "selected---------\n",
                        "\n",
                        "\n",
                        "Human: What are the main components of a computer and how do they work together.\n",
                        "\n",
                        "Assistant: The main components of a computer are the processor, motherboard, memory, storage, power supply, display, and peripherals. The processor is the central processing unit of the computer, responsible for interpreting and executing instructions. The motherboard serves as a base for these components, providing power and a communication pathway for data transfer. Memory is used to store information that is temporarily used by the processor. Storage holds data and programs more permanently. The power supply converts alternating current from a power outlet to direct current that the computer can use, and the display is the visual output of the computer. The peripherals are the input and output devices, such as the keyboard, mouse, printer, and microphone, which allow the user to interact with the computer. All of these components work together to receive, process, and store information as instructed by the user. score: 8.950484275817871\n",
                        "selected---------\n",
                        "\n",
                        "\n",
                        "Human: Based on my credit score, what types of credit card and loan offers can I get.\n",
                        "\n",
                        "Assistant: A variety of options, including lower interest loans and credit card offers, that might be a good start, but you should speak with a credit expert. You can also share the information with a credit advisor to obtain an estimate of any future costs. score: 6.935842514038086\n",
                        "selected---------\n",
                        "\n",
                        "\n",
                        "Human: Does the size of a company and a company's budget determine the type of marketing they should do.\n",
                        "\n",
                        "Assistant: The size of a company and its budget can certainly be influential in determining the marketing strategies and tactics it should pursue. However, there are other factors to consider, such as the target audience, the company's objectives and goals, and available resources. Ultimately, a company should consider all of these elements to develop an effective marketing plan that meets its unique needs and goals. score: 9.486948013305664\n",
                        "selected---------\n",
                        "\n",
                        "\n",
                        "Human: I'm planning a big family reunion with relatives from out of town. How can I make sure that no one feels left out.\n",
                        "\n",
                        "Assistant: One way to make sure no one feels left out is to plan structured activities that everyone can take part in. This could include team-building games, icebreakers, or family-oriented games. Another idea could be to assign each family member a job, such as organizing the food, setting up decorations, or helping with activities. Doing this gives everyone a sense of belonging and purpose, helping them to feel included. You could also provide opportunities to be social, like group meals, or one-on-one conversations to get to know each other better. Finally, take the time to appreciate each family member, and ask open-ended questions that invite conversation. By creating an inviting and inclusive atmosphere, everyone will feel welcome and appreciated. score: 8.570709228515625\n",
                        "selected---------\n",
                        "\n",
                        "\n",
                        "Human: Is it better for my health to exercise for 20 minutes in the morning or take a break during the day for a 10 minute walk.\n",
                        "\n",
                        "Assistant: It's hard to say which is better for your health without knowing your specific health goals and lifestyle. However, both activities can be beneficial in different ways. Exercising for 20 minutes in the morning can give you a burst of energy and help set the tone for the rest of your day, while taking a short 10 minute walk during the day can provide a break from work and help you refocus and relax. Ultimately, it comes down to what works best for you and your individual needs. score: 8.559496879577637\n",
                        "selected---------\n",
                        "\n",
                        "\n",
                        "Human: Are there any online courses that I can take that would help me become a better leader.\n",
                        "\n",
                        "Assistant: Yes, there are many online courses that can help you become a better leader. You can find courses on topics such as communication, conflict resolution, team building, decision making, problem solving, goal setting, and more. score: 0.2441394329071045\n",
                        "Accuracy on different subset: 0.98\n"
                    ]
                }
            ]
        },
        {
            "cell_type": "code",
            "source": [
                "!pip freeze > requirements.txt"
            ],
            "metadata": {
                "id": "bv1MVV7hX645"
            },
            "id": "bv1MVV7hX645",
            "execution_count": 36,
            "outputs": []
        }
    ],
    "metadata": {
        "language_info": {
            "name": "python"
        },
        "colab": {
            "provenance": [],
            "include_colab_link": true
        },
        "kernelspec": {
            "name": "python3",
            "display_name": "Python 3"
        }
    },
    "nbformat": 4,
    "nbformat_minor": 5
}