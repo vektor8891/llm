{
 "cells": [
  {
   "cell_type": "code",
   "execution_count": null,
   "id": "0f17788e",
   "metadata": {},
   "outputs": [],
   "source": [
    "print(2)"
   ]
  }
 ],
 "metadata": {
  "language_info": {
   "name": "python"
  }
 },
 "nbformat": 4,
 "nbformat_minor": 5
}
