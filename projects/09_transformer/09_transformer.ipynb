{
  "cells": [
    {
      "cell_type": "markdown",
      "metadata": {
        "id": "view-in-github",
        "colab_type": "text"
      },
      "source": [
        "<a href=\"https://colab.research.google.com/github/vektor8891/llm/blob/main/projects/09_transformer/09_transformer.ipynb\" target=\"_parent\"><img src=\"https://colab.research.google.com/assets/colab-badge.svg\" alt=\"Open In Colab\"/></a>"
      ]
    },
    {
      "cell_type": "code",
      "source": [
        "# !pip install torchtext==0.15.1"
      ],
      "metadata": {
        "id": "8WmhQAn9gRI5"
      },
      "execution_count": 1,
      "outputs": []
    },
    {
      "cell_type": "markdown",
      "source": [
        "### Defining helper functions"
      ],
      "metadata": {
        "id": "g721_iLZfrTq"
      }
    },
    {
      "cell_type": "code",
      "execution_count": 9,
      "metadata": {
        "id": "m064v5HyeZHi"
      },
      "outputs": [],
      "source": [
        "import matplotlib.pyplot as plt\n",
        "\n",
        "def plot(COST,ACC):\n",
        "\n",
        "    fig, ax1 = plt.subplots()\n",
        "    color = 'tab:red'\n",
        "    ax1.plot(COST, color=color)\n",
        "    ax1.set_xlabel('epoch', color=color)\n",
        "    ax1.set_ylabel('total loss', color=color)\n",
        "    ax1.tick_params(axis='y', color=color)\n",
        "\n",
        "    ax2 = ax1.twinx()\n",
        "    color = 'tab:blue'\n",
        "    ax2.set_ylabel('accuracy', color=color)  # you already handled the x-label with ax1\n",
        "    ax2.plot(ACC, color=color)\n",
        "    ax2.tick_params(axis='y', color=color)\n",
        "    fig.tight_layout()  # otherwise the right y-label is slightly clipped\n",
        "\n",
        "    plt.show()\n",
        "\n",
        "def plot_embdings(my_embdings,name,vocab):\n",
        "\n",
        "  fig = plt.figure()\n",
        "  ax = fig.add_subplot(111, projection='3d')\n",
        "\n",
        "  # Plot the data points\n",
        "  ax.scatter(my_embdings[:,0], my_embdings[:,1], my_embdings[:,2])\n",
        "\n",
        "  # Label the points\n",
        "  for j, label in enumerate(name):\n",
        "      i=vocab.get_stoi()[label]\n",
        "      ax.text(my_embdings[j,0], my_embdings[j,1], my_embdings[j,2], label)\n",
        "\n",
        "  # Set axis labels\n",
        "  ax.set_xlabel('X Label')\n",
        "  ax.set_ylabel('Y Label')\n",
        "  ax.set_zlabel('Z Label')\n",
        "\n",
        "  # Show the plot\n",
        "  plt.show()\n",
        "\n",
        "\n",
        "\n",
        "def plot_tras(words, model):\n",
        "    # Tokenize the input words using a tokenizer function\n",
        "    tokens = tokenizer(words)\n",
        "\n",
        "    # Define the model's embedding dimension (d_model)\n",
        "    d_model = 100\n",
        "\n",
        "    # Convert the input words to a PyTorch tensor and move it to the specified device\n",
        "    x = torch.tensor(text_pipeline(words)).unsqueeze(0).to(device)\n",
        "\n",
        "    # Apply the model's embedding layer and scale the embeddings by sqrt(d_model)\n",
        "    x_ = model.emb(x) * math.sqrt(d_model)\n",
        "\n",
        "    # Apply the model's positional encoder to the embeddings\n",
        "    x = model.pos_encoder(x_)\n",
        "\n",
        "    # Extract projection weights for query, key, and value from the model's state_dict\n",
        "    q_proj_weight = model.state_dict()['transformer_encoder.layers.0.self_attn.in_proj_weight'][0:embed_dim].t()\n",
        "    k_proj_weight = model.state_dict()['transformer_encoder.layers.0.self_attn.in_proj_weight'][embed_dim:2*embed_dim].t()\n",
        "    v_proj_weight = model.state_dict()['transformer_encoder.layers.0.self_attn.in_proj_weight'][2*embed_dim:3*embed_dim].t()\n",
        "\n",
        "    # Calculate query (Q), key (K), and value (V) matrices\n",
        "    Q = (x @ q_proj_weight).squeeze(0)\n",
        "    K = (x @ k_proj_weight).squeeze(0)\n",
        "    V = (x @ v_proj_weight).squeeze(0)\n",
        "\n",
        "    # Calculate attention scores using dot-product attention\n",
        "    scores = Q @ K.T\n",
        "\n",
        "    # Set row and column labels for the attention matrix\n",
        "    row_labels = tokens\n",
        "    col_labels = row_labels\n",
        "\n",
        "    # Create a heatmap of the attention scores\n",
        "    plt.figure(figsize=(10, 8))\n",
        "    plt.imshow(scores.cpu().detach().numpy())\n",
        "    plt.yticks(range(len(row_labels)), row_labels)\n",
        "    plt.xticks(range(len(col_labels)), col_labels, rotation=90)\n",
        "    plt.title(\"Dot-Product Attention\")\n",
        "    plt.show()\n",
        "\n",
        "    # Apply softmax to the attention scores and create a heatmap\n",
        "    att = nn.Softmax(dim=1)(scores)\n",
        "    plt.figure(figsize=(10, 8))\n",
        "    plt.imshow(att.cpu().detach().numpy())\n",
        "    plt.yticks(range(len(row_labels)), row_labels)\n",
        "    plt.xticks(range(len(col_labels)), col_labels, rotation=90)\n",
        "    plt.title(\"Scaled Dot-Product Attention\")\n",
        "    plt.show()\n",
        "\n",
        "    # Calculate the attention head by multiplying softmax scores with values (V)\n",
        "    head = nn.Softmax(dim=1)(scores) @ V\n",
        "\n",
        "    # Visualize the embeddings and attention heads using t-SNE\n",
        "    tsne(x_, tokens, title=\"Embeddings\")\n",
        "    tsne(head, tokens, title=\"Attention Heads\")\n",
        "\n",
        "\n",
        "def tsne(embeddings, tokens, title=\"Embeddings\"):\n",
        "    # Initialize t-SNE with 2 components and a fixed random state\n",
        "    tsne = TSNE(n_components=2, random_state=0)\n",
        "\n",
        "    # Fit t-SNE to the embeddings (converting from GPU if necessary)\n",
        "    tsne_result = tsne.fit_transform(embeddings.squeeze(0).cpu().detach().numpy())\n",
        "\n",
        "    # Create a scatter plot of the t-SNE results\n",
        "    plt.scatter(tsne_result[:, 0], tsne_result[:, 1])\n",
        "\n",
        "    # Set a title for the plot\n",
        "    plt.title(title)\n",
        "\n",
        "    # Add labels for each point in the scatter plot\n",
        "    for j, label in enumerate(tokens):\n",
        "        # Place the label text at the corresponding t-SNE coordinates\n",
        "        plt.text(tsne_result[j, 0], tsne_result[j, 1], label)\n",
        "\n",
        "    plt.show()\n",
        "\n",
        "def save_list_to_file(lst, filename):\n",
        "    \"\"\"\n",
        "    Save a list to a file using pickle serialization.\n",
        "\n",
        "    Parameters:\n",
        "        lst (list): The list to be saved.\n",
        "        filename (str): The name of the file to save the list to.\n",
        "\n",
        "    Returns:\n",
        "        None\n",
        "    \"\"\"\n",
        "    with open(filename, 'wb') as file:\n",
        "        pickle.dump(lst, file)\n",
        "\n",
        "def load_list_from_file(filename):\n",
        "    \"\"\"\n",
        "    Load a list from a file using pickle deserialization.\n",
        "\n",
        "    Parameters:\n",
        "        filename (str): The name of the file to load the list from.\n",
        "\n",
        "    Returns:\n",
        "        list: The loaded list.\n",
        "    \"\"\"\n",
        "    with open(filename, 'rb') as file:\n",
        "        loaded_list = pickle.load(file)\n",
        "    return loaded_list"
      ]
    },
    {
      "cell_type": "markdown",
      "source": [
        "## Toy dataset"
      ],
      "metadata": {
        "id": "KViSZEtzf3rd"
      }
    },
    {
      "cell_type": "code",
      "source": [
        "from torchtext.data.utils import get_tokenizer\n",
        "from torchtext.vocab import build_vocab_from_iterator\n",
        "\n",
        "dataset = [\n",
        "    (1,\"Introduction to NLP\"),\n",
        "    (2,\"Basics of PyTorch\"),\n",
        "    (1,\"NLP Techniques for Text Classification\"),\n",
        "    (3,\"Named Entity Recognition with PyTorch\"),\n",
        "    (3,\"Sentiment Analysis using PyTorch\"),\n",
        "    (3,\"Machine Translation with PyTorch\"),\n",
        "    (1,\" NLP Named Entity,Sentiment Analysis,Machine Translation \"),\n",
        "    (1,\" Machine Translation with NLP \"),\n",
        "    (1,\" Named Entity vs Sentiment Analysis  NLP \"),\n",
        "    (3,\"he painted the car red\"),\n",
        "    (1,\"he painted the red car\")\n",
        "    ]\n",
        "\n",
        "tokenizer = get_tokenizer(\"basic_english\")\n",
        "\n",
        "def yield_tokens(data_iter):\n",
        "    for  _,text in data_iter:\n",
        "        yield tokenizer(text)\n",
        "\n",
        "vocab = build_vocab_from_iterator(yield_tokens(dataset), specials=[\"<unk>\"])\n",
        "vocab.set_default_index(vocab[\"<unk>\"])\n",
        "\n",
        "def text_pipeline(x):\n",
        "  return vocab(tokenizer(x))\n",
        "\n",
        "def label_pipeline(x):\n",
        "   return int(x) - 1"
      ],
      "metadata": {
        "id": "KnX_hZGlf4DZ"
      },
      "execution_count": 3,
      "outputs": []
    },
    {
      "cell_type": "markdown",
      "source": [
        "## Zero padding"
      ],
      "metadata": {
        "id": "Eaxax-0xf_bP"
      }
    },
    {
      "cell_type": "code",
      "source": [
        "import torch\n",
        "\n",
        "sequences = [torch.tensor([j for j in range(1,i)]) for i in range(2,10)]\n",
        "sequences"
      ],
      "metadata": {
        "id": "Dcd4EeF8f-iV",
        "outputId": "2bf4337a-76ca-44dc-87c1-856fcea04d88",
        "colab": {
          "base_uri": "https://localhost:8080/"
        }
      },
      "execution_count": 4,
      "outputs": [
        {
          "output_type": "execute_result",
          "data": {
            "text/plain": [
              "[tensor([1]),\n",
              " tensor([1, 2]),\n",
              " tensor([1, 2, 3]),\n",
              " tensor([1, 2, 3, 4]),\n",
              " tensor([1, 2, 3, 4, 5]),\n",
              " tensor([1, 2, 3, 4, 5, 6]),\n",
              " tensor([1, 2, 3, 4, 5, 6, 7]),\n",
              " tensor([1, 2, 3, 4, 5, 6, 7, 8])]"
            ]
          },
          "metadata": {},
          "execution_count": 4
        }
      ]
    },
    {
      "cell_type": "code",
      "source": [
        "from torch.nn.utils.rnn import pad_sequence\n",
        "\n",
        "padded_sequences = pad_sequence(sequences, batch_first=True, padding_value=0)\n",
        "print(padded_sequences)"
      ],
      "metadata": {
        "id": "fqbFZzz4iH23",
        "outputId": "887bccd6-491a-4bd3-a3d0-b5d3fde64be7",
        "colab": {
          "base_uri": "https://localhost:8080/"
        }
      },
      "execution_count": 5,
      "outputs": [
        {
          "output_type": "stream",
          "name": "stdout",
          "text": [
            "tensor([[1, 0, 0, 0, 0, 0, 0, 0],\n",
            "        [1, 2, 0, 0, 0, 0, 0, 0],\n",
            "        [1, 2, 3, 0, 0, 0, 0, 0],\n",
            "        [1, 2, 3, 4, 0, 0, 0, 0],\n",
            "        [1, 2, 3, 4, 5, 0, 0, 0],\n",
            "        [1, 2, 3, 4, 5, 6, 0, 0],\n",
            "        [1, 2, 3, 4, 5, 6, 7, 0],\n",
            "        [1, 2, 3, 4, 5, 6, 7, 8]])\n"
          ]
        }
      ]
    },
    {
      "cell_type": "markdown",
      "source": [
        "## Positional encodings"
      ],
      "metadata": {
        "id": "IADVnuT3ibPk"
      }
    },
    {
      "cell_type": "code",
      "source": [
        "import torch.nn as nn\n",
        "\n",
        "my_tokens='he painted the car red he painted the red car'\n",
        "\n",
        "my_index=text_pipeline(my_tokens)\n",
        "my_index\n",
        "\n",
        "embedding_dim=3\n",
        "\n",
        "vocab_size=len(vocab)\n",
        "print(vocab_size)\n",
        "\n",
        "embedding = nn.Embedding(vocab_size, embedding_dim)"
      ],
      "metadata": {
        "id": "HbXB0mTeiUr7",
        "outputId": "0345b4b7-fd27-4fba-ce4e-1a6ecaed8eae",
        "colab": {
          "base_uri": "https://localhost:8080/"
        }
      },
      "execution_count": 6,
      "outputs": [
        {
          "output_type": "stream",
          "name": "stdout",
          "text": [
            "27\n"
          ]
        }
      ]
    },
    {
      "cell_type": "code",
      "source": [
        "# !pip uninstall numpy\n",
        "# !pip install \"numpy<2\""
      ],
      "metadata": {
        "id": "GHPDYNXuiqfp"
      },
      "execution_count": 7,
      "outputs": []
    },
    {
      "cell_type": "code",
      "source": [
        "my_embdings = embedding(torch.tensor(my_index)).detach().numpy()\n",
        "plot_embdings(my_embdings,tokenizer(my_tokens),vocab)"
      ],
      "metadata": {
        "id": "j8Maui7EifEB",
        "outputId": "09d546e8-f813-4bee-add1-3fe80017a8bf",
        "colab": {
          "base_uri": "https://localhost:8080/",
          "height": 415
        }
      },
      "execution_count": 10,
      "outputs": [
        {
          "output_type": "display_data",
          "data": {
            "text/plain": [
              "<Figure size 640x480 with 1 Axes>"
            ],
            "image/png": "[encoded data removed]"
          },
          "metadata": {}
        }
      ]
    },
    {
      "cell_type": "code",
      "source": [
        "class PositionalEncoding(nn.Module):\n",
        "    \"\"\"\n",
        "    https://pytorch.org/tutorials/beginner/transformer_tutorial.html\n",
        "    \"\"\"\n",
        "\n",
        "    def __init__(self, d_model, vocab_size=5000, dropout=0.1):\n",
        "        super().__init__()\n",
        "        self.dropout = nn.Dropout(p=dropout)\n",
        "\n",
        "        pe = torch.zeros(vocab_size, d_model)\n",
        "        position = torch.arange(0, vocab_size, dtype=torch.float).unsqueeze(1)\n",
        "        div_term = torch.exp(\n",
        "            torch.arange(0, d_model, 2).float()\n",
        "            * (-math.log(10000.0) / d_model)\n",
        "        )\n",
        "        pe[:, 0::2] = torch.sin(position * div_term)\n",
        "        pe[:, 1::2] = torch.cos(position * div_term)\n",
        "        pe = pe.unsqueeze(0)\n",
        "        self.register_buffer(\"pe\", pe)\n",
        "\n",
        "    def forward(self, x):\n",
        "        x = x + self.pe[:, : x.size(1), :]\n",
        "        return self.dropout(x)"
      ],
      "metadata": {
        "id": "PwHOshyQjDfP"
      },
      "execution_count": 14,
      "outputs": []
    },
    {
      "cell_type": "markdown",
      "source": [
        "## Encoder layer"
      ],
      "metadata": {
        "id": "_Lj3Y3KDjPE0"
      }
    },
    {
      "cell_type": "code",
      "source": [
        "encoder_layer=nn.TransformerEncoderLayer(\n",
        "            d_model=3,\n",
        "            nhead=1,\n",
        "            dim_feedforward=1,\n",
        "            dropout=0,\n",
        "        )\n",
        "\n",
        "embed_dim=3\n",
        "q_proj_weight = encoder_layer.state_dict()['self_attn.in_proj_weight'][0:embed_dim].t()\n",
        "k_proj_weight = encoder_layer.state_dict()['self_attn.in_proj_weight'][embed_dim:2*embed_dim].t()\n",
        "v_proj_weight = encoder_layer.state_dict()['self_attn.in_proj_weight'][2*embed_dim:3*embed_dim].t()"
      ],
      "metadata": {
        "id": "fvnxE0txjNVQ"
      },
      "execution_count": 16,
      "outputs": []
    },
    {
      "cell_type": "markdown",
      "source": [
        "## Query, key, and value"
      ],
      "metadata": {
        "id": "_I6szbGLjeye"
      }
    },
    {
      "cell_type": "code",
      "source": [
        "my_embdings_torch = torch.tensor(my_embdings)\n",
        "Q = my_embdings_torch@q_proj_weight\n",
        "K = my_embdings_torch@k_proj_weight\n",
        "V = my_embdings_torch@v_proj_weight"
      ],
      "metadata": {
        "id": "IfkBTRoTjZjH"
      },
      "execution_count": 28,
      "outputs": []
    },
    {
      "cell_type": "code",
      "source": [
        "import numpy as np\n",
        "\n",
        "scores=Q@K.T/np.sqrt(embed_dim)\n",
        "scores"
      ],
      "metadata": {
        "id": "YJQLHI4jjgn1",
        "outputId": "55109adf-ee4c-4e58-ff2c-5c7ab1b8608c",
        "colab": {
          "base_uri": "https://localhost:8080/"
        }
      },
      "execution_count": 29,
      "outputs": [
        {
          "output_type": "execute_result",
          "data": {
            "text/plain": [
              "tensor([[-0.1127,  0.2691, -0.0379, -0.0034, -0.0630, -0.1127,  0.2691, -0.0379,\n",
              "         -0.0630, -0.0034],\n",
              "        [ 0.0435,  0.3606, -1.0066, -0.2458, -0.4223,  0.0435,  0.3606, -1.0066,\n",
              "         -0.4223, -0.2458],\n",
              "        [-0.1464, -0.3583,  1.2407,  0.2517,  0.3297, -0.1464, -0.3583,  1.2407,\n",
              "          0.3297,  0.2517],\n",
              "        [-0.1567,  0.2685,  0.0587, -0.0031, -0.1078, -0.1567,  0.2685,  0.0587,\n",
              "         -0.1078, -0.0031],\n",
              "        [-0.4565,  0.9596, -0.1364, -0.0663, -0.4017, -0.4565,  0.9596, -0.1364,\n",
              "         -0.4017, -0.0663],\n",
              "        [-0.1127,  0.2691, -0.0379, -0.0034, -0.0630, -0.1127,  0.2691, -0.0379,\n",
              "         -0.0630, -0.0034],\n",
              "        [ 0.0435,  0.3606, -1.0066, -0.2458, -0.4223,  0.0435,  0.3606, -1.0066,\n",
              "         -0.4223, -0.2458],\n",
              "        [-0.1464, -0.3583,  1.2407,  0.2517,  0.3297, -0.1464, -0.3583,  1.2407,\n",
              "          0.3297,  0.2517],\n",
              "        [-0.4565,  0.9596, -0.1364, -0.0663, -0.4017, -0.4565,  0.9596, -0.1364,\n",
              "         -0.4017, -0.0663],\n",
              "        [-0.1567,  0.2685,  0.0587, -0.0031, -0.1078, -0.1567,  0.2685,  0.0587,\n",
              "         -0.1078, -0.0031]])"
            ]
          },
          "metadata": {},
          "execution_count": 29
        }
      ]
    },
    {
      "cell_type": "code",
      "source": [
        "head=nn.Softmax(dim=1)(scores)@V\n",
        "head"
      ],
      "metadata": {
        "id": "PvM-ymJBkZUK",
        "outputId": "7c8c6983-5540-4780-95cb-013dc60a299d",
        "colab": {
          "base_uri": "https://localhost:8080/"
        }
      },
      "execution_count": 30,
      "outputs": [
        {
          "output_type": "execute_result",
          "data": {
            "text/plain": [
              "tensor([[-0.0019, -0.3844, -0.1744],\n",
              "        [ 0.3224, -0.1657, -0.0537],\n",
              "        [-0.7402, -0.8248, -0.4393],\n",
              "        [-0.0211, -0.4030, -0.1995],\n",
              "        [ 0.6162, -0.1542, -0.2282],\n",
              "        [-0.0019, -0.3844, -0.1744],\n",
              "        [ 0.3224, -0.1657, -0.0537],\n",
              "        [-0.7402, -0.8248, -0.4393],\n",
              "        [ 0.6162, -0.1542, -0.2282],\n",
              "        [-0.0211, -0.4030, -0.1995]])"
            ]
          },
          "metadata": {},
          "execution_count": 30
        }
      ]
    },
    {
      "cell_type": "markdown",
      "source": [
        "## Attention weights and linear transformation"
      ],
      "metadata": {
        "id": "vRpmdU7kk52S"
      }
    },
    {
      "cell_type": "code",
      "source": [],
      "metadata": {
        "id": "8u8zpciXkiRv"
      },
      "execution_count": null,
      "outputs": []
    }
  ],
  "metadata": {
    "kernelspec": {
      "display_name": ".venv",
      "language": "python",
      "name": "python3"
    },
    "language_info": {
      "codemirror_mode": {
        "name": "ipython",
        "version": 3
      },
      "file_extension": ".py",
      "mimetype": "text/x-python",
      "name": "python",
      "nbconvert_exporter": "python",
      "pygments_lexer": "ipython3",
      "version": "3.13.2"
    },
    "colab": {
      "provenance": [],
      "include_colab_link": true
    }
  },
  "nbformat": 4,
  "nbformat_minor": 0
}