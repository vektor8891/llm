{
 "cells": [
  {
   "cell_type": "code",
   "execution_count": null,
   "id": "70d9e622",
   "metadata": {},
   "outputs": [],
   "source": [
    "print(32)"
   ]
  }
 ],
 "metadata": {
  "language_info": {
   "name": "python"
  }
 },
 "nbformat": 4,
 "nbformat_minor": 5
}
