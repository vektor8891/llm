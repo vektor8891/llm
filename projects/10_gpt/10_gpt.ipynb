{
  "cells": [
    {
      "cell_type": "markdown",
      "metadata": {
        "id": "view-in-github",
        "colab_type": "text"
      },
      "source": [
        "<a href=\"https://colab.research.google.com/github/vektor8891/llm/blob/main/projects/10_gpt/10_gpt.ipynb\" target=\"_parent\"><img src=\"https://colab.research.google.com/assets/colab-badge.svg\" alt=\"Open In Colab\"/></a>"
      ]
    },
    {
      "cell_type": "code",
      "source": [
        "# !pip install torchtext==0.15.1\n",
        "# !pip install portalocker"
      ],
      "metadata": {
        "id": "nUd6MmhF_-Ri"
      },
      "id": "nUd6MmhF_-Ri",
      "execution_count": 1,
      "outputs": []
    },
    {
      "cell_type": "markdown",
      "source": [
        "# Text pipeline\n",
        "## Dataset"
      ],
      "metadata": {
        "id": "jp9g4GFg_zaF"
      },
      "id": "jp9g4GFg_zaF"
    },
    {
      "cell_type": "code",
      "execution_count": 2,
      "id": "a0947318",
      "metadata": {
        "id": "a0947318"
      },
      "outputs": [],
      "source": [
        "from torchtext.datasets import IMDB\n",
        "\n",
        "# Load the dataset\n",
        "train_iter, val_iter = IMDB()"
      ]
    },
    {
      "cell_type": "code",
      "execution_count": 3,
      "id": "ae24860f",
      "metadata": {
        "id": "ae24860f",
        "outputId": "ea99e1bf-4324-4b43-cea3-4ed60433724e",
        "colab": {
          "base_uri": "https://localhost:8080/"
        }
      },
      "outputs": [
        {
          "output_type": "execute_result",
          "data": {
            "text/plain": [
              "(1,\n",
              " \"If only to avoid making this type of film in the future. This film is interesting as an experiment but tells no cogent story.<br /><br />One might feel virtuous for sitting thru it because it touches on so many IMPORTANT issues but it does so without any discernable motive. The viewer comes away with no new perspectives (unless one comes up with one while one's mind wanders, as it will invariably do during this pointless film).<br /><br />One might better spend one's time staring out a window at a tree growing.<br /><br />\")"
            ]
          },
          "metadata": {},
          "execution_count": 3
        }
      ],
      "source": [
        "data_itr=iter(train_iter)\n",
        "# retrieving the third first record\n",
        "next(data_itr)\n",
        "next(data_itr)\n",
        "next(data_itr)"
      ]
    },
    {
      "cell_type": "code",
      "source": [
        "import torch\n",
        "\n",
        "DEVICE = torch.device('cuda' if torch.cuda.is_available() else 'cpu')\n",
        "DEVICE"
      ],
      "metadata": {
        "id": "Hf7mxFi9A7KR",
        "outputId": "59af42ed-1d24-476b-c08d-f2af1e867e20",
        "colab": {
          "base_uri": "https://localhost:8080/"
        }
      },
      "id": "Hf7mxFi9A7KR",
      "execution_count": 8,
      "outputs": [
        {
          "output_type": "execute_result",
          "data": {
            "text/plain": [
              "device(type='cpu')"
            ]
          },
          "metadata": {},
          "execution_count": 8
        }
      ]
    },
    {
      "cell_type": "markdown",
      "source": [
        "## Preprocessing data"
      ],
      "metadata": {
        "id": "mkFJfJW4BsvB"
      },
      "id": "mkFJfJW4BsvB"
    },
    {
      "cell_type": "code",
      "source": [
        "# Define special symbols and indices\n",
        "UNK_IDX, PAD_IDX, EOS_IDX = 0, 1, 2\n",
        "# Make sure the tokens are in order of their indices to properly insert them in vocab\n",
        "special_symbols = ['<unk>', '<pad>', '<|endoftext|>' ]"
      ],
      "metadata": {
        "id": "bYQMKgJ7BsU3"
      },
      "id": "bYQMKgJ7BsU3",
      "execution_count": 5,
      "outputs": []
    },
    {
      "cell_type": "code",
      "source": [
        "from torchtext.data.utils import get_tokenizer\n",
        "\n",
        "tokenizer = get_tokenizer(\"basic_english\")"
      ],
      "metadata": {
        "id": "5trXDm52BkpC"
      },
      "id": "5trXDm52BkpC",
      "execution_count": 6,
      "outputs": []
    },
    {
      "cell_type": "code",
      "source": [
        "from torchtext.vocab import build_vocab_from_iterator\n",
        "\n",
        "def yield_tokens(data_iter):\n",
        "\n",
        "    for _,data_sample in data_iter:\n",
        "        yield  tokenizer(data_sample)\n",
        "\n",
        "vocab = build_vocab_from_iterator(yield_tokens(train_iter), specials=special_symbols, special_first=True)\n",
        "vocab.set_default_index(UNK_IDX)"
      ],
      "metadata": {
        "id": "_B4vrLbwBz2Y",
        "outputId": "ab990b94-bc2d-400e-f928-46ffcad97f5f",
        "colab": {
          "base_uri": "https://localhost:8080/"
        }
      },
      "id": "_B4vrLbwBz2Y",
      "execution_count": 7,
      "outputs": [
        {
          "output_type": "stream",
          "name": "stderr",
          "text": [
            "/usr/local/lib/python3.11/dist-packages/torch/utils/data/datapipes/iter/combining.py:297: UserWarning: Some child DataPipes are not exhausted when __iter__ is called. We are resetting the buffer and each child DataPipe will read from the start again.\n",
            "  warnings.warn(\"Some child DataPipes are not exhausted when __iter__ is called. We are resetting \"\n"
          ]
        }
      ]
    },
    {
      "cell_type": "markdown",
      "source": [
        "###  Text to index and index to Text"
      ],
      "metadata": {
        "id": "e1e-_-qRC1Sh"
      },
      "id": "e1e-_-qRC1Sh"
    },
    {
      "cell_type": "code",
      "source": [
        "text_to_index=lambda text: [vocab(token) for token in tokenizer(text)]\n",
        "index_to_en = lambda seq_en: \" \".join([vocab.get_itos()[index] for index in seq_en])"
      ],
      "metadata": {
        "id": "8rkuKSjwB5Rn"
      },
      "id": "8rkuKSjwB5Rn",
      "execution_count": 9,
      "outputs": []
    },
    {
      "cell_type": "code",
      "source": [
        "#check\n",
        "index_to_en(torch.tensor([0,1,2]))"
      ],
      "metadata": {
        "id": "VF-tFTKuC3uW",
        "outputId": "c923680c-c561-4dea-96a3-a7c7236b556b",
        "colab": {
          "base_uri": "https://localhost:8080/",
          "height": 35
        }
      },
      "id": "VF-tFTKuC3uW",
      "execution_count": 10,
      "outputs": [
        {
          "output_type": "execute_result",
          "data": {
            "text/plain": [
              "'<unk> <pad> <|endoftext|>'"
            ],
            "application/vnd.google.colaboratory.intrinsic+json": {
              "type": "string"
            }
          },
          "metadata": {},
          "execution_count": 10
        }
      ]
    },
    {
      "cell_type": "markdown",
      "source": [
        "### Collate function"
      ],
      "metadata": {
        "id": "rKtMsk25DCZy"
      },
      "id": "rKtMsk25DCZy"
    },
    {
      "cell_type": "code",
      "source": [
        "def get_sample(block_size, text):\n",
        "    # Determine the length of the input text\n",
        "    sample_leg = len(text)\n",
        "    # Calculate the stopping point for randomly selecting a sample\n",
        "    # This ensures the selected sample doesn't exceed the text length\n",
        "    random_sample_stop = sample_leg - block_size\n",
        "\n",
        "\n",
        "    # Check if a random sample can be taken (if the text is longer than block_size)\n",
        "    if random_sample_stop >= 1:\n",
        "        # Randomly select a starting point for the sample\n",
        "        random_start = torch.randint(low=0, high=random_sample_stop, size=(1,)).item()\n",
        "        # Define the endpoint of the sample\n",
        "        stop = random_start + block_size\n",
        "\n",
        "        # Create the input and target sequences\n",
        "        src_sequence = text[random_start:stop]\n",
        "        tgt_sequence= text[random_start + 1:stop + 1]\n",
        "\n",
        "    # Handle the case where the text length is exactly equal or less the block size\n",
        "    elif random_sample_stop <= 0:\n",
        "        # Start from the beginning and use the entire text\n",
        "        random_start = 0\n",
        "        stop = sample_leg\n",
        "        src_sequence= text[random_start:stop]\n",
        "        tgt_sequence = text[random_start + 1:stop]\n",
        "        # Append an empty string to maintain sequence alignment\n",
        "        tgt_sequence.append( '<|endoftext|>')\n",
        "\n",
        "    return src_sequence, tgt_sequence"
      ],
      "metadata": {
        "id": "gLOi7hJ6C7X0"
      },
      "id": "gLOi7hJ6C7X0",
      "execution_count": 11,
      "outputs": []
    },
    {
      "cell_type": "code",
      "source": [
        "BATCH_SIZE=1\n",
        "\n",
        "batch_of_tokens=[]\n",
        "\n",
        "for i in range(BATCH_SIZE):\n",
        "  _,text =next(iter(train_iter))\n",
        "  batch_of_tokens.append(tokenizer(text))"
      ],
      "metadata": {
        "id": "buYKCfpRDETB"
      },
      "id": "buYKCfpRDETB",
      "execution_count": 12,
      "outputs": []
    },
    {
      "cell_type": "code",
      "source": [
        "text=batch_of_tokens[0][0:100]\n",
        "text[0:100]\n",
        "batch_of_tokens"
      ],
      "metadata": {
        "id": "saEpbN5oDF5z",
        "outputId": "0633ad28-0446-4dc9-e1df-574e489c51a4",
        "colab": {
          "base_uri": "https://localhost:8080/"
        }
      },
      "id": "saEpbN5oDF5z",
      "execution_count": 13,
      "outputs": [
        {
          "output_type": "execute_result",
          "data": {
            "text/plain": [
              "[['i',\n",
              "  'rented',\n",
              "  'i',\n",
              "  'am',\n",
              "  'curious-yellow',\n",
              "  'from',\n",
              "  'my',\n",
              "  'video',\n",
              "  'store',\n",
              "  'because',\n",
              "  'of',\n",
              "  'all',\n",
              "  'the',\n",
              "  'controversy',\n",
              "  'that',\n",
              "  'surrounded',\n",
              "  'it',\n",
              "  'when',\n",
              "  'it',\n",
              "  'was',\n",
              "  'first',\n",
              "  'released',\n",
              "  'in',\n",
              "  '1967',\n",
              "  '.',\n",
              "  'i',\n",
              "  'also',\n",
              "  'heard',\n",
              "  'that',\n",
              "  'at',\n",
              "  'first',\n",
              "  'it',\n",
              "  'was',\n",
              "  'seized',\n",
              "  'by',\n",
              "  'u',\n",
              "  '.',\n",
              "  's',\n",
              "  '.',\n",
              "  'customs',\n",
              "  'if',\n",
              "  'it',\n",
              "  'ever',\n",
              "  'tried',\n",
              "  'to',\n",
              "  'enter',\n",
              "  'this',\n",
              "  'country',\n",
              "  ',',\n",
              "  'therefore',\n",
              "  'being',\n",
              "  'a',\n",
              "  'fan',\n",
              "  'of',\n",
              "  'films',\n",
              "  'considered',\n",
              "  'controversial',\n",
              "  'i',\n",
              "  'really',\n",
              "  'had',\n",
              "  'to',\n",
              "  'see',\n",
              "  'this',\n",
              "  'for',\n",
              "  'myself',\n",
              "  '.',\n",
              "  'the',\n",
              "  'plot',\n",
              "  'is',\n",
              "  'centered',\n",
              "  'around',\n",
              "  'a',\n",
              "  'young',\n",
              "  'swedish',\n",
              "  'drama',\n",
              "  'student',\n",
              "  'named',\n",
              "  'lena',\n",
              "  'who',\n",
              "  'wants',\n",
              "  'to',\n",
              "  'learn',\n",
              "  'everything',\n",
              "  'she',\n",
              "  'can',\n",
              "  'about',\n",
              "  'life',\n",
              "  '.',\n",
              "  'in',\n",
              "  'particular',\n",
              "  'she',\n",
              "  'wants',\n",
              "  'to',\n",
              "  'focus',\n",
              "  'her',\n",
              "  'attentions',\n",
              "  'to',\n",
              "  'making',\n",
              "  'some',\n",
              "  'sort',\n",
              "  'of',\n",
              "  'documentary',\n",
              "  'on',\n",
              "  'what',\n",
              "  'the',\n",
              "  'average',\n",
              "  'swede',\n",
              "  'thought',\n",
              "  'about',\n",
              "  'certain',\n",
              "  'political',\n",
              "  'issues',\n",
              "  'such',\n",
              "  'as',\n",
              "  'the',\n",
              "  'vietnam',\n",
              "  'war',\n",
              "  'and',\n",
              "  'race',\n",
              "  'issues',\n",
              "  'in',\n",
              "  'the',\n",
              "  'united',\n",
              "  'states',\n",
              "  '.',\n",
              "  'in',\n",
              "  'between',\n",
              "  'asking',\n",
              "  'politicians',\n",
              "  'and',\n",
              "  'ordinary',\n",
              "  'denizens',\n",
              "  'of',\n",
              "  'stockholm',\n",
              "  'about',\n",
              "  'their',\n",
              "  'opinions',\n",
              "  'on',\n",
              "  'politics',\n",
              "  ',',\n",
              "  'she',\n",
              "  'has',\n",
              "  'sex',\n",
              "  'with',\n",
              "  'her',\n",
              "  'drama',\n",
              "  'teacher',\n",
              "  ',',\n",
              "  'classmates',\n",
              "  ',',\n",
              "  'and',\n",
              "  'married',\n",
              "  'men',\n",
              "  '.',\n",
              "  'what',\n",
              "  'kills',\n",
              "  'me',\n",
              "  'about',\n",
              "  'i',\n",
              "  'am',\n",
              "  'curious-yellow',\n",
              "  'is',\n",
              "  'that',\n",
              "  '40',\n",
              "  'years',\n",
              "  'ago',\n",
              "  ',',\n",
              "  'this',\n",
              "  'was',\n",
              "  'considered',\n",
              "  'pornographic',\n",
              "  '.',\n",
              "  'really',\n",
              "  ',',\n",
              "  'the',\n",
              "  'sex',\n",
              "  'and',\n",
              "  'nudity',\n",
              "  'scenes',\n",
              "  'are',\n",
              "  'few',\n",
              "  'and',\n",
              "  'far',\n",
              "  'between',\n",
              "  ',',\n",
              "  'even',\n",
              "  'then',\n",
              "  'it',\n",
              "  \"'\",\n",
              "  's',\n",
              "  'not',\n",
              "  'shot',\n",
              "  'like',\n",
              "  'some',\n",
              "  'cheaply',\n",
              "  'made',\n",
              "  'porno',\n",
              "  '.',\n",
              "  'while',\n",
              "  'my',\n",
              "  'countrymen',\n",
              "  'mind',\n",
              "  'find',\n",
              "  'it',\n",
              "  'shocking',\n",
              "  ',',\n",
              "  'in',\n",
              "  'reality',\n",
              "  'sex',\n",
              "  'and',\n",
              "  'nudity',\n",
              "  'are',\n",
              "  'a',\n",
              "  'major',\n",
              "  'staple',\n",
              "  'in',\n",
              "  'swedish',\n",
              "  'cinema',\n",
              "  '.',\n",
              "  'even',\n",
              "  'ingmar',\n",
              "  'bergman',\n",
              "  ',',\n",
              "  'arguably',\n",
              "  'their',\n",
              "  'answer',\n",
              "  'to',\n",
              "  'good',\n",
              "  'old',\n",
              "  'boy',\n",
              "  'john',\n",
              "  'ford',\n",
              "  ',',\n",
              "  'had',\n",
              "  'sex',\n",
              "  'scenes',\n",
              "  'in',\n",
              "  'his',\n",
              "  'films',\n",
              "  '.',\n",
              "  'i',\n",
              "  'do',\n",
              "  'commend',\n",
              "  'the',\n",
              "  'filmmakers',\n",
              "  'for',\n",
              "  'the',\n",
              "  'fact',\n",
              "  'that',\n",
              "  'any',\n",
              "  'sex',\n",
              "  'shown',\n",
              "  'in',\n",
              "  'the',\n",
              "  'film',\n",
              "  'is',\n",
              "  'shown',\n",
              "  'for',\n",
              "  'artistic',\n",
              "  'purposes',\n",
              "  'rather',\n",
              "  'than',\n",
              "  'just',\n",
              "  'to',\n",
              "  'shock',\n",
              "  'people',\n",
              "  'and',\n",
              "  'make',\n",
              "  'money',\n",
              "  'to',\n",
              "  'be',\n",
              "  'shown',\n",
              "  'in',\n",
              "  'pornographic',\n",
              "  'theaters',\n",
              "  'in',\n",
              "  'america',\n",
              "  '.',\n",
              "  'i',\n",
              "  'am',\n",
              "  'curious-yellow',\n",
              "  'is',\n",
              "  'a',\n",
              "  'good',\n",
              "  'film',\n",
              "  'for',\n",
              "  'anyone',\n",
              "  'wanting',\n",
              "  'to',\n",
              "  'study',\n",
              "  'the',\n",
              "  'meat',\n",
              "  'and',\n",
              "  'potatoes',\n",
              "  '(',\n",
              "  'no',\n",
              "  'pun',\n",
              "  'intended',\n",
              "  ')',\n",
              "  'of',\n",
              "  'swedish',\n",
              "  'cinema',\n",
              "  '.',\n",
              "  'but',\n",
              "  'really',\n",
              "  ',',\n",
              "  'this',\n",
              "  'film',\n",
              "  'doesn',\n",
              "  \"'\",\n",
              "  't',\n",
              "  'have',\n",
              "  'much',\n",
              "  'of',\n",
              "  'a',\n",
              "  'plot',\n",
              "  '.']]"
            ]
          },
          "metadata": {},
          "execution_count": 13
        }
      ]
    },
    {
      "cell_type": "code",
      "source": [
        "block_size=10\n",
        "src_sequences, tgt_sequence=get_sample( block_size, text)"
      ],
      "metadata": {
        "id": "nRYzNzCQDKax"
      },
      "id": "nRYzNzCQDKax",
      "execution_count": 14,
      "outputs": []
    },
    {
      "cell_type": "code",
      "source": [
        "print(\"src: \",src_sequences)\n",
        "print(\"tgt: \",tgt_sequence)"
      ],
      "metadata": {
        "id": "7DyyiDM4DZJa",
        "outputId": "4bff704a-f908-4db3-9a3a-7b19604e2822",
        "colab": {
          "base_uri": "https://localhost:8080/"
        }
      },
      "id": "7DyyiDM4DZJa",
      "execution_count": 15,
      "outputs": [
        {
          "output_type": "stream",
          "name": "stdout",
          "text": [
            "src:  ['had', 'to', 'see', 'this', 'for', 'myself', '.', 'the', 'plot', 'is']\n",
            "tgt:  ['to', 'see', 'this', 'for', 'myself', '.', 'the', 'plot', 'is', 'centered']\n"
          ]
        }
      ]
    },
    {
      "cell_type": "code",
      "source": [
        "# Initialize empty lists to store source and target sequences\n",
        "src_batch, tgt_batch = [], []\n",
        "\n",
        "# Define the batch size\n",
        "BATCH_SIZE = 2\n",
        "\n",
        "# Loop to create batches of source and target sequences\n",
        "for i in range(BATCH_SIZE):\n",
        "    # Retrieve the next data point from the training iterator\n",
        "    _,text = next(iter(train_iter))\n",
        "\n",
        "    # Generate source and target sequences using the get_sample function\n",
        "    src_sequence_text, tgt_sequence_text = get_sample(block_size, tokenizer(text))\n",
        "\n",
        "    # Convert source and target sequences to tokenized vocabulary indices\n",
        "    src_sequence_indices = vocab(src_sequence_text)\n",
        "    tgt_sequence_indices = vocab(tgt_sequence_text)\n",
        "\n",
        "    # Convert the sequences to PyTorch tensors with dtype int64\n",
        "    src_sequence = torch.tensor(src_sequence_indices, dtype=torch.int64)\n",
        "    tgt_sequence = torch.tensor(tgt_sequence_indices, dtype=torch.int64)\n",
        "\n",
        "    # Append the source and target sequences to their respective batches\n",
        "    src_batch.append(src_sequence)\n",
        "    tgt_batch.append(tgt_sequence)\n",
        "\n",
        "    # Print the output for every 2nd sample (adjust as needed)\n",
        "    print(f\"Sample {i}:\")\n",
        "    print(\"Source Sequence (Text):\", src_sequence_text)\n",
        "    print(\"Source Sequence (Indices):\", src_sequence_indices)\n",
        "    print(\"Source Sequence (Shape):\", src_sequence.shape)\n",
        "    print(\"Target Sequence (Text):\", tgt_sequence_text)\n",
        "    print(\"Target Sequence (Indices):\", tgt_sequence_indices)\n",
        "    print(\"Target Sequence (Shape):\", tgt_sequence.shape)"
      ],
      "metadata": {
        "id": "0oINQOoZDamD",
        "outputId": "32d5a49e-fcb3-4755-864b-068b147fef96",
        "colab": {
          "base_uri": "https://localhost:8080/"
        }
      },
      "id": "0oINQOoZDamD",
      "execution_count": 16,
      "outputs": [
        {
          "output_type": "stream",
          "name": "stdout",
          "text": [
            "Sample 0:\n",
            "Source Sequence (Text): ['the', 'fact', 'that', 'any', 'sex', 'shown', 'in', 'the', 'film', 'is']\n",
            "Source Sequence (Indices): [4, 198, 16, 93, 338, 693, 14, 4, 25, 11]\n",
            "Source Sequence (Shape): torch.Size([10])\n",
            "Target Sequence (Text): ['fact', 'that', 'any', 'sex', 'shown', 'in', 'the', 'film', 'is', 'shown']\n",
            "Target Sequence (Indices): [198, 16, 93, 338, 693, 14, 4, 25, 11, 693]\n",
            "Target Sequence (Shape): torch.Size([10])\n",
            "Sample 1:\n",
            "Source Sequence (Text): ['politicians', 'and', 'ordinary', 'denizens', 'of', 'stockholm', 'about', 'their', 'opinions', 'on']\n",
            "Source Sequence (Indices): [7457, 7, 2318, 29828, 9, 16111, 52, 80, 4554, 28]\n",
            "Source Sequence (Shape): torch.Size([10])\n",
            "Target Sequence (Text): ['and', 'ordinary', 'denizens', 'of', 'stockholm', 'about', 'their', 'opinions', 'on', 'politics']\n",
            "Target Sequence (Indices): [7, 2318, 29828, 9, 16111, 52, 80, 4554, 28, 2407]\n",
            "Target Sequence (Shape): torch.Size([10])\n"
          ]
        }
      ]
    },
    {
      "cell_type": "code",
      "source": [
        "from torch.nn.utils.rnn import pad_sequence\n",
        "\n",
        "BLOCK_SIZE=30\n",
        "def collate_batch(batch):\n",
        "    src_batch, tgt_batch = [], []\n",
        "    for _,_textt in batch:\n",
        "      src_sequence,tgt_sequence=get_sample(BLOCK_SIZE,tokenizer(_textt))\n",
        "      src_sequence=vocab(src_sequence)\n",
        "      tgt_sequence=vocab(tgt_sequence)\n",
        "      src_sequence= torch.tensor(src_sequence, dtype=torch.int64)\n",
        "      tgt_sequence = torch.tensor(tgt_sequence, dtype=torch.int64)\n",
        "      src_batch.append(src_sequence)\n",
        "      tgt_batch.append(tgt_sequence)\n",
        "\n",
        "\n",
        "    src_batch = pad_sequence(src_batch, padding_value=PAD_IDX, batch_first=False)\n",
        "    tgt_batch = pad_sequence(tgt_batch, padding_value=PAD_IDX, batch_first=False)\n",
        "\n",
        "    return src_batch.to(DEVICE), tgt_batch.to(DEVICE)"
      ],
      "metadata": {
        "id": "7VtAjlpxDj3m"
      },
      "id": "7VtAjlpxDj3m",
      "execution_count": 18,
      "outputs": []
    },
    {
      "cell_type": "code",
      "source": [
        "from torch.utils.data import DataLoader\n",
        "\n",
        "BATCH_SIZE=1\n",
        "dataloader = DataLoader(train_iter, batch_size=BATCH_SIZE, shuffle=True, collate_fn=collate_batch)\n",
        "val_dataloader= DataLoader(val_iter , batch_size=BATCH_SIZE, shuffle=True, collate_fn=collate_batch)"
      ],
      "metadata": {
        "id": "t1I4yiq5EBOD"
      },
      "id": "t1I4yiq5EBOD",
      "execution_count": 20,
      "outputs": []
    },
    {
      "cell_type": "markdown",
      "source": [
        "### Iterating through data samples"
      ],
      "metadata": {
        "id": "DDSUa9WrEPpW"
      },
      "id": "DDSUa9WrEPpW"
    },
    {
      "cell_type": "code",
      "source": [],
      "metadata": {
        "id": "qViP1Y62EHrS"
      },
      "id": "qViP1Y62EHrS",
      "execution_count": null,
      "outputs": []
    }
  ],
  "metadata": {
    "kernelspec": {
      "display_name": "Python 3",
      "language": "python",
      "name": "python3"
    },
    "language_info": {
      "codemirror_mode": {
        "name": "ipython",
        "version": 3
      },
      "file_extension": ".py",
      "mimetype": "text/x-python",
      "name": "python",
      "nbconvert_exporter": "python",
      "pygments_lexer": "ipython3",
      "version": "3.9.6"
    },
    "colab": {
      "provenance": [],
      "include_colab_link": true
    }
  },
  "nbformat": 4,
  "nbformat_minor": 5
}